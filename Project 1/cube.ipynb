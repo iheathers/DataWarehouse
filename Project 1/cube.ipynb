{
 "cells": [
  {
   "cell_type": "markdown",
   "id": "8ca6798e-2782-41e2-b4b3-a89fa82e2347",
   "metadata": {},
   "source": [
    "# Cube and Data Warehouse"
   ]
  },
  {
   "cell_type": "code",
   "execution_count": 1,
   "id": "5c139b0f-91f7-43d5-b7d0-a69bd2f009ad",
   "metadata": {},
   "outputs": [
    {
     "name": "stdout",
     "output_type": "stream",
     "text": [
      "Welcome to Atoti 0.8.10!\n",
      "\n",
      "By using this community edition, you agree with the license available at https://docs.atoti.io/latest/eula.html.\n",
      "Browse the official documentation at https://docs.atoti.io.\n",
      "Join the community at https://www.atoti.io/register.\n",
      "\n",
      "Atoti collects telemetry data, which is used to help understand how to improve the product.\n",
      "If you don't wish to send usage data, you can request a trial license at https://www.atoti.io/evaluation-license-request.\n",
      "\n",
      "You can hide this message by setting the `ATOTI_HIDE_EULA_MESSAGE` environment variable to True.\n"
     ]
    }
   ],
   "source": [
    "import atoti as tt"
   ]
  },
  {
   "cell_type": "code",
   "execution_count": null,
   "id": "755960dd-bbe9-4de2-82a3-0a4ec69f7cf1",
   "metadata": {},
   "outputs": [],
   "source": [
    "session = tt.Session(\n",
    "    user_content_storage=\".content\",\n",
    "    port=9092,\n",
    "    java_options=[\"-Xms1G\", \"-Xmx10G\"]\n",
    ")"
   ]
  },
  {
   "cell_type": "code",
   "execution_count": null,
   "id": "b4a4d8db-698d-4db1-be8b-9c3f1e1a102f",
   "metadata": {},
   "outputs": [],
   "source": [
    "db_name = \"olympic_olap\"\n",
    "db_user = \"postgres\"\n",
    "db_password = \"postgres\"  # Update with your password\n",
    "db_host = \"pgdb\"  # Update if your DB is hosted elsewhere\n",
    "db_port = \"5432\"\n",
    "\n",
    "jdbc_url = f\"jdbc:postgresql://{db_host}:{db_port}/{db_name}?user={db_user}&password={db_password}\""
   ]
  },
  {
   "cell_type": "code",
   "execution_count": null,
   "id": "7edeb95a-4734-4db5-a611-d182418951b2",
   "metadata": {},
   "outputs": [],
   "source": [
    "olympic_medals_measures = session.read_sql(\n",
    "    \"SELECT * FROM factolympicmedalsmeasures\",\n",
    "    table_name=\"FactOlympicMedalsMeasures\",\n",
    "    url=jdbc_url,\n",
    ")"
   ]
  },
  {
   "cell_type": "code",
   "execution_count": null,
   "id": "691552b9-5827-46c9-8955-69726d3f6979",
   "metadata": {},
   "outputs": [],
   "source": [
    "dimlocation_table = session.read_sql(\n",
    "    \"SELECT * FROM DimLocation\",\n",
    "    keys=[\"country_code\"],\n",
    "    table_name=\"DimLocation\",\n",
    "    url=jdbc_url)"
   ]
  },
  {
   "cell_type": "code",
   "execution_count": null,
   "id": "9241f531-a0d2-4ad1-be28-63f346f92252",
   "metadata": {},
   "outputs": [],
   "source": [
    "dimevent_table = session.read_sql(\n",
    "    \"SELECT * FROM DimEvent\",\n",
    "    keys=[\"event_id\"],\n",
    "    table_name=\"DimEvent\",\n",
    "    url=jdbc_url,\n",
    ")"
   ]
  },
  {
   "cell_type": "code",
   "execution_count": null,
   "id": "17be0164-9c62-447c-8ec3-8c7e1bd914f8",
   "metadata": {},
   "outputs": [],
   "source": [
    "dimparticipant_table = session.read_sql(\n",
    "    \"SELECT * FROM DimParticipant\",\n",
    "    keys=[\"participant_id\"],\n",
    "    table_name=\"DimParticipant\",\n",
    "    url=jdbc_url,\n",
    ")"
   ]
  },
  {
   "cell_type": "code",
   "execution_count": null,
   "id": "247bd836-b11d-407b-8df2-bf5d4af7d3b5",
   "metadata": {},
   "outputs": [],
   "source": [
    "dimathlete_table = session.read_sql(\n",
    "    \"SELECT * FROM DimAthlete\",\n",
    "    keys=[\"athlete_id\"],\n",
    "    table_name=\"DimAthelete\",\n",
    "    url=jdbc_url,\n",
    ")"
   ]
  },
  {
   "cell_type": "code",
   "execution_count": null,
   "id": "b8d1ee8a-cbc4-47d1-adae-64ae91006b3d",
   "metadata": {},
   "outputs": [],
   "source": [
    "dimyear_table = session.read_sql(\n",
    "    \"SELECT * FROM DimYear\",\n",
    "    keys=[\"year\"],\n",
    "    table_name=\"DimYear\",\n",
    "    url=jdbc_url,\n",
    ")"
   ]
  },
  {
   "cell_type": "code",
   "execution_count": null,
   "id": "e2e2d0d3-a67f-41eb-a3cf-3593b60646e4",
   "metadata": {},
   "outputs": [],
   "source": [
    "dimgame_table = session.read_sql(\n",
    "    \"SELECT * FROM DimGame\",\n",
    "    keys=[\"game_slug\"],\n",
    "    table_name=\"DimGame\",\n",
    "    url=jdbc_url,\n",
    ")"
   ]
  },
  {
   "cell_type": "code",
   "execution_count": null,
   "id": "9a88ad1b-54c0-46d7-a949-e796b9009cff",
   "metadata": {},
   "outputs": [],
   "source": []
  },
  {
   "cell_type": "code",
   "execution_count": null,
   "id": "076955a6-ff36-4a56-a7fb-e3259b2b864e",
   "metadata": {},
   "outputs": [],
   "source": []
  },
  {
   "cell_type": "code",
   "execution_count": null,
   "id": "2100f32f-a959-4434-b2d9-319062f5948d",
   "metadata": {},
   "outputs": [],
   "source": []
  },
  {
   "cell_type": "code",
   "execution_count": null,
   "id": "4b2a7d3b-c699-4a08-973e-842b13794ce3",
   "metadata": {},
   "outputs": [],
   "source": []
  },
  {
   "cell_type": "code",
   "execution_count": null,
   "id": "2e0d1be2-2d24-4b5c-9da5-b0f9ecaa7bc0",
   "metadata": {},
   "outputs": [],
   "source": []
  },
  {
   "cell_type": "code",
   "execution_count": null,
   "id": "814f0419-a085-47d5-8b91-a871438ce37b",
   "metadata": {},
   "outputs": [],
   "source": []
  },
  {
   "cell_type": "code",
   "execution_count": null,
   "id": "d8b6374f-f5a0-4513-b80f-84ff2833dab6",
   "metadata": {},
   "outputs": [],
   "source": []
  },
  {
   "cell_type": "code",
   "execution_count": null,
   "id": "6753c45c-9916-4f14-b976-7a6795f9b83e",
   "metadata": {},
   "outputs": [],
   "source": []
  },
  {
   "cell_type": "code",
   "execution_count": null,
   "id": "19a41b10-144b-43f7-b795-20744df61280",
   "metadata": {},
   "outputs": [],
   "source": []
  },
  {
   "cell_type": "code",
   "execution_count": null,
   "id": "e0dfdc9a-ab89-47b4-9264-29f979749748",
   "metadata": {},
   "outputs": [],
   "source": []
  },
  {
   "cell_type": "code",
   "execution_count": null,
   "id": "ec5f7d76-9bff-4702-8ea0-e75d6e995130",
   "metadata": {},
   "outputs": [],
   "source": []
  }
 ],
 "metadata": {
  "kernelspec": {
   "display_name": "Python 3 (ipykernel)",
   "language": "python",
   "name": "python3"
  },
  "language_info": {
   "codemirror_mode": {
    "name": "ipython",
    "version": 3
   },
   "file_extension": ".py",
   "mimetype": "text/x-python",
   "name": "python",
   "nbconvert_exporter": "python",
   "pygments_lexer": "ipython3",
   "version": "3.11.6"
  }
 },
 "nbformat": 4,
 "nbformat_minor": 5
}
