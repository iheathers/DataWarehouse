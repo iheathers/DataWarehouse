{
 "cells": [
  {
   "cell_type": "markdown",
   "id": "8ca6798e-2782-41e2-b4b3-a89fa82e2347",
   "metadata": {},
   "source": [
    "# Cube and Data Warehouse"
   ]
  },
  {
   "cell_type": "code",
   "execution_count": 23,
   "id": "5c139b0f-91f7-43d5-b7d0-a69bd2f009ad",
   "metadata": {},
   "outputs": [],
   "source": [
    "import atoti as tt"
   ]
  },
  {
   "cell_type": "code",
   "execution_count": 24,
   "id": "755960dd-bbe9-4de2-82a3-0a4ec69f7cf1",
   "metadata": {},
   "outputs": [
    {
     "name": "stderr",
     "output_type": "stream",
     "text": [
      "Closing existing \"Unnamed\" session to create the new one.\n"
     ]
    }
   ],
   "source": [
    "session = tt.Session(\n",
    "    user_content_storage=\".content\",\n",
    "    port=9092,\n",
    "    java_options=[\"-Xms1G\", \"-Xmx10G\"]\n",
    ")"
   ]
  },
  {
   "cell_type": "code",
   "execution_count": 25,
   "id": "b4a4d8db-698d-4db1-be8b-9c3f1e1a102f",
   "metadata": {},
   "outputs": [],
   "source": [
    "db_name = \"olympic_olap\"\n",
    "db_user = \"postgres\"\n",
    "db_password = \"postgres\"  # Update with your password\n",
    "db_host = \"pgdb\"  # Update if your DB is hosted elsewhere\n",
    "db_port = \"5432\"\n",
    "\n",
    "jdbc_url = f\"jdbc:postgresql://{db_host}:{db_port}/{db_name}?user={db_user}&password={db_password}\""
   ]
  },
  {
   "cell_type": "code",
   "execution_count": 26,
   "id": "7edeb95a-4734-4db5-a611-d182418951b2",
   "metadata": {},
   "outputs": [],
   "source": [
    "olympic_medals_measures = session.read_sql(\n",
    "    \"SELECT * FROM factolympicmedalsmeasures\",\n",
    "    table_name=\"FactOlympicMedalsMeasures\",\n",
    "    url=jdbc_url,\n",
    ")"
   ]
  },
  {
   "cell_type": "code",
   "execution_count": 27,
   "id": "691552b9-5827-46c9-8955-69726d3f6979",
   "metadata": {},
   "outputs": [],
   "source": [
    "dimlocation_table = session.read_sql(\n",
    "    \"SELECT * FROM DimLocation\",\n",
    "    keys=[\"country_code\"],\n",
    "    table_name=\"DimLocation\",\n",
    "    url=jdbc_url)"
   ]
  },
  {
   "cell_type": "code",
   "execution_count": 28,
   "id": "9241f531-a0d2-4ad1-be28-63f346f92252",
   "metadata": {},
   "outputs": [],
   "source": [
    "dimevent_table = session.read_sql(\n",
    "    \"SELECT * FROM DimEvent\",\n",
    "    keys=[\"event_id\"],\n",
    "    table_name=\"DimEvent\",\n",
    "    url=jdbc_url,\n",
    ")"
   ]
  },
  {
   "cell_type": "code",
   "execution_count": 29,
   "id": "17be0164-9c62-447c-8ec3-8c7e1bd914f8",
   "metadata": {},
   "outputs": [],
   "source": [
    "dimparticipant_table = session.read_sql(\n",
    "    \"SELECT * FROM DimParticipant\",\n",
    "    keys=[\"participant_id\"],\n",
    "    table_name=\"DimParticipant\",\n",
    "    url=jdbc_url,\n",
    ")"
   ]
  },
  {
   "cell_type": "code",
   "execution_count": 30,
   "id": "247bd836-b11d-407b-8df2-bf5d4af7d3b5",
   "metadata": {},
   "outputs": [],
   "source": [
    "dimathlete_table = session.read_sql(\n",
    "    \"SELECT * FROM DimAthlete\",\n",
    "    keys=[\"athlete_id\"],\n",
    "    table_name=\"DimAthelete\",\n",
    "    url=jdbc_url,\n",
    ")"
   ]
  },
  {
   "cell_type": "code",
   "execution_count": 31,
   "id": "b8d1ee8a-cbc4-47d1-adae-64ae91006b3d",
   "metadata": {},
   "outputs": [],
   "source": [
    "dimyear_table = session.read_sql(\n",
    "    \"SELECT * FROM DimYear\",\n",
    "    keys=[\"year\"],\n",
    "    table_name=\"DimYear\",\n",
    "    url=jdbc_url,\n",
    ")"
   ]
  },
  {
   "cell_type": "code",
   "execution_count": 32,
   "id": "e2e2d0d3-a67f-41eb-a3cf-3593b60646e4",
   "metadata": {},
   "outputs": [],
   "source": [
    "dimgame_table = session.read_sql(\n",
    "    \"SELECT * FROM DimGame\",\n",
    "    keys=[\"game_slug\"],\n",
    "    table_name=\"DimGame\",\n",
    "    url=jdbc_url,\n",
    ")"
   ]
  },
  {
   "cell_type": "code",
   "execution_count": 33,
   "id": "11be41c8-f9b9-431b-91c6-361c639e9aea",
   "metadata": {},
   "outputs": [],
   "source": [
    "olympic_medals_measures.join(dimlocation_table, olympic_medals_measures[\"country_code\"] == dimlocation_table[\"country_code\"])\n",
    "\n",
    "olympic_medals_measures.join(dimevent_table, olympic_medals_measures[\"event_id\"] == dimevent_table[\"event_id\"])\n",
    "\n",
    "olympic_medals_measures.join(dimparticipant_table, olympic_medals_measures[\"participant_id\"] == dimparticipant_table[\"participant_id\"])\n",
    "\n",
    "olympic_medals_measures.join(dimathlete_table, olympic_medals_measures[\"athlete_id\"] == dimathlete_table[\"athlete_id\"])\n",
    "\n",
    "olympic_medals_measures.join(dimyear_table, olympic_medals_measures[\"year\"] == dimyear_table[\"year\"])\n",
    "\n",
    "olympic_medals_measures.join(dimgame_table, olympic_medals_measures[\"game_slug\"] == dimgame_table[\"game_slug\"])"
   ]
  },
  {
   "cell_type": "code",
   "execution_count": 34,
   "id": "d8b6374f-f5a0-4513-b80f-84ff2833dab6",
   "metadata": {},
   "outputs": [],
   "source": [
    "health_measures  = session.read_sql(\n",
    "    \"SELECT * FROM facthealthmeasure\",\n",
    "    table_name=\"FactHealthMeasure\",\n",
    "    url=jdbc_url,\n",
    ")\n",
    "\n"
   ]
  },
  {
   "cell_type": "code",
   "execution_count": 35,
   "id": "5973c9f1-0d50-4510-8ce6-cb43a50bfa35",
   "metadata": {},
   "outputs": [],
   "source": [
    "health_measures.join(dimlocation_table, health_measures[\"country_code\"] == dimlocation_table[\"country_code\"])"
   ]
  },
  {
   "cell_type": "code",
   "execution_count": 36,
   "id": "63012933-e9ce-4569-ae88-2ed428d5617d",
   "metadata": {},
   "outputs": [],
   "source": [
    "health_measures.join(dimyear_table, health_measures[\"year\"] == dimyear_table[\"year\"])"
   ]
  },
  {
   "cell_type": "code",
   "execution_count": 37,
   "id": "f7ee76cd-bda3-4e19-8277-28b45f33a48a",
   "metadata": {},
   "outputs": [],
   "source": [
    "economic_measures = session.read_sql(\n",
    "    \"SELECT * FROM facteconomicmeasure\",\n",
    "    table_name=\"FactEconomicMeasure\",\n",
    "    url=jdbc_url,\n",
    ")"
   ]
  },
  {
   "cell_type": "code",
   "execution_count": 38,
   "id": "413eccc1-fcc5-46b9-a79a-0ea074b75dfb",
   "metadata": {},
   "outputs": [],
   "source": [
    "economic_measures.join(dimyear_table, economic_measures[\"year\"] == dimyear_table[\"year\"])"
   ]
  },
  {
   "cell_type": "code",
   "execution_count": 39,
   "id": "8fe67254-27f9-446e-823e-aefada75ee60",
   "metadata": {},
   "outputs": [],
   "source": [
    "economic_measures.join(dimlocation_table, economic_measures[\"country_code\"] == dimlocation_table[\"country_code\"])"
   ]
  },
  {
   "cell_type": "code",
   "execution_count": null,
   "id": "b5c01889-b925-41c1-a0bf-20453d3ff18b",
   "metadata": {},
   "outputs": [],
   "source": []
  },
  {
   "cell_type": "code",
   "execution_count": 40,
   "id": "6753c45c-9916-4f14-b976-7a6795f9b83e",
   "metadata": {},
   "outputs": [
    {
     "data": {
      "text/markdown": [
       "```mermaid\n",
       "erDiagram\n",
       "  \"DimLocation\" {\n",
       "    _ String PK \"country_code\"\n",
       "    _ String \"country_name\"\n",
       "    _ String \"continent\"\n",
       "  }\n",
       "  \"FactHealthMeasure\" {\n",
       "    nullable int \"year\"\n",
       "    _ String \"country_code\"\n",
       "    nullable double \"daly_depression\"\n",
       "    nullable double \"daly_schizophrenia\"\n",
       "    nullable double \"daly_bipolar_disorder\"\n",
       "    nullable double \"daly_eating_disorder\"\n",
       "    nullable double \"daly_anxiety\"\n",
       "    nullable double \"life_expectancy\"\n",
       "    nullable double \"infant_mortality_rate\"\n",
       "    nullable double \"current_health_expenditure\"\n",
       "    nullable double \"government_health_expenditure\"\n",
       "    nullable double \"private_health_expenditure\"\n",
       "    nullable double \"external_health_expenditure\"\n",
       "  }\n",
       "  \"FactEconomicMeasure\" {\n",
       "    nullable int \"year\"\n",
       "    _ String \"country_code\"\n",
       "    nullable double \"poverty_count\"\n",
       "    nullable double \"gdp_per_capita\"\n",
       "    nullable double \"annual_gdp_growth\"\n",
       "    nullable int \"servers_count\"\n",
       "  }\n",
       "  \"DimEvent\" {\n",
       "    _ int PK \"event_id\"\n",
       "    _ String \"event_title\"\n",
       "    _ String \"event_discipline\"\n",
       "    _ String \"event_gender\"\n",
       "  }\n",
       "  \"DimParticipant\" {\n",
       "    _ int PK \"participant_id\"\n",
       "    _ String \"participant_title\"\n",
       "    _ String \"participant_type\"\n",
       "  }\n",
       "  \"DimAthelete\" {\n",
       "    _ int PK \"athlete_id\"\n",
       "    _ String \"athlete_name\"\n",
       "    _ String \"athlete_url\"\n",
       "  }\n",
       "  \"DimYear\" {\n",
       "    _ int PK \"year\"\n",
       "  }\n",
       "  \"DimGame\" {\n",
       "    _ String PK \"game_slug\"\n",
       "    _ String \"game_name\"\n",
       "    _ String \"game_season\"\n",
       "    nullable int \"game_year\"\n",
       "    _ String \"country_code\"\n",
       "  }\n",
       "  \"FactOlympicMedalsMeasures\" {\n",
       "    _ String \"game_slug\"\n",
       "    nullable int \"participant_id\"\n",
       "    nullable int \"athlete_id\"\n",
       "    nullable int \"event_id\"\n",
       "    _ String \"country_code\"\n",
       "    nullable int \"year\"\n",
       "    nullable int \"total_bronze_medals\"\n",
       "    nullable int \"total_silver_medals\"\n",
       "    nullable int \"total_gold_medals\"\n",
       "    nullable int \"total_medals\"\n",
       "  }\n",
       "  \"FactHealthMeasure\" }o--o| \"DimLocation\" : \"`country_code` == `country_code`\"\n",
       "  \"FactHealthMeasure\" }o--o| \"DimYear\" : \"`year` == `year`\"\n",
       "  \"FactEconomicMeasure\" }o--o| \"DimLocation\" : \"`country_code` == `country_code`\"\n",
       "  \"FactEconomicMeasure\" }o--o| \"DimYear\" : \"`year` == `year`\"\n",
       "  \"FactOlympicMedalsMeasures\" }o--o| \"DimGame\" : \"`game_slug` == `game_slug`\"\n",
       "  \"FactOlympicMedalsMeasures\" }o--o| \"DimLocation\" : \"`country_code` == `country_code`\"\n",
       "  \"FactOlympicMedalsMeasures\" }o--o| \"DimAthelete\" : \"`athlete_id` == `athlete_id`\"\n",
       "  \"FactOlympicMedalsMeasures\" }o--o| \"DimEvent\" : \"`event_id` == `event_id`\"\n",
       "  \"FactOlympicMedalsMeasures\" }o--o| \"DimYear\" : \"`year` == `year`\"\n",
       "  \"FactOlympicMedalsMeasures\" }o--o| \"DimParticipant\" : \"`participant_id` == `participant_id`\"\n",
       "```\n"
      ],
      "text/plain": [
       "erDiagram\n",
       "  \"DimLocation\" {\n",
       "    _ String PK \"country_code\"\n",
       "    _ String \"country_name\"\n",
       "    _ String \"continent\"\n",
       "  }\n",
       "  \"FactHealthMeasure\" {\n",
       "    nullable int \"year\"\n",
       "    _ String \"country_code\"\n",
       "    nullable double \"daly_depression\"\n",
       "    nullable double \"daly_schizophrenia\"\n",
       "    nullable double \"daly_bipolar_disorder\"\n",
       "    nullable double \"daly_eating_disorder\"\n",
       "    nullable double \"daly_anxiety\"\n",
       "    nullable double \"life_expectancy\"\n",
       "    nullable double \"infant_mortality_rate\"\n",
       "    nullable double \"current_health_expenditure\"\n",
       "    nullable double \"government_health_expenditure\"\n",
       "    nullable double \"private_health_expenditure\"\n",
       "    nullable double \"external_health_expenditure\"\n",
       "  }\n",
       "  \"FactEconomicMeasure\" {\n",
       "    nullable int \"year\"\n",
       "    _ String \"country_code\"\n",
       "    nullable double \"poverty_count\"\n",
       "    nullable double \"gdp_per_capita\"\n",
       "    nullable double \"annual_gdp_growth\"\n",
       "    nullable int \"servers_count\"\n",
       "  }\n",
       "  \"DimEvent\" {\n",
       "    _ int PK \"event_id\"\n",
       "    _ String \"event_title\"\n",
       "    _ String \"event_discipline\"\n",
       "    _ String \"event_gender\"\n",
       "  }\n",
       "  \"DimParticipant\" {\n",
       "    _ int PK \"participant_id\"\n",
       "    _ String \"participant_title\"\n",
       "    _ String \"participant_type\"\n",
       "  }\n",
       "  \"DimAthelete\" {\n",
       "    _ int PK \"athlete_id\"\n",
       "    _ String \"athlete_name\"\n",
       "    _ String \"athlete_url\"\n",
       "  }\n",
       "  \"DimYear\" {\n",
       "    _ int PK \"year\"\n",
       "  }\n",
       "  \"DimGame\" {\n",
       "    _ String PK \"game_slug\"\n",
       "    _ String \"game_name\"\n",
       "    _ String \"game_season\"\n",
       "    nullable int \"game_year\"\n",
       "    _ String \"country_code\"\n",
       "  }\n",
       "  \"FactOlympicMedalsMeasures\" {\n",
       "    _ String \"game_slug\"\n",
       "    nullable int \"participant_id\"\n",
       "    nullable int \"athlete_id\"\n",
       "    nullable int \"event_id\"\n",
       "    _ String \"country_code\"\n",
       "    nullable int \"year\"\n",
       "    nullable int \"total_bronze_medals\"\n",
       "    nullable int \"total_silver_medals\"\n",
       "    nullable int \"total_gold_medals\"\n",
       "    nullable int \"total_medals\"\n",
       "  }\n",
       "  \"FactHealthMeasure\" }o--o| \"DimLocation\" : \"`country_code` == `country_code`\"\n",
       "  \"FactHealthMeasure\" }o--o| \"DimYear\" : \"`year` == `year`\"\n",
       "  \"FactEconomicMeasure\" }o--o| \"DimLocation\" : \"`country_code` == `country_code`\"\n",
       "  \"FactEconomicMeasure\" }o--o| \"DimYear\" : \"`year` == `year`\"\n",
       "  \"FactOlympicMedalsMeasures\" }o--o| \"DimGame\" : \"`game_slug` == `game_slug`\"\n",
       "  \"FactOlympicMedalsMeasures\" }o--o| \"DimLocation\" : \"`country_code` == `country_code`\"\n",
       "  \"FactOlympicMedalsMeasures\" }o--o| \"DimAthelete\" : \"`athlete_id` == `athlete_id`\"\n",
       "  \"FactOlympicMedalsMeasures\" }o--o| \"DimEvent\" : \"`event_id` == `event_id`\"\n",
       "  \"FactOlympicMedalsMeasures\" }o--o| \"DimYear\" : \"`year` == `year`\"\n",
       "  \"FactOlympicMedalsMeasures\" }o--o| \"DimParticipant\" : \"`participant_id` == `participant_id`\""
      ]
     },
     "execution_count": 40,
     "metadata": {},
     "output_type": "execute_result"
    }
   ],
   "source": [
    "session.tables.schema"
   ]
  },
  {
   "cell_type": "code",
   "execution_count": null,
   "id": "7260accb-36b4-4c03-8968-743088404b77",
   "metadata": {},
   "outputs": [],
   "source": []
  },
  {
   "cell_type": "code",
   "execution_count": null,
   "id": "aa5a4f83-f809-42ae-b480-cd5cf9fbd99b",
   "metadata": {},
   "outputs": [],
   "source": [
    "# # Define outer joins\n",
    "# # Test with a single join condition\n",
    "# olympic_medals_measures.join(health_measures, olympic_medals_measures[\"year\"] == health_measures[\"year\"])\n"
   ]
  },
  {
   "cell_type": "code",
   "execution_count": 18,
   "id": "19a41b10-144b-43f7-b795-20744df61280",
   "metadata": {},
   "outputs": [],
   "source": [
    "cube = session.create_cube(olympic_medals_measures)"
   ]
  },
  {
   "cell_type": "code",
   "execution_count": 19,
   "id": "e0dfdc9a-ab89-47b4-9264-29f979749748",
   "metadata": {},
   "outputs": [
    {
     "data": {
      "application/json": {
       "Dimensions": {
        "DimAthelete": {
         "athlete_name": [
          "athlete_name"
         ],
         "athlete_url": [
          "athlete_url"
         ]
        },
        "DimEvent": {
         "event_discipline": [
          "event_discipline"
         ],
         "event_gender": [
          "event_gender"
         ],
         "event_title": [
          "event_title"
         ]
        },
        "DimGame": {
         "country_code": [
          "country_code"
         ],
         "game_name": [
          "game_name"
         ],
         "game_season": [
          "game_season"
         ]
        },
        "DimLocation": {
         "continent": [
          "continent"
         ],
         "country_name": [
          "country_name"
         ]
        },
        "DimParticipant": {
         "participant_title": [
          "participant_title"
         ],
         "participant_type": [
          "participant_type"
         ]
        },
        "FactOlympicMedalsMeasures": {
         "country_code": [
          "country_code"
         ],
         "game_slug": [
          "game_slug"
         ]
        }
       },
       "Measures": {
        "athlete_id.MEAN": {
         "formatter": "DOUBLE[#,###.00]"
        },
        "athlete_id.SUM": {
         "formatter": "INT[#,###]"
        },
        "contributors.COUNT": {
         "formatter": "INT[#,###]"
        },
        "event_id.MEAN": {
         "formatter": "DOUBLE[#,###.00]"
        },
        "event_id.SUM": {
         "formatter": "INT[#,###]"
        },
        "participant_id.MEAN": {
         "formatter": "DOUBLE[#,###.00]"
        },
        "participant_id.SUM": {
         "formatter": "INT[#,###]"
        },
        "total_bronze_medals.MEAN": {
         "formatter": "DOUBLE[#,###.00]"
        },
        "total_bronze_medals.SUM": {
         "formatter": "INT[#,###]"
        },
        "total_gold_medals.MEAN": {
         "formatter": "DOUBLE[#,###.00]"
        },
        "total_gold_medals.SUM": {
         "formatter": "INT[#,###]"
        },
        "total_medals.MEAN": {
         "formatter": "DOUBLE[#,###.00]"
        },
        "total_medals.SUM": {
         "formatter": "INT[#,###]"
        },
        "total_silver_medals.MEAN": {
         "formatter": "DOUBLE[#,###.00]"
        },
        "total_silver_medals.SUM": {
         "formatter": "INT[#,###]"
        },
        "year.MEAN": {
         "formatter": "DOUBLE[#,###.00]"
        },
        "year.SUM": {
         "formatter": "INT[#,###]"
        }
       }
      },
      "text/html": [
       "<ul>\n",
       "<li>FactOlympicMedalsMeasures\n",
       "  <ul>\n",
       "  <li>Dimensions\n",
       "    <ul>\n",
       "    <li>DimAthelete\n",
       "      <ul>\n",
       "      <li>athlete_name\n",
       "        <ol>\n",
       "        <li>athlete_name</li>\n",
       "        </ol>      </li>\n",
       "      <li>athlete_url\n",
       "        <ol>\n",
       "        <li>athlete_url</li>\n",
       "        </ol>      </li>\n",
       "      </ul>\n",
       "    </li>\n",
       "    <li>DimEvent\n",
       "      <ul>\n",
       "      <li>event_discipline\n",
       "        <ol>\n",
       "        <li>event_discipline</li>\n",
       "        </ol>      </li>\n",
       "      <li>event_gender\n",
       "        <ol>\n",
       "        <li>event_gender</li>\n",
       "        </ol>      </li>\n",
       "      <li>event_title\n",
       "        <ol>\n",
       "        <li>event_title</li>\n",
       "        </ol>      </li>\n",
       "      </ul>\n",
       "    </li>\n",
       "    <li>DimGame\n",
       "      <ul>\n",
       "      <li>country_code\n",
       "        <ol>\n",
       "        <li>country_code</li>\n",
       "        </ol>      </li>\n",
       "      <li>game_name\n",
       "        <ol>\n",
       "        <li>game_name</li>\n",
       "        </ol>      </li>\n",
       "      <li>game_season\n",
       "        <ol>\n",
       "        <li>game_season</li>\n",
       "        </ol>      </li>\n",
       "      </ul>\n",
       "    </li>\n",
       "    <li>DimLocation\n",
       "      <ul>\n",
       "      <li>continent\n",
       "        <ol>\n",
       "        <li>continent</li>\n",
       "        </ol>      </li>\n",
       "      <li>country_name\n",
       "        <ol>\n",
       "        <li>country_name</li>\n",
       "        </ol>      </li>\n",
       "      </ul>\n",
       "    </li>\n",
       "    <li>DimParticipant\n",
       "      <ul>\n",
       "      <li>participant_title\n",
       "        <ol>\n",
       "        <li>participant_title</li>\n",
       "        </ol>      </li>\n",
       "      <li>participant_type\n",
       "        <ol>\n",
       "        <li>participant_type</li>\n",
       "        </ol>      </li>\n",
       "      </ul>\n",
       "    </li>\n",
       "    <li>FactOlympicMedalsMeasures\n",
       "      <ul>\n",
       "      <li>country_code\n",
       "        <ol>\n",
       "        <li>country_code</li>\n",
       "        </ol>      </li>\n",
       "      <li>game_slug\n",
       "        <ol>\n",
       "        <li>game_slug</li>\n",
       "        </ol>      </li>\n",
       "      </ul>\n",
       "    </li>\n",
       "    </ul>\n",
       "  </li>\n",
       "  <li>Measures\n",
       "    <ul>\n",
       "    <li>athlete_id.MEAN\n",
       "      <ul>\n",
       "      <li>formatter: DOUBLE[#,###.00]</li>\n",
       "      </ul>\n",
       "    </li>\n",
       "    <li>athlete_id.SUM\n",
       "      <ul>\n",
       "      <li>formatter: INT[#,###]</li>\n",
       "      </ul>\n",
       "    </li>\n",
       "    <li>contributors.COUNT\n",
       "      <ul>\n",
       "      <li>formatter: INT[#,###]</li>\n",
       "      </ul>\n",
       "    </li>\n",
       "    <li>event_id.MEAN\n",
       "      <ul>\n",
       "      <li>formatter: DOUBLE[#,###.00]</li>\n",
       "      </ul>\n",
       "    </li>\n",
       "    <li>event_id.SUM\n",
       "      <ul>\n",
       "      <li>formatter: INT[#,###]</li>\n",
       "      </ul>\n",
       "    </li>\n",
       "    <li>participant_id.MEAN\n",
       "      <ul>\n",
       "      <li>formatter: DOUBLE[#,###.00]</li>\n",
       "      </ul>\n",
       "    </li>\n",
       "    <li>participant_id.SUM\n",
       "      <ul>\n",
       "      <li>formatter: INT[#,###]</li>\n",
       "      </ul>\n",
       "    </li>\n",
       "    <li>total_bronze_medals.MEAN\n",
       "      <ul>\n",
       "      <li>formatter: DOUBLE[#,###.00]</li>\n",
       "      </ul>\n",
       "    </li>\n",
       "    <li>total_bronze_medals.SUM\n",
       "      <ul>\n",
       "      <li>formatter: INT[#,###]</li>\n",
       "      </ul>\n",
       "    </li>\n",
       "    <li>total_gold_medals.MEAN\n",
       "      <ul>\n",
       "      <li>formatter: DOUBLE[#,###.00]</li>\n",
       "      </ul>\n",
       "    </li>\n",
       "    <li>total_gold_medals.SUM\n",
       "      <ul>\n",
       "      <li>formatter: INT[#,###]</li>\n",
       "      </ul>\n",
       "    </li>\n",
       "    <li>total_medals.MEAN\n",
       "      <ul>\n",
       "      <li>formatter: DOUBLE[#,###.00]</li>\n",
       "      </ul>\n",
       "    </li>\n",
       "    <li>total_medals.SUM\n",
       "      <ul>\n",
       "      <li>formatter: INT[#,###]</li>\n",
       "      </ul>\n",
       "    </li>\n",
       "    <li>total_silver_medals.MEAN\n",
       "      <ul>\n",
       "      <li>formatter: DOUBLE[#,###.00]</li>\n",
       "      </ul>\n",
       "    </li>\n",
       "    <li>total_silver_medals.SUM\n",
       "      <ul>\n",
       "      <li>formatter: INT[#,###]</li>\n",
       "      </ul>\n",
       "    </li>\n",
       "    <li>year.MEAN\n",
       "      <ul>\n",
       "      <li>formatter: DOUBLE[#,###.00]</li>\n",
       "      </ul>\n",
       "    </li>\n",
       "    <li>year.SUM\n",
       "      <ul>\n",
       "      <li>formatter: INT[#,###]</li>\n",
       "      </ul>\n",
       "    </li>\n",
       "    </ul>\n",
       "  </li>\n",
       "  </ul>\n",
       "</li>\n",
       "</ul>\n"
      ],
      "text/plain": [
       "<atoti.cube.Cube at 0x7fffb0488590>"
      ]
     },
     "execution_count": 19,
     "metadata": {
      "application/json": {
       "expanded": false,
       "root": "FactOlympicMedalsMeasures"
      }
     },
     "output_type": "execute_result"
    }
   ],
   "source": [
    "cube"
   ]
  },
  {
   "cell_type": "code",
   "execution_count": 20,
   "id": "ec5f7d76-9bff-4702-8ea0-e75d6e995130",
   "metadata": {},
   "outputs": [],
   "source": [
    "hierarchies, levels, measures = cube.hierarchies, cube.levels, cube.measures"
   ]
  },
  {
   "cell_type": "code",
   "execution_count": 21,
   "id": "cb59b62e-7ec4-481f-a631-31745ca65397",
   "metadata": {},
   "outputs": [
    {
     "data": {
      "application/json": {
       "athlete_name (DimAthelete/athlete_name/athlete_name)": {
        "dimension": "DimAthelete",
        "hierarchy": "athlete_name",
        "order": "NaturalOrder",
        "type": "String"
       },
       "athlete_url (DimAthelete/athlete_url/athlete_url)": {
        "dimension": "DimAthelete",
        "hierarchy": "athlete_url",
        "order": "NaturalOrder",
        "type": "String"
       },
       "continent (DimLocation/continent/continent)": {
        "dimension": "DimLocation",
        "hierarchy": "continent",
        "order": "NaturalOrder",
        "type": "String"
       },
       "country_code (DimGame/country_code/country_code)": {
        "dimension": "DimGame",
        "hierarchy": "country_code",
        "order": "NaturalOrder",
        "type": "String"
       },
       "country_code (FactOlympicMedalsMeasures/country_code/country_code)": {
        "dimension": "FactOlympicMedalsMeasures",
        "hierarchy": "country_code",
        "order": "NaturalOrder",
        "type": "String"
       },
       "country_name (DimLocation/country_name/country_name)": {
        "dimension": "DimLocation",
        "hierarchy": "country_name",
        "order": "NaturalOrder",
        "type": "String"
       },
       "event_discipline (DimEvent/event_discipline/event_discipline)": {
        "dimension": "DimEvent",
        "hierarchy": "event_discipline",
        "order": "NaturalOrder",
        "type": "String"
       },
       "event_gender (DimEvent/event_gender/event_gender)": {
        "dimension": "DimEvent",
        "hierarchy": "event_gender",
        "order": "NaturalOrder",
        "type": "String"
       },
       "event_title (DimEvent/event_title/event_title)": {
        "dimension": "DimEvent",
        "hierarchy": "event_title",
        "order": "NaturalOrder",
        "type": "String"
       },
       "game_name (DimGame/game_name/game_name)": {
        "dimension": "DimGame",
        "hierarchy": "game_name",
        "order": "NaturalOrder",
        "type": "String"
       },
       "game_season (DimGame/game_season/game_season)": {
        "dimension": "DimGame",
        "hierarchy": "game_season",
        "order": "NaturalOrder",
        "type": "String"
       },
       "game_slug (FactOlympicMedalsMeasures/game_slug/game_slug)": {
        "dimension": "FactOlympicMedalsMeasures",
        "hierarchy": "game_slug",
        "order": "NaturalOrder",
        "type": "String"
       },
       "participant_title (DimParticipant/participant_title/participant_title)": {
        "dimension": "DimParticipant",
        "hierarchy": "participant_title",
        "order": "NaturalOrder",
        "type": "String"
       },
       "participant_type (DimParticipant/participant_type/participant_type)": {
        "dimension": "DimParticipant",
        "hierarchy": "participant_type",
        "order": "NaturalOrder",
        "type": "String"
       }
      },
      "text/html": [
       "<ul>\n",
       "<li>Levels\n",
       "  <ul>\n",
       "  <li>athlete_name (DimAthelete/athlete_name/athlete_name)\n",
       "    <ul>\n",
       "    <li>dimension: DimAthelete</li>\n",
       "    <li>hierarchy: athlete_name</li>\n",
       "    <li>type: String</li>\n",
       "    <li>order: NaturalOrder</li>\n",
       "    </ul>\n",
       "  </li>\n",
       "  <li>athlete_url (DimAthelete/athlete_url/athlete_url)\n",
       "    <ul>\n",
       "    <li>dimension: DimAthelete</li>\n",
       "    <li>hierarchy: athlete_url</li>\n",
       "    <li>type: String</li>\n",
       "    <li>order: NaturalOrder</li>\n",
       "    </ul>\n",
       "  </li>\n",
       "  <li>continent (DimLocation/continent/continent)\n",
       "    <ul>\n",
       "    <li>dimension: DimLocation</li>\n",
       "    <li>hierarchy: continent</li>\n",
       "    <li>type: String</li>\n",
       "    <li>order: NaturalOrder</li>\n",
       "    </ul>\n",
       "  </li>\n",
       "  <li>country_code (DimGame/country_code/country_code)\n",
       "    <ul>\n",
       "    <li>dimension: DimGame</li>\n",
       "    <li>hierarchy: country_code</li>\n",
       "    <li>type: String</li>\n",
       "    <li>order: NaturalOrder</li>\n",
       "    </ul>\n",
       "  </li>\n",
       "  <li>country_code (FactOlympicMedalsMeasures/country_code/country_code)\n",
       "    <ul>\n",
       "    <li>dimension: FactOlympicMedalsMeasures</li>\n",
       "    <li>hierarchy: country_code</li>\n",
       "    <li>type: String</li>\n",
       "    <li>order: NaturalOrder</li>\n",
       "    </ul>\n",
       "  </li>\n",
       "  <li>country_name (DimLocation/country_name/country_name)\n",
       "    <ul>\n",
       "    <li>dimension: DimLocation</li>\n",
       "    <li>hierarchy: country_name</li>\n",
       "    <li>type: String</li>\n",
       "    <li>order: NaturalOrder</li>\n",
       "    </ul>\n",
       "  </li>\n",
       "  <li>event_discipline (DimEvent/event_discipline/event_discipline)\n",
       "    <ul>\n",
       "    <li>dimension: DimEvent</li>\n",
       "    <li>hierarchy: event_discipline</li>\n",
       "    <li>type: String</li>\n",
       "    <li>order: NaturalOrder</li>\n",
       "    </ul>\n",
       "  </li>\n",
       "  <li>event_gender (DimEvent/event_gender/event_gender)\n",
       "    <ul>\n",
       "    <li>dimension: DimEvent</li>\n",
       "    <li>hierarchy: event_gender</li>\n",
       "    <li>type: String</li>\n",
       "    <li>order: NaturalOrder</li>\n",
       "    </ul>\n",
       "  </li>\n",
       "  <li>event_title (DimEvent/event_title/event_title)\n",
       "    <ul>\n",
       "    <li>dimension: DimEvent</li>\n",
       "    <li>hierarchy: event_title</li>\n",
       "    <li>type: String</li>\n",
       "    <li>order: NaturalOrder</li>\n",
       "    </ul>\n",
       "  </li>\n",
       "  <li>game_name (DimGame/game_name/game_name)\n",
       "    <ul>\n",
       "    <li>dimension: DimGame</li>\n",
       "    <li>hierarchy: game_name</li>\n",
       "    <li>type: String</li>\n",
       "    <li>order: NaturalOrder</li>\n",
       "    </ul>\n",
       "  </li>\n",
       "  <li>game_season (DimGame/game_season/game_season)\n",
       "    <ul>\n",
       "    <li>dimension: DimGame</li>\n",
       "    <li>hierarchy: game_season</li>\n",
       "    <li>type: String</li>\n",
       "    <li>order: NaturalOrder</li>\n",
       "    </ul>\n",
       "  </li>\n",
       "  <li>game_slug (FactOlympicMedalsMeasures/game_slug/game_slug)\n",
       "    <ul>\n",
       "    <li>dimension: FactOlympicMedalsMeasures</li>\n",
       "    <li>hierarchy: game_slug</li>\n",
       "    <li>type: String</li>\n",
       "    <li>order: NaturalOrder</li>\n",
       "    </ul>\n",
       "  </li>\n",
       "  <li>participant_title (DimParticipant/participant_title/participant_title)\n",
       "    <ul>\n",
       "    <li>dimension: DimParticipant</li>\n",
       "    <li>hierarchy: participant_title</li>\n",
       "    <li>type: String</li>\n",
       "    <li>order: NaturalOrder</li>\n",
       "    </ul>\n",
       "  </li>\n",
       "  <li>participant_type (DimParticipant/participant_type/participant_type)\n",
       "    <ul>\n",
       "    <li>dimension: DimParticipant</li>\n",
       "    <li>hierarchy: participant_type</li>\n",
       "    <li>type: String</li>\n",
       "    <li>order: NaturalOrder</li>\n",
       "    </ul>\n",
       "  </li>\n",
       "  </ul>\n",
       "</li>\n",
       "</ul>\n"
      ],
      "text/plain": [
       "<atoti.levels.Levels at 0x7fffb04b6410>"
      ]
     },
     "execution_count": 21,
     "metadata": {
      "application/json": {
       "expanded": true,
       "root": "Levels"
      }
     },
     "output_type": "execute_result"
    }
   ],
   "source": [
    "levels"
   ]
  },
  {
   "cell_type": "code",
   "execution_count": 22,
   "id": "12f6b5e1-994d-43f3-bc87-41641593fa96",
   "metadata": {},
   "outputs": [],
   "source": [
    "hierarchies[\"DimAthlete\"] = [levels[\"athlete_name\"]]"
   ]
  },
  {
   "cell_type": "code",
   "execution_count": 23,
   "id": "6eda4411-44ac-449f-be18-9f183f8f5147",
   "metadata": {},
   "outputs": [],
   "source": [
    "hierarchies[\"DimEvent\"] = [levels[\"event_title\"], levels[(\"DimEvent\", \"event_discipline\", \"event_discipline\")],\n",
    "                           levels[(\"DimEvent\", \"event_gender\", \"event_gender\")]]"
   ]
  }
 ],
 "metadata": {
  "kernelspec": {
   "display_name": "Python 3 (ipykernel)",
   "language": "python",
   "name": "python3"
  },
  "language_info": {
   "codemirror_mode": {
    "name": "ipython",
    "version": 3
   },
   "file_extension": ".py",
   "mimetype": "text/x-python",
   "name": "python",
   "nbconvert_exporter": "python",
   "pygments_lexer": "ipython3",
   "version": "3.11.6"
  }
 },
 "nbformat": 4,
 "nbformat_minor": 5
}
