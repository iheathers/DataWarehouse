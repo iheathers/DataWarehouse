{
 "cells": [
  {
   "cell_type": "code",
   "execution_count": null,
   "id": "891a1bba-796a-491f-9099-acf27da2fe19",
   "metadata": {},
   "outputs": [],
   "source": []
  },
  {
   "cell_type": "markdown",
   "id": "270585c5-9ecf-4a2a-bdff-386f7406eab5",
   "metadata": {},
   "source": [
    "# Cube and Data Warehouse"
   ]
  },
  {
   "cell_type": "code",
   "execution_count": 1,
   "id": "755e11dc-66b9-419e-9727-fe3b6325f007",
   "metadata": {},
   "outputs": [
    {
     "name": "stdout",
     "output_type": "stream",
     "text": [
      "Welcome to Atoti 0.8.10!\n",
      "\n",
      "By using this community edition, you agree with the license available at https://docs.atoti.io/latest/eula.html.\n",
      "Browse the official documentation at https://docs.atoti.io.\n",
      "Join the community at https://www.atoti.io/register.\n",
      "\n",
      "Atoti collects telemetry data, which is used to help understand how to improve the product.\n",
      "If you don't wish to send usage data, you can request a trial license at https://www.atoti.io/evaluation-license-request.\n",
      "\n",
      "You can hide this message by setting the `ATOTI_HIDE_EULA_MESSAGE` environment variable to True.\n"
     ]
    }
   ],
   "source": [
    "import atoti as tt"
   ]
  },
  {
   "cell_type": "code",
   "execution_count": 2,
   "id": "db0c2927-6db8-408e-aa55-1d9e0fe5873b",
   "metadata": {},
   "outputs": [],
   "source": [
    "session = tt.Session(\n",
    "    user_content_storage=\".content\",\n",
    "    port=9092,\n",
    "    java_options=[\"-Xms1G\", \"-Xmx10G\"]\n",
    ")"
   ]
  },
  {
   "cell_type": "code",
   "execution_count": 3,
   "id": "97a65f25-0afe-4002-afcc-a5c099820bd1",
   "metadata": {},
   "outputs": [],
   "source": [
    "db_name = \"olympic_olap\"\n",
    "db_user = \"postgres\"\n",
    "db_password = \"postgres\"  \n",
    "db_host = \"pgdb\"  # Update if your DB is hosted elsewhere\n",
    "db_port = \"5432\"\n",
    "\n",
    "jdbc_url = f\"jdbc:postgresql://{db_host}:{db_port}/{db_name}?user={db_user}&password={db_password}\""
   ]
  },
  {
   "cell_type": "code",
   "execution_count": 4,
   "id": "84f4c800-f4eb-48ff-b692-08755ed0692c",
   "metadata": {},
   "outputs": [],
   "source": [
    "combined_fact_table = session.read_sql(\n",
    "    \"\"\"\n",
    "    SELECT\n",
    "        id,\n",
    "        game_slug,\n",
    "        participant_id,\n",
    "        athlete_id,\n",
    "        event_id,\n",
    "        country_code,\n",
    "        CAST(year AS CHAR(4)) AS year,  -- Casting year to string directly in SQL\n",
    "        total_bronze_medals,\n",
    "        total_silver_medals,\n",
    "        total_gold_medals,\n",
    "        total_medals,\n",
    "        poverty_count,\n",
    "        gdp_per_capita,\n",
    "        annual_gdp_growth,\n",
    "        servers_count,\n",
    "        daly_depression,\n",
    "        daly_schizophrenia,\n",
    "        daly_bipolar_disorder,\n",
    "        daly_eating_disorder,\n",
    "        daly_anxiety,\n",
    "        life_expectancy,\n",
    "        infant_mortality_rate,\n",
    "        current_health_expenditure,\n",
    "        government_health_expenditure,\n",
    "        private_health_expenditure,\n",
    "        external_health_expenditure\n",
    "    FROM combinedfacttable\n",
    "    \"\"\",\n",
    "    keys=[\"id\"],\n",
    "    table_name=\"CombinedFactTable\",\n",
    "    url=jdbc_url,\n",
    ")"
   ]
  },
  {
   "cell_type": "code",
   "execution_count": null,
   "id": "ee9e36bc-04c7-4e69-aced-8d2bea313d1f",
   "metadata": {},
   "outputs": [],
   "source": []
  },
  {
   "cell_type": "code",
   "execution_count": 5,
   "id": "3cc4ee22-2e5e-431b-af26-26a129df759f",
   "metadata": {},
   "outputs": [],
   "source": [
    "dimlocation_table = session.read_sql(\n",
    "    \"SELECT * FROM DimLocation\",\n",
    "    keys=[\"country_code\"],\n",
    "    table_name=\"DimLocation\",\n",
    "    url=jdbc_url)"
   ]
  },
  {
   "cell_type": "code",
   "execution_count": 6,
   "id": "88cd5780-bf57-4774-b743-e79bfa2b6cc9",
   "metadata": {},
   "outputs": [],
   "source": [
    "dimevent_table = session.read_sql(\n",
    "    \"SELECT * FROM DimEvent\",\n",
    "    keys=[\"event_id\"],\n",
    "    table_name=\"DimEvent\",\n",
    "    url=jdbc_url,\n",
    ")"
   ]
  },
  {
   "cell_type": "code",
   "execution_count": 7,
   "id": "c6eac93c-63e2-492a-b248-993e5f1a15b2",
   "metadata": {},
   "outputs": [],
   "source": [
    "dimparticipant_table = session.read_sql(\n",
    "    \"SELECT * FROM DimParticipant\",\n",
    "    keys=[\"participant_id\"],\n",
    "    table_name=\"DimParticipant\",\n",
    "    url=jdbc_url,\n",
    ")"
   ]
  },
  {
   "cell_type": "code",
   "execution_count": 8,
   "id": "f17b5d9c-faf4-4d0b-b737-ef888db222ba",
   "metadata": {},
   "outputs": [],
   "source": [
    "dimathlete_table = session.read_sql(\n",
    "    \"SELECT * FROM DimAthlete\",\n",
    "    keys=[\"athlete_id\"],\n",
    "    table_name=\"DimAthlete\",\n",
    "    url=jdbc_url,\n",
    ")"
   ]
  },
  {
   "cell_type": "code",
   "execution_count": 9,
   "id": "88bb73cf-d0b8-487e-a480-7c014a3585c6",
   "metadata": {},
   "outputs": [],
   "source": [
    "dimyear_table = session.read_sql(\n",
    "    \"SELECT CAST(year AS CHAR(4)) AS year FROM DimYear\",\n",
    "    keys=[\"year\"],\n",
    "    table_name=\"DimYear\",\n",
    "    url=jdbc_url,\n",
    ")"
   ]
  },
  {
   "cell_type": "code",
   "execution_count": 10,
   "id": "c63cedce-4eb1-4dfe-baf3-18dcbcad5c63",
   "metadata": {},
   "outputs": [],
   "source": [
    "dimgame_table = session.read_sql(\n",
    "    \"SELECT * FROM DimGame\",\n",
    "    keys=[\"game_slug\"],\n",
    "    table_name=\"DimGame\",\n",
    "    url=jdbc_url,\n",
    ")"
   ]
  },
  {
   "cell_type": "code",
   "execution_count": 11,
   "id": "240b5e58-1198-4496-bd8d-73192124a60d",
   "metadata": {},
   "outputs": [],
   "source": [
    "combined_fact_table.join(dimlocation_table, combined_fact_table[\"country_code\"] == dimlocation_table[\"country_code\"])\n",
    "\n",
    "combined_fact_table.join(dimevent_table, combined_fact_table[\"event_id\"] == dimevent_table[\"event_id\"])\n",
    "\n",
    "combined_fact_table.join(dimparticipant_table, combined_fact_table[\"participant_id\"] == dimparticipant_table[\"participant_id\"])\n",
    "\n",
    "combined_fact_table.join(dimathlete_table, combined_fact_table[\"athlete_id\"] == dimathlete_table[\"athlete_id\"])\n",
    "\n",
    "combined_fact_table.join(dimyear_table, combined_fact_table[\"year\"] == dimyear_table[\"year\"])\n",
    "\n",
    "combined_fact_table.join(dimgame_table, combined_fact_table[\"game_slug\"] == dimgame_table[\"game_slug\"])"
   ]
  },
  {
   "cell_type": "code",
   "execution_count": 12,
   "id": "9c5014da-d5bb-440e-b615-3f2c9fe94dd2",
   "metadata": {},
   "outputs": [
    {
     "data": {
      "application/json": {
       "default_value": "N/A",
       "key": false,
       "type": "String"
      },
      "text/html": [
       "<ul>\n",
       "<li>year\n",
       "  <ul>\n",
       "  <li>key: False</li>\n",
       "  <li>type: String</li>\n",
       "  <li>default_value: N/A</li>\n",
       "  </ul>\n",
       "</li>\n",
       "</ul>\n"
      ],
      "text/plain": [
       "<atoti.column.Column at 0x7fffb044b650>"
      ]
     },
     "execution_count": 12,
     "metadata": {
      "application/json": {
       "expanded": true,
       "root": "year"
      }
     },
     "output_type": "execute_result"
    }
   ],
   "source": [
    "combined_fact_table['year']"
   ]
  },
  {
   "cell_type": "code",
   "execution_count": 13,
   "id": "3fe72bf0-45da-4fe6-8138-12d78b874fe5",
   "metadata": {},
   "outputs": [
    {
     "data": {
      "text/markdown": [
       "```mermaid\n",
       "erDiagram\n",
       "  \"DimAthlete\" {\n",
       "    _ int PK \"athlete_id\"\n",
       "    _ String \"athlete_name\"\n",
       "    _ String \"athlete_url\"\n",
       "  }\n",
       "  \"DimLocation\" {\n",
       "    _ String PK \"country_code\"\n",
       "    _ String \"country_name\"\n",
       "    _ String \"continent\"\n",
       "  }\n",
       "  \"DimEvent\" {\n",
       "    _ int PK \"event_id\"\n",
       "    _ String \"event_title\"\n",
       "    _ String \"event_discipline\"\n",
       "    _ String \"event_gender\"\n",
       "  }\n",
       "  \"CombinedFactTable\" {\n",
       "    _ int PK \"id\"\n",
       "    _ String \"game_slug\"\n",
       "    nullable int \"participant_id\"\n",
       "    nullable int \"athlete_id\"\n",
       "    nullable int \"event_id\"\n",
       "    _ String \"country_code\"\n",
       "    _ String \"year\"\n",
       "    nullable int \"total_bronze_medals\"\n",
       "    nullable int \"total_silver_medals\"\n",
       "    nullable int \"total_gold_medals\"\n",
       "    nullable int \"total_medals\"\n",
       "    nullable double \"poverty_count\"\n",
       "    nullable double \"gdp_per_capita\"\n",
       "    nullable double \"annual_gdp_growth\"\n",
       "    nullable int \"servers_count\"\n",
       "    nullable double \"daly_depression\"\n",
       "    nullable double \"daly_schizophrenia\"\n",
       "    nullable double \"daly_bipolar_disorder\"\n",
       "    nullable double \"daly_eating_disorder\"\n",
       "    nullable double \"daly_anxiety\"\n",
       "    nullable double \"life_expectancy\"\n",
       "    nullable double \"infant_mortality_rate\"\n",
       "    nullable double \"current_health_expenditure\"\n",
       "    nullable double \"government_health_expenditure\"\n",
       "    nullable double \"private_health_expenditure\"\n",
       "    nullable double \"external_health_expenditure\"\n",
       "  }\n",
       "  \"DimParticipant\" {\n",
       "    _ int PK \"participant_id\"\n",
       "    _ String \"participant_title\"\n",
       "    _ String \"participant_type\"\n",
       "  }\n",
       "  \"DimYear\" {\n",
       "    _ String PK \"year\"\n",
       "  }\n",
       "  \"DimGame\" {\n",
       "    _ String PK \"game_slug\"\n",
       "    _ String \"game_name\"\n",
       "    _ String \"game_season\"\n",
       "    nullable int \"game_year\"\n",
       "    _ String \"country_code\"\n",
       "  }\n",
       "  \"CombinedFactTable\" }o--o| \"DimLocation\" : \"`country_code` == `country_code`\"\n",
       "  \"CombinedFactTable\" }o--o| \"DimGame\" : \"`game_slug` == `game_slug`\"\n",
       "  \"CombinedFactTable\" }o--o| \"DimParticipant\" : \"`participant_id` == `participant_id`\"\n",
       "  \"CombinedFactTable\" }o--o| \"DimYear\" : \"`year` == `year`\"\n",
       "  \"CombinedFactTable\" }o--o| \"DimAthlete\" : \"`athlete_id` == `athlete_id`\"\n",
       "  \"CombinedFactTable\" }o--o| \"DimEvent\" : \"`event_id` == `event_id`\"\n",
       "```\n"
      ],
      "text/plain": [
       "erDiagram\n",
       "  \"DimAthlete\" {\n",
       "    _ int PK \"athlete_id\"\n",
       "    _ String \"athlete_name\"\n",
       "    _ String \"athlete_url\"\n",
       "  }\n",
       "  \"DimLocation\" {\n",
       "    _ String PK \"country_code\"\n",
       "    _ String \"country_name\"\n",
       "    _ String \"continent\"\n",
       "  }\n",
       "  \"DimEvent\" {\n",
       "    _ int PK \"event_id\"\n",
       "    _ String \"event_title\"\n",
       "    _ String \"event_discipline\"\n",
       "    _ String \"event_gender\"\n",
       "  }\n",
       "  \"CombinedFactTable\" {\n",
       "    _ int PK \"id\"\n",
       "    _ String \"game_slug\"\n",
       "    nullable int \"participant_id\"\n",
       "    nullable int \"athlete_id\"\n",
       "    nullable int \"event_id\"\n",
       "    _ String \"country_code\"\n",
       "    _ String \"year\"\n",
       "    nullable int \"total_bronze_medals\"\n",
       "    nullable int \"total_silver_medals\"\n",
       "    nullable int \"total_gold_medals\"\n",
       "    nullable int \"total_medals\"\n",
       "    nullable double \"poverty_count\"\n",
       "    nullable double \"gdp_per_capita\"\n",
       "    nullable double \"annual_gdp_growth\"\n",
       "    nullable int \"servers_count\"\n",
       "    nullable double \"daly_depression\"\n",
       "    nullable double \"daly_schizophrenia\"\n",
       "    nullable double \"daly_bipolar_disorder\"\n",
       "    nullable double \"daly_eating_disorder\"\n",
       "    nullable double \"daly_anxiety\"\n",
       "    nullable double \"life_expectancy\"\n",
       "    nullable double \"infant_mortality_rate\"\n",
       "    nullable double \"current_health_expenditure\"\n",
       "    nullable double \"government_health_expenditure\"\n",
       "    nullable double \"private_health_expenditure\"\n",
       "    nullable double \"external_health_expenditure\"\n",
       "  }\n",
       "  \"DimParticipant\" {\n",
       "    _ int PK \"participant_id\"\n",
       "    _ String \"participant_title\"\n",
       "    _ String \"participant_type\"\n",
       "  }\n",
       "  \"DimYear\" {\n",
       "    _ String PK \"year\"\n",
       "  }\n",
       "  \"DimGame\" {\n",
       "    _ String PK \"game_slug\"\n",
       "    _ String \"game_name\"\n",
       "    _ String \"game_season\"\n",
       "    nullable int \"game_year\"\n",
       "    _ String \"country_code\"\n",
       "  }\n",
       "  \"CombinedFactTable\" }o--o| \"DimLocation\" : \"`country_code` == `country_code`\"\n",
       "  \"CombinedFactTable\" }o--o| \"DimGame\" : \"`game_slug` == `game_slug`\"\n",
       "  \"CombinedFactTable\" }o--o| \"DimParticipant\" : \"`participant_id` == `participant_id`\"\n",
       "  \"CombinedFactTable\" }o--o| \"DimYear\" : \"`year` == `year`\"\n",
       "  \"CombinedFactTable\" }o--o| \"DimAthlete\" : \"`athlete_id` == `athlete_id`\"\n",
       "  \"CombinedFactTable\" }o--o| \"DimEvent\" : \"`event_id` == `event_id`\""
      ]
     },
     "execution_count": 13,
     "metadata": {},
     "output_type": "execute_result"
    }
   ],
   "source": [
    "session.tables.schema"
   ]
  },
  {
   "cell_type": "code",
   "execution_count": null,
   "id": "b8b62ec1-22bd-4b8d-b851-07d9770f2519",
   "metadata": {},
   "outputs": [],
   "source": []
  },
  {
   "cell_type": "code",
   "execution_count": 14,
   "id": "2c81cfa6-29e8-41b8-8f8c-11331e381787",
   "metadata": {},
   "outputs": [],
   "source": [
    "cube = session.create_cube(combined_fact_table)"
   ]
  },
  {
   "cell_type": "code",
   "execution_count": 15,
   "id": "dc050f18-a3b2-4710-b251-8508415fec3f",
   "metadata": {},
   "outputs": [
    {
     "data": {
      "application/json": {
       "Dimensions": {
        "CombinedFactTable": {
         "country_code": [
          "country_code"
         ],
         "game_slug": [
          "game_slug"
         ],
         "id": [
          "id"
         ],
         "year": [
          "year"
         ]
        },
        "DimAthlete": {
         "athlete_name": [
          "athlete_name"
         ],
         "athlete_url": [
          "athlete_url"
         ]
        },
        "DimEvent": {
         "event_discipline": [
          "event_discipline"
         ],
         "event_gender": [
          "event_gender"
         ],
         "event_title": [
          "event_title"
         ]
        },
        "DimGame": {
         "country_code": [
          "country_code"
         ],
         "game_name": [
          "game_name"
         ],
         "game_season": [
          "game_season"
         ]
        },
        "DimLocation": {
         "continent": [
          "continent"
         ],
         "country_name": [
          "country_name"
         ]
        },
        "DimParticipant": {
         "participant_title": [
          "participant_title"
         ],
         "participant_type": [
          "participant_type"
         ]
        }
       },
       "Measures": {
        "annual_gdp_growth.MEAN": {
         "formatter": "DOUBLE[#,###.00]"
        },
        "annual_gdp_growth.SUM": {
         "formatter": "DOUBLE[#,###.00]"
        },
        "athlete_id.MEAN": {
         "formatter": "DOUBLE[#,###.00]"
        },
        "athlete_id.SUM": {
         "formatter": "INT[#,###]"
        },
        "contributors.COUNT": {
         "formatter": "INT[#,###]"
        },
        "current_health_expenditure.MEAN": {
         "formatter": "DOUBLE[#,###.00]"
        },
        "current_health_expenditure.SUM": {
         "formatter": "DOUBLE[#,###.00]"
        },
        "daly_anxiety.MEAN": {
         "formatter": "DOUBLE[#,###.00]"
        },
        "daly_anxiety.SUM": {
         "formatter": "DOUBLE[#,###.00]"
        },
        "daly_bipolar_disorder.MEAN": {
         "formatter": "DOUBLE[#,###.00]"
        },
        "daly_bipolar_disorder.SUM": {
         "formatter": "DOUBLE[#,###.00]"
        },
        "daly_depression.MEAN": {
         "formatter": "DOUBLE[#,###.00]"
        },
        "daly_depression.SUM": {
         "formatter": "DOUBLE[#,###.00]"
        },
        "daly_eating_disorder.MEAN": {
         "formatter": "DOUBLE[#,###.00]"
        },
        "daly_eating_disorder.SUM": {
         "formatter": "DOUBLE[#,###.00]"
        },
        "daly_schizophrenia.MEAN": {
         "formatter": "DOUBLE[#,###.00]"
        },
        "daly_schizophrenia.SUM": {
         "formatter": "DOUBLE[#,###.00]"
        },
        "event_id.MEAN": {
         "formatter": "DOUBLE[#,###.00]"
        },
        "event_id.SUM": {
         "formatter": "INT[#,###]"
        },
        "external_health_expenditure.MEAN": {
         "formatter": "DOUBLE[#,###.00]"
        },
        "external_health_expenditure.SUM": {
         "formatter": "DOUBLE[#,###.00]"
        },
        "gdp_per_capita.MEAN": {
         "formatter": "DOUBLE[#,###.00]"
        },
        "gdp_per_capita.SUM": {
         "formatter": "DOUBLE[#,###.00]"
        },
        "government_health_expenditure.MEAN": {
         "formatter": "DOUBLE[#,###.00]"
        },
        "government_health_expenditure.SUM": {
         "formatter": "DOUBLE[#,###.00]"
        },
        "infant_mortality_rate.MEAN": {
         "formatter": "DOUBLE[#,###.00]"
        },
        "infant_mortality_rate.SUM": {
         "formatter": "DOUBLE[#,###.00]"
        },
        "life_expectancy.MEAN": {
         "formatter": "DOUBLE[#,###.00]"
        },
        "life_expectancy.SUM": {
         "formatter": "DOUBLE[#,###.00]"
        },
        "participant_id.MEAN": {
         "formatter": "DOUBLE[#,###.00]"
        },
        "participant_id.SUM": {
         "formatter": "INT[#,###]"
        },
        "poverty_count.MEAN": {
         "formatter": "DOUBLE[#,###.00]"
        },
        "poverty_count.SUM": {
         "formatter": "DOUBLE[#,###.00]"
        },
        "private_health_expenditure.MEAN": {
         "formatter": "DOUBLE[#,###.00]"
        },
        "private_health_expenditure.SUM": {
         "formatter": "DOUBLE[#,###.00]"
        },
        "servers_count.MEAN": {
         "formatter": "DOUBLE[#,###.00]"
        },
        "servers_count.SUM": {
         "formatter": "INT[#,###]"
        },
        "total_bronze_medals.MEAN": {
         "formatter": "DOUBLE[#,###.00]"
        },
        "total_bronze_medals.SUM": {
         "formatter": "INT[#,###]"
        },
        "total_gold_medals.MEAN": {
         "formatter": "DOUBLE[#,###.00]"
        },
        "total_gold_medals.SUM": {
         "formatter": "INT[#,###]"
        },
        "total_medals.MEAN": {
         "formatter": "DOUBLE[#,###.00]"
        },
        "total_medals.SUM": {
         "formatter": "INT[#,###]"
        },
        "total_silver_medals.MEAN": {
         "formatter": "DOUBLE[#,###.00]"
        },
        "total_silver_medals.SUM": {
         "formatter": "INT[#,###]"
        }
       }
      },
      "text/html": [
       "<ul>\n",
       "<li>CombinedFactTable\n",
       "  <ul>\n",
       "  <li>Dimensions\n",
       "    <ul>\n",
       "    <li>CombinedFactTable\n",
       "      <ul>\n",
       "      <li>country_code\n",
       "        <ol>\n",
       "        <li>country_code</li>\n",
       "        </ol>      </li>\n",
       "      <li>game_slug\n",
       "        <ol>\n",
       "        <li>game_slug</li>\n",
       "        </ol>      </li>\n",
       "      <li>id\n",
       "        <ol>\n",
       "        <li>id</li>\n",
       "        </ol>      </li>\n",
       "      <li>year\n",
       "        <ol>\n",
       "        <li>year</li>\n",
       "        </ol>      </li>\n",
       "      </ul>\n",
       "    </li>\n",
       "    <li>DimAthlete\n",
       "      <ul>\n",
       "      <li>athlete_name\n",
       "        <ol>\n",
       "        <li>athlete_name</li>\n",
       "        </ol>      </li>\n",
       "      <li>athlete_url\n",
       "        <ol>\n",
       "        <li>athlete_url</li>\n",
       "        </ol>      </li>\n",
       "      </ul>\n",
       "    </li>\n",
       "    <li>DimEvent\n",
       "      <ul>\n",
       "      <li>event_discipline\n",
       "        <ol>\n",
       "        <li>event_discipline</li>\n",
       "        </ol>      </li>\n",
       "      <li>event_gender\n",
       "        <ol>\n",
       "        <li>event_gender</li>\n",
       "        </ol>      </li>\n",
       "      <li>event_title\n",
       "        <ol>\n",
       "        <li>event_title</li>\n",
       "        </ol>      </li>\n",
       "      </ul>\n",
       "    </li>\n",
       "    <li>DimGame\n",
       "      <ul>\n",
       "      <li>country_code\n",
       "        <ol>\n",
       "        <li>country_code</li>\n",
       "        </ol>      </li>\n",
       "      <li>game_name\n",
       "        <ol>\n",
       "        <li>game_name</li>\n",
       "        </ol>      </li>\n",
       "      <li>game_season\n",
       "        <ol>\n",
       "        <li>game_season</li>\n",
       "        </ol>      </li>\n",
       "      </ul>\n",
       "    </li>\n",
       "    <li>DimLocation\n",
       "      <ul>\n",
       "      <li>continent\n",
       "        <ol>\n",
       "        <li>continent</li>\n",
       "        </ol>      </li>\n",
       "      <li>country_name\n",
       "        <ol>\n",
       "        <li>country_name</li>\n",
       "        </ol>      </li>\n",
       "      </ul>\n",
       "    </li>\n",
       "    <li>DimParticipant\n",
       "      <ul>\n",
       "      <li>participant_title\n",
       "        <ol>\n",
       "        <li>participant_title</li>\n",
       "        </ol>      </li>\n",
       "      <li>participant_type\n",
       "        <ol>\n",
       "        <li>participant_type</li>\n",
       "        </ol>      </li>\n",
       "      </ul>\n",
       "    </li>\n",
       "    </ul>\n",
       "  </li>\n",
       "  <li>Measures\n",
       "    <ul>\n",
       "    <li>annual_gdp_growth.MEAN\n",
       "      <ul>\n",
       "      <li>formatter: DOUBLE[#,###.00]</li>\n",
       "      </ul>\n",
       "    </li>\n",
       "    <li>annual_gdp_growth.SUM\n",
       "      <ul>\n",
       "      <li>formatter: DOUBLE[#,###.00]</li>\n",
       "      </ul>\n",
       "    </li>\n",
       "    <li>athlete_id.MEAN\n",
       "      <ul>\n",
       "      <li>formatter: DOUBLE[#,###.00]</li>\n",
       "      </ul>\n",
       "    </li>\n",
       "    <li>athlete_id.SUM\n",
       "      <ul>\n",
       "      <li>formatter: INT[#,###]</li>\n",
       "      </ul>\n",
       "    </li>\n",
       "    <li>contributors.COUNT\n",
       "      <ul>\n",
       "      <li>formatter: INT[#,###]</li>\n",
       "      </ul>\n",
       "    </li>\n",
       "    <li>current_health_expenditure.MEAN\n",
       "      <ul>\n",
       "      <li>formatter: DOUBLE[#,###.00]</li>\n",
       "      </ul>\n",
       "    </li>\n",
       "    <li>current_health_expenditure.SUM\n",
       "      <ul>\n",
       "      <li>formatter: DOUBLE[#,###.00]</li>\n",
       "      </ul>\n",
       "    </li>\n",
       "    <li>daly_anxiety.MEAN\n",
       "      <ul>\n",
       "      <li>formatter: DOUBLE[#,###.00]</li>\n",
       "      </ul>\n",
       "    </li>\n",
       "    <li>daly_anxiety.SUM\n",
       "      <ul>\n",
       "      <li>formatter: DOUBLE[#,###.00]</li>\n",
       "      </ul>\n",
       "    </li>\n",
       "    <li>daly_bipolar_disorder.MEAN\n",
       "      <ul>\n",
       "      <li>formatter: DOUBLE[#,###.00]</li>\n",
       "      </ul>\n",
       "    </li>\n",
       "    <li>daly_bipolar_disorder.SUM\n",
       "      <ul>\n",
       "      <li>formatter: DOUBLE[#,###.00]</li>\n",
       "      </ul>\n",
       "    </li>\n",
       "    <li>daly_depression.MEAN\n",
       "      <ul>\n",
       "      <li>formatter: DOUBLE[#,###.00]</li>\n",
       "      </ul>\n",
       "    </li>\n",
       "    <li>daly_depression.SUM\n",
       "      <ul>\n",
       "      <li>formatter: DOUBLE[#,###.00]</li>\n",
       "      </ul>\n",
       "    </li>\n",
       "    <li>daly_eating_disorder.MEAN\n",
       "      <ul>\n",
       "      <li>formatter: DOUBLE[#,###.00]</li>\n",
       "      </ul>\n",
       "    </li>\n",
       "    <li>daly_eating_disorder.SUM\n",
       "      <ul>\n",
       "      <li>formatter: DOUBLE[#,###.00]</li>\n",
       "      </ul>\n",
       "    </li>\n",
       "    <li>daly_schizophrenia.MEAN\n",
       "      <ul>\n",
       "      <li>formatter: DOUBLE[#,###.00]</li>\n",
       "      </ul>\n",
       "    </li>\n",
       "    <li>daly_schizophrenia.SUM\n",
       "      <ul>\n",
       "      <li>formatter: DOUBLE[#,###.00]</li>\n",
       "      </ul>\n",
       "    </li>\n",
       "    <li>event_id.MEAN\n",
       "      <ul>\n",
       "      <li>formatter: DOUBLE[#,###.00]</li>\n",
       "      </ul>\n",
       "    </li>\n",
       "    <li>event_id.SUM\n",
       "      <ul>\n",
       "      <li>formatter: INT[#,###]</li>\n",
       "      </ul>\n",
       "    </li>\n",
       "    <li>external_health_expenditure.MEAN\n",
       "      <ul>\n",
       "      <li>formatter: DOUBLE[#,###.00]</li>\n",
       "      </ul>\n",
       "    </li>\n",
       "    <li>external_health_expenditure.SUM\n",
       "      <ul>\n",
       "      <li>formatter: DOUBLE[#,###.00]</li>\n",
       "      </ul>\n",
       "    </li>\n",
       "    <li>gdp_per_capita.MEAN\n",
       "      <ul>\n",
       "      <li>formatter: DOUBLE[#,###.00]</li>\n",
       "      </ul>\n",
       "    </li>\n",
       "    <li>gdp_per_capita.SUM\n",
       "      <ul>\n",
       "      <li>formatter: DOUBLE[#,###.00]</li>\n",
       "      </ul>\n",
       "    </li>\n",
       "    <li>government_health_expenditure.MEAN\n",
       "      <ul>\n",
       "      <li>formatter: DOUBLE[#,###.00]</li>\n",
       "      </ul>\n",
       "    </li>\n",
       "    <li>government_health_expenditure.SUM\n",
       "      <ul>\n",
       "      <li>formatter: DOUBLE[#,###.00]</li>\n",
       "      </ul>\n",
       "    </li>\n",
       "    <li>infant_mortality_rate.MEAN\n",
       "      <ul>\n",
       "      <li>formatter: DOUBLE[#,###.00]</li>\n",
       "      </ul>\n",
       "    </li>\n",
       "    <li>infant_mortality_rate.SUM\n",
       "      <ul>\n",
       "      <li>formatter: DOUBLE[#,###.00]</li>\n",
       "      </ul>\n",
       "    </li>\n",
       "    <li>life_expectancy.MEAN\n",
       "      <ul>\n",
       "      <li>formatter: DOUBLE[#,###.00]</li>\n",
       "      </ul>\n",
       "    </li>\n",
       "    <li>life_expectancy.SUM\n",
       "      <ul>\n",
       "      <li>formatter: DOUBLE[#,###.00]</li>\n",
       "      </ul>\n",
       "    </li>\n",
       "    <li>participant_id.MEAN\n",
       "      <ul>\n",
       "      <li>formatter: DOUBLE[#,###.00]</li>\n",
       "      </ul>\n",
       "    </li>\n",
       "    <li>participant_id.SUM\n",
       "      <ul>\n",
       "      <li>formatter: INT[#,###]</li>\n",
       "      </ul>\n",
       "    </li>\n",
       "    <li>poverty_count.MEAN\n",
       "      <ul>\n",
       "      <li>formatter: DOUBLE[#,###.00]</li>\n",
       "      </ul>\n",
       "    </li>\n",
       "    <li>poverty_count.SUM\n",
       "      <ul>\n",
       "      <li>formatter: DOUBLE[#,###.00]</li>\n",
       "      </ul>\n",
       "    </li>\n",
       "    <li>private_health_expenditure.MEAN\n",
       "      <ul>\n",
       "      <li>formatter: DOUBLE[#,###.00]</li>\n",
       "      </ul>\n",
       "    </li>\n",
       "    <li>private_health_expenditure.SUM\n",
       "      <ul>\n",
       "      <li>formatter: DOUBLE[#,###.00]</li>\n",
       "      </ul>\n",
       "    </li>\n",
       "    <li>servers_count.MEAN\n",
       "      <ul>\n",
       "      <li>formatter: DOUBLE[#,###.00]</li>\n",
       "      </ul>\n",
       "    </li>\n",
       "    <li>servers_count.SUM\n",
       "      <ul>\n",
       "      <li>formatter: INT[#,###]</li>\n",
       "      </ul>\n",
       "    </li>\n",
       "    <li>total_bronze_medals.MEAN\n",
       "      <ul>\n",
       "      <li>formatter: DOUBLE[#,###.00]</li>\n",
       "      </ul>\n",
       "    </li>\n",
       "    <li>total_bronze_medals.SUM\n",
       "      <ul>\n",
       "      <li>formatter: INT[#,###]</li>\n",
       "      </ul>\n",
       "    </li>\n",
       "    <li>total_gold_medals.MEAN\n",
       "      <ul>\n",
       "      <li>formatter: DOUBLE[#,###.00]</li>\n",
       "      </ul>\n",
       "    </li>\n",
       "    <li>total_gold_medals.SUM\n",
       "      <ul>\n",
       "      <li>formatter: INT[#,###]</li>\n",
       "      </ul>\n",
       "    </li>\n",
       "    <li>total_medals.MEAN\n",
       "      <ul>\n",
       "      <li>formatter: DOUBLE[#,###.00]</li>\n",
       "      </ul>\n",
       "    </li>\n",
       "    <li>total_medals.SUM\n",
       "      <ul>\n",
       "      <li>formatter: INT[#,###]</li>\n",
       "      </ul>\n",
       "    </li>\n",
       "    <li>total_silver_medals.MEAN\n",
       "      <ul>\n",
       "      <li>formatter: DOUBLE[#,###.00]</li>\n",
       "      </ul>\n",
       "    </li>\n",
       "    <li>total_silver_medals.SUM\n",
       "      <ul>\n",
       "      <li>formatter: INT[#,###]</li>\n",
       "      </ul>\n",
       "    </li>\n",
       "    </ul>\n",
       "  </li>\n",
       "  </ul>\n",
       "</li>\n",
       "</ul>\n"
      ],
      "text/plain": [
       "<atoti.cube.Cube at 0x7fffb0492ad0>"
      ]
     },
     "execution_count": 15,
     "metadata": {
      "application/json": {
       "expanded": false,
       "root": "CombinedFactTable"
      }
     },
     "output_type": "execute_result"
    }
   ],
   "source": [
    "cube"
   ]
  },
  {
   "cell_type": "code",
   "execution_count": 16,
   "id": "6bcad757-bf35-4520-b09b-c7239a657e8a",
   "metadata": {},
   "outputs": [],
   "source": [
    "hierarchies, levels, measures = cube.hierarchies, cube.levels, cube.measures"
   ]
  },
  {
   "cell_type": "code",
   "execution_count": 17,
   "id": "0cd29d61-d5e4-4f20-aabd-191f1c17e94d",
   "metadata": {},
   "outputs": [
    {
     "data": {
      "application/json": {
       "CombinedFactTable": {
        "country_code": [
         "country_code"
        ],
        "game_slug": [
         "game_slug"
        ],
        "id": [
         "id"
        ],
        "year": [
         "year"
        ]
       },
       "DimAthlete": {
        "athlete_name": [
         "athlete_name"
        ],
        "athlete_url": [
         "athlete_url"
        ]
       },
       "DimEvent": {
        "event_discipline": [
         "event_discipline"
        ],
        "event_gender": [
         "event_gender"
        ],
        "event_title": [
         "event_title"
        ]
       },
       "DimGame": {
        "country_code": [
         "country_code"
        ],
        "game_name": [
         "game_name"
        ],
        "game_season": [
         "game_season"
        ]
       },
       "DimLocation": {
        "continent": [
         "continent"
        ],
        "country_name": [
         "country_name"
        ]
       },
       "DimParticipant": {
        "participant_title": [
         "participant_title"
        ],
        "participant_type": [
         "participant_type"
        ]
       }
      },
      "text/html": [
       "<ul>\n",
       "<li>Dimensions\n",
       "  <ul>\n",
       "  <li>CombinedFactTable\n",
       "    <ul>\n",
       "    <li>country_code\n",
       "      <ol>\n",
       "      <li>country_code</li>\n",
       "      </ol>    </li>\n",
       "    <li>game_slug\n",
       "      <ol>\n",
       "      <li>game_slug</li>\n",
       "      </ol>    </li>\n",
       "    <li>id\n",
       "      <ol>\n",
       "      <li>id</li>\n",
       "      </ol>    </li>\n",
       "    <li>year\n",
       "      <ol>\n",
       "      <li>year</li>\n",
       "      </ol>    </li>\n",
       "    </ul>\n",
       "  </li>\n",
       "  <li>DimAthlete\n",
       "    <ul>\n",
       "    <li>athlete_name\n",
       "      <ol>\n",
       "      <li>athlete_name</li>\n",
       "      </ol>    </li>\n",
       "    <li>athlete_url\n",
       "      <ol>\n",
       "      <li>athlete_url</li>\n",
       "      </ol>    </li>\n",
       "    </ul>\n",
       "  </li>\n",
       "  <li>DimEvent\n",
       "    <ul>\n",
       "    <li>event_discipline\n",
       "      <ol>\n",
       "      <li>event_discipline</li>\n",
       "      </ol>    </li>\n",
       "    <li>event_gender\n",
       "      <ol>\n",
       "      <li>event_gender</li>\n",
       "      </ol>    </li>\n",
       "    <li>event_title\n",
       "      <ol>\n",
       "      <li>event_title</li>\n",
       "      </ol>    </li>\n",
       "    </ul>\n",
       "  </li>\n",
       "  <li>DimGame\n",
       "    <ul>\n",
       "    <li>country_code\n",
       "      <ol>\n",
       "      <li>country_code</li>\n",
       "      </ol>    </li>\n",
       "    <li>game_name\n",
       "      <ol>\n",
       "      <li>game_name</li>\n",
       "      </ol>    </li>\n",
       "    <li>game_season\n",
       "      <ol>\n",
       "      <li>game_season</li>\n",
       "      </ol>    </li>\n",
       "    </ul>\n",
       "  </li>\n",
       "  <li>DimLocation\n",
       "    <ul>\n",
       "    <li>continent\n",
       "      <ol>\n",
       "      <li>continent</li>\n",
       "      </ol>    </li>\n",
       "    <li>country_name\n",
       "      <ol>\n",
       "      <li>country_name</li>\n",
       "      </ol>    </li>\n",
       "    </ul>\n",
       "  </li>\n",
       "  <li>DimParticipant\n",
       "    <ul>\n",
       "    <li>participant_title\n",
       "      <ol>\n",
       "      <li>participant_title</li>\n",
       "      </ol>    </li>\n",
       "    <li>participant_type\n",
       "      <ol>\n",
       "      <li>participant_type</li>\n",
       "      </ol>    </li>\n",
       "    </ul>\n",
       "  </li>\n",
       "  </ul>\n",
       "</li>\n",
       "</ul>\n"
      ],
      "text/plain": [
       "{('CombinedFactTable', 'country_code'): <atoti.hierarchy.Hierarchy object at 0x7fffb04c3e10>, ('CombinedFactTable', 'id'): <atoti.hierarchy.Hierarchy object at 0x7fffb04c3450>, ('DimParticipant', 'participant_title'): <atoti.hierarchy.Hierarchy object at 0x7fffb04c1dd0>, ('DimAthlete', 'athlete_name'): <atoti.hierarchy.Hierarchy object at 0x7fffb04c0b90>, ('DimGame', 'game_season'): <atoti.hierarchy.Hierarchy object at 0x7fffb04c3910>, ('CombinedFactTable', 'game_slug'): <atoti.hierarchy.Hierarchy object at 0x7fffb04c15d0>, ('DimParticipant', 'participant_type'): <atoti.hierarchy.Hierarchy object at 0x7fffb04c2310>, ('DimEvent', 'event_discipline'): <atoti.hierarchy.Hierarchy object at 0x7fffb04c1590>, ('CombinedFactTable', 'year'): <atoti.hierarchy.Hierarchy object at 0x7fffb04c1610>, ('DimEvent', 'event_gender'): <atoti.hierarchy.Hierarchy object at 0x7fffb04c1b90>, ('DimLocation', 'country_name'): <atoti.hierarchy.Hierarchy object at 0x7fffb04c2a90>, ('DimAthlete', 'athlete_url'): <atoti.hierarchy.Hierarchy object at 0x7fffb04c3410>, ('DimEvent', 'event_title'): <atoti.hierarchy.Hierarchy object at 0x7fffb04c34d0>, ('DimGame', 'game_name'): <atoti.hierarchy.Hierarchy object at 0x7fffb04c2290>, ('DimLocation', 'continent'): <atoti.hierarchy.Hierarchy object at 0x7fffb04c2890>, ('DimGame', 'country_code'): <atoti.hierarchy.Hierarchy object at 0x7fffb04c0f50>}"
      ]
     },
     "execution_count": 17,
     "metadata": {
      "application/json": {
       "expanded": true,
       "root": "Dimensions"
      }
     },
     "output_type": "execute_result"
    }
   ],
   "source": [
    "hierarchies"
   ]
  },
  {
   "cell_type": "code",
   "execution_count": 18,
   "id": "1bfe5143-089d-4e10-9489-64a13bc4b13e",
   "metadata": {},
   "outputs": [],
   "source": [
    "hierarchies[\"Year\"] = [dimyear_table[\"year\"]]"
   ]
  },
  {
   "cell_type": "code",
   "execution_count": 19,
   "id": "0d0f54b4-17f7-458d-971e-6458d40a46ef",
   "metadata": {},
   "outputs": [
    {
     "data": {
      "application/json": {
       "CombinedFactTable": {
        "country_code": [
         "country_code"
        ],
        "game_slug": [
         "game_slug"
        ],
        "id": [
         "id"
        ],
        "year": [
         "year"
        ]
       },
       "DimAthlete": {
        "athlete_name": [
         "athlete_name"
        ],
        "athlete_url": [
         "athlete_url"
        ]
       },
       "DimEvent": {
        "event_discipline": [
         "event_discipline"
        ],
        "event_gender": [
         "event_gender"
        ],
        "event_title": [
         "event_title"
        ]
       },
       "DimGame": {
        "country_code": [
         "country_code"
        ],
        "game_name": [
         "game_name"
        ],
        "game_season": [
         "game_season"
        ]
       },
       "DimLocation": {
        "continent": [
         "continent"
        ],
        "country_name": [
         "country_name"
        ]
       },
       "DimParticipant": {
        "participant_title": [
         "participant_title"
        ],
        "participant_type": [
         "participant_type"
        ]
       },
       "DimYear": {
        "Year": [
         "year"
        ]
       }
      },
      "text/html": [
       "<ul>\n",
       "<li>Dimensions\n",
       "  <ul>\n",
       "  <li>CombinedFactTable\n",
       "    <ul>\n",
       "    <li>country_code\n",
       "      <ol>\n",
       "      <li>country_code</li>\n",
       "      </ol>    </li>\n",
       "    <li>game_slug\n",
       "      <ol>\n",
       "      <li>game_slug</li>\n",
       "      </ol>    </li>\n",
       "    <li>id\n",
       "      <ol>\n",
       "      <li>id</li>\n",
       "      </ol>    </li>\n",
       "    <li>year\n",
       "      <ol>\n",
       "      <li>year</li>\n",
       "      </ol>    </li>\n",
       "    </ul>\n",
       "  </li>\n",
       "  <li>DimAthlete\n",
       "    <ul>\n",
       "    <li>athlete_name\n",
       "      <ol>\n",
       "      <li>athlete_name</li>\n",
       "      </ol>    </li>\n",
       "    <li>athlete_url\n",
       "      <ol>\n",
       "      <li>athlete_url</li>\n",
       "      </ol>    </li>\n",
       "    </ul>\n",
       "  </li>\n",
       "  <li>DimEvent\n",
       "    <ul>\n",
       "    <li>event_discipline\n",
       "      <ol>\n",
       "      <li>event_discipline</li>\n",
       "      </ol>    </li>\n",
       "    <li>event_gender\n",
       "      <ol>\n",
       "      <li>event_gender</li>\n",
       "      </ol>    </li>\n",
       "    <li>event_title\n",
       "      <ol>\n",
       "      <li>event_title</li>\n",
       "      </ol>    </li>\n",
       "    </ul>\n",
       "  </li>\n",
       "  <li>DimGame\n",
       "    <ul>\n",
       "    <li>country_code\n",
       "      <ol>\n",
       "      <li>country_code</li>\n",
       "      </ol>    </li>\n",
       "    <li>game_name\n",
       "      <ol>\n",
       "      <li>game_name</li>\n",
       "      </ol>    </li>\n",
       "    <li>game_season\n",
       "      <ol>\n",
       "      <li>game_season</li>\n",
       "      </ol>    </li>\n",
       "    </ul>\n",
       "  </li>\n",
       "  <li>DimLocation\n",
       "    <ul>\n",
       "    <li>continent\n",
       "      <ol>\n",
       "      <li>continent</li>\n",
       "      </ol>    </li>\n",
       "    <li>country_name\n",
       "      <ol>\n",
       "      <li>country_name</li>\n",
       "      </ol>    </li>\n",
       "    </ul>\n",
       "  </li>\n",
       "  <li>DimParticipant\n",
       "    <ul>\n",
       "    <li>participant_title\n",
       "      <ol>\n",
       "      <li>participant_title</li>\n",
       "      </ol>    </li>\n",
       "    <li>participant_type\n",
       "      <ol>\n",
       "      <li>participant_type</li>\n",
       "      </ol>    </li>\n",
       "    </ul>\n",
       "  </li>\n",
       "  <li>DimYear\n",
       "    <ul>\n",
       "    <li>Year\n",
       "      <ol>\n",
       "      <li>year</li>\n",
       "      </ol>    </li>\n",
       "    </ul>\n",
       "  </li>\n",
       "  </ul>\n",
       "</li>\n",
       "</ul>\n"
      ],
      "text/plain": [
       "{('CombinedFactTable', 'country_code'): <atoti.hierarchy.Hierarchy object at 0x7fffb04d2d10>, ('CombinedFactTable', 'id'): <atoti.hierarchy.Hierarchy object at 0x7fffb04ccbd0>, ('DimParticipant', 'participant_title'): <atoti.hierarchy.Hierarchy object at 0x7fffb04cdf90>, ('DimAthlete', 'athlete_name'): <atoti.hierarchy.Hierarchy object at 0x7fffb04cd250>, ('DimGame', 'game_season'): <atoti.hierarchy.Hierarchy object at 0x7fffb04cc650>, ('CombinedFactTable', 'game_slug'): <atoti.hierarchy.Hierarchy object at 0x7fffb04cf050>, ('DimParticipant', 'participant_type'): <atoti.hierarchy.Hierarchy object at 0x7fffb04ce410>, ('DimEvent', 'event_discipline'): <atoti.hierarchy.Hierarchy object at 0x7fffb04cead0>, ('CombinedFactTable', 'year'): <atoti.hierarchy.Hierarchy object at 0x7fffb050cad0>, ('DimEvent', 'event_gender'): <atoti.hierarchy.Hierarchy object at 0x7fffb050c890>, ('DimYear', 'Year'): <atoti.hierarchy.Hierarchy object at 0x7fffb050c650>, ('DimLocation', 'country_name'): <atoti.hierarchy.Hierarchy object at 0x7fffb050c3d0>, ('DimAthlete', 'athlete_url'): <atoti.hierarchy.Hierarchy object at 0x7fffb050c510>, ('DimEvent', 'event_title'): <atoti.hierarchy.Hierarchy object at 0x7fffb050e010>, ('DimGame', 'game_name'): <atoti.hierarchy.Hierarchy object at 0x7fffb050ce90>, ('DimLocation', 'continent'): <atoti.hierarchy.Hierarchy object at 0x7fffb050ca10>, ('DimGame', 'country_code'): <atoti.hierarchy.Hierarchy object at 0x7fffb050d890>}"
      ]
     },
     "execution_count": 19,
     "metadata": {
      "application/json": {
       "expanded": true,
       "root": "Dimensions"
      }
     },
     "output_type": "execute_result"
    }
   ],
   "source": [
    "hierarchies"
   ]
  },
  {
   "cell_type": "code",
   "execution_count": 20,
   "id": "f930600e-cf83-4c7e-a7dd-030016d16bb1",
   "metadata": {},
   "outputs": [
    {
     "name": "stdout",
     "output_type": "stream",
     "text": [
      "('CombinedFactTable', 'country_code')\n",
      "('CombinedFactTable', 'id')\n",
      "('DimParticipant', 'participant_title')\n",
      "('DimAthlete', 'athlete_name')\n",
      "('DimGame', 'game_season')\n",
      "('CombinedFactTable', 'game_slug')\n",
      "('DimParticipant', 'participant_type')\n",
      "('DimEvent', 'event_discipline')\n",
      "('CombinedFactTable', 'year')\n",
      "('DimEvent', 'event_gender')\n",
      "('DimYear', 'Year')\n",
      "('DimLocation', 'country_name')\n",
      "('DimAthlete', 'athlete_url')\n",
      "('DimEvent', 'event_title')\n",
      "('DimGame', 'game_name')\n",
      "('DimLocation', 'continent')\n",
      "('DimGame', 'country_code')\n"
     ]
    }
   ],
   "source": [
    "# List all hierarchies in the cube to find the correct name\n",
    "for hierarchy in hierarchies:\n",
    "    print(hierarchy)\n"
   ]
  },
  {
   "cell_type": "code",
   "execution_count": 21,
   "id": "6d8f53a2-8472-41af-b82f-2208ca67e098",
   "metadata": {},
   "outputs": [],
   "source": [
    "# Remove a specific unwanted hierarchy\n",
    "del hierarchies[('CombinedFactTable', 'country_code')]\n",
    "del hierarchies[('CombinedFactTable', 'id')]\n",
    "del hierarchies[('CombinedFactTable', 'game_slug')]\n",
    "del hierarchies[('CombinedFactTable', 'year')]"
   ]
  },
  {
   "cell_type": "code",
   "execution_count": 22,
   "id": "0ac188db-ebab-484f-bd26-8a7c3561d9b5",
   "metadata": {},
   "outputs": [
    {
     "data": {
      "application/json": {
       "DimAthlete": {
        "athlete_name": [
         "athlete_name"
        ],
        "athlete_url": [
         "athlete_url"
        ]
       },
       "DimEvent": {
        "event_discipline": [
         "event_discipline"
        ],
        "event_gender": [
         "event_gender"
        ],
        "event_title": [
         "event_title"
        ]
       },
       "DimGame": {
        "country_code": [
         "country_code"
        ],
        "game_name": [
         "game_name"
        ],
        "game_season": [
         "game_season"
        ]
       },
       "DimLocation": {
        "continent": [
         "continent"
        ],
        "country_name": [
         "country_name"
        ]
       },
       "DimParticipant": {
        "participant_title": [
         "participant_title"
        ],
        "participant_type": [
         "participant_type"
        ]
       },
       "DimYear": {
        "Year": [
         "year"
        ]
       }
      },
      "text/html": [
       "<ul>\n",
       "<li>Dimensions\n",
       "  <ul>\n",
       "  <li>DimAthlete\n",
       "    <ul>\n",
       "    <li>athlete_name\n",
       "      <ol>\n",
       "      <li>athlete_name</li>\n",
       "      </ol>    </li>\n",
       "    <li>athlete_url\n",
       "      <ol>\n",
       "      <li>athlete_url</li>\n",
       "      </ol>    </li>\n",
       "    </ul>\n",
       "  </li>\n",
       "  <li>DimEvent\n",
       "    <ul>\n",
       "    <li>event_discipline\n",
       "      <ol>\n",
       "      <li>event_discipline</li>\n",
       "      </ol>    </li>\n",
       "    <li>event_gender\n",
       "      <ol>\n",
       "      <li>event_gender</li>\n",
       "      </ol>    </li>\n",
       "    <li>event_title\n",
       "      <ol>\n",
       "      <li>event_title</li>\n",
       "      </ol>    </li>\n",
       "    </ul>\n",
       "  </li>\n",
       "  <li>DimGame\n",
       "    <ul>\n",
       "    <li>country_code\n",
       "      <ol>\n",
       "      <li>country_code</li>\n",
       "      </ol>    </li>\n",
       "    <li>game_name\n",
       "      <ol>\n",
       "      <li>game_name</li>\n",
       "      </ol>    </li>\n",
       "    <li>game_season\n",
       "      <ol>\n",
       "      <li>game_season</li>\n",
       "      </ol>    </li>\n",
       "    </ul>\n",
       "  </li>\n",
       "  <li>DimLocation\n",
       "    <ul>\n",
       "    <li>continent\n",
       "      <ol>\n",
       "      <li>continent</li>\n",
       "      </ol>    </li>\n",
       "    <li>country_name\n",
       "      <ol>\n",
       "      <li>country_name</li>\n",
       "      </ol>    </li>\n",
       "    </ul>\n",
       "  </li>\n",
       "  <li>DimParticipant\n",
       "    <ul>\n",
       "    <li>participant_title\n",
       "      <ol>\n",
       "      <li>participant_title</li>\n",
       "      </ol>    </li>\n",
       "    <li>participant_type\n",
       "      <ol>\n",
       "      <li>participant_type</li>\n",
       "      </ol>    </li>\n",
       "    </ul>\n",
       "  </li>\n",
       "  <li>DimYear\n",
       "    <ul>\n",
       "    <li>Year\n",
       "      <ol>\n",
       "      <li>year</li>\n",
       "      </ol>    </li>\n",
       "    </ul>\n",
       "  </li>\n",
       "  </ul>\n",
       "</li>\n",
       "</ul>\n"
      ],
      "text/plain": [
       "{('DimParticipant', 'participant_title'): <atoti.hierarchy.Hierarchy object at 0x7fffb04cdc10>, ('DimAthlete', 'athlete_name'): <atoti.hierarchy.Hierarchy object at 0x7fffb0530510>, ('DimGame', 'game_season'): <atoti.hierarchy.Hierarchy object at 0x7fffb0530bd0>, ('DimParticipant', 'participant_type'): <atoti.hierarchy.Hierarchy object at 0x7fffb0533790>, ('DimEvent', 'event_discipline'): <atoti.hierarchy.Hierarchy object at 0x7fffb0533890>, ('DimEvent', 'event_gender'): <atoti.hierarchy.Hierarchy object at 0x7fffb0533990>, ('DimYear', 'Year'): <atoti.hierarchy.Hierarchy object at 0x7fffb0533a90>, ('DimLocation', 'country_name'): <atoti.hierarchy.Hierarchy object at 0x7fffb0533b90>, ('DimAthlete', 'athlete_url'): <atoti.hierarchy.Hierarchy object at 0x7fffb0533c90>, ('DimEvent', 'event_title'): <atoti.hierarchy.Hierarchy object at 0x7fffb0533d90>, ('DimGame', 'game_name'): <atoti.hierarchy.Hierarchy object at 0x7fffb0533e90>, ('DimLocation', 'continent'): <atoti.hierarchy.Hierarchy object at 0x7fffb0533f90>, ('DimGame', 'country_code'): <atoti.hierarchy.Hierarchy object at 0x7fffb03400d0>}"
      ]
     },
     "execution_count": 22,
     "metadata": {
      "application/json": {
       "expanded": true,
       "root": "Dimensions"
      }
     },
     "output_type": "execute_result"
    }
   ],
   "source": [
    "hierarchies"
   ]
  },
  {
   "cell_type": "code",
   "execution_count": 23,
   "id": "cdf307ac-0395-492a-99a3-05802afe1e7c",
   "metadata": {},
   "outputs": [
    {
     "data": {
      "application/json": {
       "athlete_name (DimAthlete/athlete_name/athlete_name)": {
        "dimension": "DimAthlete",
        "hierarchy": "athlete_name",
        "order": "NaturalOrder",
        "type": "String"
       },
       "athlete_url (DimAthlete/athlete_url/athlete_url)": {
        "dimension": "DimAthlete",
        "hierarchy": "athlete_url",
        "order": "NaturalOrder",
        "type": "String"
       },
       "continent (DimLocation/continent/continent)": {
        "dimension": "DimLocation",
        "hierarchy": "continent",
        "order": "NaturalOrder",
        "type": "String"
       },
       "country_code (DimGame/country_code/country_code)": {
        "dimension": "DimGame",
        "hierarchy": "country_code",
        "order": "NaturalOrder",
        "type": "String"
       },
       "country_name (DimLocation/country_name/country_name)": {
        "dimension": "DimLocation",
        "hierarchy": "country_name",
        "order": "NaturalOrder",
        "type": "String"
       },
       "event_discipline (DimEvent/event_discipline/event_discipline)": {
        "dimension": "DimEvent",
        "hierarchy": "event_discipline",
        "order": "NaturalOrder",
        "type": "String"
       },
       "event_gender (DimEvent/event_gender/event_gender)": {
        "dimension": "DimEvent",
        "hierarchy": "event_gender",
        "order": "NaturalOrder",
        "type": "String"
       },
       "event_title (DimEvent/event_title/event_title)": {
        "dimension": "DimEvent",
        "hierarchy": "event_title",
        "order": "NaturalOrder",
        "type": "String"
       },
       "game_name (DimGame/game_name/game_name)": {
        "dimension": "DimGame",
        "hierarchy": "game_name",
        "order": "NaturalOrder",
        "type": "String"
       },
       "game_season (DimGame/game_season/game_season)": {
        "dimension": "DimGame",
        "hierarchy": "game_season",
        "order": "NaturalOrder",
        "type": "String"
       },
       "participant_title (DimParticipant/participant_title/participant_title)": {
        "dimension": "DimParticipant",
        "hierarchy": "participant_title",
        "order": "NaturalOrder",
        "type": "String"
       },
       "participant_type (DimParticipant/participant_type/participant_type)": {
        "dimension": "DimParticipant",
        "hierarchy": "participant_type",
        "order": "NaturalOrder",
        "type": "String"
       },
       "year (DimYear/Year/year)": {
        "dimension": "DimYear",
        "hierarchy": "Year",
        "order": "NaturalOrder",
        "type": "String"
       }
      },
      "text/html": [
       "<ul>\n",
       "<li>Levels\n",
       "  <ul>\n",
       "  <li>athlete_name (DimAthlete/athlete_name/athlete_name)\n",
       "    <ul>\n",
       "    <li>dimension: DimAthlete</li>\n",
       "    <li>hierarchy: athlete_name</li>\n",
       "    <li>type: String</li>\n",
       "    <li>order: NaturalOrder</li>\n",
       "    </ul>\n",
       "  </li>\n",
       "  <li>athlete_url (DimAthlete/athlete_url/athlete_url)\n",
       "    <ul>\n",
       "    <li>dimension: DimAthlete</li>\n",
       "    <li>hierarchy: athlete_url</li>\n",
       "    <li>type: String</li>\n",
       "    <li>order: NaturalOrder</li>\n",
       "    </ul>\n",
       "  </li>\n",
       "  <li>continent (DimLocation/continent/continent)\n",
       "    <ul>\n",
       "    <li>dimension: DimLocation</li>\n",
       "    <li>hierarchy: continent</li>\n",
       "    <li>type: String</li>\n",
       "    <li>order: NaturalOrder</li>\n",
       "    </ul>\n",
       "  </li>\n",
       "  <li>country_code (DimGame/country_code/country_code)\n",
       "    <ul>\n",
       "    <li>dimension: DimGame</li>\n",
       "    <li>hierarchy: country_code</li>\n",
       "    <li>type: String</li>\n",
       "    <li>order: NaturalOrder</li>\n",
       "    </ul>\n",
       "  </li>\n",
       "  <li>country_name (DimLocation/country_name/country_name)\n",
       "    <ul>\n",
       "    <li>dimension: DimLocation</li>\n",
       "    <li>hierarchy: country_name</li>\n",
       "    <li>type: String</li>\n",
       "    <li>order: NaturalOrder</li>\n",
       "    </ul>\n",
       "  </li>\n",
       "  <li>event_discipline (DimEvent/event_discipline/event_discipline)\n",
       "    <ul>\n",
       "    <li>dimension: DimEvent</li>\n",
       "    <li>hierarchy: event_discipline</li>\n",
       "    <li>type: String</li>\n",
       "    <li>order: NaturalOrder</li>\n",
       "    </ul>\n",
       "  </li>\n",
       "  <li>event_gender (DimEvent/event_gender/event_gender)\n",
       "    <ul>\n",
       "    <li>dimension: DimEvent</li>\n",
       "    <li>hierarchy: event_gender</li>\n",
       "    <li>type: String</li>\n",
       "    <li>order: NaturalOrder</li>\n",
       "    </ul>\n",
       "  </li>\n",
       "  <li>event_title (DimEvent/event_title/event_title)\n",
       "    <ul>\n",
       "    <li>dimension: DimEvent</li>\n",
       "    <li>hierarchy: event_title</li>\n",
       "    <li>type: String</li>\n",
       "    <li>order: NaturalOrder</li>\n",
       "    </ul>\n",
       "  </li>\n",
       "  <li>game_name (DimGame/game_name/game_name)\n",
       "    <ul>\n",
       "    <li>dimension: DimGame</li>\n",
       "    <li>hierarchy: game_name</li>\n",
       "    <li>type: String</li>\n",
       "    <li>order: NaturalOrder</li>\n",
       "    </ul>\n",
       "  </li>\n",
       "  <li>game_season (DimGame/game_season/game_season)\n",
       "    <ul>\n",
       "    <li>dimension: DimGame</li>\n",
       "    <li>hierarchy: game_season</li>\n",
       "    <li>type: String</li>\n",
       "    <li>order: NaturalOrder</li>\n",
       "    </ul>\n",
       "  </li>\n",
       "  <li>participant_title (DimParticipant/participant_title/participant_title)\n",
       "    <ul>\n",
       "    <li>dimension: DimParticipant</li>\n",
       "    <li>hierarchy: participant_title</li>\n",
       "    <li>type: String</li>\n",
       "    <li>order: NaturalOrder</li>\n",
       "    </ul>\n",
       "  </li>\n",
       "  <li>participant_type (DimParticipant/participant_type/participant_type)\n",
       "    <ul>\n",
       "    <li>dimension: DimParticipant</li>\n",
       "    <li>hierarchy: participant_type</li>\n",
       "    <li>type: String</li>\n",
       "    <li>order: NaturalOrder</li>\n",
       "    </ul>\n",
       "  </li>\n",
       "  <li>year (DimYear/Year/year)\n",
       "    <ul>\n",
       "    <li>dimension: DimYear</li>\n",
       "    <li>hierarchy: Year</li>\n",
       "    <li>type: String</li>\n",
       "    <li>order: NaturalOrder</li>\n",
       "    </ul>\n",
       "  </li>\n",
       "  </ul>\n",
       "</li>\n",
       "</ul>\n"
      ],
      "text/plain": [
       "<atoti.levels.Levels at 0x7fffb04b9190>"
      ]
     },
     "execution_count": 23,
     "metadata": {
      "application/json": {
       "expanded": true,
       "root": "Levels"
      }
     },
     "output_type": "execute_result"
    }
   ],
   "source": [
    "levels"
   ]
  },
  {
   "cell_type": "code",
   "execution_count": 24,
   "id": "fa48e154-a22f-43c2-8c4f-9ce2ca679fdc",
   "metadata": {},
   "outputs": [],
   "source": [
    "hierarchies[\"DimAthlete\"] = [levels[\"athlete_name\"]]"
   ]
  },
  {
   "cell_type": "code",
   "execution_count": 25,
   "id": "ccb3f73f-85fa-426d-a24b-dccdd62e1109",
   "metadata": {},
   "outputs": [],
   "source": [
    "hierarchies[\"DimEvent\"] = [levels[\"event_title\"], levels[(\"DimEvent\", \"event_discipline\", \"event_discipline\")],\n",
    "                           levels[(\"DimEvent\", \"event_gender\", \"event_gender\")]]"
   ]
  },
  {
   "cell_type": "code",
   "execution_count": 26,
   "id": "0eaf0c58-33f3-40fd-8abc-5b789678f239",
   "metadata": {},
   "outputs": [],
   "source": [
    "hierarchies[\"DimGame\"] = [levels[\"game_name\"], levels[(\"DimGame\", \"game_season\", \"game_season\")]]"
   ]
  },
  {
   "cell_type": "code",
   "execution_count": 27,
   "id": "0bc9f002-023c-4c80-9933-c373322531ff",
   "metadata": {},
   "outputs": [],
   "source": [
    "hierarchies[\"DimLocation\"]  = [levels[\"country_name\"], levels[(\"DimLocation\", \"continent\", \"continent\")]]"
   ]
  },
  {
   "cell_type": "code",
   "execution_count": 28,
   "id": "66baf304-f7b8-42f1-a6ae-62037d8f401d",
   "metadata": {},
   "outputs": [],
   "source": [
    "hierarchies[\"DimParticipant\"] = [levels[\"participant_title\"], levels[(\"DimParticipant\", \"participant_type\", \"participant_type\")]]"
   ]
  },
  {
   "cell_type": "code",
   "execution_count": 29,
   "id": "e9c538a6-8c95-412a-af78-22b95589f812",
   "metadata": {},
   "outputs": [
    {
     "data": {
      "application/json": {
       "DimAthlete": {
        "DimAthlete": [
         "athlete_name"
        ],
        "athlete_name": [
         "athlete_name"
        ],
        "athlete_url": [
         "athlete_url"
        ]
       },
       "DimEvent": {
        "DimEvent": [
         "event_title",
         "event_discipline",
         "event_gender"
        ],
        "event_discipline": [
         "event_discipline"
        ],
        "event_gender": [
         "event_gender"
        ],
        "event_title": [
         "event_title"
        ]
       },
       "DimGame": {
        "DimGame": [
         "game_name",
         "game_season"
        ],
        "country_code": [
         "country_code"
        ],
        "game_name": [
         "game_name"
        ],
        "game_season": [
         "game_season"
        ]
       },
       "DimLocation": {
        "DimLocation": [
         "country_name",
         "continent"
        ],
        "continent": [
         "continent"
        ],
        "country_name": [
         "country_name"
        ]
       },
       "DimParticipant": {
        "DimParticipant": [
         "participant_title",
         "participant_type"
        ],
        "participant_title": [
         "participant_title"
        ],
        "participant_type": [
         "participant_type"
        ]
       },
       "DimYear": {
        "Year": [
         "year"
        ]
       }
      },
      "text/html": [
       "<ul>\n",
       "<li>Dimensions\n",
       "  <ul>\n",
       "  <li>DimAthlete\n",
       "    <ul>\n",
       "    <li>DimAthlete\n",
       "      <ol>\n",
       "      <li>athlete_name</li>\n",
       "      </ol>    </li>\n",
       "    <li>athlete_name\n",
       "      <ol>\n",
       "      <li>athlete_name</li>\n",
       "      </ol>    </li>\n",
       "    <li>athlete_url\n",
       "      <ol>\n",
       "      <li>athlete_url</li>\n",
       "      </ol>    </li>\n",
       "    </ul>\n",
       "  </li>\n",
       "  <li>DimEvent\n",
       "    <ul>\n",
       "    <li>DimEvent\n",
       "      <ol>\n",
       "      <li>event_title</li>\n",
       "      <li>event_discipline</li>\n",
       "      <li>event_gender</li>\n",
       "      </ol>    </li>\n",
       "    <li>event_discipline\n",
       "      <ol>\n",
       "      <li>event_discipline</li>\n",
       "      </ol>    </li>\n",
       "    <li>event_gender\n",
       "      <ol>\n",
       "      <li>event_gender</li>\n",
       "      </ol>    </li>\n",
       "    <li>event_title\n",
       "      <ol>\n",
       "      <li>event_title</li>\n",
       "      </ol>    </li>\n",
       "    </ul>\n",
       "  </li>\n",
       "  <li>DimGame\n",
       "    <ul>\n",
       "    <li>DimGame\n",
       "      <ol>\n",
       "      <li>game_name</li>\n",
       "      <li>game_season</li>\n",
       "      </ol>    </li>\n",
       "    <li>country_code\n",
       "      <ol>\n",
       "      <li>country_code</li>\n",
       "      </ol>    </li>\n",
       "    <li>game_name\n",
       "      <ol>\n",
       "      <li>game_name</li>\n",
       "      </ol>    </li>\n",
       "    <li>game_season\n",
       "      <ol>\n",
       "      <li>game_season</li>\n",
       "      </ol>    </li>\n",
       "    </ul>\n",
       "  </li>\n",
       "  <li>DimLocation\n",
       "    <ul>\n",
       "    <li>DimLocation\n",
       "      <ol>\n",
       "      <li>country_name</li>\n",
       "      <li>continent</li>\n",
       "      </ol>    </li>\n",
       "    <li>continent\n",
       "      <ol>\n",
       "      <li>continent</li>\n",
       "      </ol>    </li>\n",
       "    <li>country_name\n",
       "      <ol>\n",
       "      <li>country_name</li>\n",
       "      </ol>    </li>\n",
       "    </ul>\n",
       "  </li>\n",
       "  <li>DimParticipant\n",
       "    <ul>\n",
       "    <li>DimParticipant\n",
       "      <ol>\n",
       "      <li>participant_title</li>\n",
       "      <li>participant_type</li>\n",
       "      </ol>    </li>\n",
       "    <li>participant_title\n",
       "      <ol>\n",
       "      <li>participant_title</li>\n",
       "      </ol>    </li>\n",
       "    <li>participant_type\n",
       "      <ol>\n",
       "      <li>participant_type</li>\n",
       "      </ol>    </li>\n",
       "    </ul>\n",
       "  </li>\n",
       "  <li>DimYear\n",
       "    <ul>\n",
       "    <li>Year\n",
       "      <ol>\n",
       "      <li>year</li>\n",
       "      </ol>    </li>\n",
       "    </ul>\n",
       "  </li>\n",
       "  </ul>\n",
       "</li>\n",
       "</ul>\n"
      ],
      "text/plain": [
       "{('DimLocation', 'DimLocation'): <atoti.hierarchy.Hierarchy object at 0x7fffb0605d10>, ('DimParticipant', 'participant_title'): <atoti.hierarchy.Hierarchy object at 0x7fffb047f710>, ('DimAthlete', 'athlete_name'): <atoti.hierarchy.Hierarchy object at 0x7fffb047e750>, ('DimGame', 'DimGame'): <atoti.hierarchy.Hierarchy object at 0x7fffb047ec90>, ('DimGame', 'game_season'): <atoti.hierarchy.Hierarchy object at 0x7fffb047e410>, ('DimEvent', 'DimEvent'): <atoti.hierarchy.Hierarchy object at 0x7fffb04ff450>, ('DimAthlete', 'DimAthlete'): <atoti.hierarchy.Hierarchy object at 0x7fffb04fd190>, ('DimParticipant', 'participant_type'): <atoti.hierarchy.Hierarchy object at 0x7fffb04ffa90>, ('DimEvent', 'event_discipline'): <atoti.hierarchy.Hierarchy object at 0x7fffb04fca50>, ('DimParticipant', 'DimParticipant'): <atoti.hierarchy.Hierarchy object at 0x7fffb04ffc90>, ('DimEvent', 'event_gender'): <atoti.hierarchy.Hierarchy object at 0x7fffb04ffe50>, ('DimYear', 'Year'): <atoti.hierarchy.Hierarchy object at 0x7fffb04fc450>, ('DimLocation', 'country_name'): <atoti.hierarchy.Hierarchy object at 0x7fffb04ff890>, ('DimAthlete', 'athlete_url'): <atoti.hierarchy.Hierarchy object at 0x7fffb04fe1d0>, ('DimEvent', 'event_title'): <atoti.hierarchy.Hierarchy object at 0x7fffb04fcf10>, ('DimGame', 'game_name'): <atoti.hierarchy.Hierarchy object at 0x7fffb04fc850>, ('DimLocation', 'continent'): <atoti.hierarchy.Hierarchy object at 0x7fffb04ff290>, ('DimGame', 'country_code'): <atoti.hierarchy.Hierarchy object at 0x7fffb04ff3d0>}"
      ]
     },
     "execution_count": 29,
     "metadata": {
      "application/json": {
       "expanded": true,
       "root": "Dimensions"
      }
     },
     "output_type": "execute_result"
    }
   ],
   "source": [
    "hierarchies"
   ]
  },
  {
   "cell_type": "code",
   "execution_count": 30,
   "id": "71fc6c6c-2436-4e4c-acb6-e2ca3369f8ca",
   "metadata": {},
   "outputs": [],
   "source": [
    "hierarchies[\"DimYear\"] = [levels[\"year\"]]\n"
   ]
  },
  {
   "cell_type": "code",
   "execution_count": 31,
   "id": "03e42ba8-8ae8-4159-a2dd-58e52fc6c507",
   "metadata": {},
   "outputs": [
    {
     "data": {
      "application/json": {
       "DimAthlete": {
        "DimAthlete": [
         "athlete_name"
        ],
        "athlete_name": [
         "athlete_name"
        ],
        "athlete_url": [
         "athlete_url"
        ]
       },
       "DimEvent": {
        "DimEvent": [
         "event_title",
         "event_discipline",
         "event_gender"
        ],
        "event_discipline": [
         "event_discipline"
        ],
        "event_gender": [
         "event_gender"
        ],
        "event_title": [
         "event_title"
        ]
       },
       "DimGame": {
        "DimGame": [
         "game_name",
         "game_season"
        ],
        "country_code": [
         "country_code"
        ],
        "game_name": [
         "game_name"
        ],
        "game_season": [
         "game_season"
        ]
       },
       "DimLocation": {
        "DimLocation": [
         "country_name",
         "continent"
        ],
        "continent": [
         "continent"
        ],
        "country_name": [
         "country_name"
        ]
       },
       "DimParticipant": {
        "DimParticipant": [
         "participant_title",
         "participant_type"
        ],
        "participant_title": [
         "participant_title"
        ],
        "participant_type": [
         "participant_type"
        ]
       },
       "DimYear": {
        "DimYear": [
         "year"
        ],
        "Year": [
         "year"
        ]
       }
      },
      "text/html": [
       "<ul>\n",
       "<li>Dimensions\n",
       "  <ul>\n",
       "  <li>DimAthlete\n",
       "    <ul>\n",
       "    <li>DimAthlete\n",
       "      <ol>\n",
       "      <li>athlete_name</li>\n",
       "      </ol>    </li>\n",
       "    <li>athlete_name\n",
       "      <ol>\n",
       "      <li>athlete_name</li>\n",
       "      </ol>    </li>\n",
       "    <li>athlete_url\n",
       "      <ol>\n",
       "      <li>athlete_url</li>\n",
       "      </ol>    </li>\n",
       "    </ul>\n",
       "  </li>\n",
       "  <li>DimEvent\n",
       "    <ul>\n",
       "    <li>DimEvent\n",
       "      <ol>\n",
       "      <li>event_title</li>\n",
       "      <li>event_discipline</li>\n",
       "      <li>event_gender</li>\n",
       "      </ol>    </li>\n",
       "    <li>event_discipline\n",
       "      <ol>\n",
       "      <li>event_discipline</li>\n",
       "      </ol>    </li>\n",
       "    <li>event_gender\n",
       "      <ol>\n",
       "      <li>event_gender</li>\n",
       "      </ol>    </li>\n",
       "    <li>event_title\n",
       "      <ol>\n",
       "      <li>event_title</li>\n",
       "      </ol>    </li>\n",
       "    </ul>\n",
       "  </li>\n",
       "  <li>DimGame\n",
       "    <ul>\n",
       "    <li>DimGame\n",
       "      <ol>\n",
       "      <li>game_name</li>\n",
       "      <li>game_season</li>\n",
       "      </ol>    </li>\n",
       "    <li>country_code\n",
       "      <ol>\n",
       "      <li>country_code</li>\n",
       "      </ol>    </li>\n",
       "    <li>game_name\n",
       "      <ol>\n",
       "      <li>game_name</li>\n",
       "      </ol>    </li>\n",
       "    <li>game_season\n",
       "      <ol>\n",
       "      <li>game_season</li>\n",
       "      </ol>    </li>\n",
       "    </ul>\n",
       "  </li>\n",
       "  <li>DimLocation\n",
       "    <ul>\n",
       "    <li>DimLocation\n",
       "      <ol>\n",
       "      <li>country_name</li>\n",
       "      <li>continent</li>\n",
       "      </ol>    </li>\n",
       "    <li>continent\n",
       "      <ol>\n",
       "      <li>continent</li>\n",
       "      </ol>    </li>\n",
       "    <li>country_name\n",
       "      <ol>\n",
       "      <li>country_name</li>\n",
       "      </ol>    </li>\n",
       "    </ul>\n",
       "  </li>\n",
       "  <li>DimParticipant\n",
       "    <ul>\n",
       "    <li>DimParticipant\n",
       "      <ol>\n",
       "      <li>participant_title</li>\n",
       "      <li>participant_type</li>\n",
       "      </ol>    </li>\n",
       "    <li>participant_title\n",
       "      <ol>\n",
       "      <li>participant_title</li>\n",
       "      </ol>    </li>\n",
       "    <li>participant_type\n",
       "      <ol>\n",
       "      <li>participant_type</li>\n",
       "      </ol>    </li>\n",
       "    </ul>\n",
       "  </li>\n",
       "  <li>DimYear\n",
       "    <ul>\n",
       "    <li>DimYear\n",
       "      <ol>\n",
       "      <li>year</li>\n",
       "      </ol>    </li>\n",
       "    <li>Year\n",
       "      <ol>\n",
       "      <li>year</li>\n",
       "      </ol>    </li>\n",
       "    </ul>\n",
       "  </li>\n",
       "  </ul>\n",
       "</li>\n",
       "</ul>\n"
      ],
      "text/plain": [
       "{('DimLocation', 'DimLocation'): <atoti.hierarchy.Hierarchy object at 0x7fffb04ca850>, ('DimParticipant', 'participant_title'): <atoti.hierarchy.Hierarchy object at 0x7fffb04ca750>, ('DimAthlete', 'athlete_name'): <atoti.hierarchy.Hierarchy object at 0x7fffb04c8190>, ('DimGame', 'DimGame'): <atoti.hierarchy.Hierarchy object at 0x7fffb04c8210>, ('DimGame', 'game_season'): <atoti.hierarchy.Hierarchy object at 0x7fffb04c8810>, ('DimEvent', 'DimEvent'): <atoti.hierarchy.Hierarchy object at 0x7fffb04c8d90>, ('DimAthlete', 'DimAthlete'): <atoti.hierarchy.Hierarchy object at 0x7fffb04c85d0>, ('DimParticipant', 'participant_type'): <atoti.hierarchy.Hierarchy object at 0x7fffb04cb650>, ('DimEvent', 'event_discipline'): <atoti.hierarchy.Hierarchy object at 0x7fffb04c8550>, ('DimParticipant', 'DimParticipant'): <atoti.hierarchy.Hierarchy object at 0x7fffb04c8650>, ('DimEvent', 'event_gender'): <atoti.hierarchy.Hierarchy object at 0x7fffb04c96d0>, ('DimYear', 'Year'): <atoti.hierarchy.Hierarchy object at 0x7fffb04c9f10>, ('DimYear', 'DimYear'): <atoti.hierarchy.Hierarchy object at 0x7fffb04c9250>, ('DimLocation', 'country_name'): <atoti.hierarchy.Hierarchy object at 0x7fffb04c8e90>, ('DimAthlete', 'athlete_url'): <atoti.hierarchy.Hierarchy object at 0x7fffb04cbe90>, ('DimEvent', 'event_title'): <atoti.hierarchy.Hierarchy object at 0x7fffb04c9710>, ('DimGame', 'game_name'): <atoti.hierarchy.Hierarchy object at 0x7fffb04c93d0>, ('DimLocation', 'continent'): <atoti.hierarchy.Hierarchy object at 0x7fffb04cb810>, ('DimGame', 'country_code'): <atoti.hierarchy.Hierarchy object at 0x7fffb04cbbd0>}"
      ]
     },
     "execution_count": 31,
     "metadata": {
      "application/json": {
       "expanded": true,
       "root": "Dimensions"
      }
     },
     "output_type": "execute_result"
    }
   ],
   "source": [
    "hierarchies"
   ]
  },
  {
   "cell_type": "code",
   "execution_count": 32,
   "id": "060fad92-3b6d-4706-8979-8919e5cf7c03",
   "metadata": {},
   "outputs": [
    {
     "name": "stdout",
     "output_type": "stream",
     "text": [
      "('DimLocation', 'DimLocation')\n",
      "('DimParticipant', 'participant_title')\n",
      "('DimAthlete', 'athlete_name')\n",
      "('DimGame', 'DimGame')\n",
      "('DimGame', 'game_season')\n",
      "('DimEvent', 'DimEvent')\n",
      "('DimAthlete', 'DimAthlete')\n",
      "('DimParticipant', 'participant_type')\n",
      "('DimEvent', 'event_discipline')\n",
      "('DimParticipant', 'DimParticipant')\n",
      "('DimEvent', 'event_gender')\n",
      "('DimYear', 'Year')\n",
      "('DimYear', 'DimYear')\n",
      "('DimLocation', 'country_name')\n",
      "('DimAthlete', 'athlete_url')\n",
      "('DimEvent', 'event_title')\n",
      "('DimGame', 'game_name')\n",
      "('DimLocation', 'continent')\n",
      "('DimGame', 'country_code')\n"
     ]
    }
   ],
   "source": [
    "for hierarchy in hierarchies:\n",
    "    print(hierarchy)"
   ]
  },
  {
   "cell_type": "code",
   "execution_count": 33,
   "id": "c2447c51-fbd3-424b-b7af-ac7191219616",
   "metadata": {},
   "outputs": [],
   "source": [
    "del hierarchies[(\"DimAthlete\", \"athlete_name\")]"
   ]
  },
  {
   "cell_type": "code",
   "execution_count": 34,
   "id": "11aafdbb-8f26-4098-abb8-3ad313558d0f",
   "metadata": {},
   "outputs": [],
   "source": [
    "del hierarchies[('DimAthlete', 'athlete_url')]"
   ]
  },
  {
   "cell_type": "code",
   "execution_count": 35,
   "id": "6fde0062-73e0-495a-ac77-ba1c64870cc7",
   "metadata": {},
   "outputs": [],
   "source": [
    "del hierarchies[('DimEvent', 'event_gender')]\n",
    "del hierarchies[('DimEvent', 'event_title')]\n",
    "del hierarchies[('DimEvent', 'event_discipline')]"
   ]
  },
  {
   "cell_type": "code",
   "execution_count": 36,
   "id": "c099cecb-6583-43c0-831c-445317bfcd96",
   "metadata": {},
   "outputs": [],
   "source": [
    "del hierarchies[('DimGame', 'game_season')]\n",
    "del hierarchies[('DimGame', 'country_code')]\n",
    "del hierarchies[('DimGame', 'game_name')]"
   ]
  },
  {
   "cell_type": "code",
   "execution_count": 37,
   "id": "97e339bf-d3fd-4048-9038-1a3ccf47b348",
   "metadata": {},
   "outputs": [],
   "source": [
    "del hierarchies[('DimLocation', 'country_name')]\n",
    "del hierarchies[('DimLocation', 'continent')]\n"
   ]
  },
  {
   "cell_type": "code",
   "execution_count": 38,
   "id": "393151c0-3422-49b8-bfbf-5c3872f6d39f",
   "metadata": {},
   "outputs": [],
   "source": [
    "del hierarchies[('DimParticipant', 'participant_title')]\n",
    "del hierarchies[('DimParticipant', 'participant_type')]"
   ]
  },
  {
   "cell_type": "code",
   "execution_count": 39,
   "id": "495caa55-6481-41e6-828c-7b63715e0f12",
   "metadata": {},
   "outputs": [],
   "source": [
    "del hierarchies[('DimYear', 'Year')]"
   ]
  },
  {
   "cell_type": "code",
   "execution_count": 40,
   "id": "ef0a3743-e89c-44cc-9ee1-21e82fd1a0a8",
   "metadata": {},
   "outputs": [
    {
     "data": {
      "application/json": {
       "DimAthlete": {
        "DimAthlete": [
         "athlete_name"
        ]
       },
       "DimEvent": {
        "DimEvent": [
         "event_title",
         "event_discipline",
         "event_gender"
        ]
       },
       "DimGame": {
        "DimGame": [
         "game_name",
         "game_season"
        ]
       },
       "DimLocation": {
        "DimLocation": [
         "country_name",
         "continent"
        ]
       },
       "DimParticipant": {
        "DimParticipant": [
         "participant_title",
         "participant_type"
        ]
       },
       "DimYear": {
        "DimYear": [
         "year"
        ]
       }
      },
      "text/html": [
       "<ul>\n",
       "<li>Dimensions\n",
       "  <ul>\n",
       "  <li>DimAthlete\n",
       "    <ul>\n",
       "    <li>DimAthlete\n",
       "      <ol>\n",
       "      <li>athlete_name</li>\n",
       "      </ol>    </li>\n",
       "    </ul>\n",
       "  </li>\n",
       "  <li>DimEvent\n",
       "    <ul>\n",
       "    <li>DimEvent\n",
       "      <ol>\n",
       "      <li>event_title</li>\n",
       "      <li>event_discipline</li>\n",
       "      <li>event_gender</li>\n",
       "      </ol>    </li>\n",
       "    </ul>\n",
       "  </li>\n",
       "  <li>DimGame\n",
       "    <ul>\n",
       "    <li>DimGame\n",
       "      <ol>\n",
       "      <li>game_name</li>\n",
       "      <li>game_season</li>\n",
       "      </ol>    </li>\n",
       "    </ul>\n",
       "  </li>\n",
       "  <li>DimLocation\n",
       "    <ul>\n",
       "    <li>DimLocation\n",
       "      <ol>\n",
       "      <li>country_name</li>\n",
       "      <li>continent</li>\n",
       "      </ol>    </li>\n",
       "    </ul>\n",
       "  </li>\n",
       "  <li>DimParticipant\n",
       "    <ul>\n",
       "    <li>DimParticipant\n",
       "      <ol>\n",
       "      <li>participant_title</li>\n",
       "      <li>participant_type</li>\n",
       "      </ol>    </li>\n",
       "    </ul>\n",
       "  </li>\n",
       "  <li>DimYear\n",
       "    <ul>\n",
       "    <li>DimYear\n",
       "      <ol>\n",
       "      <li>year</li>\n",
       "      </ol>    </li>\n",
       "    </ul>\n",
       "  </li>\n",
       "  </ul>\n",
       "</li>\n",
       "</ul>\n"
      ],
      "text/plain": [
       "{('DimParticipant', 'DimParticipant'): <atoti.hierarchy.Hierarchy object at 0x7fffb0354290>, ('DimLocation', 'DimLocation'): <atoti.hierarchy.Hierarchy object at 0x7fffb0482f90>, ('DimYear', 'DimYear'): <atoti.hierarchy.Hierarchy object at 0x7fffb0481890>, ('DimGame', 'DimGame'): <atoti.hierarchy.Hierarchy object at 0x7fffb04cd810>, ('DimEvent', 'DimEvent'): <atoti.hierarchy.Hierarchy object at 0x7fffb04cdfd0>, ('DimAthlete', 'DimAthlete'): <atoti.hierarchy.Hierarchy object at 0x7fffb04cd990>}"
      ]
     },
     "execution_count": 40,
     "metadata": {
      "application/json": {
       "expanded": true,
       "root": "Dimensions"
      }
     },
     "output_type": "execute_result"
    }
   ],
   "source": [
    "hierarchies"
   ]
  },
  {
   "cell_type": "code",
   "execution_count": 41,
   "id": "27c0db25-15ee-4ce2-b96a-bfd2e574f916",
   "metadata": {},
   "outputs": [
    {
     "data": {
      "application/json": {
       "annual_gdp_growth.MEAN": {
        "formatter": "DOUBLE[#,###.00]"
       },
       "annual_gdp_growth.SUM": {
        "formatter": "DOUBLE[#,###.00]"
       },
       "athlete_id.MEAN": {
        "formatter": "DOUBLE[#,###.00]"
       },
       "athlete_id.SUM": {
        "formatter": "INT[#,###]"
       },
       "contributors.COUNT": {
        "formatter": "INT[#,###]"
       },
       "current_health_expenditure.MEAN": {
        "formatter": "DOUBLE[#,###.00]"
       },
       "current_health_expenditure.SUM": {
        "formatter": "DOUBLE[#,###.00]"
       },
       "daly_anxiety.MEAN": {
        "formatter": "DOUBLE[#,###.00]"
       },
       "daly_anxiety.SUM": {
        "formatter": "DOUBLE[#,###.00]"
       },
       "daly_bipolar_disorder.MEAN": {
        "formatter": "DOUBLE[#,###.00]"
       },
       "daly_bipolar_disorder.SUM": {
        "formatter": "DOUBLE[#,###.00]"
       },
       "daly_depression.MEAN": {
        "formatter": "DOUBLE[#,###.00]"
       },
       "daly_depression.SUM": {
        "formatter": "DOUBLE[#,###.00]"
       },
       "daly_eating_disorder.MEAN": {
        "formatter": "DOUBLE[#,###.00]"
       },
       "daly_eating_disorder.SUM": {
        "formatter": "DOUBLE[#,###.00]"
       },
       "daly_schizophrenia.MEAN": {
        "formatter": "DOUBLE[#,###.00]"
       },
       "daly_schizophrenia.SUM": {
        "formatter": "DOUBLE[#,###.00]"
       },
       "event_id.MEAN": {
        "formatter": "DOUBLE[#,###.00]"
       },
       "event_id.SUM": {
        "formatter": "INT[#,###]"
       },
       "external_health_expenditure.MEAN": {
        "formatter": "DOUBLE[#,###.00]"
       },
       "external_health_expenditure.SUM": {
        "formatter": "DOUBLE[#,###.00]"
       },
       "gdp_per_capita.MEAN": {
        "formatter": "DOUBLE[#,###.00]"
       },
       "gdp_per_capita.SUM": {
        "formatter": "DOUBLE[#,###.00]"
       },
       "government_health_expenditure.MEAN": {
        "formatter": "DOUBLE[#,###.00]"
       },
       "government_health_expenditure.SUM": {
        "formatter": "DOUBLE[#,###.00]"
       },
       "infant_mortality_rate.MEAN": {
        "formatter": "DOUBLE[#,###.00]"
       },
       "infant_mortality_rate.SUM": {
        "formatter": "DOUBLE[#,###.00]"
       },
       "life_expectancy.MEAN": {
        "formatter": "DOUBLE[#,###.00]"
       },
       "life_expectancy.SUM": {
        "formatter": "DOUBLE[#,###.00]"
       },
       "participant_id.MEAN": {
        "formatter": "DOUBLE[#,###.00]"
       },
       "participant_id.SUM": {
        "formatter": "INT[#,###]"
       },
       "poverty_count.MEAN": {
        "formatter": "DOUBLE[#,###.00]"
       },
       "poverty_count.SUM": {
        "formatter": "DOUBLE[#,###.00]"
       },
       "private_health_expenditure.MEAN": {
        "formatter": "DOUBLE[#,###.00]"
       },
       "private_health_expenditure.SUM": {
        "formatter": "DOUBLE[#,###.00]"
       },
       "servers_count.MEAN": {
        "formatter": "DOUBLE[#,###.00]"
       },
       "servers_count.SUM": {
        "formatter": "INT[#,###]"
       },
       "total_bronze_medals.MEAN": {
        "formatter": "DOUBLE[#,###.00]"
       },
       "total_bronze_medals.SUM": {
        "formatter": "INT[#,###]"
       },
       "total_gold_medals.MEAN": {
        "formatter": "DOUBLE[#,###.00]"
       },
       "total_gold_medals.SUM": {
        "formatter": "INT[#,###]"
       },
       "total_medals.MEAN": {
        "formatter": "DOUBLE[#,###.00]"
       },
       "total_medals.SUM": {
        "formatter": "INT[#,###]"
       },
       "total_silver_medals.MEAN": {
        "formatter": "DOUBLE[#,###.00]"
       },
       "total_silver_medals.SUM": {
        "formatter": "INT[#,###]"
       }
      },
      "text/html": [
       "<ul>\n",
       "<li>Measures\n",
       "  <ul>\n",
       "  <li>annual_gdp_growth.MEAN\n",
       "    <ul>\n",
       "    <li>formatter: DOUBLE[#,###.00]</li>\n",
       "    </ul>\n",
       "  </li>\n",
       "  <li>annual_gdp_growth.SUM\n",
       "    <ul>\n",
       "    <li>formatter: DOUBLE[#,###.00]</li>\n",
       "    </ul>\n",
       "  </li>\n",
       "  <li>athlete_id.MEAN\n",
       "    <ul>\n",
       "    <li>formatter: DOUBLE[#,###.00]</li>\n",
       "    </ul>\n",
       "  </li>\n",
       "  <li>athlete_id.SUM\n",
       "    <ul>\n",
       "    <li>formatter: INT[#,###]</li>\n",
       "    </ul>\n",
       "  </li>\n",
       "  <li>contributors.COUNT\n",
       "    <ul>\n",
       "    <li>formatter: INT[#,###]</li>\n",
       "    </ul>\n",
       "  </li>\n",
       "  <li>current_health_expenditure.MEAN\n",
       "    <ul>\n",
       "    <li>formatter: DOUBLE[#,###.00]</li>\n",
       "    </ul>\n",
       "  </li>\n",
       "  <li>current_health_expenditure.SUM\n",
       "    <ul>\n",
       "    <li>formatter: DOUBLE[#,###.00]</li>\n",
       "    </ul>\n",
       "  </li>\n",
       "  <li>daly_anxiety.MEAN\n",
       "    <ul>\n",
       "    <li>formatter: DOUBLE[#,###.00]</li>\n",
       "    </ul>\n",
       "  </li>\n",
       "  <li>daly_anxiety.SUM\n",
       "    <ul>\n",
       "    <li>formatter: DOUBLE[#,###.00]</li>\n",
       "    </ul>\n",
       "  </li>\n",
       "  <li>daly_bipolar_disorder.MEAN\n",
       "    <ul>\n",
       "    <li>formatter: DOUBLE[#,###.00]</li>\n",
       "    </ul>\n",
       "  </li>\n",
       "  <li>daly_bipolar_disorder.SUM\n",
       "    <ul>\n",
       "    <li>formatter: DOUBLE[#,###.00]</li>\n",
       "    </ul>\n",
       "  </li>\n",
       "  <li>daly_depression.MEAN\n",
       "    <ul>\n",
       "    <li>formatter: DOUBLE[#,###.00]</li>\n",
       "    </ul>\n",
       "  </li>\n",
       "  <li>daly_depression.SUM\n",
       "    <ul>\n",
       "    <li>formatter: DOUBLE[#,###.00]</li>\n",
       "    </ul>\n",
       "  </li>\n",
       "  <li>daly_eating_disorder.MEAN\n",
       "    <ul>\n",
       "    <li>formatter: DOUBLE[#,###.00]</li>\n",
       "    </ul>\n",
       "  </li>\n",
       "  <li>daly_eating_disorder.SUM\n",
       "    <ul>\n",
       "    <li>formatter: DOUBLE[#,###.00]</li>\n",
       "    </ul>\n",
       "  </li>\n",
       "  <li>daly_schizophrenia.MEAN\n",
       "    <ul>\n",
       "    <li>formatter: DOUBLE[#,###.00]</li>\n",
       "    </ul>\n",
       "  </li>\n",
       "  <li>daly_schizophrenia.SUM\n",
       "    <ul>\n",
       "    <li>formatter: DOUBLE[#,###.00]</li>\n",
       "    </ul>\n",
       "  </li>\n",
       "  <li>event_id.MEAN\n",
       "    <ul>\n",
       "    <li>formatter: DOUBLE[#,###.00]</li>\n",
       "    </ul>\n",
       "  </li>\n",
       "  <li>event_id.SUM\n",
       "    <ul>\n",
       "    <li>formatter: INT[#,###]</li>\n",
       "    </ul>\n",
       "  </li>\n",
       "  <li>external_health_expenditure.MEAN\n",
       "    <ul>\n",
       "    <li>formatter: DOUBLE[#,###.00]</li>\n",
       "    </ul>\n",
       "  </li>\n",
       "  <li>external_health_expenditure.SUM\n",
       "    <ul>\n",
       "    <li>formatter: DOUBLE[#,###.00]</li>\n",
       "    </ul>\n",
       "  </li>\n",
       "  <li>gdp_per_capita.MEAN\n",
       "    <ul>\n",
       "    <li>formatter: DOUBLE[#,###.00]</li>\n",
       "    </ul>\n",
       "  </li>\n",
       "  <li>gdp_per_capita.SUM\n",
       "    <ul>\n",
       "    <li>formatter: DOUBLE[#,###.00]</li>\n",
       "    </ul>\n",
       "  </li>\n",
       "  <li>government_health_expenditure.MEAN\n",
       "    <ul>\n",
       "    <li>formatter: DOUBLE[#,###.00]</li>\n",
       "    </ul>\n",
       "  </li>\n",
       "  <li>government_health_expenditure.SUM\n",
       "    <ul>\n",
       "    <li>formatter: DOUBLE[#,###.00]</li>\n",
       "    </ul>\n",
       "  </li>\n",
       "  <li>infant_mortality_rate.MEAN\n",
       "    <ul>\n",
       "    <li>formatter: DOUBLE[#,###.00]</li>\n",
       "    </ul>\n",
       "  </li>\n",
       "  <li>infant_mortality_rate.SUM\n",
       "    <ul>\n",
       "    <li>formatter: DOUBLE[#,###.00]</li>\n",
       "    </ul>\n",
       "  </li>\n",
       "  <li>life_expectancy.MEAN\n",
       "    <ul>\n",
       "    <li>formatter: DOUBLE[#,###.00]</li>\n",
       "    </ul>\n",
       "  </li>\n",
       "  <li>life_expectancy.SUM\n",
       "    <ul>\n",
       "    <li>formatter: DOUBLE[#,###.00]</li>\n",
       "    </ul>\n",
       "  </li>\n",
       "  <li>participant_id.MEAN\n",
       "    <ul>\n",
       "    <li>formatter: DOUBLE[#,###.00]</li>\n",
       "    </ul>\n",
       "  </li>\n",
       "  <li>participant_id.SUM\n",
       "    <ul>\n",
       "    <li>formatter: INT[#,###]</li>\n",
       "    </ul>\n",
       "  </li>\n",
       "  <li>poverty_count.MEAN\n",
       "    <ul>\n",
       "    <li>formatter: DOUBLE[#,###.00]</li>\n",
       "    </ul>\n",
       "  </li>\n",
       "  <li>poverty_count.SUM\n",
       "    <ul>\n",
       "    <li>formatter: DOUBLE[#,###.00]</li>\n",
       "    </ul>\n",
       "  </li>\n",
       "  <li>private_health_expenditure.MEAN\n",
       "    <ul>\n",
       "    <li>formatter: DOUBLE[#,###.00]</li>\n",
       "    </ul>\n",
       "  </li>\n",
       "  <li>private_health_expenditure.SUM\n",
       "    <ul>\n",
       "    <li>formatter: DOUBLE[#,###.00]</li>\n",
       "    </ul>\n",
       "  </li>\n",
       "  <li>servers_count.MEAN\n",
       "    <ul>\n",
       "    <li>formatter: DOUBLE[#,###.00]</li>\n",
       "    </ul>\n",
       "  </li>\n",
       "  <li>servers_count.SUM\n",
       "    <ul>\n",
       "    <li>formatter: INT[#,###]</li>\n",
       "    </ul>\n",
       "  </li>\n",
       "  <li>total_bronze_medals.MEAN\n",
       "    <ul>\n",
       "    <li>formatter: DOUBLE[#,###.00]</li>\n",
       "    </ul>\n",
       "  </li>\n",
       "  <li>total_bronze_medals.SUM\n",
       "    <ul>\n",
       "    <li>formatter: INT[#,###]</li>\n",
       "    </ul>\n",
       "  </li>\n",
       "  <li>total_gold_medals.MEAN\n",
       "    <ul>\n",
       "    <li>formatter: DOUBLE[#,###.00]</li>\n",
       "    </ul>\n",
       "  </li>\n",
       "  <li>total_gold_medals.SUM\n",
       "    <ul>\n",
       "    <li>formatter: INT[#,###]</li>\n",
       "    </ul>\n",
       "  </li>\n",
       "  <li>total_medals.MEAN\n",
       "    <ul>\n",
       "    <li>formatter: DOUBLE[#,###.00]</li>\n",
       "    </ul>\n",
       "  </li>\n",
       "  <li>total_medals.SUM\n",
       "    <ul>\n",
       "    <li>formatter: INT[#,###]</li>\n",
       "    </ul>\n",
       "  </li>\n",
       "  <li>total_silver_medals.MEAN\n",
       "    <ul>\n",
       "    <li>formatter: DOUBLE[#,###.00]</li>\n",
       "    </ul>\n",
       "  </li>\n",
       "  <li>total_silver_medals.SUM\n",
       "    <ul>\n",
       "    <li>formatter: INT[#,###]</li>\n",
       "    </ul>\n",
       "  </li>\n",
       "  </ul>\n",
       "</li>\n",
       "</ul>\n"
      ],
      "text/plain": [
       "{'contributors.COUNT': <atoti.measure.Measure object at 0x7fffb04fe2d0>, 'update.TIMESTAMP': <atoti.measure.Measure object at 0x7fffb04ffd10>, 'total_silver_medals.MEAN': <atoti.measure.Measure object at 0x7fffb04ff1d0>, 'total_silver_medals.SUM': <atoti.measure.Measure object at 0x7fffb047e2d0>, 'participant_id.MEAN': <atoti.measure.Measure object at 0x7fffb047f110>, 'participant_id.SUM': <atoti.measure.Measure object at 0x7fffb047c510>, 'annual_gdp_growth.MEAN': <atoti.measure.Measure object at 0x7fffb047ea50>, 'annual_gdp_growth.SUM': <atoti.measure.Measure object at 0x7fffb047ec90>, 'total_gold_medals.MEAN': <atoti.measure.Measure object at 0x7fffb047f410>, 'total_gold_medals.SUM': <atoti.measure.Measure object at 0x7fffb047d890>, 'daly_schizophrenia.MEAN': <atoti.measure.Measure object at 0x7fffb1741ed0>, 'daly_schizophrenia.SUM': <atoti.measure.Measure object at 0x7fffb1741750>, 'total_bronze_medals.MEAN': <atoti.measure.Measure object at 0x7fffb1742390>, 'total_bronze_medals.SUM': <atoti.measure.Measure object at 0x7fffb0388c50>, 'athlete_id.MEAN': <atoti.measure.Measure object at 0x7fffb0388b90>, 'athlete_id.SUM': <atoti.measure.Measure object at 0x7fffb0388c90>, 'daly_bipolar_disorder.MEAN': <atoti.measure.Measure object at 0x7fffb0388cd0>, 'daly_bipolar_disorder.SUM': <atoti.measure.Measure object at 0x7fffb0388d10>, 'external_health_expenditure.MEAN': <atoti.measure.Measure object at 0x7fffb0388d50>, 'external_health_expenditure.SUM': <atoti.measure.Measure object at 0x7fffb0388d90>, 'infant_mortality_rate.MEAN': <atoti.measure.Measure object at 0x7fffb0388dd0>, 'infant_mortality_rate.SUM': <atoti.measure.Measure object at 0x7fffb0388e10>, 'government_health_expenditure.MEAN': <atoti.measure.Measure object at 0x7fffb0388e50>, 'government_health_expenditure.SUM': <atoti.measure.Measure object at 0x7fffb0388e90>, 'servers_count.MEAN': <atoti.measure.Measure object at 0x7fffb0388ed0>, 'servers_count.SUM': <atoti.measure.Measure object at 0x7fffb0388f10>, 'event_id.MEAN': <atoti.measure.Measure object at 0x7fffb0388f50>, 'event_id.SUM': <atoti.measure.Measure object at 0x7fffb0388f90>, 'current_health_expenditure.MEAN': <atoti.measure.Measure object at 0x7fffb0388fd0>, 'current_health_expenditure.SUM': <atoti.measure.Measure object at 0x7fffb0389010>, 'poverty_count.MEAN': <atoti.measure.Measure object at 0x7fffb0389050>, 'poverty_count.SUM': <atoti.measure.Measure object at 0x7fffb0389090>, 'total_medals.MEAN': <atoti.measure.Measure object at 0x7fffb03890d0>, 'total_medals.SUM': <atoti.measure.Measure object at 0x7fffb0389110>, 'daly_anxiety.MEAN': <atoti.measure.Measure object at 0x7fffb0389150>, 'daly_anxiety.SUM': <atoti.measure.Measure object at 0x7fffb0389190>, 'gdp_per_capita.MEAN': <atoti.measure.Measure object at 0x7fffb03891d0>, 'gdp_per_capita.SUM': <atoti.measure.Measure object at 0x7fffb0389210>, 'life_expectancy.MEAN': <atoti.measure.Measure object at 0x7fffb0389250>, 'life_expectancy.SUM': <atoti.measure.Measure object at 0x7fffb0389290>, 'daly_eating_disorder.MEAN': <atoti.measure.Measure object at 0x7fffb03892d0>, 'daly_eating_disorder.SUM': <atoti.measure.Measure object at 0x7fffb0389310>, 'private_health_expenditure.MEAN': <atoti.measure.Measure object at 0x7fffb0389350>, 'private_health_expenditure.SUM': <atoti.measure.Measure object at 0x7fffb0389390>, 'daly_depression.MEAN': <atoti.measure.Measure object at 0x7fffb03893d0>, 'daly_depression.SUM': <atoti.measure.Measure object at 0x7fffb0389410>}"
      ]
     },
     "execution_count": 41,
     "metadata": {
      "application/json": {
       "expanded": false,
       "root": "Measures"
      }
     },
     "output_type": "execute_result"
    }
   ],
   "source": [
    "measures\n"
   ]
  },
  {
   "cell_type": "code",
   "execution_count": 42,
   "id": "ac6d4ea8-ad40-4429-b072-8c38688a81f2",
   "metadata": {},
   "outputs": [],
   "source": [
    "del measures[\"athlete_id.MEAN\"]\n"
   ]
  },
  {
   "cell_type": "code",
   "execution_count": 43,
   "id": "b8f43bdd-84f0-4d44-92ac-758bf5271a4f",
   "metadata": {},
   "outputs": [],
   "source": [
    "del measures[\"contributors.COUNT\"]"
   ]
  },
  {
   "cell_type": "code",
   "execution_count": 44,
   "id": "959d2c1b-ec37-4026-af03-a4daf911edc0",
   "metadata": {},
   "outputs": [],
   "source": [
    "del measures[\"athlete_id.SUM\"]"
   ]
  },
  {
   "cell_type": "code",
   "execution_count": 45,
   "id": "d8c2feed-112c-4fed-b575-2679d7946948",
   "metadata": {},
   "outputs": [],
   "source": [
    "del measures[\"event_id.MEAN\"]"
   ]
  },
  {
   "cell_type": "code",
   "execution_count": 46,
   "id": "593e4f8b-946c-4fd5-a2fc-f60283bdf080",
   "metadata": {},
   "outputs": [],
   "source": [
    "del measures[\"event_id.SUM\"]\n",
    "del measures[\"participant_id.MEAN\"]\n",
    "del measures[\"participant_id.SUM\"]"
   ]
  },
  {
   "cell_type": "code",
   "execution_count": 47,
   "id": "7773171e-412c-46bb-989e-381c70a70213",
   "metadata": {},
   "outputs": [
    {
     "data": {
      "application/json": {
       "annual_gdp_growth.MEAN": {
        "formatter": "DOUBLE[#,###.00]"
       },
       "annual_gdp_growth.SUM": {
        "formatter": "DOUBLE[#,###.00]"
       },
       "current_health_expenditure.MEAN": {
        "formatter": "DOUBLE[#,###.00]"
       },
       "current_health_expenditure.SUM": {
        "formatter": "DOUBLE[#,###.00]"
       },
       "daly_anxiety.MEAN": {
        "formatter": "DOUBLE[#,###.00]"
       },
       "daly_anxiety.SUM": {
        "formatter": "DOUBLE[#,###.00]"
       },
       "daly_bipolar_disorder.MEAN": {
        "formatter": "DOUBLE[#,###.00]"
       },
       "daly_bipolar_disorder.SUM": {
        "formatter": "DOUBLE[#,###.00]"
       },
       "daly_depression.MEAN": {
        "formatter": "DOUBLE[#,###.00]"
       },
       "daly_depression.SUM": {
        "formatter": "DOUBLE[#,###.00]"
       },
       "daly_eating_disorder.MEAN": {
        "formatter": "DOUBLE[#,###.00]"
       },
       "daly_eating_disorder.SUM": {
        "formatter": "DOUBLE[#,###.00]"
       },
       "daly_schizophrenia.MEAN": {
        "formatter": "DOUBLE[#,###.00]"
       },
       "daly_schizophrenia.SUM": {
        "formatter": "DOUBLE[#,###.00]"
       },
       "external_health_expenditure.MEAN": {
        "formatter": "DOUBLE[#,###.00]"
       },
       "external_health_expenditure.SUM": {
        "formatter": "DOUBLE[#,###.00]"
       },
       "gdp_per_capita.MEAN": {
        "formatter": "DOUBLE[#,###.00]"
       },
       "gdp_per_capita.SUM": {
        "formatter": "DOUBLE[#,###.00]"
       },
       "government_health_expenditure.MEAN": {
        "formatter": "DOUBLE[#,###.00]"
       },
       "government_health_expenditure.SUM": {
        "formatter": "DOUBLE[#,###.00]"
       },
       "infant_mortality_rate.MEAN": {
        "formatter": "DOUBLE[#,###.00]"
       },
       "infant_mortality_rate.SUM": {
        "formatter": "DOUBLE[#,###.00]"
       },
       "life_expectancy.MEAN": {
        "formatter": "DOUBLE[#,###.00]"
       },
       "life_expectancy.SUM": {
        "formatter": "DOUBLE[#,###.00]"
       },
       "poverty_count.MEAN": {
        "formatter": "DOUBLE[#,###.00]"
       },
       "poverty_count.SUM": {
        "formatter": "DOUBLE[#,###.00]"
       },
       "private_health_expenditure.MEAN": {
        "formatter": "DOUBLE[#,###.00]"
       },
       "private_health_expenditure.SUM": {
        "formatter": "DOUBLE[#,###.00]"
       },
       "servers_count.MEAN": {
        "formatter": "DOUBLE[#,###.00]"
       },
       "servers_count.SUM": {
        "formatter": "INT[#,###]"
       },
       "total_bronze_medals.MEAN": {
        "formatter": "DOUBLE[#,###.00]"
       },
       "total_bronze_medals.SUM": {
        "formatter": "INT[#,###]"
       },
       "total_gold_medals.MEAN": {
        "formatter": "DOUBLE[#,###.00]"
       },
       "total_gold_medals.SUM": {
        "formatter": "INT[#,###]"
       },
       "total_medals.MEAN": {
        "formatter": "DOUBLE[#,###.00]"
       },
       "total_medals.SUM": {
        "formatter": "INT[#,###]"
       },
       "total_silver_medals.MEAN": {
        "formatter": "DOUBLE[#,###.00]"
       },
       "total_silver_medals.SUM": {
        "formatter": "INT[#,###]"
       }
      },
      "text/html": [
       "<ul>\n",
       "<li>Measures\n",
       "  <ul>\n",
       "  <li>annual_gdp_growth.MEAN\n",
       "    <ul>\n",
       "    <li>formatter: DOUBLE[#,###.00]</li>\n",
       "    </ul>\n",
       "  </li>\n",
       "  <li>annual_gdp_growth.SUM\n",
       "    <ul>\n",
       "    <li>formatter: DOUBLE[#,###.00]</li>\n",
       "    </ul>\n",
       "  </li>\n",
       "  <li>current_health_expenditure.MEAN\n",
       "    <ul>\n",
       "    <li>formatter: DOUBLE[#,###.00]</li>\n",
       "    </ul>\n",
       "  </li>\n",
       "  <li>current_health_expenditure.SUM\n",
       "    <ul>\n",
       "    <li>formatter: DOUBLE[#,###.00]</li>\n",
       "    </ul>\n",
       "  </li>\n",
       "  <li>daly_anxiety.MEAN\n",
       "    <ul>\n",
       "    <li>formatter: DOUBLE[#,###.00]</li>\n",
       "    </ul>\n",
       "  </li>\n",
       "  <li>daly_anxiety.SUM\n",
       "    <ul>\n",
       "    <li>formatter: DOUBLE[#,###.00]</li>\n",
       "    </ul>\n",
       "  </li>\n",
       "  <li>daly_bipolar_disorder.MEAN\n",
       "    <ul>\n",
       "    <li>formatter: DOUBLE[#,###.00]</li>\n",
       "    </ul>\n",
       "  </li>\n",
       "  <li>daly_bipolar_disorder.SUM\n",
       "    <ul>\n",
       "    <li>formatter: DOUBLE[#,###.00]</li>\n",
       "    </ul>\n",
       "  </li>\n",
       "  <li>daly_depression.MEAN\n",
       "    <ul>\n",
       "    <li>formatter: DOUBLE[#,###.00]</li>\n",
       "    </ul>\n",
       "  </li>\n",
       "  <li>daly_depression.SUM\n",
       "    <ul>\n",
       "    <li>formatter: DOUBLE[#,###.00]</li>\n",
       "    </ul>\n",
       "  </li>\n",
       "  <li>daly_eating_disorder.MEAN\n",
       "    <ul>\n",
       "    <li>formatter: DOUBLE[#,###.00]</li>\n",
       "    </ul>\n",
       "  </li>\n",
       "  <li>daly_eating_disorder.SUM\n",
       "    <ul>\n",
       "    <li>formatter: DOUBLE[#,###.00]</li>\n",
       "    </ul>\n",
       "  </li>\n",
       "  <li>daly_schizophrenia.MEAN\n",
       "    <ul>\n",
       "    <li>formatter: DOUBLE[#,###.00]</li>\n",
       "    </ul>\n",
       "  </li>\n",
       "  <li>daly_schizophrenia.SUM\n",
       "    <ul>\n",
       "    <li>formatter: DOUBLE[#,###.00]</li>\n",
       "    </ul>\n",
       "  </li>\n",
       "  <li>external_health_expenditure.MEAN\n",
       "    <ul>\n",
       "    <li>formatter: DOUBLE[#,###.00]</li>\n",
       "    </ul>\n",
       "  </li>\n",
       "  <li>external_health_expenditure.SUM\n",
       "    <ul>\n",
       "    <li>formatter: DOUBLE[#,###.00]</li>\n",
       "    </ul>\n",
       "  </li>\n",
       "  <li>gdp_per_capita.MEAN\n",
       "    <ul>\n",
       "    <li>formatter: DOUBLE[#,###.00]</li>\n",
       "    </ul>\n",
       "  </li>\n",
       "  <li>gdp_per_capita.SUM\n",
       "    <ul>\n",
       "    <li>formatter: DOUBLE[#,###.00]</li>\n",
       "    </ul>\n",
       "  </li>\n",
       "  <li>government_health_expenditure.MEAN\n",
       "    <ul>\n",
       "    <li>formatter: DOUBLE[#,###.00]</li>\n",
       "    </ul>\n",
       "  </li>\n",
       "  <li>government_health_expenditure.SUM\n",
       "    <ul>\n",
       "    <li>formatter: DOUBLE[#,###.00]</li>\n",
       "    </ul>\n",
       "  </li>\n",
       "  <li>infant_mortality_rate.MEAN\n",
       "    <ul>\n",
       "    <li>formatter: DOUBLE[#,###.00]</li>\n",
       "    </ul>\n",
       "  </li>\n",
       "  <li>infant_mortality_rate.SUM\n",
       "    <ul>\n",
       "    <li>formatter: DOUBLE[#,###.00]</li>\n",
       "    </ul>\n",
       "  </li>\n",
       "  <li>life_expectancy.MEAN\n",
       "    <ul>\n",
       "    <li>formatter: DOUBLE[#,###.00]</li>\n",
       "    </ul>\n",
       "  </li>\n",
       "  <li>life_expectancy.SUM\n",
       "    <ul>\n",
       "    <li>formatter: DOUBLE[#,###.00]</li>\n",
       "    </ul>\n",
       "  </li>\n",
       "  <li>poverty_count.MEAN\n",
       "    <ul>\n",
       "    <li>formatter: DOUBLE[#,###.00]</li>\n",
       "    </ul>\n",
       "  </li>\n",
       "  <li>poverty_count.SUM\n",
       "    <ul>\n",
       "    <li>formatter: DOUBLE[#,###.00]</li>\n",
       "    </ul>\n",
       "  </li>\n",
       "  <li>private_health_expenditure.MEAN\n",
       "    <ul>\n",
       "    <li>formatter: DOUBLE[#,###.00]</li>\n",
       "    </ul>\n",
       "  </li>\n",
       "  <li>private_health_expenditure.SUM\n",
       "    <ul>\n",
       "    <li>formatter: DOUBLE[#,###.00]</li>\n",
       "    </ul>\n",
       "  </li>\n",
       "  <li>servers_count.MEAN\n",
       "    <ul>\n",
       "    <li>formatter: DOUBLE[#,###.00]</li>\n",
       "    </ul>\n",
       "  </li>\n",
       "  <li>servers_count.SUM\n",
       "    <ul>\n",
       "    <li>formatter: INT[#,###]</li>\n",
       "    </ul>\n",
       "  </li>\n",
       "  <li>total_bronze_medals.MEAN\n",
       "    <ul>\n",
       "    <li>formatter: DOUBLE[#,###.00]</li>\n",
       "    </ul>\n",
       "  </li>\n",
       "  <li>total_bronze_medals.SUM\n",
       "    <ul>\n",
       "    <li>formatter: INT[#,###]</li>\n",
       "    </ul>\n",
       "  </li>\n",
       "  <li>total_gold_medals.MEAN\n",
       "    <ul>\n",
       "    <li>formatter: DOUBLE[#,###.00]</li>\n",
       "    </ul>\n",
       "  </li>\n",
       "  <li>total_gold_medals.SUM\n",
       "    <ul>\n",
       "    <li>formatter: INT[#,###]</li>\n",
       "    </ul>\n",
       "  </li>\n",
       "  <li>total_medals.MEAN\n",
       "    <ul>\n",
       "    <li>formatter: DOUBLE[#,###.00]</li>\n",
       "    </ul>\n",
       "  </li>\n",
       "  <li>total_medals.SUM\n",
       "    <ul>\n",
       "    <li>formatter: INT[#,###]</li>\n",
       "    </ul>\n",
       "  </li>\n",
       "  <li>total_silver_medals.MEAN\n",
       "    <ul>\n",
       "    <li>formatter: DOUBLE[#,###.00]</li>\n",
       "    </ul>\n",
       "  </li>\n",
       "  <li>total_silver_medals.SUM\n",
       "    <ul>\n",
       "    <li>formatter: INT[#,###]</li>\n",
       "    </ul>\n",
       "  </li>\n",
       "  </ul>\n",
       "</li>\n",
       "</ul>\n"
      ],
      "text/plain": [
       "{'update.TIMESTAMP': <atoti.measure.Measure object at 0x7fffb03a9650>, 'total_silver_medals.MEAN': <atoti.measure.Measure object at 0x7fffb03a96d0>, 'total_silver_medals.SUM': <atoti.measure.Measure object at 0x7fffb03a9710>, 'annual_gdp_growth.MEAN': <atoti.measure.Measure object at 0x7fffb03a9750>, 'annual_gdp_growth.SUM': <atoti.measure.Measure object at 0x7fffb03a9790>, 'total_gold_medals.MEAN': <atoti.measure.Measure object at 0x7fffb03a97d0>, 'total_gold_medals.SUM': <atoti.measure.Measure object at 0x7fffb03a9810>, 'daly_schizophrenia.MEAN': <atoti.measure.Measure object at 0x7fffb03a9850>, 'daly_schizophrenia.SUM': <atoti.measure.Measure object at 0x7fffb03a9890>, 'total_bronze_medals.MEAN': <atoti.measure.Measure object at 0x7fffb03a98d0>, 'total_bronze_medals.SUM': <atoti.measure.Measure object at 0x7fffb03a9910>, 'daly_bipolar_disorder.MEAN': <atoti.measure.Measure object at 0x7fffb03a9950>, 'daly_bipolar_disorder.SUM': <atoti.measure.Measure object at 0x7fffb03a9990>, 'external_health_expenditure.MEAN': <atoti.measure.Measure object at 0x7fffb03a99d0>, 'external_health_expenditure.SUM': <atoti.measure.Measure object at 0x7fffb03a9a10>, 'infant_mortality_rate.MEAN': <atoti.measure.Measure object at 0x7fffb03a9a50>, 'infant_mortality_rate.SUM': <atoti.measure.Measure object at 0x7fffb03a9a90>, 'government_health_expenditure.MEAN': <atoti.measure.Measure object at 0x7fffb03a9ad0>, 'government_health_expenditure.SUM': <atoti.measure.Measure object at 0x7fffb03a9b10>, 'servers_count.MEAN': <atoti.measure.Measure object at 0x7fffb03a9b50>, 'servers_count.SUM': <atoti.measure.Measure object at 0x7fffb03a9b90>, 'current_health_expenditure.MEAN': <atoti.measure.Measure object at 0x7fffb03a9bd0>, 'current_health_expenditure.SUM': <atoti.measure.Measure object at 0x7fffb03a9c10>, 'poverty_count.MEAN': <atoti.measure.Measure object at 0x7fffb03a9c50>, 'poverty_count.SUM': <atoti.measure.Measure object at 0x7fffb03a9c90>, 'total_medals.MEAN': <atoti.measure.Measure object at 0x7fffb03a9cd0>, 'total_medals.SUM': <atoti.measure.Measure object at 0x7fffb03a9d10>, 'daly_anxiety.MEAN': <atoti.measure.Measure object at 0x7fffb03a9d50>, 'daly_anxiety.SUM': <atoti.measure.Measure object at 0x7fffb03a9d90>, 'gdp_per_capita.MEAN': <atoti.measure.Measure object at 0x7fffb03a9dd0>, 'gdp_per_capita.SUM': <atoti.measure.Measure object at 0x7fffb03a9e10>, 'life_expectancy.MEAN': <atoti.measure.Measure object at 0x7fffb03a9e50>, 'life_expectancy.SUM': <atoti.measure.Measure object at 0x7fffb03a9e90>, 'daly_eating_disorder.MEAN': <atoti.measure.Measure object at 0x7fffb03a9ed0>, 'daly_eating_disorder.SUM': <atoti.measure.Measure object at 0x7fffb03a9f10>, 'private_health_expenditure.MEAN': <atoti.measure.Measure object at 0x7fffb03a9f50>, 'private_health_expenditure.SUM': <atoti.measure.Measure object at 0x7fffb03a9f90>, 'daly_depression.MEAN': <atoti.measure.Measure object at 0x7fffb03a9fd0>, 'daly_depression.SUM': <atoti.measure.Measure object at 0x7fffb03aa010>}"
      ]
     },
     "execution_count": 47,
     "metadata": {
      "application/json": {
       "expanded": false,
       "root": "Measures"
      }
     },
     "output_type": "execute_result"
    }
   ],
   "source": [
    "measures"
   ]
  },
  {
   "cell_type": "code",
   "execution_count": 48,
   "id": "fb4e1cc9-3050-44b3-9cb5-bbeb96451643",
   "metadata": {},
   "outputs": [
    {
     "data": {
      "application/vnd.atoti.widget.v0+json": {
       "sessionId": "1713535145_4OI4LR",
       "sessionLocation": {
        "https": false,
        "port": 9092
       },
       "widgetCreationCode": "session.widget"
      },
      "text/html": [
       "<img height=\"352\" width=\"2643\" src=\"data:image/png;base64,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\" />"
      ],
      "text/plain": [
       "Open the notebook in JupyterLab with the Atoti JupyterLab extension enabled to build this widget."
      ]
     },
     "metadata": {},
     "output_type": "display_data"
    }
   ],
   "source": [
    "session.widget"
   ]
  },
  {
   "cell_type": "code",
   "execution_count": 49,
   "id": "3e1594b4-222b-4eef-819b-6243209ec8c2",
   "metadata": {},
   "outputs": [
    {
     "data": {
      "application/vnd.atoti.link.v0+json": {
       "path": "",
       "sessionLocation": {
        "https": false,
        "port": 9092
       }
      },
      "text/markdown": [
       "http://localhost:9092\n",
       "\n",
       "_Note_: This is the session's local URL: it may not be reachable if Atoti is running on another machine."
      ],
      "text/plain": [
       "http://localhost:9092 (This is the session's local URL: it may not be reachable if Atoti is running on another machine.)"
      ]
     },
     "execution_count": 49,
     "metadata": {},
     "output_type": "execute_result"
    }
   ],
   "source": [
    "session.link"
   ]
  },
  {
   "cell_type": "code",
   "execution_count": 50,
   "id": "93f5642c-5224-47be-a7f6-725204448bf0",
   "metadata": {},
   "outputs": [],
   "source": [
    "# m[\"Price.VALUE\"] = tt.agg.single_value(table[\"Price\"])\n",
    "\n",
    "measures[\"daly_anxiety.VALUE\"] = tt.agg.single_value(combined_fact_table[\"daly_anxiety\"])"
   ]
  },
  {
   "cell_type": "code",
   "execution_count": 51,
   "id": "830285e8-28c7-48ad-9c88-48bd94b9eea0",
   "metadata": {},
   "outputs": [],
   "source": [
    "measures[\"daly_bipolar_disorder.VALUE\"] = tt.agg.single_value(combined_fact_table[\"daly_bipolar_disorder\"])"
   ]
  },
  {
   "cell_type": "code",
   "execution_count": 52,
   "id": "f8348766-a36c-41c2-8660-eca2a2345c39",
   "metadata": {},
   "outputs": [],
   "source": [
    "measures[\"daly_depression.VALUE\"] = tt.agg.single_value(combined_fact_table[\"daly_depression\"])"
   ]
  },
  {
   "cell_type": "code",
   "execution_count": 53,
   "id": "a6be7b7b-dcf4-4d7c-901c-24af89d96e78",
   "metadata": {},
   "outputs": [],
   "source": [
    "measures[\"daly_eating_disorder.VALUE\"] = tt.agg.single_value(combined_fact_table[\"daly_eating_disorder\"])"
   ]
  },
  {
   "cell_type": "code",
   "execution_count": 54,
   "id": "4574084d-0056-4170-8981-7ade91382102",
   "metadata": {},
   "outputs": [],
   "source": [
    "measures[\"daly_schizophrenia.VALUE\"] = tt.agg.single_value(combined_fact_table[\"daly_schizophrenia\"])"
   ]
  },
  {
   "cell_type": "code",
   "execution_count": 55,
   "id": "c905dc0a-d9df-4d19-8011-3ad54697a40f",
   "metadata": {},
   "outputs": [],
   "source": [
    "measures[\"life_expectancy.VALUE\"] = tt.agg.single_value(combined_fact_table[\"life_expectancy\"])"
   ]
  },
  {
   "cell_type": "code",
   "execution_count": 56,
   "id": "89672459-b484-4c4a-bda3-c216ea879aa1",
   "metadata": {},
   "outputs": [],
   "source": [
    "measures[\"current_health_expenditure.VALUE\"] = tt.agg.single_value(combined_fact_table[\"current_health_expenditure\"])"
   ]
  },
  {
   "cell_type": "code",
   "execution_count": 57,
   "id": "2cb831bb-81bc-403b-a9ee-b2397917771c",
   "metadata": {},
   "outputs": [],
   "source": [
    "measures[\"external_health_expenditure.VALUE\"] = tt.agg.single_value(combined_fact_table[\"external_health_expenditure\"])"
   ]
  },
  {
   "cell_type": "code",
   "execution_count": 58,
   "id": "9c60327b-b730-4228-beeb-a32f6843b4a3",
   "metadata": {},
   "outputs": [],
   "source": [
    "measures[\"government_health_expenditure.VALUE\"] = tt.agg.single_value(combined_fact_table[\"government_health_expenditure\"])"
   ]
  },
  {
   "cell_type": "code",
   "execution_count": 59,
   "id": "5da45076-622b-4c4c-8d67-e0e073fb869b",
   "metadata": {},
   "outputs": [],
   "source": [
    "measures[\"infant_mortality_rate.VALUE\"] = tt.agg.single_value(combined_fact_table[\"infant_mortality_rate\"])"
   ]
  },
  {
   "cell_type": "code",
   "execution_count": 60,
   "id": "97c67d70-b2e3-4f65-951b-2e769baf0b9e",
   "metadata": {},
   "outputs": [],
   "source": [
    "measures[\"private_health_expenditure.VALUE\"] = tt.agg.single_value(combined_fact_table[\"private_health_expenditure\"])"
   ]
  },
  {
   "cell_type": "code",
   "execution_count": 61,
   "id": "8a84b2d0-b185-4726-9c97-c49b7c0a7102",
   "metadata": {},
   "outputs": [],
   "source": [
    "measures[\"annual_gdp_growth.VALUE\"] = tt.agg.single_value(combined_fact_table[\"annual_gdp_growth\"])"
   ]
  },
  {
   "cell_type": "code",
   "execution_count": 63,
   "id": "dee954c7-1c1f-413a-afc5-982ebd714311",
   "metadata": {},
   "outputs": [],
   "source": [
    "measures[\"poverty_count.VALUE\"] = tt.agg.single_value(combined_fact_table[\"poverty_count\"])"
   ]
  },
  {
   "cell_type": "code",
   "execution_count": 64,
   "id": "b7c100e6-8d3b-4b9b-8bda-5d93e16a2aed",
   "metadata": {},
   "outputs": [],
   "source": [
    "measures[\"servers_count.VALUE\"] = tt.agg.single_value(combined_fact_table[\"servers_count\"])"
   ]
  },
  {
   "cell_type": "code",
   "execution_count": 65,
   "id": "3906bd0f-6cee-4591-89e6-7f7740939753",
   "metadata": {},
   "outputs": [
    {
     "data": {
      "application/json": {
       "athlete_name (DimAthlete/DimAthlete/athlete_name)": {
        "dimension": "DimAthlete",
        "hierarchy": "DimAthlete",
        "order": "NaturalOrder",
        "type": "String"
       },
       "continent (DimLocation/DimLocation/continent)": {
        "dimension": "DimLocation",
        "hierarchy": "DimLocation",
        "order": "NaturalOrder",
        "type": "String"
       },
       "country_name (DimLocation/DimLocation/country_name)": {
        "dimension": "DimLocation",
        "hierarchy": "DimLocation",
        "order": "NaturalOrder",
        "type": "String"
       },
       "event_discipline (DimEvent/DimEvent/event_discipline)": {
        "dimension": "DimEvent",
        "hierarchy": "DimEvent",
        "order": "NaturalOrder",
        "type": "String"
       },
       "event_gender (DimEvent/DimEvent/event_gender)": {
        "dimension": "DimEvent",
        "hierarchy": "DimEvent",
        "order": "NaturalOrder",
        "type": "String"
       },
       "event_title (DimEvent/DimEvent/event_title)": {
        "dimension": "DimEvent",
        "hierarchy": "DimEvent",
        "order": "NaturalOrder",
        "type": "String"
       },
       "game_name (DimGame/DimGame/game_name)": {
        "dimension": "DimGame",
        "hierarchy": "DimGame",
        "order": "NaturalOrder",
        "type": "String"
       },
       "game_season (DimGame/DimGame/game_season)": {
        "dimension": "DimGame",
        "hierarchy": "DimGame",
        "order": "NaturalOrder",
        "type": "String"
       },
       "participant_title (DimParticipant/DimParticipant/participant_title)": {
        "dimension": "DimParticipant",
        "hierarchy": "DimParticipant",
        "order": "NaturalOrder",
        "type": "String"
       },
       "participant_type (DimParticipant/DimParticipant/participant_type)": {
        "dimension": "DimParticipant",
        "hierarchy": "DimParticipant",
        "order": "NaturalOrder",
        "type": "String"
       },
       "year (DimYear/DimYear/year)": {
        "dimension": "DimYear",
        "hierarchy": "DimYear",
        "order": "NaturalOrder",
        "type": "String"
       }
      },
      "text/html": [
       "<ul>\n",
       "<li>Levels\n",
       "  <ul>\n",
       "  <li>athlete_name (DimAthlete/DimAthlete/athlete_name)\n",
       "    <ul>\n",
       "    <li>dimension: DimAthlete</li>\n",
       "    <li>hierarchy: DimAthlete</li>\n",
       "    <li>type: String</li>\n",
       "    <li>order: NaturalOrder</li>\n",
       "    </ul>\n",
       "  </li>\n",
       "  <li>continent (DimLocation/DimLocation/continent)\n",
       "    <ul>\n",
       "    <li>dimension: DimLocation</li>\n",
       "    <li>hierarchy: DimLocation</li>\n",
       "    <li>type: String</li>\n",
       "    <li>order: NaturalOrder</li>\n",
       "    </ul>\n",
       "  </li>\n",
       "  <li>country_name (DimLocation/DimLocation/country_name)\n",
       "    <ul>\n",
       "    <li>dimension: DimLocation</li>\n",
       "    <li>hierarchy: DimLocation</li>\n",
       "    <li>type: String</li>\n",
       "    <li>order: NaturalOrder</li>\n",
       "    </ul>\n",
       "  </li>\n",
       "  <li>event_discipline (DimEvent/DimEvent/event_discipline)\n",
       "    <ul>\n",
       "    <li>dimension: DimEvent</li>\n",
       "    <li>hierarchy: DimEvent</li>\n",
       "    <li>type: String</li>\n",
       "    <li>order: NaturalOrder</li>\n",
       "    </ul>\n",
       "  </li>\n",
       "  <li>event_gender (DimEvent/DimEvent/event_gender)\n",
       "    <ul>\n",
       "    <li>dimension: DimEvent</li>\n",
       "    <li>hierarchy: DimEvent</li>\n",
       "    <li>type: String</li>\n",
       "    <li>order: NaturalOrder</li>\n",
       "    </ul>\n",
       "  </li>\n",
       "  <li>event_title (DimEvent/DimEvent/event_title)\n",
       "    <ul>\n",
       "    <li>dimension: DimEvent</li>\n",
       "    <li>hierarchy: DimEvent</li>\n",
       "    <li>type: String</li>\n",
       "    <li>order: NaturalOrder</li>\n",
       "    </ul>\n",
       "  </li>\n",
       "  <li>game_name (DimGame/DimGame/game_name)\n",
       "    <ul>\n",
       "    <li>dimension: DimGame</li>\n",
       "    <li>hierarchy: DimGame</li>\n",
       "    <li>type: String</li>\n",
       "    <li>order: NaturalOrder</li>\n",
       "    </ul>\n",
       "  </li>\n",
       "  <li>game_season (DimGame/DimGame/game_season)\n",
       "    <ul>\n",
       "    <li>dimension: DimGame</li>\n",
       "    <li>hierarchy: DimGame</li>\n",
       "    <li>type: String</li>\n",
       "    <li>order: NaturalOrder</li>\n",
       "    </ul>\n",
       "  </li>\n",
       "  <li>participant_title (DimParticipant/DimParticipant/participant_title)\n",
       "    <ul>\n",
       "    <li>dimension: DimParticipant</li>\n",
       "    <li>hierarchy: DimParticipant</li>\n",
       "    <li>type: String</li>\n",
       "    <li>order: NaturalOrder</li>\n",
       "    </ul>\n",
       "  </li>\n",
       "  <li>participant_type (DimParticipant/DimParticipant/participant_type)\n",
       "    <ul>\n",
       "    <li>dimension: DimParticipant</li>\n",
       "    <li>hierarchy: DimParticipant</li>\n",
       "    <li>type: String</li>\n",
       "    <li>order: NaturalOrder</li>\n",
       "    </ul>\n",
       "  </li>\n",
       "  <li>year (DimYear/DimYear/year)\n",
       "    <ul>\n",
       "    <li>dimension: DimYear</li>\n",
       "    <li>hierarchy: DimYear</li>\n",
       "    <li>type: String</li>\n",
       "    <li>order: NaturalOrder</li>\n",
       "    </ul>\n",
       "  </li>\n",
       "  </ul>\n",
       "</li>\n",
       "</ul>\n"
      ],
      "text/plain": [
       "<atoti.levels.Levels at 0x7fffb04b9190>"
      ]
     },
     "execution_count": 65,
     "metadata": {
      "application/json": {
       "expanded": true,
       "root": "Levels"
      }
     },
     "output_type": "execute_result"
    }
   ],
   "source": [
    "levels"
   ]
  },
  {
   "cell_type": "markdown",
   "id": "d687b83f-a066-43cf-a081-8f9be7e8df3c",
   "metadata": {},
   "source": [
    "To scale a value down to a range of 0-100 in atoti, we can use a technique similar to min-max normalization, where we adjust the value based on the minimum and maximum values in your dataset. In our case, we'll  transform the `government_health_expenditure` values from their original range to a scale of 0 to 100. This is done so we can easilty compare them in a graph. Otherwise, thr graph was not being comparable.\n",
    "\n",
    "Here’s how we can accomplish this in atoti:\n",
    "\n",
    "1. **Calculate the minimum and maximum values** of `government_health_expenditure` across the dataset.\n",
    "2. **Create a measure** to scale the values.\n",
    "\n",
    "Here’s the code that does this:\n",
    "\n",
    "\n",
    "\n",
    "Here's what each part of the code does:\n",
    "- **`min_gov_health_exp` and `max_gov_health_exp`** are measures that calculate the minimum and maximum values of `government_health_expenditure` respectively.\n",
    "- **`scaled_gov_health_exp`** applies the formula for min-max normalization to scale the value between 0 and 100. The formula is:\n",
    "\n",
    "$$\n",
    "\\text{scaled value} = \\frac{(\\text{original value} - \\text{min value}) \\times 100}{\\text{max value} - \\text{min value}}\n",
    "$$\n",
    "\n",
    "\n",
    "  This measure will automatically update based on the filtered context of your atoti application.\n",
    "\n",
    "We will adjust `\"country_name\"` in `tt.scope.origin(lvl=\"country_name\")` to the  to apply the scaling over. "
   ]
  },
  {
   "cell_type": "code",
   "execution_count": 76,
   "id": "9cf9e07d-1828-4517-9e87-3425437f12bf",
   "metadata": {},
   "outputs": [],
   "source": [
    "measures[\"Total Medals by Discipline\"] = tt.agg.sum(measures[\"total_medals.SUM\"],  scope=tt.OriginScope(levels={levels[\"event_discipline\"]}))"
   ]
  },
  {
   "cell_type": "code",
   "execution_count": null,
   "id": "d7fb6cd1-049c-42d6-9654-5a4e013deb22",
   "metadata": {},
   "outputs": [],
   "source": []
  }
 ],
 "metadata": {
  "kernelspec": {
   "display_name": "Python 3 (ipykernel)",
   "language": "python",
   "name": "python3"
  },
  "language_info": {
   "codemirror_mode": {
    "name": "ipython",
    "version": 3
   },
   "file_extension": ".py",
   "mimetype": "text/x-python",
   "name": "python",
   "nbconvert_exporter": "python",
   "pygments_lexer": "ipython3",
   "version": "3.11.6"
  }
 },
 "nbformat": 4,
 "nbformat_minor": 5
}
