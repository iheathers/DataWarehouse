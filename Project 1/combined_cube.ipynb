{
 "cells": [
  {
   "cell_type": "code",
   "execution_count": null,
   "id": "891a1bba-796a-491f-9099-acf27da2fe19",
   "metadata": {},
   "outputs": [],
   "source": []
  },
  {
   "cell_type": "markdown",
   "id": "270585c5-9ecf-4a2a-bdff-386f7406eab5",
   "metadata": {},
   "source": [
    "# Cube and Data Warehouse"
   ]
  },
  {
   "cell_type": "code",
   "execution_count": 1,
   "id": "755e11dc-66b9-419e-9727-fe3b6325f007",
   "metadata": {},
   "outputs": [
    {
     "name": "stdout",
     "output_type": "stream",
     "text": [
      "Welcome to Atoti 0.8.10!\n",
      "\n",
      "By using this community edition, you agree with the license available at https://docs.atoti.io/latest/eula.html.\n",
      "Browse the official documentation at https://docs.atoti.io.\n",
      "Join the community at https://www.atoti.io/register.\n",
      "\n",
      "Atoti collects telemetry data, which is used to help understand how to improve the product.\n",
      "If you don't wish to send usage data, you can request a trial license at https://www.atoti.io/evaluation-license-request.\n",
      "\n",
      "You can hide this message by setting the `ATOTI_HIDE_EULA_MESSAGE` environment variable to True.\n"
     ]
    }
   ],
   "source": [
    "import atoti as tt"
   ]
  },
  {
   "cell_type": "code",
   "execution_count": 2,
   "id": "db0c2927-6db8-408e-aa55-1d9e0fe5873b",
   "metadata": {},
   "outputs": [],
   "source": [
    "session = tt.Session(\n",
    "    user_content_storage=\".content\",\n",
    "    port=9092,\n",
    "    java_options=[\"-Xms1G\", \"-Xmx10G\"]\n",
    ")"
   ]
  },
  {
   "cell_type": "code",
   "execution_count": 3,
   "id": "97a65f25-0afe-4002-afcc-a5c099820bd1",
   "metadata": {},
   "outputs": [],
   "source": [
    "db_name = \"olympic_olap\"\n",
    "db_user = \"postgres\"\n",
    "db_password = \"postgres\"  \n",
    "db_host = \"pgdb\"  # Update if your DB is hosted elsewhere\n",
    "db_port = \"5432\"\n",
    "\n",
    "jdbc_url = f\"jdbc:postgresql://{db_host}:{db_port}/{db_name}?user={db_user}&password={db_password}\""
   ]
  },
  {
   "cell_type": "code",
   "execution_count": 4,
   "id": "84f4c800-f4eb-48ff-b692-08755ed0692c",
   "metadata": {},
   "outputs": [],
   "source": [
    "combined_fact_table = session.read_sql(\n",
    "    \"\"\"\n",
    "    SELECT\n",
    "        id,\n",
    "        game_slug,\n",
    "        participant_id,\n",
    "        athlete_id,\n",
    "        event_id,\n",
    "        country_code,\n",
    "        CAST(year AS CHAR(4)) AS year,  -- Casting year to string directly in SQL\n",
    "        total_bronze_medals,\n",
    "        total_silver_medals,\n",
    "        total_gold_medals,\n",
    "        total_medals,\n",
    "        poverty_count,\n",
    "        gdp_per_capita,\n",
    "        annual_gdp_growth,\n",
    "        servers_count,\n",
    "        daly_depression,\n",
    "        daly_schizophrenia,\n",
    "        daly_bipolar_disorder,\n",
    "        daly_eating_disorder,\n",
    "        daly_anxiety,\n",
    "        life_expectancy,\n",
    "        infant_mortality_rate,\n",
    "        current_health_expenditure,\n",
    "        government_health_expenditure,\n",
    "        private_health_expenditure,\n",
    "        external_health_expenditure\n",
    "    FROM combinedfacttable\n",
    "    \"\"\",\n",
    "    keys=[\"id\"],\n",
    "    table_name=\"CombinedFactTable\",\n",
    "    url=jdbc_url,\n",
    ")"
   ]
  },
  {
   "cell_type": "code",
   "execution_count": null,
   "id": "ee9e36bc-04c7-4e69-aced-8d2bea313d1f",
   "metadata": {},
   "outputs": [],
   "source": []
  },
  {
   "cell_type": "code",
   "execution_count": 5,
   "id": "3cc4ee22-2e5e-431b-af26-26a129df759f",
   "metadata": {},
   "outputs": [],
   "source": [
    "dimlocation_table = session.read_sql(\n",
    "    \"SELECT * FROM DimLocation\",\n",
    "    keys=[\"country_code\"],\n",
    "    table_name=\"DimLocation\",\n",
    "    url=jdbc_url)"
   ]
  },
  {
   "cell_type": "code",
   "execution_count": 6,
   "id": "88cd5780-bf57-4774-b743-e79bfa2b6cc9",
   "metadata": {},
   "outputs": [],
   "source": [
    "dimevent_table = session.read_sql(\n",
    "    \"SELECT * FROM DimEvent\",\n",
    "    keys=[\"event_id\"],\n",
    "    table_name=\"DimEvent\",\n",
    "    url=jdbc_url,\n",
    ")"
   ]
  },
  {
   "cell_type": "code",
   "execution_count": 7,
   "id": "c6eac93c-63e2-492a-b248-993e5f1a15b2",
   "metadata": {},
   "outputs": [],
   "source": [
    "dimparticipant_table = session.read_sql(\n",
    "    \"SELECT * FROM DimParticipant\",\n",
    "    keys=[\"participant_id\"],\n",
    "    table_name=\"DimParticipant\",\n",
    "    url=jdbc_url,\n",
    ")"
   ]
  },
  {
   "cell_type": "code",
   "execution_count": 8,
   "id": "f17b5d9c-faf4-4d0b-b737-ef888db222ba",
   "metadata": {},
   "outputs": [],
   "source": [
    "dimathlete_table = session.read_sql(\n",
    "    \"SELECT * FROM DimAthlete\",\n",
    "    keys=[\"athlete_id\"],\n",
    "    table_name=\"DimAthlete\",\n",
    "    url=jdbc_url,\n",
    ")"
   ]
  },
  {
   "cell_type": "code",
   "execution_count": 9,
   "id": "88bb73cf-d0b8-487e-a480-7c014a3585c6",
   "metadata": {},
   "outputs": [],
   "source": [
    "dimyear_table = session.read_sql(\n",
    "    \"SELECT CAST(year AS CHAR(4)) AS year FROM DimYear\",\n",
    "    keys=[\"year\"],\n",
    "    table_name=\"DimYear\",\n",
    "    url=jdbc_url,\n",
    ")"
   ]
  },
  {
   "cell_type": "code",
   "execution_count": 10,
   "id": "c63cedce-4eb1-4dfe-baf3-18dcbcad5c63",
   "metadata": {},
   "outputs": [],
   "source": [
    "dimgame_table = session.read_sql(\n",
    "    \"SELECT * FROM DimGame\",\n",
    "    keys=[\"game_slug\"],\n",
    "    table_name=\"DimGame\",\n",
    "    url=jdbc_url,\n",
    ")"
   ]
  },
  {
   "cell_type": "code",
   "execution_count": 11,
   "id": "240b5e58-1198-4496-bd8d-73192124a60d",
   "metadata": {},
   "outputs": [],
   "source": [
    "combined_fact_table.join(dimlocation_table, combined_fact_table[\"country_code\"] == dimlocation_table[\"country_code\"])\n",
    "\n",
    "combined_fact_table.join(dimevent_table, combined_fact_table[\"event_id\"] == dimevent_table[\"event_id\"])\n",
    "\n",
    "combined_fact_table.join(dimparticipant_table, combined_fact_table[\"participant_id\"] == dimparticipant_table[\"participant_id\"])\n",
    "\n",
    "combined_fact_table.join(dimathlete_table, combined_fact_table[\"athlete_id\"] == dimathlete_table[\"athlete_id\"])\n",
    "\n",
    "combined_fact_table.join(dimyear_table, combined_fact_table[\"year\"] == dimyear_table[\"year\"])\n",
    "\n",
    "combined_fact_table.join(dimgame_table, combined_fact_table[\"game_slug\"] == dimgame_table[\"game_slug\"])"
   ]
  },
  {
   "cell_type": "code",
   "execution_count": 12,
   "id": "9c5014da-d5bb-440e-b615-3f2c9fe94dd2",
   "metadata": {},
   "outputs": [
    {
     "data": {
      "application/json": {
       "default_value": "N/A",
       "key": false,
       "type": "String"
      },
      "text/html": [
       "<ul>\n",
       "<li>year\n",
       "  <ul>\n",
       "  <li>key: False</li>\n",
       "  <li>type: String</li>\n",
       "  <li>default_value: N/A</li>\n",
       "  </ul>\n",
       "</li>\n",
       "</ul>\n"
      ],
      "text/plain": [
       "<atoti.column.Column at 0x7fffb044e0d0>"
      ]
     },
     "execution_count": 12,
     "metadata": {
      "application/json": {
       "expanded": true,
       "root": "year"
      }
     },
     "output_type": "execute_result"
    }
   ],
   "source": [
    "combined_fact_table['year']"
   ]
  },
  {
   "cell_type": "code",
   "execution_count": 13,
   "id": "3fe72bf0-45da-4fe6-8138-12d78b874fe5",
   "metadata": {},
   "outputs": [
    {
     "data": {
      "text/markdown": [
       "```mermaid\n",
       "erDiagram\n",
       "  \"DimAthlete\" {\n",
       "    _ int PK \"athlete_id\"\n",
       "    _ String \"athlete_name\"\n",
       "    _ String \"athlete_url\"\n",
       "  }\n",
       "  \"DimLocation\" {\n",
       "    _ String PK \"country_code\"\n",
       "    _ String \"country_name\"\n",
       "    _ String \"continent\"\n",
       "  }\n",
       "  \"DimEvent\" {\n",
       "    _ int PK \"event_id\"\n",
       "    _ String \"event_title\"\n",
       "    _ String \"event_discipline\"\n",
       "    _ String \"event_gender\"\n",
       "  }\n",
       "  \"CombinedFactTable\" {\n",
       "    _ int PK \"id\"\n",
       "    _ String \"game_slug\"\n",
       "    nullable int \"participant_id\"\n",
       "    nullable int \"athlete_id\"\n",
       "    nullable int \"event_id\"\n",
       "    _ String \"country_code\"\n",
       "    _ String \"year\"\n",
       "    nullable int \"total_bronze_medals\"\n",
       "    nullable int \"total_silver_medals\"\n",
       "    nullable int \"total_gold_medals\"\n",
       "    nullable int \"total_medals\"\n",
       "    nullable double \"poverty_count\"\n",
       "    nullable double \"gdp_per_capita\"\n",
       "    nullable double \"annual_gdp_growth\"\n",
       "    nullable int \"servers_count\"\n",
       "    nullable double \"daly_depression\"\n",
       "    nullable double \"daly_schizophrenia\"\n",
       "    nullable double \"daly_bipolar_disorder\"\n",
       "    nullable double \"daly_eating_disorder\"\n",
       "    nullable double \"daly_anxiety\"\n",
       "    nullable double \"life_expectancy\"\n",
       "    nullable double \"infant_mortality_rate\"\n",
       "    nullable double \"current_health_expenditure\"\n",
       "    nullable double \"government_health_expenditure\"\n",
       "    nullable double \"private_health_expenditure\"\n",
       "    nullable double \"external_health_expenditure\"\n",
       "  }\n",
       "  \"DimParticipant\" {\n",
       "    _ int PK \"participant_id\"\n",
       "    _ String \"participant_title\"\n",
       "    _ String \"participant_type\"\n",
       "  }\n",
       "  \"DimYear\" {\n",
       "    _ String PK \"year\"\n",
       "  }\n",
       "  \"DimGame\" {\n",
       "    _ String PK \"game_slug\"\n",
       "    _ String \"game_name\"\n",
       "    _ String \"game_season\"\n",
       "    nullable int \"game_year\"\n",
       "    _ String \"country_code\"\n",
       "  }\n",
       "  \"CombinedFactTable\" }o--o| \"DimLocation\" : \"`country_code` == `country_code`\"\n",
       "  \"CombinedFactTable\" }o--o| \"DimGame\" : \"`game_slug` == `game_slug`\"\n",
       "  \"CombinedFactTable\" }o--o| \"DimParticipant\" : \"`participant_id` == `participant_id`\"\n",
       "  \"CombinedFactTable\" }o--o| \"DimYear\" : \"`year` == `year`\"\n",
       "  \"CombinedFactTable\" }o--o| \"DimAthlete\" : \"`athlete_id` == `athlete_id`\"\n",
       "  \"CombinedFactTable\" }o--o| \"DimEvent\" : \"`event_id` == `event_id`\"\n",
       "```\n"
      ],
      "text/plain": [
       "erDiagram\n",
       "  \"DimAthlete\" {\n",
       "    _ int PK \"athlete_id\"\n",
       "    _ String \"athlete_name\"\n",
       "    _ String \"athlete_url\"\n",
       "  }\n",
       "  \"DimLocation\" {\n",
       "    _ String PK \"country_code\"\n",
       "    _ String \"country_name\"\n",
       "    _ String \"continent\"\n",
       "  }\n",
       "  \"DimEvent\" {\n",
       "    _ int PK \"event_id\"\n",
       "    _ String \"event_title\"\n",
       "    _ String \"event_discipline\"\n",
       "    _ String \"event_gender\"\n",
       "  }\n",
       "  \"CombinedFactTable\" {\n",
       "    _ int PK \"id\"\n",
       "    _ String \"game_slug\"\n",
       "    nullable int \"participant_id\"\n",
       "    nullable int \"athlete_id\"\n",
       "    nullable int \"event_id\"\n",
       "    _ String \"country_code\"\n",
       "    _ String \"year\"\n",
       "    nullable int \"total_bronze_medals\"\n",
       "    nullable int \"total_silver_medals\"\n",
       "    nullable int \"total_gold_medals\"\n",
       "    nullable int \"total_medals\"\n",
       "    nullable double \"poverty_count\"\n",
       "    nullable double \"gdp_per_capita\"\n",
       "    nullable double \"annual_gdp_growth\"\n",
       "    nullable int \"servers_count\"\n",
       "    nullable double \"daly_depression\"\n",
       "    nullable double \"daly_schizophrenia\"\n",
       "    nullable double \"daly_bipolar_disorder\"\n",
       "    nullable double \"daly_eating_disorder\"\n",
       "    nullable double \"daly_anxiety\"\n",
       "    nullable double \"life_expectancy\"\n",
       "    nullable double \"infant_mortality_rate\"\n",
       "    nullable double \"current_health_expenditure\"\n",
       "    nullable double \"government_health_expenditure\"\n",
       "    nullable double \"private_health_expenditure\"\n",
       "    nullable double \"external_health_expenditure\"\n",
       "  }\n",
       "  \"DimParticipant\" {\n",
       "    _ int PK \"participant_id\"\n",
       "    _ String \"participant_title\"\n",
       "    _ String \"participant_type\"\n",
       "  }\n",
       "  \"DimYear\" {\n",
       "    _ String PK \"year\"\n",
       "  }\n",
       "  \"DimGame\" {\n",
       "    _ String PK \"game_slug\"\n",
       "    _ String \"game_name\"\n",
       "    _ String \"game_season\"\n",
       "    nullable int \"game_year\"\n",
       "    _ String \"country_code\"\n",
       "  }\n",
       "  \"CombinedFactTable\" }o--o| \"DimLocation\" : \"`country_code` == `country_code`\"\n",
       "  \"CombinedFactTable\" }o--o| \"DimGame\" : \"`game_slug` == `game_slug`\"\n",
       "  \"CombinedFactTable\" }o--o| \"DimParticipant\" : \"`participant_id` == `participant_id`\"\n",
       "  \"CombinedFactTable\" }o--o| \"DimYear\" : \"`year` == `year`\"\n",
       "  \"CombinedFactTable\" }o--o| \"DimAthlete\" : \"`athlete_id` == `athlete_id`\"\n",
       "  \"CombinedFactTable\" }o--o| \"DimEvent\" : \"`event_id` == `event_id`\""
      ]
     },
     "execution_count": 13,
     "metadata": {},
     "output_type": "execute_result"
    }
   ],
   "source": [
    "session.tables.schema"
   ]
  },
  {
   "cell_type": "code",
   "execution_count": null,
   "id": "b8b62ec1-22bd-4b8d-b851-07d9770f2519",
   "metadata": {},
   "outputs": [],
   "source": []
  },
  {
   "cell_type": "code",
   "execution_count": 14,
   "id": "2c81cfa6-29e8-41b8-8f8c-11331e381787",
   "metadata": {},
   "outputs": [],
   "source": [
    "cube = session.create_cube(combined_fact_table)"
   ]
  },
  {
   "cell_type": "code",
   "execution_count": 15,
   "id": "dc050f18-a3b2-4710-b251-8508415fec3f",
   "metadata": {},
   "outputs": [
    {
     "data": {
      "application/json": {
       "Dimensions": {
        "CombinedFactTable": {
         "country_code": [
          "country_code"
         ],
         "game_slug": [
          "game_slug"
         ],
         "id": [
          "id"
         ],
         "year": [
          "year"
         ]
        },
        "DimAthlete": {
         "athlete_name": [
          "athlete_name"
         ],
         "athlete_url": [
          "athlete_url"
         ]
        },
        "DimEvent": {
         "event_discipline": [
          "event_discipline"
         ],
         "event_gender": [
          "event_gender"
         ],
         "event_title": [
          "event_title"
         ]
        },
        "DimGame": {
         "country_code": [
          "country_code"
         ],
         "game_name": [
          "game_name"
         ],
         "game_season": [
          "game_season"
         ]
        },
        "DimLocation": {
         "continent": [
          "continent"
         ],
         "country_name": [
          "country_name"
         ]
        },
        "DimParticipant": {
         "participant_title": [
          "participant_title"
         ],
         "participant_type": [
          "participant_type"
         ]
        }
       },
       "Measures": {
        "annual_gdp_growth.MEAN": {
         "formatter": "DOUBLE[#,###.00]"
        },
        "annual_gdp_growth.SUM": {
         "formatter": "DOUBLE[#,###.00]"
        },
        "athlete_id.MEAN": {
         "formatter": "DOUBLE[#,###.00]"
        },
        "athlete_id.SUM": {
         "formatter": "INT[#,###]"
        },
        "contributors.COUNT": {
         "formatter": "INT[#,###]"
        },
        "current_health_expenditure.MEAN": {
         "formatter": "DOUBLE[#,###.00]"
        },
        "current_health_expenditure.SUM": {
         "formatter": "DOUBLE[#,###.00]"
        },
        "daly_anxiety.MEAN": {
         "formatter": "DOUBLE[#,###.00]"
        },
        "daly_anxiety.SUM": {
         "formatter": "DOUBLE[#,###.00]"
        },
        "daly_bipolar_disorder.MEAN": {
         "formatter": "DOUBLE[#,###.00]"
        },
        "daly_bipolar_disorder.SUM": {
         "formatter": "DOUBLE[#,###.00]"
        },
        "daly_depression.MEAN": {
         "formatter": "DOUBLE[#,###.00]"
        },
        "daly_depression.SUM": {
         "formatter": "DOUBLE[#,###.00]"
        },
        "daly_eating_disorder.MEAN": {
         "formatter": "DOUBLE[#,###.00]"
        },
        "daly_eating_disorder.SUM": {
         "formatter": "DOUBLE[#,###.00]"
        },
        "daly_schizophrenia.MEAN": {
         "formatter": "DOUBLE[#,###.00]"
        },
        "daly_schizophrenia.SUM": {
         "formatter": "DOUBLE[#,###.00]"
        },
        "event_id.MEAN": {
         "formatter": "DOUBLE[#,###.00]"
        },
        "event_id.SUM": {
         "formatter": "INT[#,###]"
        },
        "external_health_expenditure.MEAN": {
         "formatter": "DOUBLE[#,###.00]"
        },
        "external_health_expenditure.SUM": {
         "formatter": "DOUBLE[#,###.00]"
        },
        "gdp_per_capita.MEAN": {
         "formatter": "DOUBLE[#,###.00]"
        },
        "gdp_per_capita.SUM": {
         "formatter": "DOUBLE[#,###.00]"
        },
        "government_health_expenditure.MEAN": {
         "formatter": "DOUBLE[#,###.00]"
        },
        "government_health_expenditure.SUM": {
         "formatter": "DOUBLE[#,###.00]"
        },
        "infant_mortality_rate.MEAN": {
         "formatter": "DOUBLE[#,###.00]"
        },
        "infant_mortality_rate.SUM": {
         "formatter": "DOUBLE[#,###.00]"
        },
        "life_expectancy.MEAN": {
         "formatter": "DOUBLE[#,###.00]"
        },
        "life_expectancy.SUM": {
         "formatter": "DOUBLE[#,###.00]"
        },
        "participant_id.MEAN": {
         "formatter": "DOUBLE[#,###.00]"
        },
        "participant_id.SUM": {
         "formatter": "INT[#,###]"
        },
        "poverty_count.MEAN": {
         "formatter": "DOUBLE[#,###.00]"
        },
        "poverty_count.SUM": {
         "formatter": "DOUBLE[#,###.00]"
        },
        "private_health_expenditure.MEAN": {
         "formatter": "DOUBLE[#,###.00]"
        },
        "private_health_expenditure.SUM": {
         "formatter": "DOUBLE[#,###.00]"
        },
        "servers_count.MEAN": {
         "formatter": "DOUBLE[#,###.00]"
        },
        "servers_count.SUM": {
         "formatter": "INT[#,###]"
        },
        "total_bronze_medals.MEAN": {
         "formatter": "DOUBLE[#,###.00]"
        },
        "total_bronze_medals.SUM": {
         "formatter": "INT[#,###]"
        },
        "total_gold_medals.MEAN": {
         "formatter": "DOUBLE[#,###.00]"
        },
        "total_gold_medals.SUM": {
         "formatter": "INT[#,###]"
        },
        "total_medals.MEAN": {
         "formatter": "DOUBLE[#,###.00]"
        },
        "total_medals.SUM": {
         "formatter": "INT[#,###]"
        },
        "total_silver_medals.MEAN": {
         "formatter": "DOUBLE[#,###.00]"
        },
        "total_silver_medals.SUM": {
         "formatter": "INT[#,###]"
        }
       }
      },
      "text/html": [
       "<ul>\n",
       "<li>CombinedFactTable\n",
       "  <ul>\n",
       "  <li>Dimensions\n",
       "    <ul>\n",
       "    <li>CombinedFactTable\n",
       "      <ul>\n",
       "      <li>country_code\n",
       "        <ol>\n",
       "        <li>country_code</li>\n",
       "        </ol>      </li>\n",
       "      <li>game_slug\n",
       "        <ol>\n",
       "        <li>game_slug</li>\n",
       "        </ol>      </li>\n",
       "      <li>id\n",
       "        <ol>\n",
       "        <li>id</li>\n",
       "        </ol>      </li>\n",
       "      <li>year\n",
       "        <ol>\n",
       "        <li>year</li>\n",
       "        </ol>      </li>\n",
       "      </ul>\n",
       "    </li>\n",
       "    <li>DimAthlete\n",
       "      <ul>\n",
       "      <li>athlete_name\n",
       "        <ol>\n",
       "        <li>athlete_name</li>\n",
       "        </ol>      </li>\n",
       "      <li>athlete_url\n",
       "        <ol>\n",
       "        <li>athlete_url</li>\n",
       "        </ol>      </li>\n",
       "      </ul>\n",
       "    </li>\n",
       "    <li>DimEvent\n",
       "      <ul>\n",
       "      <li>event_discipline\n",
       "        <ol>\n",
       "        <li>event_discipline</li>\n",
       "        </ol>      </li>\n",
       "      <li>event_gender\n",
       "        <ol>\n",
       "        <li>event_gender</li>\n",
       "        </ol>      </li>\n",
       "      <li>event_title\n",
       "        <ol>\n",
       "        <li>event_title</li>\n",
       "        </ol>      </li>\n",
       "      </ul>\n",
       "    </li>\n",
       "    <li>DimGame\n",
       "      <ul>\n",
       "      <li>country_code\n",
       "        <ol>\n",
       "        <li>country_code</li>\n",
       "        </ol>      </li>\n",
       "      <li>game_name\n",
       "        <ol>\n",
       "        <li>game_name</li>\n",
       "        </ol>      </li>\n",
       "      <li>game_season\n",
       "        <ol>\n",
       "        <li>game_season</li>\n",
       "        </ol>      </li>\n",
       "      </ul>\n",
       "    </li>\n",
       "    <li>DimLocation\n",
       "      <ul>\n",
       "      <li>continent\n",
       "        <ol>\n",
       "        <li>continent</li>\n",
       "        </ol>      </li>\n",
       "      <li>country_name\n",
       "        <ol>\n",
       "        <li>country_name</li>\n",
       "        </ol>      </li>\n",
       "      </ul>\n",
       "    </li>\n",
       "    <li>DimParticipant\n",
       "      <ul>\n",
       "      <li>participant_title\n",
       "        <ol>\n",
       "        <li>participant_title</li>\n",
       "        </ol>      </li>\n",
       "      <li>participant_type\n",
       "        <ol>\n",
       "        <li>participant_type</li>\n",
       "        </ol>      </li>\n",
       "      </ul>\n",
       "    </li>\n",
       "    </ul>\n",
       "  </li>\n",
       "  <li>Measures\n",
       "    <ul>\n",
       "    <li>annual_gdp_growth.MEAN\n",
       "      <ul>\n",
       "      <li>formatter: DOUBLE[#,###.00]</li>\n",
       "      </ul>\n",
       "    </li>\n",
       "    <li>annual_gdp_growth.SUM\n",
       "      <ul>\n",
       "      <li>formatter: DOUBLE[#,###.00]</li>\n",
       "      </ul>\n",
       "    </li>\n",
       "    <li>athlete_id.MEAN\n",
       "      <ul>\n",
       "      <li>formatter: DOUBLE[#,###.00]</li>\n",
       "      </ul>\n",
       "    </li>\n",
       "    <li>athlete_id.SUM\n",
       "      <ul>\n",
       "      <li>formatter: INT[#,###]</li>\n",
       "      </ul>\n",
       "    </li>\n",
       "    <li>contributors.COUNT\n",
       "      <ul>\n",
       "      <li>formatter: INT[#,###]</li>\n",
       "      </ul>\n",
       "    </li>\n",
       "    <li>current_health_expenditure.MEAN\n",
       "      <ul>\n",
       "      <li>formatter: DOUBLE[#,###.00]</li>\n",
       "      </ul>\n",
       "    </li>\n",
       "    <li>current_health_expenditure.SUM\n",
       "      <ul>\n",
       "      <li>formatter: DOUBLE[#,###.00]</li>\n",
       "      </ul>\n",
       "    </li>\n",
       "    <li>daly_anxiety.MEAN\n",
       "      <ul>\n",
       "      <li>formatter: DOUBLE[#,###.00]</li>\n",
       "      </ul>\n",
       "    </li>\n",
       "    <li>daly_anxiety.SUM\n",
       "      <ul>\n",
       "      <li>formatter: DOUBLE[#,###.00]</li>\n",
       "      </ul>\n",
       "    </li>\n",
       "    <li>daly_bipolar_disorder.MEAN\n",
       "      <ul>\n",
       "      <li>formatter: DOUBLE[#,###.00]</li>\n",
       "      </ul>\n",
       "    </li>\n",
       "    <li>daly_bipolar_disorder.SUM\n",
       "      <ul>\n",
       "      <li>formatter: DOUBLE[#,###.00]</li>\n",
       "      </ul>\n",
       "    </li>\n",
       "    <li>daly_depression.MEAN\n",
       "      <ul>\n",
       "      <li>formatter: DOUBLE[#,###.00]</li>\n",
       "      </ul>\n",
       "    </li>\n",
       "    <li>daly_depression.SUM\n",
       "      <ul>\n",
       "      <li>formatter: DOUBLE[#,###.00]</li>\n",
       "      </ul>\n",
       "    </li>\n",
       "    <li>daly_eating_disorder.MEAN\n",
       "      <ul>\n",
       "      <li>formatter: DOUBLE[#,###.00]</li>\n",
       "      </ul>\n",
       "    </li>\n",
       "    <li>daly_eating_disorder.SUM\n",
       "      <ul>\n",
       "      <li>formatter: DOUBLE[#,###.00]</li>\n",
       "      </ul>\n",
       "    </li>\n",
       "    <li>daly_schizophrenia.MEAN\n",
       "      <ul>\n",
       "      <li>formatter: DOUBLE[#,###.00]</li>\n",
       "      </ul>\n",
       "    </li>\n",
       "    <li>daly_schizophrenia.SUM\n",
       "      <ul>\n",
       "      <li>formatter: DOUBLE[#,###.00]</li>\n",
       "      </ul>\n",
       "    </li>\n",
       "    <li>event_id.MEAN\n",
       "      <ul>\n",
       "      <li>formatter: DOUBLE[#,###.00]</li>\n",
       "      </ul>\n",
       "    </li>\n",
       "    <li>event_id.SUM\n",
       "      <ul>\n",
       "      <li>formatter: INT[#,###]</li>\n",
       "      </ul>\n",
       "    </li>\n",
       "    <li>external_health_expenditure.MEAN\n",
       "      <ul>\n",
       "      <li>formatter: DOUBLE[#,###.00]</li>\n",
       "      </ul>\n",
       "    </li>\n",
       "    <li>external_health_expenditure.SUM\n",
       "      <ul>\n",
       "      <li>formatter: DOUBLE[#,###.00]</li>\n",
       "      </ul>\n",
       "    </li>\n",
       "    <li>gdp_per_capita.MEAN\n",
       "      <ul>\n",
       "      <li>formatter: DOUBLE[#,###.00]</li>\n",
       "      </ul>\n",
       "    </li>\n",
       "    <li>gdp_per_capita.SUM\n",
       "      <ul>\n",
       "      <li>formatter: DOUBLE[#,###.00]</li>\n",
       "      </ul>\n",
       "    </li>\n",
       "    <li>government_health_expenditure.MEAN\n",
       "      <ul>\n",
       "      <li>formatter: DOUBLE[#,###.00]</li>\n",
       "      </ul>\n",
       "    </li>\n",
       "    <li>government_health_expenditure.SUM\n",
       "      <ul>\n",
       "      <li>formatter: DOUBLE[#,###.00]</li>\n",
       "      </ul>\n",
       "    </li>\n",
       "    <li>infant_mortality_rate.MEAN\n",
       "      <ul>\n",
       "      <li>formatter: DOUBLE[#,###.00]</li>\n",
       "      </ul>\n",
       "    </li>\n",
       "    <li>infant_mortality_rate.SUM\n",
       "      <ul>\n",
       "      <li>formatter: DOUBLE[#,###.00]</li>\n",
       "      </ul>\n",
       "    </li>\n",
       "    <li>life_expectancy.MEAN\n",
       "      <ul>\n",
       "      <li>formatter: DOUBLE[#,###.00]</li>\n",
       "      </ul>\n",
       "    </li>\n",
       "    <li>life_expectancy.SUM\n",
       "      <ul>\n",
       "      <li>formatter: DOUBLE[#,###.00]</li>\n",
       "      </ul>\n",
       "    </li>\n",
       "    <li>participant_id.MEAN\n",
       "      <ul>\n",
       "      <li>formatter: DOUBLE[#,###.00]</li>\n",
       "      </ul>\n",
       "    </li>\n",
       "    <li>participant_id.SUM\n",
       "      <ul>\n",
       "      <li>formatter: INT[#,###]</li>\n",
       "      </ul>\n",
       "    </li>\n",
       "    <li>poverty_count.MEAN\n",
       "      <ul>\n",
       "      <li>formatter: DOUBLE[#,###.00]</li>\n",
       "      </ul>\n",
       "    </li>\n",
       "    <li>poverty_count.SUM\n",
       "      <ul>\n",
       "      <li>formatter: DOUBLE[#,###.00]</li>\n",
       "      </ul>\n",
       "    </li>\n",
       "    <li>private_health_expenditure.MEAN\n",
       "      <ul>\n",
       "      <li>formatter: DOUBLE[#,###.00]</li>\n",
       "      </ul>\n",
       "    </li>\n",
       "    <li>private_health_expenditure.SUM\n",
       "      <ul>\n",
       "      <li>formatter: DOUBLE[#,###.00]</li>\n",
       "      </ul>\n",
       "    </li>\n",
       "    <li>servers_count.MEAN\n",
       "      <ul>\n",
       "      <li>formatter: DOUBLE[#,###.00]</li>\n",
       "      </ul>\n",
       "    </li>\n",
       "    <li>servers_count.SUM\n",
       "      <ul>\n",
       "      <li>formatter: INT[#,###]</li>\n",
       "      </ul>\n",
       "    </li>\n",
       "    <li>total_bronze_medals.MEAN\n",
       "      <ul>\n",
       "      <li>formatter: DOUBLE[#,###.00]</li>\n",
       "      </ul>\n",
       "    </li>\n",
       "    <li>total_bronze_medals.SUM\n",
       "      <ul>\n",
       "      <li>formatter: INT[#,###]</li>\n",
       "      </ul>\n",
       "    </li>\n",
       "    <li>total_gold_medals.MEAN\n",
       "      <ul>\n",
       "      <li>formatter: DOUBLE[#,###.00]</li>\n",
       "      </ul>\n",
       "    </li>\n",
       "    <li>total_gold_medals.SUM\n",
       "      <ul>\n",
       "      <li>formatter: INT[#,###]</li>\n",
       "      </ul>\n",
       "    </li>\n",
       "    <li>total_medals.MEAN\n",
       "      <ul>\n",
       "      <li>formatter: DOUBLE[#,###.00]</li>\n",
       "      </ul>\n",
       "    </li>\n",
       "    <li>total_medals.SUM\n",
       "      <ul>\n",
       "      <li>formatter: INT[#,###]</li>\n",
       "      </ul>\n",
       "    </li>\n",
       "    <li>total_silver_medals.MEAN\n",
       "      <ul>\n",
       "      <li>formatter: DOUBLE[#,###.00]</li>\n",
       "      </ul>\n",
       "    </li>\n",
       "    <li>total_silver_medals.SUM\n",
       "      <ul>\n",
       "      <li>formatter: INT[#,###]</li>\n",
       "      </ul>\n",
       "    </li>\n",
       "    </ul>\n",
       "  </li>\n",
       "  </ul>\n",
       "</li>\n",
       "</ul>\n"
      ],
      "text/plain": [
       "<atoti.cube.Cube at 0x7fffb048e050>"
      ]
     },
     "execution_count": 15,
     "metadata": {
      "application/json": {
       "expanded": false,
       "root": "CombinedFactTable"
      }
     },
     "output_type": "execute_result"
    }
   ],
   "source": [
    "cube"
   ]
  },
  {
   "cell_type": "code",
   "execution_count": 16,
   "id": "6bcad757-bf35-4520-b09b-c7239a657e8a",
   "metadata": {},
   "outputs": [],
   "source": [
    "hierarchies, levels, measures = cube.hierarchies, cube.levels, cube.measures"
   ]
  },
  {
   "cell_type": "code",
   "execution_count": 17,
   "id": "0cd29d61-d5e4-4f20-aabd-191f1c17e94d",
   "metadata": {},
   "outputs": [
    {
     "data": {
      "application/json": {
       "CombinedFactTable": {
        "country_code": [
         "country_code"
        ],
        "game_slug": [
         "game_slug"
        ],
        "id": [
         "id"
        ],
        "year": [
         "year"
        ]
       },
       "DimAthlete": {
        "athlete_name": [
         "athlete_name"
        ],
        "athlete_url": [
         "athlete_url"
        ]
       },
       "DimEvent": {
        "event_discipline": [
         "event_discipline"
        ],
        "event_gender": [
         "event_gender"
        ],
        "event_title": [
         "event_title"
        ]
       },
       "DimGame": {
        "country_code": [
         "country_code"
        ],
        "game_name": [
         "game_name"
        ],
        "game_season": [
         "game_season"
        ]
       },
       "DimLocation": {
        "continent": [
         "continent"
        ],
        "country_name": [
         "country_name"
        ]
       },
       "DimParticipant": {
        "participant_title": [
         "participant_title"
        ],
        "participant_type": [
         "participant_type"
        ]
       }
      },
      "text/html": [
       "<ul>\n",
       "<li>Dimensions\n",
       "  <ul>\n",
       "  <li>CombinedFactTable\n",
       "    <ul>\n",
       "    <li>country_code\n",
       "      <ol>\n",
       "      <li>country_code</li>\n",
       "      </ol>    </li>\n",
       "    <li>game_slug\n",
       "      <ol>\n",
       "      <li>game_slug</li>\n",
       "      </ol>    </li>\n",
       "    <li>id\n",
       "      <ol>\n",
       "      <li>id</li>\n",
       "      </ol>    </li>\n",
       "    <li>year\n",
       "      <ol>\n",
       "      <li>year</li>\n",
       "      </ol>    </li>\n",
       "    </ul>\n",
       "  </li>\n",
       "  <li>DimAthlete\n",
       "    <ul>\n",
       "    <li>athlete_name\n",
       "      <ol>\n",
       "      <li>athlete_name</li>\n",
       "      </ol>    </li>\n",
       "    <li>athlete_url\n",
       "      <ol>\n",
       "      <li>athlete_url</li>\n",
       "      </ol>    </li>\n",
       "    </ul>\n",
       "  </li>\n",
       "  <li>DimEvent\n",
       "    <ul>\n",
       "    <li>event_discipline\n",
       "      <ol>\n",
       "      <li>event_discipline</li>\n",
       "      </ol>    </li>\n",
       "    <li>event_gender\n",
       "      <ol>\n",
       "      <li>event_gender</li>\n",
       "      </ol>    </li>\n",
       "    <li>event_title\n",
       "      <ol>\n",
       "      <li>event_title</li>\n",
       "      </ol>    </li>\n",
       "    </ul>\n",
       "  </li>\n",
       "  <li>DimGame\n",
       "    <ul>\n",
       "    <li>country_code\n",
       "      <ol>\n",
       "      <li>country_code</li>\n",
       "      </ol>    </li>\n",
       "    <li>game_name\n",
       "      <ol>\n",
       "      <li>game_name</li>\n",
       "      </ol>    </li>\n",
       "    <li>game_season\n",
       "      <ol>\n",
       "      <li>game_season</li>\n",
       "      </ol>    </li>\n",
       "    </ul>\n",
       "  </li>\n",
       "  <li>DimLocation\n",
       "    <ul>\n",
       "    <li>continent\n",
       "      <ol>\n",
       "      <li>continent</li>\n",
       "      </ol>    </li>\n",
       "    <li>country_name\n",
       "      <ol>\n",
       "      <li>country_name</li>\n",
       "      </ol>    </li>\n",
       "    </ul>\n",
       "  </li>\n",
       "  <li>DimParticipant\n",
       "    <ul>\n",
       "    <li>participant_title\n",
       "      <ol>\n",
       "      <li>participant_title</li>\n",
       "      </ol>    </li>\n",
       "    <li>participant_type\n",
       "      <ol>\n",
       "      <li>participant_type</li>\n",
       "      </ol>    </li>\n",
       "    </ul>\n",
       "  </li>\n",
       "  </ul>\n",
       "</li>\n",
       "</ul>\n"
      ],
      "text/plain": [
       "{('CombinedFactTable', 'country_code'): <atoti.hierarchy.Hierarchy object at 0x7fffb04f0250>, ('CombinedFactTable', 'id'): <atoti.hierarchy.Hierarchy object at 0x7fffb04f3f90>, ('DimParticipant', 'participant_title'): <atoti.hierarchy.Hierarchy object at 0x7fffb04f3d10>, ('DimAthlete', 'athlete_name'): <atoti.hierarchy.Hierarchy object at 0x7fffb04f3cd0>, ('DimGame', 'game_season'): <atoti.hierarchy.Hierarchy object at 0x7fffb04f3b90>, ('CombinedFactTable', 'game_slug'): <atoti.hierarchy.Hierarchy object at 0x7fffb04f3a10>, ('DimParticipant', 'participant_type'): <atoti.hierarchy.Hierarchy object at 0x7fffb04f3910>, ('DimEvent', 'event_discipline'): <atoti.hierarchy.Hierarchy object at 0x7fffb04f3690>, ('CombinedFactTable', 'year'): <atoti.hierarchy.Hierarchy object at 0x7fffb04f3650>, ('DimEvent', 'event_gender'): <atoti.hierarchy.Hierarchy object at 0x7fffb04f3510>, ('DimLocation', 'country_name'): <atoti.hierarchy.Hierarchy object at 0x7fffb04f3390>, ('DimAthlete', 'athlete_url'): <atoti.hierarchy.Hierarchy object at 0x7fffb04f31d0>, ('DimEvent', 'event_title'): <atoti.hierarchy.Hierarchy object at 0x7fffb04f3110>, ('DimGame', 'game_name'): <atoti.hierarchy.Hierarchy object at 0x7fffb04f30d0>, ('DimLocation', 'continent'): <atoti.hierarchy.Hierarchy object at 0x7fffb04f2e50>, ('DimGame', 'country_code'): <atoti.hierarchy.Hierarchy object at 0x7fffb04f2d50>}"
      ]
     },
     "execution_count": 17,
     "metadata": {
      "application/json": {
       "expanded": true,
       "root": "Dimensions"
      }
     },
     "output_type": "execute_result"
    }
   ],
   "source": [
    "hierarchies"
   ]
  },
  {
   "cell_type": "code",
   "execution_count": 18,
   "id": "1bfe5143-089d-4e10-9489-64a13bc4b13e",
   "metadata": {},
   "outputs": [],
   "source": [
    "hierarchies[\"Year\"] = [dimyear_table[\"year\"]]"
   ]
  },
  {
   "cell_type": "code",
   "execution_count": 19,
   "id": "0d0f54b4-17f7-458d-971e-6458d40a46ef",
   "metadata": {},
   "outputs": [
    {
     "data": {
      "application/json": {
       "CombinedFactTable": {
        "country_code": [
         "country_code"
        ],
        "game_slug": [
         "game_slug"
        ],
        "id": [
         "id"
        ],
        "year": [
         "year"
        ]
       },
       "DimAthlete": {
        "athlete_name": [
         "athlete_name"
        ],
        "athlete_url": [
         "athlete_url"
        ]
       },
       "DimEvent": {
        "event_discipline": [
         "event_discipline"
        ],
        "event_gender": [
         "event_gender"
        ],
        "event_title": [
         "event_title"
        ]
       },
       "DimGame": {
        "country_code": [
         "country_code"
        ],
        "game_name": [
         "game_name"
        ],
        "game_season": [
         "game_season"
        ]
       },
       "DimLocation": {
        "continent": [
         "continent"
        ],
        "country_name": [
         "country_name"
        ]
       },
       "DimParticipant": {
        "participant_title": [
         "participant_title"
        ],
        "participant_type": [
         "participant_type"
        ]
       },
       "DimYear": {
        "Year": [
         "year"
        ]
       }
      },
      "text/html": [
       "<ul>\n",
       "<li>Dimensions\n",
       "  <ul>\n",
       "  <li>CombinedFactTable\n",
       "    <ul>\n",
       "    <li>country_code\n",
       "      <ol>\n",
       "      <li>country_code</li>\n",
       "      </ol>    </li>\n",
       "    <li>game_slug\n",
       "      <ol>\n",
       "      <li>game_slug</li>\n",
       "      </ol>    </li>\n",
       "    <li>id\n",
       "      <ol>\n",
       "      <li>id</li>\n",
       "      </ol>    </li>\n",
       "    <li>year\n",
       "      <ol>\n",
       "      <li>year</li>\n",
       "      </ol>    </li>\n",
       "    </ul>\n",
       "  </li>\n",
       "  <li>DimAthlete\n",
       "    <ul>\n",
       "    <li>athlete_name\n",
       "      <ol>\n",
       "      <li>athlete_name</li>\n",
       "      </ol>    </li>\n",
       "    <li>athlete_url\n",
       "      <ol>\n",
       "      <li>athlete_url</li>\n",
       "      </ol>    </li>\n",
       "    </ul>\n",
       "  </li>\n",
       "  <li>DimEvent\n",
       "    <ul>\n",
       "    <li>event_discipline\n",
       "      <ol>\n",
       "      <li>event_discipline</li>\n",
       "      </ol>    </li>\n",
       "    <li>event_gender\n",
       "      <ol>\n",
       "      <li>event_gender</li>\n",
       "      </ol>    </li>\n",
       "    <li>event_title\n",
       "      <ol>\n",
       "      <li>event_title</li>\n",
       "      </ol>    </li>\n",
       "    </ul>\n",
       "  </li>\n",
       "  <li>DimGame\n",
       "    <ul>\n",
       "    <li>country_code\n",
       "      <ol>\n",
       "      <li>country_code</li>\n",
       "      </ol>    </li>\n",
       "    <li>game_name\n",
       "      <ol>\n",
       "      <li>game_name</li>\n",
       "      </ol>    </li>\n",
       "    <li>game_season\n",
       "      <ol>\n",
       "      <li>game_season</li>\n",
       "      </ol>    </li>\n",
       "    </ul>\n",
       "  </li>\n",
       "  <li>DimLocation\n",
       "    <ul>\n",
       "    <li>continent\n",
       "      <ol>\n",
       "      <li>continent</li>\n",
       "      </ol>    </li>\n",
       "    <li>country_name\n",
       "      <ol>\n",
       "      <li>country_name</li>\n",
       "      </ol>    </li>\n",
       "    </ul>\n",
       "  </li>\n",
       "  <li>DimParticipant\n",
       "    <ul>\n",
       "    <li>participant_title\n",
       "      <ol>\n",
       "      <li>participant_title</li>\n",
       "      </ol>    </li>\n",
       "    <li>participant_type\n",
       "      <ol>\n",
       "      <li>participant_type</li>\n",
       "      </ol>    </li>\n",
       "    </ul>\n",
       "  </li>\n",
       "  <li>DimYear\n",
       "    <ul>\n",
       "    <li>Year\n",
       "      <ol>\n",
       "      <li>year</li>\n",
       "      </ol>    </li>\n",
       "    </ul>\n",
       "  </li>\n",
       "  </ul>\n",
       "</li>\n",
       "</ul>\n"
      ],
      "text/plain": [
       "{('CombinedFactTable', 'country_code'): <atoti.hierarchy.Hierarchy object at 0x7fffb04de7d0>, ('CombinedFactTable', 'id'): <atoti.hierarchy.Hierarchy object at 0x7fffb04c8550>, ('DimParticipant', 'participant_title'): <atoti.hierarchy.Hierarchy object at 0x7fffb04c8450>, ('DimAthlete', 'athlete_name'): <atoti.hierarchy.Hierarchy object at 0x7fffb04c8390>, ('DimGame', 'game_season'): <atoti.hierarchy.Hierarchy object at 0x7fffb04c82d0>, ('CombinedFactTable', 'game_slug'): <atoti.hierarchy.Hierarchy object at 0x7fffb04c81d0>, ('DimParticipant', 'participant_type'): <atoti.hierarchy.Hierarchy object at 0x7fffb04c8090>, ('DimEvent', 'event_discipline'): <atoti.hierarchy.Hierarchy object at 0x7fffb047b490>, ('CombinedFactTable', 'year'): <atoti.hierarchy.Hierarchy object at 0x7fffb0479f50>, ('DimEvent', 'event_gender'): <atoti.hierarchy.Hierarchy object at 0x7fffb047aa90>, ('DimYear', 'Year'): <atoti.hierarchy.Hierarchy object at 0x7fffb0479050>, ('DimLocation', 'country_name'): <atoti.hierarchy.Hierarchy object at 0x7fffb0478950>, ('DimAthlete', 'athlete_url'): <atoti.hierarchy.Hierarchy object at 0x7fffb0478850>, ('DimEvent', 'event_title'): <atoti.hierarchy.Hierarchy object at 0x7fffb0479150>, ('DimGame', 'game_name'): <atoti.hierarchy.Hierarchy object at 0x7fffb047bb50>, ('DimLocation', 'continent'): <atoti.hierarchy.Hierarchy object at 0x7fffb04afa90>, ('DimGame', 'country_code'): <atoti.hierarchy.Hierarchy object at 0x7fffb04afe50>}"
      ]
     },
     "execution_count": 19,
     "metadata": {
      "application/json": {
       "expanded": true,
       "root": "Dimensions"
      }
     },
     "output_type": "execute_result"
    }
   ],
   "source": [
    "hierarchies"
   ]
  },
  {
   "cell_type": "code",
   "execution_count": 20,
   "id": "f930600e-cf83-4c7e-a7dd-030016d16bb1",
   "metadata": {},
   "outputs": [
    {
     "name": "stdout",
     "output_type": "stream",
     "text": [
      "('CombinedFactTable', 'country_code')\n",
      "('CombinedFactTable', 'id')\n",
      "('DimParticipant', 'participant_title')\n",
      "('DimAthlete', 'athlete_name')\n",
      "('DimGame', 'game_season')\n",
      "('CombinedFactTable', 'game_slug')\n",
      "('DimParticipant', 'participant_type')\n",
      "('DimEvent', 'event_discipline')\n",
      "('CombinedFactTable', 'year')\n",
      "('DimEvent', 'event_gender')\n",
      "('DimYear', 'Year')\n",
      "('DimLocation', 'country_name')\n",
      "('DimAthlete', 'athlete_url')\n",
      "('DimEvent', 'event_title')\n",
      "('DimGame', 'game_name')\n",
      "('DimLocation', 'continent')\n",
      "('DimGame', 'country_code')\n"
     ]
    }
   ],
   "source": [
    "# List all hierarchies in the cube to find the correct name\n",
    "for hierarchy in hierarchies:\n",
    "    print(hierarchy)\n"
   ]
  },
  {
   "cell_type": "code",
   "execution_count": 21,
   "id": "6d8f53a2-8472-41af-b82f-2208ca67e098",
   "metadata": {},
   "outputs": [],
   "source": [
    "# Remove a specific unwanted hierarchy\n",
    "del hierarchies[('CombinedFactTable', 'country_code')]\n",
    "del hierarchies[('CombinedFactTable', 'id')]\n",
    "del hierarchies[('CombinedFactTable', 'game_slug')]\n",
    "del hierarchies[('CombinedFactTable', 'year')]"
   ]
  },
  {
   "cell_type": "code",
   "execution_count": 22,
   "id": "0ac188db-ebab-484f-bd26-8a7c3561d9b5",
   "metadata": {},
   "outputs": [
    {
     "data": {
      "application/json": {
       "DimAthlete": {
        "athlete_name": [
         "athlete_name"
        ],
        "athlete_url": [
         "athlete_url"
        ]
       },
       "DimEvent": {
        "event_discipline": [
         "event_discipline"
        ],
        "event_gender": [
         "event_gender"
        ],
        "event_title": [
         "event_title"
        ]
       },
       "DimGame": {
        "country_code": [
         "country_code"
        ],
        "game_name": [
         "game_name"
        ],
        "game_season": [
         "game_season"
        ]
       },
       "DimLocation": {
        "continent": [
         "continent"
        ],
        "country_name": [
         "country_name"
        ]
       },
       "DimParticipant": {
        "participant_title": [
         "participant_title"
        ],
        "participant_type": [
         "participant_type"
        ]
       },
       "DimYear": {
        "Year": [
         "year"
        ]
       }
      },
      "text/html": [
       "<ul>\n",
       "<li>Dimensions\n",
       "  <ul>\n",
       "  <li>DimAthlete\n",
       "    <ul>\n",
       "    <li>athlete_name\n",
       "      <ol>\n",
       "      <li>athlete_name</li>\n",
       "      </ol>    </li>\n",
       "    <li>athlete_url\n",
       "      <ol>\n",
       "      <li>athlete_url</li>\n",
       "      </ol>    </li>\n",
       "    </ul>\n",
       "  </li>\n",
       "  <li>DimEvent\n",
       "    <ul>\n",
       "    <li>event_discipline\n",
       "      <ol>\n",
       "      <li>event_discipline</li>\n",
       "      </ol>    </li>\n",
       "    <li>event_gender\n",
       "      <ol>\n",
       "      <li>event_gender</li>\n",
       "      </ol>    </li>\n",
       "    <li>event_title\n",
       "      <ol>\n",
       "      <li>event_title</li>\n",
       "      </ol>    </li>\n",
       "    </ul>\n",
       "  </li>\n",
       "  <li>DimGame\n",
       "    <ul>\n",
       "    <li>country_code\n",
       "      <ol>\n",
       "      <li>country_code</li>\n",
       "      </ol>    </li>\n",
       "    <li>game_name\n",
       "      <ol>\n",
       "      <li>game_name</li>\n",
       "      </ol>    </li>\n",
       "    <li>game_season\n",
       "      <ol>\n",
       "      <li>game_season</li>\n",
       "      </ol>    </li>\n",
       "    </ul>\n",
       "  </li>\n",
       "  <li>DimLocation\n",
       "    <ul>\n",
       "    <li>continent\n",
       "      <ol>\n",
       "      <li>continent</li>\n",
       "      </ol>    </li>\n",
       "    <li>country_name\n",
       "      <ol>\n",
       "      <li>country_name</li>\n",
       "      </ol>    </li>\n",
       "    </ul>\n",
       "  </li>\n",
       "  <li>DimParticipant\n",
       "    <ul>\n",
       "    <li>participant_title\n",
       "      <ol>\n",
       "      <li>participant_title</li>\n",
       "      </ol>    </li>\n",
       "    <li>participant_type\n",
       "      <ol>\n",
       "      <li>participant_type</li>\n",
       "      </ol>    </li>\n",
       "    </ul>\n",
       "  </li>\n",
       "  <li>DimYear\n",
       "    <ul>\n",
       "    <li>Year\n",
       "      <ol>\n",
       "      <li>year</li>\n",
       "      </ol>    </li>\n",
       "    </ul>\n",
       "  </li>\n",
       "  </ul>\n",
       "</li>\n",
       "</ul>\n"
      ],
      "text/plain": [
       "{('DimParticipant', 'participant_title'): <atoti.hierarchy.Hierarchy object at 0x7fffb04ce510>, ('DimAthlete', 'athlete_name'): <atoti.hierarchy.Hierarchy object at 0x7fffb04cd710>, ('DimGame', 'game_season'): <atoti.hierarchy.Hierarchy object at 0x7fffb04cce90>, ('DimParticipant', 'participant_type'): <atoti.hierarchy.Hierarchy object at 0x7fffb0737c10>, ('DimEvent', 'event_discipline'): <atoti.hierarchy.Hierarchy object at 0x7fffb04cba10>, ('DimEvent', 'event_gender'): <atoti.hierarchy.Hierarchy object at 0x7fffb04ca790>, ('DimYear', 'Year'): <atoti.hierarchy.Hierarchy object at 0x7fffb04c9cd0>, ('DimLocation', 'country_name'): <atoti.hierarchy.Hierarchy object at 0x7fffb04c98d0>, ('DimAthlete', 'athlete_url'): <atoti.hierarchy.Hierarchy object at 0x7fffb04c9310>, ('DimEvent', 'event_title'): <atoti.hierarchy.Hierarchy object at 0x7fffb04af450>, ('DimGame', 'game_name'): <atoti.hierarchy.Hierarchy object at 0x7fffb04ae390>, ('DimLocation', 'continent'): <atoti.hierarchy.Hierarchy object at 0x7fffb048f210>, ('DimGame', 'country_code'): <atoti.hierarchy.Hierarchy object at 0x7fffb048d590>}"
      ]
     },
     "execution_count": 22,
     "metadata": {
      "application/json": {
       "expanded": true,
       "root": "Dimensions"
      }
     },
     "output_type": "execute_result"
    }
   ],
   "source": [
    "hierarchies"
   ]
  },
  {
   "cell_type": "code",
   "execution_count": 23,
   "id": "cdf307ac-0395-492a-99a3-05802afe1e7c",
   "metadata": {},
   "outputs": [
    {
     "data": {
      "application/json": {
       "athlete_name (DimAthlete/athlete_name/athlete_name)": {
        "dimension": "DimAthlete",
        "hierarchy": "athlete_name",
        "order": "NaturalOrder",
        "type": "String"
       },
       "athlete_url (DimAthlete/athlete_url/athlete_url)": {
        "dimension": "DimAthlete",
        "hierarchy": "athlete_url",
        "order": "NaturalOrder",
        "type": "String"
       },
       "continent (DimLocation/continent/continent)": {
        "dimension": "DimLocation",
        "hierarchy": "continent",
        "order": "NaturalOrder",
        "type": "String"
       },
       "country_code (DimGame/country_code/country_code)": {
        "dimension": "DimGame",
        "hierarchy": "country_code",
        "order": "NaturalOrder",
        "type": "String"
       },
       "country_name (DimLocation/country_name/country_name)": {
        "dimension": "DimLocation",
        "hierarchy": "country_name",
        "order": "NaturalOrder",
        "type": "String"
       },
       "event_discipline (DimEvent/event_discipline/event_discipline)": {
        "dimension": "DimEvent",
        "hierarchy": "event_discipline",
        "order": "NaturalOrder",
        "type": "String"
       },
       "event_gender (DimEvent/event_gender/event_gender)": {
        "dimension": "DimEvent",
        "hierarchy": "event_gender",
        "order": "NaturalOrder",
        "type": "String"
       },
       "event_title (DimEvent/event_title/event_title)": {
        "dimension": "DimEvent",
        "hierarchy": "event_title",
        "order": "NaturalOrder",
        "type": "String"
       },
       "game_name (DimGame/game_name/game_name)": {
        "dimension": "DimGame",
        "hierarchy": "game_name",
        "order": "NaturalOrder",
        "type": "String"
       },
       "game_season (DimGame/game_season/game_season)": {
        "dimension": "DimGame",
        "hierarchy": "game_season",
        "order": "NaturalOrder",
        "type": "String"
       },
       "participant_title (DimParticipant/participant_title/participant_title)": {
        "dimension": "DimParticipant",
        "hierarchy": "participant_title",
        "order": "NaturalOrder",
        "type": "String"
       },
       "participant_type (DimParticipant/participant_type/participant_type)": {
        "dimension": "DimParticipant",
        "hierarchy": "participant_type",
        "order": "NaturalOrder",
        "type": "String"
       },
       "year (DimYear/Year/year)": {
        "dimension": "DimYear",
        "hierarchy": "Year",
        "order": "NaturalOrder",
        "type": "String"
       }
      },
      "text/html": [
       "<ul>\n",
       "<li>Levels\n",
       "  <ul>\n",
       "  <li>athlete_name (DimAthlete/athlete_name/athlete_name)\n",
       "    <ul>\n",
       "    <li>dimension: DimAthlete</li>\n",
       "    <li>hierarchy: athlete_name</li>\n",
       "    <li>type: String</li>\n",
       "    <li>order: NaturalOrder</li>\n",
       "    </ul>\n",
       "  </li>\n",
       "  <li>athlete_url (DimAthlete/athlete_url/athlete_url)\n",
       "    <ul>\n",
       "    <li>dimension: DimAthlete</li>\n",
       "    <li>hierarchy: athlete_url</li>\n",
       "    <li>type: String</li>\n",
       "    <li>order: NaturalOrder</li>\n",
       "    </ul>\n",
       "  </li>\n",
       "  <li>continent (DimLocation/continent/continent)\n",
       "    <ul>\n",
       "    <li>dimension: DimLocation</li>\n",
       "    <li>hierarchy: continent</li>\n",
       "    <li>type: String</li>\n",
       "    <li>order: NaturalOrder</li>\n",
       "    </ul>\n",
       "  </li>\n",
       "  <li>country_code (DimGame/country_code/country_code)\n",
       "    <ul>\n",
       "    <li>dimension: DimGame</li>\n",
       "    <li>hierarchy: country_code</li>\n",
       "    <li>type: String</li>\n",
       "    <li>order: NaturalOrder</li>\n",
       "    </ul>\n",
       "  </li>\n",
       "  <li>country_name (DimLocation/country_name/country_name)\n",
       "    <ul>\n",
       "    <li>dimension: DimLocation</li>\n",
       "    <li>hierarchy: country_name</li>\n",
       "    <li>type: String</li>\n",
       "    <li>order: NaturalOrder</li>\n",
       "    </ul>\n",
       "  </li>\n",
       "  <li>event_discipline (DimEvent/event_discipline/event_discipline)\n",
       "    <ul>\n",
       "    <li>dimension: DimEvent</li>\n",
       "    <li>hierarchy: event_discipline</li>\n",
       "    <li>type: String</li>\n",
       "    <li>order: NaturalOrder</li>\n",
       "    </ul>\n",
       "  </li>\n",
       "  <li>event_gender (DimEvent/event_gender/event_gender)\n",
       "    <ul>\n",
       "    <li>dimension: DimEvent</li>\n",
       "    <li>hierarchy: event_gender</li>\n",
       "    <li>type: String</li>\n",
       "    <li>order: NaturalOrder</li>\n",
       "    </ul>\n",
       "  </li>\n",
       "  <li>event_title (DimEvent/event_title/event_title)\n",
       "    <ul>\n",
       "    <li>dimension: DimEvent</li>\n",
       "    <li>hierarchy: event_title</li>\n",
       "    <li>type: String</li>\n",
       "    <li>order: NaturalOrder</li>\n",
       "    </ul>\n",
       "  </li>\n",
       "  <li>game_name (DimGame/game_name/game_name)\n",
       "    <ul>\n",
       "    <li>dimension: DimGame</li>\n",
       "    <li>hierarchy: game_name</li>\n",
       "    <li>type: String</li>\n",
       "    <li>order: NaturalOrder</li>\n",
       "    </ul>\n",
       "  </li>\n",
       "  <li>game_season (DimGame/game_season/game_season)\n",
       "    <ul>\n",
       "    <li>dimension: DimGame</li>\n",
       "    <li>hierarchy: game_season</li>\n",
       "    <li>type: String</li>\n",
       "    <li>order: NaturalOrder</li>\n",
       "    </ul>\n",
       "  </li>\n",
       "  <li>participant_title (DimParticipant/participant_title/participant_title)\n",
       "    <ul>\n",
       "    <li>dimension: DimParticipant</li>\n",
       "    <li>hierarchy: participant_title</li>\n",
       "    <li>type: String</li>\n",
       "    <li>order: NaturalOrder</li>\n",
       "    </ul>\n",
       "  </li>\n",
       "  <li>participant_type (DimParticipant/participant_type/participant_type)\n",
       "    <ul>\n",
       "    <li>dimension: DimParticipant</li>\n",
       "    <li>hierarchy: participant_type</li>\n",
       "    <li>type: String</li>\n",
       "    <li>order: NaturalOrder</li>\n",
       "    </ul>\n",
       "  </li>\n",
       "  <li>year (DimYear/Year/year)\n",
       "    <ul>\n",
       "    <li>dimension: DimYear</li>\n",
       "    <li>hierarchy: Year</li>\n",
       "    <li>type: String</li>\n",
       "    <li>order: NaturalOrder</li>\n",
       "    </ul>\n",
       "  </li>\n",
       "  </ul>\n",
       "</li>\n",
       "</ul>\n"
      ],
      "text/plain": [
       "<atoti.levels.Levels at 0x7fffb047b4d0>"
      ]
     },
     "execution_count": 23,
     "metadata": {
      "application/json": {
       "expanded": true,
       "root": "Levels"
      }
     },
     "output_type": "execute_result"
    }
   ],
   "source": [
    "levels"
   ]
  },
  {
   "cell_type": "code",
   "execution_count": 24,
   "id": "fa48e154-a22f-43c2-8c4f-9ce2ca679fdc",
   "metadata": {},
   "outputs": [],
   "source": [
    "hierarchies[\"DimAthlete\"] = [levels[\"athlete_name\"]]"
   ]
  },
  {
   "cell_type": "code",
   "execution_count": 25,
   "id": "ccb3f73f-85fa-426d-a24b-dccdd62e1109",
   "metadata": {},
   "outputs": [],
   "source": [
    "hierarchies[\"DimEvent\"] = [levels[\"event_title\"], levels[(\"DimEvent\", \"event_discipline\", \"event_discipline\")],\n",
    "                           levels[(\"DimEvent\", \"event_gender\", \"event_gender\")]]"
   ]
  },
  {
   "cell_type": "code",
   "execution_count": 26,
   "id": "0eaf0c58-33f3-40fd-8abc-5b789678f239",
   "metadata": {},
   "outputs": [],
   "source": [
    "hierarchies[\"DimGame\"] = [levels[\"game_name\"], levels[(\"DimGame\", \"game_season\", \"game_season\")]]"
   ]
  },
  {
   "cell_type": "code",
   "execution_count": 27,
   "id": "0bc9f002-023c-4c80-9933-c373322531ff",
   "metadata": {},
   "outputs": [],
   "source": [
    "hierarchies[\"DimLocation\"]  = [levels[\"country_name\"], levels[(\"DimLocation\", \"continent\", \"continent\")]]"
   ]
  },
  {
   "cell_type": "code",
   "execution_count": 28,
   "id": "66baf304-f7b8-42f1-a6ae-62037d8f401d",
   "metadata": {},
   "outputs": [],
   "source": [
    "hierarchies[\"DimParticipant\"] = [levels[\"participant_title\"], levels[(\"DimParticipant\", \"participant_type\", \"participant_type\")]]"
   ]
  },
  {
   "cell_type": "code",
   "execution_count": 29,
   "id": "e9c538a6-8c95-412a-af78-22b95589f812",
   "metadata": {},
   "outputs": [
    {
     "data": {
      "application/json": {
       "DimAthlete": {
        "DimAthlete": [
         "athlete_name"
        ],
        "athlete_name": [
         "athlete_name"
        ],
        "athlete_url": [
         "athlete_url"
        ]
       },
       "DimEvent": {
        "DimEvent": [
         "event_title",
         "event_discipline",
         "event_gender"
        ],
        "event_discipline": [
         "event_discipline"
        ],
        "event_gender": [
         "event_gender"
        ],
        "event_title": [
         "event_title"
        ]
       },
       "DimGame": {
        "DimGame": [
         "game_name",
         "game_season"
        ],
        "country_code": [
         "country_code"
        ],
        "game_name": [
         "game_name"
        ],
        "game_season": [
         "game_season"
        ]
       },
       "DimLocation": {
        "DimLocation": [
         "country_name",
         "continent"
        ],
        "continent": [
         "continent"
        ],
        "country_name": [
         "country_name"
        ]
       },
       "DimParticipant": {
        "DimParticipant": [
         "participant_title",
         "participant_type"
        ],
        "participant_title": [
         "participant_title"
        ],
        "participant_type": [
         "participant_type"
        ]
       },
       "DimYear": {
        "Year": [
         "year"
        ]
       }
      },
      "text/html": [
       "<ul>\n",
       "<li>Dimensions\n",
       "  <ul>\n",
       "  <li>DimAthlete\n",
       "    <ul>\n",
       "    <li>DimAthlete\n",
       "      <ol>\n",
       "      <li>athlete_name</li>\n",
       "      </ol>    </li>\n",
       "    <li>athlete_name\n",
       "      <ol>\n",
       "      <li>athlete_name</li>\n",
       "      </ol>    </li>\n",
       "    <li>athlete_url\n",
       "      <ol>\n",
       "      <li>athlete_url</li>\n",
       "      </ol>    </li>\n",
       "    </ul>\n",
       "  </li>\n",
       "  <li>DimEvent\n",
       "    <ul>\n",
       "    <li>DimEvent\n",
       "      <ol>\n",
       "      <li>event_title</li>\n",
       "      <li>event_discipline</li>\n",
       "      <li>event_gender</li>\n",
       "      </ol>    </li>\n",
       "    <li>event_discipline\n",
       "      <ol>\n",
       "      <li>event_discipline</li>\n",
       "      </ol>    </li>\n",
       "    <li>event_gender\n",
       "      <ol>\n",
       "      <li>event_gender</li>\n",
       "      </ol>    </li>\n",
       "    <li>event_title\n",
       "      <ol>\n",
       "      <li>event_title</li>\n",
       "      </ol>    </li>\n",
       "    </ul>\n",
       "  </li>\n",
       "  <li>DimGame\n",
       "    <ul>\n",
       "    <li>DimGame\n",
       "      <ol>\n",
       "      <li>game_name</li>\n",
       "      <li>game_season</li>\n",
       "      </ol>    </li>\n",
       "    <li>country_code\n",
       "      <ol>\n",
       "      <li>country_code</li>\n",
       "      </ol>    </li>\n",
       "    <li>game_name\n",
       "      <ol>\n",
       "      <li>game_name</li>\n",
       "      </ol>    </li>\n",
       "    <li>game_season\n",
       "      <ol>\n",
       "      <li>game_season</li>\n",
       "      </ol>    </li>\n",
       "    </ul>\n",
       "  </li>\n",
       "  <li>DimLocation\n",
       "    <ul>\n",
       "    <li>DimLocation\n",
       "      <ol>\n",
       "      <li>country_name</li>\n",
       "      <li>continent</li>\n",
       "      </ol>    </li>\n",
       "    <li>continent\n",
       "      <ol>\n",
       "      <li>continent</li>\n",
       "      </ol>    </li>\n",
       "    <li>country_name\n",
       "      <ol>\n",
       "      <li>country_name</li>\n",
       "      </ol>    </li>\n",
       "    </ul>\n",
       "  </li>\n",
       "  <li>DimParticipant\n",
       "    <ul>\n",
       "    <li>DimParticipant\n",
       "      <ol>\n",
       "      <li>participant_title</li>\n",
       "      <li>participant_type</li>\n",
       "      </ol>    </li>\n",
       "    <li>participant_title\n",
       "      <ol>\n",
       "      <li>participant_title</li>\n",
       "      </ol>    </li>\n",
       "    <li>participant_type\n",
       "      <ol>\n",
       "      <li>participant_type</li>\n",
       "      </ol>    </li>\n",
       "    </ul>\n",
       "  </li>\n",
       "  <li>DimYear\n",
       "    <ul>\n",
       "    <li>Year\n",
       "      <ol>\n",
       "      <li>year</li>\n",
       "      </ol>    </li>\n",
       "    </ul>\n",
       "  </li>\n",
       "  </ul>\n",
       "</li>\n",
       "</ul>\n"
      ],
      "text/plain": [
       "{('DimLocation', 'DimLocation'): <atoti.hierarchy.Hierarchy object at 0x7fffb04cb110>, ('DimParticipant', 'participant_title'): <atoti.hierarchy.Hierarchy object at 0x7fffb04f00d0>, ('DimAthlete', 'athlete_name'): <atoti.hierarchy.Hierarchy object at 0x7fffb04f3490>, ('DimGame', 'DimGame'): <atoti.hierarchy.Hierarchy object at 0x7fffb04f0850>, ('DimGame', 'game_season'): <atoti.hierarchy.Hierarchy object at 0x7fffb04f0790>, ('DimEvent', 'DimEvent'): <atoti.hierarchy.Hierarchy object at 0x7fffb04f3290>, ('DimAthlete', 'DimAthlete'): <atoti.hierarchy.Hierarchy object at 0x7fffb04f3ed0>, ('DimParticipant', 'participant_type'): <atoti.hierarchy.Hierarchy object at 0x7fffb04f1790>, ('DimEvent', 'event_discipline'): <atoti.hierarchy.Hierarchy object at 0x7fffb04f0d90>, ('DimParticipant', 'DimParticipant'): <atoti.hierarchy.Hierarchy object at 0x7fffb04f0c90>, ('DimEvent', 'event_gender'): <atoti.hierarchy.Hierarchy object at 0x7fffb04f04d0>, ('DimYear', 'Year'): <atoti.hierarchy.Hierarchy object at 0x7fffb04f05d0>, ('DimLocation', 'country_name'): <atoti.hierarchy.Hierarchy object at 0x7fffb04f1210>, ('DimAthlete', 'athlete_url'): <atoti.hierarchy.Hierarchy object at 0x7fffb04f1590>, ('DimEvent', 'event_title'): <atoti.hierarchy.Hierarchy object at 0x7fffb04f14d0>, ('DimGame', 'game_name'): <atoti.hierarchy.Hierarchy object at 0x7fffb04f2290>, ('DimLocation', 'continent'): <atoti.hierarchy.Hierarchy object at 0x7fffb04f2510>, ('DimGame', 'country_code'): <atoti.hierarchy.Hierarchy object at 0x7fffb04f2650>}"
      ]
     },
     "execution_count": 29,
     "metadata": {
      "application/json": {
       "expanded": true,
       "root": "Dimensions"
      }
     },
     "output_type": "execute_result"
    }
   ],
   "source": [
    "hierarchies"
   ]
  },
  {
   "cell_type": "code",
   "execution_count": 30,
   "id": "71fc6c6c-2436-4e4c-acb6-e2ca3369f8ca",
   "metadata": {},
   "outputs": [],
   "source": [
    "hierarchies[\"DimYear\"] = [levels[\"year\"]]\n"
   ]
  },
  {
   "cell_type": "code",
   "execution_count": 31,
   "id": "03e42ba8-8ae8-4159-a2dd-58e52fc6c507",
   "metadata": {},
   "outputs": [
    {
     "data": {
      "application/json": {
       "DimAthlete": {
        "DimAthlete": [
         "athlete_name"
        ],
        "athlete_name": [
         "athlete_name"
        ],
        "athlete_url": [
         "athlete_url"
        ]
       },
       "DimEvent": {
        "DimEvent": [
         "event_title",
         "event_discipline",
         "event_gender"
        ],
        "event_discipline": [
         "event_discipline"
        ],
        "event_gender": [
         "event_gender"
        ],
        "event_title": [
         "event_title"
        ]
       },
       "DimGame": {
        "DimGame": [
         "game_name",
         "game_season"
        ],
        "country_code": [
         "country_code"
        ],
        "game_name": [
         "game_name"
        ],
        "game_season": [
         "game_season"
        ]
       },
       "DimLocation": {
        "DimLocation": [
         "country_name",
         "continent"
        ],
        "continent": [
         "continent"
        ],
        "country_name": [
         "country_name"
        ]
       },
       "DimParticipant": {
        "DimParticipant": [
         "participant_title",
         "participant_type"
        ],
        "participant_title": [
         "participant_title"
        ],
        "participant_type": [
         "participant_type"
        ]
       },
       "DimYear": {
        "DimYear": [
         "year"
        ],
        "Year": [
         "year"
        ]
       }
      },
      "text/html": [
       "<ul>\n",
       "<li>Dimensions\n",
       "  <ul>\n",
       "  <li>DimAthlete\n",
       "    <ul>\n",
       "    <li>DimAthlete\n",
       "      <ol>\n",
       "      <li>athlete_name</li>\n",
       "      </ol>    </li>\n",
       "    <li>athlete_name\n",
       "      <ol>\n",
       "      <li>athlete_name</li>\n",
       "      </ol>    </li>\n",
       "    <li>athlete_url\n",
       "      <ol>\n",
       "      <li>athlete_url</li>\n",
       "      </ol>    </li>\n",
       "    </ul>\n",
       "  </li>\n",
       "  <li>DimEvent\n",
       "    <ul>\n",
       "    <li>DimEvent\n",
       "      <ol>\n",
       "      <li>event_title</li>\n",
       "      <li>event_discipline</li>\n",
       "      <li>event_gender</li>\n",
       "      </ol>    </li>\n",
       "    <li>event_discipline\n",
       "      <ol>\n",
       "      <li>event_discipline</li>\n",
       "      </ol>    </li>\n",
       "    <li>event_gender\n",
       "      <ol>\n",
       "      <li>event_gender</li>\n",
       "      </ol>    </li>\n",
       "    <li>event_title\n",
       "      <ol>\n",
       "      <li>event_title</li>\n",
       "      </ol>    </li>\n",
       "    </ul>\n",
       "  </li>\n",
       "  <li>DimGame\n",
       "    <ul>\n",
       "    <li>DimGame\n",
       "      <ol>\n",
       "      <li>game_name</li>\n",
       "      <li>game_season</li>\n",
       "      </ol>    </li>\n",
       "    <li>country_code\n",
       "      <ol>\n",
       "      <li>country_code</li>\n",
       "      </ol>    </li>\n",
       "    <li>game_name\n",
       "      <ol>\n",
       "      <li>game_name</li>\n",
       "      </ol>    </li>\n",
       "    <li>game_season\n",
       "      <ol>\n",
       "      <li>game_season</li>\n",
       "      </ol>    </li>\n",
       "    </ul>\n",
       "  </li>\n",
       "  <li>DimLocation\n",
       "    <ul>\n",
       "    <li>DimLocation\n",
       "      <ol>\n",
       "      <li>country_name</li>\n",
       "      <li>continent</li>\n",
       "      </ol>    </li>\n",
       "    <li>continent\n",
       "      <ol>\n",
       "      <li>continent</li>\n",
       "      </ol>    </li>\n",
       "    <li>country_name\n",
       "      <ol>\n",
       "      <li>country_name</li>\n",
       "      </ol>    </li>\n",
       "    </ul>\n",
       "  </li>\n",
       "  <li>DimParticipant\n",
       "    <ul>\n",
       "    <li>DimParticipant\n",
       "      <ol>\n",
       "      <li>participant_title</li>\n",
       "      <li>participant_type</li>\n",
       "      </ol>    </li>\n",
       "    <li>participant_title\n",
       "      <ol>\n",
       "      <li>participant_title</li>\n",
       "      </ol>    </li>\n",
       "    <li>participant_type\n",
       "      <ol>\n",
       "      <li>participant_type</li>\n",
       "      </ol>    </li>\n",
       "    </ul>\n",
       "  </li>\n",
       "  <li>DimYear\n",
       "    <ul>\n",
       "    <li>DimYear\n",
       "      <ol>\n",
       "      <li>year</li>\n",
       "      </ol>    </li>\n",
       "    <li>Year\n",
       "      <ol>\n",
       "      <li>year</li>\n",
       "      </ol>    </li>\n",
       "    </ul>\n",
       "  </li>\n",
       "  </ul>\n",
       "</li>\n",
       "</ul>\n"
      ],
      "text/plain": [
       "{('DimLocation', 'DimLocation'): <atoti.hierarchy.Hierarchy object at 0x7fffb04f2590>, ('DimParticipant', 'participant_title'): <atoti.hierarchy.Hierarchy object at 0x7fffb05292d0>, ('DimAthlete', 'athlete_name'): <atoti.hierarchy.Hierarchy object at 0x7fffb0529050>, ('DimGame', 'DimGame'): <atoti.hierarchy.Hierarchy object at 0x7fffb05289d0>, ('DimGame', 'game_season'): <atoti.hierarchy.Hierarchy object at 0x7fffb0528410>, ('DimEvent', 'DimEvent'): <atoti.hierarchy.Hierarchy object at 0x7fffb0528450>, ('DimAthlete', 'DimAthlete'): <atoti.hierarchy.Hierarchy object at 0x7fffb052a810>, ('DimParticipant', 'participant_type'): <atoti.hierarchy.Hierarchy object at 0x7fffb0529bd0>, ('DimEvent', 'event_discipline'): <atoti.hierarchy.Hierarchy object at 0x7fffb0529a50>, ('DimParticipant', 'DimParticipant'): <atoti.hierarchy.Hierarchy object at 0x7fffb0528e90>, ('DimEvent', 'event_gender'): <atoti.hierarchy.Hierarchy object at 0x7fffb0528ad0>, ('DimYear', 'Year'): <atoti.hierarchy.Hierarchy object at 0x7fffb0528090>, ('DimYear', 'DimYear'): <atoti.hierarchy.Hierarchy object at 0x7fffb052b650>, ('DimLocation', 'country_name'): <atoti.hierarchy.Hierarchy object at 0x7fffb052b790>, ('DimAthlete', 'athlete_url'): <atoti.hierarchy.Hierarchy object at 0x7fffb052b8d0>, ('DimEvent', 'event_title'): <atoti.hierarchy.Hierarchy object at 0x7fffb052ba10>, ('DimGame', 'game_name'): <atoti.hierarchy.Hierarchy object at 0x7fffb052bb50>, ('DimLocation', 'continent'): <atoti.hierarchy.Hierarchy object at 0x7fffb052bc90>, ('DimGame', 'country_code'): <atoti.hierarchy.Hierarchy object at 0x7fffb052bdd0>}"
      ]
     },
     "execution_count": 31,
     "metadata": {
      "application/json": {
       "expanded": true,
       "root": "Dimensions"
      }
     },
     "output_type": "execute_result"
    }
   ],
   "source": [
    "hierarchies"
   ]
  },
  {
   "cell_type": "code",
   "execution_count": 32,
   "id": "060fad92-3b6d-4706-8979-8919e5cf7c03",
   "metadata": {},
   "outputs": [
    {
     "name": "stdout",
     "output_type": "stream",
     "text": [
      "('DimLocation', 'DimLocation')\n",
      "('DimParticipant', 'participant_title')\n",
      "('DimAthlete', 'athlete_name')\n",
      "('DimGame', 'DimGame')\n",
      "('DimGame', 'game_season')\n",
      "('DimEvent', 'DimEvent')\n",
      "('DimAthlete', 'DimAthlete')\n",
      "('DimParticipant', 'participant_type')\n",
      "('DimEvent', 'event_discipline')\n",
      "('DimParticipant', 'DimParticipant')\n",
      "('DimEvent', 'event_gender')\n",
      "('DimYear', 'Year')\n",
      "('DimYear', 'DimYear')\n",
      "('DimLocation', 'country_name')\n",
      "('DimAthlete', 'athlete_url')\n",
      "('DimEvent', 'event_title')\n",
      "('DimGame', 'game_name')\n",
      "('DimLocation', 'continent')\n",
      "('DimGame', 'country_code')\n"
     ]
    }
   ],
   "source": [
    "for hierarchy in hierarchies:\n",
    "    print(hierarchy)"
   ]
  },
  {
   "cell_type": "code",
   "execution_count": 33,
   "id": "c2447c51-fbd3-424b-b7af-ac7191219616",
   "metadata": {},
   "outputs": [],
   "source": [
    "del hierarchies[(\"DimAthlete\", \"athlete_name\")]"
   ]
  },
  {
   "cell_type": "code",
   "execution_count": 34,
   "id": "11aafdbb-8f26-4098-abb8-3ad313558d0f",
   "metadata": {},
   "outputs": [],
   "source": [
    "del hierarchies[('DimAthlete', 'athlete_url')]"
   ]
  },
  {
   "cell_type": "code",
   "execution_count": 35,
   "id": "6fde0062-73e0-495a-ac77-ba1c64870cc7",
   "metadata": {},
   "outputs": [],
   "source": [
    "del hierarchies[('DimEvent', 'event_gender')]\n",
    "del hierarchies[('DimEvent', 'event_title')]\n",
    "del hierarchies[('DimEvent', 'event_discipline')]"
   ]
  },
  {
   "cell_type": "code",
   "execution_count": 36,
   "id": "c099cecb-6583-43c0-831c-445317bfcd96",
   "metadata": {},
   "outputs": [],
   "source": [
    "del hierarchies[('DimGame', 'game_season')]\n",
    "del hierarchies[('DimGame', 'country_code')]\n",
    "del hierarchies[('DimGame', 'game_name')]"
   ]
  },
  {
   "cell_type": "code",
   "execution_count": 37,
   "id": "97e339bf-d3fd-4048-9038-1a3ccf47b348",
   "metadata": {},
   "outputs": [],
   "source": [
    "del hierarchies[('DimLocation', 'country_name')]\n",
    "del hierarchies[('DimLocation', 'continent')]\n"
   ]
  },
  {
   "cell_type": "code",
   "execution_count": 38,
   "id": "393151c0-3422-49b8-bfbf-5c3872f6d39f",
   "metadata": {},
   "outputs": [],
   "source": [
    "del hierarchies[('DimParticipant', 'participant_title')]\n",
    "del hierarchies[('DimParticipant', 'participant_type')]"
   ]
  },
  {
   "cell_type": "code",
   "execution_count": 39,
   "id": "495caa55-6481-41e6-828c-7b63715e0f12",
   "metadata": {},
   "outputs": [],
   "source": [
    "del hierarchies[('DimYear', 'Year')]"
   ]
  },
  {
   "cell_type": "code",
   "execution_count": 40,
   "id": "ef0a3743-e89c-44cc-9ee1-21e82fd1a0a8",
   "metadata": {},
   "outputs": [
    {
     "data": {
      "application/json": {
       "DimAthlete": {
        "DimAthlete": [
         "athlete_name"
        ]
       },
       "DimEvent": {
        "DimEvent": [
         "event_title",
         "event_discipline",
         "event_gender"
        ]
       },
       "DimGame": {
        "DimGame": [
         "game_name",
         "game_season"
        ]
       },
       "DimLocation": {
        "DimLocation": [
         "country_name",
         "continent"
        ]
       },
       "DimParticipant": {
        "DimParticipant": [
         "participant_title",
         "participant_type"
        ]
       },
       "DimYear": {
        "DimYear": [
         "year"
        ]
       }
      },
      "text/html": [
       "<ul>\n",
       "<li>Dimensions\n",
       "  <ul>\n",
       "  <li>DimAthlete\n",
       "    <ul>\n",
       "    <li>DimAthlete\n",
       "      <ol>\n",
       "      <li>athlete_name</li>\n",
       "      </ol>    </li>\n",
       "    </ul>\n",
       "  </li>\n",
       "  <li>DimEvent\n",
       "    <ul>\n",
       "    <li>DimEvent\n",
       "      <ol>\n",
       "      <li>event_title</li>\n",
       "      <li>event_discipline</li>\n",
       "      <li>event_gender</li>\n",
       "      </ol>    </li>\n",
       "    </ul>\n",
       "  </li>\n",
       "  <li>DimGame\n",
       "    <ul>\n",
       "    <li>DimGame\n",
       "      <ol>\n",
       "      <li>game_name</li>\n",
       "      <li>game_season</li>\n",
       "      </ol>    </li>\n",
       "    </ul>\n",
       "  </li>\n",
       "  <li>DimLocation\n",
       "    <ul>\n",
       "    <li>DimLocation\n",
       "      <ol>\n",
       "      <li>country_name</li>\n",
       "      <li>continent</li>\n",
       "      </ol>    </li>\n",
       "    </ul>\n",
       "  </li>\n",
       "  <li>DimParticipant\n",
       "    <ul>\n",
       "    <li>DimParticipant\n",
       "      <ol>\n",
       "      <li>participant_title</li>\n",
       "      <li>participant_type</li>\n",
       "      </ol>    </li>\n",
       "    </ul>\n",
       "  </li>\n",
       "  <li>DimYear\n",
       "    <ul>\n",
       "    <li>DimYear\n",
       "      <ol>\n",
       "      <li>year</li>\n",
       "      </ol>    </li>\n",
       "    </ul>\n",
       "  </li>\n",
       "  </ul>\n",
       "</li>\n",
       "</ul>\n"
      ],
      "text/plain": [
       "{('DimParticipant', 'DimParticipant'): <atoti.hierarchy.Hierarchy object at 0x7fffb04dc810>, ('DimLocation', 'DimLocation'): <atoti.hierarchy.Hierarchy object at 0x7fffb04f19d0>, ('DimYear', 'DimYear'): <atoti.hierarchy.Hierarchy object at 0x7fffb04f3bd0>, ('DimGame', 'DimGame'): <atoti.hierarchy.Hierarchy object at 0x7fffb04f3150>, ('DimEvent', 'DimEvent'): <atoti.hierarchy.Hierarchy object at 0x7fffb04f0050>, ('DimAthlete', 'DimAthlete'): <atoti.hierarchy.Hierarchy object at 0x7fffb04f0ad0>}"
      ]
     },
     "execution_count": 40,
     "metadata": {
      "application/json": {
       "expanded": true,
       "root": "Dimensions"
      }
     },
     "output_type": "execute_result"
    }
   ],
   "source": [
    "hierarchies"
   ]
  },
  {
   "cell_type": "code",
   "execution_count": 41,
   "id": "27c0db25-15ee-4ce2-b96a-bfd2e574f916",
   "metadata": {},
   "outputs": [
    {
     "data": {
      "application/json": {
       "annual_gdp_growth.MEAN": {
        "formatter": "DOUBLE[#,###.00]"
       },
       "annual_gdp_growth.SUM": {
        "formatter": "DOUBLE[#,###.00]"
       },
       "athlete_id.MEAN": {
        "formatter": "DOUBLE[#,###.00]"
       },
       "athlete_id.SUM": {
        "formatter": "INT[#,###]"
       },
       "contributors.COUNT": {
        "formatter": "INT[#,###]"
       },
       "current_health_expenditure.MEAN": {
        "formatter": "DOUBLE[#,###.00]"
       },
       "current_health_expenditure.SUM": {
        "formatter": "DOUBLE[#,###.00]"
       },
       "daly_anxiety.MEAN": {
        "formatter": "DOUBLE[#,###.00]"
       },
       "daly_anxiety.SUM": {
        "formatter": "DOUBLE[#,###.00]"
       },
       "daly_bipolar_disorder.MEAN": {
        "formatter": "DOUBLE[#,###.00]"
       },
       "daly_bipolar_disorder.SUM": {
        "formatter": "DOUBLE[#,###.00]"
       },
       "daly_depression.MEAN": {
        "formatter": "DOUBLE[#,###.00]"
       },
       "daly_depression.SUM": {
        "formatter": "DOUBLE[#,###.00]"
       },
       "daly_eating_disorder.MEAN": {
        "formatter": "DOUBLE[#,###.00]"
       },
       "daly_eating_disorder.SUM": {
        "formatter": "DOUBLE[#,###.00]"
       },
       "daly_schizophrenia.MEAN": {
        "formatter": "DOUBLE[#,###.00]"
       },
       "daly_schizophrenia.SUM": {
        "formatter": "DOUBLE[#,###.00]"
       },
       "event_id.MEAN": {
        "formatter": "DOUBLE[#,###.00]"
       },
       "event_id.SUM": {
        "formatter": "INT[#,###]"
       },
       "external_health_expenditure.MEAN": {
        "formatter": "DOUBLE[#,###.00]"
       },
       "external_health_expenditure.SUM": {
        "formatter": "DOUBLE[#,###.00]"
       },
       "gdp_per_capita.MEAN": {
        "formatter": "DOUBLE[#,###.00]"
       },
       "gdp_per_capita.SUM": {
        "formatter": "DOUBLE[#,###.00]"
       },
       "government_health_expenditure.MEAN": {
        "formatter": "DOUBLE[#,###.00]"
       },
       "government_health_expenditure.SUM": {
        "formatter": "DOUBLE[#,###.00]"
       },
       "infant_mortality_rate.MEAN": {
        "formatter": "DOUBLE[#,###.00]"
       },
       "infant_mortality_rate.SUM": {
        "formatter": "DOUBLE[#,###.00]"
       },
       "life_expectancy.MEAN": {
        "formatter": "DOUBLE[#,###.00]"
       },
       "life_expectancy.SUM": {
        "formatter": "DOUBLE[#,###.00]"
       },
       "participant_id.MEAN": {
        "formatter": "DOUBLE[#,###.00]"
       },
       "participant_id.SUM": {
        "formatter": "INT[#,###]"
       },
       "poverty_count.MEAN": {
        "formatter": "DOUBLE[#,###.00]"
       },
       "poverty_count.SUM": {
        "formatter": "DOUBLE[#,###.00]"
       },
       "private_health_expenditure.MEAN": {
        "formatter": "DOUBLE[#,###.00]"
       },
       "private_health_expenditure.SUM": {
        "formatter": "DOUBLE[#,###.00]"
       },
       "servers_count.MEAN": {
        "formatter": "DOUBLE[#,###.00]"
       },
       "servers_count.SUM": {
        "formatter": "INT[#,###]"
       },
       "total_bronze_medals.MEAN": {
        "formatter": "DOUBLE[#,###.00]"
       },
       "total_bronze_medals.SUM": {
        "formatter": "INT[#,###]"
       },
       "total_gold_medals.MEAN": {
        "formatter": "DOUBLE[#,###.00]"
       },
       "total_gold_medals.SUM": {
        "formatter": "INT[#,###]"
       },
       "total_medals.MEAN": {
        "formatter": "DOUBLE[#,###.00]"
       },
       "total_medals.SUM": {
        "formatter": "INT[#,###]"
       },
       "total_silver_medals.MEAN": {
        "formatter": "DOUBLE[#,###.00]"
       },
       "total_silver_medals.SUM": {
        "formatter": "INT[#,###]"
       }
      },
      "text/html": [
       "<ul>\n",
       "<li>Measures\n",
       "  <ul>\n",
       "  <li>annual_gdp_growth.MEAN\n",
       "    <ul>\n",
       "    <li>formatter: DOUBLE[#,###.00]</li>\n",
       "    </ul>\n",
       "  </li>\n",
       "  <li>annual_gdp_growth.SUM\n",
       "    <ul>\n",
       "    <li>formatter: DOUBLE[#,###.00]</li>\n",
       "    </ul>\n",
       "  </li>\n",
       "  <li>athlete_id.MEAN\n",
       "    <ul>\n",
       "    <li>formatter: DOUBLE[#,###.00]</li>\n",
       "    </ul>\n",
       "  </li>\n",
       "  <li>athlete_id.SUM\n",
       "    <ul>\n",
       "    <li>formatter: INT[#,###]</li>\n",
       "    </ul>\n",
       "  </li>\n",
       "  <li>contributors.COUNT\n",
       "    <ul>\n",
       "    <li>formatter: INT[#,###]</li>\n",
       "    </ul>\n",
       "  </li>\n",
       "  <li>current_health_expenditure.MEAN\n",
       "    <ul>\n",
       "    <li>formatter: DOUBLE[#,###.00]</li>\n",
       "    </ul>\n",
       "  </li>\n",
       "  <li>current_health_expenditure.SUM\n",
       "    <ul>\n",
       "    <li>formatter: DOUBLE[#,###.00]</li>\n",
       "    </ul>\n",
       "  </li>\n",
       "  <li>daly_anxiety.MEAN\n",
       "    <ul>\n",
       "    <li>formatter: DOUBLE[#,###.00]</li>\n",
       "    </ul>\n",
       "  </li>\n",
       "  <li>daly_anxiety.SUM\n",
       "    <ul>\n",
       "    <li>formatter: DOUBLE[#,###.00]</li>\n",
       "    </ul>\n",
       "  </li>\n",
       "  <li>daly_bipolar_disorder.MEAN\n",
       "    <ul>\n",
       "    <li>formatter: DOUBLE[#,###.00]</li>\n",
       "    </ul>\n",
       "  </li>\n",
       "  <li>daly_bipolar_disorder.SUM\n",
       "    <ul>\n",
       "    <li>formatter: DOUBLE[#,###.00]</li>\n",
       "    </ul>\n",
       "  </li>\n",
       "  <li>daly_depression.MEAN\n",
       "    <ul>\n",
       "    <li>formatter: DOUBLE[#,###.00]</li>\n",
       "    </ul>\n",
       "  </li>\n",
       "  <li>daly_depression.SUM\n",
       "    <ul>\n",
       "    <li>formatter: DOUBLE[#,###.00]</li>\n",
       "    </ul>\n",
       "  </li>\n",
       "  <li>daly_eating_disorder.MEAN\n",
       "    <ul>\n",
       "    <li>formatter: DOUBLE[#,###.00]</li>\n",
       "    </ul>\n",
       "  </li>\n",
       "  <li>daly_eating_disorder.SUM\n",
       "    <ul>\n",
       "    <li>formatter: DOUBLE[#,###.00]</li>\n",
       "    </ul>\n",
       "  </li>\n",
       "  <li>daly_schizophrenia.MEAN\n",
       "    <ul>\n",
       "    <li>formatter: DOUBLE[#,###.00]</li>\n",
       "    </ul>\n",
       "  </li>\n",
       "  <li>daly_schizophrenia.SUM\n",
       "    <ul>\n",
       "    <li>formatter: DOUBLE[#,###.00]</li>\n",
       "    </ul>\n",
       "  </li>\n",
       "  <li>event_id.MEAN\n",
       "    <ul>\n",
       "    <li>formatter: DOUBLE[#,###.00]</li>\n",
       "    </ul>\n",
       "  </li>\n",
       "  <li>event_id.SUM\n",
       "    <ul>\n",
       "    <li>formatter: INT[#,###]</li>\n",
       "    </ul>\n",
       "  </li>\n",
       "  <li>external_health_expenditure.MEAN\n",
       "    <ul>\n",
       "    <li>formatter: DOUBLE[#,###.00]</li>\n",
       "    </ul>\n",
       "  </li>\n",
       "  <li>external_health_expenditure.SUM\n",
       "    <ul>\n",
       "    <li>formatter: DOUBLE[#,###.00]</li>\n",
       "    </ul>\n",
       "  </li>\n",
       "  <li>gdp_per_capita.MEAN\n",
       "    <ul>\n",
       "    <li>formatter: DOUBLE[#,###.00]</li>\n",
       "    </ul>\n",
       "  </li>\n",
       "  <li>gdp_per_capita.SUM\n",
       "    <ul>\n",
       "    <li>formatter: DOUBLE[#,###.00]</li>\n",
       "    </ul>\n",
       "  </li>\n",
       "  <li>government_health_expenditure.MEAN\n",
       "    <ul>\n",
       "    <li>formatter: DOUBLE[#,###.00]</li>\n",
       "    </ul>\n",
       "  </li>\n",
       "  <li>government_health_expenditure.SUM\n",
       "    <ul>\n",
       "    <li>formatter: DOUBLE[#,###.00]</li>\n",
       "    </ul>\n",
       "  </li>\n",
       "  <li>infant_mortality_rate.MEAN\n",
       "    <ul>\n",
       "    <li>formatter: DOUBLE[#,###.00]</li>\n",
       "    </ul>\n",
       "  </li>\n",
       "  <li>infant_mortality_rate.SUM\n",
       "    <ul>\n",
       "    <li>formatter: DOUBLE[#,###.00]</li>\n",
       "    </ul>\n",
       "  </li>\n",
       "  <li>life_expectancy.MEAN\n",
       "    <ul>\n",
       "    <li>formatter: DOUBLE[#,###.00]</li>\n",
       "    </ul>\n",
       "  </li>\n",
       "  <li>life_expectancy.SUM\n",
       "    <ul>\n",
       "    <li>formatter: DOUBLE[#,###.00]</li>\n",
       "    </ul>\n",
       "  </li>\n",
       "  <li>participant_id.MEAN\n",
       "    <ul>\n",
       "    <li>formatter: DOUBLE[#,###.00]</li>\n",
       "    </ul>\n",
       "  </li>\n",
       "  <li>participant_id.SUM\n",
       "    <ul>\n",
       "    <li>formatter: INT[#,###]</li>\n",
       "    </ul>\n",
       "  </li>\n",
       "  <li>poverty_count.MEAN\n",
       "    <ul>\n",
       "    <li>formatter: DOUBLE[#,###.00]</li>\n",
       "    </ul>\n",
       "  </li>\n",
       "  <li>poverty_count.SUM\n",
       "    <ul>\n",
       "    <li>formatter: DOUBLE[#,###.00]</li>\n",
       "    </ul>\n",
       "  </li>\n",
       "  <li>private_health_expenditure.MEAN\n",
       "    <ul>\n",
       "    <li>formatter: DOUBLE[#,###.00]</li>\n",
       "    </ul>\n",
       "  </li>\n",
       "  <li>private_health_expenditure.SUM\n",
       "    <ul>\n",
       "    <li>formatter: DOUBLE[#,###.00]</li>\n",
       "    </ul>\n",
       "  </li>\n",
       "  <li>servers_count.MEAN\n",
       "    <ul>\n",
       "    <li>formatter: DOUBLE[#,###.00]</li>\n",
       "    </ul>\n",
       "  </li>\n",
       "  <li>servers_count.SUM\n",
       "    <ul>\n",
       "    <li>formatter: INT[#,###]</li>\n",
       "    </ul>\n",
       "  </li>\n",
       "  <li>total_bronze_medals.MEAN\n",
       "    <ul>\n",
       "    <li>formatter: DOUBLE[#,###.00]</li>\n",
       "    </ul>\n",
       "  </li>\n",
       "  <li>total_bronze_medals.SUM\n",
       "    <ul>\n",
       "    <li>formatter: INT[#,###]</li>\n",
       "    </ul>\n",
       "  </li>\n",
       "  <li>total_gold_medals.MEAN\n",
       "    <ul>\n",
       "    <li>formatter: DOUBLE[#,###.00]</li>\n",
       "    </ul>\n",
       "  </li>\n",
       "  <li>total_gold_medals.SUM\n",
       "    <ul>\n",
       "    <li>formatter: INT[#,###]</li>\n",
       "    </ul>\n",
       "  </li>\n",
       "  <li>total_medals.MEAN\n",
       "    <ul>\n",
       "    <li>formatter: DOUBLE[#,###.00]</li>\n",
       "    </ul>\n",
       "  </li>\n",
       "  <li>total_medals.SUM\n",
       "    <ul>\n",
       "    <li>formatter: INT[#,###]</li>\n",
       "    </ul>\n",
       "  </li>\n",
       "  <li>total_silver_medals.MEAN\n",
       "    <ul>\n",
       "    <li>formatter: DOUBLE[#,###.00]</li>\n",
       "    </ul>\n",
       "  </li>\n",
       "  <li>total_silver_medals.SUM\n",
       "    <ul>\n",
       "    <li>formatter: INT[#,###]</li>\n",
       "    </ul>\n",
       "  </li>\n",
       "  </ul>\n",
       "</li>\n",
       "</ul>\n"
      ],
      "text/plain": [
       "{'contributors.COUNT': <atoti.measure.Measure object at 0x7fffb047a390>, 'update.TIMESTAMP': <atoti.measure.Measure object at 0x7fffb047b910>, 'total_silver_medals.MEAN': <atoti.measure.Measure object at 0x7fffb047bcd0>, 'total_silver_medals.SUM': <atoti.measure.Measure object at 0x7fffb0479a50>, 'participant_id.MEAN': <atoti.measure.Measure object at 0x7fffb0479d90>, 'participant_id.SUM': <atoti.measure.Measure object at 0x7fffb047a310>, 'annual_gdp_growth.MEAN': <atoti.measure.Measure object at 0x7fffb047b610>, 'annual_gdp_growth.SUM': <atoti.measure.Measure object at 0x7fffb0478c90>, 'total_gold_medals.MEAN': <atoti.measure.Measure object at 0x7fffb04790d0>, 'total_gold_medals.SUM': <atoti.measure.Measure object at 0x7fffb047bd90>, 'daly_schizophrenia.MEAN': <atoti.measure.Measure object at 0x7fffb0479850>, 'daly_schizophrenia.SUM': <atoti.measure.Measure object at 0x7fffb0478ed0>, 'total_bronze_medals.MEAN': <atoti.measure.Measure object at 0x7fffb047b290>, 'total_bronze_medals.SUM': <atoti.measure.Measure object at 0x7fffb0478f90>, 'athlete_id.MEAN': <atoti.measure.Measure object at 0x7fffb0479150>, 'athlete_id.SUM': <atoti.measure.Measure object at 0x7fffb0478d50>, 'daly_bipolar_disorder.MEAN': <atoti.measure.Measure object at 0x7fffb047aed0>, 'daly_bipolar_disorder.SUM': <atoti.measure.Measure object at 0x7fffb0479210>, 'external_health_expenditure.MEAN': <atoti.measure.Measure object at 0x7fffb047af10>, 'external_health_expenditure.SUM': <atoti.measure.Measure object at 0x7fffb0478fd0>, 'infant_mortality_rate.MEAN': <atoti.measure.Measure object at 0x7fffb047b650>, 'infant_mortality_rate.SUM': <atoti.measure.Measure object at 0x7fffb047a510>, 'government_health_expenditure.MEAN': <atoti.measure.Measure object at 0x7fffb047b010>, 'government_health_expenditure.SUM': <atoti.measure.Measure object at 0x7fffb047b510>, 'servers_count.MEAN': <atoti.measure.Measure object at 0x7fffb0479590>, 'servers_count.SUM': <atoti.measure.Measure object at 0x7fffb0479f50>, 'event_id.MEAN': <atoti.measure.Measure object at 0x7fffb0479090>, 'event_id.SUM': <atoti.measure.Measure object at 0x7fffb047acd0>, 'current_health_expenditure.MEAN': <atoti.measure.Measure object at 0x7fffb0479e90>, 'current_health_expenditure.SUM': <atoti.measure.Measure object at 0x7fffb0479050>, 'poverty_count.MEAN': <atoti.measure.Measure object at 0x7fffb047b490>, 'poverty_count.SUM': <atoti.measure.Measure object at 0x7fffb0478950>, 'total_medals.MEAN': <atoti.measure.Measure object at 0x7fffb047a490>, 'total_medals.SUM': <atoti.measure.Measure object at 0x7fffb047b810>, 'daly_anxiety.MEAN': <atoti.measure.Measure object at 0x7fffb048dc90>, 'daly_anxiety.SUM': <atoti.measure.Measure object at 0x7fffb048fb90>, 'gdp_per_capita.MEAN': <atoti.measure.Measure object at 0x7fffb048f950>, 'gdp_per_capita.SUM': <atoti.measure.Measure object at 0x7fffb048f7d0>, 'life_expectancy.MEAN': <atoti.measure.Measure object at 0x7fffb048d910>, 'life_expectancy.SUM': <atoti.measure.Measure object at 0x7fffb048f710>, 'daly_eating_disorder.MEAN': <atoti.measure.Measure object at 0x7fffb048fa50>, 'daly_eating_disorder.SUM': <atoti.measure.Measure object at 0x7fffb048e6d0>, 'private_health_expenditure.MEAN': <atoti.measure.Measure object at 0x7fffb048ce90>, 'private_health_expenditure.SUM': <atoti.measure.Measure object at 0x7fffb048fcd0>, 'daly_depression.MEAN': <atoti.measure.Measure object at 0x7fffb048dd90>, 'daly_depression.SUM': <atoti.measure.Measure object at 0x7fffb048f850>}"
      ]
     },
     "execution_count": 41,
     "metadata": {
      "application/json": {
       "expanded": false,
       "root": "Measures"
      }
     },
     "output_type": "execute_result"
    }
   ],
   "source": [
    "measures\n"
   ]
  },
  {
   "cell_type": "code",
   "execution_count": 42,
   "id": "ac6d4ea8-ad40-4429-b072-8c38688a81f2",
   "metadata": {},
   "outputs": [],
   "source": [
    "del measures[\"athlete_id.MEAN\"]\n"
   ]
  },
  {
   "cell_type": "code",
   "execution_count": 43,
   "id": "b8f43bdd-84f0-4d44-92ac-758bf5271a4f",
   "metadata": {},
   "outputs": [],
   "source": [
    "del measures[\"contributors.COUNT\"]"
   ]
  },
  {
   "cell_type": "code",
   "execution_count": 44,
   "id": "959d2c1b-ec37-4026-af03-a4daf911edc0",
   "metadata": {},
   "outputs": [],
   "source": [
    "del measures[\"athlete_id.SUM\"]"
   ]
  },
  {
   "cell_type": "code",
   "execution_count": 45,
   "id": "d8c2feed-112c-4fed-b575-2679d7946948",
   "metadata": {},
   "outputs": [],
   "source": [
    "del measures[\"event_id.MEAN\"]"
   ]
  },
  {
   "cell_type": "code",
   "execution_count": 46,
   "id": "593e4f8b-946c-4fd5-a2fc-f60283bdf080",
   "metadata": {},
   "outputs": [],
   "source": [
    "del measures[\"event_id.SUM\"]\n",
    "del measures[\"participant_id.MEAN\"]\n",
    "del measures[\"participant_id.SUM\"]"
   ]
  },
  {
   "cell_type": "code",
   "execution_count": 47,
   "id": "7773171e-412c-46bb-989e-381c70a70213",
   "metadata": {},
   "outputs": [
    {
     "data": {
      "application/json": {
       "annual_gdp_growth.MEAN": {
        "formatter": "DOUBLE[#,###.00]"
       },
       "annual_gdp_growth.SUM": {
        "formatter": "DOUBLE[#,###.00]"
       },
       "current_health_expenditure.MEAN": {
        "formatter": "DOUBLE[#,###.00]"
       },
       "current_health_expenditure.SUM": {
        "formatter": "DOUBLE[#,###.00]"
       },
       "daly_anxiety.MEAN": {
        "formatter": "DOUBLE[#,###.00]"
       },
       "daly_anxiety.SUM": {
        "formatter": "DOUBLE[#,###.00]"
       },
       "daly_bipolar_disorder.MEAN": {
        "formatter": "DOUBLE[#,###.00]"
       },
       "daly_bipolar_disorder.SUM": {
        "formatter": "DOUBLE[#,###.00]"
       },
       "daly_depression.MEAN": {
        "formatter": "DOUBLE[#,###.00]"
       },
       "daly_depression.SUM": {
        "formatter": "DOUBLE[#,###.00]"
       },
       "daly_eating_disorder.MEAN": {
        "formatter": "DOUBLE[#,###.00]"
       },
       "daly_eating_disorder.SUM": {
        "formatter": "DOUBLE[#,###.00]"
       },
       "daly_schizophrenia.MEAN": {
        "formatter": "DOUBLE[#,###.00]"
       },
       "daly_schizophrenia.SUM": {
        "formatter": "DOUBLE[#,###.00]"
       },
       "external_health_expenditure.MEAN": {
        "formatter": "DOUBLE[#,###.00]"
       },
       "external_health_expenditure.SUM": {
        "formatter": "DOUBLE[#,###.00]"
       },
       "gdp_per_capita.MEAN": {
        "formatter": "DOUBLE[#,###.00]"
       },
       "gdp_per_capita.SUM": {
        "formatter": "DOUBLE[#,###.00]"
       },
       "government_health_expenditure.MEAN": {
        "formatter": "DOUBLE[#,###.00]"
       },
       "government_health_expenditure.SUM": {
        "formatter": "DOUBLE[#,###.00]"
       },
       "infant_mortality_rate.MEAN": {
        "formatter": "DOUBLE[#,###.00]"
       },
       "infant_mortality_rate.SUM": {
        "formatter": "DOUBLE[#,###.00]"
       },
       "life_expectancy.MEAN": {
        "formatter": "DOUBLE[#,###.00]"
       },
       "life_expectancy.SUM": {
        "formatter": "DOUBLE[#,###.00]"
       },
       "poverty_count.MEAN": {
        "formatter": "DOUBLE[#,###.00]"
       },
       "poverty_count.SUM": {
        "formatter": "DOUBLE[#,###.00]"
       },
       "private_health_expenditure.MEAN": {
        "formatter": "DOUBLE[#,###.00]"
       },
       "private_health_expenditure.SUM": {
        "formatter": "DOUBLE[#,###.00]"
       },
       "servers_count.MEAN": {
        "formatter": "DOUBLE[#,###.00]"
       },
       "servers_count.SUM": {
        "formatter": "INT[#,###]"
       },
       "total_bronze_medals.MEAN": {
        "formatter": "DOUBLE[#,###.00]"
       },
       "total_bronze_medals.SUM": {
        "formatter": "INT[#,###]"
       },
       "total_gold_medals.MEAN": {
        "formatter": "DOUBLE[#,###.00]"
       },
       "total_gold_medals.SUM": {
        "formatter": "INT[#,###]"
       },
       "total_medals.MEAN": {
        "formatter": "DOUBLE[#,###.00]"
       },
       "total_medals.SUM": {
        "formatter": "INT[#,###]"
       },
       "total_silver_medals.MEAN": {
        "formatter": "DOUBLE[#,###.00]"
       },
       "total_silver_medals.SUM": {
        "formatter": "INT[#,###]"
       }
      },
      "text/html": [
       "<ul>\n",
       "<li>Measures\n",
       "  <ul>\n",
       "  <li>annual_gdp_growth.MEAN\n",
       "    <ul>\n",
       "    <li>formatter: DOUBLE[#,###.00]</li>\n",
       "    </ul>\n",
       "  </li>\n",
       "  <li>annual_gdp_growth.SUM\n",
       "    <ul>\n",
       "    <li>formatter: DOUBLE[#,###.00]</li>\n",
       "    </ul>\n",
       "  </li>\n",
       "  <li>current_health_expenditure.MEAN\n",
       "    <ul>\n",
       "    <li>formatter: DOUBLE[#,###.00]</li>\n",
       "    </ul>\n",
       "  </li>\n",
       "  <li>current_health_expenditure.SUM\n",
       "    <ul>\n",
       "    <li>formatter: DOUBLE[#,###.00]</li>\n",
       "    </ul>\n",
       "  </li>\n",
       "  <li>daly_anxiety.MEAN\n",
       "    <ul>\n",
       "    <li>formatter: DOUBLE[#,###.00]</li>\n",
       "    </ul>\n",
       "  </li>\n",
       "  <li>daly_anxiety.SUM\n",
       "    <ul>\n",
       "    <li>formatter: DOUBLE[#,###.00]</li>\n",
       "    </ul>\n",
       "  </li>\n",
       "  <li>daly_bipolar_disorder.MEAN\n",
       "    <ul>\n",
       "    <li>formatter: DOUBLE[#,###.00]</li>\n",
       "    </ul>\n",
       "  </li>\n",
       "  <li>daly_bipolar_disorder.SUM\n",
       "    <ul>\n",
       "    <li>formatter: DOUBLE[#,###.00]</li>\n",
       "    </ul>\n",
       "  </li>\n",
       "  <li>daly_depression.MEAN\n",
       "    <ul>\n",
       "    <li>formatter: DOUBLE[#,###.00]</li>\n",
       "    </ul>\n",
       "  </li>\n",
       "  <li>daly_depression.SUM\n",
       "    <ul>\n",
       "    <li>formatter: DOUBLE[#,###.00]</li>\n",
       "    </ul>\n",
       "  </li>\n",
       "  <li>daly_eating_disorder.MEAN\n",
       "    <ul>\n",
       "    <li>formatter: DOUBLE[#,###.00]</li>\n",
       "    </ul>\n",
       "  </li>\n",
       "  <li>daly_eating_disorder.SUM\n",
       "    <ul>\n",
       "    <li>formatter: DOUBLE[#,###.00]</li>\n",
       "    </ul>\n",
       "  </li>\n",
       "  <li>daly_schizophrenia.MEAN\n",
       "    <ul>\n",
       "    <li>formatter: DOUBLE[#,###.00]</li>\n",
       "    </ul>\n",
       "  </li>\n",
       "  <li>daly_schizophrenia.SUM\n",
       "    <ul>\n",
       "    <li>formatter: DOUBLE[#,###.00]</li>\n",
       "    </ul>\n",
       "  </li>\n",
       "  <li>external_health_expenditure.MEAN\n",
       "    <ul>\n",
       "    <li>formatter: DOUBLE[#,###.00]</li>\n",
       "    </ul>\n",
       "  </li>\n",
       "  <li>external_health_expenditure.SUM\n",
       "    <ul>\n",
       "    <li>formatter: DOUBLE[#,###.00]</li>\n",
       "    </ul>\n",
       "  </li>\n",
       "  <li>gdp_per_capita.MEAN\n",
       "    <ul>\n",
       "    <li>formatter: DOUBLE[#,###.00]</li>\n",
       "    </ul>\n",
       "  </li>\n",
       "  <li>gdp_per_capita.SUM\n",
       "    <ul>\n",
       "    <li>formatter: DOUBLE[#,###.00]</li>\n",
       "    </ul>\n",
       "  </li>\n",
       "  <li>government_health_expenditure.MEAN\n",
       "    <ul>\n",
       "    <li>formatter: DOUBLE[#,###.00]</li>\n",
       "    </ul>\n",
       "  </li>\n",
       "  <li>government_health_expenditure.SUM\n",
       "    <ul>\n",
       "    <li>formatter: DOUBLE[#,###.00]</li>\n",
       "    </ul>\n",
       "  </li>\n",
       "  <li>infant_mortality_rate.MEAN\n",
       "    <ul>\n",
       "    <li>formatter: DOUBLE[#,###.00]</li>\n",
       "    </ul>\n",
       "  </li>\n",
       "  <li>infant_mortality_rate.SUM\n",
       "    <ul>\n",
       "    <li>formatter: DOUBLE[#,###.00]</li>\n",
       "    </ul>\n",
       "  </li>\n",
       "  <li>life_expectancy.MEAN\n",
       "    <ul>\n",
       "    <li>formatter: DOUBLE[#,###.00]</li>\n",
       "    </ul>\n",
       "  </li>\n",
       "  <li>life_expectancy.SUM\n",
       "    <ul>\n",
       "    <li>formatter: DOUBLE[#,###.00]</li>\n",
       "    </ul>\n",
       "  </li>\n",
       "  <li>poverty_count.MEAN\n",
       "    <ul>\n",
       "    <li>formatter: DOUBLE[#,###.00]</li>\n",
       "    </ul>\n",
       "  </li>\n",
       "  <li>poverty_count.SUM\n",
       "    <ul>\n",
       "    <li>formatter: DOUBLE[#,###.00]</li>\n",
       "    </ul>\n",
       "  </li>\n",
       "  <li>private_health_expenditure.MEAN\n",
       "    <ul>\n",
       "    <li>formatter: DOUBLE[#,###.00]</li>\n",
       "    </ul>\n",
       "  </li>\n",
       "  <li>private_health_expenditure.SUM\n",
       "    <ul>\n",
       "    <li>formatter: DOUBLE[#,###.00]</li>\n",
       "    </ul>\n",
       "  </li>\n",
       "  <li>servers_count.MEAN\n",
       "    <ul>\n",
       "    <li>formatter: DOUBLE[#,###.00]</li>\n",
       "    </ul>\n",
       "  </li>\n",
       "  <li>servers_count.SUM\n",
       "    <ul>\n",
       "    <li>formatter: INT[#,###]</li>\n",
       "    </ul>\n",
       "  </li>\n",
       "  <li>total_bronze_medals.MEAN\n",
       "    <ul>\n",
       "    <li>formatter: DOUBLE[#,###.00]</li>\n",
       "    </ul>\n",
       "  </li>\n",
       "  <li>total_bronze_medals.SUM\n",
       "    <ul>\n",
       "    <li>formatter: INT[#,###]</li>\n",
       "    </ul>\n",
       "  </li>\n",
       "  <li>total_gold_medals.MEAN\n",
       "    <ul>\n",
       "    <li>formatter: DOUBLE[#,###.00]</li>\n",
       "    </ul>\n",
       "  </li>\n",
       "  <li>total_gold_medals.SUM\n",
       "    <ul>\n",
       "    <li>formatter: INT[#,###]</li>\n",
       "    </ul>\n",
       "  </li>\n",
       "  <li>total_medals.MEAN\n",
       "    <ul>\n",
       "    <li>formatter: DOUBLE[#,###.00]</li>\n",
       "    </ul>\n",
       "  </li>\n",
       "  <li>total_medals.SUM\n",
       "    <ul>\n",
       "    <li>formatter: INT[#,###]</li>\n",
       "    </ul>\n",
       "  </li>\n",
       "  <li>total_silver_medals.MEAN\n",
       "    <ul>\n",
       "    <li>formatter: DOUBLE[#,###.00]</li>\n",
       "    </ul>\n",
       "  </li>\n",
       "  <li>total_silver_medals.SUM\n",
       "    <ul>\n",
       "    <li>formatter: INT[#,###]</li>\n",
       "    </ul>\n",
       "  </li>\n",
       "  </ul>\n",
       "</li>\n",
       "</ul>\n"
      ],
      "text/plain": [
       "{'update.TIMESTAMP': <atoti.measure.Measure object at 0x7fffb0355410>, 'total_silver_medals.MEAN': <atoti.measure.Measure object at 0x7fffb0355250>, 'total_silver_medals.SUM': <atoti.measure.Measure object at 0x7fffb0355390>, 'annual_gdp_growth.MEAN': <atoti.measure.Measure object at 0x7fffb0355290>, 'annual_gdp_growth.SUM': <atoti.measure.Measure object at 0x7fffb03552d0>, 'total_gold_medals.MEAN': <atoti.measure.Measure object at 0x7fffb0355210>, 'total_gold_medals.SUM': <atoti.measure.Measure object at 0x7fffb0355110>, 'daly_schizophrenia.MEAN': <atoti.measure.Measure object at 0x7fffb0355190>, 'daly_schizophrenia.SUM': <atoti.measure.Measure object at 0x7fffb0355090>, 'total_bronze_medals.MEAN': <atoti.measure.Measure object at 0x7fffb03550d0>, 'total_bronze_medals.SUM': <atoti.measure.Measure object at 0x7fffb0355010>, 'daly_bipolar_disorder.MEAN': <atoti.measure.Measure object at 0x7fffb0354f10>, 'daly_bipolar_disorder.SUM': <atoti.measure.Measure object at 0x7fffb0355050>, 'external_health_expenditure.MEAN': <atoti.measure.Measure object at 0x7fffb0354f50>, 'external_health_expenditure.SUM': <atoti.measure.Measure object at 0x7fffb0354f90>, 'infant_mortality_rate.MEAN': <atoti.measure.Measure object at 0x7fffb0354ed0>, 'infant_mortality_rate.SUM': <atoti.measure.Measure object at 0x7fffb0354dd0>, 'government_health_expenditure.MEAN': <atoti.measure.Measure object at 0x7fffb0354e50>, 'government_health_expenditure.SUM': <atoti.measure.Measure object at 0x7fffb0354d50>, 'servers_count.MEAN': <atoti.measure.Measure object at 0x7fffb0354d90>, 'servers_count.SUM': <atoti.measure.Measure object at 0x7fffb0354cd0>, 'current_health_expenditure.MEAN': <atoti.measure.Measure object at 0x7fffb0354bd0>, 'current_health_expenditure.SUM': <atoti.measure.Measure object at 0x7fffb0354d10>, 'poverty_count.MEAN': <atoti.measure.Measure object at 0x7fffb0354c10>, 'poverty_count.SUM': <atoti.measure.Measure object at 0x7fffb0354c50>, 'total_medals.MEAN': <atoti.measure.Measure object at 0x7fffb0354b90>, 'total_medals.SUM': <atoti.measure.Measure object at 0x7fffb0354a90>, 'daly_anxiety.MEAN': <atoti.measure.Measure object at 0x7fffb0354b10>, 'daly_anxiety.SUM': <atoti.measure.Measure object at 0x7fffb0354a10>, 'gdp_per_capita.MEAN': <atoti.measure.Measure object at 0x7fffb0354a50>, 'gdp_per_capita.SUM': <atoti.measure.Measure object at 0x7fffb0354990>, 'life_expectancy.MEAN': <atoti.measure.Measure object at 0x7fffb0354890>, 'life_expectancy.SUM': <atoti.measure.Measure object at 0x7fffb03549d0>, 'daly_eating_disorder.MEAN': <atoti.measure.Measure object at 0x7fffb03548d0>, 'daly_eating_disorder.SUM': <atoti.measure.Measure object at 0x7fffb0354910>, 'private_health_expenditure.MEAN': <atoti.measure.Measure object at 0x7fffb0354850>, 'private_health_expenditure.SUM': <atoti.measure.Measure object at 0x7fffb0354750>, 'daly_depression.MEAN': <atoti.measure.Measure object at 0x7fffb03547d0>, 'daly_depression.SUM': <atoti.measure.Measure object at 0x7fffb03546d0>}"
      ]
     },
     "execution_count": 47,
     "metadata": {
      "application/json": {
       "expanded": false,
       "root": "Measures"
      }
     },
     "output_type": "execute_result"
    }
   ],
   "source": [
    "measures"
   ]
  },
  {
   "cell_type": "code",
   "execution_count": 48,
   "id": "fb4e1cc9-3050-44b3-9cb5-bbeb96451643",
   "metadata": {},
   "outputs": [
    {
     "data": {
      "application/vnd.atoti.widget.v0+json": {
       "sessionId": "1713519372_FBXP0S",
       "sessionLocation": {
        "https": false,
        "port": 9092
       },
       "widgetCreationCode": "session.widget"
      },
      "text/html": [
       "<img height=\"352\" width=\"972\" src=\"data:image/png;base64,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\" />"
      ],
      "text/plain": [
       "Open the notebook in JupyterLab with the Atoti JupyterLab extension enabled to build this widget."
      ]
     },
     "metadata": {},
     "output_type": "display_data"
    }
   ],
   "source": [
    "session.widget"
   ]
  },
  {
   "cell_type": "code",
   "execution_count": 49,
   "id": "3e1594b4-222b-4eef-819b-6243209ec8c2",
   "metadata": {},
   "outputs": [
    {
     "data": {
      "application/vnd.atoti.link.v0+json": {
       "path": "",
       "sessionLocation": {
        "https": false,
        "port": 9092
       }
      },
      "text/markdown": [
       "http://localhost:9092\n",
       "\n",
       "_Note_: This is the session's local URL: it may not be reachable if Atoti is running on another machine."
      ],
      "text/plain": [
       "http://localhost:9092 (This is the session's local URL: it may not be reachable if Atoti is running on another machine.)"
      ]
     },
     "execution_count": 49,
     "metadata": {},
     "output_type": "execute_result"
    }
   ],
   "source": [
    "session.link"
   ]
  },
  {
   "cell_type": "code",
   "execution_count": 37,
   "id": "1b624fcc-dfa0-464f-bda6-82310ffa37aa",
   "metadata": {},
   "outputs": [],
   "source": [
    "session.close()"
   ]
  },
  {
   "cell_type": "code",
   "execution_count": null,
   "id": "830285e8-28c7-48ad-9c88-48bd94b9eea0",
   "metadata": {},
   "outputs": [],
   "source": []
  }
 ],
 "metadata": {
  "kernelspec": {
   "display_name": "Python 3 (ipykernel)",
   "language": "python",
   "name": "python3"
  },
  "language_info": {
   "codemirror_mode": {
    "name": "ipython",
    "version": 3
   },
   "file_extension": ".py",
   "mimetype": "text/x-python",
   "name": "python",
   "nbconvert_exporter": "python",
   "pygments_lexer": "ipython3",
   "version": "3.11.6"
  }
 },
 "nbformat": 4,
 "nbformat_minor": 5
}
