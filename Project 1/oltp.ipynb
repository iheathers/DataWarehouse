{
 "cells": [
  {
   "cell_type": "markdown",
   "id": "1da24eb5-e291-4a6a-8186-2136956f4c58",
   "metadata": {},
   "source": [
    "# Step 1: Understanding the Data\n",
    "\n"
   ]
  },
  {
   "cell_type": "markdown",
   "id": "dafc03b0-f78a-4e6e-b32d-e808d057cc9e",
   "metadata": {},
   "source": [
    "#### Datasets Overview\n",
    "1. **Economic Data**: Contains economic indicators like GDP, inflation rates, etc. Columns include Time, Country Name, Country Code, and various economic indicators like GDP, infant mortality rate, and internet security.\n",
    "2. **Global Population**: Population statistics by country or region. Columns span multiple years showing population data for various countries.\n",
    "3. **Life Expectancy**: Information on life expectancy per country or region. Data includes life expectancy rates per country   across several years.\n",
    "4. **Countries by Continent**: Mapping countries to their respective continents. A simple mapping of countries to their respective continents.\n",
    "5. **Mental Illness**: Data regarding mental health statistics by country or region. Statistics related to mental health issues per country across different years.\n",
    "6. **Olympic Hosts**: Information on which countries hosted the Olympics and when. Information about Olympic games, including location, name, season, and year.\n",
    "7. **Olympic Medals**: Data on Olympic medals won by country.  Detailed data on Olympic medals, including discipline, event, medal type, participant details, and country information."
   ]
  },
  {
   "cell_type": "markdown",
   "id": "6d35ba20-c0cf-478a-946f-9d5b2d72f562",
   "metadata": {},
   "source": [
    "# Step 2: Data Profiling and Cleaning\n",
    "I will load each dataset and perform basic profiling to identify issues like missing values, data types, and potential primary keys.\n"
   ]
  },
  {
   "cell_type": "markdown",
   "id": "a116b65c-3fd4-47c5-88fb-e30ecd266e83",
   "metadata": {},
   "source": [
    "Here are some common cleaning steps we might consider for each dataset:\n",
    "\n",
    "1. **Handling Missing Values**: Determine how to handle rows or columns with a lot of missing data—whether to fill them, remove them, or keep them as is.\n",
    "2. **Standardizing Formats**: Ensure that all data, especially categorical and date data, follow consistent formats across datasets.\n",
    "3. **Resolving Inconsistencies**: Look for and correct any discrepancies in naming conventions or data types, especially for fields that will serve as keys in our warehouse, like country names or codes.\n",
    "4. **Data Type Conversions**: Convert columns to the most appropriate data types (e.g., converting text to numeric where applicable)."
   ]
  },
  {
   "cell_type": "markdown",
   "id": "2691aed8-4e4b-47da-86ff-5cb617111a2a",
   "metadata": {},
   "source": [
    "#### 1. Economic Data\n",
    "\n",
    "I'll start by analyzing the missing values and data types in the Economic Data dataset. After that, we can move on to the other datasets. Let's review the Economic Data first. The last few rows are deleted manually because they are just some meta information which we don't require."
   ]
  },
  {
   "cell_type": "code",
   "execution_count": 1,
   "id": "ef77fdbb-fd1b-4e76-957b-65ff1185f87b",
   "metadata": {},
   "outputs": [],
   "source": [
    "import pandas as pd\n",
    "import numpy as np"
   ]
  },
  {
   "cell_type": "code",
   "execution_count": 2,
   "id": "cd487fcd-f72e-40d3-9b10-65cfbb92fec3",
   "metadata": {
    "scrolled": true
   },
   "outputs": [
    {
     "name": "stdout",
     "output_type": "stream",
     "text": [
      "<class 'pandas.core.frame.DataFrame'>\n",
      "RangeIndex: 205 entries, 0 to 204\n",
      "Data columns (total 13 columns):\n",
      " #   Column                                                                                       Non-Null Count  Dtype \n",
      "---  ------                                                                                       --------------  ----- \n",
      " 0   Time                                                                                         202 non-null    object\n",
      " 1   Time Code                                                                                    200 non-null    object\n",
      " 2   Country Name                                                                                 200 non-null    object\n",
      " 3   Country Code                                                                                 200 non-null    object\n",
      " 4   Poverty headcount ratio at $2.15 a day (2017 PPP) (% of population) [SI.POV.DDAY]            200 non-null    object\n",
      " 5   GDP per capita (current US$) [NY.GDP.PCAP.CD]                                                200 non-null    object\n",
      " 6   GDP per capita growth (annual %) [NY.GDP.PCAP.KD.ZG]                                         200 non-null    object\n",
      " 7   Secure Internet servers (per 1 million people) [IT.NET.SECR.P6]                              200 non-null    object\n",
      " 8   Mortality rate, infant (per 1,000 live births) [SP.DYN.IMRT.IN]                              200 non-null    object\n",
      " 9   Current health expenditure (% of GDP) [SH.XPD.CHEX.GD.ZS]                                    200 non-null    object\n",
      " 10  Domestic general government health expenditure per capita (current US$) [SH.XPD.GHED.PC.CD]  200 non-null    object\n",
      " 11  Domestic private health expenditure per capita (current US$) [SH.XPD.PVTD.PC.CD]             200 non-null    object\n",
      " 12  External health expenditure per capita (current US$) [SH.XPD.EHEX.PC.CD]                     200 non-null    object\n",
      "dtypes: object(13)\n",
      "memory usage: 20.9+ KB\n"
     ]
    },
    {
     "data": {
      "text/plain": [
       "(None,\n",
       " Time                                                                                           3\n",
       " Time Code                                                                                      5\n",
       " Country Name                                                                                   5\n",
       " Country Code                                                                                   5\n",
       " Poverty headcount ratio at $2.15 a day (2017 PPP) (% of population) [SI.POV.DDAY]              5\n",
       " GDP per capita (current US$) [NY.GDP.PCAP.CD]                                                  5\n",
       " GDP per capita growth (annual %) [NY.GDP.PCAP.KD.ZG]                                           5\n",
       " Secure Internet servers (per 1 million people) [IT.NET.SECR.P6]                                5\n",
       " Mortality rate, infant (per 1,000 live births) [SP.DYN.IMRT.IN]                                5\n",
       " Current health expenditure (% of GDP) [SH.XPD.CHEX.GD.ZS]                                      5\n",
       " Domestic general government health expenditure per capita (current US$) [SH.XPD.GHED.PC.CD]    5\n",
       " Domestic private health expenditure per capita (current US$) [SH.XPD.PVTD.PC.CD]               5\n",
       " External health expenditure per capita (current US$) [SH.XPD.EHEX.PC.CD]                       5\n",
       " dtype: int64)"
      ]
     },
     "execution_count": 2,
     "metadata": {},
     "output_type": "execute_result"
    }
   ],
   "source": [
    "# Analyzing missing values and data types in the Economic Data dataset\n",
    "economic_data = pd.read_csv('./raw_data/Economic data.csv')\n",
    "economic_data_info = economic_data.info()\n",
    "economic_data_missing_values = economic_data.isnull().sum()\n",
    "\n",
    "economic_data_info, economic_data_missing_values"
   ]
  },
  {
   "cell_type": "markdown",
   "id": "2b5dcbbc-2f9f-48e6-9fb3-ce2b2d6efbad",
   "metadata": {},
   "source": [
    "#### Economic Data Cleaning Analysis\n",
    "\n",
    "Key points from the initial analysis of the Economic Data:\n",
    "\n",
    "- **Missing Data**: Several columns have a few missing values repalced by .. including country codes, economic indicators, and health expenditure data.\n",
    "- **Data Types**: All columns are currently treated as object types (usually strings), which is not appropriate for numerical analysis. Columns representing monetary values, percentages, and ratios should be converted to numeric types.\n",
    "\n",
    "#### Cleaning Steps for Economic Data:\n",
    "\n",
    "1. **Handle Missing Values**: \n",
    "   - Since the missing values are few, we can choose to fill these with appropriate placeholders such as the mean or median for continuous data, or we might choose to drop them if they pertain to critical fields like country codes where imputation is not advisable.\n",
    "   \n",
    "2. **Convert Data Types**:\n",
    "   - Convert economic indicators from strings to floats to enable numerical operations.\n",
    "   - Check for entries labeled as \"no data\" or \"..\" and treat them as `NaN` for appropriate numerical handling.\n",
    "\n",
    "I'll start by replacing placeholders like \"..\" with NaN, converting data types, and handling missing values."
   ]
  },
  {
   "cell_type": "code",
   "execution_count": 3,
   "id": "b5ae545b-822b-49d2-9142-540bc3ebed4e",
   "metadata": {
    "scrolled": true
   },
   "outputs": [
    {
     "name": "stdout",
     "output_type": "stream",
     "text": [
      "<class 'pandas.core.frame.DataFrame'>\n",
      "RangeIndex: 205 entries, 0 to 204\n",
      "Data columns (total 13 columns):\n",
      " #   Column                                                                                       Non-Null Count  Dtype  \n",
      "---  ------                                                                                       --------------  -----  \n",
      " 0   Time                                                                                         202 non-null    object \n",
      " 1   Time Code                                                                                    200 non-null    object \n",
      " 2   Country Name                                                                                 200 non-null    object \n",
      " 3   Country Code                                                                                 200 non-null    object \n",
      " 4   Poverty headcount ratio at $2.15 a day (2017 PPP) (% of population) [SI.POV.DDAY]            53 non-null     float64\n",
      " 5   GDP per capita (current US$) [NY.GDP.PCAP.CD]                                                194 non-null    float64\n",
      " 6   GDP per capita growth (annual %) [NY.GDP.PCAP.KD.ZG]                                         191 non-null    float64\n",
      " 7   Secure Internet servers (per 1 million people) [IT.NET.SECR.P6]                              198 non-null    float64\n",
      " 8   Mortality rate, infant (per 1,000 live births) [SP.DYN.IMRT.IN]                              194 non-null    float64\n",
      " 9   Current health expenditure (% of GDP) [SH.XPD.CHEX.GD.ZS]                                    185 non-null    float64\n",
      " 10  Domestic general government health expenditure per capita (current US$) [SH.XPD.GHED.PC.CD]  186 non-null    float64\n",
      " 11  Domestic private health expenditure per capita (current US$) [SH.XPD.PVTD.PC.CD]             185 non-null    float64\n",
      " 12  External health expenditure per capita (current US$) [SH.XPD.EHEX.PC.CD]                     167 non-null    float64\n",
      "dtypes: float64(9), object(4)\n",
      "memory usage: 20.9+ KB\n"
     ]
    },
    {
     "data": {
      "text/plain": [
       "(Time                                                                                             3\n",
       " Time Code                                                                                        5\n",
       " Country Name                                                                                     5\n",
       " Country Code                                                                                     5\n",
       " Poverty headcount ratio at $2.15 a day (2017 PPP) (% of population) [SI.POV.DDAY]              152\n",
       " GDP per capita (current US$) [NY.GDP.PCAP.CD]                                                   11\n",
       " GDP per capita growth (annual %) [NY.GDP.PCAP.KD.ZG]                                            14\n",
       " Secure Internet servers (per 1 million people) [IT.NET.SECR.P6]                                  7\n",
       " Mortality rate, infant (per 1,000 live births) [SP.DYN.IMRT.IN]                                 11\n",
       " Current health expenditure (% of GDP) [SH.XPD.CHEX.GD.ZS]                                       20\n",
       " Domestic general government health expenditure per capita (current US$) [SH.XPD.GHED.PC.CD]     19\n",
       " Domestic private health expenditure per capita (current US$) [SH.XPD.PVTD.PC.CD]                20\n",
       " External health expenditure per capita (current US$) [SH.XPD.EHEX.PC.CD]                        38\n",
       " dtype: int64,\n",
       " None)"
      ]
     },
     "execution_count": 3,
     "metadata": {},
     "output_type": "execute_result"
    }
   ],
   "source": [
    "\n",
    "# Replace placeholders with NaN\n",
    "economic_data.replace(['..'], np.nan, inplace=True)\n",
    "\n",
    "# Convert appropriate columns to numeric types\n",
    "numeric_columns = economic_data.columns[4:]  # Columns from index 4 onwards are numeric\n",
    "economic_data[numeric_columns] = economic_data[numeric_columns].apply(pd.to_numeric, errors='coerce')\n",
    "\n",
    "# Recheck missing values after conversions and update the dataset info\n",
    "economic_data_missing_updated = economic_data.isnull().sum()\n",
    "economic_data_info_updated = economic_data.info()\n",
    "\n",
    "economic_data_missing_updated, economic_data_info_updated\n"
   ]
  },
  {
   "cell_type": "markdown",
   "id": "ddc12628-dbad-462b-9bb0-437dd4b48e59",
   "metadata": {},
   "source": [
    "#### Economic Data Cleaning Update\n",
    "\n",
    "\n",
    "#### Updated Missing Values\n",
    "After cleaning, here's the updated count of missing values per column:\n",
    "- **Poverty headcount ratio**: Significant missing data. Depending on usage, consider if this column is critical.\n",
    "- **GDP and Health Expenditure columns**: Various levels of missing data, typically around 5-20% missing.\n",
    "- **Secure Internet servers and Infant Mortality**: Few missing entries.\n",
    "\n",
    "#### Next Steps\n",
    "- **Impute or Remove Missing Values**: For critical numeric fields, we can impute missing values using mean, median, or another strategy. For categorical fields like country code or name, missing entries might need to be dropped if they can't be accurately filled.\n",
    "- **Final Review and Clean-up**: Ensure columns like \"Time\" and \"Country Name\" have consistent formats."
   ]
  },
  {
   "cell_type": "code",
   "execution_count": 4,
   "id": "35a1bf4a-04e9-49a0-b656-c5138c8c4f11",
   "metadata": {},
   "outputs": [
    {
     "data": {
      "text/plain": [
       "Time                                                                                           0\n",
       "Time Code                                                                                      0\n",
       "Country Name                                                                                   0\n",
       "Country Code                                                                                   0\n",
       "Poverty headcount ratio at $2.15 a day (2017 PPP) (% of population) [SI.POV.DDAY]              0\n",
       "GDP per capita (current US$) [NY.GDP.PCAP.CD]                                                  0\n",
       "GDP per capita growth (annual %) [NY.GDP.PCAP.KD.ZG]                                           0\n",
       "Secure Internet servers (per 1 million people) [IT.NET.SECR.P6]                                0\n",
       "Mortality rate, infant (per 1,000 live births) [SP.DYN.IMRT.IN]                                0\n",
       "Current health expenditure (% of GDP) [SH.XPD.CHEX.GD.ZS]                                      0\n",
       "Domestic general government health expenditure per capita (current US$) [SH.XPD.GHED.PC.CD]    0\n",
       "Domestic private health expenditure per capita (current US$) [SH.XPD.PVTD.PC.CD]               0\n",
       "External health expenditure per capita (current US$) [SH.XPD.EHEX.PC.CD]                       0\n",
       "dtype: int64"
      ]
     },
     "execution_count": 4,
     "metadata": {},
     "output_type": "execute_result"
    }
   ],
   "source": [
    "\n",
    "# Calculate median for numeric columns \n",
    "median_values = economic_data[numeric_columns].median()\n",
    "\n",
    "\n",
    "# Fill missing values\n",
    "economic_data[numeric_columns] = economic_data[numeric_columns].fillna(median_values)\n",
    "\n",
    "# Drop rows where 'Country Name' or 'Country Code' is missing\n",
    "economic_data.dropna(subset=['Country Name', 'Country Code'], inplace=True)\n",
    "\n",
    "final_missing_values_pandas = economic_data.isnull().sum()\n",
    "final_data_preview_pandas = economic_data.head()\n",
    "\n",
    "final_missing_values_pandas"
   ]
  },
  {
   "cell_type": "code",
   "execution_count": 5,
   "id": "fbc0fcae-53e6-45db-a231-bf5d44918c00",
   "metadata": {},
   "outputs": [
    {
     "data": {
      "text/html": [
       "<div>\n",
       "<style scoped>\n",
       "    .dataframe tbody tr th:only-of-type {\n",
       "        vertical-align: middle;\n",
       "    }\n",
       "\n",
       "    .dataframe tbody tr th {\n",
       "        vertical-align: top;\n",
       "    }\n",
       "\n",
       "    .dataframe thead th {\n",
       "        text-align: right;\n",
       "    }\n",
       "</style>\n",
       "<table border=\"1\" class=\"dataframe\">\n",
       "  <thead>\n",
       "    <tr style=\"text-align: right;\">\n",
       "      <th></th>\n",
       "      <th>Time</th>\n",
       "      <th>Time Code</th>\n",
       "      <th>Country Name</th>\n",
       "      <th>Country Code</th>\n",
       "      <th>Poverty headcount ratio at $2.15 a day (2017 PPP) (% of population) [SI.POV.DDAY]</th>\n",
       "      <th>GDP per capita (current US$) [NY.GDP.PCAP.CD]</th>\n",
       "      <th>GDP per capita growth (annual %) [NY.GDP.PCAP.KD.ZG]</th>\n",
       "      <th>Secure Internet servers (per 1 million people) [IT.NET.SECR.P6]</th>\n",
       "      <th>Mortality rate, infant (per 1,000 live births) [SP.DYN.IMRT.IN]</th>\n",
       "      <th>Current health expenditure (% of GDP) [SH.XPD.CHEX.GD.ZS]</th>\n",
       "      <th>Domestic general government health expenditure per capita (current US$) [SH.XPD.GHED.PC.CD]</th>\n",
       "      <th>Domestic private health expenditure per capita (current US$) [SH.XPD.PVTD.PC.CD]</th>\n",
       "      <th>External health expenditure per capita (current US$) [SH.XPD.EHEX.PC.CD]</th>\n",
       "    </tr>\n",
       "  </thead>\n",
       "  <tbody>\n",
       "    <tr>\n",
       "      <th>0</th>\n",
       "      <td>2020</td>\n",
       "      <td>YR2020</td>\n",
       "      <td>Afghanistan</td>\n",
       "      <td>AFG</td>\n",
       "      <td>0.5</td>\n",
       "      <td>516.866797</td>\n",
       "      <td>-5.364666</td>\n",
       "      <td>34.947962</td>\n",
       "      <td>44.8</td>\n",
       "      <td>15.533614</td>\n",
       "      <td>6.131135</td>\n",
       "      <td>61.204815</td>\n",
       "      <td>12.952101</td>\n",
       "    </tr>\n",
       "    <tr>\n",
       "      <th>1</th>\n",
       "      <td>2020</td>\n",
       "      <td>YR2020</td>\n",
       "      <td>Albania</td>\n",
       "      <td>ALB</td>\n",
       "      <td>0.0</td>\n",
       "      <td>5343.037704</td>\n",
       "      <td>-2.745239</td>\n",
       "      <td>884.825091</td>\n",
       "      <td>8.4</td>\n",
       "      <td>6.511534</td>\n",
       "      <td>154.897652</td>\n",
       "      <td>117.600721</td>\n",
       "      <td>5.133205</td>\n",
       "    </tr>\n",
       "    <tr>\n",
       "      <th>2</th>\n",
       "      <td>2020</td>\n",
       "      <td>YR2020</td>\n",
       "      <td>Algeria</td>\n",
       "      <td>DZA</td>\n",
       "      <td>0.5</td>\n",
       "      <td>3354.157303</td>\n",
       "      <td>-6.729942</td>\n",
       "      <td>48.467647</td>\n",
       "      <td>19.6</td>\n",
       "      <td>6.321180</td>\n",
       "      <td>134.466904</td>\n",
       "      <td>80.299147</td>\n",
       "      <td>0.085727</td>\n",
       "    </tr>\n",
       "    <tr>\n",
       "      <th>3</th>\n",
       "      <td>2020</td>\n",
       "      <td>YR2020</td>\n",
       "      <td>Andorra</td>\n",
       "      <td>AND</td>\n",
       "      <td>0.5</td>\n",
       "      <td>37207.222000</td>\n",
       "      <td>-12.735078</td>\n",
       "      <td>9665.379665</td>\n",
       "      <td>2.7</td>\n",
       "      <td>9.051759</td>\n",
       "      <td>2441.683051</td>\n",
       "      <td>895.234785</td>\n",
       "      <td>5.133205</td>\n",
       "    </tr>\n",
       "    <tr>\n",
       "      <th>4</th>\n",
       "      <td>2020</td>\n",
       "      <td>YR2020</td>\n",
       "      <td>Angola</td>\n",
       "      <td>AGO</td>\n",
       "      <td>0.5</td>\n",
       "      <td>1502.950754</td>\n",
       "      <td>-8.672432</td>\n",
       "      <td>19.743640</td>\n",
       "      <td>48.7</td>\n",
       "      <td>2.911835</td>\n",
       "      <td>21.342760</td>\n",
       "      <td>27.287172</td>\n",
       "      <td>2.112691</td>\n",
       "    </tr>\n",
       "  </tbody>\n",
       "</table>\n",
       "</div>"
      ],
      "text/plain": [
       "   Time Time Code Country Name Country Code  \\\n",
       "0  2020    YR2020  Afghanistan          AFG   \n",
       "1  2020    YR2020      Albania          ALB   \n",
       "2  2020    YR2020      Algeria          DZA   \n",
       "3  2020    YR2020      Andorra          AND   \n",
       "4  2020    YR2020       Angola          AGO   \n",
       "\n",
       "   Poverty headcount ratio at $2.15 a day (2017 PPP) (% of population) [SI.POV.DDAY]  \\\n",
       "0                                                0.5                                   \n",
       "1                                                0.0                                   \n",
       "2                                                0.5                                   \n",
       "3                                                0.5                                   \n",
       "4                                                0.5                                   \n",
       "\n",
       "   GDP per capita (current US$) [NY.GDP.PCAP.CD]  \\\n",
       "0                                     516.866797   \n",
       "1                                    5343.037704   \n",
       "2                                    3354.157303   \n",
       "3                                   37207.222000   \n",
       "4                                    1502.950754   \n",
       "\n",
       "   GDP per capita growth (annual %) [NY.GDP.PCAP.KD.ZG]  \\\n",
       "0                                          -5.364666      \n",
       "1                                          -2.745239      \n",
       "2                                          -6.729942      \n",
       "3                                         -12.735078      \n",
       "4                                          -8.672432      \n",
       "\n",
       "   Secure Internet servers (per 1 million people) [IT.NET.SECR.P6]  \\\n",
       "0                                          34.947962                 \n",
       "1                                         884.825091                 \n",
       "2                                          48.467647                 \n",
       "3                                        9665.379665                 \n",
       "4                                          19.743640                 \n",
       "\n",
       "   Mortality rate, infant (per 1,000 live births) [SP.DYN.IMRT.IN]  \\\n",
       "0                                               44.8                 \n",
       "1                                                8.4                 \n",
       "2                                               19.6                 \n",
       "3                                                2.7                 \n",
       "4                                               48.7                 \n",
       "\n",
       "   Current health expenditure (% of GDP) [SH.XPD.CHEX.GD.ZS]  \\\n",
       "0                                          15.533614           \n",
       "1                                           6.511534           \n",
       "2                                           6.321180           \n",
       "3                                           9.051759           \n",
       "4                                           2.911835           \n",
       "\n",
       "   Domestic general government health expenditure per capita (current US$) [SH.XPD.GHED.PC.CD]  \\\n",
       "0                                           6.131135                                             \n",
       "1                                         154.897652                                             \n",
       "2                                         134.466904                                             \n",
       "3                                        2441.683051                                             \n",
       "4                                          21.342760                                             \n",
       "\n",
       "   Domestic private health expenditure per capita (current US$) [SH.XPD.PVTD.PC.CD]  \\\n",
       "0                                          61.204815                                  \n",
       "1                                         117.600721                                  \n",
       "2                                          80.299147                                  \n",
       "3                                         895.234785                                  \n",
       "4                                          27.287172                                  \n",
       "\n",
       "   External health expenditure per capita (current US$) [SH.XPD.EHEX.PC.CD]  \n",
       "0                                          12.952101                         \n",
       "1                                           5.133205                         \n",
       "2                                           0.085727                         \n",
       "3                                           5.133205                         \n",
       "4                                           2.112691                         "
      ]
     },
     "execution_count": 5,
     "metadata": {},
     "output_type": "execute_result"
    }
   ],
   "source": [
    "final_data_preview_pandas"
   ]
  },
  {
   "cell_type": "markdown",
   "id": "acf64d0d-a42d-423a-bd12-65643e18ccb5",
   "metadata": {},
   "source": [
    "#### Loading economic data to OLTP database\n",
    "\n",
    "The next step I choose was to load the cleaned data to OLTP so it can be queried during ETL process. Creating database named `olympic_oltp` to store all the data that was cleaned"
   ]
  },
  {
   "cell_type": "code",
   "execution_count": 6,
   "id": "a6aea901-af56-4d85-8cf0-58a7d8b32903",
   "metadata": {},
   "outputs": [
    {
     "name": "stdout",
     "output_type": "stream",
     "text": [
      "Database created successfully\n"
     ]
    }
   ],
   "source": [
    "import psycopg2\n",
    "from psycopg2.extensions import ISOLATION_LEVEL_AUTOCOMMIT\n",
    "\n",
    "# Parameters to connect to the default PostgreSQL database\n",
    "params = {\n",
    "    'dbname': 'postgres',\n",
    "    'user': 'postgres',  \n",
    "    'password': 'postgres', \n",
    "    'host': 'pgdb'\n",
    "}\n",
    "\n",
    "try:\n",
    "    # Connect to the PostgreSQL server\n",
    "    conn = psycopg2.connect(**params)\n",
    "    \n",
    "    # Enable autocommit so operations like creating a database are committed without having to call conn.commit()\n",
    "    conn.set_isolation_level(ISOLATION_LEVEL_AUTOCOMMIT)\n",
    "    \n",
    "    # Create a cursor object\n",
    "    cursor = conn.cursor()\n",
    "    \n",
    "    # Name of the new database\n",
    "    new_db_name = 'olympic_oltp'  # Replace with the name of the database you want to create\n",
    "    \n",
    "    # Ensure the database name is safe to use\n",
    "    # For example, by checking against a list of allowed names or patterns\n",
    "    if not new_db_name.isidentifier():\n",
    "        raise ValueError(\"Invalid database name.\")\n",
    "    \n",
    "    # Create a new database using an f-string\n",
    "    cursor.execute(f\"CREATE DATABASE {new_db_name}\")\n",
    "    \n",
    "    print(\"Database created successfully\")\n",
    "    \n",
    "    # Close communication with the database\n",
    "    cursor.close()\n",
    "    conn.close()\n",
    "\n",
    "except Exception as e:\n",
    "    print(f\"An error occurred: {e}\")\n"
   ]
  },
  {
   "cell_type": "code",
   "execution_count": 7,
   "id": "307b4afc-debd-4ada-9cc1-0366d3525968",
   "metadata": {},
   "outputs": [],
   "source": [
    "\n",
    "from psycopg2 import OperationalError\n",
    "def create_connection(db_name, db_user, db_password, db_host, db_port):\n",
    "    connection = None\n",
    "    try:\n",
    "        connection = psycopg2.connect(\n",
    "            database=db_name,\n",
    "            user=db_user,\n",
    "            password=db_password,\n",
    "            host=db_host,\n",
    "            port=db_port,\n",
    "        )\n",
    "        print(\"Connection to PostgreSQL DB successful\")\n",
    "    except OperationalError as e:\n",
    "        print(f\"The error '{e}' occurred\")\n",
    "    return connection"
   ]
  },
  {
   "cell_type": "code",
   "execution_count": 8,
   "id": "0d0164a0-aa3d-4c8f-81ce-c56f654ac740",
   "metadata": {},
   "outputs": [
    {
     "name": "stdout",
     "output_type": "stream",
     "text": [
      "Connection to PostgreSQL DB successful\n"
     ]
    }
   ],
   "source": [
    "# Connection details\n",
    "db_name = \"olympic_oltp\"\n",
    "db_user = \"postgres\"\n",
    "db_password = \"postgres\" \n",
    "db_host = \"pgdb\" \n",
    "db_port = \"5432\"\n",
    "\n",
    "# Create the connection\n",
    "connection = create_connection(db_name, db_user, db_password, db_host, db_port)"
   ]
  },
  {
   "cell_type": "code",
   "execution_count": null,
   "id": "784d1579-d4c5-4a8b-8312-77e8c43e6a02",
   "metadata": {},
   "outputs": [],
   "source": []
  },
  {
   "cell_type": "code",
   "execution_count": 9,
   "id": "e4d97796-b445-43bb-b298-dce2418cb82f",
   "metadata": {},
   "outputs": [],
   "source": [
    "# Rename the columns to match the PostgreSQL table schema exactly\n",
    "\n",
    "economic_data.columns = [\n",
    "    'time_year',\n",
    "    'time_code',\n",
    "    'country_name',\n",
    "    'country_code',\n",
    "    'poverty_ratio',  # Ratio of population at $2.15 a day PPP\n",
    "    'gdp_per_capita_usd',  # GDP per capita in current US$\n",
    "    'gdp_per_capita_growth',  # Annual growth of GDP per capita\n",
    "    'secure_internet_servers_per_million',  # Secure Internet servers per million people\n",
    "    'infant_mortality_rate',  # Infant mortality rate per 1,000 live births\n",
    "    'health_expenditure_pct_gdp',  # Current health expenditure as % of GDP\n",
    "    'gov_health_expenditure_per_capita_usd',  # Government health expenditure per capita in current US$\n",
    "    'private_health_expenditure_per_capita_usd',  # Private health expenditure per capita in current US$\n",
    "    'external_health_expenditure_per_capita_usd'  # External health expenditure per capita in current US$\n",
    "]\n"
   ]
  },
  {
   "cell_type": "code",
   "execution_count": 10,
   "id": "5934b3a3-3b9e-48f7-978d-5bed687a27de",
   "metadata": {},
   "outputs": [
    {
     "data": {
      "text/html": [
       "<div>\n",
       "<style scoped>\n",
       "    .dataframe tbody tr th:only-of-type {\n",
       "        vertical-align: middle;\n",
       "    }\n",
       "\n",
       "    .dataframe tbody tr th {\n",
       "        vertical-align: top;\n",
       "    }\n",
       "\n",
       "    .dataframe thead th {\n",
       "        text-align: right;\n",
       "    }\n",
       "</style>\n",
       "<table border=\"1\" class=\"dataframe\">\n",
       "  <thead>\n",
       "    <tr style=\"text-align: right;\">\n",
       "      <th></th>\n",
       "      <th>time_year</th>\n",
       "      <th>time_code</th>\n",
       "      <th>country_name</th>\n",
       "      <th>country_code</th>\n",
       "      <th>poverty_ratio</th>\n",
       "      <th>gdp_per_capita_usd</th>\n",
       "      <th>gdp_per_capita_growth</th>\n",
       "      <th>secure_internet_servers_per_million</th>\n",
       "      <th>infant_mortality_rate</th>\n",
       "      <th>health_expenditure_pct_gdp</th>\n",
       "      <th>gov_health_expenditure_per_capita_usd</th>\n",
       "      <th>private_health_expenditure_per_capita_usd</th>\n",
       "      <th>external_health_expenditure_per_capita_usd</th>\n",
       "    </tr>\n",
       "  </thead>\n",
       "  <tbody>\n",
       "    <tr>\n",
       "      <th>0</th>\n",
       "      <td>2020</td>\n",
       "      <td>YR2020</td>\n",
       "      <td>Afghanistan</td>\n",
       "      <td>AFG</td>\n",
       "      <td>0.5</td>\n",
       "      <td>516.866797</td>\n",
       "      <td>-5.364666</td>\n",
       "      <td>34.947962</td>\n",
       "      <td>44.8</td>\n",
       "      <td>15.533614</td>\n",
       "      <td>6.131135</td>\n",
       "      <td>61.204815</td>\n",
       "      <td>12.952101</td>\n",
       "    </tr>\n",
       "    <tr>\n",
       "      <th>1</th>\n",
       "      <td>2020</td>\n",
       "      <td>YR2020</td>\n",
       "      <td>Albania</td>\n",
       "      <td>ALB</td>\n",
       "      <td>0.0</td>\n",
       "      <td>5343.037704</td>\n",
       "      <td>-2.745239</td>\n",
       "      <td>884.825091</td>\n",
       "      <td>8.4</td>\n",
       "      <td>6.511534</td>\n",
       "      <td>154.897652</td>\n",
       "      <td>117.600721</td>\n",
       "      <td>5.133205</td>\n",
       "    </tr>\n",
       "    <tr>\n",
       "      <th>2</th>\n",
       "      <td>2020</td>\n",
       "      <td>YR2020</td>\n",
       "      <td>Algeria</td>\n",
       "      <td>DZA</td>\n",
       "      <td>0.5</td>\n",
       "      <td>3354.157303</td>\n",
       "      <td>-6.729942</td>\n",
       "      <td>48.467647</td>\n",
       "      <td>19.6</td>\n",
       "      <td>6.321180</td>\n",
       "      <td>134.466904</td>\n",
       "      <td>80.299147</td>\n",
       "      <td>0.085727</td>\n",
       "    </tr>\n",
       "    <tr>\n",
       "      <th>3</th>\n",
       "      <td>2020</td>\n",
       "      <td>YR2020</td>\n",
       "      <td>Andorra</td>\n",
       "      <td>AND</td>\n",
       "      <td>0.5</td>\n",
       "      <td>37207.222000</td>\n",
       "      <td>-12.735078</td>\n",
       "      <td>9665.379665</td>\n",
       "      <td>2.7</td>\n",
       "      <td>9.051759</td>\n",
       "      <td>2441.683051</td>\n",
       "      <td>895.234785</td>\n",
       "      <td>5.133205</td>\n",
       "    </tr>\n",
       "    <tr>\n",
       "      <th>4</th>\n",
       "      <td>2020</td>\n",
       "      <td>YR2020</td>\n",
       "      <td>Angola</td>\n",
       "      <td>AGO</td>\n",
       "      <td>0.5</td>\n",
       "      <td>1502.950754</td>\n",
       "      <td>-8.672432</td>\n",
       "      <td>19.743640</td>\n",
       "      <td>48.7</td>\n",
       "      <td>2.911835</td>\n",
       "      <td>21.342760</td>\n",
       "      <td>27.287172</td>\n",
       "      <td>2.112691</td>\n",
       "    </tr>\n",
       "  </tbody>\n",
       "</table>\n",
       "</div>"
      ],
      "text/plain": [
       "  time_year time_code country_name country_code  poverty_ratio  \\\n",
       "0      2020    YR2020  Afghanistan          AFG            0.5   \n",
       "1      2020    YR2020      Albania          ALB            0.0   \n",
       "2      2020    YR2020      Algeria          DZA            0.5   \n",
       "3      2020    YR2020      Andorra          AND            0.5   \n",
       "4      2020    YR2020       Angola          AGO            0.5   \n",
       "\n",
       "   gdp_per_capita_usd  gdp_per_capita_growth  \\\n",
       "0          516.866797              -5.364666   \n",
       "1         5343.037704              -2.745239   \n",
       "2         3354.157303              -6.729942   \n",
       "3        37207.222000             -12.735078   \n",
       "4         1502.950754              -8.672432   \n",
       "\n",
       "   secure_internet_servers_per_million  infant_mortality_rate  \\\n",
       "0                            34.947962                   44.8   \n",
       "1                           884.825091                    8.4   \n",
       "2                            48.467647                   19.6   \n",
       "3                          9665.379665                    2.7   \n",
       "4                            19.743640                   48.7   \n",
       "\n",
       "   health_expenditure_pct_gdp  gov_health_expenditure_per_capita_usd  \\\n",
       "0                   15.533614                               6.131135   \n",
       "1                    6.511534                             154.897652   \n",
       "2                    6.321180                             134.466904   \n",
       "3                    9.051759                            2441.683051   \n",
       "4                    2.911835                              21.342760   \n",
       "\n",
       "   private_health_expenditure_per_capita_usd  \\\n",
       "0                                  61.204815   \n",
       "1                                 117.600721   \n",
       "2                                  80.299147   \n",
       "3                                 895.234785   \n",
       "4                                  27.287172   \n",
       "\n",
       "   external_health_expenditure_per_capita_usd  \n",
       "0                                   12.952101  \n",
       "1                                    5.133205  \n",
       "2                                    0.085727  \n",
       "3                                    5.133205  \n",
       "4                                    2.112691  "
      ]
     },
     "execution_count": 10,
     "metadata": {},
     "output_type": "execute_result"
    }
   ],
   "source": [
    "economic_data.head()"
   ]
  },
  {
   "cell_type": "code",
   "execution_count": 11,
   "id": "a4843d57-15f9-4aca-9b8e-9663962c7383",
   "metadata": {},
   "outputs": [],
   "source": [
    "\n",
    "from sqlalchemy import create_engine\n",
    "\n",
    "connection_url = f\"postgresql://{db_user}:{db_password}@{db_host}:{db_port}/{db_name}\"\n",
    "\n",
    "# Create the engine\n",
    "engine = create_engine(connection_url)\n",
    "\n",
    "create_economic_data_table_sql = \"\"\"\n",
    "CREATE TABLE IF NOT EXISTS economic_data (\n",
    "    time_year VARCHAR(255),\n",
    "    time_code VARCHAR(255),\n",
    "    country_name VARCHAR(255),\n",
    "    country_code VARCHAR(255),\n",
    "    poverty_ratio FLOAT, -- Ratio of population at $2.15 a day PPP\n",
    "    gdp_per_capita_usd FLOAT, -- GDP per capita in current US$\n",
    "    gdp_per_capita_growth FLOAT, -- Annual growth of GDP per capita\n",
    "    secure_internet_servers_per_million FLOAT, -- Secure Internet servers per million people\n",
    "    infant_mortality_rate FLOAT, -- Infant mortality rate per 1,000 live births\n",
    "    health_expenditure_pct_gdp FLOAT, -- Current health expenditure as % of GDP\n",
    "    gov_health_expenditure_per_capita_usd FLOAT, -- Government health expenditure per capita in current US$\n",
    "    private_health_expenditure_per_capita_usd FLOAT, -- Private health expenditure per capita in current US$\n",
    "    external_health_expenditure_per_capita_usd FLOAT -- External health expenditure per capita in current US$\n",
    ");\n",
    "\"\"\"\n",
    "\n",
    "cursor = connection.cursor()\n",
    "\n",
    "cursor.execute(create_economic_data_table_sql)\n",
    "\n",
    "connection.commit()\n",
    "cursor.close()\n",
    "connection.close()\n"
   ]
  },
  {
   "cell_type": "markdown",
   "id": "cb5c2f2e-a55f-4fb3-8298-efb1e8ab1c25",
   "metadata": {},
   "source": [
    "I have loaded data into a table named `economic_data` in a SQL database, connecting through `engine` and ensuring that the DataFrame's index is not included as a column in the table."
   ]
  },
  {
   "cell_type": "code",
   "execution_count": 12,
   "id": "2ffa2d98-b8dd-4474-9516-5c483fdf8002",
   "metadata": {},
   "outputs": [
    {
     "data": {
      "text/plain": [
       "200"
      ]
     },
     "execution_count": 12,
     "metadata": {},
     "output_type": "execute_result"
    }
   ],
   "source": [
    "economic_data.to_sql(\"economic_data\", con=engine, if_exists=\"append\", index=False)"
   ]
  },
  {
   "cell_type": "code",
   "execution_count": 13,
   "id": "a5854ec6-6ac1-4a01-85ac-d3b25f5b5fe8",
   "metadata": {},
   "outputs": [],
   "source": [
    "# Save the cleaned data\n",
    "economic_data.to_csv('cleaned_data/Economic data.csv', index=False)"
   ]
  },
  {
   "cell_type": "markdown",
   "id": "84d6fc4a-835c-4d74-b06b-5e2d75507988",
   "metadata": {},
   "source": [
    "#### 2. Global Population"
   ]
  },
  {
   "cell_type": "markdown",
   "id": "b9dd541f-92a3-4a83-aa35-38e50326ed80",
   "metadata": {},
   "source": [
    "The dataset consists of population estimates for various countries from 1980 to 2028, with some entries marked a`no data`. All the columns are currently read as objects (strings), which is typical when dealing with mixed data types like numbers and text."
   ]
  },
  {
   "cell_type": "code",
   "execution_count": 14,
   "id": "b58fdec6-6b70-4836-a140-76959b46dbfd",
   "metadata": {},
   "outputs": [],
   "source": [
    "global_population_data = pd.read_csv('./raw_data/Global Population.csv', encoding='ISO-8859-1')"
   ]
  },
  {
   "cell_type": "code",
   "execution_count": 15,
   "id": "3743ec38-730a-443d-8d87-39fef21cfa80",
   "metadata": {
    "scrolled": true
   },
   "outputs": [
    {
     "name": "stdout",
     "output_type": "stream",
     "text": [
      "<class 'pandas.core.frame.DataFrame'>\n",
      "RangeIndex: 231 entries, 0 to 230\n",
      "Data columns (total 50 columns):\n",
      " #   Column                           Non-Null Count  Dtype \n",
      "---  ------                           --------------  ----- \n",
      " 0   Population (Millions of people)  229 non-null    object\n",
      " 1   1980                             228 non-null    object\n",
      " 2   1981                             228 non-null    object\n",
      " 3   1982                             228 non-null    object\n",
      " 4   1983                             228 non-null    object\n",
      " 5   1984                             228 non-null    object\n",
      " 6   1985                             228 non-null    object\n",
      " 7   1986                             228 non-null    object\n",
      " 8   1987                             228 non-null    object\n",
      " 9   1988                             228 non-null    object\n",
      " 10  1989                             228 non-null    object\n",
      " 11  1990                             228 non-null    object\n",
      " 12  1991                             228 non-null    object\n",
      " 13  1992                             228 non-null    object\n",
      " 14  1993                             228 non-null    object\n",
      " 15  1994                             228 non-null    object\n",
      " 16  1995                             228 non-null    object\n",
      " 17  1996                             228 non-null    object\n",
      " 18  1997                             228 non-null    object\n",
      " 19  1998                             228 non-null    object\n",
      " 20  1999                             228 non-null    object\n",
      " 21  2000                             228 non-null    object\n",
      " 22  2001                             228 non-null    object\n",
      " 23  2002                             228 non-null    object\n",
      " 24  2003                             228 non-null    object\n",
      " 25  2004                             228 non-null    object\n",
      " 26  2005                             228 non-null    object\n",
      " 27  2006                             228 non-null    object\n",
      " 28  2007                             228 non-null    object\n",
      " 29  2008                             228 non-null    object\n",
      " 30  2009                             228 non-null    object\n",
      " 31  2010                             228 non-null    object\n",
      " 32  2011                             228 non-null    object\n",
      " 33  2012                             228 non-null    object\n",
      " 34  2013                             228 non-null    object\n",
      " 35  2014                             228 non-null    object\n",
      " 36  2015                             228 non-null    object\n",
      " 37  2016                             228 non-null    object\n",
      " 38  2017                             228 non-null    object\n",
      " 39  2018                             228 non-null    object\n",
      " 40  2019                             228 non-null    object\n",
      " 41  2020                             228 non-null    object\n",
      " 42  2021                             228 non-null    object\n",
      " 43  2022                             228 non-null    object\n",
      " 44  2023                             228 non-null    object\n",
      " 45  2024                             228 non-null    object\n",
      " 46  2025                             228 non-null    object\n",
      " 47  2026                             228 non-null    object\n",
      " 48  2027                             228 non-null    object\n",
      " 49  2028                             228 non-null    object\n",
      "dtypes: object(50)\n",
      "memory usage: 90.4+ KB\n"
     ]
    }
   ],
   "source": [
    "global_population_data_info = global_population_data.info()\n",
    "global_population_data_missing_values = global_population_data.isnull().sum()"
   ]
  },
  {
   "cell_type": "code",
   "execution_count": 16,
   "id": "8a64262b-ff24-4671-be3d-d1d2495a74a6",
   "metadata": {
    "scrolled": true
   },
   "outputs": [
    {
     "data": {
      "text/plain": [
       "Population (Millions of people)    2\n",
       "1980                               3\n",
       "1981                               3\n",
       "1982                               3\n",
       "1983                               3\n",
       "1984                               3\n",
       "1985                               3\n",
       "1986                               3\n",
       "1987                               3\n",
       "1988                               3\n",
       "1989                               3\n",
       "1990                               3\n",
       "1991                               3\n",
       "1992                               3\n",
       "1993                               3\n",
       "1994                               3\n",
       "1995                               3\n",
       "1996                               3\n",
       "1997                               3\n",
       "1998                               3\n",
       "1999                               3\n",
       "2000                               3\n",
       "2001                               3\n",
       "2002                               3\n",
       "2003                               3\n",
       "2004                               3\n",
       "2005                               3\n",
       "2006                               3\n",
       "2007                               3\n",
       "2008                               3\n",
       "2009                               3\n",
       "2010                               3\n",
       "2011                               3\n",
       "2012                               3\n",
       "2013                               3\n",
       "2014                               3\n",
       "2015                               3\n",
       "2016                               3\n",
       "2017                               3\n",
       "2018                               3\n",
       "2019                               3\n",
       "2020                               3\n",
       "2021                               3\n",
       "2022                               3\n",
       "2023                               3\n",
       "2024                               3\n",
       "2025                               3\n",
       "2026                               3\n",
       "2027                               3\n",
       "2028                               3\n",
       "dtype: int64"
      ]
     },
     "execution_count": 16,
     "metadata": {},
     "output_type": "execute_result"
    }
   ],
   "source": [
    "global_population_data_missing_values"
   ]
  },
  {
   "cell_type": "code",
   "execution_count": 17,
   "id": "4013991f-5f38-4ef4-9f8b-8cb877a89dea",
   "metadata": {},
   "outputs": [],
   "source": [
    "global_population_data.replace('no data', np.nan, inplace=True)\n",
    "\n",
    "# Convert data types for all year columns to float\n",
    "for col in global_population_data.columns[1:]:  # Assuming the first column is Country Name\n",
    "    global_population_data[col] = pd.to_numeric(global_population_data[col], errors='coerce')"
   ]
  },
  {
   "cell_type": "markdown",
   "id": "ac83b3be-2507-4a55-8790-4b7fa2136c24",
   "metadata": {},
   "source": [
    "\n",
    "- **Converted Numeric Columns**: All year columns now contain floating-point numbers or `NaN` for missing data.\n",
    "- **Handled Missing Values**: Missing data is now uniformly represented with `NaN`, making it easier to perform aggregations and other data operations."
   ]
  },
  {
   "cell_type": "code",
   "execution_count": 18,
   "id": "b12305e6-48d2-4495-95e8-1a64854049fe",
   "metadata": {},
   "outputs": [
    {
     "data": {
      "text/html": [
       "<div>\n",
       "<style scoped>\n",
       "    .dataframe tbody tr th:only-of-type {\n",
       "        vertical-align: middle;\n",
       "    }\n",
       "\n",
       "    .dataframe tbody tr th {\n",
       "        vertical-align: top;\n",
       "    }\n",
       "\n",
       "    .dataframe thead th {\n",
       "        text-align: right;\n",
       "    }\n",
       "</style>\n",
       "<table border=\"1\" class=\"dataframe\">\n",
       "  <thead>\n",
       "    <tr style=\"text-align: right;\">\n",
       "      <th></th>\n",
       "      <th>Population (Millions of people)</th>\n",
       "      <th>1980</th>\n",
       "      <th>1981</th>\n",
       "      <th>1982</th>\n",
       "      <th>1983</th>\n",
       "      <th>1984</th>\n",
       "      <th>1985</th>\n",
       "      <th>1986</th>\n",
       "      <th>1987</th>\n",
       "      <th>1988</th>\n",
       "      <th>...</th>\n",
       "      <th>2019</th>\n",
       "      <th>2020</th>\n",
       "      <th>2021</th>\n",
       "      <th>2022</th>\n",
       "      <th>2023</th>\n",
       "      <th>2024</th>\n",
       "      <th>2025</th>\n",
       "      <th>2026</th>\n",
       "      <th>2027</th>\n",
       "      <th>2028</th>\n",
       "    </tr>\n",
       "  </thead>\n",
       "  <tbody>\n",
       "    <tr>\n",
       "      <th>0</th>\n",
       "      <td>NaN</td>\n",
       "      <td>NaN</td>\n",
       "      <td>NaN</td>\n",
       "      <td>NaN</td>\n",
       "      <td>NaN</td>\n",
       "      <td>NaN</td>\n",
       "      <td>NaN</td>\n",
       "      <td>NaN</td>\n",
       "      <td>NaN</td>\n",
       "      <td>NaN</td>\n",
       "      <td>...</td>\n",
       "      <td>NaN</td>\n",
       "      <td>NaN</td>\n",
       "      <td>NaN</td>\n",
       "      <td>NaN</td>\n",
       "      <td>NaN</td>\n",
       "      <td>NaN</td>\n",
       "      <td>NaN</td>\n",
       "      <td>NaN</td>\n",
       "      <td>NaN</td>\n",
       "      <td>NaN</td>\n",
       "    </tr>\n",
       "    <tr>\n",
       "      <th>1</th>\n",
       "      <td>Afghanistan</td>\n",
       "      <td>NaN</td>\n",
       "      <td>NaN</td>\n",
       "      <td>NaN</td>\n",
       "      <td>NaN</td>\n",
       "      <td>NaN</td>\n",
       "      <td>NaN</td>\n",
       "      <td>NaN</td>\n",
       "      <td>NaN</td>\n",
       "      <td>NaN</td>\n",
       "      <td>...</td>\n",
       "      <td>32.200</td>\n",
       "      <td>32.941</td>\n",
       "      <td>33.698</td>\n",
       "      <td>34.263</td>\n",
       "      <td>NaN</td>\n",
       "      <td>NaN</td>\n",
       "      <td>NaN</td>\n",
       "      <td>NaN</td>\n",
       "      <td>NaN</td>\n",
       "      <td>NaN</td>\n",
       "    </tr>\n",
       "    <tr>\n",
       "      <th>2</th>\n",
       "      <td>Albania</td>\n",
       "      <td>2.672</td>\n",
       "      <td>2.726</td>\n",
       "      <td>2.784</td>\n",
       "      <td>2.844</td>\n",
       "      <td>2.904</td>\n",
       "      <td>2.965</td>\n",
       "      <td>3.023</td>\n",
       "      <td>3.084</td>\n",
       "      <td>3.142</td>\n",
       "      <td>...</td>\n",
       "      <td>2.881</td>\n",
       "      <td>2.878</td>\n",
       "      <td>2.873</td>\n",
       "      <td>2.866</td>\n",
       "      <td>2.858</td>\n",
       "      <td>2.850</td>\n",
       "      <td>2.840</td>\n",
       "      <td>2.831</td>\n",
       "      <td>2.821</td>\n",
       "      <td>2.810</td>\n",
       "    </tr>\n",
       "    <tr>\n",
       "      <th>3</th>\n",
       "      <td>Algeria</td>\n",
       "      <td>18.666</td>\n",
       "      <td>19.246</td>\n",
       "      <td>19.864</td>\n",
       "      <td>20.516</td>\n",
       "      <td>21.175</td>\n",
       "      <td>22.200</td>\n",
       "      <td>22.800</td>\n",
       "      <td>23.400</td>\n",
       "      <td>24.100</td>\n",
       "      <td>...</td>\n",
       "      <td>43.424</td>\n",
       "      <td>43.851</td>\n",
       "      <td>44.577</td>\n",
       "      <td>45.291</td>\n",
       "      <td>45.973</td>\n",
       "      <td>46.626</td>\n",
       "      <td>47.251</td>\n",
       "      <td>47.851</td>\n",
       "      <td>48.428</td>\n",
       "      <td>48.983</td>\n",
       "    </tr>\n",
       "    <tr>\n",
       "      <th>4</th>\n",
       "      <td>Andorra</td>\n",
       "      <td>NaN</td>\n",
       "      <td>NaN</td>\n",
       "      <td>NaN</td>\n",
       "      <td>NaN</td>\n",
       "      <td>NaN</td>\n",
       "      <td>NaN</td>\n",
       "      <td>NaN</td>\n",
       "      <td>NaN</td>\n",
       "      <td>NaN</td>\n",
       "      <td>...</td>\n",
       "      <td>0.078</td>\n",
       "      <td>0.078</td>\n",
       "      <td>0.080</td>\n",
       "      <td>0.082</td>\n",
       "      <td>0.084</td>\n",
       "      <td>0.086</td>\n",
       "      <td>0.088</td>\n",
       "      <td>0.090</td>\n",
       "      <td>0.093</td>\n",
       "      <td>0.095</td>\n",
       "    </tr>\n",
       "  </tbody>\n",
       "</table>\n",
       "<p>5 rows × 50 columns</p>\n",
       "</div>"
      ],
      "text/plain": [
       "  Population (Millions of people)    1980    1981    1982    1983    1984  \\\n",
       "0                             NaN     NaN     NaN     NaN     NaN     NaN   \n",
       "1                     Afghanistan     NaN     NaN     NaN     NaN     NaN   \n",
       "2                         Albania   2.672   2.726   2.784   2.844   2.904   \n",
       "3                         Algeria  18.666  19.246  19.864  20.516  21.175   \n",
       "4                         Andorra     NaN     NaN     NaN     NaN     NaN   \n",
       "\n",
       "     1985    1986    1987    1988  ...    2019    2020    2021    2022  \\\n",
       "0     NaN     NaN     NaN     NaN  ...     NaN     NaN     NaN     NaN   \n",
       "1     NaN     NaN     NaN     NaN  ...  32.200  32.941  33.698  34.263   \n",
       "2   2.965   3.023   3.084   3.142  ...   2.881   2.878   2.873   2.866   \n",
       "3  22.200  22.800  23.400  24.100  ...  43.424  43.851  44.577  45.291   \n",
       "4     NaN     NaN     NaN     NaN  ...   0.078   0.078   0.080   0.082   \n",
       "\n",
       "     2023    2024    2025    2026    2027    2028  \n",
       "0     NaN     NaN     NaN     NaN     NaN     NaN  \n",
       "1     NaN     NaN     NaN     NaN     NaN     NaN  \n",
       "2   2.858   2.850   2.840   2.831   2.821   2.810  \n",
       "3  45.973  46.626  47.251  47.851  48.428  48.983  \n",
       "4   0.084   0.086   0.088   0.090   0.093   0.095  \n",
       "\n",
       "[5 rows x 50 columns]"
      ]
     },
     "execution_count": 18,
     "metadata": {},
     "output_type": "execute_result"
    }
   ],
   "source": [
    "global_population_data.head()"
   ]
  },
  {
   "cell_type": "markdown",
   "id": "8f54587c-68cb-4f2e-b2b6-5748c5a3546f",
   "metadata": {},
   "source": [
    "**Interpolation Method**: For population data, `linear interpolation` often makes sense as it assumes a gradual change between points. \n",
    "\n",
    "\n"
   ]
  },
  {
   "cell_type": "code",
   "execution_count": 19,
   "id": "f3db426b-2a04-4796-b345-2e714cf98ee6",
   "metadata": {},
   "outputs": [],
   "source": [
    "# Interpolate missing data for each country\n",
    "global_population_data.iloc[:, 1:] = global_population_data.iloc[:, 1:].apply(lambda x: x.interpolate(method='linear', limit_direction='both'), axis=1)\n"
   ]
  },
  {
   "cell_type": "code",
   "execution_count": 20,
   "id": "2262e6bc-3235-4017-8447-cf7a452ba4d6",
   "metadata": {},
   "outputs": [],
   "source": [
    "global_population_data = global_population_data.rename(columns={'Population (Millions of people)': 'Population'})\n"
   ]
  },
  {
   "cell_type": "markdown",
   "id": "2c47b2da-e284-454c-9754-87dda0607317",
   "metadata": {},
   "source": [
    "Some rows have all the columns with NaN values which we don't required. We will drop them"
   ]
  },
  {
   "cell_type": "code",
   "execution_count": 21,
   "id": "33c6114c-2d08-47bf-8209-355f677b0a9c",
   "metadata": {},
   "outputs": [],
   "source": [
    "# Select all columns except the first one for checking NaN values\n",
    "condition = global_population_data.iloc[:, 1:].isna().all(axis=1)\n",
    "\n",
    "# Drop rows based on the condition\n",
    "global_population_data = global_population_data[~condition]\n",
    "\n"
   ]
  },
  {
   "cell_type": "code",
   "execution_count": 22,
   "id": "a5749c95-f0ac-43b0-a419-018faaa4c6e4",
   "metadata": {
    "scrolled": true
   },
   "outputs": [
    {
     "data": {
      "text/html": [
       "<div>\n",
       "<style scoped>\n",
       "    .dataframe tbody tr th:only-of-type {\n",
       "        vertical-align: middle;\n",
       "    }\n",
       "\n",
       "    .dataframe tbody tr th {\n",
       "        vertical-align: top;\n",
       "    }\n",
       "\n",
       "    .dataframe thead th {\n",
       "        text-align: right;\n",
       "    }\n",
       "</style>\n",
       "<table border=\"1\" class=\"dataframe\">\n",
       "  <thead>\n",
       "    <tr style=\"text-align: right;\">\n",
       "      <th></th>\n",
       "      <th>Population</th>\n",
       "      <th>1980</th>\n",
       "      <th>1981</th>\n",
       "      <th>1982</th>\n",
       "      <th>1983</th>\n",
       "      <th>1984</th>\n",
       "      <th>1985</th>\n",
       "      <th>1986</th>\n",
       "      <th>1987</th>\n",
       "      <th>1988</th>\n",
       "      <th>...</th>\n",
       "      <th>2019</th>\n",
       "      <th>2020</th>\n",
       "      <th>2021</th>\n",
       "      <th>2022</th>\n",
       "      <th>2023</th>\n",
       "      <th>2024</th>\n",
       "      <th>2025</th>\n",
       "      <th>2026</th>\n",
       "      <th>2027</th>\n",
       "      <th>2028</th>\n",
       "    </tr>\n",
       "  </thead>\n",
       "  <tbody>\n",
       "    <tr>\n",
       "      <th>1</th>\n",
       "      <td>Afghanistan</td>\n",
       "      <td>17.887</td>\n",
       "      <td>17.887</td>\n",
       "      <td>17.887</td>\n",
       "      <td>17.887</td>\n",
       "      <td>17.887</td>\n",
       "      <td>17.887</td>\n",
       "      <td>17.887</td>\n",
       "      <td>17.887</td>\n",
       "      <td>17.887</td>\n",
       "      <td>...</td>\n",
       "      <td>32.200</td>\n",
       "      <td>32.941</td>\n",
       "      <td>33.698</td>\n",
       "      <td>34.263</td>\n",
       "      <td>34.263</td>\n",
       "      <td>34.263</td>\n",
       "      <td>34.263</td>\n",
       "      <td>34.263</td>\n",
       "      <td>34.263</td>\n",
       "      <td>34.263</td>\n",
       "    </tr>\n",
       "    <tr>\n",
       "      <th>2</th>\n",
       "      <td>Albania</td>\n",
       "      <td>2.672</td>\n",
       "      <td>2.726</td>\n",
       "      <td>2.784</td>\n",
       "      <td>2.844</td>\n",
       "      <td>2.904</td>\n",
       "      <td>2.965</td>\n",
       "      <td>3.023</td>\n",
       "      <td>3.084</td>\n",
       "      <td>3.142</td>\n",
       "      <td>...</td>\n",
       "      <td>2.881</td>\n",
       "      <td>2.878</td>\n",
       "      <td>2.873</td>\n",
       "      <td>2.866</td>\n",
       "      <td>2.858</td>\n",
       "      <td>2.850</td>\n",
       "      <td>2.840</td>\n",
       "      <td>2.831</td>\n",
       "      <td>2.821</td>\n",
       "      <td>2.810</td>\n",
       "    </tr>\n",
       "    <tr>\n",
       "      <th>3</th>\n",
       "      <td>Algeria</td>\n",
       "      <td>18.666</td>\n",
       "      <td>19.246</td>\n",
       "      <td>19.864</td>\n",
       "      <td>20.516</td>\n",
       "      <td>21.175</td>\n",
       "      <td>22.200</td>\n",
       "      <td>22.800</td>\n",
       "      <td>23.400</td>\n",
       "      <td>24.100</td>\n",
       "      <td>...</td>\n",
       "      <td>43.424</td>\n",
       "      <td>43.851</td>\n",
       "      <td>44.577</td>\n",
       "      <td>45.291</td>\n",
       "      <td>45.973</td>\n",
       "      <td>46.626</td>\n",
       "      <td>47.251</td>\n",
       "      <td>47.851</td>\n",
       "      <td>48.428</td>\n",
       "      <td>48.983</td>\n",
       "    </tr>\n",
       "    <tr>\n",
       "      <th>4</th>\n",
       "      <td>Andorra</td>\n",
       "      <td>0.070</td>\n",
       "      <td>0.070</td>\n",
       "      <td>0.070</td>\n",
       "      <td>0.070</td>\n",
       "      <td>0.070</td>\n",
       "      <td>0.070</td>\n",
       "      <td>0.070</td>\n",
       "      <td>0.070</td>\n",
       "      <td>0.070</td>\n",
       "      <td>...</td>\n",
       "      <td>0.078</td>\n",
       "      <td>0.078</td>\n",
       "      <td>0.080</td>\n",
       "      <td>0.082</td>\n",
       "      <td>0.084</td>\n",
       "      <td>0.086</td>\n",
       "      <td>0.088</td>\n",
       "      <td>0.090</td>\n",
       "      <td>0.093</td>\n",
       "      <td>0.095</td>\n",
       "    </tr>\n",
       "    <tr>\n",
       "      <th>5</th>\n",
       "      <td>Angola</td>\n",
       "      <td>8.272</td>\n",
       "      <td>8.495</td>\n",
       "      <td>8.720</td>\n",
       "      <td>8.948</td>\n",
       "      <td>9.185</td>\n",
       "      <td>10.350</td>\n",
       "      <td>10.646</td>\n",
       "      <td>10.918</td>\n",
       "      <td>11.214</td>\n",
       "      <td>...</td>\n",
       "      <td>32.354</td>\n",
       "      <td>33.428</td>\n",
       "      <td>34.504</td>\n",
       "      <td>35.711</td>\n",
       "      <td>36.783</td>\n",
       "      <td>37.886</td>\n",
       "      <td>39.023</td>\n",
       "      <td>40.194</td>\n",
       "      <td>41.399</td>\n",
       "      <td>42.641</td>\n",
       "    </tr>\n",
       "    <tr>\n",
       "      <th>...</th>\n",
       "      <td>...</td>\n",
       "      <td>...</td>\n",
       "      <td>...</td>\n",
       "      <td>...</td>\n",
       "      <td>...</td>\n",
       "      <td>...</td>\n",
       "      <td>...</td>\n",
       "      <td>...</td>\n",
       "      <td>...</td>\n",
       "      <td>...</td>\n",
       "      <td>...</td>\n",
       "      <td>...</td>\n",
       "      <td>...</td>\n",
       "      <td>...</td>\n",
       "      <td>...</td>\n",
       "      <td>...</td>\n",
       "      <td>...</td>\n",
       "      <td>...</td>\n",
       "      <td>...</td>\n",
       "      <td>...</td>\n",
       "      <td>...</td>\n",
       "    </tr>\n",
       "    <tr>\n",
       "      <th>224</th>\n",
       "      <td>Major advanced economies (G7)</td>\n",
       "      <td>612.155</td>\n",
       "      <td>616.177</td>\n",
       "      <td>619.745</td>\n",
       "      <td>623.047</td>\n",
       "      <td>626.158</td>\n",
       "      <td>629.495</td>\n",
       "      <td>633.018</td>\n",
       "      <td>636.492</td>\n",
       "      <td>640.455</td>\n",
       "      <td>...</td>\n",
       "      <td>767.111</td>\n",
       "      <td>770.236</td>\n",
       "      <td>771.188</td>\n",
       "      <td>773.813</td>\n",
       "      <td>776.204</td>\n",
       "      <td>778.064</td>\n",
       "      <td>779.836</td>\n",
       "      <td>781.511</td>\n",
       "      <td>783.115</td>\n",
       "      <td>784.666</td>\n",
       "    </tr>\n",
       "    <tr>\n",
       "      <th>225</th>\n",
       "      <td>Middle East and Central Asia</td>\n",
       "      <td>254.673</td>\n",
       "      <td>262.850</td>\n",
       "      <td>271.095</td>\n",
       "      <td>279.549</td>\n",
       "      <td>288.557</td>\n",
       "      <td>297.650</td>\n",
       "      <td>306.682</td>\n",
       "      <td>314.912</td>\n",
       "      <td>323.543</td>\n",
       "      <td>...</td>\n",
       "      <td>822.958</td>\n",
       "      <td>838.452</td>\n",
       "      <td>852.037</td>\n",
       "      <td>867.872</td>\n",
       "      <td>848.600</td>\n",
       "      <td>863.738</td>\n",
       "      <td>879.116</td>\n",
       "      <td>894.740</td>\n",
       "      <td>910.628</td>\n",
       "      <td>926.964</td>\n",
       "    </tr>\n",
       "    <tr>\n",
       "      <th>226</th>\n",
       "      <td>Other advanced economies</td>\n",
       "      <td>112.560</td>\n",
       "      <td>114.089</td>\n",
       "      <td>115.636</td>\n",
       "      <td>117.012</td>\n",
       "      <td>118.267</td>\n",
       "      <td>119.403</td>\n",
       "      <td>120.510</td>\n",
       "      <td>121.721</td>\n",
       "      <td>123.038</td>\n",
       "      <td>...</td>\n",
       "      <td>173.316</td>\n",
       "      <td>173.729</td>\n",
       "      <td>173.571</td>\n",
       "      <td>174.874</td>\n",
       "      <td>175.992</td>\n",
       "      <td>176.883</td>\n",
       "      <td>177.651</td>\n",
       "      <td>178.412</td>\n",
       "      <td>179.175</td>\n",
       "      <td>179.940</td>\n",
       "    </tr>\n",
       "    <tr>\n",
       "      <th>227</th>\n",
       "      <td>Sub-Saharan Africa</td>\n",
       "      <td>342.745</td>\n",
       "      <td>352.398</td>\n",
       "      <td>362.565</td>\n",
       "      <td>373.099</td>\n",
       "      <td>384.021</td>\n",
       "      <td>395.902</td>\n",
       "      <td>407.207</td>\n",
       "      <td>418.858</td>\n",
       "      <td>430.534</td>\n",
       "      <td>...</td>\n",
       "      <td>1026.814</td>\n",
       "      <td>1054.129</td>\n",
       "      <td>1081.266</td>\n",
       "      <td>1108.902</td>\n",
       "      <td>1137.025</td>\n",
       "      <td>1165.892</td>\n",
       "      <td>1195.365</td>\n",
       "      <td>1225.766</td>\n",
       "      <td>1257.372</td>\n",
       "      <td>1289.432</td>\n",
       "    </tr>\n",
       "    <tr>\n",
       "      <th>228</th>\n",
       "      <td>World</td>\n",
       "      <td>4009.286</td>\n",
       "      <td>4082.448</td>\n",
       "      <td>4157.684</td>\n",
       "      <td>4231.389</td>\n",
       "      <td>4306.121</td>\n",
       "      <td>4383.428</td>\n",
       "      <td>4462.501</td>\n",
       "      <td>4542.998</td>\n",
       "      <td>4623.714</td>\n",
       "      <td>...</td>\n",
       "      <td>7593.398</td>\n",
       "      <td>7669.821</td>\n",
       "      <td>7738.554</td>\n",
       "      <td>7799.478</td>\n",
       "      <td>7836.053</td>\n",
       "      <td>7910.277</td>\n",
       "      <td>7984.971</td>\n",
       "      <td>8059.267</td>\n",
       "      <td>8134.704</td>\n",
       "      <td>8209.644</td>\n",
       "    </tr>\n",
       "  </tbody>\n",
       "</table>\n",
       "<p>228 rows × 50 columns</p>\n",
       "</div>"
      ],
      "text/plain": [
       "                        Population      1980      1981      1982      1983  \\\n",
       "1                      Afghanistan    17.887    17.887    17.887    17.887   \n",
       "2                          Albania     2.672     2.726     2.784     2.844   \n",
       "3                          Algeria    18.666    19.246    19.864    20.516   \n",
       "4                          Andorra     0.070     0.070     0.070     0.070   \n",
       "5                           Angola     8.272     8.495     8.720     8.948   \n",
       "..                             ...       ...       ...       ...       ...   \n",
       "224  Major advanced economies (G7)   612.155   616.177   619.745   623.047   \n",
       "225   Middle East and Central Asia   254.673   262.850   271.095   279.549   \n",
       "226       Other advanced economies   112.560   114.089   115.636   117.012   \n",
       "227             Sub-Saharan Africa   342.745   352.398   362.565   373.099   \n",
       "228                          World  4009.286  4082.448  4157.684  4231.389   \n",
       "\n",
       "         1984      1985      1986      1987      1988  ...      2019  \\\n",
       "1      17.887    17.887    17.887    17.887    17.887  ...    32.200   \n",
       "2       2.904     2.965     3.023     3.084     3.142  ...     2.881   \n",
       "3      21.175    22.200    22.800    23.400    24.100  ...    43.424   \n",
       "4       0.070     0.070     0.070     0.070     0.070  ...     0.078   \n",
       "5       9.185    10.350    10.646    10.918    11.214  ...    32.354   \n",
       "..        ...       ...       ...       ...       ...  ...       ...   \n",
       "224   626.158   629.495   633.018   636.492   640.455  ...   767.111   \n",
       "225   288.557   297.650   306.682   314.912   323.543  ...   822.958   \n",
       "226   118.267   119.403   120.510   121.721   123.038  ...   173.316   \n",
       "227   384.021   395.902   407.207   418.858   430.534  ...  1026.814   \n",
       "228  4306.121  4383.428  4462.501  4542.998  4623.714  ...  7593.398   \n",
       "\n",
       "         2020      2021      2022      2023      2024      2025      2026  \\\n",
       "1      32.941    33.698    34.263    34.263    34.263    34.263    34.263   \n",
       "2       2.878     2.873     2.866     2.858     2.850     2.840     2.831   \n",
       "3      43.851    44.577    45.291    45.973    46.626    47.251    47.851   \n",
       "4       0.078     0.080     0.082     0.084     0.086     0.088     0.090   \n",
       "5      33.428    34.504    35.711    36.783    37.886    39.023    40.194   \n",
       "..        ...       ...       ...       ...       ...       ...       ...   \n",
       "224   770.236   771.188   773.813   776.204   778.064   779.836   781.511   \n",
       "225   838.452   852.037   867.872   848.600   863.738   879.116   894.740   \n",
       "226   173.729   173.571   174.874   175.992   176.883   177.651   178.412   \n",
       "227  1054.129  1081.266  1108.902  1137.025  1165.892  1195.365  1225.766   \n",
       "228  7669.821  7738.554  7799.478  7836.053  7910.277  7984.971  8059.267   \n",
       "\n",
       "         2027      2028  \n",
       "1      34.263    34.263  \n",
       "2       2.821     2.810  \n",
       "3      48.428    48.983  \n",
       "4       0.093     0.095  \n",
       "5      41.399    42.641  \n",
       "..        ...       ...  \n",
       "224   783.115   784.666  \n",
       "225   910.628   926.964  \n",
       "226   179.175   179.940  \n",
       "227  1257.372  1289.432  \n",
       "228  8134.704  8209.644  \n",
       "\n",
       "[228 rows x 50 columns]"
      ]
     },
     "execution_count": 22,
     "metadata": {},
     "output_type": "execute_result"
    }
   ],
   "source": [
    "global_population_data"
   ]
  },
  {
   "cell_type": "code",
   "execution_count": 23,
   "id": "e85224ab-3782-4893-8a09-98d553544933",
   "metadata": {},
   "outputs": [
    {
     "data": {
      "text/plain": [
       "Index(['Population', '1980', '1981', '1982', '1983', '1984', '1985', '1986',\n",
       "       '1987', '1988', '1989', '1990', '1991', '1992', '1993', '1994', '1995',\n",
       "       '1996', '1997', '1998', '1999', '2000', '2001', '2002', '2003', '2004',\n",
       "       '2005', '2006', '2007', '2008', '2009', '2010', '2011', '2012', '2013',\n",
       "       '2014', '2015', '2016', '2017', '2018', '2019', '2020', '2021', '2022',\n",
       "       '2023', '2024', '2025', '2026', '2027', '2028'],\n",
       "      dtype='object')"
      ]
     },
     "execution_count": 23,
     "metadata": {},
     "output_type": "execute_result"
    }
   ],
   "source": [
    "global_population_data.columns"
   ]
  },
  {
   "cell_type": "code",
   "execution_count": 24,
   "id": "49e69215-86a1-4377-85a5-15cf36400b3c",
   "metadata": {},
   "outputs": [],
   "source": [
    "# Create table using the SQL statement defined above\n",
    "create_population_data_table_sql = \"\"\"\n",
    "CREATE TABLE population_data (\n",
    "    \"Population\" TEXT,\n",
    "    -- Add columns for each year\n",
    "    \"1980\" FLOAT, \"1981\" FLOAT, \"1982\" FLOAT, \"1983\" FLOAT, \"1984\" FLOAT, \"1985\" FLOAT, \"1986\" FLOAT,\n",
    "    \"1987\" FLOAT, \"1988\" FLOAT, \"1989\" FLOAT, \"1990\" FLOAT, \"1991\" FLOAT, \"1992\" FLOAT, \"1993\" FLOAT,\n",
    "    \"1994\" FLOAT, \"1995\" FLOAT, \"1996\" FLOAT, \"1997\" FLOAT, \"1998\" FLOAT, \"1999\" FLOAT, \"2000\" FLOAT,\n",
    "    \"2001\" FLOAT, \"2002\" FLOAT, \"2003\" FLOAT, \"2004\" FLOAT, \"2005\" FLOAT, \"2006\" FLOAT, \"2007\" FLOAT,\n",
    "    \"2008\" FLOAT, \"2009\" FLOAT, \"2010\" FLOAT, \"2011\" FLOAT, \"2012\" FLOAT, \"2013\" FLOAT, \"2014\" FLOAT,\n",
    "    \"2015\" FLOAT, \"2016\" FLOAT, \"2017\" FLOAT, \"2018\" FLOAT, \"2019\" FLOAT, \"2020\" FLOAT, \"2021\" FLOAT,\n",
    "    \"2022\" FLOAT, \"2023\" FLOAT, \"2024\" FLOAT, \"2025\" FLOAT, \"2026\" FLOAT, \"2027\" FLOAT, \"2028\" FLOAT\n",
    ");\n",
    "\"\"\""
   ]
  },
  {
   "cell_type": "code",
   "execution_count": 25,
   "id": "0a4ab2e1-9229-4426-a89f-f3dff94e4971",
   "metadata": {},
   "outputs": [
    {
     "name": "stdout",
     "output_type": "stream",
     "text": [
      "Connection to PostgreSQL DB successful\n"
     ]
    }
   ],
   "source": [
    "connection = create_connection(db_name, db_user, db_password, db_host, db_port)\n",
    "cursor = connection.cursor()\n",
    "# Execute the SQL statement\n",
    "cursor.execute(create_population_data_table_sql)\n",
    "\n",
    "\n",
    "connection.commit()\n",
    "cursor.close()\n",
    "connection.close()"
   ]
  },
  {
   "cell_type": "markdown",
   "id": "06d8ca1c-5556-4077-b9f1-8f53dd067b68",
   "metadata": {},
   "source": [
    "#### Loading population data to OLTP for ETL process"
   ]
  },
  {
   "cell_type": "code",
   "execution_count": 26,
   "id": "709d9a40-b47e-4978-9a4c-d5bae4351413",
   "metadata": {},
   "outputs": [
    {
     "data": {
      "text/plain": [
       "228"
      ]
     },
     "execution_count": 26,
     "metadata": {},
     "output_type": "execute_result"
    }
   ],
   "source": [
    "global_population_data.to_sql(\"population_data\", con=engine, if_exists=\"append\", index=False)"
   ]
  },
  {
   "cell_type": "code",
   "execution_count": 27,
   "id": "6e12610d-0824-40d5-b179-d87419f2e8b4",
   "metadata": {},
   "outputs": [],
   "source": [
    "# Save the cleaned data\n",
    "global_population_data.to_csv('cleaned_data/Global Population.csv', index=False)"
   ]
  },
  {
   "cell_type": "markdown",
   "id": "52c0181a-221b-4501-9641-3bda61c7aa7b",
   "metadata": {},
   "source": [
    "#### 3. Life Expectancy "
   ]
  },
  {
   "cell_type": "code",
   "execution_count": 28,
   "id": "3c1ed6da-0bec-4172-918b-aa28f1ad27c6",
   "metadata": {},
   "outputs": [],
   "source": [
    "life_expectancy_path = './raw_data/life-expectancy.csv'\n",
    "\n",
    "life_expectancy_data = pd.read_csv(life_expectancy_path)"
   ]
  },
  {
   "cell_type": "code",
   "execution_count": 29,
   "id": "8c5645da-d11f-495b-816c-a50665185063",
   "metadata": {},
   "outputs": [
    {
     "name": "stdout",
     "output_type": "stream",
     "text": [
      "<class 'pandas.core.frame.DataFrame'>\n",
      "RangeIndex: 20755 entries, 0 to 20754\n",
      "Data columns (total 4 columns):\n",
      " #   Column                                               Non-Null Count  Dtype  \n",
      "---  ------                                               --------------  -----  \n",
      " 0   Entity                                               20755 non-null  object \n",
      " 1   Code                                                 19061 non-null  object \n",
      " 2   Year                                                 20755 non-null  int64  \n",
      " 3   Period life expectancy at birth - Sex: all - Age: 0  20755 non-null  float64\n",
      "dtypes: float64(1), int64(1), object(2)\n",
      "memory usage: 648.7+ KB\n"
     ]
    }
   ],
   "source": [
    "life_expectancy_data.info()"
   ]
  },
  {
   "cell_type": "code",
   "execution_count": 30,
   "id": "7bc5ba63-589f-4438-af5a-5ae19568311d",
   "metadata": {},
   "outputs": [
    {
     "data": {
      "text/html": [
       "<div>\n",
       "<style scoped>\n",
       "    .dataframe tbody tr th:only-of-type {\n",
       "        vertical-align: middle;\n",
       "    }\n",
       "\n",
       "    .dataframe tbody tr th {\n",
       "        vertical-align: top;\n",
       "    }\n",
       "\n",
       "    .dataframe thead th {\n",
       "        text-align: right;\n",
       "    }\n",
       "</style>\n",
       "<table border=\"1\" class=\"dataframe\">\n",
       "  <thead>\n",
       "    <tr style=\"text-align: right;\">\n",
       "      <th></th>\n",
       "      <th>Entity</th>\n",
       "      <th>Code</th>\n",
       "      <th>Year</th>\n",
       "      <th>Period life expectancy at birth - Sex: all - Age: 0</th>\n",
       "    </tr>\n",
       "  </thead>\n",
       "  <tbody>\n",
       "    <tr>\n",
       "      <th>0</th>\n",
       "      <td>Afghanistan</td>\n",
       "      <td>AFG</td>\n",
       "      <td>1950</td>\n",
       "      <td>27.7275</td>\n",
       "    </tr>\n",
       "    <tr>\n",
       "      <th>1</th>\n",
       "      <td>Afghanistan</td>\n",
       "      <td>AFG</td>\n",
       "      <td>1951</td>\n",
       "      <td>27.9634</td>\n",
       "    </tr>\n",
       "    <tr>\n",
       "      <th>2</th>\n",
       "      <td>Afghanistan</td>\n",
       "      <td>AFG</td>\n",
       "      <td>1952</td>\n",
       "      <td>28.4456</td>\n",
       "    </tr>\n",
       "    <tr>\n",
       "      <th>3</th>\n",
       "      <td>Afghanistan</td>\n",
       "      <td>AFG</td>\n",
       "      <td>1953</td>\n",
       "      <td>28.9304</td>\n",
       "    </tr>\n",
       "    <tr>\n",
       "      <th>4</th>\n",
       "      <td>Afghanistan</td>\n",
       "      <td>AFG</td>\n",
       "      <td>1954</td>\n",
       "      <td>29.2258</td>\n",
       "    </tr>\n",
       "  </tbody>\n",
       "</table>\n",
       "</div>"
      ],
      "text/plain": [
       "        Entity Code  Year  Period life expectancy at birth - Sex: all - Age: 0\n",
       "0  Afghanistan  AFG  1950                                            27.7275  \n",
       "1  Afghanistan  AFG  1951                                            27.9634  \n",
       "2  Afghanistan  AFG  1952                                            28.4456  \n",
       "3  Afghanistan  AFG  1953                                            28.9304  \n",
       "4  Afghanistan  AFG  1954                                            29.2258  "
      ]
     },
     "execution_count": 30,
     "metadata": {},
     "output_type": "execute_result"
    }
   ],
   "source": [
    "life_expectancy_data.head()"
   ]
  },
  {
   "cell_type": "code",
   "execution_count": 31,
   "id": "e847fa4f-bae5-44dc-9e4b-126fe0d8a940",
   "metadata": {},
   "outputs": [
    {
     "data": {
      "text/plain": [
       "Index(['Entity', 'Code', 'Year',\n",
       "       'Period life expectancy at birth - Sex: all - Age: 0'],\n",
       "      dtype='object')"
      ]
     },
     "execution_count": 31,
     "metadata": {},
     "output_type": "execute_result"
    }
   ],
   "source": [
    "life_expectancy_data.columns"
   ]
  },
  {
   "cell_type": "code",
   "execution_count": null,
   "id": "74570b62-98f5-4716-91e8-28e45537b543",
   "metadata": {},
   "outputs": [],
   "source": []
  },
  {
   "cell_type": "code",
   "execution_count": 32,
   "id": "b1b4d8be-6aee-446c-9dc3-3dbcc767b7dc",
   "metadata": {},
   "outputs": [],
   "source": [
    "# Renamed the column name to make them consistent across and avoiding large column name\n",
    "\n",
    "life_expectancy_data = life_expectancy_data.rename(columns={'Period life expectancy at birth - Sex: all - Age: 0': 'life_expectancy', 'Entity':'entity', 'Code': 'country_code', 'Year': 'year'})"
   ]
  },
  {
   "cell_type": "code",
   "execution_count": 33,
   "id": "89428680-c9f9-4d97-96e8-dc18433a078a",
   "metadata": {},
   "outputs": [
    {
     "data": {
      "text/plain": [
       "Index(['entity', 'country_code', 'year', 'life_expectancy'], dtype='object')"
      ]
     },
     "execution_count": 33,
     "metadata": {},
     "output_type": "execute_result"
    }
   ],
   "source": [
    "life_expectancy_data.columns"
   ]
  },
  {
   "cell_type": "code",
   "execution_count": 34,
   "id": "d3c2e26c-e33a-4e74-881e-0358acbbe77c",
   "metadata": {},
   "outputs": [
    {
     "name": "stdout",
     "output_type": "stream",
     "text": [
      "Connection to PostgreSQL DB successful\n"
     ]
    }
   ],
   "source": [
    "# Create table using the SQL statement defined above\n",
    "create_life_expectancy_table_query = \"\"\"\n",
    "CREATE TABLE life_expectancy_data (\n",
    "    entity TEXT,\n",
    "    country_code VARCHAR(250),\n",
    "    year INT,\n",
    "    life_expectancy FLOAT\n",
    ");\n",
    "\"\"\"\n",
    "\n",
    "connection = create_connection(db_name, db_user, db_password, db_host, db_port)\n",
    "cursor = connection.cursor()\n",
    "\n",
    "# Execute the SQL statement\n",
    "cursor.execute(create_life_expectancy_table_query)\n",
    "connection.commit()\n",
    "\n",
    "cursor.close()\n",
    "connection.close()"
   ]
  },
  {
   "cell_type": "markdown",
   "id": "2c86bce4-f3be-4c86-b9a0-1a3628be7b1e",
   "metadata": {},
   "source": [
    "#### Loading life expectancy data to OLTP"
   ]
  },
  {
   "cell_type": "code",
   "execution_count": 35,
   "id": "022e5139-b88d-4629-8d72-898e3d0c26fe",
   "metadata": {},
   "outputs": [
    {
     "data": {
      "text/plain": [
       "755"
      ]
     },
     "execution_count": 35,
     "metadata": {},
     "output_type": "execute_result"
    }
   ],
   "source": [
    "life_expectancy_data.to_sql(\"life_expectancy_data\", con=engine, if_exists=\"append\", index=False)"
   ]
  },
  {
   "cell_type": "markdown",
   "id": "cc769b78-92ab-4ee7-9146-38cd63ed8c5d",
   "metadata": {},
   "source": [
    "**Optional**"
   ]
  },
  {
   "cell_type": "markdown",
   "id": "e5241104-7466-42b8-8895-cb236637d762",
   "metadata": {},
   "source": [
    "Because, the data contains some regions which does not have region code, I will create 2 CSV file, one with country and other with regions. \n",
    "\n",
    "We can split the single source CSV into two separate CSV files:\n",
    "\n",
    "1. **Countries CSV**: This will include entries that have a country code and will retain the original country code in the data.\n",
    "2. **Regions CSV**: This will include entries that originally did not have a country code. These entries will be identified as regions and will not include any code."
   ]
  },
  {
   "cell_type": "code",
   "execution_count": 36,
   "id": "f3601c8c-ae26-48bb-8f1a-a2cb52136927",
   "metadata": {},
   "outputs": [],
   "source": [
    "# Filter out countries with country code\n",
    "countries = life_expectancy_data.dropna(subset=['country_code'])\n",
    "\n",
    "# Filter out regions (entries without a country code)\n",
    "regions = life_expectancy_data[life_expectancy_data['country_code'].isnull()].copy()\n",
    "regions.drop('country_code', axis=1, inplace=True)  # Optionally remove the 'Code' column"
   ]
  },
  {
   "cell_type": "code",
   "execution_count": 37,
   "id": "7220c7b4-baf0-4fce-afa1-927a058e8b63",
   "metadata": {},
   "outputs": [],
   "source": [
    "# Save the datasets to new CSV files\n",
    "countries.to_csv('./cleaned_data/life-expectancy-countries.csv', index=False)\n",
    "regions.to_csv('./cleaned_data/life-expectancy-regions.csv', index=False)"
   ]
  },
  {
   "cell_type": "markdown",
   "id": "5c0ef5da-c347-4a58-8805-18405ff3f75d",
   "metadata": {},
   "source": [
    "#### 4. Mental Illness**\n",
    "\n",
    "The `mental-illness.csv` file contains the following columns:\n",
    "\n",
    "- **Entity**: Name of the country or region.\n",
    "- **Code**: The international standard code for the country; some are missing, indicating regions.\n",
    "- **Year**: Year of the data.\n",
    "- Several columns related to **DALYs (Disability-Adjusted Life Years)** for different mental health disorders, all age-standardized and for both sexes.\n",
    "\n"
   ]
  },
  {
   "cell_type": "code",
   "execution_count": 38,
   "id": "2b8165c4-f758-4b2a-9180-765ec63e63bb",
   "metadata": {},
   "outputs": [
    {
     "data": {
      "text/html": [
       "<div>\n",
       "<style scoped>\n",
       "    .dataframe tbody tr th:only-of-type {\n",
       "        vertical-align: middle;\n",
       "    }\n",
       "\n",
       "    .dataframe tbody tr th {\n",
       "        vertical-align: top;\n",
       "    }\n",
       "\n",
       "    .dataframe thead th {\n",
       "        text-align: right;\n",
       "    }\n",
       "</style>\n",
       "<table border=\"1\" class=\"dataframe\">\n",
       "  <thead>\n",
       "    <tr style=\"text-align: right;\">\n",
       "      <th></th>\n",
       "      <th>Entity</th>\n",
       "      <th>Code</th>\n",
       "      <th>Year</th>\n",
       "      <th>DALYs from depressive disorders per 100,000 people in, both sexes aged age-standardized</th>\n",
       "      <th>DALYs from schizophrenia per 100,000 people in, both sexes aged age-standardized</th>\n",
       "      <th>DALYs from bipolar disorder per 100,000 people in, both sexes aged age-standardized</th>\n",
       "      <th>DALYs from eating disorders per 100,000 people in, both sexes aged age-standardized</th>\n",
       "      <th>DALYs from anxiety disorders per 100,000 people in, both sexes aged age-standardized</th>\n",
       "    </tr>\n",
       "  </thead>\n",
       "  <tbody>\n",
       "    <tr>\n",
       "      <th>0</th>\n",
       "      <td>Afghanistan</td>\n",
       "      <td>AFG</td>\n",
       "      <td>1990</td>\n",
       "      <td>895.22565</td>\n",
       "      <td>138.24825</td>\n",
       "      <td>147.64412</td>\n",
       "      <td>26.471115</td>\n",
       "      <td>440.33000</td>\n",
       "    </tr>\n",
       "    <tr>\n",
       "      <th>1</th>\n",
       "      <td>Afghanistan</td>\n",
       "      <td>AFG</td>\n",
       "      <td>1991</td>\n",
       "      <td>893.88434</td>\n",
       "      <td>137.76122</td>\n",
       "      <td>147.56696</td>\n",
       "      <td>25.548681</td>\n",
       "      <td>439.47202</td>\n",
       "    </tr>\n",
       "    <tr>\n",
       "      <th>2</th>\n",
       "      <td>Afghanistan</td>\n",
       "      <td>AFG</td>\n",
       "      <td>1992</td>\n",
       "      <td>892.34973</td>\n",
       "      <td>137.08030</td>\n",
       "      <td>147.13086</td>\n",
       "      <td>24.637949</td>\n",
       "      <td>437.60718</td>\n",
       "    </tr>\n",
       "    <tr>\n",
       "      <th>3</th>\n",
       "      <td>Afghanistan</td>\n",
       "      <td>AFG</td>\n",
       "      <td>1993</td>\n",
       "      <td>891.51587</td>\n",
       "      <td>136.48602</td>\n",
       "      <td>146.78812</td>\n",
       "      <td>23.863169</td>\n",
       "      <td>436.69104</td>\n",
       "    </tr>\n",
       "    <tr>\n",
       "      <th>4</th>\n",
       "      <td>Afghanistan</td>\n",
       "      <td>AFG</td>\n",
       "      <td>1994</td>\n",
       "      <td>891.39160</td>\n",
       "      <td>136.18323</td>\n",
       "      <td>146.58481</td>\n",
       "      <td>23.189074</td>\n",
       "      <td>436.76800</td>\n",
       "    </tr>\n",
       "  </tbody>\n",
       "</table>\n",
       "</div>"
      ],
      "text/plain": [
       "        Entity Code  Year  \\\n",
       "0  Afghanistan  AFG  1990   \n",
       "1  Afghanistan  AFG  1991   \n",
       "2  Afghanistan  AFG  1992   \n",
       "3  Afghanistan  AFG  1993   \n",
       "4  Afghanistan  AFG  1994   \n",
       "\n",
       "   DALYs from depressive disorders per 100,000 people in, both sexes aged age-standardized  \\\n",
       "0                                          895.22565                                         \n",
       "1                                          893.88434                                         \n",
       "2                                          892.34973                                         \n",
       "3                                          891.51587                                         \n",
       "4                                          891.39160                                         \n",
       "\n",
       "   DALYs from schizophrenia per 100,000 people in, both sexes aged age-standardized  \\\n",
       "0                                          138.24825                                  \n",
       "1                                          137.76122                                  \n",
       "2                                          137.08030                                  \n",
       "3                                          136.48602                                  \n",
       "4                                          136.18323                                  \n",
       "\n",
       "   DALYs from bipolar disorder per 100,000 people in, both sexes aged age-standardized  \\\n",
       "0                                          147.64412                                     \n",
       "1                                          147.56696                                     \n",
       "2                                          147.13086                                     \n",
       "3                                          146.78812                                     \n",
       "4                                          146.58481                                     \n",
       "\n",
       "   DALYs from eating disorders per 100,000 people in, both sexes aged age-standardized  \\\n",
       "0                                          26.471115                                     \n",
       "1                                          25.548681                                     \n",
       "2                                          24.637949                                     \n",
       "3                                          23.863169                                     \n",
       "4                                          23.189074                                     \n",
       "\n",
       "   DALYs from anxiety disorders per 100,000 people in, both sexes aged age-standardized  \n",
       "0                                          440.33000                                     \n",
       "1                                          439.47202                                     \n",
       "2                                          437.60718                                     \n",
       "3                                          436.69104                                     \n",
       "4                                          436.76800                                     "
      ]
     },
     "execution_count": 38,
     "metadata": {},
     "output_type": "execute_result"
    }
   ],
   "source": [
    "# Load the CSV file to examine its contents and structure\n",
    "mental_illness_data_path = './raw_data/mental-illness.csv'\n",
    "mental_illness_data = pd.read_csv(mental_illness_data_path)\n",
    "\n",
    "# Display the first few rows of the dataframe and summary of the data\n",
    "mental_illness_data.head()"
   ]
  },
  {
   "cell_type": "code",
   "execution_count": 39,
   "id": "94cd2cf7-66bd-4a17-a28b-d04537b685cf",
   "metadata": {},
   "outputs": [
    {
     "name": "stdout",
     "output_type": "stream",
     "text": [
      "<class 'pandas.core.frame.DataFrame'>\n",
      "RangeIndex: 6840 entries, 0 to 6839\n",
      "Data columns (total 8 columns):\n",
      " #   Column                                                                                   Non-Null Count  Dtype  \n",
      "---  ------                                                                                   --------------  -----  \n",
      " 0   Entity                                                                                   6840 non-null   object \n",
      " 1   Code                                                                                     6150 non-null   object \n",
      " 2   Year                                                                                     6840 non-null   int64  \n",
      " 3   DALYs from depressive disorders per 100,000 people in, both sexes aged age-standardized  6840 non-null   float64\n",
      " 4   DALYs from schizophrenia per 100,000 people in, both sexes aged age-standardized         6840 non-null   float64\n",
      " 5   DALYs from bipolar disorder per 100,000 people in, both sexes aged age-standardized      6840 non-null   float64\n",
      " 6   DALYs from eating disorders per 100,000 people in, both sexes aged age-standardized      6840 non-null   float64\n",
      " 7   DALYs from anxiety disorders per 100,000 people in, both sexes aged age-standardized     6840 non-null   float64\n",
      "dtypes: float64(5), int64(1), object(2)\n",
      "memory usage: 427.6+ KB\n"
     ]
    }
   ],
   "source": [
    "mental_illness_data.info()"
   ]
  },
  {
   "cell_type": "code",
   "execution_count": 40,
   "id": "7fd82053-9ab2-4379-8de3-536e2c802ec3",
   "metadata": {},
   "outputs": [
    {
     "data": {
      "text/plain": [
       "Index(['Entity', 'Code', 'Year',\n",
       "       'DALYs from depressive disorders per 100,000 people in, both sexes aged age-standardized',\n",
       "       'DALYs from schizophrenia per 100,000 people in, both sexes aged age-standardized',\n",
       "       'DALYs from bipolar disorder per 100,000 people in, both sexes aged age-standardized',\n",
       "       'DALYs from eating disorders per 100,000 people in, both sexes aged age-standardized',\n",
       "       'DALYs from anxiety disorders per 100,000 people in, both sexes aged age-standardized'],\n",
       "      dtype='object')"
      ]
     },
     "execution_count": 40,
     "metadata": {},
     "output_type": "execute_result"
    }
   ],
   "source": [
    "mental_illness_data.columns"
   ]
  },
  {
   "cell_type": "code",
   "execution_count": 41,
   "id": "63d49e27-dc99-4a6b-ae99-8a5514f60f0f",
   "metadata": {},
   "outputs": [],
   "source": [
    "mental_illness_data.columns = [\n",
    "    'entity',\n",
    "    'country_code',\n",
    "    'year',\n",
    "    'daly_depression',\n",
    "    'daly_schizophrenia', \n",
    "    'daly_bipolar_disorder', \n",
    "    'daly_eating_disorder', \n",
    "    'daly_anxiety'\n",
    "]"
   ]
  },
  {
   "cell_type": "code",
   "execution_count": 42,
   "id": "a8b8ebb3-d4ac-48e8-9b70-cb298b3dc960",
   "metadata": {},
   "outputs": [
    {
     "name": "stdout",
     "output_type": "stream",
     "text": [
      "<class 'pandas.core.frame.DataFrame'>\n",
      "RangeIndex: 6840 entries, 0 to 6839\n",
      "Data columns (total 8 columns):\n",
      " #   Column                 Non-Null Count  Dtype  \n",
      "---  ------                 --------------  -----  \n",
      " 0   entity                 6840 non-null   object \n",
      " 1   country_code           6150 non-null   object \n",
      " 2   year                   6840 non-null   int64  \n",
      " 3   daly_depression        6840 non-null   float64\n",
      " 4   daly_schizophrenia     6840 non-null   float64\n",
      " 5   daly_bipolar_disorder  6840 non-null   float64\n",
      " 6   daly_eating_disorder   6840 non-null   float64\n",
      " 7   daly_anxiety           6840 non-null   float64\n",
      "dtypes: float64(5), int64(1), object(2)\n",
      "memory usage: 427.6+ KB\n"
     ]
    }
   ],
   "source": [
    "mental_illness_data.info()"
   ]
  },
  {
   "cell_type": "code",
   "execution_count": 43,
   "id": "024ee6f0-b6c0-4c9a-bff7-473689191d32",
   "metadata": {},
   "outputs": [],
   "source": [
    "create_mental_illness_table_query = \"\"\"\n",
    "    CREATE TABLE mental_health_data (\n",
    "        entity TEXT,\n",
    "        country_code VARCHAR(250),\n",
    "        year INT,\n",
    "        daly_depression FLOAT,\n",
    "        daly_schizophrenia FLOAT,\n",
    "        daly_bipolar_disorder FLOAT,\n",
    "        daly_eating_disorder FLOAT,\n",
    "        daly_anxiety FLOAT\n",
    "    );\n",
    "    \"\"\""
   ]
  },
  {
   "cell_type": "code",
   "execution_count": 44,
   "id": "15701a00-3f85-4444-ac7a-b56f5e0479a2",
   "metadata": {},
   "outputs": [
    {
     "name": "stdout",
     "output_type": "stream",
     "text": [
      "Connection to PostgreSQL DB successful\n"
     ]
    }
   ],
   "source": [
    "connection = create_connection(db_name, db_user, db_password, db_host, db_port)\n",
    "cursor = connection.cursor()\n",
    "\n",
    "cursor.execute(create_mental_illness_table_query)\n",
    "\n",
    "connection.commit()\n",
    "cursor.close()\n",
    "connection.close()"
   ]
  },
  {
   "cell_type": "code",
   "execution_count": 45,
   "id": "9f5d3874-e8b1-4653-af07-fbcf3123df54",
   "metadata": {},
   "outputs": [
    {
     "data": {
      "text/plain": [
       "840"
      ]
     },
     "execution_count": 45,
     "metadata": {},
     "output_type": "execute_result"
    }
   ],
   "source": [
    "mental_illness_data.to_sql(\"mental_health_data\", con=engine, if_exists=\"append\", index=False)"
   ]
  },
  {
   "cell_type": "markdown",
   "id": "6e9ec9f1-a85b-4ffe-8551-6dae14d86a32",
   "metadata": {},
   "source": [
    "\n",
    "1. **Countries CSV**: This file will contain entries with country codes. It will retain the original country code.\n",
    "2. **Regions CSV**: This file will contain entries that originally did not have a country code. These entries will be identified as regions, and the 'Code' column will be dropped."
   ]
  },
  {
   "cell_type": "code",
   "execution_count": 46,
   "id": "41ea58eb-c31f-4455-9da4-7fc322271da6",
   "metadata": {},
   "outputs": [
    {
     "data": {
      "text/plain": [
       "('./cleaned_data/mental-illness-countries.csv',\n",
       " './cleaned_data/mental-illness-regions.csv')"
      ]
     },
     "execution_count": 46,
     "metadata": {},
     "output_type": "execute_result"
    }
   ],
   "source": [
    "# Filter out countries with country code\n",
    "countries_mental = mental_illness_data.dropna(subset=['country_code'])\n",
    "\n",
    "# Filter out regions (entries without a country code)\n",
    "regions_mental = mental_illness_data[mental_illness_data['country_code'].isnull()].copy()\n",
    "regions_mental.drop('country_code', axis=1, inplace=True)  # Remove the 'country_code' column\n",
    "\n",
    "# Save the datasets to new CSV files\n",
    "countries_mental_file = './cleaned_data/mental-illness-countries.csv'\n",
    "regions_mental_file = './cleaned_data/mental-illness-regions.csv'\n",
    "countries_mental.to_csv(countries_mental_file, index=False)\n",
    "regions_mental.to_csv(regions_mental_file, index=False)\n",
    "\n",
    "countries_mental_file, regions_mental_file\n"
   ]
  },
  {
   "cell_type": "markdown",
   "id": "cf4888e7-aeb8-4fdd-bae9-000814988664",
   "metadata": {},
   "source": [
    "#### 5. Olympic Hosts**\n",
    "\n",
    "The `olympic_hosts.csv` file contains information about various Olympic Games, and from the initial inspection, the data appears well-structured with the following columns:\n",
    "\n",
    "- **game_slug**: A unique identifier for each Olympic event.\n",
    "- **game_end_date**: The end date of the event in an ISO 8601 format.\n",
    "- **game_start_date**: The start date of the event in an ISO 8601 format.\n",
    "- **game_location**: The location (country) of the event.\n",
    "- **game_name**: The name of the Olympic event.\n",
    "- **game_season**: Specifies whether the games are Summer or Winter Olympics.\n",
    "- **game_year**: The year the games were held.\n",
    "\n",
    "### Observations and Possible Data Cleaning Steps:\n",
    "1. **Date Format**: The start and end dates are in ISO 8601 format with time components.\n",
    "   \n",
    "   - Convert these date strings to a standard Python `datetime` object for easier manipulation and extraction of specific date components (e.g., just the date without the time).\n",
    "   - Extract just the date part if the time component is not relevant.\n",
    "\n",
    "3. **Consistency in Game Location Names**: It might be helpful to ensure that all entries under `game_location` are consistently formatted or spelled, particularly for countries that might have undergone name changes or different spelling conventions over the years.\n",
    "\n",
    "\n",
    "### Example Cleaning Process:\n",
    "cleaning the date formats by converting the start and end dates to just include the date part, ensuring we have consistent datetime formats. (Optional). Left here for reference.\n",
    "\n",
    "```python\n",
    "from datetime import datetime\n",
    "\n",
    "# Convert date columns to datetime\n",
    "olympic_hosts_data['game_start_date'] = pd.to_datetime(olympic_hosts_data['game_start_date']).dt.date\n",
    "olympic_hosts_data['game_end_date'] = pd.to_datetime(olympic_hosts_data['game_end_date']).dt.date\n",
    "\n",
    "# Example of checking for consistent formatting in 'game_location'\n",
    "print(olympic_hosts_data['game_location'].unique())\n",
    "```"
   ]
  },
  {
   "cell_type": "code",
   "execution_count": 47,
   "id": "9b925db1-a8eb-4347-9fdf-d6cf75a9c61f",
   "metadata": {},
   "outputs": [],
   "source": [
    "\n",
    "olympic_host_data_path = './raw_data/olympic_hosts.csv'\n",
    "\n",
    "olympic_host_data = pd.read_csv(olympic_host_data_path)"
   ]
  },
  {
   "cell_type": "code",
   "execution_count": 48,
   "id": "4571c02d-40e5-4c10-b993-f1397fd52421",
   "metadata": {},
   "outputs": [
    {
     "name": "stdout",
     "output_type": "stream",
     "text": [
      "<class 'pandas.core.frame.DataFrame'>\n",
      "RangeIndex: 53 entries, 0 to 52\n",
      "Data columns (total 7 columns):\n",
      " #   Column           Non-Null Count  Dtype \n",
      "---  ------           --------------  ----- \n",
      " 0   game_slug        53 non-null     object\n",
      " 1   game_end_date    53 non-null     object\n",
      " 2   game_start_date  53 non-null     object\n",
      " 3   game_location    53 non-null     object\n",
      " 4   game_name        53 non-null     object\n",
      " 5   game_season      53 non-null     object\n",
      " 6   game_year        53 non-null     int64 \n",
      "dtypes: int64(1), object(6)\n",
      "memory usage: 3.0+ KB\n"
     ]
    }
   ],
   "source": [
    "olympic_host_data.info()"
   ]
  },
  {
   "cell_type": "code",
   "execution_count": 49,
   "id": "d38bab1e-120e-44d7-90d9-0c63ccd014b3",
   "metadata": {},
   "outputs": [
    {
     "data": {
      "text/plain": [
       "Index(['game_slug', 'game_end_date', 'game_start_date', 'game_location',\n",
       "       'game_name', 'game_season', 'game_year'],\n",
       "      dtype='object')"
      ]
     },
     "execution_count": 49,
     "metadata": {},
     "output_type": "execute_result"
    }
   ],
   "source": [
    "olympic_host_data.columns"
   ]
  },
  {
   "cell_type": "code",
   "execution_count": 50,
   "id": "c32ed76c-06c4-4e27-919e-1caea0c07115",
   "metadata": {},
   "outputs": [],
   "source": [
    "from datetime import datetime\n",
    "\n",
    "# Convert date columns to datetime\n",
    "olympic_host_data['game_start_date'] = pd.to_datetime(olympic_host_data['game_start_date']).dt.date\n",
    "olympic_host_data['game_end_date'] = pd.to_datetime(olympic_host_data['game_end_date']).dt.date"
   ]
  },
  {
   "cell_type": "code",
   "execution_count": 51,
   "id": "472f0ded-887c-4846-b616-68548fa72eae",
   "metadata": {},
   "outputs": [
    {
     "name": "stdout",
     "output_type": "stream",
     "text": [
      "<class 'pandas.core.frame.DataFrame'>\n",
      "RangeIndex: 53 entries, 0 to 52\n",
      "Data columns (total 7 columns):\n",
      " #   Column           Non-Null Count  Dtype \n",
      "---  ------           --------------  ----- \n",
      " 0   game_slug        53 non-null     object\n",
      " 1   game_end_date    53 non-null     object\n",
      " 2   game_start_date  53 non-null     object\n",
      " 3   game_location    53 non-null     object\n",
      " 4   game_name        53 non-null     object\n",
      " 5   game_season      53 non-null     object\n",
      " 6   game_year        53 non-null     int64 \n",
      "dtypes: int64(1), object(6)\n",
      "memory usage: 3.0+ KB\n"
     ]
    }
   ],
   "source": [
    "olympic_host_data.info()"
   ]
  },
  {
   "cell_type": "code",
   "execution_count": 52,
   "id": "b872e9cf-88f5-40d4-8e64-575da943fcf3",
   "metadata": {},
   "outputs": [],
   "source": [
    "create_olympic_hosts_table_query = \"\"\"\n",
    "CREATE TABLE olympic_hosts (\n",
    "    game_slug TEXT,\n",
    "    game_end_date DATE,\n",
    "    game_start_date DATE,\n",
    "    game_location TEXT,\n",
    "    game_name TEXT,\n",
    "    game_season TEXT,\n",
    "    game_year INT\n",
    ");\n",
    "\"\"\""
   ]
  },
  {
   "cell_type": "code",
   "execution_count": 53,
   "id": "024fdebe-c651-4ee1-adac-1cbc354d1405",
   "metadata": {},
   "outputs": [
    {
     "name": "stdout",
     "output_type": "stream",
     "text": [
      "Connection to PostgreSQL DB successful\n"
     ]
    }
   ],
   "source": [
    "connection = create_connection(db_name, db_user, db_password, db_host, db_port)\n",
    "cursor = connection.cursor()\n",
    "\n",
    "cursor.execute(create_olympic_hosts_table_query)\n",
    "connection.commit()  # Commit the changes\n",
    "\n",
    "cursor.close()\n",
    "connection.close()"
   ]
  },
  {
   "cell_type": "code",
   "execution_count": 54,
   "id": "89ad8b7e-0440-4c7c-8845-4f5ece904406",
   "metadata": {},
   "outputs": [
    {
     "data": {
      "text/plain": [
       "53"
      ]
     },
     "execution_count": 54,
     "metadata": {},
     "output_type": "execute_result"
    }
   ],
   "source": [
    "olympic_host_data.to_sql(\"olympic_hosts\", con=engine, if_exists=\"append\", index=False)"
   ]
  },
  {
   "cell_type": "markdown",
   "id": "710446fd-7153-456a-a0e0-01d1bd49c27a",
   "metadata": {},
   "source": [
    "#### 6. Olympic Medals"
   ]
  },
  {
   "cell_type": "code",
   "execution_count": 55,
   "id": "66b40a8b-a9b4-4161-9745-628e6e93d743",
   "metadata": {},
   "outputs": [],
   "source": [
    "# Load the newly uploaded CSV file to examine its contents and structure\n",
    "olympic_medals_data_path = './raw_data/olympic_medals.csv'\n",
    "olympic_medals_data = pd.read_csv(olympic_medals_data_path)\n"
   ]
  },
  {
   "cell_type": "code",
   "execution_count": 56,
   "id": "ff2a5f3e-52bf-41fd-8dea-7f5ec5810162",
   "metadata": {
    "scrolled": true
   },
   "outputs": [
    {
     "data": {
      "text/html": [
       "<div>\n",
       "<style scoped>\n",
       "    .dataframe tbody tr th:only-of-type {\n",
       "        vertical-align: middle;\n",
       "    }\n",
       "\n",
       "    .dataframe tbody tr th {\n",
       "        vertical-align: top;\n",
       "    }\n",
       "\n",
       "    .dataframe thead th {\n",
       "        text-align: right;\n",
       "    }\n",
       "</style>\n",
       "<table border=\"1\" class=\"dataframe\">\n",
       "  <thead>\n",
       "    <tr style=\"text-align: right;\">\n",
       "      <th></th>\n",
       "      <th>discipline_title</th>\n",
       "      <th>slug_game</th>\n",
       "      <th>event_title</th>\n",
       "      <th>event_gender</th>\n",
       "      <th>medal_type</th>\n",
       "      <th>participant_type</th>\n",
       "      <th>participant_title</th>\n",
       "      <th>athlete_url</th>\n",
       "      <th>athlete_full_name</th>\n",
       "      <th>country_name</th>\n",
       "      <th>country_code</th>\n",
       "      <th>country_3_letter_code</th>\n",
       "    </tr>\n",
       "  </thead>\n",
       "  <tbody>\n",
       "    <tr>\n",
       "      <th>0</th>\n",
       "      <td>Curling</td>\n",
       "      <td>beijing-2022</td>\n",
       "      <td>Mixed Doubles</td>\n",
       "      <td>Mixed</td>\n",
       "      <td>GOLD</td>\n",
       "      <td>GameTeam</td>\n",
       "      <td>Italy</td>\n",
       "      <td>https://olympics.com/en/athletes/stefania-cons...</td>\n",
       "      <td>Stefania CONSTANTINI</td>\n",
       "      <td>Italy</td>\n",
       "      <td>IT</td>\n",
       "      <td>ITA</td>\n",
       "    </tr>\n",
       "    <tr>\n",
       "      <th>1</th>\n",
       "      <td>Curling</td>\n",
       "      <td>beijing-2022</td>\n",
       "      <td>Mixed Doubles</td>\n",
       "      <td>Mixed</td>\n",
       "      <td>GOLD</td>\n",
       "      <td>GameTeam</td>\n",
       "      <td>Italy</td>\n",
       "      <td>https://olympics.com/en/athletes/amos-mosaner</td>\n",
       "      <td>Amos MOSANER</td>\n",
       "      <td>Italy</td>\n",
       "      <td>IT</td>\n",
       "      <td>ITA</td>\n",
       "    </tr>\n",
       "    <tr>\n",
       "      <th>2</th>\n",
       "      <td>Curling</td>\n",
       "      <td>beijing-2022</td>\n",
       "      <td>Mixed Doubles</td>\n",
       "      <td>Mixed</td>\n",
       "      <td>SILVER</td>\n",
       "      <td>GameTeam</td>\n",
       "      <td>Norway</td>\n",
       "      <td>https://olympics.com/en/athletes/kristin-skaslien</td>\n",
       "      <td>Kristin SKASLIEN</td>\n",
       "      <td>Norway</td>\n",
       "      <td>NO</td>\n",
       "      <td>NOR</td>\n",
       "    </tr>\n",
       "    <tr>\n",
       "      <th>3</th>\n",
       "      <td>Curling</td>\n",
       "      <td>beijing-2022</td>\n",
       "      <td>Mixed Doubles</td>\n",
       "      <td>Mixed</td>\n",
       "      <td>SILVER</td>\n",
       "      <td>GameTeam</td>\n",
       "      <td>Norway</td>\n",
       "      <td>https://olympics.com/en/athletes/magnus-nedreg...</td>\n",
       "      <td>Magnus NEDREGOTTEN</td>\n",
       "      <td>Norway</td>\n",
       "      <td>NO</td>\n",
       "      <td>NOR</td>\n",
       "    </tr>\n",
       "    <tr>\n",
       "      <th>4</th>\n",
       "      <td>Curling</td>\n",
       "      <td>beijing-2022</td>\n",
       "      <td>Mixed Doubles</td>\n",
       "      <td>Mixed</td>\n",
       "      <td>BRONZE</td>\n",
       "      <td>GameTeam</td>\n",
       "      <td>Sweden</td>\n",
       "      <td>https://olympics.com/en/athletes/almida-de-val</td>\n",
       "      <td>Almida DE VAL</td>\n",
       "      <td>Sweden</td>\n",
       "      <td>SE</td>\n",
       "      <td>SWE</td>\n",
       "    </tr>\n",
       "  </tbody>\n",
       "</table>\n",
       "</div>"
      ],
      "text/plain": [
       "  discipline_title     slug_game    event_title event_gender medal_type  \\\n",
       "0          Curling  beijing-2022  Mixed Doubles        Mixed       GOLD   \n",
       "1          Curling  beijing-2022  Mixed Doubles        Mixed       GOLD   \n",
       "2          Curling  beijing-2022  Mixed Doubles        Mixed     SILVER   \n",
       "3          Curling  beijing-2022  Mixed Doubles        Mixed     SILVER   \n",
       "4          Curling  beijing-2022  Mixed Doubles        Mixed     BRONZE   \n",
       "\n",
       "  participant_type participant_title  \\\n",
       "0         GameTeam             Italy   \n",
       "1         GameTeam             Italy   \n",
       "2         GameTeam            Norway   \n",
       "3         GameTeam            Norway   \n",
       "4         GameTeam            Sweden   \n",
       "\n",
       "                                         athlete_url     athlete_full_name  \\\n",
       "0  https://olympics.com/en/athletes/stefania-cons...  Stefania CONSTANTINI   \n",
       "1      https://olympics.com/en/athletes/amos-mosaner          Amos MOSANER   \n",
       "2  https://olympics.com/en/athletes/kristin-skaslien      Kristin SKASLIEN   \n",
       "3  https://olympics.com/en/athletes/magnus-nedreg...    Magnus NEDREGOTTEN   \n",
       "4     https://olympics.com/en/athletes/almida-de-val         Almida DE VAL   \n",
       "\n",
       "  country_name country_code country_3_letter_code  \n",
       "0        Italy           IT                   ITA  \n",
       "1        Italy           IT                   ITA  \n",
       "2       Norway           NO                   NOR  \n",
       "3       Norway           NO                   NOR  \n",
       "4       Sweden           SE                   SWE  "
      ]
     },
     "execution_count": 56,
     "metadata": {},
     "output_type": "execute_result"
    }
   ],
   "source": [
    "olympic_medals_data.head()"
   ]
  },
  {
   "cell_type": "code",
   "execution_count": 57,
   "id": "43d76dd5-89ec-44c8-9476-a98ef331445e",
   "metadata": {
    "scrolled": true
   },
   "outputs": [
    {
     "name": "stdout",
     "output_type": "stream",
     "text": [
      "<class 'pandas.core.frame.DataFrame'>\n",
      "RangeIndex: 21697 entries, 0 to 21696\n",
      "Data columns (total 12 columns):\n",
      " #   Column                 Non-Null Count  Dtype \n",
      "---  ------                 --------------  ----- \n",
      " 0   discipline_title       21697 non-null  object\n",
      " 1   slug_game              21697 non-null  object\n",
      " 2   event_title            21697 non-null  object\n",
      " 3   event_gender           21697 non-null  object\n",
      " 4   medal_type             21697 non-null  object\n",
      " 5   participant_type       21697 non-null  object\n",
      " 6   participant_title      6584 non-null   object\n",
      " 7   athlete_url            17027 non-null  object\n",
      " 8   athlete_full_name      18073 non-null  object\n",
      " 9   country_name           21697 non-null  object\n",
      " 10  country_code           20195 non-null  object\n",
      " 11  country_3_letter_code  21697 non-null  object\n",
      "dtypes: object(12)\n",
      "memory usage: 2.0+ MB\n"
     ]
    }
   ],
   "source": [
    "olympic_medals_data.info()"
   ]
  },
  {
   "cell_type": "code",
   "execution_count": 58,
   "id": "f67364bb-0f7d-42d1-997c-b4909656e05e",
   "metadata": {},
   "outputs": [],
   "source": [
    "olympic_medals_data_missing_values = olympic_medals_data.isnull().sum()"
   ]
  },
  {
   "cell_type": "code",
   "execution_count": 59,
   "id": "f4937e33-7968-45ad-a7f0-1c791a802108",
   "metadata": {
    "scrolled": true
   },
   "outputs": [
    {
     "data": {
      "text/plain": [
       "discipline_title             0\n",
       "slug_game                    0\n",
       "event_title                  0\n",
       "event_gender                 0\n",
       "medal_type                   0\n",
       "participant_type             0\n",
       "participant_title        15113\n",
       "athlete_url               4670\n",
       "athlete_full_name         3624\n",
       "country_name                 0\n",
       "country_code              1502\n",
       "country_3_letter_code        0\n",
       "dtype: int64"
      ]
     },
     "execution_count": 59,
     "metadata": {},
     "output_type": "execute_result"
    }
   ],
   "source": [
    "olympic_medals_data_missing_values"
   ]
  },
  {
   "cell_type": "markdown",
   "id": "c5409f58-a29d-4d0d-89c2-ba4e23bb85a4",
   "metadata": {},
   "source": [
    "\n",
    "### Cleaning Steps\n",
    "\n",
    "1. **Missing Values**:\n",
    "   - **Participant Title**: Only team event has participant title. Seperate dimension \n",
    "   - **Athlete URL & Full Name**: Only individual event has athlete name. Seperate dimension with athlete and url\n",
    "   - **Country Code**: Drop `country_name` as they are not quite standard. 3 character will be used for consistency\n",
    "\n",
    "2. **Consistency and Accuracy**:\n",
    "   - **Check for Consistent Capitalization**: Columns like `country_name`, `event_title`, and `athlete_full_name` should have consistent capitalization to avoid duplications due to case differences.\n",
    "   - **Validate Country Codes**: Ensure that `country_code` and `country_3_letter_code` are consistent and correctly mapped to `country_name`.\n"
   ]
  },
  {
   "cell_type": "code",
   "execution_count": 60,
   "id": "21ab5661-88a4-48e3-9035-69fe8d64e6e2",
   "metadata": {},
   "outputs": [],
   "source": [
    "create_olympic_medals_table_query = \"\"\"\n",
    "CREATE TABLE olympic_medals (\n",
    "    discipline_title TEXT,\n",
    "    slug_game TEXT,\n",
    "    event_title TEXT,\n",
    "    event_gender VARCHAR(250),\n",
    "    medal_type TEXT,\n",
    "    participant_type TEXT,\n",
    "    participant_title TEXT,\n",
    "    athlete_url TEXT,\n",
    "    athlete_full_name TEXT,\n",
    "    country_name TEXT,\n",
    "    country_code VARCHAR(10),\n",
    "    country_3_letter_code VARCHAR(10)\n",
    ");\n",
    "\"\"\""
   ]
  },
  {
   "cell_type": "code",
   "execution_count": 61,
   "id": "f196b72b-e388-49cc-be23-202b17e1faa0",
   "metadata": {},
   "outputs": [
    {
     "name": "stdout",
     "output_type": "stream",
     "text": [
      "Connection to PostgreSQL DB successful\n"
     ]
    }
   ],
   "source": [
    "connection = create_connection(db_name, db_user, db_password, db_host, db_port)\n",
    "cursor = connection.cursor()"
   ]
  },
  {
   "cell_type": "code",
   "execution_count": 62,
   "id": "9c7d744a-5956-4e13-8709-c05ce55aeb1b",
   "metadata": {},
   "outputs": [],
   "source": [
    "\n",
    "cursor.execute(create_olympic_medals_table_query)\n",
    "connection.commit()  # Commit the changes\n",
    "cursor.close()\n",
    "connection.close()"
   ]
  },
  {
   "cell_type": "code",
   "execution_count": 63,
   "id": "a1843b88-21a1-4222-9011-b0fab6787af1",
   "metadata": {},
   "outputs": [
    {
     "data": {
      "text/plain": [
       "697"
      ]
     },
     "execution_count": 63,
     "metadata": {},
     "output_type": "execute_result"
    }
   ],
   "source": [
    "olympic_medals_data.to_sql(\"olympic_medals\", con=engine, if_exists=\"append\", index=False)"
   ]
  },
  {
   "cell_type": "markdown",
   "id": "474faefa-d651-4834-a198-fafab9611e07",
   "metadata": {},
   "source": [
    "#### 7. List of countries"
   ]
  },
  {
   "attachments": {},
   "cell_type": "markdown",
   "id": "326c3254-3e46-4705-b528-527237628c3f",
   "metadata": {},
   "source": [
    "Since, there are lot of name mismatch, I used standard names from https://en.wikipedia.org/wiki/List_of_ISO_3166_country_codes standard names from wikipedia\n",
    "\n",
    "I loaded the external data which has details about names and continents from the url below. \n",
    "https://statisticstimes.com/geography/countries-by-continents.php\n",
    "\n",
    "After downloading the json from the source (https://statisticstimes.com/m/geography/json/countries-continents.json) above, I loaded them into OLTP database. "
   ]
  },
  {
   "cell_type": "code",
   "execution_count": 64,
   "id": "e1e04176-ebfc-4929-a026-416691d0f0fa",
   "metadata": {},
   "outputs": [
    {
     "data": {
      "text/html": [
       "<div>\n",
       "<style scoped>\n",
       "    .dataframe tbody tr th:only-of-type {\n",
       "        vertical-align: middle;\n",
       "    }\n",
       "\n",
       "    .dataframe tbody tr th {\n",
       "        vertical-align: top;\n",
       "    }\n",
       "\n",
       "    .dataframe thead th {\n",
       "        text-align: right;\n",
       "    }\n",
       "</style>\n",
       "<table border=\"1\" class=\"dataframe\">\n",
       "  <thead>\n",
       "    <tr style=\"text-align: right;\">\n",
       "      <th></th>\n",
       "      <th>id</th>\n",
       "      <th>name</th>\n",
       "      <th>M49 code</th>\n",
       "      <th>ISO alpha3 code</th>\n",
       "      <th>continent</th>\n",
       "      <th>region</th>\n",
       "      <th>color</th>\n",
       "    </tr>\n",
       "  </thead>\n",
       "  <tbody>\n",
       "    <tr>\n",
       "      <th>0</th>\n",
       "      <td>AF</td>\n",
       "      <td>Afghanistan</td>\n",
       "      <td>4</td>\n",
       "      <td>AFG</td>\n",
       "      <td>Asia</td>\n",
       "      <td>Southern Asia</td>\n",
       "      <td>#00CC99</td>\n",
       "    </tr>\n",
       "    <tr>\n",
       "      <th>1</th>\n",
       "      <td>AX</td>\n",
       "      <td>Åland Islands</td>\n",
       "      <td>248</td>\n",
       "      <td>ALA</td>\n",
       "      <td>Europe</td>\n",
       "      <td>Northern Europe</td>\n",
       "      <td>#99CCFF</td>\n",
       "    </tr>\n",
       "    <tr>\n",
       "      <th>2</th>\n",
       "      <td>AL</td>\n",
       "      <td>Albania</td>\n",
       "      <td>8</td>\n",
       "      <td>ALB</td>\n",
       "      <td>Europe</td>\n",
       "      <td>Southern Europe</td>\n",
       "      <td>#8AB8E6</td>\n",
       "    </tr>\n",
       "    <tr>\n",
       "      <th>3</th>\n",
       "      <td>DZ</td>\n",
       "      <td>Algeria</td>\n",
       "      <td>12</td>\n",
       "      <td>DZA</td>\n",
       "      <td>Africa</td>\n",
       "      <td>Northern Africa</td>\n",
       "      <td>#2EB82E</td>\n",
       "    </tr>\n",
       "    <tr>\n",
       "      <th>4</th>\n",
       "      <td>AS</td>\n",
       "      <td>American Samoa</td>\n",
       "      <td>16</td>\n",
       "      <td>ASM</td>\n",
       "      <td>Oceania</td>\n",
       "      <td>Polynesia</td>\n",
       "      <td>#B88A00</td>\n",
       "    </tr>\n",
       "  </tbody>\n",
       "</table>\n",
       "</div>"
      ],
      "text/plain": [
       "   id            name  M49 code ISO alpha3 code continent           region  \\\n",
       "0  AF     Afghanistan         4             AFG      Asia    Southern Asia   \n",
       "1  AX   Åland Islands       248             ALA    Europe  Northern Europe   \n",
       "2  AL         Albania         8             ALB    Europe  Southern Europe   \n",
       "3  DZ         Algeria        12             DZA    Africa  Northern Africa   \n",
       "4  AS  American Samoa        16             ASM   Oceania        Polynesia   \n",
       "\n",
       "     color  \n",
       "0  #00CC99  \n",
       "1  #99CCFF  \n",
       "2  #8AB8E6  \n",
       "3  #2EB82E  \n",
       "4  #B88A00  "
      ]
     },
     "execution_count": 64,
     "metadata": {},
     "output_type": "execute_result"
    }
   ],
   "source": [
    "# Read the JSON file into a pandas DataFrame\n",
    "countries_data_path = './raw_data/countries-continents.json'\n",
    "countries_df = pd.read_json(countries_data_path)\n",
    "\n",
    "# Display the DataFrame to confirm the contents\n",
    "countries_df.head()\n"
   ]
  },
  {
   "cell_type": "code",
   "execution_count": 65,
   "id": "b4ee36e7-5047-4a6e-8362-5ae203e46250",
   "metadata": {},
   "outputs": [],
   "source": [
    "countries_df = countries_df.drop(['color', 'id', 'M49 code', 'region'], axis=1)"
   ]
  },
  {
   "cell_type": "code",
   "execution_count": 66,
   "id": "fdb33a82-a72a-40c4-b8a5-f623326a55ce",
   "metadata": {},
   "outputs": [
    {
     "name": "stdout",
     "output_type": "stream",
     "text": [
      "<class 'pandas.core.frame.DataFrame'>\n",
      "RangeIndex: 248 entries, 0 to 247\n",
      "Data columns (total 3 columns):\n",
      " #   Column           Non-Null Count  Dtype \n",
      "---  ------           --------------  ----- \n",
      " 0   name             248 non-null    object\n",
      " 1   ISO alpha3 code  248 non-null    object\n",
      " 2   continent        248 non-null    object\n",
      "dtypes: object(3)\n",
      "memory usage: 5.9+ KB\n"
     ]
    }
   ],
   "source": [
    "countries_df.info()"
   ]
  },
  {
   "cell_type": "code",
   "execution_count": 67,
   "id": "90fb93ed-c370-4016-906a-969e19e0f726",
   "metadata": {},
   "outputs": [],
   "source": [
    "countries_df.columns = [ \"country_name\", \"country_code\", \"continent\"]"
   ]
  },
  {
   "cell_type": "code",
   "execution_count": 68,
   "id": "0810f8fb-ef30-437c-a21b-b0cbd19bbfd2",
   "metadata": {},
   "outputs": [
    {
     "name": "stdout",
     "output_type": "stream",
     "text": [
      "<class 'pandas.core.frame.DataFrame'>\n",
      "RangeIndex: 248 entries, 0 to 247\n",
      "Data columns (total 3 columns):\n",
      " #   Column        Non-Null Count  Dtype \n",
      "---  ------        --------------  ----- \n",
      " 0   country_name  248 non-null    object\n",
      " 1   country_code  248 non-null    object\n",
      " 2   continent     248 non-null    object\n",
      "dtypes: object(3)\n",
      "memory usage: 5.9+ KB\n"
     ]
    }
   ],
   "source": [
    "countries_df.info()"
   ]
  },
  {
   "cell_type": "code",
   "execution_count": 69,
   "id": "4f6cf249-2583-44df-a556-27d8d3dc6b43",
   "metadata": {},
   "outputs": [],
   "source": [
    "create_countries_table_query = \"\"\"\n",
    "CREATE TABLE countries (\n",
    "   country_code CHAR(3) PRIMARY KEY,\n",
    "   country_name VARCHAR(250) NOT NULL,\n",
    "   continent VARCHAR(250) NOT NULL\n",
    ");\n",
    "\"\"\""
   ]
  },
  {
   "cell_type": "code",
   "execution_count": 70,
   "id": "940183a8-840b-4d80-9e9c-d0bdb05e1868",
   "metadata": {},
   "outputs": [
    {
     "name": "stdout",
     "output_type": "stream",
     "text": [
      "Connection to PostgreSQL DB successful\n"
     ]
    }
   ],
   "source": [
    "connection = create_connection(db_name, db_user, db_password, db_host, db_port)\n",
    "cursor = connection.cursor()"
   ]
  },
  {
   "cell_type": "code",
   "execution_count": 71,
   "id": "870702df-8317-46b6-ba76-2ab4ca18b8be",
   "metadata": {},
   "outputs": [],
   "source": [
    "cursor.execute(create_countries_table_query)\n",
    "connection.commit()  # Commit the changes\n",
    "cursor.close()\n",
    "connection.close()"
   ]
  },
  {
   "cell_type": "code",
   "execution_count": 72,
   "id": "869bdf9d-ac41-490d-995b-17fc077f8512",
   "metadata": {},
   "outputs": [
    {
     "data": {
      "text/plain": [
       "248"
      ]
     },
     "execution_count": 72,
     "metadata": {},
     "output_type": "execute_result"
    }
   ],
   "source": [
    "countries_df.to_sql(\"countries\", con=engine, if_exists=\"append\", index=False)"
   ]
  },
  {
   "cell_type": "code",
   "execution_count": null,
   "id": "3915d70d-68db-4dd7-96c9-9a31e8b14ee5",
   "metadata": {},
   "outputs": [],
   "source": []
  }
 ],
 "metadata": {
  "kernelspec": {
   "display_name": "Python 3 (ipykernel)",
   "language": "python",
   "name": "python3"
  },
  "language_info": {
   "codemirror_mode": {
    "name": "ipython",
    "version": 3
   },
   "file_extension": ".py",
   "mimetype": "text/x-python",
   "name": "python",
   "nbconvert_exporter": "python",
   "pygments_lexer": "ipython3",
   "version": "3.11.6"
  }
 },
 "nbformat": 4,
 "nbformat_minor": 5
}
