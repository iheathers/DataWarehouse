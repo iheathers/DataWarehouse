{
 "cells": [
  {
   "cell_type": "markdown",
   "id": "cd5fadbb-a15d-4fa8-b5d1-804c5f547849",
   "metadata": {},
   "source": [
    "### ETL\n"
   ]
  },
  {
   "cell_type": "code",
   "execution_count": 1,
   "id": "4e6c7819-be61-481d-88ae-2a80f62d98f4",
   "metadata": {},
   "outputs": [],
   "source": [
    "import pandas as pd\n",
    "import numpy as np"
   ]
  },
  {
   "cell_type": "code",
   "execution_count": 2,
   "id": "7de2cee8-0d9c-44cb-a8ae-ae5a6a46ee88",
   "metadata": {},
   "outputs": [
    {
     "name": "stdout",
     "output_type": "stream",
     "text": [
      "Database created successfully\n"
     ]
    }
   ],
   "source": [
    "import psycopg2\n",
    "from psycopg2.extensions import ISOLATION_LEVEL_AUTOCOMMIT\n",
    "\n",
    "# Parameters to connect to the default PostgreSQL database\n",
    "params = {\n",
    "    'dbname': 'postgres',\n",
    "    'user': 'postgres',  \n",
    "    'password': 'postgres', \n",
    "    'host': 'pgdb'\n",
    "}\n",
    "\n",
    "try:\n",
    "    # Connect to the PostgreSQL server\n",
    "    conn = psycopg2.connect(**params)\n",
    "    \n",
    "    # Enable autocommit so operations like creating a database are committed without having to call conn.commit()\n",
    "    conn.set_isolation_level(ISOLATION_LEVEL_AUTOCOMMIT)\n",
    "    \n",
    "    # Create a cursor object\n",
    "    cursor = conn.cursor()\n",
    "    \n",
    "    # Name of the new database\n",
    "    new_db_name = 'olympic_olap'  # Replace with the name of the database you want to create\n",
    "    \n",
    "    # Ensure the database name is safe to use\n",
    "    # For example, by checking against a list of allowed names or patterns\n",
    "    if not new_db_name.isidentifier():\n",
    "        raise ValueError(\"Invalid database name.\")\n",
    "    \n",
    "    # Create a new database using an f-string\n",
    "    cursor.execute(f\"CREATE DATABASE {new_db_name}\")\n",
    "    \n",
    "    print(\"Database created successfully\")\n",
    "    \n",
    "    # Close communication with the database\n",
    "    cursor.close()\n",
    "    conn.close()\n",
    "\n",
    "except Exception as e:\n",
    "    print(f\"An error occurred: {e}\")\n"
   ]
  },
  {
   "cell_type": "code",
   "execution_count": 3,
   "id": "1d263e74-0e61-4533-afde-d5c58c95566f",
   "metadata": {},
   "outputs": [],
   "source": [
    "\n",
    "from psycopg2 import OperationalError\n",
    "def create_connection(db_name, db_user, db_password, db_host, db_port):\n",
    "    connection = None\n",
    "    try:\n",
    "        connection = psycopg2.connect(\n",
    "            database=db_name,\n",
    "            user=db_user,\n",
    "            password=db_password,\n",
    "            host=db_host,\n",
    "            port=db_port,\n",
    "        )\n",
    "        print(\"Connection to PostgreSQL DB successful\")\n",
    "    except OperationalError as e:\n",
    "        print(f\"The error '{e}' occurred\")\n",
    "    return connection"
   ]
  },
  {
   "cell_type": "code",
   "execution_count": 4,
   "id": "c134b8c4-abd4-457c-9d2d-87492e027085",
   "metadata": {},
   "outputs": [],
   "source": [
    "# Connection details\n",
    "olap_db_name = \"olympic_olap\"\n",
    "db_user = \"postgres\"\n",
    "db_password = \"postgres\"  # Update with your password\n",
    "db_host = \"pgdb\"  # Update if your DB is hosted elsewhere\n",
    "db_port = \"5432\""
   ]
  },
  {
   "cell_type": "code",
   "execution_count": 5,
   "id": "6afbaf40-a009-45d1-9182-ce9c6804d8e2",
   "metadata": {},
   "outputs": [
    {
     "name": "stdout",
     "output_type": "stream",
     "text": [
      "Connection to PostgreSQL DB successful\n"
     ]
    }
   ],
   "source": [
    "olap_connection = create_connection(olap_db_name, db_user, db_password, db_host, db_port)\n",
    "olap_cursor = olap_connection.cursor()"
   ]
  },
  {
   "cell_type": "code",
   "execution_count": 6,
   "id": "08a3ad78-a7aa-4478-b295-4952429bd763",
   "metadata": {},
   "outputs": [],
   "source": [
    "olap_cursor.execute(\"\"\"\n",
    "CREATE TABLE DimLocation (\n",
    "    country_code CHAR(3) NOT NULL PRIMARY KEY,\n",
    "    country_name VARCHAR(255),\n",
    "    continent VARCHAR(255)\n",
    ");\n",
    "\"\"\")\n",
    "\n"
   ]
  },
  {
   "cell_type": "code",
   "execution_count": 7,
   "id": "f84e3f47-b3e2-46a7-99c5-34e08c595839",
   "metadata": {},
   "outputs": [],
   "source": [
    "olap_cursor.execute(\"\"\"\n",
    "CREATE TABLE DimEvent (\n",
    "    event_id SERIAL PRIMARY KEY,\n",
    "    event_title VARCHAR(250),\n",
    "    event_discipline VARCHAR(250),\n",
    "    event_gender VARCHAR(250)\n",
    ");\n",
    "\"\"\")\n",
    "\n"
   ]
  },
  {
   "cell_type": "code",
   "execution_count": 8,
   "id": "c20ad519-8a62-4e72-ac47-d2bf7dd41320",
   "metadata": {},
   "outputs": [],
   "source": [
    "olap_cursor.execute(\"\"\"\n",
    "CREATE TABLE DimParticipant (\n",
    "    participant_id SERIAL PRIMARY KEY,\n",
    "    participant_title VARCHAR(255),\n",
    "    participant_type VARCHAR(100)\n",
    ");\n",
    "\"\"\")"
   ]
  },
  {
   "cell_type": "code",
   "execution_count": 9,
   "id": "8338fd99-5cce-4e3a-8cc9-f517a56abdf8",
   "metadata": {},
   "outputs": [],
   "source": [
    "olap_cursor.execute(\"\"\"\n",
    "CREATE TABLE DimAthlete (\n",
    "    athlete_id SERIAL PRIMARY KEY,\n",
    "    athlete_name VARCHAR(250),\n",
    "    athlete_url VARCHAR(250)\n",
    ");\n",
    "\"\"\")"
   ]
  },
  {
   "cell_type": "code",
   "execution_count": 10,
   "id": "e4633fd5-58d8-49e6-8061-97fab5d30d6f",
   "metadata": {},
   "outputs": [],
   "source": [
    "olap_cursor.execute(\"\"\"\n",
    "CREATE TABLE DimYear (\n",
    "    year INTEGER NOT NULL PRIMARY KEY\n",
    ");\n",
    "\"\"\")"
   ]
  },
  {
   "cell_type": "code",
   "execution_count": 11,
   "id": "03280ffc-8627-4b33-b229-ccb738861fcd",
   "metadata": {},
   "outputs": [],
   "source": [
    "olap_cursor.execute(\"\"\"\n",
    "CREATE TABLE DimGame (\n",
    "    game_slug VARCHAR(100) NOT NULL PRIMARY KEY,\n",
    "    game_name VARCHAR(100),\n",
    "    game_season VARCHAR(10),\n",
    "    game_year INTEGER,\n",
    "    country_code CHAR(3)\n",
    ");\n",
    "\"\"\")"
   ]
  },
  {
   "cell_type": "code",
   "execution_count": 12,
   "id": "b64861f0-411a-4719-a95a-ac4b6a741c45",
   "metadata": {},
   "outputs": [],
   "source": [
    "olap_cursor.execute(\"\"\"\n",
    "CREATE TABLE FactOlympicMedalsMeasures (\n",
    "    game_slug VARCHAR(100) REFERENCES DimGame(game_slug),\n",
    "    participant_id INTEGER REFERENCES DimParticipant(participant_id),\n",
    "    athlete_id INTEGER REFERENCES DimAthlete(athlete_id),\n",
    "    event_id INTEGER NOT NULL REFERENCES DimEvent(event_id),\n",
    "    country_code CHAR(3) NOT NULL REFERENCES DimLocation(country_code),\n",
    "    year INTEGER NOT NULL REFERENCES DimYear(year),\n",
    "    bronze_medals INTEGER,\n",
    "    silver_medals INTEGER,\n",
    "    gold_medals INTEGER\n",
    ");\n",
    "\"\"\")"
   ]
  },
  {
   "cell_type": "code",
   "execution_count": 13,
   "id": "57c1a3d7-eaf9-4ff5-a086-5b7476c5d0a1",
   "metadata": {},
   "outputs": [],
   "source": [
    "olap_cursor.execute(\"\"\"\n",
    "CREATE TABLE FactEconomicMeasure (\n",
    "    year INTEGER NOT NULL REFERENCES DimYear(year),\n",
    "    country_code CHAR(3) NOT NULL REFERENCES DimLocation(country_code),\n",
    "    poverty_count FLOAT,\n",
    "    gdp_per_capita FLOAT,\n",
    "    annual_gdp_growth FLOAT,\n",
    "    servers_count INTEGER\n",
    ");\n",
    "\"\"\")"
   ]
  },
  {
   "cell_type": "code",
   "execution_count": 14,
   "id": "b9bf8ead-3f84-4675-ad7e-c0b2ed222709",
   "metadata": {},
   "outputs": [],
   "source": [
    "olap_cursor.execute(\"\"\"\n",
    "CREATE TABLE FactHealthMeasure (\n",
    "    year INTEGER NOT NULL REFERENCES DimYear(year),\n",
    "    country_code CHAR(3) NOT NULL REFERENCES DimLocation(country_code),\n",
    "    daly_depression FLOAT,\n",
    "    daly_schizophrenia FLOAT,\n",
    "    daly_bipolar_disorder FLOAT,\n",
    "    daly_eating_disorder FLOAT,\n",
    "    daly_anxiety FLOAT,\n",
    "    life_expectancy FLOAT,\n",
    "    infant_mortality_rate FLOAT,\n",
    "    current_health_expenditure FLOAT,\n",
    "    government_health_expenditure FLOAT,\n",
    "    private_health_expenditure FLOAT,\n",
    "    external_health_expenditure FLOAT\n",
    ");\n",
    "\"\"\")"
   ]
  },
  {
   "cell_type": "code",
   "execution_count": 15,
   "id": "4ccfc751-aa4a-425e-8182-0b0d63c42d33",
   "metadata": {},
   "outputs": [],
   "source": [
    "# Insert values from 1896 - start of the olympic data to 2022\n",
    "\n",
    "olap_cursor.execute(\"\"\"\n",
    "INSERT INTO DimYear (year)\n",
    "SELECT generate_series AS year\n",
    "FROM generate_series(1896, 2022);\n",
    "\"\"\")"
   ]
  },
  {
   "cell_type": "code",
   "execution_count": 16,
   "id": "a5347773-0884-459a-9f94-1da5e17efbc6",
   "metadata": {},
   "outputs": [],
   "source": [
    "olap_connection.commit()"
   ]
  },
  {
   "cell_type": "code",
   "execution_count": 17,
   "id": "6f3aedd2-4aae-4174-83ee-88debafc4d2a",
   "metadata": {},
   "outputs": [
    {
     "name": "stdout",
     "output_type": "stream",
     "text": [
      "Connection to PostgreSQL DB successful\n"
     ]
    }
   ],
   "source": [
    "oltp_connection = create_connection('olympic_oltp', db_user, db_password, db_host, db_port)"
   ]
  },
  {
   "cell_type": "code",
   "execution_count": 18,
   "id": "f89465d4-2ec5-46ac-9d5d-f94a1daec6ee",
   "metadata": {},
   "outputs": [],
   "source": [
    "oltp_cursor = oltp_connection.cursor()"
   ]
  },
  {
   "cell_type": "code",
   "execution_count": 19,
   "id": "fa5e4927-d9da-43ac-82f9-29bfd9398ac7",
   "metadata": {},
   "outputs": [],
   "source": [
    "oltp_cursor.execute(\"\"\"\n",
    "SELECT DISTINCT \n",
    "    event_title,\n",
    "    discipline_title AS event_discipline,\n",
    "    event_gender\n",
    "FROM\n",
    "    olympic_medals\n",
    "ORDER BY\n",
    "    event_title, event_gender;\n",
    "\"\"\")"
   ]
  },
  {
   "cell_type": "code",
   "execution_count": 20,
   "id": "c9f609ef-6229-4c70-bc67-de369d467d78",
   "metadata": {},
   "outputs": [],
   "source": [
    "dim_event_data = oltp_cursor.fetchall()"
   ]
  },
  {
   "cell_type": "code",
   "execution_count": 21,
   "id": "9cc7a5ce-b8ce-481d-918b-01ba05604207",
   "metadata": {},
   "outputs": [],
   "source": [
    "# all column names\n",
    "dim_event_data_columns = [desc[0] for desc in oltp_cursor.description]"
   ]
  },
  {
   "cell_type": "code",
   "execution_count": 22,
   "id": "83093da1-f41f-4374-9caa-3997b6d3f12e",
   "metadata": {},
   "outputs": [],
   "source": [
    "dim_event_df = pd.DataFrame(dim_event_data, columns = dim_event_data_columns)"
   ]
  },
  {
   "cell_type": "code",
   "execution_count": 23,
   "id": "80e989f8-0112-4a62-a6fd-cc6d92d5f419",
   "metadata": {},
   "outputs": [
    {
     "data": {
      "text/html": [
       "<div>\n",
       "<style scoped>\n",
       "    .dataframe tbody tr th:only-of-type {\n",
       "        vertical-align: middle;\n",
       "    }\n",
       "\n",
       "    .dataframe tbody tr th {\n",
       "        vertical-align: top;\n",
       "    }\n",
       "\n",
       "    .dataframe thead th {\n",
       "        text-align: right;\n",
       "    }\n",
       "</style>\n",
       "<table border=\"1\" class=\"dataframe\">\n",
       "  <thead>\n",
       "    <tr style=\"text-align: right;\">\n",
       "      <th></th>\n",
       "      <th>event_title</th>\n",
       "      <th>event_discipline</th>\n",
       "      <th>event_gender</th>\n",
       "    </tr>\n",
       "  </thead>\n",
       "  <tbody>\n",
       "    <tr>\n",
       "      <th>0</th>\n",
       "      <td>0.5-1t mixed</td>\n",
       "      <td>Sailing</td>\n",
       "      <td>Open</td>\n",
       "    </tr>\n",
       "    <tr>\n",
       "      <th>1</th>\n",
       "      <td>0.5t mixed, race one</td>\n",
       "      <td>Sailing</td>\n",
       "      <td>Open</td>\n",
       "    </tr>\n",
       "    <tr>\n",
       "      <th>2</th>\n",
       "      <td>0.5t mixed, race two</td>\n",
       "      <td>Sailing</td>\n",
       "      <td>Open</td>\n",
       "    </tr>\n",
       "    <tr>\n",
       "      <th>3</th>\n",
       "      <td>10000m men</td>\n",
       "      <td>Speed skating</td>\n",
       "      <td>Men</td>\n",
       "    </tr>\n",
       "    <tr>\n",
       "      <th>4</th>\n",
       "      <td>10000m men</td>\n",
       "      <td>Athletics</td>\n",
       "      <td>Men</td>\n",
       "    </tr>\n",
       "    <tr>\n",
       "      <th>...</th>\n",
       "      <td>...</td>\n",
       "      <td>...</td>\n",
       "      <td>...</td>\n",
       "    </tr>\n",
       "    <tr>\n",
       "      <th>1583</th>\n",
       "      <td>Women's Uneven Bars</td>\n",
       "      <td>Artistic Gymnastics</td>\n",
       "      <td>Women</td>\n",
       "    </tr>\n",
       "    <tr>\n",
       "      <th>1584</th>\n",
       "      <td>Women's Vault</td>\n",
       "      <td>Artistic Gymnastics</td>\n",
       "      <td>Women</td>\n",
       "    </tr>\n",
       "    <tr>\n",
       "      <th>1585</th>\n",
       "      <td>Women's Welter (64-69kg)</td>\n",
       "      <td>Boxing</td>\n",
       "      <td>Women</td>\n",
       "    </tr>\n",
       "    <tr>\n",
       "      <th>1586</th>\n",
       "      <td>Yngling - Keelboat women</td>\n",
       "      <td>Sailing</td>\n",
       "      <td>Women</td>\n",
       "    </tr>\n",
       "    <tr>\n",
       "      <th>1587</th>\n",
       "      <td>york round (100y - 80y - 60y) men</td>\n",
       "      <td>Archery</td>\n",
       "      <td>Men</td>\n",
       "    </tr>\n",
       "  </tbody>\n",
       "</table>\n",
       "<p>1588 rows × 3 columns</p>\n",
       "</div>"
      ],
      "text/plain": [
       "                            event_title     event_discipline event_gender\n",
       "0                          0.5-1t mixed              Sailing         Open\n",
       "1                  0.5t mixed, race one              Sailing         Open\n",
       "2                  0.5t mixed, race two              Sailing         Open\n",
       "3                            10000m men        Speed skating          Men\n",
       "4                            10000m men            Athletics          Men\n",
       "...                                 ...                  ...          ...\n",
       "1583                Women's Uneven Bars  Artistic Gymnastics        Women\n",
       "1584                      Women's Vault  Artistic Gymnastics        Women\n",
       "1585           Women's Welter (64-69kg)               Boxing        Women\n",
       "1586           Yngling - Keelboat women              Sailing        Women\n",
       "1587  york round (100y - 80y - 60y) men              Archery          Men\n",
       "\n",
       "[1588 rows x 3 columns]"
      ]
     },
     "execution_count": 23,
     "metadata": {},
     "output_type": "execute_result"
    }
   ],
   "source": [
    "dim_event_df"
   ]
  },
  {
   "cell_type": "code",
   "execution_count": 24,
   "id": "71324f7f-65a6-4d9a-b223-4f329c17ff3a",
   "metadata": {},
   "outputs": [],
   "source": [
    "from sqlalchemy import create_engine\n",
    "\n",
    "olap_connection_url = f\"postgresql://{db_user}:{db_password}@{db_host}:{db_port}/{olap_db_name}\"\n",
    "\n",
    "# Create the engine\n",
    "olap_engine = create_engine(olap_connection_url)"
   ]
  },
  {
   "cell_type": "code",
   "execution_count": 25,
   "id": "f868628a-adc1-4bb7-85bf-b741bdd5e07e",
   "metadata": {},
   "outputs": [
    {
     "data": {
      "text/plain": [
       "588"
      ]
     },
     "execution_count": 25,
     "metadata": {},
     "output_type": "execute_result"
    }
   ],
   "source": [
    "dim_event_df.to_sql(\"dimevent\", con=olap_engine, if_exists=\"append\", index=False)"
   ]
  },
  {
   "cell_type": "code",
   "execution_count": 26,
   "id": "4bb7a95d-d58a-412f-a72e-b2e6b01ca090",
   "metadata": {},
   "outputs": [],
   "source": [
    "oltp_cursor.execute(\"\"\"\n",
    "SELECT DISTINCT \n",
    "    participant_title,\n",
    "    participant_type\n",
    "FROM \n",
    "    olympic_medals;\n",
    "\"\"\")"
   ]
  },
  {
   "cell_type": "code",
   "execution_count": 27,
   "id": "39108c52-291a-459a-acad-166b56d9f8ec",
   "metadata": {},
   "outputs": [],
   "source": [
    "dim_participant_data = oltp_cursor.fetchall()"
   ]
  },
  {
   "cell_type": "code",
   "execution_count": 28,
   "id": "3a623f53-5c40-4670-b692-d9bdc1ff08c9",
   "metadata": {},
   "outputs": [
    {
     "data": {
      "text/plain": [
       "['participant_title', 'participant_type']"
      ]
     },
     "execution_count": 28,
     "metadata": {},
     "output_type": "execute_result"
    }
   ],
   "source": [
    "dim_participant_data_columns = [desc[0] for desc in oltp_cursor.description]\n",
    "dim_participant_data_columns\n"
   ]
  },
  {
   "cell_type": "code",
   "execution_count": 29,
   "id": "32921449-613b-4193-b3e9-755f03f9d555",
   "metadata": {},
   "outputs": [],
   "source": [
    "dim_participant_df = pd.DataFrame(dim_participant_data, columns = dim_participant_data_columns)"
   ]
  },
  {
   "cell_type": "code",
   "execution_count": 30,
   "id": "be02aa41-4818-42b6-b19b-22fdbd881d46",
   "metadata": {},
   "outputs": [
    {
     "data": {
      "text/html": [
       "<div>\n",
       "<style scoped>\n",
       "    .dataframe tbody tr th:only-of-type {\n",
       "        vertical-align: middle;\n",
       "    }\n",
       "\n",
       "    .dataframe tbody tr th {\n",
       "        vertical-align: top;\n",
       "    }\n",
       "\n",
       "    .dataframe thead th {\n",
       "        text-align: right;\n",
       "    }\n",
       "</style>\n",
       "<table border=\"1\" class=\"dataframe\">\n",
       "  <thead>\n",
       "    <tr style=\"text-align: right;\">\n",
       "      <th></th>\n",
       "      <th>participant_title</th>\n",
       "      <th>participant_type</th>\n",
       "    </tr>\n",
       "  </thead>\n",
       "  <tbody>\n",
       "    <tr>\n",
       "      <th>0</th>\n",
       "      <td>Romania team</td>\n",
       "      <td>GameTeam</td>\n",
       "    </tr>\n",
       "    <tr>\n",
       "      <th>1</th>\n",
       "      <td>Tan-Fe-Pah</td>\n",
       "      <td>GameTeam</td>\n",
       "    </tr>\n",
       "    <tr>\n",
       "      <th>2</th>\n",
       "      <td>Independent Rowing Club #3</td>\n",
       "      <td>GameTeam</td>\n",
       "    </tr>\n",
       "    <tr>\n",
       "      <th>3</th>\n",
       "      <td>Elsie</td>\n",
       "      <td>GameTeam</td>\n",
       "    </tr>\n",
       "    <tr>\n",
       "      <th>4</th>\n",
       "      <td>Sans Atout #1</td>\n",
       "      <td>GameTeam</td>\n",
       "    </tr>\n",
       "  </tbody>\n",
       "</table>\n",
       "</div>"
      ],
      "text/plain": [
       "            participant_title participant_type\n",
       "0                Romania team         GameTeam\n",
       "1                  Tan-Fe-Pah         GameTeam\n",
       "2  Independent Rowing Club #3         GameTeam\n",
       "3                       Elsie         GameTeam\n",
       "4               Sans Atout #1         GameTeam"
      ]
     },
     "execution_count": 30,
     "metadata": {},
     "output_type": "execute_result"
    }
   ],
   "source": [
    "dim_participant_df.head()"
   ]
  },
  {
   "cell_type": "code",
   "execution_count": 31,
   "id": "e22247fc-e560-4e32-82c8-60dcebd61c19",
   "metadata": {},
   "outputs": [
    {
     "data": {
      "text/plain": [
       "494"
      ]
     },
     "execution_count": 31,
     "metadata": {},
     "output_type": "execute_result"
    }
   ],
   "source": [
    "dim_participant_df.to_sql(\"dimparticipant\", con=olap_engine, if_exists=\"append\", index=False)"
   ]
  },
  {
   "cell_type": "code",
   "execution_count": 32,
   "id": "02efcab7-9741-4eaf-a52d-8de7a2b769d0",
   "metadata": {},
   "outputs": [],
   "source": [
    "oltp_cursor.execute(\"\"\"\n",
    "SELECT DISTINCT \n",
    "    athlete_full_name as athlete_name,\n",
    "    athlete_url\n",
    "FROM \n",
    "    olympic_medals\n",
    "WHERE \n",
    "    athlete_full_name IS NOT NULL AND athlete_url IS NOT NULL\n",
    "ORDER BY athlete_name;\n",
    "\"\"\")"
   ]
  },
  {
   "cell_type": "code",
   "execution_count": 33,
   "id": "5d332e05-12ad-4219-98a1-37d7808f2a39",
   "metadata": {},
   "outputs": [],
   "source": [
    "dim_athlete_data = oltp_cursor.fetchall()"
   ]
  },
  {
   "cell_type": "code",
   "execution_count": 34,
   "id": "4a81447c-7fb6-4707-8b4e-93ce81dee9c3",
   "metadata": {},
   "outputs": [],
   "source": [
    "dim_athlete_data_columns = [desc[0] for desc in oltp_cursor.description]"
   ]
  },
  {
   "cell_type": "code",
   "execution_count": 35,
   "id": "42dadc10-03a9-439a-bfe7-6f46f8cdd555",
   "metadata": {},
   "outputs": [
    {
     "data": {
      "text/plain": [
       "['athlete_name', 'athlete_url']"
      ]
     },
     "execution_count": 35,
     "metadata": {},
     "output_type": "execute_result"
    }
   ],
   "source": [
    "dim_athlete_data_columns"
   ]
  },
  {
   "cell_type": "code",
   "execution_count": 36,
   "id": "6c20561e-7ac8-4788-8922-d7773d8f59d9",
   "metadata": {},
   "outputs": [
    {
     "data": {
      "text/html": [
       "<div>\n",
       "<style scoped>\n",
       "    .dataframe tbody tr th:only-of-type {\n",
       "        vertical-align: middle;\n",
       "    }\n",
       "\n",
       "    .dataframe tbody tr th {\n",
       "        vertical-align: top;\n",
       "    }\n",
       "\n",
       "    .dataframe thead th {\n",
       "        text-align: right;\n",
       "    }\n",
       "</style>\n",
       "<table border=\"1\" class=\"dataframe\">\n",
       "  <thead>\n",
       "    <tr style=\"text-align: right;\">\n",
       "      <th></th>\n",
       "      <th>athlete_name</th>\n",
       "      <th>athlete_url</th>\n",
       "    </tr>\n",
       "  </thead>\n",
       "  <tbody>\n",
       "    <tr>\n",
       "      <th>0</th>\n",
       "      <td>Aage Ernst LARSEN</td>\n",
       "      <td>https://olympics.com/en/athletes/aage-ernst-la...</td>\n",
       "    </tr>\n",
       "    <tr>\n",
       "      <th>1</th>\n",
       "      <td>Aage Ingvar ERIKSEN</td>\n",
       "      <td>https://olympics.com/en/athletes/aage-ingvar-e...</td>\n",
       "    </tr>\n",
       "    <tr>\n",
       "      <th>2</th>\n",
       "      <td>Aagje Ada KOK</td>\n",
       "      <td>https://olympics.com/en/athletes/aagje-ada-kok</td>\n",
       "    </tr>\n",
       "    <tr>\n",
       "      <th>3</th>\n",
       "      <td>Aarne Eemeli REINI</td>\n",
       "      <td>https://olympics.com/en/athletes/aarne-eemeli-...</td>\n",
       "    </tr>\n",
       "    <tr>\n",
       "      <th>4</th>\n",
       "      <td>Aaron CHIA</td>\n",
       "      <td>https://olympics.com/en/athletes/aaron-chia</td>\n",
       "    </tr>\n",
       "  </tbody>\n",
       "</table>\n",
       "</div>"
      ],
      "text/plain": [
       "          athlete_name                                        athlete_url\n",
       "0    Aage Ernst LARSEN  https://olympics.com/en/athletes/aage-ernst-la...\n",
       "1  Aage Ingvar ERIKSEN  https://olympics.com/en/athletes/aage-ingvar-e...\n",
       "2        Aagje Ada KOK     https://olympics.com/en/athletes/aagje-ada-kok\n",
       "3   Aarne Eemeli REINI  https://olympics.com/en/athletes/aarne-eemeli-...\n",
       "4           Aaron CHIA        https://olympics.com/en/athletes/aaron-chia"
      ]
     },
     "execution_count": 36,
     "metadata": {},
     "output_type": "execute_result"
    }
   ],
   "source": [
    "dim_athlete_df = pd.DataFrame(dim_athlete_data, columns = dim_athlete_data_columns)\n",
    "dim_athlete_df.head()"
   ]
  },
  {
   "cell_type": "code",
   "execution_count": 37,
   "id": "4e3db8ee-73cd-4ab3-a3f7-f2d0d1a43e86",
   "metadata": {},
   "outputs": [
    {
     "data": {
      "text/plain": [
       "116"
      ]
     },
     "execution_count": 37,
     "metadata": {},
     "output_type": "execute_result"
    }
   ],
   "source": [
    "dim_athlete_df.to_sql(\"dimathlete\", con=olap_engine, if_exists=\"append\", index=False)"
   ]
  },
  {
   "cell_type": "code",
   "execution_count": 38,
   "id": "de02f3cc-228a-4f20-b4f4-9c33b056c30f",
   "metadata": {},
   "outputs": [],
   "source": [
    "oltp_cursor.execute(\"\"\"\n",
    "SELECT \n",
    "    h.game_slug, \n",
    "    h.game_name, \n",
    "    h.game_season, \n",
    "    h.game_year, \n",
    "    m.country_3_letter_code as country_code\n",
    "FROM \n",
    "    olympic_hosts h\n",
    "JOIN \n",
    "    olympic_medals m ON (h.game_slug = m.slug_game AND h.game_location = m.country_name)\n",
    "GROUP BY \n",
    "    h.game_slug, h.game_name, h.game_season, h.game_year, m.country_3_letter_code\n",
    "ORDER BY game_year;\n",
    "\"\"\")"
   ]
  },
  {
   "cell_type": "code",
   "execution_count": 39,
   "id": "694f3ab6-8893-4501-843d-9796d2813bb6",
   "metadata": {},
   "outputs": [],
   "source": [
    "dim_game_data = oltp_cursor.fetchall()"
   ]
  },
  {
   "cell_type": "code",
   "execution_count": 40,
   "id": "6d21b4bd-c493-48d7-8f98-f34b4d5cf9e6",
   "metadata": {},
   "outputs": [],
   "source": [
    "dim_game_data_columns = [desc[0] for desc in oltp_cursor.description]"
   ]
  },
  {
   "cell_type": "code",
   "execution_count": 41,
   "id": "8cdc4424-1f44-433f-a18f-3ef5bc31f5a8",
   "metadata": {},
   "outputs": [
    {
     "data": {
      "text/plain": [
       "['game_slug', 'game_name', 'game_season', 'game_year', 'country_code']"
      ]
     },
     "execution_count": 41,
     "metadata": {},
     "output_type": "execute_result"
    }
   ],
   "source": [
    "dim_game_data_columns"
   ]
  },
  {
   "cell_type": "code",
   "execution_count": 42,
   "id": "6a4d2fae-a4a0-4642-9aa4-8ce0e1e60216",
   "metadata": {},
   "outputs": [
    {
     "data": {
      "text/html": [
       "<div>\n",
       "<style scoped>\n",
       "    .dataframe tbody tr th:only-of-type {\n",
       "        vertical-align: middle;\n",
       "    }\n",
       "\n",
       "    .dataframe tbody tr th {\n",
       "        vertical-align: top;\n",
       "    }\n",
       "\n",
       "    .dataframe thead th {\n",
       "        text-align: right;\n",
       "    }\n",
       "</style>\n",
       "<table border=\"1\" class=\"dataframe\">\n",
       "  <thead>\n",
       "    <tr style=\"text-align: right;\">\n",
       "      <th></th>\n",
       "      <th>game_slug</th>\n",
       "      <th>game_name</th>\n",
       "      <th>game_season</th>\n",
       "      <th>game_year</th>\n",
       "      <th>country_code</th>\n",
       "    </tr>\n",
       "  </thead>\n",
       "  <tbody>\n",
       "    <tr>\n",
       "      <th>0</th>\n",
       "      <td>athens-1896</td>\n",
       "      <td>Athens 1896</td>\n",
       "      <td>Summer</td>\n",
       "      <td>1896</td>\n",
       "      <td>GRE</td>\n",
       "    </tr>\n",
       "    <tr>\n",
       "      <th>1</th>\n",
       "      <td>paris-1900</td>\n",
       "      <td>Paris 1900</td>\n",
       "      <td>Summer</td>\n",
       "      <td>1900</td>\n",
       "      <td>FRA</td>\n",
       "    </tr>\n",
       "    <tr>\n",
       "      <th>2</th>\n",
       "      <td>london-1908</td>\n",
       "      <td>London 1908</td>\n",
       "      <td>Summer</td>\n",
       "      <td>1908</td>\n",
       "      <td>GBR</td>\n",
       "    </tr>\n",
       "    <tr>\n",
       "      <th>3</th>\n",
       "      <td>stockholm-1912</td>\n",
       "      <td>Stockholm 1912</td>\n",
       "      <td>Summer</td>\n",
       "      <td>1912</td>\n",
       "      <td>SWE</td>\n",
       "    </tr>\n",
       "    <tr>\n",
       "      <th>4</th>\n",
       "      <td>antwerp-1920</td>\n",
       "      <td>Antwerp 1920</td>\n",
       "      <td>Summer</td>\n",
       "      <td>1920</td>\n",
       "      <td>BEL</td>\n",
       "    </tr>\n",
       "  </tbody>\n",
       "</table>\n",
       "</div>"
      ],
      "text/plain": [
       "        game_slug       game_name game_season  game_year country_code\n",
       "0     athens-1896     Athens 1896      Summer       1896   GRE       \n",
       "1      paris-1900      Paris 1900      Summer       1900   FRA       \n",
       "2     london-1908     London 1908      Summer       1908   GBR       \n",
       "3  stockholm-1912  Stockholm 1912      Summer       1912   SWE       \n",
       "4    antwerp-1920    Antwerp 1920      Summer       1920   BEL       "
      ]
     },
     "execution_count": 42,
     "metadata": {},
     "output_type": "execute_result"
    }
   ],
   "source": [
    "dim_game_df = pd.DataFrame(dim_game_data, columns = dim_game_data_columns)\n",
    "dim_game_df.head()"
   ]
  },
  {
   "cell_type": "code",
   "execution_count": 43,
   "id": "ab8f127d-5aca-4028-9be3-6c701ff2f934",
   "metadata": {},
   "outputs": [
    {
     "data": {
      "text/plain": [
       "41"
      ]
     },
     "execution_count": 43,
     "metadata": {},
     "output_type": "execute_result"
    }
   ],
   "source": [
    "dim_game_df.to_sql(\"dimgame\", con=olap_engine, if_exists=\"append\", index=False)"
   ]
  },
  {
   "cell_type": "code",
   "execution_count": 44,
   "id": "4ab1d896-b43e-40dd-88de-9436a5e8773c",
   "metadata": {},
   "outputs": [],
   "source": [
    "oltp_cursor.execute(\"\"\"\n",
    "SELECT * FROM countries;\n",
    "\"\"\")"
   ]
  },
  {
   "cell_type": "code",
   "execution_count": 45,
   "id": "86aee376-8a9d-4a43-9a3f-43ab5cbf24af",
   "metadata": {},
   "outputs": [],
   "source": [
    "dim_location_data = oltp_cursor.fetchall()"
   ]
  },
  {
   "cell_type": "code",
   "execution_count": 47,
   "id": "30c3cd94-2319-4983-8771-3269ce9f218e",
   "metadata": {},
   "outputs": [],
   "source": [
    "dim_location_data_columns = [desc[0] for desc in oltp_cursor.description]"
   ]
  },
  {
   "cell_type": "code",
   "execution_count": 48,
   "id": "9b93c386-172d-416b-a428-3d57612b01d9",
   "metadata": {},
   "outputs": [
    {
     "data": {
      "text/plain": [
       "['country_code', 'country_name', 'continent']"
      ]
     },
     "execution_count": 48,
     "metadata": {},
     "output_type": "execute_result"
    }
   ],
   "source": [
    "dim_location_data_columns"
   ]
  },
  {
   "cell_type": "code",
   "execution_count": 49,
   "id": "358100bd-59f2-4612-b7ae-7d6da8ee9c3f",
   "metadata": {},
   "outputs": [
    {
     "data": {
      "text/html": [
       "<div>\n",
       "<style scoped>\n",
       "    .dataframe tbody tr th:only-of-type {\n",
       "        vertical-align: middle;\n",
       "    }\n",
       "\n",
       "    .dataframe tbody tr th {\n",
       "        vertical-align: top;\n",
       "    }\n",
       "\n",
       "    .dataframe thead th {\n",
       "        text-align: right;\n",
       "    }\n",
       "</style>\n",
       "<table border=\"1\" class=\"dataframe\">\n",
       "  <thead>\n",
       "    <tr style=\"text-align: right;\">\n",
       "      <th></th>\n",
       "      <th>country_code</th>\n",
       "      <th>country_name</th>\n",
       "      <th>continent</th>\n",
       "    </tr>\n",
       "  </thead>\n",
       "  <tbody>\n",
       "    <tr>\n",
       "      <th>0</th>\n",
       "      <td>AFG</td>\n",
       "      <td>Afghanistan</td>\n",
       "      <td>Asia</td>\n",
       "    </tr>\n",
       "    <tr>\n",
       "      <th>1</th>\n",
       "      <td>ALA</td>\n",
       "      <td>Åland Islands</td>\n",
       "      <td>Europe</td>\n",
       "    </tr>\n",
       "    <tr>\n",
       "      <th>2</th>\n",
       "      <td>ALB</td>\n",
       "      <td>Albania</td>\n",
       "      <td>Europe</td>\n",
       "    </tr>\n",
       "    <tr>\n",
       "      <th>3</th>\n",
       "      <td>DZA</td>\n",
       "      <td>Algeria</td>\n",
       "      <td>Africa</td>\n",
       "    </tr>\n",
       "    <tr>\n",
       "      <th>4</th>\n",
       "      <td>ASM</td>\n",
       "      <td>American Samoa</td>\n",
       "      <td>Oceania</td>\n",
       "    </tr>\n",
       "  </tbody>\n",
       "</table>\n",
       "</div>"
      ],
      "text/plain": [
       "  country_code    country_name continent\n",
       "0          AFG     Afghanistan      Asia\n",
       "1          ALA   Åland Islands    Europe\n",
       "2          ALB         Albania    Europe\n",
       "3          DZA         Algeria    Africa\n",
       "4          ASM  American Samoa   Oceania"
      ]
     },
     "execution_count": 49,
     "metadata": {},
     "output_type": "execute_result"
    }
   ],
   "source": [
    "dim_location_df = pd.DataFrame(dim_location_data, columns = dim_location_data_columns)\n",
    "dim_location_df.head()"
   ]
  },
  {
   "cell_type": "code",
   "execution_count": 50,
   "id": "f6b6bf0c-9c4f-4384-be94-1701d0172a5e",
   "metadata": {},
   "outputs": [
    {
     "data": {
      "text/plain": [
       "247"
      ]
     },
     "execution_count": 50,
     "metadata": {},
     "output_type": "execute_result"
    }
   ],
   "source": [
    "dim_location_df.to_sql(\"dimlocation\", con=olap_engine, if_exists=\"append\", index=False)"
   ]
  },
  {
   "cell_type": "markdown",
   "id": "dfc63eac-81bb-4e1c-87a1-d804d6ab6cbc",
   "metadata": {},
   "source": [
    "```sql\n",
    "SELECT DISTINCT o.game_location\n",
    "FROM olympic_hosts o\n",
    "LEFT JOIN countries c ON o.game_location = c.country_name\n",
    "WHERE c.country_name IS NULL;\n",
    "```\n",
    "\n",
    "Running above code we find that some countries are named differently in olympic_host file"
   ]
  },
  {
   "cell_type": "markdown",
   "id": "04824eb9-103d-490d-a0db-f76de783b2e0",
   "metadata": {},
   "source": [
    "\"Australia, Sweden\" -> \"Australia\" \\\n",
    "\"Federal Republic of Germany\" -> \"Germany\"\n",
    "\"Great Britain\" -> United Kingdom of Great Britain and Northern Ireland \\\n",
    "\"United States\" -> United States of America \\\n",
    "\"USSR\" -> Russian Federation \\\n",
    "\"Yugoslavia\" -> Serbia"
   ]
  },
  {
   "cell_type": "code",
   "execution_count": 51,
   "id": "0ea2fd81-3b13-4b6a-97d6-a8ea2f4c34b2",
   "metadata": {},
   "outputs": [],
   "source": [
    "oltp_cursor.execute(\"\"\"\n",
    "CREATE TABLE olympic_hosts_backup AS\n",
    "SELECT *\n",
    "FROM olympic_hosts;\n",
    "\"\"\")"
   ]
  },
  {
   "cell_type": "code",
   "execution_count": 52,
   "id": "38fe78ed-b42e-4a03-bc3f-bbe48fc34743",
   "metadata": {},
   "outputs": [],
   "source": [
    "oltp_connection.commit()"
   ]
  },
  {
   "cell_type": "code",
   "execution_count": 53,
   "id": "a08fe89b-8b69-4fee-87eb-cde896dd555a",
   "metadata": {},
   "outputs": [],
   "source": [
    "oltp_cursor.execute(\"\"\"\n",
    "UPDATE olympic_hosts\n",
    "SET game_location = CASE\n",
    "    WHEN game_location = 'Australia, Sweden' THEN 'Australia'\n",
    "    WHEN game_location = 'Federal Republic of Germany' THEN 'Germany'\n",
    "    WHEN game_location = 'Great Britain' THEN 'United Kingdom of Great Britain and Northern Ireland'\n",
    "    WHEN game_location = 'United States' THEN 'United States of America'\n",
    "    WHEN game_location = 'USSR' THEN 'Russian Federation'\n",
    "    WHEN game_location = 'Yugoslavia' THEN 'Serbia'\n",
    "    ELSE game_location\n",
    "END;\n",
    "\"\"\")"
   ]
  },
  {
   "cell_type": "code",
   "execution_count": 54,
   "id": "f2475bbd-cc9b-4d7b-a2bb-0991585977eb",
   "metadata": {},
   "outputs": [],
   "source": [
    "oltp_connection.commit()"
   ]
  },
  {
   "cell_type": "code",
   "execution_count": null,
   "id": "a555bf95-8973-4539-bf7c-b3893c143115",
   "metadata": {},
   "outputs": [],
   "source": []
  }
 ],
 "metadata": {
  "kernelspec": {
   "display_name": "Python 3 (ipykernel)",
   "language": "python",
   "name": "python3"
  },
  "language_info": {
   "codemirror_mode": {
    "name": "ipython",
    "version": 3
   },
   "file_extension": ".py",
   "mimetype": "text/x-python",
   "name": "python",
   "nbconvert_exporter": "python",
   "pygments_lexer": "ipython3",
   "version": "3.11.6"
  }
 },
 "nbformat": 4,
 "nbformat_minor": 5
}
