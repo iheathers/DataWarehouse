{
 "cells": [
  {
   "cell_type": "code",
   "execution_count": null,
   "id": "c172db26-db5e-4734-aa72-dd54a3a4b3c8",
   "metadata": {},
   "outputs": [],
   "source": [
    "import pandas as pd\n",
    "\n",
    "# Load the CSV file\n",
    "file_path = './raw_data/economic_data_external.csv'\n",
    "data = pd.read_csv(file_path)\n",
    "\n",
    "# Display the first few rows and the data types of each column\n",
    "data.head()\n",
    "\n",
    "# data = data.drop(columns=['Time Code', 'Country Name'])\n",
    "data.info()\n",
    "\n",
    "# Convert columns that are intended to be numeric but are currently object type, except for identifiers and codes\n",
    "numeric_columns = data.columns[4:]  # Assuming first four columns are categorical/textual\n",
    "\n",
    "# Replace '..' with NaN and convert columns to float\n",
    "for col in numeric_columns:\n",
    "    data[col] = pd.to_numeric(data[col], errors='coerce')\n",
    "\n",
    "# Check the conversion\n",
    "data.dtypes, data.head()\n",
    "\n",
    "\n",
    "# Group by 'Country Name' and apply interpolation within each group\n",
    "data_grouped_interpolated = data.groupby('Country Code').apply(lambda group: group.interpolate(method='linear', limit_direction='both'))\n",
    "\n",
    "# import numpy as np\n",
    "\n",
    "# data_numeric_interpolation = data.groupby('Country Code').apply(\n",
    "#     lambda group: group.select_dtypes(include=[np.number]).interpolate(method='linear', limit_direction='both'), include_groups=True\n",
    "# )\n",
    "# Display the first few rows after grouped interpolation to verify changes\n",
    "data_grouped_interpolated\n",
    "\n",
    "\n",
    "# Save the interpolated and grouped data to a new CSV file\n",
    "output_file_path = './interpolated_economic_data.csv'\n",
    "data_grouped_interpolated.to_csv(output_file_path, index=False)\n",
    "\n",
    "output_file_path\n"
   ]
  },
  {
   "cell_type": "code",
   "execution_count": null,
   "id": "6046c935-e905-4baa-b6ac-8122ac9723cc",
   "metadata": {},
   "outputs": [],
   "source": [
    "\n",
    "\n"
   ]
  },
  {
   "cell_type": "code",
   "execution_count": null,
   "id": "358ba9a4-fb37-4883-a711-1e3ae96fde26",
   "metadata": {},
   "outputs": [],
   "source": []
  },
  {
   "cell_type": "code",
   "execution_count": null,
   "id": "0e31bea5-d7da-4457-b87a-b6e799d3ebf0",
   "metadata": {},
   "outputs": [],
   "source": []
  }
 ],
 "metadata": {
  "kernelspec": {
   "display_name": "Python 3 (ipykernel)",
   "language": "python",
   "name": "python3"
  },
  "language_info": {
   "codemirror_mode": {
    "name": "ipython",
    "version": 3
   },
   "file_extension": ".py",
   "mimetype": "text/x-python",
   "name": "python",
   "nbconvert_exporter": "python",
   "pygments_lexer": "ipython3",
   "version": "3.11.6"
  }
 },
 "nbformat": 4,
 "nbformat_minor": 5
}
