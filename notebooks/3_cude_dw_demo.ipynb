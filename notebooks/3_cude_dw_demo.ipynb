{
 "cells": [
  {
   "cell_type": "markdown",
   "id": "186ceb2ddf615eea",
   "metadata": {
    "collapsed": false,
    "jupyter": {
     "outputs_hidden": false
    }
   },
   "source": [
    "# Cube and Data Warehouse mini Demo\n",
    "This aims to implement a cube and do presentation\n",
    "## Cube"
   ]
  },
  {
   "cell_type": "code",
   "execution_count": 1,
   "id": "initial_id",
   "metadata": {},
   "outputs": [
    {
     "name": "stdout",
     "output_type": "stream",
     "text": [
      "Welcome to Atoti 0.8.10!\n",
      "\n",
      "By using this community edition, you agree with the license available at https://docs.atoti.io/latest/eula.html.\n",
      "Browse the official documentation at https://docs.atoti.io.\n",
      "Join the community at https://www.atoti.io/register.\n",
      "\n",
      "Atoti collects telemetry data, which is used to help understand how to improve the product.\n",
      "If you don't wish to send usage data, you can request a trial license at https://www.atoti.io/evaluation-license-request.\n",
      "\n",
      "You can hide this message by setting the `ATOTI_HIDE_EULA_MESSAGE` environment variable to True.\n"
     ]
    }
   ],
   "source": [
    "import atoti as tt"
   ]
  },
  {
   "cell_type": "code",
   "execution_count": 2,
   "id": "1ce9e2fb78351f0d",
   "metadata": {
    "collapsed": false,
    "jupyter": {
     "outputs_hidden": false
    }
   },
   "outputs": [],
   "source": [
    "session = tt.Session(\n",
    "    user_content_storage=\".content\",\n",
    "    port=9092,\n",
    "    java_options=[\"-Xms1G\", \"-Xmx10G\"]\n",
    ")"
   ]
  },
  {
   "cell_type": "markdown",
   "id": "188a5dd8-9361-4a54-9d81-5af118d11bb4",
   "metadata": {},
   "source": [
    "- It imports the atoti library using the alias tt.\n",
    "- It creates a session object using tt.Session.\n",
    "- The `user_content_storage=\".content\"` parameter specifies the directory or location where user content will be stored. This could include things like data files, configurations, or any other persistent data related to the session.\n",
    "- The `port=9092` parameter specifies the port number on which the session will listen for incoming connections or requests. This port is important for communication between the Atoti server and client applications.\n",
    "- The `java_options=[\"-Xms1G\", \"-Xmx10G\"]` parameter specifies Java Virtual Machine (JVM) options. In this case, it's setting the initial heap size (-Xms1G) to 1 gigabyte and the maximum heap size (-Xmx10G) to 10 gigabytes. This is important for controlling memory allocation for the Atoti server."
   ]
  },
  {
   "cell_type": "code",
   "execution_count": 3,
   "id": "8d2096c5d9043d33",
   "metadata": {
    "collapsed": false,
    "jupyter": {
     "outputs_hidden": false
    }
   },
   "outputs": [],
   "source": [
    "db_name = \"AdventureworksDWDemo\"\n",
    "db_user = \"postgres\"\n",
    "db_password = \"postgres\"  # Update with your password\n",
    "db_host = \"pgdb\"  # Update if your DB is hosted elsewhere\n",
    "db_port = \"5432\"\n",
    "\n",
    "jdbc_url = f\"jdbc:postgresql://{db_host}:{db_port}/{db_name}?user={db_user}&password={db_password}\""
   ]
  },
  {
   "cell_type": "markdown",
   "id": "5491e1ca-11ba-45eb-be9e-c3adfa8afe4b",
   "metadata": {},
   "source": [
    "## Load Data to Atoti"
   ]
  },
  {
   "cell_type": "code",
   "execution_count": 4,
   "id": "b26b1ae1-20b6-4c60-bdf3-4e1c9987cb8f",
   "metadata": {},
   "outputs": [],
   "source": [
    "product_sales_table = session.read_sql(\n",
    "    \"SELECT * FROM factproductsales\",\n",
    "    keys=[\"transactionid\"],\n",
    "    table_name=\"ProductSales\",\n",
    "    url=jdbc_url,\n",
    ")"
   ]
  },
  {
   "cell_type": "markdown",
   "id": "fc371768-87db-4f02-9c17-0827b36bc9f6",
   "metadata": {},
   "source": [
    "\n",
    "\n",
    "- `session.read_sql()`: This method is used to read data from a SQL database into an Atoti session.\n",
    "\n",
    "- `\"SELECT * FROM factproductsales\"`: This is the SQL query that specifies the data to be retrieved from the database. It selects all columns (`*`) from the table named `factproductsales`.\n",
    "\n",
    "- `keys=[\"transactionid\"]`: This parameter specifies the primary key or keys of the table. In this case, it seems that `transactionid` is the primary key of the `factproductsales` table.\n",
    "\n",
    "- `table_name=\"ProductSales\"`: This parameter specifies the name to be assigned to the table within the Atoti session where the data will be loaded. Here, the table will be named `ProductSales`.\n",
    "\n",
    "- `url=jdbc_url`: This parameter specifies the JDBC URL used to connect to the SQL database. `jdbc_url` should be a variable containing the JDBC URL of the database.\n",
    "\n",
    "So, this code retrieves data from the `factproductsales` table in the SQL database specified by the JDBC URL, loads it into the Atoti session, and assigns the table the name `ProductSales` within the session. The primary key of the table is `transactionid`."
   ]
  },
  {
   "cell_type": "code",
   "execution_count": 5,
   "id": "d342d8d3-417b-4f00-81f5-334869f829a1",
   "metadata": {},
   "outputs": [],
   "source": [
    "customer_table = session.read_sql(\n",
    "    \"SELECT * FROM dimcustomer\",\n",
    "    keys=[\"customerid\"],\n",
    "    table_name=\"Customer\",\n",
    "    url=jdbc_url)"
   ]
  },
  {
   "cell_type": "code",
   "execution_count": 6,
   "id": "828e934c-6723-4911-82ec-9759a2fff9fe",
   "metadata": {},
   "outputs": [],
   "source": [
    "product_table = session.read_sql(\n",
    "    \"SELECT * FROM dimproduct\",\n",
    "    keys=[\"productkey\"],\n",
    "    table_name=\"Product\",\n",
    "    url=jdbc_url\n",
    ")"
   ]
  },
  {
   "cell_type": "code",
   "execution_count": 7,
   "id": "47d5d135-02d8-48b0-ba4e-5e00a692cee1",
   "metadata": {},
   "outputs": [],
   "source": [
    "sales_person_table = session.read_sql(\n",
    "    \"SELECT * FROM dimsalesperson\",\n",
    "    keys=[\"salespersonid\"],\n",
    "    table_name=\"SalesPerson\",\n",
    "    url=jdbc_url\n",
    ")"
   ]
  },
  {
   "cell_type": "code",
   "execution_count": 8,
   "id": "fdfcc73e-9d56-4020-bf5f-b1e774c033a9",
   "metadata": {},
   "outputs": [],
   "source": [
    "stores_table = session.read_sql(\n",
    "    \"SELECT * FROM dimstores\",\n",
    "    keys=[\"storeid\"],\n",
    "    table_name=\"Stores\",\n",
    "    url=jdbc_url\n",
    ")"
   ]
  },
  {
   "cell_type": "code",
   "execution_count": 9,
   "id": "e971bb41-0045-4abf-85e0-edb77988bd78",
   "metadata": {},
   "outputs": [
    {
     "data": {
      "text/html": [
       "<div>\n",
       "<style scoped>\n",
       "    .dataframe tbody tr th:only-of-type {\n",
       "        vertical-align: middle;\n",
       "    }\n",
       "\n",
       "    .dataframe tbody tr th {\n",
       "        vertical-align: top;\n",
       "    }\n",
       "\n",
       "    .dataframe thead th {\n",
       "        text-align: right;\n",
       "    }\n",
       "</style>\n",
       "<table border=\"1\" class=\"dataframe\">\n",
       "  <thead>\n",
       "    <tr style=\"text-align: right;\">\n",
       "      <th></th>\n",
       "      <th>salesinvoicenumber</th>\n",
       "      <th>storeid</th>\n",
       "      <th>customerid</th>\n",
       "      <th>productid</th>\n",
       "      <th>salespersonid</th>\n",
       "      <th>quantity</th>\n",
       "      <th>salestotalcost</th>\n",
       "      <th>productactualcost</th>\n",
       "      <th>deviation</th>\n",
       "    </tr>\n",
       "    <tr>\n",
       "      <th>transactionid</th>\n",
       "      <th></th>\n",
       "      <th></th>\n",
       "      <th></th>\n",
       "      <th></th>\n",
       "      <th></th>\n",
       "      <th></th>\n",
       "      <th></th>\n",
       "      <th></th>\n",
       "      <th></th>\n",
       "    </tr>\n",
       "  </thead>\n",
       "  <tbody>\n",
       "    <tr>\n",
       "      <th>20</th>\n",
       "      <td>9</td>\n",
       "      <td>1</td>\n",
       "      <td>2</td>\n",
       "      <td>1</td>\n",
       "      <td>1</td>\n",
       "      <td>1.0</td>\n",
       "      <td>6.5</td>\n",
       "      <td>5.5</td>\n",
       "      <td>1.0</td>\n",
       "    </tr>\n",
       "    <tr>\n",
       "      <th>23</th>\n",
       "      <td>10</td>\n",
       "      <td>1</td>\n",
       "      <td>3</td>\n",
       "      <td>4</td>\n",
       "      <td>2</td>\n",
       "      <td>3.0</td>\n",
       "      <td>60.0</td>\n",
       "      <td>54.0</td>\n",
       "      <td>6.0</td>\n",
       "    </tr>\n",
       "    <tr>\n",
       "      <th>16</th>\n",
       "      <td>7</td>\n",
       "      <td>2</td>\n",
       "      <td>1</td>\n",
       "      <td>4</td>\n",
       "      <td>3</td>\n",
       "      <td>3.0</td>\n",
       "      <td>60.0</td>\n",
       "      <td>54.0</td>\n",
       "      <td>6.0</td>\n",
       "    </tr>\n",
       "    <tr>\n",
       "      <th>6</th>\n",
       "      <td>3</td>\n",
       "      <td>1</td>\n",
       "      <td>3</td>\n",
       "      <td>2</td>\n",
       "      <td>2</td>\n",
       "      <td>2.0</td>\n",
       "      <td>13.0</td>\n",
       "      <td>11.0</td>\n",
       "      <td>2.0</td>\n",
       "    </tr>\n",
       "    <tr>\n",
       "      <th>24</th>\n",
       "      <td>11</td>\n",
       "      <td>2</td>\n",
       "      <td>1</td>\n",
       "      <td>2</td>\n",
       "      <td>3</td>\n",
       "      <td>1.0</td>\n",
       "      <td>6.5</td>\n",
       "      <td>5.5</td>\n",
       "      <td>1.0</td>\n",
       "    </tr>\n",
       "  </tbody>\n",
       "</table>\n",
       "</div>"
      ],
      "text/plain": [
       "               salesinvoicenumber  storeid  customerid  productid  \\\n",
       "transactionid                                                       \n",
       "20                              9        1           2          1   \n",
       "23                             10        1           3          4   \n",
       "16                              7        2           1          4   \n",
       "6                               3        1           3          2   \n",
       "24                             11        2           1          2   \n",
       "\n",
       "               salespersonid  quantity  salestotalcost  productactualcost  \\\n",
       "transactionid                                                               \n",
       "20                         1       1.0             6.5                5.5   \n",
       "23                         2       3.0            60.0               54.0   \n",
       "16                         3       3.0            60.0               54.0   \n",
       "6                          2       2.0            13.0               11.0   \n",
       "24                         3       1.0             6.5                5.5   \n",
       "\n",
       "               deviation  \n",
       "transactionid             \n",
       "20                   1.0  \n",
       "23                   6.0  \n",
       "16                   6.0  \n",
       "6                    2.0  \n",
       "24                   1.0  "
      ]
     },
     "execution_count": 9,
     "metadata": {},
     "output_type": "execute_result"
    }
   ],
   "source": [
    "product_sales_table.head()"
   ]
  },
  {
   "cell_type": "markdown",
   "id": "d8f57c63-5de8-4681-af21-9c338fd7e415",
   "metadata": {},
   "source": [
    "## Implement a Star Schema"
   ]
  },
  {
   "cell_type": "code",
   "execution_count": 10,
   "id": "3bb09fbd-1d25-472b-b5c9-f4ead3f96795",
   "metadata": {},
   "outputs": [],
   "source": [
    "product_sales_table.join(customer_table, product_sales_table[\"customerid\"] == customer_table[\"customerid\"])"
   ]
  },
  {
   "cell_type": "code",
   "execution_count": 11,
   "id": "a2ee4df7-a3ea-4d34-91e9-c83312d48e7e",
   "metadata": {},
   "outputs": [],
   "source": [
    "product_sales_table.join(product_table, product_sales_table[\"productid\"] == product_table[\"productkey\"])"
   ]
  },
  {
   "cell_type": "code",
   "execution_count": 12,
   "id": "99b1cec9-c379-4072-aab8-c94bd3cc7e4a",
   "metadata": {},
   "outputs": [],
   "source": [
    "product_sales_table.join(sales_person_table,\n",
    "                         product_sales_table[\"salespersonid\"] == sales_person_table[\"salespersonid\"])"
   ]
  },
  {
   "cell_type": "markdown",
   "id": "4245a88f-91d9-44ac-a658-8c2adb073b89",
   "metadata": {},
   "source": [
    "\n",
    "Each join links the `product_sales_table` with another table using a specific column (e.g., `customerid`, `productid`, `salespersonid`, `storeid`). These joins effectively combine data from multiple tables into a single dataset, allowing for more comprehensive analysis within the Atoti session."
   ]
  },
  {
   "cell_type": "code",
   "execution_count": 13,
   "id": "86b33b06-6faf-4951-af83-b8c16ec381e4",
   "metadata": {},
   "outputs": [],
   "source": [
    "product_sales_table.join(stores_table, product_sales_table[\"storeid\"] == stores_table[\"storeid\"])"
   ]
  },
  {
   "cell_type": "markdown",
   "id": "6f4a9461-4aee-422f-81ef-c820196eddb5",
   "metadata": {},
   "source": [
    "## Draw a Schema"
   ]
  },
  {
   "cell_type": "code",
   "execution_count": 14,
   "id": "11350840-0849-45ec-9b28-a535b5aa8975",
   "metadata": {},
   "outputs": [
    {
     "data": {
      "text/markdown": [
       "```mermaid\n",
       "erDiagram\n",
       "  \"Customer\" {\n",
       "    _ int PK \"customerid\"\n",
       "    _ String \"customeraltid\"\n",
       "    _ String \"customername\"\n",
       "    _ String \"gender\"\n",
       "  }\n",
       "  \"SalesPerson\" {\n",
       "    _ int PK \"salespersonid\"\n",
       "    _ String \"salespersonaltid\"\n",
       "    _ String \"salespersonname\"\n",
       "    nullable int \"storeid\"\n",
       "    _ String \"city\"\n",
       "    _ String \"state\"\n",
       "    _ String \"country\"\n",
       "  }\n",
       "  \"Product\" {\n",
       "    _ int PK \"productkey\"\n",
       "    _ String \"productaltkey\"\n",
       "    _ String \"productname\"\n",
       "    nullable double \"productactualcost\"\n",
       "    nullable double \"productsalescost\"\n",
       "  }\n",
       "  \"Stores\" {\n",
       "    _ int PK \"storeid\"\n",
       "    _ String \"storealtid\"\n",
       "    _ String \"storename\"\n",
       "    _ String \"storelocation\"\n",
       "    _ String \"city\"\n",
       "    _ String \"state\"\n",
       "    _ String \"country\"\n",
       "  }\n",
       "  \"ProductSales\" {\n",
       "    _ long PK \"transactionid\"\n",
       "    nullable int \"salesinvoicenumber\"\n",
       "    nullable int \"storeid\"\n",
       "    nullable int \"customerid\"\n",
       "    nullable int \"productid\"\n",
       "    nullable int \"salespersonid\"\n",
       "    nullable double \"quantity\"\n",
       "    nullable double \"salestotalcost\"\n",
       "    nullable double \"productactualcost\"\n",
       "    nullable double \"deviation\"\n",
       "  }\n",
       "  \"ProductSales\" }o--o| \"Product\" : \"`productid` == `productkey`\"\n",
       "  \"ProductSales\" }o--o| \"Customer\" : \"`customerid` == `customerid`\"\n",
       "  \"ProductSales\" }o--o| \"SalesPerson\" : \"`salespersonid` == `salespersonid`\"\n",
       "  \"ProductSales\" }o--o| \"Stores\" : \"`storeid` == `storeid`\"\n",
       "```\n"
      ],
      "text/plain": [
       "erDiagram\n",
       "  \"Customer\" {\n",
       "    _ int PK \"customerid\"\n",
       "    _ String \"customeraltid\"\n",
       "    _ String \"customername\"\n",
       "    _ String \"gender\"\n",
       "  }\n",
       "  \"SalesPerson\" {\n",
       "    _ int PK \"salespersonid\"\n",
       "    _ String \"salespersonaltid\"\n",
       "    _ String \"salespersonname\"\n",
       "    nullable int \"storeid\"\n",
       "    _ String \"city\"\n",
       "    _ String \"state\"\n",
       "    _ String \"country\"\n",
       "  }\n",
       "  \"Product\" {\n",
       "    _ int PK \"productkey\"\n",
       "    _ String \"productaltkey\"\n",
       "    _ String \"productname\"\n",
       "    nullable double \"productactualcost\"\n",
       "    nullable double \"productsalescost\"\n",
       "  }\n",
       "  \"Stores\" {\n",
       "    _ int PK \"storeid\"\n",
       "    _ String \"storealtid\"\n",
       "    _ String \"storename\"\n",
       "    _ String \"storelocation\"\n",
       "    _ String \"city\"\n",
       "    _ String \"state\"\n",
       "    _ String \"country\"\n",
       "  }\n",
       "  \"ProductSales\" {\n",
       "    _ long PK \"transactionid\"\n",
       "    nullable int \"salesinvoicenumber\"\n",
       "    nullable int \"storeid\"\n",
       "    nullable int \"customerid\"\n",
       "    nullable int \"productid\"\n",
       "    nullable int \"salespersonid\"\n",
       "    nullable double \"quantity\"\n",
       "    nullable double \"salestotalcost\"\n",
       "    nullable double \"productactualcost\"\n",
       "    nullable double \"deviation\"\n",
       "  }\n",
       "  \"ProductSales\" }o--o| \"Product\" : \"`productid` == `productkey`\"\n",
       "  \"ProductSales\" }o--o| \"Customer\" : \"`customerid` == `customerid`\"\n",
       "  \"ProductSales\" }o--o| \"SalesPerson\" : \"`salespersonid` == `salespersonid`\"\n",
       "  \"ProductSales\" }o--o| \"Stores\" : \"`storeid` == `storeid`\""
      ]
     },
     "execution_count": 14,
     "metadata": {},
     "output_type": "execute_result"
    }
   ],
   "source": [
    "session.tables.schema"
   ]
  },
  {
   "cell_type": "code",
   "execution_count": 15,
   "id": "cef318a0-52c2-4c1a-a1c0-295b966aa4cf",
   "metadata": {},
   "outputs": [],
   "source": [
    "cube = session.create_cube(product_sales_table)"
   ]
  },
  {
   "cell_type": "code",
   "execution_count": 16,
   "id": "16e2c037-0119-4732-b927-df06479addd9",
   "metadata": {},
   "outputs": [
    {
     "data": {
      "application/json": {
       "Dimensions": {
        "Customer": {
         "customeraltid": [
          "customeraltid"
         ],
         "customername": [
          "customername"
         ],
         "gender": [
          "gender"
         ]
        },
        "Product": {
         "productaltkey": [
          "productaltkey"
         ],
         "productname": [
          "productname"
         ]
        },
        "ProductSales": {
         "transactionid": [
          "transactionid"
         ]
        },
        "SalesPerson": {
         "city": [
          "city"
         ],
         "country": [
          "country"
         ],
         "salespersonaltid": [
          "salespersonaltid"
         ],
         "salespersonname": [
          "salespersonname"
         ],
         "state": [
          "state"
         ]
        },
        "Stores": {
         "city": [
          "city"
         ],
         "country": [
          "country"
         ],
         "state": [
          "state"
         ],
         "storealtid": [
          "storealtid"
         ],
         "storelocation": [
          "storelocation"
         ],
         "storename": [
          "storename"
         ]
        }
       },
       "Measures": {
        "contributors.COUNT": {
         "formatter": "INT[#,###]"
        },
        "customerid.MEAN": {
         "formatter": "DOUBLE[#,###.00]"
        },
        "customerid.SUM": {
         "formatter": "INT[#,###]"
        },
        "deviation.MEAN": {
         "formatter": "DOUBLE[#,###.00]"
        },
        "deviation.SUM": {
         "formatter": "DOUBLE[#,###.00]"
        },
        "productactualcost.MEAN": {
         "formatter": "DOUBLE[#,###.00]"
        },
        "productactualcost.SUM": {
         "formatter": "DOUBLE[#,###.00]"
        },
        "productid.MEAN": {
         "formatter": "DOUBLE[#,###.00]"
        },
        "productid.SUM": {
         "formatter": "INT[#,###]"
        },
        "quantity.MEAN": {
         "formatter": "DOUBLE[#,###.00]"
        },
        "quantity.SUM": {
         "formatter": "DOUBLE[#,###.00]"
        },
        "salesinvoicenumber.MEAN": {
         "formatter": "DOUBLE[#,###.00]"
        },
        "salesinvoicenumber.SUM": {
         "formatter": "INT[#,###]"
        },
        "salespersonid.MEAN": {
         "formatter": "DOUBLE[#,###.00]"
        },
        "salespersonid.SUM": {
         "formatter": "INT[#,###]"
        },
        "salestotalcost.MEAN": {
         "formatter": "DOUBLE[#,###.00]"
        },
        "salestotalcost.SUM": {
         "formatter": "DOUBLE[#,###.00]"
        },
        "storeid.MEAN": {
         "formatter": "DOUBLE[#,###.00]"
        },
        "storeid.SUM": {
         "formatter": "INT[#,###]"
        }
       }
      },
      "text/html": [
       "<ul>\n",
       "<li>ProductSales\n",
       "  <ul>\n",
       "  <li>Dimensions\n",
       "    <ul>\n",
       "    <li>Customer\n",
       "      <ul>\n",
       "      <li>customeraltid\n",
       "        <ol>\n",
       "        <li>customeraltid</li>\n",
       "        </ol>      </li>\n",
       "      <li>customername\n",
       "        <ol>\n",
       "        <li>customername</li>\n",
       "        </ol>      </li>\n",
       "      <li>gender\n",
       "        <ol>\n",
       "        <li>gender</li>\n",
       "        </ol>      </li>\n",
       "      </ul>\n",
       "    </li>\n",
       "    <li>Product\n",
       "      <ul>\n",
       "      <li>productaltkey\n",
       "        <ol>\n",
       "        <li>productaltkey</li>\n",
       "        </ol>      </li>\n",
       "      <li>productname\n",
       "        <ol>\n",
       "        <li>productname</li>\n",
       "        </ol>      </li>\n",
       "      </ul>\n",
       "    </li>\n",
       "    <li>ProductSales\n",
       "      <ul>\n",
       "      <li>transactionid\n",
       "        <ol>\n",
       "        <li>transactionid</li>\n",
       "        </ol>      </li>\n",
       "      </ul>\n",
       "    </li>\n",
       "    <li>SalesPerson\n",
       "      <ul>\n",
       "      <li>city\n",
       "        <ol>\n",
       "        <li>city</li>\n",
       "        </ol>      </li>\n",
       "      <li>country\n",
       "        <ol>\n",
       "        <li>country</li>\n",
       "        </ol>      </li>\n",
       "      <li>salespersonaltid\n",
       "        <ol>\n",
       "        <li>salespersonaltid</li>\n",
       "        </ol>      </li>\n",
       "      <li>salespersonname\n",
       "        <ol>\n",
       "        <li>salespersonname</li>\n",
       "        </ol>      </li>\n",
       "      <li>state\n",
       "        <ol>\n",
       "        <li>state</li>\n",
       "        </ol>      </li>\n",
       "      </ul>\n",
       "    </li>\n",
       "    <li>Stores\n",
       "      <ul>\n",
       "      <li>city\n",
       "        <ol>\n",
       "        <li>city</li>\n",
       "        </ol>      </li>\n",
       "      <li>country\n",
       "        <ol>\n",
       "        <li>country</li>\n",
       "        </ol>      </li>\n",
       "      <li>state\n",
       "        <ol>\n",
       "        <li>state</li>\n",
       "        </ol>      </li>\n",
       "      <li>storealtid\n",
       "        <ol>\n",
       "        <li>storealtid</li>\n",
       "        </ol>      </li>\n",
       "      <li>storelocation\n",
       "        <ol>\n",
       "        <li>storelocation</li>\n",
       "        </ol>      </li>\n",
       "      <li>storename\n",
       "        <ol>\n",
       "        <li>storename</li>\n",
       "        </ol>      </li>\n",
       "      </ul>\n",
       "    </li>\n",
       "    </ul>\n",
       "  </li>\n",
       "  <li>Measures\n",
       "    <ul>\n",
       "    <li>contributors.COUNT\n",
       "      <ul>\n",
       "      <li>formatter: INT[#,###]</li>\n",
       "      </ul>\n",
       "    </li>\n",
       "    <li>customerid.MEAN\n",
       "      <ul>\n",
       "      <li>formatter: DOUBLE[#,###.00]</li>\n",
       "      </ul>\n",
       "    </li>\n",
       "    <li>customerid.SUM\n",
       "      <ul>\n",
       "      <li>formatter: INT[#,###]</li>\n",
       "      </ul>\n",
       "    </li>\n",
       "    <li>deviation.MEAN\n",
       "      <ul>\n",
       "      <li>formatter: DOUBLE[#,###.00]</li>\n",
       "      </ul>\n",
       "    </li>\n",
       "    <li>deviation.SUM\n",
       "      <ul>\n",
       "      <li>formatter: DOUBLE[#,###.00]</li>\n",
       "      </ul>\n",
       "    </li>\n",
       "    <li>productactualcost.MEAN\n",
       "      <ul>\n",
       "      <li>formatter: DOUBLE[#,###.00]</li>\n",
       "      </ul>\n",
       "    </li>\n",
       "    <li>productactualcost.SUM\n",
       "      <ul>\n",
       "      <li>formatter: DOUBLE[#,###.00]</li>\n",
       "      </ul>\n",
       "    </li>\n",
       "    <li>productid.MEAN\n",
       "      <ul>\n",
       "      <li>formatter: DOUBLE[#,###.00]</li>\n",
       "      </ul>\n",
       "    </li>\n",
       "    <li>productid.SUM\n",
       "      <ul>\n",
       "      <li>formatter: INT[#,###]</li>\n",
       "      </ul>\n",
       "    </li>\n",
       "    <li>quantity.MEAN\n",
       "      <ul>\n",
       "      <li>formatter: DOUBLE[#,###.00]</li>\n",
       "      </ul>\n",
       "    </li>\n",
       "    <li>quantity.SUM\n",
       "      <ul>\n",
       "      <li>formatter: DOUBLE[#,###.00]</li>\n",
       "      </ul>\n",
       "    </li>\n",
       "    <li>salesinvoicenumber.MEAN\n",
       "      <ul>\n",
       "      <li>formatter: DOUBLE[#,###.00]</li>\n",
       "      </ul>\n",
       "    </li>\n",
       "    <li>salesinvoicenumber.SUM\n",
       "      <ul>\n",
       "      <li>formatter: INT[#,###]</li>\n",
       "      </ul>\n",
       "    </li>\n",
       "    <li>salespersonid.MEAN\n",
       "      <ul>\n",
       "      <li>formatter: DOUBLE[#,###.00]</li>\n",
       "      </ul>\n",
       "    </li>\n",
       "    <li>salespersonid.SUM\n",
       "      <ul>\n",
       "      <li>formatter: INT[#,###]</li>\n",
       "      </ul>\n",
       "    </li>\n",
       "    <li>salestotalcost.MEAN\n",
       "      <ul>\n",
       "      <li>formatter: DOUBLE[#,###.00]</li>\n",
       "      </ul>\n",
       "    </li>\n",
       "    <li>salestotalcost.SUM\n",
       "      <ul>\n",
       "      <li>formatter: DOUBLE[#,###.00]</li>\n",
       "      </ul>\n",
       "    </li>\n",
       "    <li>storeid.MEAN\n",
       "      <ul>\n",
       "      <li>formatter: DOUBLE[#,###.00]</li>\n",
       "      </ul>\n",
       "    </li>\n",
       "    <li>storeid.SUM\n",
       "      <ul>\n",
       "      <li>formatter: INT[#,###]</li>\n",
       "      </ul>\n",
       "    </li>\n",
       "    </ul>\n",
       "  </li>\n",
       "  </ul>\n",
       "</li>\n",
       "</ul>\n"
      ],
      "text/plain": [
       "<atoti.cube.Cube at 0x7fffb04c7a90>"
      ]
     },
     "execution_count": 16,
     "metadata": {
      "application/json": {
       "expanded": false,
       "root": "ProductSales"
      }
     },
     "output_type": "execute_result"
    }
   ],
   "source": [
    "cube"
   ]
  },
  {
   "cell_type": "code",
   "execution_count": 17,
   "id": "6cf0fe21-c3fb-4b65-9965-065de9277395",
   "metadata": {},
   "outputs": [],
   "source": [
    "hierarchies, levels, measures = cube.hierarchies, cube.levels, cube.measures"
   ]
  },
  {
   "cell_type": "markdown",
   "id": "eee3251c-aca9-44ed-87de-6b7573a369ac",
   "metadata": {},
   "source": [
    "In data warehousing, levels and hierarchies are fundamental concepts used to organize and structure data within dimensional models. Here's a breakdown of each concept:\n",
    "\n",
    "1. **Levels**:\n",
    "   - In the context of data warehousing, a \"level\" refers to a specific position within a hierarchy.\n",
    "   - Levels represent the different granularities or degrees of detail within a dimension.\n",
    "   - For example, in a time dimension, levels could include Year, Quarter, Month, Week, and Day. Each level represents a different level of granularity or detail within the time dimension.\n",
    "\n",
    "2. **Hierarchies**:\n",
    "   - A \"hierarchy\" represents the logical structure that arranges levels in a specific order or relationship.\n",
    "   - Hierarchies define the parent-child relationships between different levels within a dimension.\n",
    "   - Typically, hierarchies have a top-down structure, with higher levels encompassing lower levels.\n",
    "   - In a time dimension, for instance, the Year level would be at the top of the hierarchy, followed by Quarter, Month, Week, and Day levels, with each level being subordinate to the one above it.\n",
    "\n",
    "In summary, levels represent the individual positions or granularities within a dimension, while hierarchies define the logical relationships and order among these levels. Together, levels and hierarchies provide a structured way to organize and analyze data within dimensional models, facilitating efficient querying and reporting in data warehousing environments."
   ]
  },
  {
   "cell_type": "code",
   "execution_count": 18,
   "id": "e619517c-2f79-4169-b201-64fbff5d418e",
   "metadata": {},
   "outputs": [
    {
     "data": {
      "application/json": {
       "Customer": {
        "customeraltid": [
         "customeraltid"
        ],
        "customername": [
         "customername"
        ],
        "gender": [
         "gender"
        ]
       },
       "Product": {
        "productaltkey": [
         "productaltkey"
        ],
        "productname": [
         "productname"
        ]
       },
       "ProductSales": {
        "transactionid": [
         "transactionid"
        ]
       },
       "SalesPerson": {
        "city": [
         "city"
        ],
        "country": [
         "country"
        ],
        "salespersonaltid": [
         "salespersonaltid"
        ],
        "salespersonname": [
         "salespersonname"
        ],
        "state": [
         "state"
        ]
       },
       "Stores": {
        "city": [
         "city"
        ],
        "country": [
         "country"
        ],
        "state": [
         "state"
        ],
        "storealtid": [
         "storealtid"
        ],
        "storelocation": [
         "storelocation"
        ],
        "storename": [
         "storename"
        ]
       }
      },
      "text/html": [
       "<ul>\n",
       "<li>Dimensions\n",
       "  <ul>\n",
       "  <li>Customer\n",
       "    <ul>\n",
       "    <li>customeraltid\n",
       "      <ol>\n",
       "      <li>customeraltid</li>\n",
       "      </ol>    </li>\n",
       "    <li>customername\n",
       "      <ol>\n",
       "      <li>customername</li>\n",
       "      </ol>    </li>\n",
       "    <li>gender\n",
       "      <ol>\n",
       "      <li>gender</li>\n",
       "      </ol>    </li>\n",
       "    </ul>\n",
       "  </li>\n",
       "  <li>Product\n",
       "    <ul>\n",
       "    <li>productaltkey\n",
       "      <ol>\n",
       "      <li>productaltkey</li>\n",
       "      </ol>    </li>\n",
       "    <li>productname\n",
       "      <ol>\n",
       "      <li>productname</li>\n",
       "      </ol>    </li>\n",
       "    </ul>\n",
       "  </li>\n",
       "  <li>ProductSales\n",
       "    <ul>\n",
       "    <li>transactionid\n",
       "      <ol>\n",
       "      <li>transactionid</li>\n",
       "      </ol>    </li>\n",
       "    </ul>\n",
       "  </li>\n",
       "  <li>SalesPerson\n",
       "    <ul>\n",
       "    <li>city\n",
       "      <ol>\n",
       "      <li>city</li>\n",
       "      </ol>    </li>\n",
       "    <li>country\n",
       "      <ol>\n",
       "      <li>country</li>\n",
       "      </ol>    </li>\n",
       "    <li>salespersonaltid\n",
       "      <ol>\n",
       "      <li>salespersonaltid</li>\n",
       "      </ol>    </li>\n",
       "    <li>salespersonname\n",
       "      <ol>\n",
       "      <li>salespersonname</li>\n",
       "      </ol>    </li>\n",
       "    <li>state\n",
       "      <ol>\n",
       "      <li>state</li>\n",
       "      </ol>    </li>\n",
       "    </ul>\n",
       "  </li>\n",
       "  <li>Stores\n",
       "    <ul>\n",
       "    <li>city\n",
       "      <ol>\n",
       "      <li>city</li>\n",
       "      </ol>    </li>\n",
       "    <li>country\n",
       "      <ol>\n",
       "      <li>country</li>\n",
       "      </ol>    </li>\n",
       "    <li>state\n",
       "      <ol>\n",
       "      <li>state</li>\n",
       "      </ol>    </li>\n",
       "    <li>storealtid\n",
       "      <ol>\n",
       "      <li>storealtid</li>\n",
       "      </ol>    </li>\n",
       "    <li>storelocation\n",
       "      <ol>\n",
       "      <li>storelocation</li>\n",
       "      </ol>    </li>\n",
       "    <li>storename\n",
       "      <ol>\n",
       "      <li>storename</li>\n",
       "      </ol>    </li>\n",
       "    </ul>\n",
       "  </li>\n",
       "  </ul>\n",
       "</li>\n",
       "</ul>\n"
      ],
      "text/plain": [
       "{('Stores', 'storename'): <atoti.hierarchy.Hierarchy object at 0x7fffb04ea650>, ('Stores', 'state'): <atoti.hierarchy.Hierarchy object at 0x7fffb0502810>, ('Product', 'productname'): <atoti.hierarchy.Hierarchy object at 0x7fffb0502950>, ('SalesPerson', 'city'): <atoti.hierarchy.Hierarchy object at 0x7fffb0502a50>, ('Product', 'productaltkey'): <atoti.hierarchy.Hierarchy object at 0x7fffb0502b50>, ('SalesPerson', 'salespersonaltid'): <atoti.hierarchy.Hierarchy object at 0x7fffb0502c50>, ('Stores', 'storealtid'): <atoti.hierarchy.Hierarchy object at 0x7fffb0502d90>, ('Stores', 'city'): <atoti.hierarchy.Hierarchy object at 0x7fffb0502ed0>, ('ProductSales', 'transactionid'): <atoti.hierarchy.Hierarchy object at 0x7fffb0503010>, ('Customer', 'customername'): <atoti.hierarchy.Hierarchy object at 0x7fffb0503150>, ('SalesPerson', 'salespersonname'): <atoti.hierarchy.Hierarchy object at 0x7fffb0503290>, ('SalesPerson', 'country'): <atoti.hierarchy.Hierarchy object at 0x7fffb05033d0>, ('Customer', 'customeraltid'): <atoti.hierarchy.Hierarchy object at 0x7fffb0503510>, ('Stores', 'storelocation'): <atoti.hierarchy.Hierarchy object at 0x7fffb0503650>, ('SalesPerson', 'state'): <atoti.hierarchy.Hierarchy object at 0x7fffb0503790>, ('Stores', 'country'): <atoti.hierarchy.Hierarchy object at 0x7fffb05038d0>, ('Customer', 'gender'): <atoti.hierarchy.Hierarchy object at 0x7fffb0503a10>}"
      ]
     },
     "execution_count": 18,
     "metadata": {
      "application/json": {
       "expanded": true,
       "root": "Dimensions"
      }
     },
     "output_type": "execute_result"
    }
   ],
   "source": [
    "# original hierarchies\n",
    "hierarchies"
   ]
  },
  {
   "cell_type": "code",
   "execution_count": 19,
   "id": "dd91e63e-43f5-46bf-8e0d-8da58157f852",
   "metadata": {},
   "outputs": [
    {
     "data": {
      "application/json": {
       "city (SalesPerson/city/city)": {
        "dimension": "SalesPerson",
        "hierarchy": "city",
        "order": "NaturalOrder",
        "type": "String"
       },
       "city (Stores/city/city)": {
        "dimension": "Stores",
        "hierarchy": "city",
        "order": "NaturalOrder",
        "type": "String"
       },
       "country (SalesPerson/country/country)": {
        "dimension": "SalesPerson",
        "hierarchy": "country",
        "order": "NaturalOrder",
        "type": "String"
       },
       "country (Stores/country/country)": {
        "dimension": "Stores",
        "hierarchy": "country",
        "order": "NaturalOrder",
        "type": "String"
       },
       "customeraltid (Customer/customeraltid/customeraltid)": {
        "dimension": "Customer",
        "hierarchy": "customeraltid",
        "order": "NaturalOrder",
        "type": "String"
       },
       "customername (Customer/customername/customername)": {
        "dimension": "Customer",
        "hierarchy": "customername",
        "order": "NaturalOrder",
        "type": "String"
       },
       "gender (Customer/gender/gender)": {
        "dimension": "Customer",
        "hierarchy": "gender",
        "order": "NaturalOrder",
        "type": "String"
       },
       "productaltkey (Product/productaltkey/productaltkey)": {
        "dimension": "Product",
        "hierarchy": "productaltkey",
        "order": "NaturalOrder",
        "type": "String"
       },
       "productname (Product/productname/productname)": {
        "dimension": "Product",
        "hierarchy": "productname",
        "order": "NaturalOrder",
        "type": "String"
       },
       "salespersonaltid (SalesPerson/salespersonaltid/salespersonaltid)": {
        "dimension": "SalesPerson",
        "hierarchy": "salespersonaltid",
        "order": "NaturalOrder",
        "type": "String"
       },
       "salespersonname (SalesPerson/salespersonname/salespersonname)": {
        "dimension": "SalesPerson",
        "hierarchy": "salespersonname",
        "order": "NaturalOrder",
        "type": "String"
       },
       "state (SalesPerson/state/state)": {
        "dimension": "SalesPerson",
        "hierarchy": "state",
        "order": "NaturalOrder",
        "type": "String"
       },
       "state (Stores/state/state)": {
        "dimension": "Stores",
        "hierarchy": "state",
        "order": "NaturalOrder",
        "type": "String"
       },
       "storealtid (Stores/storealtid/storealtid)": {
        "dimension": "Stores",
        "hierarchy": "storealtid",
        "order": "NaturalOrder",
        "type": "String"
       },
       "storelocation (Stores/storelocation/storelocation)": {
        "dimension": "Stores",
        "hierarchy": "storelocation",
        "order": "NaturalOrder",
        "type": "String"
       },
       "storename (Stores/storename/storename)": {
        "dimension": "Stores",
        "hierarchy": "storename",
        "order": "NaturalOrder",
        "type": "String"
       },
       "transactionid (ProductSales/transactionid/transactionid)": {
        "dimension": "ProductSales",
        "hierarchy": "transactionid",
        "order": "NaturalOrder",
        "type": "long"
       }
      },
      "text/html": [
       "<ul>\n",
       "<li>Levels\n",
       "  <ul>\n",
       "  <li>city (SalesPerson/city/city)\n",
       "    <ul>\n",
       "    <li>dimension: SalesPerson</li>\n",
       "    <li>hierarchy: city</li>\n",
       "    <li>type: String</li>\n",
       "    <li>order: NaturalOrder</li>\n",
       "    </ul>\n",
       "  </li>\n",
       "  <li>city (Stores/city/city)\n",
       "    <ul>\n",
       "    <li>dimension: Stores</li>\n",
       "    <li>hierarchy: city</li>\n",
       "    <li>type: String</li>\n",
       "    <li>order: NaturalOrder</li>\n",
       "    </ul>\n",
       "  </li>\n",
       "  <li>country (SalesPerson/country/country)\n",
       "    <ul>\n",
       "    <li>dimension: SalesPerson</li>\n",
       "    <li>hierarchy: country</li>\n",
       "    <li>type: String</li>\n",
       "    <li>order: NaturalOrder</li>\n",
       "    </ul>\n",
       "  </li>\n",
       "  <li>country (Stores/country/country)\n",
       "    <ul>\n",
       "    <li>dimension: Stores</li>\n",
       "    <li>hierarchy: country</li>\n",
       "    <li>type: String</li>\n",
       "    <li>order: NaturalOrder</li>\n",
       "    </ul>\n",
       "  </li>\n",
       "  <li>customeraltid (Customer/customeraltid/customeraltid)\n",
       "    <ul>\n",
       "    <li>dimension: Customer</li>\n",
       "    <li>hierarchy: customeraltid</li>\n",
       "    <li>type: String</li>\n",
       "    <li>order: NaturalOrder</li>\n",
       "    </ul>\n",
       "  </li>\n",
       "  <li>customername (Customer/customername/customername)\n",
       "    <ul>\n",
       "    <li>dimension: Customer</li>\n",
       "    <li>hierarchy: customername</li>\n",
       "    <li>type: String</li>\n",
       "    <li>order: NaturalOrder</li>\n",
       "    </ul>\n",
       "  </li>\n",
       "  <li>gender (Customer/gender/gender)\n",
       "    <ul>\n",
       "    <li>dimension: Customer</li>\n",
       "    <li>hierarchy: gender</li>\n",
       "    <li>type: String</li>\n",
       "    <li>order: NaturalOrder</li>\n",
       "    </ul>\n",
       "  </li>\n",
       "  <li>productaltkey (Product/productaltkey/productaltkey)\n",
       "    <ul>\n",
       "    <li>dimension: Product</li>\n",
       "    <li>hierarchy: productaltkey</li>\n",
       "    <li>type: String</li>\n",
       "    <li>order: NaturalOrder</li>\n",
       "    </ul>\n",
       "  </li>\n",
       "  <li>productname (Product/productname/productname)\n",
       "    <ul>\n",
       "    <li>dimension: Product</li>\n",
       "    <li>hierarchy: productname</li>\n",
       "    <li>type: String</li>\n",
       "    <li>order: NaturalOrder</li>\n",
       "    </ul>\n",
       "  </li>\n",
       "  <li>salespersonaltid (SalesPerson/salespersonaltid/salespersonaltid)\n",
       "    <ul>\n",
       "    <li>dimension: SalesPerson</li>\n",
       "    <li>hierarchy: salespersonaltid</li>\n",
       "    <li>type: String</li>\n",
       "    <li>order: NaturalOrder</li>\n",
       "    </ul>\n",
       "  </li>\n",
       "  <li>salespersonname (SalesPerson/salespersonname/salespersonname)\n",
       "    <ul>\n",
       "    <li>dimension: SalesPerson</li>\n",
       "    <li>hierarchy: salespersonname</li>\n",
       "    <li>type: String</li>\n",
       "    <li>order: NaturalOrder</li>\n",
       "    </ul>\n",
       "  </li>\n",
       "  <li>state (SalesPerson/state/state)\n",
       "    <ul>\n",
       "    <li>dimension: SalesPerson</li>\n",
       "    <li>hierarchy: state</li>\n",
       "    <li>type: String</li>\n",
       "    <li>order: NaturalOrder</li>\n",
       "    </ul>\n",
       "  </li>\n",
       "  <li>state (Stores/state/state)\n",
       "    <ul>\n",
       "    <li>dimension: Stores</li>\n",
       "    <li>hierarchy: state</li>\n",
       "    <li>type: String</li>\n",
       "    <li>order: NaturalOrder</li>\n",
       "    </ul>\n",
       "  </li>\n",
       "  <li>storealtid (Stores/storealtid/storealtid)\n",
       "    <ul>\n",
       "    <li>dimension: Stores</li>\n",
       "    <li>hierarchy: storealtid</li>\n",
       "    <li>type: String</li>\n",
       "    <li>order: NaturalOrder</li>\n",
       "    </ul>\n",
       "  </li>\n",
       "  <li>storelocation (Stores/storelocation/storelocation)\n",
       "    <ul>\n",
       "    <li>dimension: Stores</li>\n",
       "    <li>hierarchy: storelocation</li>\n",
       "    <li>type: String</li>\n",
       "    <li>order: NaturalOrder</li>\n",
       "    </ul>\n",
       "  </li>\n",
       "  <li>storename (Stores/storename/storename)\n",
       "    <ul>\n",
       "    <li>dimension: Stores</li>\n",
       "    <li>hierarchy: storename</li>\n",
       "    <li>type: String</li>\n",
       "    <li>order: NaturalOrder</li>\n",
       "    </ul>\n",
       "  </li>\n",
       "  <li>transactionid (ProductSales/transactionid/transactionid)\n",
       "    <ul>\n",
       "    <li>dimension: ProductSales</li>\n",
       "    <li>hierarchy: transactionid</li>\n",
       "    <li>type: long</li>\n",
       "    <li>order: NaturalOrder</li>\n",
       "    </ul>\n",
       "  </li>\n",
       "  </ul>\n",
       "</li>\n",
       "</ul>\n"
      ],
      "text/plain": [
       "<atoti.levels.Levels at 0x7fffb04c7490>"
      ]
     },
     "execution_count": 19,
     "metadata": {
      "application/json": {
       "expanded": true,
       "root": "Levels"
      }
     },
     "output_type": "execute_result"
    }
   ],
   "source": [
    "# original levels\n",
    "levels"
   ]
  },
  {
   "cell_type": "code",
   "execution_count": 20,
   "id": "8b013aca-3857-4909-a210-7d7401a55bd0",
   "metadata": {},
   "outputs": [
    {
     "data": {
      "application/json": {
       "city (SalesPerson/city/city)": {
        "dimension": "SalesPerson",
        "hierarchy": "city",
        "order": "NaturalOrder",
        "type": "String"
       },
       "city (Stores/city/city)": {
        "dimension": "Stores",
        "hierarchy": "city",
        "order": "NaturalOrder",
        "type": "String"
       },
       "country (SalesPerson/country/country)": {
        "dimension": "SalesPerson",
        "hierarchy": "country",
        "order": "NaturalOrder",
        "type": "String"
       },
       "country (Stores/country/country)": {
        "dimension": "Stores",
        "hierarchy": "country",
        "order": "NaturalOrder",
        "type": "String"
       },
       "customeraltid (Customer/customeraltid/customeraltid)": {
        "dimension": "Customer",
        "hierarchy": "customeraltid",
        "order": "NaturalOrder",
        "type": "String"
       },
       "customername (Customer/customername/customername)": {
        "dimension": "Customer",
        "hierarchy": "customername",
        "order": "NaturalOrder",
        "type": "String"
       },
       "gender (Customer/gender/gender)": {
        "dimension": "Customer",
        "hierarchy": "gender",
        "order": "NaturalOrder",
        "type": "String"
       },
       "productaltkey (Product/productaltkey/productaltkey)": {
        "dimension": "Product",
        "hierarchy": "productaltkey",
        "order": "NaturalOrder",
        "type": "String"
       },
       "productname (Product/productname/productname)": {
        "dimension": "Product",
        "hierarchy": "productname",
        "order": "NaturalOrder",
        "type": "String"
       },
       "salespersonaltid (SalesPerson/salespersonaltid/salespersonaltid)": {
        "dimension": "SalesPerson",
        "hierarchy": "salespersonaltid",
        "order": "NaturalOrder",
        "type": "String"
       },
       "salespersonname (SalesPerson/salespersonname/salespersonname)": {
        "dimension": "SalesPerson",
        "hierarchy": "salespersonname",
        "order": "NaturalOrder",
        "type": "String"
       },
       "state (SalesPerson/state/state)": {
        "dimension": "SalesPerson",
        "hierarchy": "state",
        "order": "NaturalOrder",
        "type": "String"
       },
       "state (Stores/state/state)": {
        "dimension": "Stores",
        "hierarchy": "state",
        "order": "NaturalOrder",
        "type": "String"
       },
       "storealtid (Stores/storealtid/storealtid)": {
        "dimension": "Stores",
        "hierarchy": "storealtid",
        "order": "NaturalOrder",
        "type": "String"
       },
       "storelocation (Stores/storelocation/storelocation)": {
        "dimension": "Stores",
        "hierarchy": "storelocation",
        "order": "NaturalOrder",
        "type": "String"
       },
       "storename (Stores/storename/storename)": {
        "dimension": "Stores",
        "hierarchy": "storename",
        "order": "NaturalOrder",
        "type": "String"
       },
       "transactionid (ProductSales/transactionid/transactionid)": {
        "dimension": "ProductSales",
        "hierarchy": "transactionid",
        "order": "NaturalOrder",
        "type": "long"
       }
      },
      "text/html": [
       "<ul>\n",
       "<li>Levels\n",
       "  <ul>\n",
       "  <li>city (SalesPerson/city/city)\n",
       "    <ul>\n",
       "    <li>dimension: SalesPerson</li>\n",
       "    <li>hierarchy: city</li>\n",
       "    <li>type: String</li>\n",
       "    <li>order: NaturalOrder</li>\n",
       "    </ul>\n",
       "  </li>\n",
       "  <li>city (Stores/city/city)\n",
       "    <ul>\n",
       "    <li>dimension: Stores</li>\n",
       "    <li>hierarchy: city</li>\n",
       "    <li>type: String</li>\n",
       "    <li>order: NaturalOrder</li>\n",
       "    </ul>\n",
       "  </li>\n",
       "  <li>country (SalesPerson/country/country)\n",
       "    <ul>\n",
       "    <li>dimension: SalesPerson</li>\n",
       "    <li>hierarchy: country</li>\n",
       "    <li>type: String</li>\n",
       "    <li>order: NaturalOrder</li>\n",
       "    </ul>\n",
       "  </li>\n",
       "  <li>country (Stores/country/country)\n",
       "    <ul>\n",
       "    <li>dimension: Stores</li>\n",
       "    <li>hierarchy: country</li>\n",
       "    <li>type: String</li>\n",
       "    <li>order: NaturalOrder</li>\n",
       "    </ul>\n",
       "  </li>\n",
       "  <li>customeraltid (Customer/customeraltid/customeraltid)\n",
       "    <ul>\n",
       "    <li>dimension: Customer</li>\n",
       "    <li>hierarchy: customeraltid</li>\n",
       "    <li>type: String</li>\n",
       "    <li>order: NaturalOrder</li>\n",
       "    </ul>\n",
       "  </li>\n",
       "  <li>customername (Customer/customername/customername)\n",
       "    <ul>\n",
       "    <li>dimension: Customer</li>\n",
       "    <li>hierarchy: customername</li>\n",
       "    <li>type: String</li>\n",
       "    <li>order: NaturalOrder</li>\n",
       "    </ul>\n",
       "  </li>\n",
       "  <li>gender (Customer/gender/gender)\n",
       "    <ul>\n",
       "    <li>dimension: Customer</li>\n",
       "    <li>hierarchy: gender</li>\n",
       "    <li>type: String</li>\n",
       "    <li>order: NaturalOrder</li>\n",
       "    </ul>\n",
       "  </li>\n",
       "  <li>productaltkey (Product/productaltkey/productaltkey)\n",
       "    <ul>\n",
       "    <li>dimension: Product</li>\n",
       "    <li>hierarchy: productaltkey</li>\n",
       "    <li>type: String</li>\n",
       "    <li>order: NaturalOrder</li>\n",
       "    </ul>\n",
       "  </li>\n",
       "  <li>productname (Product/productname/productname)\n",
       "    <ul>\n",
       "    <li>dimension: Product</li>\n",
       "    <li>hierarchy: productname</li>\n",
       "    <li>type: String</li>\n",
       "    <li>order: NaturalOrder</li>\n",
       "    </ul>\n",
       "  </li>\n",
       "  <li>salespersonaltid (SalesPerson/salespersonaltid/salespersonaltid)\n",
       "    <ul>\n",
       "    <li>dimension: SalesPerson</li>\n",
       "    <li>hierarchy: salespersonaltid</li>\n",
       "    <li>type: String</li>\n",
       "    <li>order: NaturalOrder</li>\n",
       "    </ul>\n",
       "  </li>\n",
       "  <li>salespersonname (SalesPerson/salespersonname/salespersonname)\n",
       "    <ul>\n",
       "    <li>dimension: SalesPerson</li>\n",
       "    <li>hierarchy: salespersonname</li>\n",
       "    <li>type: String</li>\n",
       "    <li>order: NaturalOrder</li>\n",
       "    </ul>\n",
       "  </li>\n",
       "  <li>state (SalesPerson/state/state)\n",
       "    <ul>\n",
       "    <li>dimension: SalesPerson</li>\n",
       "    <li>hierarchy: state</li>\n",
       "    <li>type: String</li>\n",
       "    <li>order: NaturalOrder</li>\n",
       "    </ul>\n",
       "  </li>\n",
       "  <li>state (Stores/state/state)\n",
       "    <ul>\n",
       "    <li>dimension: Stores</li>\n",
       "    <li>hierarchy: state</li>\n",
       "    <li>type: String</li>\n",
       "    <li>order: NaturalOrder</li>\n",
       "    </ul>\n",
       "  </li>\n",
       "  <li>storealtid (Stores/storealtid/storealtid)\n",
       "    <ul>\n",
       "    <li>dimension: Stores</li>\n",
       "    <li>hierarchy: storealtid</li>\n",
       "    <li>type: String</li>\n",
       "    <li>order: NaturalOrder</li>\n",
       "    </ul>\n",
       "  </li>\n",
       "  <li>storelocation (Stores/storelocation/storelocation)\n",
       "    <ul>\n",
       "    <li>dimension: Stores</li>\n",
       "    <li>hierarchy: storelocation</li>\n",
       "    <li>type: String</li>\n",
       "    <li>order: NaturalOrder</li>\n",
       "    </ul>\n",
       "  </li>\n",
       "  <li>storename (Stores/storename/storename)\n",
       "    <ul>\n",
       "    <li>dimension: Stores</li>\n",
       "    <li>hierarchy: storename</li>\n",
       "    <li>type: String</li>\n",
       "    <li>order: NaturalOrder</li>\n",
       "    </ul>\n",
       "  </li>\n",
       "  <li>transactionid (ProductSales/transactionid/transactionid)\n",
       "    <ul>\n",
       "    <li>dimension: ProductSales</li>\n",
       "    <li>hierarchy: transactionid</li>\n",
       "    <li>type: long</li>\n",
       "    <li>order: NaturalOrder</li>\n",
       "    </ul>\n",
       "  </li>\n",
       "  </ul>\n",
       "</li>\n",
       "</ul>\n"
      ],
      "text/plain": [
       "<atoti.levels.Levels at 0x7fffb04c7490>"
      ]
     },
     "execution_count": 20,
     "metadata": {
      "application/json": {
       "expanded": true,
       "root": "Levels"
      }
     },
     "output_type": "execute_result"
    }
   ],
   "source": [
    "levels"
   ]
  },
  {
   "cell_type": "code",
   "execution_count": 21,
   "id": "25f9d042-4f46-411d-ae5e-cf5503a8c212",
   "metadata": {},
   "outputs": [],
   "source": [
    "# dimensions\n",
    "# Customer: CustomerName, Gender\n",
    "# SalesPerson: SalesPersonName, City, State, Country\n",
    "# Product: ProductName\n",
    "# Store: StoreName, City, State"
   ]
  },
  {
   "cell_type": "code",
   "execution_count": 22,
   "id": "a1e60270-b699-4f79-82cd-8d114a7d843f",
   "metadata": {},
   "outputs": [],
   "source": [
    "hierarchies[\"Customer\"] = [levels[\"customername\"], levels[\"gender\"]]"
   ]
  },
  {
   "cell_type": "code",
   "execution_count": 23,
   "id": "7e33c4c5-a9c1-4724-8dd7-1e26d61d35ca",
   "metadata": {},
   "outputs": [],
   "source": [
    "hierarchies[\"Product\"] = [levels[\"productname\"]]"
   ]
  },
  {
   "cell_type": "code",
   "execution_count": 24,
   "id": "1eb03503-ca6d-49c6-bb59-f971aef72c31",
   "metadata": {},
   "outputs": [],
   "source": [
    "hierarchies[\"SalesPerson\"] = [levels[\"salespersonname\"], levels[('SalesPerson', 'city', 'city')],\n",
    "                              levels[('SalesPerson', 'state', 'state')], levels[('SalesPerson', 'country', 'country')]]"
   ]
  },
  {
   "cell_type": "code",
   "execution_count": 25,
   "id": "0caf22ae-3873-4699-89ed-0589a690a12f",
   "metadata": {},
   "outputs": [],
   "source": [
    "hierarchies[\"Stores\"] = [levels[('Stores', 'storename', 'storename')], levels[('Stores', 'city', 'city')],\n",
    "                         levels[('Stores', 'state', 'state')], levels[('Stores', 'country', 'country')]]"
   ]
  },
  {
   "cell_type": "markdown",
   "id": "078d58db-d126-4e7b-b3c0-ddace99e2fb3",
   "metadata": {},
   "source": [
    "1. **Customer Hierarchy**:\n",
    "   - This hierarchy has two levels: `gender` and `customername`. It suggests organizing customers based on their gender and then further subcategorizing them by their names.\n",
    "\n",
    "2. **Product Hierarchy**:\n",
    "   - This hierarchy seems to have only one level: `productname`. It implies organizing products solely based on their names.\n",
    "\n",
    "3. **SalesPerson Hierarchy**:\n",
    "   - This hierarchy is more complex and has multiple levels:\n",
    "     - `salespersonname`: Organizing salespersons by their names.\n",
    "     - `('SalesPerson', 'city', 'city')`: Organizing salespersons by the cities they operate in.\n",
    "     - `('SalesPerson', 'state', 'state')`: Organizing salespersons by the states they operate in.\n",
    "     - `('SalesPerson', 'country', 'country')`: Organizing salespersons by the countries they operate in.\n",
    "\n",
    "4. **Stores Hierarchy**:\n",
    "   - Similar to the SalesPerson hierarchy, this one also has multiple levels:\n",
    "     - `('Stores', 'storename', 'storename')`: Organizing stores by their names.\n",
    "     - `('Stores', 'city', 'city')`: Organizing stores by the cities they are located in.\n",
    "     - `('Stores', 'state', 'state')`: Organizing stores by the states they are located in.\n",
    "     - `('Stores', 'country', 'country')`: Organizing stores by the countries they are located in.\n",
    "\n",
    "These hierarchies define the logical relationships between different levels within each dimension. They provide a structured way to navigate and analyze data within the dimensional model, enabling efficient querying and reporting.\n"
   ]
  },
  {
   "cell_type": "markdown",
   "id": "71e4a1fc-b08a-46b2-9b88-021b94a7f8e1",
   "metadata": {},
   "source": [
    "In the hierarchy definition `('Stores', 'storename', 'storename')`, the repetition of the term `'storename'` might seem redundant at first glance, but it serves a purpose within the context of multidimensional modeling, particularly in tools like OLAP (Online Analytical Processing) or data warehousing systems. Let me explain:\n",
    "\n",
    "1. **Dimensionality Identification**:\n",
    "   - The first element `'Stores'` identifies the dimension to which the hierarchy belongs. This is crucial in multidimensional models where multiple dimensions are present, as it distinguishes which dimension this specific hierarchy belongs to.\n",
    "\n",
    "2. **Level Identification**:\n",
    "   - The second element `'storename'` is the name of the level within the hierarchy. It specifies the granularity or detail being represented at this level. In this case, it represents the name of the store.\n",
    "\n",
    "3. **Level Key**:\n",
    "   - The third element `'storename'` in the hierarchy definition serves as a key that uniquely identifies members at this level. This key is particularly useful in relational databases or OLAP systems for data retrieval and aggregation purposes. While it appears redundant, it helps explicitly define the attribute used to uniquely identify members at this level.\n",
    "\n",
    "So, the repetition of `'storename'` helps clarify that this is both the name of the level within the hierarchy and the key attribute used to uniquely identify members at this level. It's a common convention in multidimensional modeling to explicitly specify both the level name and its key attribute to avoid ambiguity and ensure clarity in the model definition."
   ]
  },
  {
   "cell_type": "code",
   "execution_count": 26,
   "id": "ce72cc29-6ad8-4ab7-a52f-a91641dc225c",
   "metadata": {},
   "outputs": [
    {
     "data": {
      "application/json": {
       "Customer": {
        "Customer": [
         "customername",
         "gender"
        ],
        "customeraltid": [
         "customeraltid"
        ],
        "customername": [
         "customername"
        ],
        "gender": [
         "gender"
        ]
       },
       "Product": {
        "Product": [
         "productname"
        ],
        "productaltkey": [
         "productaltkey"
        ],
        "productname": [
         "productname"
        ]
       },
       "ProductSales": {
        "transactionid": [
         "transactionid"
        ]
       },
       "SalesPerson": {
        "SalesPerson": [
         "salespersonname",
         "city",
         "state",
         "country"
        ],
        "city": [
         "city"
        ],
        "country": [
         "country"
        ],
        "salespersonaltid": [
         "salespersonaltid"
        ],
        "salespersonname": [
         "salespersonname"
        ],
        "state": [
         "state"
        ]
       },
       "Stores": {
        "Stores": [
         "storename",
         "city",
         "state",
         "country"
        ],
        "city": [
         "city"
        ],
        "country": [
         "country"
        ],
        "state": [
         "state"
        ],
        "storealtid": [
         "storealtid"
        ],
        "storelocation": [
         "storelocation"
        ],
        "storename": [
         "storename"
        ]
       }
      },
      "text/html": [
       "<ul>\n",
       "<li>Dimensions\n",
       "  <ul>\n",
       "  <li>Customer\n",
       "    <ul>\n",
       "    <li>Customer\n",
       "      <ol>\n",
       "      <li>customername</li>\n",
       "      <li>gender</li>\n",
       "      </ol>    </li>\n",
       "    <li>customeraltid\n",
       "      <ol>\n",
       "      <li>customeraltid</li>\n",
       "      </ol>    </li>\n",
       "    <li>customername\n",
       "      <ol>\n",
       "      <li>customername</li>\n",
       "      </ol>    </li>\n",
       "    <li>gender\n",
       "      <ol>\n",
       "      <li>gender</li>\n",
       "      </ol>    </li>\n",
       "    </ul>\n",
       "  </li>\n",
       "  <li>Product\n",
       "    <ul>\n",
       "    <li>Product\n",
       "      <ol>\n",
       "      <li>productname</li>\n",
       "      </ol>    </li>\n",
       "    <li>productaltkey\n",
       "      <ol>\n",
       "      <li>productaltkey</li>\n",
       "      </ol>    </li>\n",
       "    <li>productname\n",
       "      <ol>\n",
       "      <li>productname</li>\n",
       "      </ol>    </li>\n",
       "    </ul>\n",
       "  </li>\n",
       "  <li>ProductSales\n",
       "    <ul>\n",
       "    <li>transactionid\n",
       "      <ol>\n",
       "      <li>transactionid</li>\n",
       "      </ol>    </li>\n",
       "    </ul>\n",
       "  </li>\n",
       "  <li>SalesPerson\n",
       "    <ul>\n",
       "    <li>SalesPerson\n",
       "      <ol>\n",
       "      <li>salespersonname</li>\n",
       "      <li>city</li>\n",
       "      <li>state</li>\n",
       "      <li>country</li>\n",
       "      </ol>    </li>\n",
       "    <li>city\n",
       "      <ol>\n",
       "      <li>city</li>\n",
       "      </ol>    </li>\n",
       "    <li>country\n",
       "      <ol>\n",
       "      <li>country</li>\n",
       "      </ol>    </li>\n",
       "    <li>salespersonaltid\n",
       "      <ol>\n",
       "      <li>salespersonaltid</li>\n",
       "      </ol>    </li>\n",
       "    <li>salespersonname\n",
       "      <ol>\n",
       "      <li>salespersonname</li>\n",
       "      </ol>    </li>\n",
       "    <li>state\n",
       "      <ol>\n",
       "      <li>state</li>\n",
       "      </ol>    </li>\n",
       "    </ul>\n",
       "  </li>\n",
       "  <li>Stores\n",
       "    <ul>\n",
       "    <li>Stores\n",
       "      <ol>\n",
       "      <li>storename</li>\n",
       "      <li>city</li>\n",
       "      <li>state</li>\n",
       "      <li>country</li>\n",
       "      </ol>    </li>\n",
       "    <li>city\n",
       "      <ol>\n",
       "      <li>city</li>\n",
       "      </ol>    </li>\n",
       "    <li>country\n",
       "      <ol>\n",
       "      <li>country</li>\n",
       "      </ol>    </li>\n",
       "    <li>state\n",
       "      <ol>\n",
       "      <li>state</li>\n",
       "      </ol>    </li>\n",
       "    <li>storealtid\n",
       "      <ol>\n",
       "      <li>storealtid</li>\n",
       "      </ol>    </li>\n",
       "    <li>storelocation\n",
       "      <ol>\n",
       "      <li>storelocation</li>\n",
       "      </ol>    </li>\n",
       "    <li>storename\n",
       "      <ol>\n",
       "      <li>storename</li>\n",
       "      </ol>    </li>\n",
       "    </ul>\n",
       "  </li>\n",
       "  </ul>\n",
       "</li>\n",
       "</ul>\n"
      ],
      "text/plain": [
       "{('Stores', 'storename'): <atoti.hierarchy.Hierarchy object at 0x7fffb0526090>, ('Stores', 'state'): <atoti.hierarchy.Hierarchy object at 0x7fffb050b8d0>, ('Stores', 'Stores'): <atoti.hierarchy.Hierarchy object at 0x7fffb04e6510>, ('Customer', 'Customer'): <atoti.hierarchy.Hierarchy object at 0x7fffb04e47d0>, ('Product', 'productname'): <atoti.hierarchy.Hierarchy object at 0x7fffb04e4050>, ('SalesPerson', 'city'): <atoti.hierarchy.Hierarchy object at 0x7fffb04e58d0>, ('Product', 'productaltkey'): <atoti.hierarchy.Hierarchy object at 0x7fffb0502a90>, ('SalesPerson', 'salespersonaltid'): <atoti.hierarchy.Hierarchy object at 0x7fffb0502090>, ('Stores', 'storealtid'): <atoti.hierarchy.Hierarchy object at 0x7fffb0502d50>, ('Stores', 'city'): <atoti.hierarchy.Hierarchy object at 0x7fffb0500b50>, ('ProductSales', 'transactionid'): <atoti.hierarchy.Hierarchy object at 0x7fffb0501b90>, ('Customer', 'customername'): <atoti.hierarchy.Hierarchy object at 0x7fffb0500790>, ('SalesPerson', 'SalesPerson'): <atoti.hierarchy.Hierarchy object at 0x7fffb0500b10>, ('SalesPerson', 'salespersonname'): <atoti.hierarchy.Hierarchy object at 0x7fffb0502e90>, ('SalesPerson', 'country'): <atoti.hierarchy.Hierarchy object at 0x7fffb0501ed0>, ('Product', 'Product'): <atoti.hierarchy.Hierarchy object at 0x7fffb0501210>, ('Customer', 'customeraltid'): <atoti.hierarchy.Hierarchy object at 0x7fffb0502510>, ('Stores', 'storelocation'): <atoti.hierarchy.Hierarchy object at 0x7fffb0501390>, ('SalesPerson', 'state'): <atoti.hierarchy.Hierarchy object at 0x7fffb0501e10>, ('Stores', 'country'): <atoti.hierarchy.Hierarchy object at 0x7fffb0503dd0>, ('Customer', 'gender'): <atoti.hierarchy.Hierarchy object at 0x7fffb0502e50>}"
      ]
     },
     "execution_count": 26,
     "metadata": {
      "application/json": {
       "expanded": true,
       "root": "Dimensions"
      }
     },
     "output_type": "execute_result"
    }
   ],
   "source": [
    "hierarchies"
   ]
  },
  {
   "cell_type": "code",
   "execution_count": null,
   "id": "6c9e506f-45a0-40c6-8f34-77e3fb4a93a0",
   "metadata": {},
   "outputs": [],
   "source": []
  },
  {
   "cell_type": "code",
   "execution_count": null,
   "id": "bdf3a84f-7a93-491d-ad7f-0236650e63b4",
   "metadata": {},
   "outputs": [],
   "source": []
  },
  {
   "cell_type": "code",
   "execution_count": 27,
   "id": "ffcb9bdc-946f-4091-ad1f-59dbf644182c",
   "metadata": {},
   "outputs": [],
   "source": [
    "# clean customer\n",
    "del hierarchies[('Customer', 'customeraltid')]\n",
    "del hierarchies[('Customer', 'customername')]\n",
    "del hierarchies[('Customer', 'gender')]"
   ]
  },
  {
   "cell_type": "markdown",
   "id": "eb308819-9556-4de0-bf77-000ca78646bb",
   "metadata": {},
   "source": [
    "\n",
    "While `'customeraltid'` could potentially be included in a hierarchy depending on its relationship with other attributes, the decision to exclude it suggests that it may not align with the hierarchical structure of the dimension or may not provide significant analytical value within the context of the data model."
   ]
  },
  {
   "cell_type": "code",
   "execution_count": 28,
   "id": "e5f48877-b317-40f5-a7af-65717a158965",
   "metadata": {},
   "outputs": [],
   "source": [
    "# clean product\n",
    "del hierarchies[('Product', 'productname')]\n",
    "del hierarchies[('Product', 'productaltkey')]"
   ]
  },
  {
   "cell_type": "code",
   "execution_count": 29,
   "id": "fa5e840c-a8a9-417d-b221-3492a0c396d3",
   "metadata": {},
   "outputs": [],
   "source": [
    "# clean salesperson\n",
    "del hierarchies[('SalesPerson', 'city')]\n",
    "del hierarchies[('SalesPerson', 'salespersonname')]\n",
    "del hierarchies[('SalesPerson', 'country')]\n",
    "del hierarchies[('SalesPerson', 'state')]\n",
    "del hierarchies[('SalesPerson', 'salespersonaltid')]"
   ]
  },
  {
   "cell_type": "code",
   "execution_count": 30,
   "id": "46c974d2-9bd4-4399-a64e-153fd9d78b29",
   "metadata": {},
   "outputs": [],
   "source": [
    "# clean stores\n",
    "del hierarchies[('Stores', 'storename')]\n",
    "del hierarchies[('Stores', 'state')]\n",
    "del hierarchies[('Stores', 'country')]\n",
    "del hierarchies[('Stores', 'storealtid')]\n",
    "del hierarchies[('Stores', 'city')]"
   ]
  },
  {
   "cell_type": "code",
   "execution_count": 31,
   "id": "d3aaa105-253d-4c41-9e05-a375c0545779",
   "metadata": {},
   "outputs": [],
   "source": [
    "# clean product sales\n",
    "del hierarchies[('ProductSales', 'transactionid')]"
   ]
  },
  {
   "cell_type": "code",
   "execution_count": 32,
   "id": "3e72dcbf-3fbe-4f0c-b031-d3d9339a98fb",
   "metadata": {},
   "outputs": [
    {
     "data": {
      "application/json": {
       "Customer": {
        "Customer": [
         "customername",
         "gender"
        ]
       },
       "Product": {
        "Product": [
         "productname"
        ]
       },
       "SalesPerson": {
        "SalesPerson": [
         "salespersonname",
         "city",
         "state",
         "country"
        ]
       },
       "Stores": {
        "Stores": [
         "storename",
         "city",
         "state",
         "country"
        ],
        "storelocation": [
         "storelocation"
        ]
       }
      },
      "text/html": [
       "<ul>\n",
       "<li>Dimensions\n",
       "  <ul>\n",
       "  <li>Customer\n",
       "    <ul>\n",
       "    <li>Customer\n",
       "      <ol>\n",
       "      <li>customername</li>\n",
       "      <li>gender</li>\n",
       "      </ol>    </li>\n",
       "    </ul>\n",
       "  </li>\n",
       "  <li>Product\n",
       "    <ul>\n",
       "    <li>Product\n",
       "      <ol>\n",
       "      <li>productname</li>\n",
       "      </ol>    </li>\n",
       "    </ul>\n",
       "  </li>\n",
       "  <li>SalesPerson\n",
       "    <ul>\n",
       "    <li>SalesPerson\n",
       "      <ol>\n",
       "      <li>salespersonname</li>\n",
       "      <li>city</li>\n",
       "      <li>state</li>\n",
       "      <li>country</li>\n",
       "      </ol>    </li>\n",
       "    </ul>\n",
       "  </li>\n",
       "  <li>Stores\n",
       "    <ul>\n",
       "    <li>Stores\n",
       "      <ol>\n",
       "      <li>storename</li>\n",
       "      <li>city</li>\n",
       "      <li>state</li>\n",
       "      <li>country</li>\n",
       "      </ol>    </li>\n",
       "    <li>storelocation\n",
       "      <ol>\n",
       "      <li>storelocation</li>\n",
       "      </ol>    </li>\n",
       "    </ul>\n",
       "  </li>\n",
       "  </ul>\n",
       "</li>\n",
       "</ul>\n"
      ],
      "text/plain": [
       "{('SalesPerson', 'SalesPerson'): <atoti.hierarchy.Hierarchy object at 0x7fffb0501850>, ('Stores', 'Stores'): <atoti.hierarchy.Hierarchy object at 0x7fffb04e9950>, ('Product', 'Product'): <atoti.hierarchy.Hierarchy object at 0x7fffb04eb510>, ('Customer', 'Customer'): <atoti.hierarchy.Hierarchy object at 0x7fffb04eab90>, ('Stores', 'storelocation'): <atoti.hierarchy.Hierarchy object at 0x7fffb04ea1d0>}"
      ]
     },
     "execution_count": 32,
     "metadata": {
      "application/json": {
       "expanded": true,
       "root": "Dimensions"
      }
     },
     "output_type": "execute_result"
    }
   ],
   "source": [
    "hierarchies"
   ]
  },
  {
   "cell_type": "code",
   "execution_count": 33,
   "id": "aa9efd8b-cf0d-43d0-9733-b1d21a3b3dc9",
   "metadata": {},
   "outputs": [
    {
     "name": "stderr",
     "output_type": "stream",
     "text": [
      "ERROR:root:Exception while sending command.\n",
      "Traceback (most recent call last):\n",
      "  File \"/opt/conda/lib/python3.11/site-packages/py4j/clientserver.py\", line 516, in send_command\n",
      "    raise Py4JNetworkError(\"Answer from Java side is empty\")\n",
      "py4j.protocol.Py4JNetworkError: Answer from Java side is empty\n",
      "\n",
      "During handling of the above exception, another exception occurred:\n",
      "\n",
      "Traceback (most recent call last):\n",
      "  File \"/opt/conda/lib/python3.11/site-packages/py4j/java_gateway.py\", line 1038, in send_command\n",
      "    response = connection.send_command(command)\n",
      "               ^^^^^^^^^^^^^^^^^^^^^^^^^^^^^^^^\n",
      "  File \"/opt/conda/lib/python3.11/site-packages/py4j/clientserver.py\", line 539, in send_command\n",
      "    raise Py4JNetworkError(\n",
      "py4j.protocol.Py4JNetworkError: Error while sending or receiving\n",
      "ERROR:root:Exception while sending command.\n",
      "Traceback (most recent call last):\n",
      "  File \"/opt/conda/lib/python3.11/site-packages/py4j/clientserver.py\", line 516, in send_command\n",
      "    raise Py4JNetworkError(\"Answer from Java side is empty\")\n",
      "py4j.protocol.Py4JNetworkError: Answer from Java side is empty\n",
      "\n",
      "During handling of the above exception, another exception occurred:\n",
      "\n",
      "Traceback (most recent call last):\n",
      "  File \"/opt/conda/lib/python3.11/site-packages/py4j/java_gateway.py\", line 1038, in send_command\n",
      "    response = connection.send_command(command)\n",
      "               ^^^^^^^^^^^^^^^^^^^^^^^^^^^^^^^^\n",
      "  File \"/opt/conda/lib/python3.11/site-packages/py4j/clientserver.py\", line 539, in send_command\n",
      "    raise Py4JNetworkError(\n",
      "py4j.protocol.Py4JNetworkError: Error while sending or receiving\n"
     ]
    },
    {
     "ename": "Py4JError",
     "evalue": "An error occurred while calling o3382.removeMeasure",
     "output_type": "error",
     "traceback": [
      "\u001b[0;31m---------------------------------------------------------------------------\u001b[0m",
      "\u001b[0;31mPy4JError\u001b[0m                                 Traceback (most recent call last)",
      "Cell \u001b[0;32mIn[33], line 6\u001b[0m\n\u001b[1;32m      4\u001b[0m \u001b[38;5;28;01mdel\u001b[39;00m measures[\u001b[38;5;124m\"\u001b[39m\u001b[38;5;124mcustomerid.SUM\u001b[39m\u001b[38;5;124m\"\u001b[39m]\n\u001b[1;32m      5\u001b[0m \u001b[38;5;28;01mdel\u001b[39;00m measures[\u001b[38;5;124m\"\u001b[39m\u001b[38;5;124mdeviation.MEAN\u001b[39m\u001b[38;5;124m\"\u001b[39m]\n\u001b[0;32m----> 6\u001b[0m \u001b[38;5;28;01mdel\u001b[39;00m \u001b[43mmeasures\u001b[49m\u001b[43m[\u001b[49m\u001b[38;5;124;43m\"\u001b[39;49m\u001b[38;5;124;43mdeviation.SUM\u001b[39;49m\u001b[38;5;124;43m\"\u001b[39;49m\u001b[43m]\u001b[49m\n\u001b[1;32m      7\u001b[0m \u001b[38;5;28;01mdel\u001b[39;00m measures[\u001b[38;5;124m\"\u001b[39m\u001b[38;5;124mproductactualcost.MEAN\u001b[39m\u001b[38;5;124m\"\u001b[39m]\n\u001b[1;32m      8\u001b[0m \u001b[38;5;28;01mdel\u001b[39;00m measures[\u001b[38;5;124m\"\u001b[39m\u001b[38;5;124mproductid.MEAN\u001b[39m\u001b[38;5;124m\"\u001b[39m]\n",
      "File \u001b[0;32m/opt/conda/lib/python3.11/site-packages/pydantic/validate_call_decorator.py:58\u001b[0m, in \u001b[0;36mvalidate_call.<locals>.validate.<locals>.wrapper_function\u001b[0;34m(*args, **kwargs)\u001b[0m\n\u001b[1;32m     56\u001b[0m \u001b[38;5;129m@functools\u001b[39m\u001b[38;5;241m.\u001b[39mwraps(function)\n\u001b[1;32m     57\u001b[0m \u001b[38;5;28;01mdef\u001b[39;00m \u001b[38;5;21mwrapper_function\u001b[39m(\u001b[38;5;241m*\u001b[39margs, \u001b[38;5;241m*\u001b[39m\u001b[38;5;241m*\u001b[39mkwargs):\n\u001b[0;32m---> 58\u001b[0m     \u001b[38;5;28;01mreturn\u001b[39;00m \u001b[43mvalidate_call_wrapper\u001b[49m\u001b[43m(\u001b[49m\u001b[38;5;241;43m*\u001b[39;49m\u001b[43margs\u001b[49m\u001b[43m,\u001b[49m\u001b[43m \u001b[49m\u001b[38;5;241;43m*\u001b[39;49m\u001b[38;5;241;43m*\u001b[39;49m\u001b[43mkwargs\u001b[49m\u001b[43m)\u001b[49m\n",
      "File \u001b[0;32m/opt/conda/lib/python3.11/site-packages/pydantic/_internal/_validate_call.py:81\u001b[0m, in \u001b[0;36mValidateCallWrapper.__call__\u001b[0;34m(self, *args, **kwargs)\u001b[0m\n\u001b[1;32m     80\u001b[0m \u001b[38;5;28;01mdef\u001b[39;00m \u001b[38;5;21m__call__\u001b[39m(\u001b[38;5;28mself\u001b[39m, \u001b[38;5;241m*\u001b[39margs: Any, \u001b[38;5;241m*\u001b[39m\u001b[38;5;241m*\u001b[39mkwargs: Any) \u001b[38;5;241m-\u001b[39m\u001b[38;5;241m>\u001b[39m Any:\n\u001b[0;32m---> 81\u001b[0m     res \u001b[38;5;241m=\u001b[39m \u001b[38;5;28mself\u001b[39m\u001b[38;5;241m.\u001b[39m__pydantic_validator__\u001b[38;5;241m.\u001b[39mvalidate_python(pydantic_core\u001b[38;5;241m.\u001b[39mArgsKwargs(args, kwargs))\n\u001b[1;32m     82\u001b[0m     \u001b[38;5;28;01mif\u001b[39;00m \u001b[38;5;28mself\u001b[39m\u001b[38;5;241m.\u001b[39m__return_pydantic_validator__:\n\u001b[1;32m     83\u001b[0m         \u001b[38;5;28;01mreturn\u001b[39;00m \u001b[38;5;28mself\u001b[39m\u001b[38;5;241m.\u001b[39m__return_pydantic_validator__(res)\n",
      "File \u001b[0;32m/opt/conda/lib/python3.11/site-packages/atoti_core/delegate_mutable_mapping.py:54\u001b[0m, in \u001b[0;36mDelegateMutableMapping.__delitem__\u001b[0;34m(self, key)\u001b[0m\n\u001b[1;32m     52\u001b[0m \u001b[38;5;129m@override\u001b[39m\n\u001b[1;32m     53\u001b[0m \u001b[38;5;28;01mdef\u001b[39;00m \u001b[38;5;21m__delitem__\u001b[39m(\u001b[38;5;28mself\u001b[39m, key: _Key, \u001b[38;5;241m/\u001b[39m) \u001b[38;5;241m-\u001b[39m\u001b[38;5;241m>\u001b[39m \u001b[38;5;28;01mNone\u001b[39;00m:\n\u001b[0;32m---> 54\u001b[0m     \u001b[38;5;28;01mreturn\u001b[39;00m \u001b[38;5;28;43mself\u001b[39;49m\u001b[38;5;241;43m.\u001b[39;49m\u001b[43m_delete_keys\u001b[49m\u001b[43m(\u001b[49m\u001b[43m{\u001b[49m\u001b[43mkey\u001b[49m\u001b[43m}\u001b[49m\u001b[43m)\u001b[49m\n",
      "File \u001b[0;32m/opt/conda/lib/python3.11/site-packages/atoti/measures.py:268\u001b[0m, in \u001b[0;36mMeasures._delete_keys\u001b[0;34m(self, keys)\u001b[0m\n\u001b[1;32m    265\u001b[0m \u001b[38;5;129m@override\u001b[39m\n\u001b[1;32m    266\u001b[0m \u001b[38;5;28;01mdef\u001b[39;00m \u001b[38;5;21m_delete_keys\u001b[39m(\u001b[38;5;28mself\u001b[39m, keys: AbstractSet[\u001b[38;5;28mstr\u001b[39m], \u001b[38;5;241m/\u001b[39m) \u001b[38;5;241m-\u001b[39m\u001b[38;5;241m>\u001b[39m \u001b[38;5;28;01mNone\u001b[39;00m:\n\u001b[1;32m    267\u001b[0m     \u001b[38;5;28;01mfor\u001b[39;00m key \u001b[38;5;129;01min\u001b[39;00m keys \u001b[38;5;129;01mor\u001b[39;00m \u001b[38;5;28mself\u001b[39m\u001b[38;5;241m.\u001b[39mkeys():\n\u001b[0;32m--> 268\u001b[0m         \u001b[38;5;28;43mself\u001b[39;49m\u001b[38;5;241;43m.\u001b[39;49m\u001b[43m_java_api\u001b[49m\u001b[38;5;241;43m.\u001b[39;49m\u001b[43mdelete_measure\u001b[49m\u001b[43m(\u001b[49m\n\u001b[1;32m    269\u001b[0m \u001b[43m            \u001b[49m\u001b[43mMeasureIdentifier\u001b[49m\u001b[43m(\u001b[49m\u001b[43mkey\u001b[49m\u001b[43m)\u001b[49m\u001b[43m,\u001b[49m\u001b[43m \u001b[49m\u001b[43mcube_name\u001b[49m\u001b[38;5;241;43m=\u001b[39;49m\u001b[38;5;28;43mself\u001b[39;49m\u001b[38;5;241;43m.\u001b[39;49m\u001b[43m_cube_name\u001b[49m\n\u001b[1;32m    270\u001b[0m \u001b[43m        \u001b[49m\u001b[43m)\u001b[49m\n",
      "File \u001b[0;32m/opt/conda/lib/python3.11/site-packages/atoti/_java_api.py:1732\u001b[0m, in \u001b[0;36mJavaApi.delete_measure\u001b[0;34m(self, identifier, cube_name)\u001b[0m\n\u001b[1;32m   1727\u001b[0m \u001b[38;5;28;01mdef\u001b[39;00m \u001b[38;5;21mdelete_measure\u001b[39m(\n\u001b[1;32m   1728\u001b[0m     \u001b[38;5;28mself\u001b[39m, identifier: MeasureIdentifier, \u001b[38;5;241m/\u001b[39m, \u001b[38;5;241m*\u001b[39m, cube_name: \u001b[38;5;28mstr\u001b[39m\n\u001b[1;32m   1729\u001b[0m ) \u001b[38;5;241m-\u001b[39m\u001b[38;5;241m>\u001b[39m \u001b[38;5;28;01mNone\u001b[39;00m:\n\u001b[1;32m   1730\u001b[0m     \u001b[38;5;28;01mif\u001b[39;00m (\n\u001b[1;32m   1731\u001b[0m         \u001b[38;5;28;43mself\u001b[39;49m\u001b[38;5;241;43m.\u001b[39;49m\u001b[43m_outside_transaction_api\u001b[49m\u001b[43m(\u001b[49m\u001b[43m)\u001b[49m\n\u001b[0;32m-> 1732\u001b[0m \u001b[43m        \u001b[49m\u001b[38;5;241;43m.\u001b[39;49m\u001b[43mremoveMeasure\u001b[49m\u001b[43m(\u001b[49m\u001b[43midentifier\u001b[49m\u001b[38;5;241;43m.\u001b[39;49m\u001b[43mmeasure_name\u001b[49m\u001b[43m,\u001b[49m\u001b[43m \u001b[49m\u001b[43mcube_name\u001b[49m\u001b[43m)\u001b[49m\n\u001b[1;32m   1733\u001b[0m         \u001b[38;5;241m.\u001b[39misEmpty()\n\u001b[1;32m   1734\u001b[0m     ):\n\u001b[1;32m   1735\u001b[0m         \u001b[38;5;28;01mraise\u001b[39;00m \u001b[38;5;167;01mKeyError\u001b[39;00m(identifier\u001b[38;5;241m.\u001b[39mmeasure_name)\n",
      "File \u001b[0;32m/opt/conda/lib/python3.11/site-packages/py4j/java_gateway.py:1322\u001b[0m, in \u001b[0;36mJavaMember.__call__\u001b[0;34m(self, *args)\u001b[0m\n\u001b[1;32m   1316\u001b[0m command \u001b[38;5;241m=\u001b[39m proto\u001b[38;5;241m.\u001b[39mCALL_COMMAND_NAME \u001b[38;5;241m+\u001b[39m\\\n\u001b[1;32m   1317\u001b[0m     \u001b[38;5;28mself\u001b[39m\u001b[38;5;241m.\u001b[39mcommand_header \u001b[38;5;241m+\u001b[39m\\\n\u001b[1;32m   1318\u001b[0m     args_command \u001b[38;5;241m+\u001b[39m\\\n\u001b[1;32m   1319\u001b[0m     proto\u001b[38;5;241m.\u001b[39mEND_COMMAND_PART\n\u001b[1;32m   1321\u001b[0m answer \u001b[38;5;241m=\u001b[39m \u001b[38;5;28mself\u001b[39m\u001b[38;5;241m.\u001b[39mgateway_client\u001b[38;5;241m.\u001b[39msend_command(command)\n\u001b[0;32m-> 1322\u001b[0m return_value \u001b[38;5;241m=\u001b[39m \u001b[43mget_return_value\u001b[49m\u001b[43m(\u001b[49m\n\u001b[1;32m   1323\u001b[0m \u001b[43m    \u001b[49m\u001b[43manswer\u001b[49m\u001b[43m,\u001b[49m\u001b[43m \u001b[49m\u001b[38;5;28;43mself\u001b[39;49m\u001b[38;5;241;43m.\u001b[39;49m\u001b[43mgateway_client\u001b[49m\u001b[43m,\u001b[49m\u001b[43m \u001b[49m\u001b[38;5;28;43mself\u001b[39;49m\u001b[38;5;241;43m.\u001b[39;49m\u001b[43mtarget_id\u001b[49m\u001b[43m,\u001b[49m\u001b[43m \u001b[49m\u001b[38;5;28;43mself\u001b[39;49m\u001b[38;5;241;43m.\u001b[39;49m\u001b[43mname\u001b[49m\u001b[43m)\u001b[49m\n\u001b[1;32m   1325\u001b[0m \u001b[38;5;28;01mfor\u001b[39;00m temp_arg \u001b[38;5;129;01min\u001b[39;00m temp_args:\n\u001b[1;32m   1326\u001b[0m     \u001b[38;5;28;01mif\u001b[39;00m \u001b[38;5;28mhasattr\u001b[39m(temp_arg, \u001b[38;5;124m\"\u001b[39m\u001b[38;5;124m_detach\u001b[39m\u001b[38;5;124m\"\u001b[39m):\n",
      "File \u001b[0;32m/opt/conda/lib/python3.11/site-packages/py4j/protocol.py:334\u001b[0m, in \u001b[0;36mget_return_value\u001b[0;34m(answer, gateway_client, target_id, name)\u001b[0m\n\u001b[1;32m    330\u001b[0m             \u001b[38;5;28;01mraise\u001b[39;00m Py4JError(\n\u001b[1;32m    331\u001b[0m                 \u001b[38;5;124m\"\u001b[39m\u001b[38;5;124mAn error occurred while calling \u001b[39m\u001b[38;5;132;01m{0}\u001b[39;00m\u001b[38;5;132;01m{1}\u001b[39;00m\u001b[38;5;132;01m{2}\u001b[39;00m\u001b[38;5;124m. Trace:\u001b[39m\u001b[38;5;130;01m\\n\u001b[39;00m\u001b[38;5;132;01m{3}\u001b[39;00m\u001b[38;5;130;01m\\n\u001b[39;00m\u001b[38;5;124m\"\u001b[39m\u001b[38;5;241m.\u001b[39m\n\u001b[1;32m    332\u001b[0m                 \u001b[38;5;28mformat\u001b[39m(target_id, \u001b[38;5;124m\"\u001b[39m\u001b[38;5;124m.\u001b[39m\u001b[38;5;124m\"\u001b[39m, name, value))\n\u001b[1;32m    333\u001b[0m     \u001b[38;5;28;01melse\u001b[39;00m:\n\u001b[0;32m--> 334\u001b[0m         \u001b[38;5;28;01mraise\u001b[39;00m Py4JError(\n\u001b[1;32m    335\u001b[0m             \u001b[38;5;124m\"\u001b[39m\u001b[38;5;124mAn error occurred while calling \u001b[39m\u001b[38;5;132;01m{0}\u001b[39;00m\u001b[38;5;132;01m{1}\u001b[39;00m\u001b[38;5;132;01m{2}\u001b[39;00m\u001b[38;5;124m\"\u001b[39m\u001b[38;5;241m.\u001b[39m\n\u001b[1;32m    336\u001b[0m             \u001b[38;5;28mformat\u001b[39m(target_id, \u001b[38;5;124m\"\u001b[39m\u001b[38;5;124m.\u001b[39m\u001b[38;5;124m\"\u001b[39m, name))\n\u001b[1;32m    337\u001b[0m \u001b[38;5;28;01melse\u001b[39;00m:\n\u001b[1;32m    338\u001b[0m     \u001b[38;5;28mtype\u001b[39m \u001b[38;5;241m=\u001b[39m answer[\u001b[38;5;241m1\u001b[39m]\n",
      "\u001b[0;31mPy4JError\u001b[0m: An error occurred while calling o3382.removeMeasure"
     ]
    }
   ],
   "source": [
    "# clean measures\n",
    "del measures[\"contributors.COUNT\"]\n",
    "del measures[\"customerid.MEAN\"]\n",
    "del measures[\"customerid.SUM\"]\n",
    "del measures[\"deviation.MEAN\"]\n",
    "del measures[\"deviation.SUM\"]\n",
    "del measures[\"productactualcost.MEAN\"]\n",
    "del measures[\"productid.MEAN\"]\n",
    "del measures[\"productid.SUM\"]\n",
    "del measures[\"salesinvoicenumber.MEAN\"]\n",
    "del measures[\"salesinvoicenumber.SUM\"]\n",
    "del measures[\"salespersonid.MEAN\"]\n",
    "del measures[\"salespersonid.SUM\"]\n",
    "del measures[\"storeid.MEAN\"]\n",
    "del measures[\"storeid.SUM\"]\n",
    "del measures[\"salestotalcost.MEAN\"]\n",
    "del measures[\"quantity.MEAN\"]"
   ]
  },
  {
   "cell_type": "code",
   "execution_count": null,
   "id": "77526eac-4025-469b-ab16-4eb9c2d4f64e",
   "metadata": {},
   "outputs": [],
   "source": [
    "measures"
   ]
  },
  {
   "cell_type": "code",
   "execution_count": null,
   "id": "1e874102-e542-458d-a120-f06f2cc7f905",
   "metadata": {},
   "outputs": [],
   "source": [
    "cube.query(measures[\"quantity.SUM\"], levels=[levels[('Stores', 'Stores', 'city')]])"
   ]
  },
  {
   "cell_type": "markdown",
   "id": "a8f89853-d7c9-4815-b3a0-2902177c028d",
   "metadata": {},
   "source": [
    "The provided query targets a cube to retrieve the sum of the \"quantity\" measure aggregated at the city level within the \"Stores\" dimension. Let's break down the query:\n",
    "\n",
    "```python\n",
    "cube.query(measures[\"quantity.SUM\"], levels=[levels[('Stores', 'Stores', 'city')]])\n",
    "```\n",
    "\n",
    "- `cube.query()`: This method is used to perform a query on a cube within an Atoti session.\n",
    "\n",
    "- `measures[\"quantity.SUM\"]`: This specifies the measure being queried, which is the sum of the \"quantity\" measure. It's aggregated at the city level.\n",
    "\n",
    "- `levels[('Stores', 'Stores', 'city')]`: This indicates the level at which the aggregation is performed. It's specifying the city level within the \"Stores\" dimension.\n",
    "\n",
    "So, the query retrieves the sum of the \"quantity\" measure aggregated at the city level within the \"Stores\" dimension. It's a way to analyze the total quantity of products sold or any other quantity-related metric at the city level across different stores."
   ]
  },
  {
   "cell_type": "markdown",
   "id": "c021498e-4a6e-4539-80b7-f6521d8913c5",
   "metadata": {},
   "source": [
    "\n",
    "Typically, in a multidimensional model like the one represented by Atoti, the syntax for specifying a level within a dimension follows the pattern:\n",
    "\n",
    "`levels[(dimension_name, hierarchy_name, level_name)]`\n"
   ]
  },
  {
   "cell_type": "code",
   "execution_count": null,
   "id": "d6faed66f9e436ce",
   "metadata": {
    "collapsed": false,
    "jupyter": {
     "outputs_hidden": false
    }
   },
   "outputs": [],
   "source": [
    "cost = tt.agg.sum(\n",
    "    measures[\"quantity.SUM\"] * tt.agg.single_value(product_table[\"productactualcost\"]),\n",
    "    scope=tt.OriginScope(levels[\"productname\"]),\n",
    ")\n",
    "\n",
    "income = tt.agg.sum(\n",
    "    measures[\"quantity.SUM\"] * tt.agg.single_value(product_table[\"productsalescost\"]),\n",
    "    scope=tt.OriginScope(levels[\"productname\"]),\n",
    ")\n"
   ]
  },
  {
   "cell_type": "code",
   "execution_count": null,
   "id": "a68f25eb1d166ceb",
   "metadata": {
    "collapsed": false,
    "jupyter": {
     "outputs_hidden": false
    }
   },
   "outputs": [],
   "source": [
    "measures[\"Margin\"] = income - cost"
   ]
  },
  {
   "cell_type": "code",
   "execution_count": null,
   "id": "9db203315b8f378",
   "metadata": {
    "collapsed": false,
    "jupyter": {
     "outputs_hidden": false
    }
   },
   "outputs": [],
   "source": [
    "cube.query(measures[\"Margin\"], levels=[levels[('Product', 'Product', 'productname')]])"
   ]
  },
  {
   "cell_type": "markdown",
   "id": "8281cb2d-013a-4d57-abc4-f20cbcaaca17",
   "metadata": {},
   "source": [
    "## Presentation"
   ]
  },
  {
   "cell_type": "code",
   "execution_count": null,
   "id": "70508704-ba4e-439d-84d2-f6078b52ef0a",
   "metadata": {
    "atoti": {
     "widget": {
      "mapping": {
       "horizontalSubplots": [],
       "sliceBy": [
        "[Customer].[Customer].[customername]"
       ],
       "values": [
        "[Measures].[quantity.SUM]"
       ],
       "verticalSubplots": []
      },
      "query": {
       "mdx": "SELECT NON EMPTY {[Measures].[quantity.SUM]} ON COLUMNS, NON EMPTY Hierarchize(Descendants({[Customer].[Customer].[ALL].[AllMember]}, 1, SELF_AND_BEFORE)) DIMENSION PROPERTIES CHILDREN_CARDINALITY ON ROWS FROM [ProductSales] CELL PROPERTIES VALUE, FORMATTED_VALUE, BACK_COLOR, FORE_COLOR, FONT_FLAGS",
       "updateMode": "once"
      },
      "serverKey": "default",
      "widgetKey": "plotly-donut-chart"
     }
    }
   },
   "outputs": [],
   "source": [
    "session.widget"
   ]
  },
  {
   "cell_type": "code",
   "execution_count": null,
   "id": "679b108a-e6ee-4bb9-ae66-f5503e318520",
   "metadata": {},
   "outputs": [],
   "source": [
    "session.link"
   ]
  },
  {
   "cell_type": "markdown",
   "id": "d6d44dcc28e9d4b6",
   "metadata": {
    "collapsed": false,
    "jupyter": {
     "outputs_hidden": false
    }
   },
   "source": [
    "## What-if Analysis"
   ]
  },
  {
   "cell_type": "code",
   "execution_count": null,
   "id": "85f5820e858f2b68",
   "metadata": {
    "collapsed": false,
    "jupyter": {
     "outputs_hidden": false
    }
   },
   "outputs": [],
   "source": [
    "import pandas as pd\n",
    "from sqlalchemy import create_engine"
   ]
  },
  {
   "cell_type": "code",
   "execution_count": null,
   "id": "e886a3678a4f98bf",
   "metadata": {
    "collapsed": false,
    "jupyter": {
     "outputs_hidden": false
    }
   },
   "outputs": [],
   "source": [
    "connection_url = f\"postgresql://{db_user}:{db_password}@{db_host}:{db_port}/{db_name}\"\n",
    "\n",
    "# Create the engine\n",
    "engine = create_engine(connection_url)"
   ]
  },
  {
   "cell_type": "code",
   "execution_count": null,
   "id": "8c91d436778af08a",
   "metadata": {
    "collapsed": false,
    "jupyter": {
     "outputs_hidden": false
    }
   },
   "outputs": [],
   "source": [
    "product_df = pd.read_sql_query(\"SELECT * FROM dimproduct\", engine)"
   ]
  },
  {
   "cell_type": "code",
   "execution_count": null,
   "id": "4bdf253b849eee1d",
   "metadata": {
    "collapsed": false,
    "jupyter": {
     "outputs_hidden": false
    }
   },
   "outputs": [],
   "source": [
    "product_df"
   ]
  },
  {
   "cell_type": "code",
   "execution_count": null,
   "id": "f8311b70a085b68e",
   "metadata": {
    "collapsed": false,
    "jupyter": {
     "outputs_hidden": false
    }
   },
   "outputs": [],
   "source": [
    "better_actual_cost = {\n",
    "    \"ITM-001\": 4.5,\n",
    "    \"ITM-002\": 10,\n",
    "    \"ITM-003\": 30,\n",
    "    \"ITM-004\": 15,\n",
    "    \"ITM-005\": 135,\n",
    "}"
   ]
  },
  {
   "cell_type": "code",
   "execution_count": null,
   "id": "fdee0fdf92085ef2",
   "metadata": {
    "collapsed": false,
    "jupyter": {
     "outputs_hidden": false
    }
   },
   "outputs": [],
   "source": [
    "for product, actual_cost in better_actual_cost.items():\n",
    "    product_df.loc[\n",
    "        product_df[\"productaltkey\"] == product, \"productactualcost\"\n",
    "    ] = actual_cost\n",
    "product_df"
   ]
  },
  {
   "cell_type": "code",
   "execution_count": null,
   "id": "948c8798bc249a8e",
   "metadata": {
    "collapsed": false,
    "jupyter": {
     "outputs_hidden": false
    }
   },
   "outputs": [],
   "source": [
    "product_table.scenarios[\"Lower actual cost\"].load_pandas(product_df)"
   ]
  },
  {
   "cell_type": "code",
   "execution_count": null,
   "id": "de63f17b-1528-4358-b78f-9c859f267dc2",
   "metadata": {},
   "outputs": [],
   "source": []
  },
  {
   "cell_type": "code",
   "execution_count": null,
   "id": "36e15443-d590-4ff0-976f-4608f5730588",
   "metadata": {},
   "outputs": [],
   "source": []
  }
 ],
 "metadata": {
  "kernelspec": {
   "display_name": "Python 3 (ipykernel)",
   "language": "python",
   "name": "python3"
  },
  "language_info": {
   "codemirror_mode": {
    "name": "ipython",
    "version": 3
   },
   "file_extension": ".py",
   "mimetype": "text/x-python",
   "name": "python",
   "nbconvert_exporter": "python",
   "pygments_lexer": "ipython3",
   "version": "3.11.6"
  }
 },
 "nbformat": 4,
 "nbformat_minor": 5
}
