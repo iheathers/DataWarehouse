{
 "cells": [
  {
   "cell_type": "markdown",
   "id": "186ceb2ddf615eea",
   "metadata": {
    "collapsed": false,
    "jupyter": {
     "outputs_hidden": false
    }
   },
   "source": [
    "# Cube and Data Warehouse mini Demo\n",
    "This aims to implement a cube and do presentation\n",
    "## Cube"
   ]
  },
  {
   "cell_type": "code",
   "execution_count": 1,
   "id": "initial_id",
   "metadata": {},
   "outputs": [
    {
     "name": "stdout",
     "output_type": "stream",
     "text": [
      "Welcome to Atoti 0.8.10!\n",
      "\n",
      "By using this community edition, you agree with the license available at https://docs.atoti.io/latest/eula.html.\n",
      "Browse the official documentation at https://docs.atoti.io.\n",
      "Join the community at https://www.atoti.io/register.\n",
      "\n",
      "Atoti collects telemetry data, which is used to help understand how to improve the product.\n",
      "If you don't wish to send usage data, you can request a trial license at https://www.atoti.io/evaluation-license-request.\n",
      "\n",
      "You can hide this message by setting the `ATOTI_HIDE_EULA_MESSAGE` environment variable to True.\n"
     ]
    }
   ],
   "source": [
    "import atoti as tt"
   ]
  },
  {
   "cell_type": "code",
   "execution_count": 2,
   "id": "1ce9e2fb78351f0d",
   "metadata": {
    "collapsed": false,
    "jupyter": {
     "outputs_hidden": false
    }
   },
   "outputs": [],
   "source": [
    "session = tt.Session(\n",
    "    user_content_storage=\".content\",\n",
    "    port=9092,\n",
    "    java_options=[\"-Xms1G\", \"-Xmx10G\"]\n",
    ")"
   ]
  },
  {
   "cell_type": "markdown",
   "id": "188a5dd8-9361-4a54-9d81-5af118d11bb4",
   "metadata": {},
   "source": [
    "- It imports the atoti library using the alias tt.\n",
    "- It creates a session object using tt.Session.\n",
    "- The `user_content_storage=\".content\"` parameter specifies the directory or location where user content will be stored. This could include things like data files, configurations, or any other persistent data related to the session.\n",
    "- The `port=9092` parameter specifies the port number on which the session will listen for incoming connections or requests. This port is important for communication between the Atoti server and client applications.\n",
    "- The `java_options=[\"-Xms1G\", \"-Xmx10G\"]` parameter specifies Java Virtual Machine (JVM) options. In this case, it's setting the initial heap size (-Xms1G) to 1 gigabyte and the maximum heap size (-Xmx10G) to 10 gigabytes. This is important for controlling memory allocation for the Atoti server."
   ]
  },
  {
   "cell_type": "code",
   "execution_count": 3,
   "id": "8d2096c5d9043d33",
   "metadata": {
    "collapsed": false,
    "jupyter": {
     "outputs_hidden": false
    }
   },
   "outputs": [],
   "source": [
    "db_name = \"AdventureworksDWDemo\"\n",
    "db_user = \"postgres\"\n",
    "db_password = \"postgres\"  # Update with your password\n",
    "db_host = \"pgdb\"  # Update if your DB is hosted elsewhere\n",
    "db_port = \"5432\"\n",
    "\n",
    "jdbc_url = f\"jdbc:postgresql://{db_host}:{db_port}/{db_name}?user={db_user}&password={db_password}\""
   ]
  },
  {
   "cell_type": "markdown",
   "id": "5491e1ca-11ba-45eb-be9e-c3adfa8afe4b",
   "metadata": {},
   "source": [
    "## Load Data to Atoti"
   ]
  },
  {
   "cell_type": "code",
   "execution_count": 4,
   "id": "b26b1ae1-20b6-4c60-bdf3-4e1c9987cb8f",
   "metadata": {},
   "outputs": [],
   "source": [
    "product_sales_table = session.read_sql(\n",
    "    \"SELECT * FROM factproductsales\",\n",
    "    keys=[\"transactionid\"],\n",
    "    table_name=\"ProductSales\",\n",
    "    url=jdbc_url,\n",
    ")"
   ]
  },
  {
   "cell_type": "markdown",
   "id": "fc371768-87db-4f02-9c17-0827b36bc9f6",
   "metadata": {},
   "source": [
    "\n",
    "\n",
    "- `session.read_sql()`: This method is used to read data from a SQL database into an Atoti session.\n",
    "\n",
    "- `\"SELECT * FROM factproductsales\"`: This is the SQL query that specifies the data to be retrieved from the database. It selects all columns (`*`) from the table named `factproductsales`.\n",
    "\n",
    "- `keys=[\"transactionid\"]`: This parameter specifies the primary key or keys of the table. In this case, it seems that `transactionid` is the primary key of the `factproductsales` table.\n",
    "\n",
    "- `table_name=\"ProductSales\"`: This parameter specifies the name to be assigned to the table within the Atoti session where the data will be loaded. Here, the table will be named `ProductSales`.\n",
    "\n",
    "- `url=jdbc_url`: This parameter specifies the JDBC URL used to connect to the SQL database. `jdbc_url` should be a variable containing the JDBC URL of the database.\n",
    "\n",
    "So, this code retrieves data from the `factproductsales` table in the SQL database specified by the JDBC URL, loads it into the Atoti session, and assigns the table the name `ProductSales` within the session. The primary key of the table is `transactionid`."
   ]
  },
  {
   "cell_type": "code",
   "execution_count": 5,
   "id": "d342d8d3-417b-4f00-81f5-334869f829a1",
   "metadata": {},
   "outputs": [],
   "source": [
    "customer_table = session.read_sql(\n",
    "    \"SELECT * FROM dimcustomer\",\n",
    "    keys=[\"customerid\"],\n",
    "    table_name=\"Customer\",\n",
    "    url=jdbc_url)"
   ]
  },
  {
   "cell_type": "code",
   "execution_count": 6,
   "id": "828e934c-6723-4911-82ec-9759a2fff9fe",
   "metadata": {},
   "outputs": [],
   "source": [
    "product_table = session.read_sql(\n",
    "    \"SELECT * FROM dimproduct\",\n",
    "    keys=[\"productkey\"],\n",
    "    table_name=\"Product\",\n",
    "    url=jdbc_url\n",
    ")"
   ]
  },
  {
   "cell_type": "code",
   "execution_count": 7,
   "id": "47d5d135-02d8-48b0-ba4e-5e00a692cee1",
   "metadata": {},
   "outputs": [],
   "source": [
    "sales_person_table = session.read_sql(\n",
    "    \"SELECT * FROM dimsalesperson\",\n",
    "    keys=[\"salespersonid\"],\n",
    "    table_name=\"SalesPerson\",\n",
    "    url=jdbc_url\n",
    ")"
   ]
  },
  {
   "cell_type": "code",
   "execution_count": 8,
   "id": "fdfcc73e-9d56-4020-bf5f-b1e774c033a9",
   "metadata": {},
   "outputs": [],
   "source": [
    "stores_table = session.read_sql(\n",
    "    \"SELECT * FROM dimstores\",\n",
    "    keys=[\"storeid\"],\n",
    "    table_name=\"Stores\",\n",
    "    url=jdbc_url\n",
    ")"
   ]
  },
  {
   "cell_type": "code",
   "execution_count": 9,
   "id": "e971bb41-0045-4abf-85e0-edb77988bd78",
   "metadata": {},
   "outputs": [
    {
     "data": {
      "text/html": [
       "<div>\n",
       "<style scoped>\n",
       "    .dataframe tbody tr th:only-of-type {\n",
       "        vertical-align: middle;\n",
       "    }\n",
       "\n",
       "    .dataframe tbody tr th {\n",
       "        vertical-align: top;\n",
       "    }\n",
       "\n",
       "    .dataframe thead th {\n",
       "        text-align: right;\n",
       "    }\n",
       "</style>\n",
       "<table border=\"1\" class=\"dataframe\">\n",
       "  <thead>\n",
       "    <tr style=\"text-align: right;\">\n",
       "      <th></th>\n",
       "      <th>salesinvoicenumber</th>\n",
       "      <th>storeid</th>\n",
       "      <th>customerid</th>\n",
       "      <th>productid</th>\n",
       "      <th>salespersonid</th>\n",
       "      <th>quantity</th>\n",
       "      <th>salestotalcost</th>\n",
       "      <th>productactualcost</th>\n",
       "      <th>deviation</th>\n",
       "    </tr>\n",
       "    <tr>\n",
       "      <th>transactionid</th>\n",
       "      <th></th>\n",
       "      <th></th>\n",
       "      <th></th>\n",
       "      <th></th>\n",
       "      <th></th>\n",
       "      <th></th>\n",
       "      <th></th>\n",
       "      <th></th>\n",
       "      <th></th>\n",
       "    </tr>\n",
       "  </thead>\n",
       "  <tbody>\n",
       "    <tr>\n",
       "      <th>6</th>\n",
       "      <td>3</td>\n",
       "      <td>1</td>\n",
       "      <td>3</td>\n",
       "      <td>2</td>\n",
       "      <td>2</td>\n",
       "      <td>2.0</td>\n",
       "      <td>13.0</td>\n",
       "      <td>11.0</td>\n",
       "      <td>2.0</td>\n",
       "    </tr>\n",
       "    <tr>\n",
       "      <th>14</th>\n",
       "      <td>6</td>\n",
       "      <td>1</td>\n",
       "      <td>3</td>\n",
       "      <td>2</td>\n",
       "      <td>2</td>\n",
       "      <td>2.0</td>\n",
       "      <td>13.0</td>\n",
       "      <td>11.0</td>\n",
       "      <td>2.0</td>\n",
       "    </tr>\n",
       "    <tr>\n",
       "      <th>22</th>\n",
       "      <td>10</td>\n",
       "      <td>1</td>\n",
       "      <td>3</td>\n",
       "      <td>1</td>\n",
       "      <td>2</td>\n",
       "      <td>2.0</td>\n",
       "      <td>13.0</td>\n",
       "      <td>11.0</td>\n",
       "      <td>2.0</td>\n",
       "    </tr>\n",
       "    <tr>\n",
       "      <th>7</th>\n",
       "      <td>3</td>\n",
       "      <td>1</td>\n",
       "      <td>3</td>\n",
       "      <td>3</td>\n",
       "      <td>2</td>\n",
       "      <td>1.0</td>\n",
       "      <td>43.5</td>\n",
       "      <td>42.0</td>\n",
       "      <td>1.5</td>\n",
       "    </tr>\n",
       "    <tr>\n",
       "      <th>15</th>\n",
       "      <td>6</td>\n",
       "      <td>1</td>\n",
       "      <td>3</td>\n",
       "      <td>5</td>\n",
       "      <td>2</td>\n",
       "      <td>1.0</td>\n",
       "      <td>139.0</td>\n",
       "      <td>135.0</td>\n",
       "      <td>4.0</td>\n",
       "    </tr>\n",
       "  </tbody>\n",
       "</table>\n",
       "</div>"
      ],
      "text/plain": [
       "               salesinvoicenumber  storeid  customerid  productid  \\\n",
       "transactionid                                                       \n",
       "6                               3        1           3          2   \n",
       "14                              6        1           3          2   \n",
       "22                             10        1           3          1   \n",
       "7                               3        1           3          3   \n",
       "15                              6        1           3          5   \n",
       "\n",
       "               salespersonid  quantity  salestotalcost  productactualcost  \\\n",
       "transactionid                                                               \n",
       "6                          2       2.0            13.0               11.0   \n",
       "14                         2       2.0            13.0               11.0   \n",
       "22                         2       2.0            13.0               11.0   \n",
       "7                          2       1.0            43.5               42.0   \n",
       "15                         2       1.0           139.0              135.0   \n",
       "\n",
       "               deviation  \n",
       "transactionid             \n",
       "6                    2.0  \n",
       "14                   2.0  \n",
       "22                   2.0  \n",
       "7                    1.5  \n",
       "15                   4.0  "
      ]
     },
     "execution_count": 9,
     "metadata": {},
     "output_type": "execute_result"
    }
   ],
   "source": [
    "product_sales_table.head()"
   ]
  },
  {
   "cell_type": "markdown",
   "id": "d8f57c63-5de8-4681-af21-9c338fd7e415",
   "metadata": {},
   "source": [
    "## Implement a Star Schema"
   ]
  },
  {
   "cell_type": "code",
   "execution_count": 10,
   "id": "3bb09fbd-1d25-472b-b5c9-f4ead3f96795",
   "metadata": {},
   "outputs": [],
   "source": [
    "product_sales_table.join(customer_table, product_sales_table[\"customerid\"] == customer_table[\"customerid\"])"
   ]
  },
  {
   "cell_type": "code",
   "execution_count": 11,
   "id": "a2ee4df7-a3ea-4d34-91e9-c83312d48e7e",
   "metadata": {},
   "outputs": [],
   "source": [
    "product_sales_table.join(product_table, product_sales_table[\"productid\"] == product_table[\"productkey\"])"
   ]
  },
  {
   "cell_type": "code",
   "execution_count": 12,
   "id": "99b1cec9-c379-4072-aab8-c94bd3cc7e4a",
   "metadata": {},
   "outputs": [],
   "source": [
    "product_sales_table.join(sales_person_table,\n",
    "                         product_sales_table[\"salespersonid\"] == sales_person_table[\"salespersonid\"])"
   ]
  },
  {
   "cell_type": "markdown",
   "id": "4245a88f-91d9-44ac-a658-8c2adb073b89",
   "metadata": {},
   "source": [
    "\n",
    "Each join links the `product_sales_table` with another table using a specific column (e.g., `customerid`, `productid`, `salespersonid`, `storeid`). These joins effectively combine data from multiple tables into a single dataset, allowing for more comprehensive analysis within the Atoti session."
   ]
  },
  {
   "cell_type": "code",
   "execution_count": 13,
   "id": "86b33b06-6faf-4951-af83-b8c16ec381e4",
   "metadata": {},
   "outputs": [],
   "source": [
    "product_sales_table.join(stores_table, product_sales_table[\"storeid\"] == stores_table[\"storeid\"])"
   ]
  },
  {
   "cell_type": "markdown",
   "id": "6f4a9461-4aee-422f-81ef-c820196eddb5",
   "metadata": {},
   "source": [
    "## Draw a Schema"
   ]
  },
  {
   "cell_type": "code",
   "execution_count": 14,
   "id": "11350840-0849-45ec-9b28-a535b5aa8975",
   "metadata": {},
   "outputs": [
    {
     "data": {
      "text/markdown": [
       "```mermaid\n",
       "erDiagram\n",
       "  \"Customer\" {\n",
       "    _ int PK \"customerid\"\n",
       "    _ String \"customeraltid\"\n",
       "    _ String \"customername\"\n",
       "    _ String \"gender\"\n",
       "  }\n",
       "  \"SalesPerson\" {\n",
       "    _ int PK \"salespersonid\"\n",
       "    _ String \"salespersonaltid\"\n",
       "    _ String \"salespersonname\"\n",
       "    nullable int \"storeid\"\n",
       "    _ String \"city\"\n",
       "    _ String \"state\"\n",
       "    _ String \"country\"\n",
       "  }\n",
       "  \"Product\" {\n",
       "    _ int PK \"productkey\"\n",
       "    _ String \"productaltkey\"\n",
       "    _ String \"productname\"\n",
       "    nullable double \"productactualcost\"\n",
       "    nullable double \"productsalescost\"\n",
       "  }\n",
       "  \"Stores\" {\n",
       "    _ int PK \"storeid\"\n",
       "    _ String \"storealtid\"\n",
       "    _ String \"storename\"\n",
       "    _ String \"storelocation\"\n",
       "    _ String \"city\"\n",
       "    _ String \"state\"\n",
       "    _ String \"country\"\n",
       "  }\n",
       "  \"ProductSales\" {\n",
       "    _ long PK \"transactionid\"\n",
       "    nullable int \"salesinvoicenumber\"\n",
       "    nullable int \"storeid\"\n",
       "    nullable int \"customerid\"\n",
       "    nullable int \"productid\"\n",
       "    nullable int \"salespersonid\"\n",
       "    nullable double \"quantity\"\n",
       "    nullable double \"salestotalcost\"\n",
       "    nullable double \"productactualcost\"\n",
       "    nullable double \"deviation\"\n",
       "  }\n",
       "  \"ProductSales\" }o--o| \"Product\" : \"`productid` == `productkey`\"\n",
       "  \"ProductSales\" }o--o| \"Customer\" : \"`customerid` == `customerid`\"\n",
       "  \"ProductSales\" }o--o| \"SalesPerson\" : \"`salespersonid` == `salespersonid`\"\n",
       "  \"ProductSales\" }o--o| \"Stores\" : \"`storeid` == `storeid`\"\n",
       "```\n"
      ],
      "text/plain": [
       "erDiagram\n",
       "  \"Customer\" {\n",
       "    _ int PK \"customerid\"\n",
       "    _ String \"customeraltid\"\n",
       "    _ String \"customername\"\n",
       "    _ String \"gender\"\n",
       "  }\n",
       "  \"SalesPerson\" {\n",
       "    _ int PK \"salespersonid\"\n",
       "    _ String \"salespersonaltid\"\n",
       "    _ String \"salespersonname\"\n",
       "    nullable int \"storeid\"\n",
       "    _ String \"city\"\n",
       "    _ String \"state\"\n",
       "    _ String \"country\"\n",
       "  }\n",
       "  \"Product\" {\n",
       "    _ int PK \"productkey\"\n",
       "    _ String \"productaltkey\"\n",
       "    _ String \"productname\"\n",
       "    nullable double \"productactualcost\"\n",
       "    nullable double \"productsalescost\"\n",
       "  }\n",
       "  \"Stores\" {\n",
       "    _ int PK \"storeid\"\n",
       "    _ String \"storealtid\"\n",
       "    _ String \"storename\"\n",
       "    _ String \"storelocation\"\n",
       "    _ String \"city\"\n",
       "    _ String \"state\"\n",
       "    _ String \"country\"\n",
       "  }\n",
       "  \"ProductSales\" {\n",
       "    _ long PK \"transactionid\"\n",
       "    nullable int \"salesinvoicenumber\"\n",
       "    nullable int \"storeid\"\n",
       "    nullable int \"customerid\"\n",
       "    nullable int \"productid\"\n",
       "    nullable int \"salespersonid\"\n",
       "    nullable double \"quantity\"\n",
       "    nullable double \"salestotalcost\"\n",
       "    nullable double \"productactualcost\"\n",
       "    nullable double \"deviation\"\n",
       "  }\n",
       "  \"ProductSales\" }o--o| \"Product\" : \"`productid` == `productkey`\"\n",
       "  \"ProductSales\" }o--o| \"Customer\" : \"`customerid` == `customerid`\"\n",
       "  \"ProductSales\" }o--o| \"SalesPerson\" : \"`salespersonid` == `salespersonid`\"\n",
       "  \"ProductSales\" }o--o| \"Stores\" : \"`storeid` == `storeid`\""
      ]
     },
     "execution_count": 14,
     "metadata": {},
     "output_type": "execute_result"
    }
   ],
   "source": [
    "session.tables.schema"
   ]
  },
  {
   "cell_type": "code",
   "execution_count": 15,
   "id": "cef318a0-52c2-4c1a-a1c0-295b966aa4cf",
   "metadata": {},
   "outputs": [],
   "source": [
    "cube = session.create_cube(product_sales_table)"
   ]
  },
  {
   "cell_type": "code",
   "execution_count": 16,
   "id": "16e2c037-0119-4732-b927-df06479addd9",
   "metadata": {},
   "outputs": [
    {
     "data": {
      "application/json": {
       "Dimensions": {
        "Customer": {
         "customeraltid": [
          "customeraltid"
         ],
         "customername": [
          "customername"
         ],
         "gender": [
          "gender"
         ]
        },
        "Product": {
         "productaltkey": [
          "productaltkey"
         ],
         "productname": [
          "productname"
         ]
        },
        "ProductSales": {
         "transactionid": [
          "transactionid"
         ]
        },
        "SalesPerson": {
         "city": [
          "city"
         ],
         "country": [
          "country"
         ],
         "salespersonaltid": [
          "salespersonaltid"
         ],
         "salespersonname": [
          "salespersonname"
         ],
         "state": [
          "state"
         ]
        },
        "Stores": {
         "city": [
          "city"
         ],
         "country": [
          "country"
         ],
         "state": [
          "state"
         ],
         "storealtid": [
          "storealtid"
         ],
         "storelocation": [
          "storelocation"
         ],
         "storename": [
          "storename"
         ]
        }
       },
       "Measures": {
        "contributors.COUNT": {
         "formatter": "INT[#,###]"
        },
        "customerid.MEAN": {
         "formatter": "DOUBLE[#,###.00]"
        },
        "customerid.SUM": {
         "formatter": "INT[#,###]"
        },
        "deviation.MEAN": {
         "formatter": "DOUBLE[#,###.00]"
        },
        "deviation.SUM": {
         "formatter": "DOUBLE[#,###.00]"
        },
        "productactualcost.MEAN": {
         "formatter": "DOUBLE[#,###.00]"
        },
        "productactualcost.SUM": {
         "formatter": "DOUBLE[#,###.00]"
        },
        "productid.MEAN": {
         "formatter": "DOUBLE[#,###.00]"
        },
        "productid.SUM": {
         "formatter": "INT[#,###]"
        },
        "quantity.MEAN": {
         "formatter": "DOUBLE[#,###.00]"
        },
        "quantity.SUM": {
         "formatter": "DOUBLE[#,###.00]"
        },
        "salesinvoicenumber.MEAN": {
         "formatter": "DOUBLE[#,###.00]"
        },
        "salesinvoicenumber.SUM": {
         "formatter": "INT[#,###]"
        },
        "salespersonid.MEAN": {
         "formatter": "DOUBLE[#,###.00]"
        },
        "salespersonid.SUM": {
         "formatter": "INT[#,###]"
        },
        "salestotalcost.MEAN": {
         "formatter": "DOUBLE[#,###.00]"
        },
        "salestotalcost.SUM": {
         "formatter": "DOUBLE[#,###.00]"
        },
        "storeid.MEAN": {
         "formatter": "DOUBLE[#,###.00]"
        },
        "storeid.SUM": {
         "formatter": "INT[#,###]"
        }
       }
      },
      "text/html": [
       "<ul>\n",
       "<li>ProductSales\n",
       "  <ul>\n",
       "  <li>Dimensions\n",
       "    <ul>\n",
       "    <li>Customer\n",
       "      <ul>\n",
       "      <li>customeraltid\n",
       "        <ol>\n",
       "        <li>customeraltid</li>\n",
       "        </ol>      </li>\n",
       "      <li>customername\n",
       "        <ol>\n",
       "        <li>customername</li>\n",
       "        </ol>      </li>\n",
       "      <li>gender\n",
       "        <ol>\n",
       "        <li>gender</li>\n",
       "        </ol>      </li>\n",
       "      </ul>\n",
       "    </li>\n",
       "    <li>Product\n",
       "      <ul>\n",
       "      <li>productaltkey\n",
       "        <ol>\n",
       "        <li>productaltkey</li>\n",
       "        </ol>      </li>\n",
       "      <li>productname\n",
       "        <ol>\n",
       "        <li>productname</li>\n",
       "        </ol>      </li>\n",
       "      </ul>\n",
       "    </li>\n",
       "    <li>ProductSales\n",
       "      <ul>\n",
       "      <li>transactionid\n",
       "        <ol>\n",
       "        <li>transactionid</li>\n",
       "        </ol>      </li>\n",
       "      </ul>\n",
       "    </li>\n",
       "    <li>SalesPerson\n",
       "      <ul>\n",
       "      <li>city\n",
       "        <ol>\n",
       "        <li>city</li>\n",
       "        </ol>      </li>\n",
       "      <li>country\n",
       "        <ol>\n",
       "        <li>country</li>\n",
       "        </ol>      </li>\n",
       "      <li>salespersonaltid\n",
       "        <ol>\n",
       "        <li>salespersonaltid</li>\n",
       "        </ol>      </li>\n",
       "      <li>salespersonname\n",
       "        <ol>\n",
       "        <li>salespersonname</li>\n",
       "        </ol>      </li>\n",
       "      <li>state\n",
       "        <ol>\n",
       "        <li>state</li>\n",
       "        </ol>      </li>\n",
       "      </ul>\n",
       "    </li>\n",
       "    <li>Stores\n",
       "      <ul>\n",
       "      <li>city\n",
       "        <ol>\n",
       "        <li>city</li>\n",
       "        </ol>      </li>\n",
       "      <li>country\n",
       "        <ol>\n",
       "        <li>country</li>\n",
       "        </ol>      </li>\n",
       "      <li>state\n",
       "        <ol>\n",
       "        <li>state</li>\n",
       "        </ol>      </li>\n",
       "      <li>storealtid\n",
       "        <ol>\n",
       "        <li>storealtid</li>\n",
       "        </ol>      </li>\n",
       "      <li>storelocation\n",
       "        <ol>\n",
       "        <li>storelocation</li>\n",
       "        </ol>      </li>\n",
       "      <li>storename\n",
       "        <ol>\n",
       "        <li>storename</li>\n",
       "        </ol>      </li>\n",
       "      </ul>\n",
       "    </li>\n",
       "    </ul>\n",
       "  </li>\n",
       "  <li>Measures\n",
       "    <ul>\n",
       "    <li>contributors.COUNT\n",
       "      <ul>\n",
       "      <li>formatter: INT[#,###]</li>\n",
       "      </ul>\n",
       "    </li>\n",
       "    <li>customerid.MEAN\n",
       "      <ul>\n",
       "      <li>formatter: DOUBLE[#,###.00]</li>\n",
       "      </ul>\n",
       "    </li>\n",
       "    <li>customerid.SUM\n",
       "      <ul>\n",
       "      <li>formatter: INT[#,###]</li>\n",
       "      </ul>\n",
       "    </li>\n",
       "    <li>deviation.MEAN\n",
       "      <ul>\n",
       "      <li>formatter: DOUBLE[#,###.00]</li>\n",
       "      </ul>\n",
       "    </li>\n",
       "    <li>deviation.SUM\n",
       "      <ul>\n",
       "      <li>formatter: DOUBLE[#,###.00]</li>\n",
       "      </ul>\n",
       "    </li>\n",
       "    <li>productactualcost.MEAN\n",
       "      <ul>\n",
       "      <li>formatter: DOUBLE[#,###.00]</li>\n",
       "      </ul>\n",
       "    </li>\n",
       "    <li>productactualcost.SUM\n",
       "      <ul>\n",
       "      <li>formatter: DOUBLE[#,###.00]</li>\n",
       "      </ul>\n",
       "    </li>\n",
       "    <li>productid.MEAN\n",
       "      <ul>\n",
       "      <li>formatter: DOUBLE[#,###.00]</li>\n",
       "      </ul>\n",
       "    </li>\n",
       "    <li>productid.SUM\n",
       "      <ul>\n",
       "      <li>formatter: INT[#,###]</li>\n",
       "      </ul>\n",
       "    </li>\n",
       "    <li>quantity.MEAN\n",
       "      <ul>\n",
       "      <li>formatter: DOUBLE[#,###.00]</li>\n",
       "      </ul>\n",
       "    </li>\n",
       "    <li>quantity.SUM\n",
       "      <ul>\n",
       "      <li>formatter: DOUBLE[#,###.00]</li>\n",
       "      </ul>\n",
       "    </li>\n",
       "    <li>salesinvoicenumber.MEAN\n",
       "      <ul>\n",
       "      <li>formatter: DOUBLE[#,###.00]</li>\n",
       "      </ul>\n",
       "    </li>\n",
       "    <li>salesinvoicenumber.SUM\n",
       "      <ul>\n",
       "      <li>formatter: INT[#,###]</li>\n",
       "      </ul>\n",
       "    </li>\n",
       "    <li>salespersonid.MEAN\n",
       "      <ul>\n",
       "      <li>formatter: DOUBLE[#,###.00]</li>\n",
       "      </ul>\n",
       "    </li>\n",
       "    <li>salespersonid.SUM\n",
       "      <ul>\n",
       "      <li>formatter: INT[#,###]</li>\n",
       "      </ul>\n",
       "    </li>\n",
       "    <li>salestotalcost.MEAN\n",
       "      <ul>\n",
       "      <li>formatter: DOUBLE[#,###.00]</li>\n",
       "      </ul>\n",
       "    </li>\n",
       "    <li>salestotalcost.SUM\n",
       "      <ul>\n",
       "      <li>formatter: DOUBLE[#,###.00]</li>\n",
       "      </ul>\n",
       "    </li>\n",
       "    <li>storeid.MEAN\n",
       "      <ul>\n",
       "      <li>formatter: DOUBLE[#,###.00]</li>\n",
       "      </ul>\n",
       "    </li>\n",
       "    <li>storeid.SUM\n",
       "      <ul>\n",
       "      <li>formatter: INT[#,###]</li>\n",
       "      </ul>\n",
       "    </li>\n",
       "    </ul>\n",
       "  </li>\n",
       "  </ul>\n",
       "</li>\n",
       "</ul>\n"
      ],
      "text/plain": [
       "<atoti.cube.Cube at 0x7fffb04ba650>"
      ]
     },
     "execution_count": 16,
     "metadata": {
      "application/json": {
       "expanded": false,
       "root": "ProductSales"
      }
     },
     "output_type": "execute_result"
    }
   ],
   "source": [
    "cube"
   ]
  },
  {
   "cell_type": "code",
   "execution_count": 17,
   "id": "6cf0fe21-c3fb-4b65-9965-065de9277395",
   "metadata": {},
   "outputs": [],
   "source": [
    "hierarchies, levels, measures = cube.hierarchies, cube.levels, cube.measures"
   ]
  },
  {
   "cell_type": "markdown",
   "id": "eee3251c-aca9-44ed-87de-6b7573a369ac",
   "metadata": {},
   "source": [
    "In data warehousing, levels and hierarchies are fundamental concepts used to organize and structure data within dimensional models. Here's a breakdown of each concept:\n",
    "\n",
    "1. **Levels**:\n",
    "   - In the context of data warehousing, a \"level\" refers to a specific position within a hierarchy.\n",
    "   - Levels represent the different granularities or degrees of detail within a dimension.\n",
    "   - For example, in a time dimension, levels could include Year, Quarter, Month, Week, and Day. Each level represents a different level of granularity or detail within the time dimension.\n",
    "\n",
    "2. **Hierarchies**:\n",
    "   - A \"hierarchy\" represents the logical structure that arranges levels in a specific order or relationship.\n",
    "   - Hierarchies define the parent-child relationships between different levels within a dimension.\n",
    "   - Typically, hierarchies have a top-down structure, with higher levels encompassing lower levels.\n",
    "   - In a time dimension, for instance, the Year level would be at the top of the hierarchy, followed by Quarter, Month, Week, and Day levels, with each level being subordinate to the one above it.\n",
    "\n",
    "In summary, levels represent the individual positions or granularities within a dimension, while hierarchies define the logical relationships and order among these levels. Together, levels and hierarchies provide a structured way to organize and analyze data within dimensional models, facilitating efficient querying and reporting in data warehousing environments."
   ]
  },
  {
   "cell_type": "code",
   "execution_count": 18,
   "id": "e619517c-2f79-4169-b201-64fbff5d418e",
   "metadata": {},
   "outputs": [
    {
     "data": {
      "application/json": {
       "Customer": {
        "customeraltid": [
         "customeraltid"
        ],
        "customername": [
         "customername"
        ],
        "gender": [
         "gender"
        ]
       },
       "Product": {
        "productaltkey": [
         "productaltkey"
        ],
        "productname": [
         "productname"
        ]
       },
       "ProductSales": {
        "transactionid": [
         "transactionid"
        ]
       },
       "SalesPerson": {
        "city": [
         "city"
        ],
        "country": [
         "country"
        ],
        "salespersonaltid": [
         "salespersonaltid"
        ],
        "salespersonname": [
         "salespersonname"
        ],
        "state": [
         "state"
        ]
       },
       "Stores": {
        "city": [
         "city"
        ],
        "country": [
         "country"
        ],
        "state": [
         "state"
        ],
        "storealtid": [
         "storealtid"
        ],
        "storelocation": [
         "storelocation"
        ],
        "storename": [
         "storename"
        ]
       }
      },
      "text/html": [
       "<ul>\n",
       "<li>Dimensions\n",
       "  <ul>\n",
       "  <li>Customer\n",
       "    <ul>\n",
       "    <li>customeraltid\n",
       "      <ol>\n",
       "      <li>customeraltid</li>\n",
       "      </ol>    </li>\n",
       "    <li>customername\n",
       "      <ol>\n",
       "      <li>customername</li>\n",
       "      </ol>    </li>\n",
       "    <li>gender\n",
       "      <ol>\n",
       "      <li>gender</li>\n",
       "      </ol>    </li>\n",
       "    </ul>\n",
       "  </li>\n",
       "  <li>Product\n",
       "    <ul>\n",
       "    <li>productaltkey\n",
       "      <ol>\n",
       "      <li>productaltkey</li>\n",
       "      </ol>    </li>\n",
       "    <li>productname\n",
       "      <ol>\n",
       "      <li>productname</li>\n",
       "      </ol>    </li>\n",
       "    </ul>\n",
       "  </li>\n",
       "  <li>ProductSales\n",
       "    <ul>\n",
       "    <li>transactionid\n",
       "      <ol>\n",
       "      <li>transactionid</li>\n",
       "      </ol>    </li>\n",
       "    </ul>\n",
       "  </li>\n",
       "  <li>SalesPerson\n",
       "    <ul>\n",
       "    <li>city\n",
       "      <ol>\n",
       "      <li>city</li>\n",
       "      </ol>    </li>\n",
       "    <li>country\n",
       "      <ol>\n",
       "      <li>country</li>\n",
       "      </ol>    </li>\n",
       "    <li>salespersonaltid\n",
       "      <ol>\n",
       "      <li>salespersonaltid</li>\n",
       "      </ol>    </li>\n",
       "    <li>salespersonname\n",
       "      <ol>\n",
       "      <li>salespersonname</li>\n",
       "      </ol>    </li>\n",
       "    <li>state\n",
       "      <ol>\n",
       "      <li>state</li>\n",
       "      </ol>    </li>\n",
       "    </ul>\n",
       "  </li>\n",
       "  <li>Stores\n",
       "    <ul>\n",
       "    <li>city\n",
       "      <ol>\n",
       "      <li>city</li>\n",
       "      </ol>    </li>\n",
       "    <li>country\n",
       "      <ol>\n",
       "      <li>country</li>\n",
       "      </ol>    </li>\n",
       "    <li>state\n",
       "      <ol>\n",
       "      <li>state</li>\n",
       "      </ol>    </li>\n",
       "    <li>storealtid\n",
       "      <ol>\n",
       "      <li>storealtid</li>\n",
       "      </ol>    </li>\n",
       "    <li>storelocation\n",
       "      <ol>\n",
       "      <li>storelocation</li>\n",
       "      </ol>    </li>\n",
       "    <li>storename\n",
       "      <ol>\n",
       "      <li>storename</li>\n",
       "      </ol>    </li>\n",
       "    </ul>\n",
       "  </li>\n",
       "  </ul>\n",
       "</li>\n",
       "</ul>\n"
      ],
      "text/plain": [
       "{('Stores', 'storename'): <atoti.hierarchy.Hierarchy object at 0x7fffb04e42d0>, ('Stores', 'state'): <atoti.hierarchy.Hierarchy object at 0x7fffb0502450>, ('Product', 'productname'): <atoti.hierarchy.Hierarchy object at 0x7fffb0502590>, ('SalesPerson', 'city'): <atoti.hierarchy.Hierarchy object at 0x7fffb05026d0>, ('Product', 'productaltkey'): <atoti.hierarchy.Hierarchy object at 0x7fffb0502810>, ('SalesPerson', 'salespersonaltid'): <atoti.hierarchy.Hierarchy object at 0x7fffb0502950>, ('Stores', 'storealtid'): <atoti.hierarchy.Hierarchy object at 0x7fffb0502a90>, ('Stores', 'city'): <atoti.hierarchy.Hierarchy object at 0x7fffb0502bd0>, ('ProductSales', 'transactionid'): <atoti.hierarchy.Hierarchy object at 0x7fffb0502d10>, ('Customer', 'customername'): <atoti.hierarchy.Hierarchy object at 0x7fffb0502e50>, ('SalesPerson', 'salespersonname'): <atoti.hierarchy.Hierarchy object at 0x7fffb0502f90>, ('SalesPerson', 'country'): <atoti.hierarchy.Hierarchy object at 0x7fffb05030d0>, ('Customer', 'customeraltid'): <atoti.hierarchy.Hierarchy object at 0x7fffb0503210>, ('Stores', 'storelocation'): <atoti.hierarchy.Hierarchy object at 0x7fffb0503350>, ('SalesPerson', 'state'): <atoti.hierarchy.Hierarchy object at 0x7fffb0503490>, ('Stores', 'country'): <atoti.hierarchy.Hierarchy object at 0x7fffb05035d0>, ('Customer', 'gender'): <atoti.hierarchy.Hierarchy object at 0x7fffb0503710>}"
      ]
     },
     "execution_count": 18,
     "metadata": {
      "application/json": {
       "expanded": true,
       "root": "Dimensions"
      }
     },
     "output_type": "execute_result"
    }
   ],
   "source": [
    "# original hierarchies\n",
    "hierarchies"
   ]
  },
  {
   "cell_type": "code",
   "execution_count": 19,
   "id": "dd91e63e-43f5-46bf-8e0d-8da58157f852",
   "metadata": {},
   "outputs": [
    {
     "data": {
      "application/json": {
       "city (SalesPerson/city/city)": {
        "dimension": "SalesPerson",
        "hierarchy": "city",
        "order": "NaturalOrder",
        "type": "String"
       },
       "city (Stores/city/city)": {
        "dimension": "Stores",
        "hierarchy": "city",
        "order": "NaturalOrder",
        "type": "String"
       },
       "country (SalesPerson/country/country)": {
        "dimension": "SalesPerson",
        "hierarchy": "country",
        "order": "NaturalOrder",
        "type": "String"
       },
       "country (Stores/country/country)": {
        "dimension": "Stores",
        "hierarchy": "country",
        "order": "NaturalOrder",
        "type": "String"
       },
       "customeraltid (Customer/customeraltid/customeraltid)": {
        "dimension": "Customer",
        "hierarchy": "customeraltid",
        "order": "NaturalOrder",
        "type": "String"
       },
       "customername (Customer/customername/customername)": {
        "dimension": "Customer",
        "hierarchy": "customername",
        "order": "NaturalOrder",
        "type": "String"
       },
       "gender (Customer/gender/gender)": {
        "dimension": "Customer",
        "hierarchy": "gender",
        "order": "NaturalOrder",
        "type": "String"
       },
       "productaltkey (Product/productaltkey/productaltkey)": {
        "dimension": "Product",
        "hierarchy": "productaltkey",
        "order": "NaturalOrder",
        "type": "String"
       },
       "productname (Product/productname/productname)": {
        "dimension": "Product",
        "hierarchy": "productname",
        "order": "NaturalOrder",
        "type": "String"
       },
       "salespersonaltid (SalesPerson/salespersonaltid/salespersonaltid)": {
        "dimension": "SalesPerson",
        "hierarchy": "salespersonaltid",
        "order": "NaturalOrder",
        "type": "String"
       },
       "salespersonname (SalesPerson/salespersonname/salespersonname)": {
        "dimension": "SalesPerson",
        "hierarchy": "salespersonname",
        "order": "NaturalOrder",
        "type": "String"
       },
       "state (SalesPerson/state/state)": {
        "dimension": "SalesPerson",
        "hierarchy": "state",
        "order": "NaturalOrder",
        "type": "String"
       },
       "state (Stores/state/state)": {
        "dimension": "Stores",
        "hierarchy": "state",
        "order": "NaturalOrder",
        "type": "String"
       },
       "storealtid (Stores/storealtid/storealtid)": {
        "dimension": "Stores",
        "hierarchy": "storealtid",
        "order": "NaturalOrder",
        "type": "String"
       },
       "storelocation (Stores/storelocation/storelocation)": {
        "dimension": "Stores",
        "hierarchy": "storelocation",
        "order": "NaturalOrder",
        "type": "String"
       },
       "storename (Stores/storename/storename)": {
        "dimension": "Stores",
        "hierarchy": "storename",
        "order": "NaturalOrder",
        "type": "String"
       },
       "transactionid (ProductSales/transactionid/transactionid)": {
        "dimension": "ProductSales",
        "hierarchy": "transactionid",
        "order": "NaturalOrder",
        "type": "long"
       }
      },
      "text/html": [
       "<ul>\n",
       "<li>Levels\n",
       "  <ul>\n",
       "  <li>city (SalesPerson/city/city)\n",
       "    <ul>\n",
       "    <li>dimension: SalesPerson</li>\n",
       "    <li>hierarchy: city</li>\n",
       "    <li>type: String</li>\n",
       "    <li>order: NaturalOrder</li>\n",
       "    </ul>\n",
       "  </li>\n",
       "  <li>city (Stores/city/city)\n",
       "    <ul>\n",
       "    <li>dimension: Stores</li>\n",
       "    <li>hierarchy: city</li>\n",
       "    <li>type: String</li>\n",
       "    <li>order: NaturalOrder</li>\n",
       "    </ul>\n",
       "  </li>\n",
       "  <li>country (SalesPerson/country/country)\n",
       "    <ul>\n",
       "    <li>dimension: SalesPerson</li>\n",
       "    <li>hierarchy: country</li>\n",
       "    <li>type: String</li>\n",
       "    <li>order: NaturalOrder</li>\n",
       "    </ul>\n",
       "  </li>\n",
       "  <li>country (Stores/country/country)\n",
       "    <ul>\n",
       "    <li>dimension: Stores</li>\n",
       "    <li>hierarchy: country</li>\n",
       "    <li>type: String</li>\n",
       "    <li>order: NaturalOrder</li>\n",
       "    </ul>\n",
       "  </li>\n",
       "  <li>customeraltid (Customer/customeraltid/customeraltid)\n",
       "    <ul>\n",
       "    <li>dimension: Customer</li>\n",
       "    <li>hierarchy: customeraltid</li>\n",
       "    <li>type: String</li>\n",
       "    <li>order: NaturalOrder</li>\n",
       "    </ul>\n",
       "  </li>\n",
       "  <li>customername (Customer/customername/customername)\n",
       "    <ul>\n",
       "    <li>dimension: Customer</li>\n",
       "    <li>hierarchy: customername</li>\n",
       "    <li>type: String</li>\n",
       "    <li>order: NaturalOrder</li>\n",
       "    </ul>\n",
       "  </li>\n",
       "  <li>gender (Customer/gender/gender)\n",
       "    <ul>\n",
       "    <li>dimension: Customer</li>\n",
       "    <li>hierarchy: gender</li>\n",
       "    <li>type: String</li>\n",
       "    <li>order: NaturalOrder</li>\n",
       "    </ul>\n",
       "  </li>\n",
       "  <li>productaltkey (Product/productaltkey/productaltkey)\n",
       "    <ul>\n",
       "    <li>dimension: Product</li>\n",
       "    <li>hierarchy: productaltkey</li>\n",
       "    <li>type: String</li>\n",
       "    <li>order: NaturalOrder</li>\n",
       "    </ul>\n",
       "  </li>\n",
       "  <li>productname (Product/productname/productname)\n",
       "    <ul>\n",
       "    <li>dimension: Product</li>\n",
       "    <li>hierarchy: productname</li>\n",
       "    <li>type: String</li>\n",
       "    <li>order: NaturalOrder</li>\n",
       "    </ul>\n",
       "  </li>\n",
       "  <li>salespersonaltid (SalesPerson/salespersonaltid/salespersonaltid)\n",
       "    <ul>\n",
       "    <li>dimension: SalesPerson</li>\n",
       "    <li>hierarchy: salespersonaltid</li>\n",
       "    <li>type: String</li>\n",
       "    <li>order: NaturalOrder</li>\n",
       "    </ul>\n",
       "  </li>\n",
       "  <li>salespersonname (SalesPerson/salespersonname/salespersonname)\n",
       "    <ul>\n",
       "    <li>dimension: SalesPerson</li>\n",
       "    <li>hierarchy: salespersonname</li>\n",
       "    <li>type: String</li>\n",
       "    <li>order: NaturalOrder</li>\n",
       "    </ul>\n",
       "  </li>\n",
       "  <li>state (SalesPerson/state/state)\n",
       "    <ul>\n",
       "    <li>dimension: SalesPerson</li>\n",
       "    <li>hierarchy: state</li>\n",
       "    <li>type: String</li>\n",
       "    <li>order: NaturalOrder</li>\n",
       "    </ul>\n",
       "  </li>\n",
       "  <li>state (Stores/state/state)\n",
       "    <ul>\n",
       "    <li>dimension: Stores</li>\n",
       "    <li>hierarchy: state</li>\n",
       "    <li>type: String</li>\n",
       "    <li>order: NaturalOrder</li>\n",
       "    </ul>\n",
       "  </li>\n",
       "  <li>storealtid (Stores/storealtid/storealtid)\n",
       "    <ul>\n",
       "    <li>dimension: Stores</li>\n",
       "    <li>hierarchy: storealtid</li>\n",
       "    <li>type: String</li>\n",
       "    <li>order: NaturalOrder</li>\n",
       "    </ul>\n",
       "  </li>\n",
       "  <li>storelocation (Stores/storelocation/storelocation)\n",
       "    <ul>\n",
       "    <li>dimension: Stores</li>\n",
       "    <li>hierarchy: storelocation</li>\n",
       "    <li>type: String</li>\n",
       "    <li>order: NaturalOrder</li>\n",
       "    </ul>\n",
       "  </li>\n",
       "  <li>storename (Stores/storename/storename)\n",
       "    <ul>\n",
       "    <li>dimension: Stores</li>\n",
       "    <li>hierarchy: storename</li>\n",
       "    <li>type: String</li>\n",
       "    <li>order: NaturalOrder</li>\n",
       "    </ul>\n",
       "  </li>\n",
       "  <li>transactionid (ProductSales/transactionid/transactionid)\n",
       "    <ul>\n",
       "    <li>dimension: ProductSales</li>\n",
       "    <li>hierarchy: transactionid</li>\n",
       "    <li>type: long</li>\n",
       "    <li>order: NaturalOrder</li>\n",
       "    </ul>\n",
       "  </li>\n",
       "  </ul>\n",
       "</li>\n",
       "</ul>\n"
      ],
      "text/plain": [
       "<atoti.levels.Levels at 0x7fffb04ce5d0>"
      ]
     },
     "execution_count": 19,
     "metadata": {
      "application/json": {
       "expanded": true,
       "root": "Levels"
      }
     },
     "output_type": "execute_result"
    }
   ],
   "source": [
    "# original levels\n",
    "levels"
   ]
  },
  {
   "cell_type": "code",
   "execution_count": 20,
   "id": "8b013aca-3857-4909-a210-7d7401a55bd0",
   "metadata": {},
   "outputs": [
    {
     "data": {
      "application/json": {
       "city (SalesPerson/city/city)": {
        "dimension": "SalesPerson",
        "hierarchy": "city",
        "order": "NaturalOrder",
        "type": "String"
       },
       "city (Stores/city/city)": {
        "dimension": "Stores",
        "hierarchy": "city",
        "order": "NaturalOrder",
        "type": "String"
       },
       "country (SalesPerson/country/country)": {
        "dimension": "SalesPerson",
        "hierarchy": "country",
        "order": "NaturalOrder",
        "type": "String"
       },
       "country (Stores/country/country)": {
        "dimension": "Stores",
        "hierarchy": "country",
        "order": "NaturalOrder",
        "type": "String"
       },
       "customeraltid (Customer/customeraltid/customeraltid)": {
        "dimension": "Customer",
        "hierarchy": "customeraltid",
        "order": "NaturalOrder",
        "type": "String"
       },
       "customername (Customer/customername/customername)": {
        "dimension": "Customer",
        "hierarchy": "customername",
        "order": "NaturalOrder",
        "type": "String"
       },
       "gender (Customer/gender/gender)": {
        "dimension": "Customer",
        "hierarchy": "gender",
        "order": "NaturalOrder",
        "type": "String"
       },
       "productaltkey (Product/productaltkey/productaltkey)": {
        "dimension": "Product",
        "hierarchy": "productaltkey",
        "order": "NaturalOrder",
        "type": "String"
       },
       "productname (Product/productname/productname)": {
        "dimension": "Product",
        "hierarchy": "productname",
        "order": "NaturalOrder",
        "type": "String"
       },
       "salespersonaltid (SalesPerson/salespersonaltid/salespersonaltid)": {
        "dimension": "SalesPerson",
        "hierarchy": "salespersonaltid",
        "order": "NaturalOrder",
        "type": "String"
       },
       "salespersonname (SalesPerson/salespersonname/salespersonname)": {
        "dimension": "SalesPerson",
        "hierarchy": "salespersonname",
        "order": "NaturalOrder",
        "type": "String"
       },
       "state (SalesPerson/state/state)": {
        "dimension": "SalesPerson",
        "hierarchy": "state",
        "order": "NaturalOrder",
        "type": "String"
       },
       "state (Stores/state/state)": {
        "dimension": "Stores",
        "hierarchy": "state",
        "order": "NaturalOrder",
        "type": "String"
       },
       "storealtid (Stores/storealtid/storealtid)": {
        "dimension": "Stores",
        "hierarchy": "storealtid",
        "order": "NaturalOrder",
        "type": "String"
       },
       "storelocation (Stores/storelocation/storelocation)": {
        "dimension": "Stores",
        "hierarchy": "storelocation",
        "order": "NaturalOrder",
        "type": "String"
       },
       "storename (Stores/storename/storename)": {
        "dimension": "Stores",
        "hierarchy": "storename",
        "order": "NaturalOrder",
        "type": "String"
       },
       "transactionid (ProductSales/transactionid/transactionid)": {
        "dimension": "ProductSales",
        "hierarchy": "transactionid",
        "order": "NaturalOrder",
        "type": "long"
       }
      },
      "text/html": [
       "<ul>\n",
       "<li>Levels\n",
       "  <ul>\n",
       "  <li>city (SalesPerson/city/city)\n",
       "    <ul>\n",
       "    <li>dimension: SalesPerson</li>\n",
       "    <li>hierarchy: city</li>\n",
       "    <li>type: String</li>\n",
       "    <li>order: NaturalOrder</li>\n",
       "    </ul>\n",
       "  </li>\n",
       "  <li>city (Stores/city/city)\n",
       "    <ul>\n",
       "    <li>dimension: Stores</li>\n",
       "    <li>hierarchy: city</li>\n",
       "    <li>type: String</li>\n",
       "    <li>order: NaturalOrder</li>\n",
       "    </ul>\n",
       "  </li>\n",
       "  <li>country (SalesPerson/country/country)\n",
       "    <ul>\n",
       "    <li>dimension: SalesPerson</li>\n",
       "    <li>hierarchy: country</li>\n",
       "    <li>type: String</li>\n",
       "    <li>order: NaturalOrder</li>\n",
       "    </ul>\n",
       "  </li>\n",
       "  <li>country (Stores/country/country)\n",
       "    <ul>\n",
       "    <li>dimension: Stores</li>\n",
       "    <li>hierarchy: country</li>\n",
       "    <li>type: String</li>\n",
       "    <li>order: NaturalOrder</li>\n",
       "    </ul>\n",
       "  </li>\n",
       "  <li>customeraltid (Customer/customeraltid/customeraltid)\n",
       "    <ul>\n",
       "    <li>dimension: Customer</li>\n",
       "    <li>hierarchy: customeraltid</li>\n",
       "    <li>type: String</li>\n",
       "    <li>order: NaturalOrder</li>\n",
       "    </ul>\n",
       "  </li>\n",
       "  <li>customername (Customer/customername/customername)\n",
       "    <ul>\n",
       "    <li>dimension: Customer</li>\n",
       "    <li>hierarchy: customername</li>\n",
       "    <li>type: String</li>\n",
       "    <li>order: NaturalOrder</li>\n",
       "    </ul>\n",
       "  </li>\n",
       "  <li>gender (Customer/gender/gender)\n",
       "    <ul>\n",
       "    <li>dimension: Customer</li>\n",
       "    <li>hierarchy: gender</li>\n",
       "    <li>type: String</li>\n",
       "    <li>order: NaturalOrder</li>\n",
       "    </ul>\n",
       "  </li>\n",
       "  <li>productaltkey (Product/productaltkey/productaltkey)\n",
       "    <ul>\n",
       "    <li>dimension: Product</li>\n",
       "    <li>hierarchy: productaltkey</li>\n",
       "    <li>type: String</li>\n",
       "    <li>order: NaturalOrder</li>\n",
       "    </ul>\n",
       "  </li>\n",
       "  <li>productname (Product/productname/productname)\n",
       "    <ul>\n",
       "    <li>dimension: Product</li>\n",
       "    <li>hierarchy: productname</li>\n",
       "    <li>type: String</li>\n",
       "    <li>order: NaturalOrder</li>\n",
       "    </ul>\n",
       "  </li>\n",
       "  <li>salespersonaltid (SalesPerson/salespersonaltid/salespersonaltid)\n",
       "    <ul>\n",
       "    <li>dimension: SalesPerson</li>\n",
       "    <li>hierarchy: salespersonaltid</li>\n",
       "    <li>type: String</li>\n",
       "    <li>order: NaturalOrder</li>\n",
       "    </ul>\n",
       "  </li>\n",
       "  <li>salespersonname (SalesPerson/salespersonname/salespersonname)\n",
       "    <ul>\n",
       "    <li>dimension: SalesPerson</li>\n",
       "    <li>hierarchy: salespersonname</li>\n",
       "    <li>type: String</li>\n",
       "    <li>order: NaturalOrder</li>\n",
       "    </ul>\n",
       "  </li>\n",
       "  <li>state (SalesPerson/state/state)\n",
       "    <ul>\n",
       "    <li>dimension: SalesPerson</li>\n",
       "    <li>hierarchy: state</li>\n",
       "    <li>type: String</li>\n",
       "    <li>order: NaturalOrder</li>\n",
       "    </ul>\n",
       "  </li>\n",
       "  <li>state (Stores/state/state)\n",
       "    <ul>\n",
       "    <li>dimension: Stores</li>\n",
       "    <li>hierarchy: state</li>\n",
       "    <li>type: String</li>\n",
       "    <li>order: NaturalOrder</li>\n",
       "    </ul>\n",
       "  </li>\n",
       "  <li>storealtid (Stores/storealtid/storealtid)\n",
       "    <ul>\n",
       "    <li>dimension: Stores</li>\n",
       "    <li>hierarchy: storealtid</li>\n",
       "    <li>type: String</li>\n",
       "    <li>order: NaturalOrder</li>\n",
       "    </ul>\n",
       "  </li>\n",
       "  <li>storelocation (Stores/storelocation/storelocation)\n",
       "    <ul>\n",
       "    <li>dimension: Stores</li>\n",
       "    <li>hierarchy: storelocation</li>\n",
       "    <li>type: String</li>\n",
       "    <li>order: NaturalOrder</li>\n",
       "    </ul>\n",
       "  </li>\n",
       "  <li>storename (Stores/storename/storename)\n",
       "    <ul>\n",
       "    <li>dimension: Stores</li>\n",
       "    <li>hierarchy: storename</li>\n",
       "    <li>type: String</li>\n",
       "    <li>order: NaturalOrder</li>\n",
       "    </ul>\n",
       "  </li>\n",
       "  <li>transactionid (ProductSales/transactionid/transactionid)\n",
       "    <ul>\n",
       "    <li>dimension: ProductSales</li>\n",
       "    <li>hierarchy: transactionid</li>\n",
       "    <li>type: long</li>\n",
       "    <li>order: NaturalOrder</li>\n",
       "    </ul>\n",
       "  </li>\n",
       "  </ul>\n",
       "</li>\n",
       "</ul>\n"
      ],
      "text/plain": [
       "<atoti.levels.Levels at 0x7fffb04ce5d0>"
      ]
     },
     "execution_count": 20,
     "metadata": {
      "application/json": {
       "expanded": true,
       "root": "Levels"
      }
     },
     "output_type": "execute_result"
    }
   ],
   "source": [
    "levels"
   ]
  },
  {
   "cell_type": "code",
   "execution_count": 21,
   "id": "25f9d042-4f46-411d-ae5e-cf5503a8c212",
   "metadata": {},
   "outputs": [],
   "source": [
    "# dimensions\n",
    "# Customer: CustomerName, Gender\n",
    "# SalesPerson: SalesPersonName, City, State, Country\n",
    "# Product: ProductName\n",
    "# Store: StoreName, City, State"
   ]
  },
  {
   "cell_type": "code",
   "execution_count": 22,
   "id": "a1e60270-b699-4f79-82cd-8d114a7d843f",
   "metadata": {},
   "outputs": [],
   "source": [
    "hierarchies[\"Customer\"] = [levels[\"customername\"], levels[\"gender\"]]"
   ]
  },
  {
   "cell_type": "code",
   "execution_count": 23,
   "id": "7e33c4c5-a9c1-4724-8dd7-1e26d61d35ca",
   "metadata": {},
   "outputs": [],
   "source": [
    "hierarchies[\"Product\"] = [levels[\"productname\"]]"
   ]
  },
  {
   "cell_type": "code",
   "execution_count": 24,
   "id": "1eb03503-ca6d-49c6-bb59-f971aef72c31",
   "metadata": {},
   "outputs": [],
   "source": [
    "hierarchies[\"SalesPerson\"] = [levels[\"salespersonname\"], levels[('SalesPerson', 'city', 'city')],\n",
    "                              levels[('SalesPerson', 'state', 'state')], levels[('SalesPerson', 'country', 'country')]]"
   ]
  },
  {
   "cell_type": "code",
   "execution_count": 25,
   "id": "0caf22ae-3873-4699-89ed-0589a690a12f",
   "metadata": {},
   "outputs": [],
   "source": [
    "hierarchies[\"Stores\"] = [levels[('Stores', 'storename', 'storename')], levels[('Stores', 'city', 'city')],\n",
    "                         levels[('Stores', 'state', 'state')], levels[('Stores', 'country', 'country')]]"
   ]
  },
  {
   "cell_type": "markdown",
   "id": "078d58db-d126-4e7b-b3c0-ddace99e2fb3",
   "metadata": {},
   "source": [
    "1. **Customer Hierarchy**:\n",
    "   - This hierarchy has two levels: `gender` and `customername`. It suggests organizing customers based on their gender and then further subcategorizing them by their names.\n",
    "\n",
    "2. **Product Hierarchy**:\n",
    "   - This hierarchy seems to have only one level: `productname`. It implies organizing products solely based on their names.\n",
    "\n",
    "3. **SalesPerson Hierarchy**:\n",
    "   - This hierarchy is more complex and has multiple levels:\n",
    "     - `salespersonname`: Organizing salespersons by their names.\n",
    "     - `('SalesPerson', 'city', 'city')`: Organizing salespersons by the cities they operate in.\n",
    "     - `('SalesPerson', 'state', 'state')`: Organizing salespersons by the states they operate in.\n",
    "     - `('SalesPerson', 'country', 'country')`: Organizing salespersons by the countries they operate in.\n",
    "\n",
    "4. **Stores Hierarchy**:\n",
    "   - Similar to the SalesPerson hierarchy, this one also has multiple levels:\n",
    "     - `('Stores', 'storename', 'storename')`: Organizing stores by their names.\n",
    "     - `('Stores', 'city', 'city')`: Organizing stores by the cities they are located in.\n",
    "     - `('Stores', 'state', 'state')`: Organizing stores by the states they are located in.\n",
    "     - `('Stores', 'country', 'country')`: Organizing stores by the countries they are located in.\n",
    "\n",
    "These hierarchies define the logical relationships between different levels within each dimension. They provide a structured way to navigate and analyze data within the dimensional model, enabling efficient querying and reporting.\n"
   ]
  },
  {
   "cell_type": "markdown",
   "id": "71e4a1fc-b08a-46b2-9b88-021b94a7f8e1",
   "metadata": {},
   "source": [
    "In the hierarchy definition `('Stores', 'storename', 'storename')`, the repetition of the term `'storename'` might seem redundant at first glance, but it serves a purpose within the context of multidimensional modeling, particularly in tools like OLAP (Online Analytical Processing) or data warehousing systems. Let me explain:\n",
    "\n",
    "1. **Dimensionality Identification**:\n",
    "   - The first element `'Stores'` identifies the dimension to which the hierarchy belongs. This is crucial in multidimensional models where multiple dimensions are present, as it distinguishes which dimension this specific hierarchy belongs to.\n",
    "\n",
    "2. **Level Identification**:\n",
    "   - The second element `'storename'` is the name of the level within the hierarchy. It specifies the granularity or detail being represented at this level. In this case, it represents the name of the store.\n",
    "\n",
    "3. **Level Key**:\n",
    "   - The third element `'storename'` in the hierarchy definition serves as a key that uniquely identifies members at this level. This key is particularly useful in relational databases or OLAP systems for data retrieval and aggregation purposes. While it appears redundant, it helps explicitly define the attribute used to uniquely identify members at this level.\n",
    "\n",
    "So, the repetition of `'storename'` helps clarify that this is both the name of the level within the hierarchy and the key attribute used to uniquely identify members at this level. It's a common convention in multidimensional modeling to explicitly specify both the level name and its key attribute to avoid ambiguity and ensure clarity in the model definition."
   ]
  },
  {
   "cell_type": "code",
   "execution_count": 26,
   "id": "ce72cc29-6ad8-4ab7-a52f-a91641dc225c",
   "metadata": {},
   "outputs": [
    {
     "data": {
      "application/json": {
       "Customer": {
        "Customer": [
         "customername",
         "gender"
        ],
        "customeraltid": [
         "customeraltid"
        ],
        "customername": [
         "customername"
        ],
        "gender": [
         "gender"
        ]
       },
       "Product": {
        "Product": [
         "productname"
        ],
        "productaltkey": [
         "productaltkey"
        ],
        "productname": [
         "productname"
        ]
       },
       "ProductSales": {
        "transactionid": [
         "transactionid"
        ]
       },
       "SalesPerson": {
        "SalesPerson": [
         "salespersonname",
         "city",
         "state",
         "country"
        ],
        "city": [
         "city"
        ],
        "country": [
         "country"
        ],
        "salespersonaltid": [
         "salespersonaltid"
        ],
        "salespersonname": [
         "salespersonname"
        ],
        "state": [
         "state"
        ]
       },
       "Stores": {
        "Stores": [
         "storename",
         "city",
         "state",
         "country"
        ],
        "city": [
         "city"
        ],
        "country": [
         "country"
        ],
        "state": [
         "state"
        ],
        "storealtid": [
         "storealtid"
        ],
        "storelocation": [
         "storelocation"
        ],
        "storename": [
         "storename"
        ]
       }
      },
      "text/html": [
       "<ul>\n",
       "<li>Dimensions\n",
       "  <ul>\n",
       "  <li>Customer\n",
       "    <ul>\n",
       "    <li>Customer\n",
       "      <ol>\n",
       "      <li>customername</li>\n",
       "      <li>gender</li>\n",
       "      </ol>    </li>\n",
       "    <li>customeraltid\n",
       "      <ol>\n",
       "      <li>customeraltid</li>\n",
       "      </ol>    </li>\n",
       "    <li>customername\n",
       "      <ol>\n",
       "      <li>customername</li>\n",
       "      </ol>    </li>\n",
       "    <li>gender\n",
       "      <ol>\n",
       "      <li>gender</li>\n",
       "      </ol>    </li>\n",
       "    </ul>\n",
       "  </li>\n",
       "  <li>Product\n",
       "    <ul>\n",
       "    <li>Product\n",
       "      <ol>\n",
       "      <li>productname</li>\n",
       "      </ol>    </li>\n",
       "    <li>productaltkey\n",
       "      <ol>\n",
       "      <li>productaltkey</li>\n",
       "      </ol>    </li>\n",
       "    <li>productname\n",
       "      <ol>\n",
       "      <li>productname</li>\n",
       "      </ol>    </li>\n",
       "    </ul>\n",
       "  </li>\n",
       "  <li>ProductSales\n",
       "    <ul>\n",
       "    <li>transactionid\n",
       "      <ol>\n",
       "      <li>transactionid</li>\n",
       "      </ol>    </li>\n",
       "    </ul>\n",
       "  </li>\n",
       "  <li>SalesPerson\n",
       "    <ul>\n",
       "    <li>SalesPerson\n",
       "      <ol>\n",
       "      <li>salespersonname</li>\n",
       "      <li>city</li>\n",
       "      <li>state</li>\n",
       "      <li>country</li>\n",
       "      </ol>    </li>\n",
       "    <li>city\n",
       "      <ol>\n",
       "      <li>city</li>\n",
       "      </ol>    </li>\n",
       "    <li>country\n",
       "      <ol>\n",
       "      <li>country</li>\n",
       "      </ol>    </li>\n",
       "    <li>salespersonaltid\n",
       "      <ol>\n",
       "      <li>salespersonaltid</li>\n",
       "      </ol>    </li>\n",
       "    <li>salespersonname\n",
       "      <ol>\n",
       "      <li>salespersonname</li>\n",
       "      </ol>    </li>\n",
       "    <li>state\n",
       "      <ol>\n",
       "      <li>state</li>\n",
       "      </ol>    </li>\n",
       "    </ul>\n",
       "  </li>\n",
       "  <li>Stores\n",
       "    <ul>\n",
       "    <li>Stores\n",
       "      <ol>\n",
       "      <li>storename</li>\n",
       "      <li>city</li>\n",
       "      <li>state</li>\n",
       "      <li>country</li>\n",
       "      </ol>    </li>\n",
       "    <li>city\n",
       "      <ol>\n",
       "      <li>city</li>\n",
       "      </ol>    </li>\n",
       "    <li>country\n",
       "      <ol>\n",
       "      <li>country</li>\n",
       "      </ol>    </li>\n",
       "    <li>state\n",
       "      <ol>\n",
       "      <li>state</li>\n",
       "      </ol>    </li>\n",
       "    <li>storealtid\n",
       "      <ol>\n",
       "      <li>storealtid</li>\n",
       "      </ol>    </li>\n",
       "    <li>storelocation\n",
       "      <ol>\n",
       "      <li>storelocation</li>\n",
       "      </ol>    </li>\n",
       "    <li>storename\n",
       "      <ol>\n",
       "      <li>storename</li>\n",
       "      </ol>    </li>\n",
       "    </ul>\n",
       "  </li>\n",
       "  </ul>\n",
       "</li>\n",
       "</ul>\n"
      ],
      "text/plain": [
       "{('Stores', 'storename'): <atoti.hierarchy.Hierarchy object at 0x7fffb0357e90>, ('Stores', 'state'): <atoti.hierarchy.Hierarchy object at 0x7fffb04e7b10>, ('Stores', 'Stores'): <atoti.hierarchy.Hierarchy object at 0x7fffb04e4a10>, ('Customer', 'Customer'): <atoti.hierarchy.Hierarchy object at 0x7fffb04cd350>, ('Product', 'productname'): <atoti.hierarchy.Hierarchy object at 0x7fffb04cefd0>, ('SalesPerson', 'city'): <atoti.hierarchy.Hierarchy object at 0x7fffb04cd890>, ('Product', 'productaltkey'): <atoti.hierarchy.Hierarchy object at 0x7fffb04cf850>, ('SalesPerson', 'salespersonaltid'): <atoti.hierarchy.Hierarchy object at 0x7fffb04ceb50>, ('Stores', 'storealtid'): <atoti.hierarchy.Hierarchy object at 0x7fffb04cf590>, ('Stores', 'city'): <atoti.hierarchy.Hierarchy object at 0x7fffb04cc550>, ('ProductSales', 'transactionid'): <atoti.hierarchy.Hierarchy object at 0x7fffb04cee50>, ('Customer', 'customername'): <atoti.hierarchy.Hierarchy object at 0x7fffb04cf550>, ('SalesPerson', 'SalesPerson'): <atoti.hierarchy.Hierarchy object at 0x7fffb04cfb90>, ('SalesPerson', 'salespersonname'): <atoti.hierarchy.Hierarchy object at 0x7fffb04cf650>, ('SalesPerson', 'country'): <atoti.hierarchy.Hierarchy object at 0x7fffb04cfdd0>, ('Product', 'Product'): <atoti.hierarchy.Hierarchy object at 0x7fffb04cec10>, ('Customer', 'customeraltid'): <atoti.hierarchy.Hierarchy object at 0x7fffb04f6f90>, ('Stores', 'storelocation'): <atoti.hierarchy.Hierarchy object at 0x7fffb04f6810>, ('SalesPerson', 'state'): <atoti.hierarchy.Hierarchy object at 0x7fffb04f5b10>, ('Stores', 'country'): <atoti.hierarchy.Hierarchy object at 0x7fffb04f4f90>, ('Customer', 'gender'): <atoti.hierarchy.Hierarchy object at 0x7fffb04f74d0>}"
      ]
     },
     "execution_count": 26,
     "metadata": {
      "application/json": {
       "expanded": true,
       "root": "Dimensions"
      }
     },
     "output_type": "execute_result"
    }
   ],
   "source": [
    "hierarchies"
   ]
  },
  {
   "cell_type": "code",
   "execution_count": null,
   "id": "6c9e506f-45a0-40c6-8f34-77e3fb4a93a0",
   "metadata": {},
   "outputs": [],
   "source": []
  },
  {
   "cell_type": "code",
   "execution_count": null,
   "id": "bdf3a84f-7a93-491d-ad7f-0236650e63b4",
   "metadata": {},
   "outputs": [],
   "source": []
  },
  {
   "cell_type": "code",
   "execution_count": 27,
   "id": "ffcb9bdc-946f-4091-ad1f-59dbf644182c",
   "metadata": {},
   "outputs": [],
   "source": [
    "# clean customer\n",
    "del hierarchies[('Customer', 'customeraltid')]\n",
    "del hierarchies[('Customer', 'customername')]\n",
    "del hierarchies[('Customer', 'gender')]"
   ]
  },
  {
   "cell_type": "markdown",
   "id": "eb308819-9556-4de0-bf77-000ca78646bb",
   "metadata": {},
   "source": [
    "\n",
    "While `'customeraltid'` could potentially be included in a hierarchy depending on its relationship with other attributes, the decision to exclude it suggests that it may not align with the hierarchical structure of the dimension or may not provide significant analytical value within the context of the data model."
   ]
  },
  {
   "cell_type": "code",
   "execution_count": 28,
   "id": "e5f48877-b317-40f5-a7af-65717a158965",
   "metadata": {},
   "outputs": [],
   "source": [
    "# clean product\n",
    "del hierarchies[('Product', 'productname')]\n",
    "del hierarchies[('Product', 'productaltkey')]"
   ]
  },
  {
   "cell_type": "code",
   "execution_count": 29,
   "id": "fa5e840c-a8a9-417d-b221-3492a0c396d3",
   "metadata": {},
   "outputs": [],
   "source": [
    "# clean salesperson\n",
    "del hierarchies[('SalesPerson', 'city')]\n",
    "del hierarchies[('SalesPerson', 'salespersonname')]\n",
    "del hierarchies[('SalesPerson', 'country')]\n",
    "del hierarchies[('SalesPerson', 'state')]\n",
    "del hierarchies[('SalesPerson', 'salespersonaltid')]"
   ]
  },
  {
   "cell_type": "code",
   "execution_count": 30,
   "id": "46c974d2-9bd4-4399-a64e-153fd9d78b29",
   "metadata": {},
   "outputs": [],
   "source": [
    "# clean stores\n",
    "del hierarchies[('Stores', 'storename')]\n",
    "del hierarchies[('Stores', 'state')]\n",
    "del hierarchies[('Stores', 'country')]\n",
    "del hierarchies[('Stores', 'storealtid')]\n",
    "del hierarchies[('Stores', 'city')]"
   ]
  },
  {
   "cell_type": "code",
   "execution_count": 31,
   "id": "d3aaa105-253d-4c41-9e05-a375c0545779",
   "metadata": {},
   "outputs": [],
   "source": [
    "# clean product sales\n",
    "del hierarchies[('ProductSales', 'transactionid')]"
   ]
  },
  {
   "cell_type": "code",
   "execution_count": 32,
   "id": "3e72dcbf-3fbe-4f0c-b031-d3d9339a98fb",
   "metadata": {},
   "outputs": [
    {
     "data": {
      "application/json": {
       "Customer": {
        "Customer": [
         "customername",
         "gender"
        ]
       },
       "Product": {
        "Product": [
         "productname"
        ]
       },
       "SalesPerson": {
        "SalesPerson": [
         "salespersonname",
         "city",
         "state",
         "country"
        ]
       },
       "Stores": {
        "Stores": [
         "storename",
         "city",
         "state",
         "country"
        ],
        "storelocation": [
         "storelocation"
        ]
       }
      },
      "text/html": [
       "<ul>\n",
       "<li>Dimensions\n",
       "  <ul>\n",
       "  <li>Customer\n",
       "    <ul>\n",
       "    <li>Customer\n",
       "      <ol>\n",
       "      <li>customername</li>\n",
       "      <li>gender</li>\n",
       "      </ol>    </li>\n",
       "    </ul>\n",
       "  </li>\n",
       "  <li>Product\n",
       "    <ul>\n",
       "    <li>Product\n",
       "      <ol>\n",
       "      <li>productname</li>\n",
       "      </ol>    </li>\n",
       "    </ul>\n",
       "  </li>\n",
       "  <li>SalesPerson\n",
       "    <ul>\n",
       "    <li>SalesPerson\n",
       "      <ol>\n",
       "      <li>salespersonname</li>\n",
       "      <li>city</li>\n",
       "      <li>state</li>\n",
       "      <li>country</li>\n",
       "      </ol>    </li>\n",
       "    </ul>\n",
       "  </li>\n",
       "  <li>Stores\n",
       "    <ul>\n",
       "    <li>Stores\n",
       "      <ol>\n",
       "      <li>storename</li>\n",
       "      <li>city</li>\n",
       "      <li>state</li>\n",
       "      <li>country</li>\n",
       "      </ol>    </li>\n",
       "    <li>storelocation\n",
       "      <ol>\n",
       "      <li>storelocation</li>\n",
       "      </ol>    </li>\n",
       "    </ul>\n",
       "  </li>\n",
       "  </ul>\n",
       "</li>\n",
       "</ul>\n"
      ],
      "text/plain": [
       "{('SalesPerson', 'SalesPerson'): <atoti.hierarchy.Hierarchy object at 0x7fffb04b83d0>, ('Stores', 'Stores'): <atoti.hierarchy.Hierarchy object at 0x7fffb0503610>, ('Product', 'Product'): <atoti.hierarchy.Hierarchy object at 0x7fffb04cee10>, ('Customer', 'Customer'): <atoti.hierarchy.Hierarchy object at 0x7fffb04cf550>, ('Stores', 'storelocation'): <atoti.hierarchy.Hierarchy object at 0x7fffb04f5490>}"
      ]
     },
     "execution_count": 32,
     "metadata": {
      "application/json": {
       "expanded": true,
       "root": "Dimensions"
      }
     },
     "output_type": "execute_result"
    }
   ],
   "source": [
    "hierarchies"
   ]
  },
  {
   "cell_type": "code",
   "execution_count": 33,
   "id": "aa9efd8b-cf0d-43d0-9733-b1d21a3b3dc9",
   "metadata": {},
   "outputs": [],
   "source": [
    "# clean measures\n",
    "del measures[\"contributors.COUNT\"]\n",
    "del measures[\"customerid.MEAN\"]\n",
    "del measures[\"customerid.SUM\"]\n",
    "del measures[\"deviation.MEAN\"]\n",
    "del measures[\"deviation.SUM\"]\n",
    "del measures[\"productactualcost.MEAN\"]\n",
    "del measures[\"productid.MEAN\"]\n",
    "del measures[\"productid.SUM\"]\n",
    "del measures[\"salesinvoicenumber.MEAN\"]\n",
    "del measures[\"salesinvoicenumber.SUM\"]\n",
    "del measures[\"salespersonid.MEAN\"]\n",
    "del measures[\"salespersonid.SUM\"]\n",
    "del measures[\"storeid.MEAN\"]\n",
    "del measures[\"storeid.SUM\"]\n",
    "del measures[\"salestotalcost.MEAN\"]\n",
    "del measures[\"quantity.MEAN\"]"
   ]
  },
  {
   "cell_type": "code",
   "execution_count": 34,
   "id": "77526eac-4025-469b-ab16-4eb9c2d4f64e",
   "metadata": {},
   "outputs": [
    {
     "data": {
      "application/json": {
       "productactualcost.SUM": {
        "formatter": "DOUBLE[#,###.00]"
       },
       "quantity.SUM": {
        "formatter": "DOUBLE[#,###.00]"
       },
       "salestotalcost.SUM": {
        "formatter": "DOUBLE[#,###.00]"
       }
      },
      "text/html": [
       "<ul>\n",
       "<li>Measures\n",
       "  <ul>\n",
       "  <li>productactualcost.SUM\n",
       "    <ul>\n",
       "    <li>formatter: DOUBLE[#,###.00]</li>\n",
       "    </ul>\n",
       "  </li>\n",
       "  <li>quantity.SUM\n",
       "    <ul>\n",
       "    <li>formatter: DOUBLE[#,###.00]</li>\n",
       "    </ul>\n",
       "  </li>\n",
       "  <li>salestotalcost.SUM\n",
       "    <ul>\n",
       "    <li>formatter: DOUBLE[#,###.00]</li>\n",
       "    </ul>\n",
       "  </li>\n",
       "  </ul>\n",
       "</li>\n",
       "</ul>\n"
      ],
      "text/plain": [
       "{'update.TIMESTAMP': <atoti.measure.Measure object at 0x7fffb04f7c90>, 'quantity.SUM': <atoti.measure.Measure object at 0x7fffb04f5ad0>, 'salestotalcost.SUM': <atoti.measure.Measure object at 0x7fffb04f6bd0>, 'productactualcost.SUM': <atoti.measure.Measure object at 0x7fffb04f5950>}"
      ]
     },
     "execution_count": 34,
     "metadata": {
      "application/json": {
       "expanded": false,
       "root": "Measures"
      }
     },
     "output_type": "execute_result"
    }
   ],
   "source": [
    "measures"
   ]
  },
  {
   "cell_type": "code",
   "execution_count": 35,
   "id": "1e874102-e542-458d-a120-f06f2cc7f905",
   "metadata": {},
   "outputs": [
    {
     "data": {
      "text/html": [
       "<div>\n",
       "<style scoped>\n",
       "    .dataframe tbody tr th:only-of-type {\n",
       "        vertical-align: middle;\n",
       "    }\n",
       "\n",
       "    .dataframe tbody tr th {\n",
       "        vertical-align: top;\n",
       "    }\n",
       "\n",
       "    .dataframe thead th {\n",
       "        text-align: right;\n",
       "    }\n",
       "</style>\n",
       "<table border=\"1\" class=\"dataframe\">\n",
       "  <thead>\n",
       "    <tr style=\"text-align: right;\">\n",
       "      <th></th>\n",
       "      <th></th>\n",
       "      <th>quantity.SUM</th>\n",
       "    </tr>\n",
       "    <tr>\n",
       "      <th>storename</th>\n",
       "      <th>city</th>\n",
       "      <th></th>\n",
       "    </tr>\n",
       "  </thead>\n",
       "  <tbody>\n",
       "    <tr>\n",
       "      <th>X-Mart</th>\n",
       "      <th>Ahmedabad</th>\n",
       "      <td>43.00</td>\n",
       "    </tr>\n",
       "  </tbody>\n",
       "</table>\n",
       "</div>"
      ],
      "text/plain": [
       "                    quantity.SUM\n",
       "storename city                  \n",
       "X-Mart    Ahmedabad        43.00"
      ]
     },
     "execution_count": 35,
     "metadata": {},
     "output_type": "execute_result"
    }
   ],
   "source": [
    "cube.query(measures[\"quantity.SUM\"], levels=[levels[('Stores', 'Stores', 'city')]])"
   ]
  },
  {
   "cell_type": "markdown",
   "id": "a8f89853-d7c9-4815-b3a0-2902177c028d",
   "metadata": {},
   "source": [
    "The provided query targets a cube to retrieve the sum of the \"quantity\" measure aggregated at the city level within the \"Stores\" dimension. Let's break down the query:\n",
    "\n",
    "```python\n",
    "cube.query(measures[\"quantity.SUM\"], levels=[levels[('Stores', 'Stores', 'city')]])\n",
    "```\n",
    "\n",
    "- `cube.query()`: This method is used to perform a query on a cube within an Atoti session.\n",
    "\n",
    "- `measures[\"quantity.SUM\"]`: This specifies the measure being queried, which is the sum of the \"quantity\" measure. It's aggregated at the city level.\n",
    "\n",
    "- `levels[('Stores', 'Stores', 'city')]`: This indicates the level at which the aggregation is performed. It's specifying the city level within the \"Stores\" dimension.\n",
    "\n",
    "So, the query retrieves the sum of the \"quantity\" measure aggregated at the city level within the \"Stores\" dimension. It's a way to analyze the total quantity of products sold or any other quantity-related metric at the city level across different stores."
   ]
  },
  {
   "cell_type": "markdown",
   "id": "c021498e-4a6e-4539-80b7-f6521d8913c5",
   "metadata": {},
   "source": [
    "\n",
    "Typically, in a multidimensional model like the one represented by Atoti, the syntax for specifying a level within a dimension follows the pattern:\n",
    "\n",
    "`levels[(dimension_name, hierarchy_name, level_name)]`\n"
   ]
  },
  {
   "cell_type": "code",
   "execution_count": 36,
   "id": "d6faed66f9e436ce",
   "metadata": {
    "collapsed": false,
    "jupyter": {
     "outputs_hidden": false
    }
   },
   "outputs": [
    {
     "name": "stderr",
     "output_type": "stream",
     "text": [
      "/opt/conda/lib/python3.11/site-packages/pydantic/_internal/_dataclasses.py:135: FutureWarning: The variadic constructor is deprecated, pass a named `levels` parameter instead.\n",
      "  s.__pydantic_validator__.validate_python(ArgsKwargs(args, kwargs), self_instance=s)\n"
     ]
    }
   ],
   "source": [
    "cost = tt.agg.sum(\n",
    "    measures[\"quantity.SUM\"] * tt.agg.single_value(product_table[\"productactualcost\"]),\n",
    "    scope=tt.OriginScope(levels[\"productname\"]),\n",
    ")\n",
    "\n",
    "income = tt.agg.sum(\n",
    "    measures[\"quantity.SUM\"] * tt.agg.single_value(product_table[\"productsalescost\"]),\n",
    "    scope=tt.OriginScope(levels[\"productname\"]),\n",
    ")\n"
   ]
  },
  {
   "cell_type": "code",
   "execution_count": 37,
   "id": "a68f25eb1d166ceb",
   "metadata": {
    "collapsed": false,
    "jupyter": {
     "outputs_hidden": false
    }
   },
   "outputs": [],
   "source": [
    "measures[\"Margin\"] = income - cost"
   ]
  },
  {
   "cell_type": "code",
   "execution_count": 38,
   "id": "9db203315b8f378",
   "metadata": {
    "collapsed": false,
    "jupyter": {
     "outputs_hidden": false
    }
   },
   "outputs": [
    {
     "data": {
      "text/html": [
       "<div>\n",
       "<style scoped>\n",
       "    .dataframe tbody tr th:only-of-type {\n",
       "        vertical-align: middle;\n",
       "    }\n",
       "\n",
       "    .dataframe tbody tr th {\n",
       "        vertical-align: top;\n",
       "    }\n",
       "\n",
       "    .dataframe thead th {\n",
       "        text-align: right;\n",
       "    }\n",
       "</style>\n",
       "<table border=\"1\" class=\"dataframe\">\n",
       "  <thead>\n",
       "    <tr style=\"text-align: right;\">\n",
       "      <th></th>\n",
       "      <th>Margin</th>\n",
       "    </tr>\n",
       "    <tr>\n",
       "      <th>productname</th>\n",
       "      <th></th>\n",
       "    </tr>\n",
       "  </thead>\n",
       "  <tbody>\n",
       "    <tr>\n",
       "      <th>Arial Washing Powder 1kg</th>\n",
       "      <td>12.00</td>\n",
       "    </tr>\n",
       "    <tr>\n",
       "      <th>Nirma Soap</th>\n",
       "      <td>36.00</td>\n",
       "    </tr>\n",
       "    <tr>\n",
       "      <th>Rice Grains 1kg</th>\n",
       "      <td>12.00</td>\n",
       "    </tr>\n",
       "    <tr>\n",
       "      <th>SunFlower Oil 1 ltr</th>\n",
       "      <td>10.50</td>\n",
       "    </tr>\n",
       "    <tr>\n",
       "      <th>Wheat Floor 1kg</th>\n",
       "      <td>7.00</td>\n",
       "    </tr>\n",
       "  </tbody>\n",
       "</table>\n",
       "</div>"
      ],
      "text/plain": [
       "                         Margin\n",
       "productname                    \n",
       "Arial Washing Powder 1kg  12.00\n",
       "Nirma Soap                36.00\n",
       "Rice Grains 1kg           12.00\n",
       "SunFlower Oil 1 ltr       10.50\n",
       "Wheat Floor 1kg            7.00"
      ]
     },
     "execution_count": 38,
     "metadata": {},
     "output_type": "execute_result"
    }
   ],
   "source": [
    "cube.query(measures[\"Margin\"], levels=[levels[('Product', 'Product', 'productname')]])"
   ]
  },
  {
   "cell_type": "markdown",
   "id": "8281cb2d-013a-4d57-abc4-f20cbcaaca17",
   "metadata": {},
   "source": [
    "## Presentation"
   ]
  },
  {
   "cell_type": "code",
   "execution_count": 39,
   "id": "70508704-ba4e-439d-84d2-f6078b52ef0a",
   "metadata": {
    "atoti": {
     "widget": {
      "mapping": {
       "horizontalSubplots": [],
       "sliceBy": [
        "[Customer].[Customer].[customername]"
       ],
       "values": [
        "[Measures].[quantity.SUM]"
       ],
       "verticalSubplots": []
      },
      "query": {
       "mdx": "SELECT NON EMPTY {[Measures].[quantity.SUM]} ON COLUMNS, NON EMPTY Hierarchize(Descendants({[Customer].[Customer].[ALL].[AllMember]}, 1, SELF_AND_BEFORE)) DIMENSION PROPERTIES CHILDREN_CARDINALITY ON ROWS FROM [ProductSales] CELL PROPERTIES VALUE, FORMATTED_VALUE, BACK_COLOR, FORE_COLOR, FONT_FLAGS",
       "updateMode": "once"
      },
      "serverKey": "default",
      "widgetKey": "plotly-donut-chart"
     }
    }
   },
   "outputs": [
    {
     "data": {
      "application/vnd.atoti.widget.v0+json": {
       "sessionId": "1713534741_CJAIMD",
       "sessionLocation": {
        "https": false,
        "port": 9092
       },
       "widgetCreationCode": "session.widget"
      },
      "text/html": [
       "<img height=\"352\" width=\"2573\" src=\"data:image/png;base64,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\" />"
      ],
      "text/plain": [
       "Open the notebook in JupyterLab with the Atoti JupyterLab extension enabled to build this widget."
      ]
     },
     "metadata": {},
     "output_type": "display_data"
    }
   ],
   "source": [
    "session.widget"
   ]
  },
  {
   "cell_type": "code",
   "execution_count": 40,
   "id": "679b108a-e6ee-4bb9-ae66-f5503e318520",
   "metadata": {},
   "outputs": [
    {
     "data": {
      "application/vnd.atoti.link.v0+json": {
       "path": "",
       "sessionLocation": {
        "https": false,
        "port": 9092
       }
      },
      "text/markdown": [
       "http://localhost:9092\n",
       "\n",
       "_Note_: This is the session's local URL: it may not be reachable if Atoti is running on another machine."
      ],
      "text/plain": [
       "http://localhost:9092 (This is the session's local URL: it may not be reachable if Atoti is running on another machine.)"
      ]
     },
     "execution_count": 40,
     "metadata": {},
     "output_type": "execute_result"
    }
   ],
   "source": [
    "session.link"
   ]
  },
  {
   "cell_type": "markdown",
   "id": "d6d44dcc28e9d4b6",
   "metadata": {
    "collapsed": false,
    "jupyter": {
     "outputs_hidden": false
    }
   },
   "source": [
    "## What-if Analysis"
   ]
  },
  {
   "cell_type": "code",
   "execution_count": 41,
   "id": "85f5820e858f2b68",
   "metadata": {
    "collapsed": false,
    "jupyter": {
     "outputs_hidden": false
    }
   },
   "outputs": [],
   "source": [
    "import pandas as pd\n",
    "from sqlalchemy import create_engine"
   ]
  },
  {
   "cell_type": "code",
   "execution_count": 42,
   "id": "e886a3678a4f98bf",
   "metadata": {
    "collapsed": false,
    "jupyter": {
     "outputs_hidden": false
    }
   },
   "outputs": [],
   "source": [
    "connection_url = f\"postgresql://{db_user}:{db_password}@{db_host}:{db_port}/{db_name}\"\n",
    "\n",
    "# Create the engine\n",
    "engine = create_engine(connection_url)"
   ]
  },
  {
   "cell_type": "code",
   "execution_count": 43,
   "id": "8c91d436778af08a",
   "metadata": {
    "collapsed": false,
    "jupyter": {
     "outputs_hidden": false
    }
   },
   "outputs": [],
   "source": [
    "product_df = pd.read_sql_query(\"SELECT * FROM dimproduct\", engine)"
   ]
  },
  {
   "cell_type": "code",
   "execution_count": 44,
   "id": "4bdf253b849eee1d",
   "metadata": {
    "collapsed": false,
    "jupyter": {
     "outputs_hidden": false
    }
   },
   "outputs": [
    {
     "data": {
      "text/html": [
       "<div>\n",
       "<style scoped>\n",
       "    .dataframe tbody tr th:only-of-type {\n",
       "        vertical-align: middle;\n",
       "    }\n",
       "\n",
       "    .dataframe tbody tr th {\n",
       "        vertical-align: top;\n",
       "    }\n",
       "\n",
       "    .dataframe thead th {\n",
       "        text-align: right;\n",
       "    }\n",
       "</style>\n",
       "<table border=\"1\" class=\"dataframe\">\n",
       "  <thead>\n",
       "    <tr style=\"text-align: right;\">\n",
       "      <th></th>\n",
       "      <th>productkey</th>\n",
       "      <th>productaltkey</th>\n",
       "      <th>productname</th>\n",
       "      <th>productactualcost</th>\n",
       "      <th>productsalescost</th>\n",
       "    </tr>\n",
       "  </thead>\n",
       "  <tbody>\n",
       "    <tr>\n",
       "      <th>0</th>\n",
       "      <td>1</td>\n",
       "      <td>ITM-001</td>\n",
       "      <td>Wheat Floor 1kg</td>\n",
       "      <td>5.5</td>\n",
       "      <td>6.5</td>\n",
       "    </tr>\n",
       "    <tr>\n",
       "      <th>1</th>\n",
       "      <td>2</td>\n",
       "      <td>ITM-002</td>\n",
       "      <td>Rice Grains 1kg</td>\n",
       "      <td>22.5</td>\n",
       "      <td>24.0</td>\n",
       "    </tr>\n",
       "    <tr>\n",
       "      <th>2</th>\n",
       "      <td>3</td>\n",
       "      <td>ITM-003</td>\n",
       "      <td>SunFlower Oil 1 ltr</td>\n",
       "      <td>42.0</td>\n",
       "      <td>43.5</td>\n",
       "    </tr>\n",
       "    <tr>\n",
       "      <th>3</th>\n",
       "      <td>4</td>\n",
       "      <td>ITM-004</td>\n",
       "      <td>Nirma Soap</td>\n",
       "      <td>18.0</td>\n",
       "      <td>20.0</td>\n",
       "    </tr>\n",
       "    <tr>\n",
       "      <th>4</th>\n",
       "      <td>5</td>\n",
       "      <td>ITM-005</td>\n",
       "      <td>Arial Washing Powder 1kg</td>\n",
       "      <td>135.0</td>\n",
       "      <td>139.0</td>\n",
       "    </tr>\n",
       "  </tbody>\n",
       "</table>\n",
       "</div>"
      ],
      "text/plain": [
       "   productkey productaltkey               productname  productactualcost  \\\n",
       "0           1       ITM-001           Wheat Floor 1kg                5.5   \n",
       "1           2       ITM-002           Rice Grains 1kg               22.5   \n",
       "2           3       ITM-003       SunFlower Oil 1 ltr               42.0   \n",
       "3           4       ITM-004                Nirma Soap               18.0   \n",
       "4           5       ITM-005  Arial Washing Powder 1kg              135.0   \n",
       "\n",
       "   productsalescost  \n",
       "0               6.5  \n",
       "1              24.0  \n",
       "2              43.5  \n",
       "3              20.0  \n",
       "4             139.0  "
      ]
     },
     "execution_count": 44,
     "metadata": {},
     "output_type": "execute_result"
    }
   ],
   "source": [
    "product_df"
   ]
  },
  {
   "cell_type": "code",
   "execution_count": 45,
   "id": "f8311b70a085b68e",
   "metadata": {
    "collapsed": false,
    "jupyter": {
     "outputs_hidden": false
    }
   },
   "outputs": [],
   "source": [
    "better_actual_cost = {\n",
    "    \"ITM-001\": 4.5,\n",
    "    \"ITM-002\": 10,\n",
    "    \"ITM-003\": 30,\n",
    "    \"ITM-004\": 15,\n",
    "    \"ITM-005\": 135,\n",
    "}"
   ]
  },
  {
   "cell_type": "code",
   "execution_count": 46,
   "id": "fdee0fdf92085ef2",
   "metadata": {
    "collapsed": false,
    "jupyter": {
     "outputs_hidden": false
    }
   },
   "outputs": [
    {
     "data": {
      "text/html": [
       "<div>\n",
       "<style scoped>\n",
       "    .dataframe tbody tr th:only-of-type {\n",
       "        vertical-align: middle;\n",
       "    }\n",
       "\n",
       "    .dataframe tbody tr th {\n",
       "        vertical-align: top;\n",
       "    }\n",
       "\n",
       "    .dataframe thead th {\n",
       "        text-align: right;\n",
       "    }\n",
       "</style>\n",
       "<table border=\"1\" class=\"dataframe\">\n",
       "  <thead>\n",
       "    <tr style=\"text-align: right;\">\n",
       "      <th></th>\n",
       "      <th>productkey</th>\n",
       "      <th>productaltkey</th>\n",
       "      <th>productname</th>\n",
       "      <th>productactualcost</th>\n",
       "      <th>productsalescost</th>\n",
       "    </tr>\n",
       "  </thead>\n",
       "  <tbody>\n",
       "    <tr>\n",
       "      <th>0</th>\n",
       "      <td>1</td>\n",
       "      <td>ITM-001</td>\n",
       "      <td>Wheat Floor 1kg</td>\n",
       "      <td>4.5</td>\n",
       "      <td>6.5</td>\n",
       "    </tr>\n",
       "    <tr>\n",
       "      <th>1</th>\n",
       "      <td>2</td>\n",
       "      <td>ITM-002</td>\n",
       "      <td>Rice Grains 1kg</td>\n",
       "      <td>10.0</td>\n",
       "      <td>24.0</td>\n",
       "    </tr>\n",
       "    <tr>\n",
       "      <th>2</th>\n",
       "      <td>3</td>\n",
       "      <td>ITM-003</td>\n",
       "      <td>SunFlower Oil 1 ltr</td>\n",
       "      <td>30.0</td>\n",
       "      <td>43.5</td>\n",
       "    </tr>\n",
       "    <tr>\n",
       "      <th>3</th>\n",
       "      <td>4</td>\n",
       "      <td>ITM-004</td>\n",
       "      <td>Nirma Soap</td>\n",
       "      <td>15.0</td>\n",
       "      <td>20.0</td>\n",
       "    </tr>\n",
       "    <tr>\n",
       "      <th>4</th>\n",
       "      <td>5</td>\n",
       "      <td>ITM-005</td>\n",
       "      <td>Arial Washing Powder 1kg</td>\n",
       "      <td>135.0</td>\n",
       "      <td>139.0</td>\n",
       "    </tr>\n",
       "  </tbody>\n",
       "</table>\n",
       "</div>"
      ],
      "text/plain": [
       "   productkey productaltkey               productname  productactualcost  \\\n",
       "0           1       ITM-001           Wheat Floor 1kg                4.5   \n",
       "1           2       ITM-002           Rice Grains 1kg               10.0   \n",
       "2           3       ITM-003       SunFlower Oil 1 ltr               30.0   \n",
       "3           4       ITM-004                Nirma Soap               15.0   \n",
       "4           5       ITM-005  Arial Washing Powder 1kg              135.0   \n",
       "\n",
       "   productsalescost  \n",
       "0               6.5  \n",
       "1              24.0  \n",
       "2              43.5  \n",
       "3              20.0  \n",
       "4             139.0  "
      ]
     },
     "execution_count": 46,
     "metadata": {},
     "output_type": "execute_result"
    }
   ],
   "source": [
    "for product, actual_cost in better_actual_cost.items():\n",
    "    product_df.loc[\n",
    "        product_df[\"productaltkey\"] == product, \"productactualcost\"\n",
    "    ] = actual_cost\n",
    "product_df"
   ]
  },
  {
   "cell_type": "code",
   "execution_count": 47,
   "id": "948c8798bc249a8e",
   "metadata": {
    "collapsed": false,
    "jupyter": {
     "outputs_hidden": false
    }
   },
   "outputs": [],
   "source": [
    "product_table.scenarios[\"Lower actual cost\"].load_pandas(product_df)"
   ]
  },
  {
   "cell_type": "code",
   "execution_count": 48,
   "id": "de63f17b-1528-4358-b78f-9c859f267dc2",
   "metadata": {},
   "outputs": [],
   "source": [
    "session.close()"
   ]
  },
  {
   "cell_type": "code",
   "execution_count": null,
   "id": "36e15443-d590-4ff0-976f-4608f5730588",
   "metadata": {},
   "outputs": [],
   "source": []
  }
 ],
 "metadata": {
  "kernelspec": {
   "display_name": "Python 3 (ipykernel)",
   "language": "python",
   "name": "python3"
  },
  "language_info": {
   "codemirror_mode": {
    "name": "ipython",
    "version": 3
   },
   "file_extension": ".py",
   "mimetype": "text/x-python",
   "name": "python",
   "nbconvert_exporter": "python",
   "pygments_lexer": "ipython3",
   "version": "3.11.6"
  }
 },
 "nbformat": 4,
 "nbformat_minor": 5
}
