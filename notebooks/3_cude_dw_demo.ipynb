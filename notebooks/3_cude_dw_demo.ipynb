{
 "cells": [
  {
   "cell_type": "markdown",
   "id": "186ceb2ddf615eea",
   "metadata": {
    "collapsed": false,
    "jupyter": {
     "outputs_hidden": false
    }
   },
   "source": [
    "# Cube and Data Warehouse mini Demo\n",
    "This aims to implement a cube and do presentation\n",
    "## Cube"
   ]
  },
  {
   "cell_type": "code",
   "execution_count": 1,
   "id": "initial_id",
   "metadata": {},
   "outputs": [
    {
     "name": "stdout",
     "output_type": "stream",
     "text": [
      "Welcome to Atoti 0.8.10!\n",
      "\n",
      "By using this community edition, you agree with the license available at https://docs.atoti.io/latest/eula.html.\n",
      "Browse the official documentation at https://docs.atoti.io.\n",
      "Join the community at https://www.atoti.io/register.\n",
      "\n",
      "Atoti collects telemetry data, which is used to help understand how to improve the product.\n",
      "If you don't wish to send usage data, you can request a trial license at https://www.atoti.io/evaluation-license-request.\n",
      "\n",
      "You can hide this message by setting the `ATOTI_HIDE_EULA_MESSAGE` environment variable to True.\n"
     ]
    }
   ],
   "source": [
    "import atoti as tt"
   ]
  },
  {
   "cell_type": "code",
   "execution_count": 2,
   "id": "1ce9e2fb78351f0d",
   "metadata": {
    "collapsed": false,
    "jupyter": {
     "outputs_hidden": false
    }
   },
   "outputs": [],
   "source": [
    "session = tt.Session(\n",
    "    user_content_storage=\".content\",\n",
    "    port=9092,\n",
    "    java_options=[\"-Xms1G\", \"-Xmx10G\"]\n",
    ")"
   ]
  },
  {
   "cell_type": "markdown",
   "id": "188a5dd8-9361-4a54-9d81-5af118d11bb4",
   "metadata": {},
   "source": [
    "- It imports the atoti library using the alias tt.\n",
    "- It creates a session object using tt.Session.\n",
    "- The `user_content_storage=\".content\"` parameter specifies the directory or location where user content will be stored. This could include things like data files, configurations, or any other persistent data related to the session.\n",
    "- The `port=9092` parameter specifies the port number on which the session will listen for incoming connections or requests. This port is important for communication between the Atoti server and client applications.\n",
    "- The `java_options=[\"-Xms1G\", \"-Xmx10G\"]` parameter specifies Java Virtual Machine (JVM) options. In this case, it's setting the initial heap size (-Xms1G) to 1 gigabyte and the maximum heap size (-Xmx10G) to 10 gigabytes. This is important for controlling memory allocation for the Atoti server."
   ]
  },
  {
   "cell_type": "code",
   "execution_count": 3,
   "id": "8d2096c5d9043d33",
   "metadata": {
    "collapsed": false,
    "jupyter": {
     "outputs_hidden": false
    }
   },
   "outputs": [],
   "source": [
    "db_name = \"AdventureworksDWDemo\"\n",
    "db_user = \"postgres\"\n",
    "db_password = \"postgres\"  # Update with your password\n",
    "db_host = \"pgdb\"  # Update if your DB is hosted elsewhere\n",
    "db_port = \"5432\"\n",
    "\n",
    "jdbc_url = f\"jdbc:postgresql://{db_host}:{db_port}/{db_name}?user={db_user}&password={db_password}\""
   ]
  },
  {
   "cell_type": "markdown",
   "id": "5491e1ca-11ba-45eb-be9e-c3adfa8afe4b",
   "metadata": {},
   "source": [
    "## Load Data to Atoti"
   ]
  },
  {
   "cell_type": "code",
   "execution_count": 4,
   "id": "b26b1ae1-20b6-4c60-bdf3-4e1c9987cb8f",
   "metadata": {},
   "outputs": [],
   "source": [
    "product_sales_table = session.read_sql(\n",
    "    \"SELECT * FROM factproductsales\",\n",
    "    keys=[\"transactionid\"],\n",
    "    table_name=\"ProductSales\",\n",
    "    url=jdbc_url,\n",
    ")"
   ]
  },
  {
   "cell_type": "markdown",
   "id": "fc371768-87db-4f02-9c17-0827b36bc9f6",
   "metadata": {},
   "source": [
    "\n",
    "\n",
    "- `session.read_sql()`: This method is used to read data from a SQL database into an Atoti session.\n",
    "\n",
    "- `\"SELECT * FROM factproductsales\"`: This is the SQL query that specifies the data to be retrieved from the database. It selects all columns (`*`) from the table named `factproductsales`.\n",
    "\n",
    "- `keys=[\"transactionid\"]`: This parameter specifies the primary key or keys of the table. In this case, it seems that `transactionid` is the primary key of the `factproductsales` table.\n",
    "\n",
    "- `table_name=\"ProductSales\"`: This parameter specifies the name to be assigned to the table within the Atoti session where the data will be loaded. Here, the table will be named `ProductSales`.\n",
    "\n",
    "- `url=jdbc_url`: This parameter specifies the JDBC URL used to connect to the SQL database. `jdbc_url` should be a variable containing the JDBC URL of the database.\n",
    "\n",
    "So, this code retrieves data from the `factproductsales` table in the SQL database specified by the JDBC URL, loads it into the Atoti session, and assigns the table the name `ProductSales` within the session. The primary key of the table is `transactionid`."
   ]
  },
  {
   "cell_type": "code",
   "execution_count": 5,
   "id": "d342d8d3-417b-4f00-81f5-334869f829a1",
   "metadata": {},
   "outputs": [],
   "source": [
    "customer_table = session.read_sql(\n",
    "    \"SELECT * FROM dimcustomer\",\n",
    "    keys=[\"customerid\"],\n",
    "    table_name=\"Customer\",\n",
    "    url=jdbc_url)"
   ]
  },
  {
   "cell_type": "code",
   "execution_count": 6,
   "id": "828e934c-6723-4911-82ec-9759a2fff9fe",
   "metadata": {},
   "outputs": [],
   "source": [
    "product_table = session.read_sql(\n",
    "    \"SELECT * FROM dimproduct\",\n",
    "    keys=[\"productkey\"],\n",
    "    table_name=\"Product\",\n",
    "    url=jdbc_url\n",
    ")"
   ]
  },
  {
   "cell_type": "code",
   "execution_count": 7,
   "id": "47d5d135-02d8-48b0-ba4e-5e00a692cee1",
   "metadata": {},
   "outputs": [],
   "source": [
    "sales_person_table = session.read_sql(\n",
    "    \"SELECT * FROM dimsalesperson\",\n",
    "    keys=[\"salespersonid\"],\n",
    "    table_name=\"SalesPerson\",\n",
    "    url=jdbc_url\n",
    ")"
   ]
  },
  {
   "cell_type": "code",
   "execution_count": 8,
   "id": "fdfcc73e-9d56-4020-bf5f-b1e774c033a9",
   "metadata": {},
   "outputs": [],
   "source": [
    "stores_table = session.read_sql(\n",
    "    \"SELECT * FROM dimstores\",\n",
    "    keys=[\"storeid\"],\n",
    "    table_name=\"Stores\",\n",
    "    url=jdbc_url\n",
    ")"
   ]
  },
  {
   "cell_type": "code",
   "execution_count": 9,
   "id": "e971bb41-0045-4abf-85e0-edb77988bd78",
   "metadata": {},
   "outputs": [
    {
     "data": {
      "text/html": [
       "<div>\n",
       "<style scoped>\n",
       "    .dataframe tbody tr th:only-of-type {\n",
       "        vertical-align: middle;\n",
       "    }\n",
       "\n",
       "    .dataframe tbody tr th {\n",
       "        vertical-align: top;\n",
       "    }\n",
       "\n",
       "    .dataframe thead th {\n",
       "        text-align: right;\n",
       "    }\n",
       "</style>\n",
       "<table border=\"1\" class=\"dataframe\">\n",
       "  <thead>\n",
       "    <tr style=\"text-align: right;\">\n",
       "      <th></th>\n",
       "      <th>salesinvoicenumber</th>\n",
       "      <th>storeid</th>\n",
       "      <th>customerid</th>\n",
       "      <th>productid</th>\n",
       "      <th>salespersonid</th>\n",
       "      <th>quantity</th>\n",
       "      <th>salestotalcost</th>\n",
       "      <th>productactualcost</th>\n",
       "      <th>deviation</th>\n",
       "    </tr>\n",
       "    <tr>\n",
       "      <th>transactionid</th>\n",
       "      <th></th>\n",
       "      <th></th>\n",
       "      <th></th>\n",
       "      <th></th>\n",
       "      <th></th>\n",
       "      <th></th>\n",
       "      <th></th>\n",
       "      <th></th>\n",
       "      <th></th>\n",
       "    </tr>\n",
       "  </thead>\n",
       "  <tbody>\n",
       "    <tr>\n",
       "      <th>7</th>\n",
       "      <td>3</td>\n",
       "      <td>1</td>\n",
       "      <td>3</td>\n",
       "      <td>3</td>\n",
       "      <td>2</td>\n",
       "      <td>1.0</td>\n",
       "      <td>43.5</td>\n",
       "      <td>42.0</td>\n",
       "      <td>1.5</td>\n",
       "    </tr>\n",
       "    <tr>\n",
       "      <th>15</th>\n",
       "      <td>6</td>\n",
       "      <td>1</td>\n",
       "      <td>3</td>\n",
       "      <td>5</td>\n",
       "      <td>2</td>\n",
       "      <td>1.0</td>\n",
       "      <td>139.0</td>\n",
       "      <td>135.0</td>\n",
       "      <td>4.0</td>\n",
       "    </tr>\n",
       "    <tr>\n",
       "      <th>23</th>\n",
       "      <td>10</td>\n",
       "      <td>1</td>\n",
       "      <td>3</td>\n",
       "      <td>4</td>\n",
       "      <td>2</td>\n",
       "      <td>3.0</td>\n",
       "      <td>60.0</td>\n",
       "      <td>54.0</td>\n",
       "      <td>6.0</td>\n",
       "    </tr>\n",
       "    <tr>\n",
       "      <th>8</th>\n",
       "      <td>3</td>\n",
       "      <td>1</td>\n",
       "      <td>3</td>\n",
       "      <td>4</td>\n",
       "      <td>2</td>\n",
       "      <td>3.0</td>\n",
       "      <td>60.0</td>\n",
       "      <td>54.0</td>\n",
       "      <td>6.0</td>\n",
       "    </tr>\n",
       "    <tr>\n",
       "      <th>16</th>\n",
       "      <td>7</td>\n",
       "      <td>2</td>\n",
       "      <td>1</td>\n",
       "      <td>4</td>\n",
       "      <td>3</td>\n",
       "      <td>3.0</td>\n",
       "      <td>60.0</td>\n",
       "      <td>54.0</td>\n",
       "      <td>6.0</td>\n",
       "    </tr>\n",
       "  </tbody>\n",
       "</table>\n",
       "</div>"
      ],
      "text/plain": [
       "               salesinvoicenumber  storeid  customerid  productid  \\\n",
       "transactionid                                                       \n",
       "7                               3        1           3          3   \n",
       "15                              6        1           3          5   \n",
       "23                             10        1           3          4   \n",
       "8                               3        1           3          4   \n",
       "16                              7        2           1          4   \n",
       "\n",
       "               salespersonid  quantity  salestotalcost  productactualcost  \\\n",
       "transactionid                                                               \n",
       "7                          2       1.0            43.5               42.0   \n",
       "15                         2       1.0           139.0              135.0   \n",
       "23                         2       3.0            60.0               54.0   \n",
       "8                          2       3.0            60.0               54.0   \n",
       "16                         3       3.0            60.0               54.0   \n",
       "\n",
       "               deviation  \n",
       "transactionid             \n",
       "7                    1.5  \n",
       "15                   4.0  \n",
       "23                   6.0  \n",
       "8                    6.0  \n",
       "16                   6.0  "
      ]
     },
     "execution_count": 9,
     "metadata": {},
     "output_type": "execute_result"
    }
   ],
   "source": [
    "product_sales_table.head()"
   ]
  },
  {
   "cell_type": "markdown",
   "id": "d8f57c63-5de8-4681-af21-9c338fd7e415",
   "metadata": {},
   "source": [
    "## Implement a Star Schema"
   ]
  },
  {
   "cell_type": "code",
   "execution_count": 10,
   "id": "3bb09fbd-1d25-472b-b5c9-f4ead3f96795",
   "metadata": {},
   "outputs": [],
   "source": [
    "product_sales_table.join(customer_table, product_sales_table[\"customerid\"] == customer_table[\"customerid\"])"
   ]
  },
  {
   "cell_type": "code",
   "execution_count": 11,
   "id": "a2ee4df7-a3ea-4d34-91e9-c83312d48e7e",
   "metadata": {},
   "outputs": [],
   "source": [
    "product_sales_table.join(product_table, product_sales_table[\"productid\"] == product_table[\"productkey\"])"
   ]
  },
  {
   "cell_type": "code",
   "execution_count": 12,
   "id": "99b1cec9-c379-4072-aab8-c94bd3cc7e4a",
   "metadata": {},
   "outputs": [],
   "source": [
    "product_sales_table.join(sales_person_table,\n",
    "                         product_sales_table[\"salespersonid\"] == sales_person_table[\"salespersonid\"])"
   ]
  },
  {
   "cell_type": "markdown",
   "id": "4245a88f-91d9-44ac-a658-8c2adb073b89",
   "metadata": {},
   "source": [
    "\n",
    "Each join links the `product_sales_table` with another table using a specific column (e.g., `customerid`, `productid`, `salespersonid`, `storeid`). These joins effectively combine data from multiple tables into a single dataset, allowing for more comprehensive analysis within the Atoti session."
   ]
  },
  {
   "cell_type": "code",
   "execution_count": 13,
   "id": "86b33b06-6faf-4951-af83-b8c16ec381e4",
   "metadata": {},
   "outputs": [],
   "source": [
    "product_sales_table.join(stores_table, product_sales_table[\"storeid\"] == stores_table[\"storeid\"])"
   ]
  },
  {
   "cell_type": "markdown",
   "id": "6f4a9461-4aee-422f-81ef-c820196eddb5",
   "metadata": {},
   "source": [
    "## Draw a Schema"
   ]
  },
  {
   "cell_type": "code",
   "execution_count": 14,
   "id": "11350840-0849-45ec-9b28-a535b5aa8975",
   "metadata": {},
   "outputs": [
    {
     "data": {
      "text/markdown": [
       "```mermaid\n",
       "erDiagram\n",
       "  \"Customer\" {\n",
       "    _ int PK \"customerid\"\n",
       "    _ String \"customeraltid\"\n",
       "    _ String \"customername\"\n",
       "    _ String \"gender\"\n",
       "  }\n",
       "  \"SalesPerson\" {\n",
       "    _ int PK \"salespersonid\"\n",
       "    _ String \"salespersonaltid\"\n",
       "    _ String \"salespersonname\"\n",
       "    nullable int \"storeid\"\n",
       "    _ String \"city\"\n",
       "    _ String \"state\"\n",
       "    _ String \"country\"\n",
       "  }\n",
       "  \"Product\" {\n",
       "    _ int PK \"productkey\"\n",
       "    _ String \"productaltkey\"\n",
       "    _ String \"productname\"\n",
       "    nullable double \"productactualcost\"\n",
       "    nullable double \"productsalescost\"\n",
       "  }\n",
       "  \"Stores\" {\n",
       "    _ int PK \"storeid\"\n",
       "    _ String \"storealtid\"\n",
       "    _ String \"storename\"\n",
       "    _ String \"storelocation\"\n",
       "    _ String \"city\"\n",
       "    _ String \"state\"\n",
       "    _ String \"country\"\n",
       "  }\n",
       "  \"ProductSales\" {\n",
       "    _ long PK \"transactionid\"\n",
       "    nullable int \"salesinvoicenumber\"\n",
       "    nullable int \"storeid\"\n",
       "    nullable int \"customerid\"\n",
       "    nullable int \"productid\"\n",
       "    nullable int \"salespersonid\"\n",
       "    nullable double \"quantity\"\n",
       "    nullable double \"salestotalcost\"\n",
       "    nullable double \"productactualcost\"\n",
       "    nullable double \"deviation\"\n",
       "  }\n",
       "  \"ProductSales\" }o--o| \"Product\" : \"`productid` == `productkey`\"\n",
       "  \"ProductSales\" }o--o| \"Customer\" : \"`customerid` == `customerid`\"\n",
       "  \"ProductSales\" }o--o| \"SalesPerson\" : \"`salespersonid` == `salespersonid`\"\n",
       "  \"ProductSales\" }o--o| \"Stores\" : \"`storeid` == `storeid`\"\n",
       "```\n"
      ],
      "text/plain": [
       "erDiagram\n",
       "  \"Customer\" {\n",
       "    _ int PK \"customerid\"\n",
       "    _ String \"customeraltid\"\n",
       "    _ String \"customername\"\n",
       "    _ String \"gender\"\n",
       "  }\n",
       "  \"SalesPerson\" {\n",
       "    _ int PK \"salespersonid\"\n",
       "    _ String \"salespersonaltid\"\n",
       "    _ String \"salespersonname\"\n",
       "    nullable int \"storeid\"\n",
       "    _ String \"city\"\n",
       "    _ String \"state\"\n",
       "    _ String \"country\"\n",
       "  }\n",
       "  \"Product\" {\n",
       "    _ int PK \"productkey\"\n",
       "    _ String \"productaltkey\"\n",
       "    _ String \"productname\"\n",
       "    nullable double \"productactualcost\"\n",
       "    nullable double \"productsalescost\"\n",
       "  }\n",
       "  \"Stores\" {\n",
       "    _ int PK \"storeid\"\n",
       "    _ String \"storealtid\"\n",
       "    _ String \"storename\"\n",
       "    _ String \"storelocation\"\n",
       "    _ String \"city\"\n",
       "    _ String \"state\"\n",
       "    _ String \"country\"\n",
       "  }\n",
       "  \"ProductSales\" {\n",
       "    _ long PK \"transactionid\"\n",
       "    nullable int \"salesinvoicenumber\"\n",
       "    nullable int \"storeid\"\n",
       "    nullable int \"customerid\"\n",
       "    nullable int \"productid\"\n",
       "    nullable int \"salespersonid\"\n",
       "    nullable double \"quantity\"\n",
       "    nullable double \"salestotalcost\"\n",
       "    nullable double \"productactualcost\"\n",
       "    nullable double \"deviation\"\n",
       "  }\n",
       "  \"ProductSales\" }o--o| \"Product\" : \"`productid` == `productkey`\"\n",
       "  \"ProductSales\" }o--o| \"Customer\" : \"`customerid` == `customerid`\"\n",
       "  \"ProductSales\" }o--o| \"SalesPerson\" : \"`salespersonid` == `salespersonid`\"\n",
       "  \"ProductSales\" }o--o| \"Stores\" : \"`storeid` == `storeid`\""
      ]
     },
     "execution_count": 14,
     "metadata": {},
     "output_type": "execute_result"
    }
   ],
   "source": [
    "session.tables.schema"
   ]
  },
  {
   "cell_type": "code",
   "execution_count": 15,
   "id": "cef318a0-52c2-4c1a-a1c0-295b966aa4cf",
   "metadata": {},
   "outputs": [],
   "source": [
    "cube = session.create_cube(product_sales_table)"
   ]
  },
  {
   "cell_type": "code",
   "execution_count": 16,
   "id": "16e2c037-0119-4732-b927-df06479addd9",
   "metadata": {},
   "outputs": [
    {
     "data": {
      "application/json": {
       "Dimensions": {
        "Customer": {
         "customeraltid": [
          "customeraltid"
         ],
         "customername": [
          "customername"
         ],
         "gender": [
          "gender"
         ]
        },
        "Product": {
         "productaltkey": [
          "productaltkey"
         ],
         "productname": [
          "productname"
         ]
        },
        "ProductSales": {
         "transactionid": [
          "transactionid"
         ]
        },
        "SalesPerson": {
         "city": [
          "city"
         ],
         "country": [
          "country"
         ],
         "salespersonaltid": [
          "salespersonaltid"
         ],
         "salespersonname": [
          "salespersonname"
         ],
         "state": [
          "state"
         ]
        },
        "Stores": {
         "city": [
          "city"
         ],
         "country": [
          "country"
         ],
         "state": [
          "state"
         ],
         "storealtid": [
          "storealtid"
         ],
         "storelocation": [
          "storelocation"
         ],
         "storename": [
          "storename"
         ]
        }
       },
       "Measures": {
        "contributors.COUNT": {
         "formatter": "INT[#,###]"
        },
        "customerid.MEAN": {
         "formatter": "DOUBLE[#,###.00]"
        },
        "customerid.SUM": {
         "formatter": "INT[#,###]"
        },
        "deviation.MEAN": {
         "formatter": "DOUBLE[#,###.00]"
        },
        "deviation.SUM": {
         "formatter": "DOUBLE[#,###.00]"
        },
        "productactualcost.MEAN": {
         "formatter": "DOUBLE[#,###.00]"
        },
        "productactualcost.SUM": {
         "formatter": "DOUBLE[#,###.00]"
        },
        "productid.MEAN": {
         "formatter": "DOUBLE[#,###.00]"
        },
        "productid.SUM": {
         "formatter": "INT[#,###]"
        },
        "quantity.MEAN": {
         "formatter": "DOUBLE[#,###.00]"
        },
        "quantity.SUM": {
         "formatter": "DOUBLE[#,###.00]"
        },
        "salesinvoicenumber.MEAN": {
         "formatter": "DOUBLE[#,###.00]"
        },
        "salesinvoicenumber.SUM": {
         "formatter": "INT[#,###]"
        },
        "salespersonid.MEAN": {
         "formatter": "DOUBLE[#,###.00]"
        },
        "salespersonid.SUM": {
         "formatter": "INT[#,###]"
        },
        "salestotalcost.MEAN": {
         "formatter": "DOUBLE[#,###.00]"
        },
        "salestotalcost.SUM": {
         "formatter": "DOUBLE[#,###.00]"
        },
        "storeid.MEAN": {
         "formatter": "DOUBLE[#,###.00]"
        },
        "storeid.SUM": {
         "formatter": "INT[#,###]"
        }
       }
      },
      "text/html": [
       "<ul>\n",
       "<li>ProductSales\n",
       "  <ul>\n",
       "  <li>Dimensions\n",
       "    <ul>\n",
       "    <li>Customer\n",
       "      <ul>\n",
       "      <li>customeraltid\n",
       "        <ol>\n",
       "        <li>customeraltid</li>\n",
       "        </ol>      </li>\n",
       "      <li>customername\n",
       "        <ol>\n",
       "        <li>customername</li>\n",
       "        </ol>      </li>\n",
       "      <li>gender\n",
       "        <ol>\n",
       "        <li>gender</li>\n",
       "        </ol>      </li>\n",
       "      </ul>\n",
       "    </li>\n",
       "    <li>Product\n",
       "      <ul>\n",
       "      <li>productaltkey\n",
       "        <ol>\n",
       "        <li>productaltkey</li>\n",
       "        </ol>      </li>\n",
       "      <li>productname\n",
       "        <ol>\n",
       "        <li>productname</li>\n",
       "        </ol>      </li>\n",
       "      </ul>\n",
       "    </li>\n",
       "    <li>ProductSales\n",
       "      <ul>\n",
       "      <li>transactionid\n",
       "        <ol>\n",
       "        <li>transactionid</li>\n",
       "        </ol>      </li>\n",
       "      </ul>\n",
       "    </li>\n",
       "    <li>SalesPerson\n",
       "      <ul>\n",
       "      <li>city\n",
       "        <ol>\n",
       "        <li>city</li>\n",
       "        </ol>      </li>\n",
       "      <li>country\n",
       "        <ol>\n",
       "        <li>country</li>\n",
       "        </ol>      </li>\n",
       "      <li>salespersonaltid\n",
       "        <ol>\n",
       "        <li>salespersonaltid</li>\n",
       "        </ol>      </li>\n",
       "      <li>salespersonname\n",
       "        <ol>\n",
       "        <li>salespersonname</li>\n",
       "        </ol>      </li>\n",
       "      <li>state\n",
       "        <ol>\n",
       "        <li>state</li>\n",
       "        </ol>      </li>\n",
       "      </ul>\n",
       "    </li>\n",
       "    <li>Stores\n",
       "      <ul>\n",
       "      <li>city\n",
       "        <ol>\n",
       "        <li>city</li>\n",
       "        </ol>      </li>\n",
       "      <li>country\n",
       "        <ol>\n",
       "        <li>country</li>\n",
       "        </ol>      </li>\n",
       "      <li>state\n",
       "        <ol>\n",
       "        <li>state</li>\n",
       "        </ol>      </li>\n",
       "      <li>storealtid\n",
       "        <ol>\n",
       "        <li>storealtid</li>\n",
       "        </ol>      </li>\n",
       "      <li>storelocation\n",
       "        <ol>\n",
       "        <li>storelocation</li>\n",
       "        </ol>      </li>\n",
       "      <li>storename\n",
       "        <ol>\n",
       "        <li>storename</li>\n",
       "        </ol>      </li>\n",
       "      </ul>\n",
       "    </li>\n",
       "    </ul>\n",
       "  </li>\n",
       "  <li>Measures\n",
       "    <ul>\n",
       "    <li>contributors.COUNT\n",
       "      <ul>\n",
       "      <li>formatter: INT[#,###]</li>\n",
       "      </ul>\n",
       "    </li>\n",
       "    <li>customerid.MEAN\n",
       "      <ul>\n",
       "      <li>formatter: DOUBLE[#,###.00]</li>\n",
       "      </ul>\n",
       "    </li>\n",
       "    <li>customerid.SUM\n",
       "      <ul>\n",
       "      <li>formatter: INT[#,###]</li>\n",
       "      </ul>\n",
       "    </li>\n",
       "    <li>deviation.MEAN\n",
       "      <ul>\n",
       "      <li>formatter: DOUBLE[#,###.00]</li>\n",
       "      </ul>\n",
       "    </li>\n",
       "    <li>deviation.SUM\n",
       "      <ul>\n",
       "      <li>formatter: DOUBLE[#,###.00]</li>\n",
       "      </ul>\n",
       "    </li>\n",
       "    <li>productactualcost.MEAN\n",
       "      <ul>\n",
       "      <li>formatter: DOUBLE[#,###.00]</li>\n",
       "      </ul>\n",
       "    </li>\n",
       "    <li>productactualcost.SUM\n",
       "      <ul>\n",
       "      <li>formatter: DOUBLE[#,###.00]</li>\n",
       "      </ul>\n",
       "    </li>\n",
       "    <li>productid.MEAN\n",
       "      <ul>\n",
       "      <li>formatter: DOUBLE[#,###.00]</li>\n",
       "      </ul>\n",
       "    </li>\n",
       "    <li>productid.SUM\n",
       "      <ul>\n",
       "      <li>formatter: INT[#,###]</li>\n",
       "      </ul>\n",
       "    </li>\n",
       "    <li>quantity.MEAN\n",
       "      <ul>\n",
       "      <li>formatter: DOUBLE[#,###.00]</li>\n",
       "      </ul>\n",
       "    </li>\n",
       "    <li>quantity.SUM\n",
       "      <ul>\n",
       "      <li>formatter: DOUBLE[#,###.00]</li>\n",
       "      </ul>\n",
       "    </li>\n",
       "    <li>salesinvoicenumber.MEAN\n",
       "      <ul>\n",
       "      <li>formatter: DOUBLE[#,###.00]</li>\n",
       "      </ul>\n",
       "    </li>\n",
       "    <li>salesinvoicenumber.SUM\n",
       "      <ul>\n",
       "      <li>formatter: INT[#,###]</li>\n",
       "      </ul>\n",
       "    </li>\n",
       "    <li>salespersonid.MEAN\n",
       "      <ul>\n",
       "      <li>formatter: DOUBLE[#,###.00]</li>\n",
       "      </ul>\n",
       "    </li>\n",
       "    <li>salespersonid.SUM\n",
       "      <ul>\n",
       "      <li>formatter: INT[#,###]</li>\n",
       "      </ul>\n",
       "    </li>\n",
       "    <li>salestotalcost.MEAN\n",
       "      <ul>\n",
       "      <li>formatter: DOUBLE[#,###.00]</li>\n",
       "      </ul>\n",
       "    </li>\n",
       "    <li>salestotalcost.SUM\n",
       "      <ul>\n",
       "      <li>formatter: DOUBLE[#,###.00]</li>\n",
       "      </ul>\n",
       "    </li>\n",
       "    <li>storeid.MEAN\n",
       "      <ul>\n",
       "      <li>formatter: DOUBLE[#,###.00]</li>\n",
       "      </ul>\n",
       "    </li>\n",
       "    <li>storeid.SUM\n",
       "      <ul>\n",
       "      <li>formatter: INT[#,###]</li>\n",
       "      </ul>\n",
       "    </li>\n",
       "    </ul>\n",
       "  </li>\n",
       "  </ul>\n",
       "</li>\n",
       "</ul>\n"
      ],
      "text/plain": [
       "<atoti.cube.Cube at 0x7fffb0480890>"
      ]
     },
     "execution_count": 16,
     "metadata": {
      "application/json": {
       "expanded": false,
       "root": "ProductSales"
      }
     },
     "output_type": "execute_result"
    }
   ],
   "source": [
    "cube"
   ]
  },
  {
   "cell_type": "code",
   "execution_count": 17,
   "id": "6cf0fe21-c3fb-4b65-9965-065de9277395",
   "metadata": {},
   "outputs": [],
   "source": [
    "hierarchies, levels, measures = cube.hierarchies, cube.levels, cube.measures"
   ]
  },
  {
   "cell_type": "markdown",
   "id": "eee3251c-aca9-44ed-87de-6b7573a369ac",
   "metadata": {},
   "source": [
    "In data warehousing, levels and hierarchies are fundamental concepts used to organize and structure data within dimensional models. Here's a breakdown of each concept:\n",
    "\n",
    "1. **Levels**:\n",
    "   - In the context of data warehousing, a \"level\" refers to a specific position within a hierarchy.\n",
    "   - Levels represent the different granularities or degrees of detail within a dimension.\n",
    "   - For example, in a time dimension, levels could include Year, Quarter, Month, Week, and Day. Each level represents a different level of granularity or detail within the time dimension.\n",
    "\n",
    "2. **Hierarchies**:\n",
    "   - A \"hierarchy\" represents the logical structure that arranges levels in a specific order or relationship.\n",
    "   - Hierarchies define the parent-child relationships between different levels within a dimension.\n",
    "   - Typically, hierarchies have a top-down structure, with higher levels encompassing lower levels.\n",
    "   - In a time dimension, for instance, the Year level would be at the top of the hierarchy, followed by Quarter, Month, Week, and Day levels, with each level being subordinate to the one above it.\n",
    "\n",
    "In summary, levels represent the individual positions or granularities within a dimension, while hierarchies define the logical relationships and order among these levels. Together, levels and hierarchies provide a structured way to organize and analyze data within dimensional models, facilitating efficient querying and reporting in data warehousing environments."
   ]
  },
  {
   "cell_type": "code",
   "execution_count": 18,
   "id": "e619517c-2f79-4169-b201-64fbff5d418e",
   "metadata": {},
   "outputs": [
    {
     "data": {
      "application/json": {
       "Customer": {
        "customeraltid": [
         "customeraltid"
        ],
        "customername": [
         "customername"
        ],
        "gender": [
         "gender"
        ]
       },
       "Product": {
        "productaltkey": [
         "productaltkey"
        ],
        "productname": [
         "productname"
        ]
       },
       "ProductSales": {
        "transactionid": [
         "transactionid"
        ]
       },
       "SalesPerson": {
        "city": [
         "city"
        ],
        "country": [
         "country"
        ],
        "salespersonaltid": [
         "salespersonaltid"
        ],
        "salespersonname": [
         "salespersonname"
        ],
        "state": [
         "state"
        ]
       },
       "Stores": {
        "city": [
         "city"
        ],
        "country": [
         "country"
        ],
        "state": [
         "state"
        ],
        "storealtid": [
         "storealtid"
        ],
        "storelocation": [
         "storelocation"
        ],
        "storename": [
         "storename"
        ]
       }
      },
      "text/html": [
       "<ul>\n",
       "<li>Dimensions\n",
       "  <ul>\n",
       "  <li>Customer\n",
       "    <ul>\n",
       "    <li>customeraltid\n",
       "      <ol>\n",
       "      <li>customeraltid</li>\n",
       "      </ol>    </li>\n",
       "    <li>customername\n",
       "      <ol>\n",
       "      <li>customername</li>\n",
       "      </ol>    </li>\n",
       "    <li>gender\n",
       "      <ol>\n",
       "      <li>gender</li>\n",
       "      </ol>    </li>\n",
       "    </ul>\n",
       "  </li>\n",
       "  <li>Product\n",
       "    <ul>\n",
       "    <li>productaltkey\n",
       "      <ol>\n",
       "      <li>productaltkey</li>\n",
       "      </ol>    </li>\n",
       "    <li>productname\n",
       "      <ol>\n",
       "      <li>productname</li>\n",
       "      </ol>    </li>\n",
       "    </ul>\n",
       "  </li>\n",
       "  <li>ProductSales\n",
       "    <ul>\n",
       "    <li>transactionid\n",
       "      <ol>\n",
       "      <li>transactionid</li>\n",
       "      </ol>    </li>\n",
       "    </ul>\n",
       "  </li>\n",
       "  <li>SalesPerson\n",
       "    <ul>\n",
       "    <li>city\n",
       "      <ol>\n",
       "      <li>city</li>\n",
       "      </ol>    </li>\n",
       "    <li>country\n",
       "      <ol>\n",
       "      <li>country</li>\n",
       "      </ol>    </li>\n",
       "    <li>salespersonaltid\n",
       "      <ol>\n",
       "      <li>salespersonaltid</li>\n",
       "      </ol>    </li>\n",
       "    <li>salespersonname\n",
       "      <ol>\n",
       "      <li>salespersonname</li>\n",
       "      </ol>    </li>\n",
       "    <li>state\n",
       "      <ol>\n",
       "      <li>state</li>\n",
       "      </ol>    </li>\n",
       "    </ul>\n",
       "  </li>\n",
       "  <li>Stores\n",
       "    <ul>\n",
       "    <li>city\n",
       "      <ol>\n",
       "      <li>city</li>\n",
       "      </ol>    </li>\n",
       "    <li>country\n",
       "      <ol>\n",
       "      <li>country</li>\n",
       "      </ol>    </li>\n",
       "    <li>state\n",
       "      <ol>\n",
       "      <li>state</li>\n",
       "      </ol>    </li>\n",
       "    <li>storealtid\n",
       "      <ol>\n",
       "      <li>storealtid</li>\n",
       "      </ol>    </li>\n",
       "    <li>storelocation\n",
       "      <ol>\n",
       "      <li>storelocation</li>\n",
       "      </ol>    </li>\n",
       "    <li>storename\n",
       "      <ol>\n",
       "      <li>storename</li>\n",
       "      </ol>    </li>\n",
       "    </ul>\n",
       "  </li>\n",
       "  </ul>\n",
       "</li>\n",
       "</ul>\n"
      ],
      "text/plain": [
       "{('Stores', 'storename'): <atoti.hierarchy.Hierarchy object at 0x7fffb04f4590>, ('Stores', 'state'): <atoti.hierarchy.Hierarchy object at 0x7fffb0502b50>, ('Product', 'productname'): <atoti.hierarchy.Hierarchy object at 0x7fffb0502c90>, ('SalesPerson', 'city'): <atoti.hierarchy.Hierarchy object at 0x7fffb0502d90>, ('Product', 'productaltkey'): <atoti.hierarchy.Hierarchy object at 0x7fffb0502e90>, ('SalesPerson', 'salespersonaltid'): <atoti.hierarchy.Hierarchy object at 0x7fffb0502fd0>, ('Stores', 'storealtid'): <atoti.hierarchy.Hierarchy object at 0x7fffb0503110>, ('Stores', 'city'): <atoti.hierarchy.Hierarchy object at 0x7fffb0503250>, ('ProductSales', 'transactionid'): <atoti.hierarchy.Hierarchy object at 0x7fffb0503390>, ('Customer', 'customername'): <atoti.hierarchy.Hierarchy object at 0x7fffb05034d0>, ('SalesPerson', 'salespersonname'): <atoti.hierarchy.Hierarchy object at 0x7fffb0503610>, ('SalesPerson', 'country'): <atoti.hierarchy.Hierarchy object at 0x7fffb0503750>, ('Customer', 'customeraltid'): <atoti.hierarchy.Hierarchy object at 0x7fffb0503890>, ('Stores', 'storelocation'): <atoti.hierarchy.Hierarchy object at 0x7fffb05039d0>, ('SalesPerson', 'state'): <atoti.hierarchy.Hierarchy object at 0x7fffb0503b10>, ('Stores', 'country'): <atoti.hierarchy.Hierarchy object at 0x7fffb0503c50>, ('Customer', 'gender'): <atoti.hierarchy.Hierarchy object at 0x7fffb0503d90>}"
      ]
     },
     "execution_count": 18,
     "metadata": {
      "application/json": {
       "expanded": true,
       "root": "Dimensions"
      }
     },
     "output_type": "execute_result"
    }
   ],
   "source": [
    "# original hierarchies\n",
    "hierarchies"
   ]
  },
  {
   "cell_type": "code",
   "execution_count": 19,
   "id": "dd91e63e-43f5-46bf-8e0d-8da58157f852",
   "metadata": {},
   "outputs": [
    {
     "data": {
      "application/json": {
       "city (SalesPerson/city/city)": {
        "dimension": "SalesPerson",
        "hierarchy": "city",
        "order": "NaturalOrder",
        "type": "String"
       },
       "city (Stores/city/city)": {
        "dimension": "Stores",
        "hierarchy": "city",
        "order": "NaturalOrder",
        "type": "String"
       },
       "country (SalesPerson/country/country)": {
        "dimension": "SalesPerson",
        "hierarchy": "country",
        "order": "NaturalOrder",
        "type": "String"
       },
       "country (Stores/country/country)": {
        "dimension": "Stores",
        "hierarchy": "country",
        "order": "NaturalOrder",
        "type": "String"
       },
       "customeraltid (Customer/customeraltid/customeraltid)": {
        "dimension": "Customer",
        "hierarchy": "customeraltid",
        "order": "NaturalOrder",
        "type": "String"
       },
       "customername (Customer/customername/customername)": {
        "dimension": "Customer",
        "hierarchy": "customername",
        "order": "NaturalOrder",
        "type": "String"
       },
       "gender (Customer/gender/gender)": {
        "dimension": "Customer",
        "hierarchy": "gender",
        "order": "NaturalOrder",
        "type": "String"
       },
       "productaltkey (Product/productaltkey/productaltkey)": {
        "dimension": "Product",
        "hierarchy": "productaltkey",
        "order": "NaturalOrder",
        "type": "String"
       },
       "productname (Product/productname/productname)": {
        "dimension": "Product",
        "hierarchy": "productname",
        "order": "NaturalOrder",
        "type": "String"
       },
       "salespersonaltid (SalesPerson/salespersonaltid/salespersonaltid)": {
        "dimension": "SalesPerson",
        "hierarchy": "salespersonaltid",
        "order": "NaturalOrder",
        "type": "String"
       },
       "salespersonname (SalesPerson/salespersonname/salespersonname)": {
        "dimension": "SalesPerson",
        "hierarchy": "salespersonname",
        "order": "NaturalOrder",
        "type": "String"
       },
       "state (SalesPerson/state/state)": {
        "dimension": "SalesPerson",
        "hierarchy": "state",
        "order": "NaturalOrder",
        "type": "String"
       },
       "state (Stores/state/state)": {
        "dimension": "Stores",
        "hierarchy": "state",
        "order": "NaturalOrder",
        "type": "String"
       },
       "storealtid (Stores/storealtid/storealtid)": {
        "dimension": "Stores",
        "hierarchy": "storealtid",
        "order": "NaturalOrder",
        "type": "String"
       },
       "storelocation (Stores/storelocation/storelocation)": {
        "dimension": "Stores",
        "hierarchy": "storelocation",
        "order": "NaturalOrder",
        "type": "String"
       },
       "storename (Stores/storename/storename)": {
        "dimension": "Stores",
        "hierarchy": "storename",
        "order": "NaturalOrder",
        "type": "String"
       },
       "transactionid (ProductSales/transactionid/transactionid)": {
        "dimension": "ProductSales",
        "hierarchy": "transactionid",
        "order": "NaturalOrder",
        "type": "long"
       }
      },
      "text/html": [
       "<ul>\n",
       "<li>Levels\n",
       "  <ul>\n",
       "  <li>city (SalesPerson/city/city)\n",
       "    <ul>\n",
       "    <li>dimension: SalesPerson</li>\n",
       "    <li>hierarchy: city</li>\n",
       "    <li>type: String</li>\n",
       "    <li>order: NaturalOrder</li>\n",
       "    </ul>\n",
       "  </li>\n",
       "  <li>city (Stores/city/city)\n",
       "    <ul>\n",
       "    <li>dimension: Stores</li>\n",
       "    <li>hierarchy: city</li>\n",
       "    <li>type: String</li>\n",
       "    <li>order: NaturalOrder</li>\n",
       "    </ul>\n",
       "  </li>\n",
       "  <li>country (SalesPerson/country/country)\n",
       "    <ul>\n",
       "    <li>dimension: SalesPerson</li>\n",
       "    <li>hierarchy: country</li>\n",
       "    <li>type: String</li>\n",
       "    <li>order: NaturalOrder</li>\n",
       "    </ul>\n",
       "  </li>\n",
       "  <li>country (Stores/country/country)\n",
       "    <ul>\n",
       "    <li>dimension: Stores</li>\n",
       "    <li>hierarchy: country</li>\n",
       "    <li>type: String</li>\n",
       "    <li>order: NaturalOrder</li>\n",
       "    </ul>\n",
       "  </li>\n",
       "  <li>customeraltid (Customer/customeraltid/customeraltid)\n",
       "    <ul>\n",
       "    <li>dimension: Customer</li>\n",
       "    <li>hierarchy: customeraltid</li>\n",
       "    <li>type: String</li>\n",
       "    <li>order: NaturalOrder</li>\n",
       "    </ul>\n",
       "  </li>\n",
       "  <li>customername (Customer/customername/customername)\n",
       "    <ul>\n",
       "    <li>dimension: Customer</li>\n",
       "    <li>hierarchy: customername</li>\n",
       "    <li>type: String</li>\n",
       "    <li>order: NaturalOrder</li>\n",
       "    </ul>\n",
       "  </li>\n",
       "  <li>gender (Customer/gender/gender)\n",
       "    <ul>\n",
       "    <li>dimension: Customer</li>\n",
       "    <li>hierarchy: gender</li>\n",
       "    <li>type: String</li>\n",
       "    <li>order: NaturalOrder</li>\n",
       "    </ul>\n",
       "  </li>\n",
       "  <li>productaltkey (Product/productaltkey/productaltkey)\n",
       "    <ul>\n",
       "    <li>dimension: Product</li>\n",
       "    <li>hierarchy: productaltkey</li>\n",
       "    <li>type: String</li>\n",
       "    <li>order: NaturalOrder</li>\n",
       "    </ul>\n",
       "  </li>\n",
       "  <li>productname (Product/productname/productname)\n",
       "    <ul>\n",
       "    <li>dimension: Product</li>\n",
       "    <li>hierarchy: productname</li>\n",
       "    <li>type: String</li>\n",
       "    <li>order: NaturalOrder</li>\n",
       "    </ul>\n",
       "  </li>\n",
       "  <li>salespersonaltid (SalesPerson/salespersonaltid/salespersonaltid)\n",
       "    <ul>\n",
       "    <li>dimension: SalesPerson</li>\n",
       "    <li>hierarchy: salespersonaltid</li>\n",
       "    <li>type: String</li>\n",
       "    <li>order: NaturalOrder</li>\n",
       "    </ul>\n",
       "  </li>\n",
       "  <li>salespersonname (SalesPerson/salespersonname/salespersonname)\n",
       "    <ul>\n",
       "    <li>dimension: SalesPerson</li>\n",
       "    <li>hierarchy: salespersonname</li>\n",
       "    <li>type: String</li>\n",
       "    <li>order: NaturalOrder</li>\n",
       "    </ul>\n",
       "  </li>\n",
       "  <li>state (SalesPerson/state/state)\n",
       "    <ul>\n",
       "    <li>dimension: SalesPerson</li>\n",
       "    <li>hierarchy: state</li>\n",
       "    <li>type: String</li>\n",
       "    <li>order: NaturalOrder</li>\n",
       "    </ul>\n",
       "  </li>\n",
       "  <li>state (Stores/state/state)\n",
       "    <ul>\n",
       "    <li>dimension: Stores</li>\n",
       "    <li>hierarchy: state</li>\n",
       "    <li>type: String</li>\n",
       "    <li>order: NaturalOrder</li>\n",
       "    </ul>\n",
       "  </li>\n",
       "  <li>storealtid (Stores/storealtid/storealtid)\n",
       "    <ul>\n",
       "    <li>dimension: Stores</li>\n",
       "    <li>hierarchy: storealtid</li>\n",
       "    <li>type: String</li>\n",
       "    <li>order: NaturalOrder</li>\n",
       "    </ul>\n",
       "  </li>\n",
       "  <li>storelocation (Stores/storelocation/storelocation)\n",
       "    <ul>\n",
       "    <li>dimension: Stores</li>\n",
       "    <li>hierarchy: storelocation</li>\n",
       "    <li>type: String</li>\n",
       "    <li>order: NaturalOrder</li>\n",
       "    </ul>\n",
       "  </li>\n",
       "  <li>storename (Stores/storename/storename)\n",
       "    <ul>\n",
       "    <li>dimension: Stores</li>\n",
       "    <li>hierarchy: storename</li>\n",
       "    <li>type: String</li>\n",
       "    <li>order: NaturalOrder</li>\n",
       "    </ul>\n",
       "  </li>\n",
       "  <li>transactionid (ProductSales/transactionid/transactionid)\n",
       "    <ul>\n",
       "    <li>dimension: ProductSales</li>\n",
       "    <li>hierarchy: transactionid</li>\n",
       "    <li>type: long</li>\n",
       "    <li>order: NaturalOrder</li>\n",
       "    </ul>\n",
       "  </li>\n",
       "  </ul>\n",
       "</li>\n",
       "</ul>\n"
      ],
      "text/plain": [
       "<atoti.levels.Levels at 0x7fffb0496910>"
      ]
     },
     "execution_count": 19,
     "metadata": {
      "application/json": {
       "expanded": true,
       "root": "Levels"
      }
     },
     "output_type": "execute_result"
    }
   ],
   "source": [
    "# original levels\n",
    "levels"
   ]
  },
  {
   "cell_type": "code",
   "execution_count": 20,
   "id": "8b013aca-3857-4909-a210-7d7401a55bd0",
   "metadata": {},
   "outputs": [
    {
     "data": {
      "application/json": {
       "city (SalesPerson/city/city)": {
        "dimension": "SalesPerson",
        "hierarchy": "city",
        "order": "NaturalOrder",
        "type": "String"
       },
       "city (Stores/city/city)": {
        "dimension": "Stores",
        "hierarchy": "city",
        "order": "NaturalOrder",
        "type": "String"
       },
       "country (SalesPerson/country/country)": {
        "dimension": "SalesPerson",
        "hierarchy": "country",
        "order": "NaturalOrder",
        "type": "String"
       },
       "country (Stores/country/country)": {
        "dimension": "Stores",
        "hierarchy": "country",
        "order": "NaturalOrder",
        "type": "String"
       },
       "customeraltid (Customer/customeraltid/customeraltid)": {
        "dimension": "Customer",
        "hierarchy": "customeraltid",
        "order": "NaturalOrder",
        "type": "String"
       },
       "customername (Customer/customername/customername)": {
        "dimension": "Customer",
        "hierarchy": "customername",
        "order": "NaturalOrder",
        "type": "String"
       },
       "gender (Customer/gender/gender)": {
        "dimension": "Customer",
        "hierarchy": "gender",
        "order": "NaturalOrder",
        "type": "String"
       },
       "productaltkey (Product/productaltkey/productaltkey)": {
        "dimension": "Product",
        "hierarchy": "productaltkey",
        "order": "NaturalOrder",
        "type": "String"
       },
       "productname (Product/productname/productname)": {
        "dimension": "Product",
        "hierarchy": "productname",
        "order": "NaturalOrder",
        "type": "String"
       },
       "salespersonaltid (SalesPerson/salespersonaltid/salespersonaltid)": {
        "dimension": "SalesPerson",
        "hierarchy": "salespersonaltid",
        "order": "NaturalOrder",
        "type": "String"
       },
       "salespersonname (SalesPerson/salespersonname/salespersonname)": {
        "dimension": "SalesPerson",
        "hierarchy": "salespersonname",
        "order": "NaturalOrder",
        "type": "String"
       },
       "state (SalesPerson/state/state)": {
        "dimension": "SalesPerson",
        "hierarchy": "state",
        "order": "NaturalOrder",
        "type": "String"
       },
       "state (Stores/state/state)": {
        "dimension": "Stores",
        "hierarchy": "state",
        "order": "NaturalOrder",
        "type": "String"
       },
       "storealtid (Stores/storealtid/storealtid)": {
        "dimension": "Stores",
        "hierarchy": "storealtid",
        "order": "NaturalOrder",
        "type": "String"
       },
       "storelocation (Stores/storelocation/storelocation)": {
        "dimension": "Stores",
        "hierarchy": "storelocation",
        "order": "NaturalOrder",
        "type": "String"
       },
       "storename (Stores/storename/storename)": {
        "dimension": "Stores",
        "hierarchy": "storename",
        "order": "NaturalOrder",
        "type": "String"
       },
       "transactionid (ProductSales/transactionid/transactionid)": {
        "dimension": "ProductSales",
        "hierarchy": "transactionid",
        "order": "NaturalOrder",
        "type": "long"
       }
      },
      "text/html": [
       "<ul>\n",
       "<li>Levels\n",
       "  <ul>\n",
       "  <li>city (SalesPerson/city/city)\n",
       "    <ul>\n",
       "    <li>dimension: SalesPerson</li>\n",
       "    <li>hierarchy: city</li>\n",
       "    <li>type: String</li>\n",
       "    <li>order: NaturalOrder</li>\n",
       "    </ul>\n",
       "  </li>\n",
       "  <li>city (Stores/city/city)\n",
       "    <ul>\n",
       "    <li>dimension: Stores</li>\n",
       "    <li>hierarchy: city</li>\n",
       "    <li>type: String</li>\n",
       "    <li>order: NaturalOrder</li>\n",
       "    </ul>\n",
       "  </li>\n",
       "  <li>country (SalesPerson/country/country)\n",
       "    <ul>\n",
       "    <li>dimension: SalesPerson</li>\n",
       "    <li>hierarchy: country</li>\n",
       "    <li>type: String</li>\n",
       "    <li>order: NaturalOrder</li>\n",
       "    </ul>\n",
       "  </li>\n",
       "  <li>country (Stores/country/country)\n",
       "    <ul>\n",
       "    <li>dimension: Stores</li>\n",
       "    <li>hierarchy: country</li>\n",
       "    <li>type: String</li>\n",
       "    <li>order: NaturalOrder</li>\n",
       "    </ul>\n",
       "  </li>\n",
       "  <li>customeraltid (Customer/customeraltid/customeraltid)\n",
       "    <ul>\n",
       "    <li>dimension: Customer</li>\n",
       "    <li>hierarchy: customeraltid</li>\n",
       "    <li>type: String</li>\n",
       "    <li>order: NaturalOrder</li>\n",
       "    </ul>\n",
       "  </li>\n",
       "  <li>customername (Customer/customername/customername)\n",
       "    <ul>\n",
       "    <li>dimension: Customer</li>\n",
       "    <li>hierarchy: customername</li>\n",
       "    <li>type: String</li>\n",
       "    <li>order: NaturalOrder</li>\n",
       "    </ul>\n",
       "  </li>\n",
       "  <li>gender (Customer/gender/gender)\n",
       "    <ul>\n",
       "    <li>dimension: Customer</li>\n",
       "    <li>hierarchy: gender</li>\n",
       "    <li>type: String</li>\n",
       "    <li>order: NaturalOrder</li>\n",
       "    </ul>\n",
       "  </li>\n",
       "  <li>productaltkey (Product/productaltkey/productaltkey)\n",
       "    <ul>\n",
       "    <li>dimension: Product</li>\n",
       "    <li>hierarchy: productaltkey</li>\n",
       "    <li>type: String</li>\n",
       "    <li>order: NaturalOrder</li>\n",
       "    </ul>\n",
       "  </li>\n",
       "  <li>productname (Product/productname/productname)\n",
       "    <ul>\n",
       "    <li>dimension: Product</li>\n",
       "    <li>hierarchy: productname</li>\n",
       "    <li>type: String</li>\n",
       "    <li>order: NaturalOrder</li>\n",
       "    </ul>\n",
       "  </li>\n",
       "  <li>salespersonaltid (SalesPerson/salespersonaltid/salespersonaltid)\n",
       "    <ul>\n",
       "    <li>dimension: SalesPerson</li>\n",
       "    <li>hierarchy: salespersonaltid</li>\n",
       "    <li>type: String</li>\n",
       "    <li>order: NaturalOrder</li>\n",
       "    </ul>\n",
       "  </li>\n",
       "  <li>salespersonname (SalesPerson/salespersonname/salespersonname)\n",
       "    <ul>\n",
       "    <li>dimension: SalesPerson</li>\n",
       "    <li>hierarchy: salespersonname</li>\n",
       "    <li>type: String</li>\n",
       "    <li>order: NaturalOrder</li>\n",
       "    </ul>\n",
       "  </li>\n",
       "  <li>state (SalesPerson/state/state)\n",
       "    <ul>\n",
       "    <li>dimension: SalesPerson</li>\n",
       "    <li>hierarchy: state</li>\n",
       "    <li>type: String</li>\n",
       "    <li>order: NaturalOrder</li>\n",
       "    </ul>\n",
       "  </li>\n",
       "  <li>state (Stores/state/state)\n",
       "    <ul>\n",
       "    <li>dimension: Stores</li>\n",
       "    <li>hierarchy: state</li>\n",
       "    <li>type: String</li>\n",
       "    <li>order: NaturalOrder</li>\n",
       "    </ul>\n",
       "  </li>\n",
       "  <li>storealtid (Stores/storealtid/storealtid)\n",
       "    <ul>\n",
       "    <li>dimension: Stores</li>\n",
       "    <li>hierarchy: storealtid</li>\n",
       "    <li>type: String</li>\n",
       "    <li>order: NaturalOrder</li>\n",
       "    </ul>\n",
       "  </li>\n",
       "  <li>storelocation (Stores/storelocation/storelocation)\n",
       "    <ul>\n",
       "    <li>dimension: Stores</li>\n",
       "    <li>hierarchy: storelocation</li>\n",
       "    <li>type: String</li>\n",
       "    <li>order: NaturalOrder</li>\n",
       "    </ul>\n",
       "  </li>\n",
       "  <li>storename (Stores/storename/storename)\n",
       "    <ul>\n",
       "    <li>dimension: Stores</li>\n",
       "    <li>hierarchy: storename</li>\n",
       "    <li>type: String</li>\n",
       "    <li>order: NaturalOrder</li>\n",
       "    </ul>\n",
       "  </li>\n",
       "  <li>transactionid (ProductSales/transactionid/transactionid)\n",
       "    <ul>\n",
       "    <li>dimension: ProductSales</li>\n",
       "    <li>hierarchy: transactionid</li>\n",
       "    <li>type: long</li>\n",
       "    <li>order: NaturalOrder</li>\n",
       "    </ul>\n",
       "  </li>\n",
       "  </ul>\n",
       "</li>\n",
       "</ul>\n"
      ],
      "text/plain": [
       "<atoti.levels.Levels at 0x7fffb0496910>"
      ]
     },
     "execution_count": 20,
     "metadata": {
      "application/json": {
       "expanded": true,
       "root": "Levels"
      }
     },
     "output_type": "execute_result"
    }
   ],
   "source": [
    "levels"
   ]
  },
  {
   "cell_type": "code",
   "execution_count": 21,
   "id": "25f9d042-4f46-411d-ae5e-cf5503a8c212",
   "metadata": {},
   "outputs": [],
   "source": [
    "# dimensions\n",
    "# Customer: CustomerName, Gender\n",
    "# SalesPerson: SalesPersonName, City, State, Country\n",
    "# Product: ProductName\n",
    "# Store: StoreName, City, State"
   ]
  },
  {
   "cell_type": "code",
   "execution_count": 22,
   "id": "a1e60270-b699-4f79-82cd-8d114a7d843f",
   "metadata": {},
   "outputs": [],
   "source": [
    "hierarchies[\"Customer\"] = [levels[\"customername\"], levels[\"gender\"]]"
   ]
  },
  {
   "cell_type": "code",
   "execution_count": 23,
   "id": "7e33c4c5-a9c1-4724-8dd7-1e26d61d35ca",
   "metadata": {},
   "outputs": [],
   "source": [
    "hierarchies[\"Product\"] = [levels[\"productname\"]]"
   ]
  },
  {
   "cell_type": "code",
   "execution_count": 24,
   "id": "1eb03503-ca6d-49c6-bb59-f971aef72c31",
   "metadata": {},
   "outputs": [],
   "source": [
    "hierarchies[\"SalesPerson\"] = [levels[\"salespersonname\"], levels[('SalesPerson', 'city', 'city')],\n",
    "                              levels[('SalesPerson', 'state', 'state')], levels[('SalesPerson', 'country', 'country')]]"
   ]
  },
  {
   "cell_type": "code",
   "execution_count": 25,
   "id": "0caf22ae-3873-4699-89ed-0589a690a12f",
   "metadata": {},
   "outputs": [],
   "source": [
    "hierarchies[\"Stores\"] = [levels[('Stores', 'storename', 'storename')], levels[('Stores', 'city', 'city')],\n",
    "                         levels[('Stores', 'state', 'state')], levels[('Stores', 'country', 'country')]]"
   ]
  },
  {
   "cell_type": "markdown",
   "id": "078d58db-d126-4e7b-b3c0-ddace99e2fb3",
   "metadata": {},
   "source": [
    "1. **Customer Hierarchy**:\n",
    "   - This hierarchy has two levels: `gender` and `customername`. It suggests organizing customers based on their gender and then further subcategorizing them by their names.\n",
    "\n",
    "2. **Product Hierarchy**:\n",
    "   - This hierarchy seems to have only one level: `productname`. It implies organizing products solely based on their names.\n",
    "\n",
    "3. **SalesPerson Hierarchy**:\n",
    "   - This hierarchy is more complex and has multiple levels:\n",
    "     - `salespersonname`: Organizing salespersons by their names.\n",
    "     - `('SalesPerson', 'city', 'city')`: Organizing salespersons by the cities they operate in.\n",
    "     - `('SalesPerson', 'state', 'state')`: Organizing salespersons by the states they operate in.\n",
    "     - `('SalesPerson', 'country', 'country')`: Organizing salespersons by the countries they operate in.\n",
    "\n",
    "4. **Stores Hierarchy**:\n",
    "   - Similar to the SalesPerson hierarchy, this one also has multiple levels:\n",
    "     - `('Stores', 'storename', 'storename')`: Organizing stores by their names.\n",
    "     - `('Stores', 'city', 'city')`: Organizing stores by the cities they are located in.\n",
    "     - `('Stores', 'state', 'state')`: Organizing stores by the states they are located in.\n",
    "     - `('Stores', 'country', 'country')`: Organizing stores by the countries they are located in.\n",
    "\n",
    "These hierarchies define the logical relationships between different levels within each dimension. They provide a structured way to navigate and analyze data within the dimensional model, enabling efficient querying and reporting.\n"
   ]
  },
  {
   "cell_type": "markdown",
   "id": "71e4a1fc-b08a-46b2-9b88-021b94a7f8e1",
   "metadata": {},
   "source": [
    "In the hierarchy definition `('Stores', 'storename', 'storename')`, the repetition of the term `'storename'` might seem redundant at first glance, but it serves a purpose within the context of multidimensional modeling, particularly in tools like OLAP (Online Analytical Processing) or data warehousing systems. Let me explain:\n",
    "\n",
    "1. **Dimensionality Identification**:\n",
    "   - The first element `'Stores'` identifies the dimension to which the hierarchy belongs. This is crucial in multidimensional models where multiple dimensions are present, as it distinguishes which dimension this specific hierarchy belongs to.\n",
    "\n",
    "2. **Level Identification**:\n",
    "   - The second element `'storename'` is the name of the level within the hierarchy. It specifies the granularity or detail being represented at this level. In this case, it represents the name of the store.\n",
    "\n",
    "3. **Level Key**:\n",
    "   - The third element `'storename'` in the hierarchy definition serves as a key that uniquely identifies members at this level. This key is particularly useful in relational databases or OLAP systems for data retrieval and aggregation purposes. While it appears redundant, it helps explicitly define the attribute used to uniquely identify members at this level.\n",
    "\n",
    "So, the repetition of `'storename'` helps clarify that this is both the name of the level within the hierarchy and the key attribute used to uniquely identify members at this level. It's a common convention in multidimensional modeling to explicitly specify both the level name and its key attribute to avoid ambiguity and ensure clarity in the model definition."
   ]
  },
  {
   "cell_type": "code",
   "execution_count": 26,
   "id": "ce72cc29-6ad8-4ab7-a52f-a91641dc225c",
   "metadata": {},
   "outputs": [
    {
     "data": {
      "application/json": {
       "Customer": {
        "Customer": [
         "customername",
         "gender"
        ],
        "customeraltid": [
         "customeraltid"
        ],
        "customername": [
         "customername"
        ],
        "gender": [
         "gender"
        ]
       },
       "Product": {
        "Product": [
         "productname"
        ],
        "productaltkey": [
         "productaltkey"
        ],
        "productname": [
         "productname"
        ]
       },
       "ProductSales": {
        "transactionid": [
         "transactionid"
        ]
       },
       "SalesPerson": {
        "SalesPerson": [
         "salespersonname",
         "city",
         "state",
         "country"
        ],
        "city": [
         "city"
        ],
        "country": [
         "country"
        ],
        "salespersonaltid": [
         "salespersonaltid"
        ],
        "salespersonname": [
         "salespersonname"
        ],
        "state": [
         "state"
        ]
       },
       "Stores": {
        "Stores": [
         "storename",
         "city",
         "state",
         "country"
        ],
        "city": [
         "city"
        ],
        "country": [
         "country"
        ],
        "state": [
         "state"
        ],
        "storealtid": [
         "storealtid"
        ],
        "storelocation": [
         "storelocation"
        ],
        "storename": [
         "storename"
        ]
       }
      },
      "text/html": [
       "<ul>\n",
       "<li>Dimensions\n",
       "  <ul>\n",
       "  <li>Customer\n",
       "    <ul>\n",
       "    <li>Customer\n",
       "      <ol>\n",
       "      <li>customername</li>\n",
       "      <li>gender</li>\n",
       "      </ol>    </li>\n",
       "    <li>customeraltid\n",
       "      <ol>\n",
       "      <li>customeraltid</li>\n",
       "      </ol>    </li>\n",
       "    <li>customername\n",
       "      <ol>\n",
       "      <li>customername</li>\n",
       "      </ol>    </li>\n",
       "    <li>gender\n",
       "      <ol>\n",
       "      <li>gender</li>\n",
       "      </ol>    </li>\n",
       "    </ul>\n",
       "  </li>\n",
       "  <li>Product\n",
       "    <ul>\n",
       "    <li>Product\n",
       "      <ol>\n",
       "      <li>productname</li>\n",
       "      </ol>    </li>\n",
       "    <li>productaltkey\n",
       "      <ol>\n",
       "      <li>productaltkey</li>\n",
       "      </ol>    </li>\n",
       "    <li>productname\n",
       "      <ol>\n",
       "      <li>productname</li>\n",
       "      </ol>    </li>\n",
       "    </ul>\n",
       "  </li>\n",
       "  <li>ProductSales\n",
       "    <ul>\n",
       "    <li>transactionid\n",
       "      <ol>\n",
       "      <li>transactionid</li>\n",
       "      </ol>    </li>\n",
       "    </ul>\n",
       "  </li>\n",
       "  <li>SalesPerson\n",
       "    <ul>\n",
       "    <li>SalesPerson\n",
       "      <ol>\n",
       "      <li>salespersonname</li>\n",
       "      <li>city</li>\n",
       "      <li>state</li>\n",
       "      <li>country</li>\n",
       "      </ol>    </li>\n",
       "    <li>city\n",
       "      <ol>\n",
       "      <li>city</li>\n",
       "      </ol>    </li>\n",
       "    <li>country\n",
       "      <ol>\n",
       "      <li>country</li>\n",
       "      </ol>    </li>\n",
       "    <li>salespersonaltid\n",
       "      <ol>\n",
       "      <li>salespersonaltid</li>\n",
       "      </ol>    </li>\n",
       "    <li>salespersonname\n",
       "      <ol>\n",
       "      <li>salespersonname</li>\n",
       "      </ol>    </li>\n",
       "    <li>state\n",
       "      <ol>\n",
       "      <li>state</li>\n",
       "      </ol>    </li>\n",
       "    </ul>\n",
       "  </li>\n",
       "  <li>Stores\n",
       "    <ul>\n",
       "    <li>Stores\n",
       "      <ol>\n",
       "      <li>storename</li>\n",
       "      <li>city</li>\n",
       "      <li>state</li>\n",
       "      <li>country</li>\n",
       "      </ol>    </li>\n",
       "    <li>city\n",
       "      <ol>\n",
       "      <li>city</li>\n",
       "      </ol>    </li>\n",
       "    <li>country\n",
       "      <ol>\n",
       "      <li>country</li>\n",
       "      </ol>    </li>\n",
       "    <li>state\n",
       "      <ol>\n",
       "      <li>state</li>\n",
       "      </ol>    </li>\n",
       "    <li>storealtid\n",
       "      <ol>\n",
       "      <li>storealtid</li>\n",
       "      </ol>    </li>\n",
       "    <li>storelocation\n",
       "      <ol>\n",
       "      <li>storelocation</li>\n",
       "      </ol>    </li>\n",
       "    <li>storename\n",
       "      <ol>\n",
       "      <li>storename</li>\n",
       "      </ol>    </li>\n",
       "    </ul>\n",
       "  </li>\n",
       "  </ul>\n",
       "</li>\n",
       "</ul>\n"
      ],
      "text/plain": [
       "{('Stores', 'storename'): <atoti.hierarchy.Hierarchy object at 0x7fffb0503b10>, ('Stores', 'state'): <atoti.hierarchy.Hierarchy object at 0x7fffb0467a10>, ('Stores', 'Stores'): <atoti.hierarchy.Hierarchy object at 0x7fffb04b7c90>, ('Customer', 'Customer'): <atoti.hierarchy.Hierarchy object at 0x7fffb04d31d0>, ('Product', 'productname'): <atoti.hierarchy.Hierarchy object at 0x7fffb04d09d0>, ('SalesPerson', 'city'): <atoti.hierarchy.Hierarchy object at 0x7fffb04d0490>, ('Product', 'productaltkey'): <atoti.hierarchy.Hierarchy object at 0x7fffb04d2f90>, ('SalesPerson', 'salespersonaltid'): <atoti.hierarchy.Hierarchy object at 0x7fffb04d2750>, ('Stores', 'storealtid'): <atoti.hierarchy.Hierarchy object at 0x7fffb04d3e90>, ('Stores', 'city'): <atoti.hierarchy.Hierarchy object at 0x7fffb04d0f10>, ('ProductSales', 'transactionid'): <atoti.hierarchy.Hierarchy object at 0x7fffb04d3b10>, ('Customer', 'customername'): <atoti.hierarchy.Hierarchy object at 0x7fffb04d3f90>, ('SalesPerson', 'SalesPerson'): <atoti.hierarchy.Hierarchy object at 0x7fffb04d2690>, ('SalesPerson', 'salespersonname'): <atoti.hierarchy.Hierarchy object at 0x7fffb04d3d50>, ('SalesPerson', 'country'): <atoti.hierarchy.Hierarchy object at 0x7fffb04d16d0>, ('Product', 'Product'): <atoti.hierarchy.Hierarchy object at 0x7fffb04d2950>, ('Customer', 'customeraltid'): <atoti.hierarchy.Hierarchy object at 0x7fffb04d3350>, ('Stores', 'storelocation'): <atoti.hierarchy.Hierarchy object at 0x7fffb04d2f10>, ('SalesPerson', 'state'): <atoti.hierarchy.Hierarchy object at 0x7fffb04d1c10>, ('Stores', 'country'): <atoti.hierarchy.Hierarchy object at 0x7fffb04d2890>, ('Customer', 'gender'): <atoti.hierarchy.Hierarchy object at 0x7fffb04d1450>}"
      ]
     },
     "execution_count": 26,
     "metadata": {
      "application/json": {
       "expanded": true,
       "root": "Dimensions"
      }
     },
     "output_type": "execute_result"
    }
   ],
   "source": [
    "hierarchies"
   ]
  },
  {
   "cell_type": "code",
   "execution_count": null,
   "id": "6c9e506f-45a0-40c6-8f34-77e3fb4a93a0",
   "metadata": {},
   "outputs": [],
   "source": []
  },
  {
   "cell_type": "code",
   "execution_count": null,
   "id": "bdf3a84f-7a93-491d-ad7f-0236650e63b4",
   "metadata": {},
   "outputs": [],
   "source": []
  },
  {
   "cell_type": "code",
   "execution_count": 27,
   "id": "ffcb9bdc-946f-4091-ad1f-59dbf644182c",
   "metadata": {},
   "outputs": [],
   "source": [
    "# clean customer\n",
    "del hierarchies[('Customer', 'customeraltid')]\n",
    "del hierarchies[('Customer', 'customername')]\n",
    "del hierarchies[('Customer', 'gender')]"
   ]
  },
  {
   "cell_type": "markdown",
   "id": "eb308819-9556-4de0-bf77-000ca78646bb",
   "metadata": {},
   "source": [
    "\n",
    "While `'customeraltid'` could potentially be included in a hierarchy depending on its relationship with other attributes, the decision to exclude it suggests that it may not align with the hierarchical structure of the dimension or may not provide significant analytical value within the context of the data model."
   ]
  },
  {
   "cell_type": "code",
   "execution_count": 28,
   "id": "e5f48877-b317-40f5-a7af-65717a158965",
   "metadata": {},
   "outputs": [],
   "source": [
    "# clean product\n",
    "del hierarchies[('Product', 'productname')]\n",
    "del hierarchies[('Product', 'productaltkey')]"
   ]
  },
  {
   "cell_type": "code",
   "execution_count": 29,
   "id": "fa5e840c-a8a9-417d-b221-3492a0c396d3",
   "metadata": {},
   "outputs": [],
   "source": [
    "# clean salesperson\n",
    "del hierarchies[('SalesPerson', 'city')]\n",
    "del hierarchies[('SalesPerson', 'salespersonname')]\n",
    "del hierarchies[('SalesPerson', 'country')]\n",
    "del hierarchies[('SalesPerson', 'state')]\n",
    "del hierarchies[('SalesPerson', 'salespersonaltid')]"
   ]
  },
  {
   "cell_type": "code",
   "execution_count": 30,
   "id": "46c974d2-9bd4-4399-a64e-153fd9d78b29",
   "metadata": {},
   "outputs": [],
   "source": [
    "# clean stores\n",
    "del hierarchies[('Stores', 'storename')]\n",
    "del hierarchies[('Stores', 'state')]\n",
    "del hierarchies[('Stores', 'country')]\n",
    "del hierarchies[('Stores', 'storealtid')]\n",
    "del hierarchies[('Stores', 'city')]"
   ]
  },
  {
   "cell_type": "code",
   "execution_count": 31,
   "id": "d3aaa105-253d-4c41-9e05-a375c0545779",
   "metadata": {},
   "outputs": [],
   "source": [
    "# clean product sales\n",
    "del hierarchies[('ProductSales', 'transactionid')]"
   ]
  },
  {
   "cell_type": "code",
   "execution_count": 32,
   "id": "3e72dcbf-3fbe-4f0c-b031-d3d9339a98fb",
   "metadata": {},
   "outputs": [
    {
     "data": {
      "application/json": {
       "Customer": {
        "Customer": [
         "customername",
         "gender"
        ]
       },
       "Product": {
        "Product": [
         "productname"
        ]
       },
       "SalesPerson": {
        "SalesPerson": [
         "salespersonname",
         "city",
         "state",
         "country"
        ]
       },
       "Stores": {
        "Stores": [
         "storename",
         "city",
         "state",
         "country"
        ],
        "storelocation": [
         "storelocation"
        ]
       }
      },
      "text/html": [
       "<ul>\n",
       "<li>Dimensions\n",
       "  <ul>\n",
       "  <li>Customer\n",
       "    <ul>\n",
       "    <li>Customer\n",
       "      <ol>\n",
       "      <li>customername</li>\n",
       "      <li>gender</li>\n",
       "      </ol>    </li>\n",
       "    </ul>\n",
       "  </li>\n",
       "  <li>Product\n",
       "    <ul>\n",
       "    <li>Product\n",
       "      <ol>\n",
       "      <li>productname</li>\n",
       "      </ol>    </li>\n",
       "    </ul>\n",
       "  </li>\n",
       "  <li>SalesPerson\n",
       "    <ul>\n",
       "    <li>SalesPerson\n",
       "      <ol>\n",
       "      <li>salespersonname</li>\n",
       "      <li>city</li>\n",
       "      <li>state</li>\n",
       "      <li>country</li>\n",
       "      </ol>    </li>\n",
       "    </ul>\n",
       "  </li>\n",
       "  <li>Stores\n",
       "    <ul>\n",
       "    <li>Stores\n",
       "      <ol>\n",
       "      <li>storename</li>\n",
       "      <li>city</li>\n",
       "      <li>state</li>\n",
       "      <li>country</li>\n",
       "      </ol>    </li>\n",
       "    <li>storelocation\n",
       "      <ol>\n",
       "      <li>storelocation</li>\n",
       "      </ol>    </li>\n",
       "    </ul>\n",
       "  </li>\n",
       "  </ul>\n",
       "</li>\n",
       "</ul>\n"
      ],
      "text/plain": [
       "{('SalesPerson', 'SalesPerson'): <atoti.hierarchy.Hierarchy object at 0x7fffb0501690>, ('Stores', 'Stores'): <atoti.hierarchy.Hierarchy object at 0x7fffb1743650>, ('Product', 'Product'): <atoti.hierarchy.Hierarchy object at 0x7fffb052e5d0>, ('Customer', 'Customer'): <atoti.hierarchy.Hierarchy object at 0x7fffb052e890>, ('Stores', 'storelocation'): <atoti.hierarchy.Hierarchy object at 0x7fffb052d510>}"
      ]
     },
     "execution_count": 32,
     "metadata": {
      "application/json": {
       "expanded": true,
       "root": "Dimensions"
      }
     },
     "output_type": "execute_result"
    }
   ],
   "source": [
    "hierarchies"
   ]
  },
  {
   "cell_type": "code",
   "execution_count": 33,
   "id": "aa9efd8b-cf0d-43d0-9733-b1d21a3b3dc9",
   "metadata": {},
   "outputs": [],
   "source": [
    "# clean measures\n",
    "del measures[\"contributors.COUNT\"]\n",
    "del measures[\"customerid.MEAN\"]\n",
    "del measures[\"customerid.SUM\"]\n",
    "del measures[\"deviation.MEAN\"]\n",
    "del measures[\"deviation.SUM\"]\n",
    "del measures[\"productactualcost.MEAN\"]\n",
    "del measures[\"productid.MEAN\"]\n",
    "del measures[\"productid.SUM\"]\n",
    "del measures[\"salesinvoicenumber.MEAN\"]\n",
    "del measures[\"salesinvoicenumber.SUM\"]\n",
    "del measures[\"salespersonid.MEAN\"]\n",
    "del measures[\"salespersonid.SUM\"]\n",
    "del measures[\"storeid.MEAN\"]\n",
    "del measures[\"storeid.SUM\"]\n",
    "del measures[\"salestotalcost.MEAN\"]\n",
    "del measures[\"quantity.MEAN\"]"
   ]
  },
  {
   "cell_type": "code",
   "execution_count": 34,
   "id": "77526eac-4025-469b-ab16-4eb9c2d4f64e",
   "metadata": {},
   "outputs": [
    {
     "data": {
      "application/json": {
       "productactualcost.SUM": {
        "formatter": "DOUBLE[#,###.00]"
       },
       "quantity.SUM": {
        "formatter": "DOUBLE[#,###.00]"
       },
       "salestotalcost.SUM": {
        "formatter": "DOUBLE[#,###.00]"
       }
      },
      "text/html": [
       "<ul>\n",
       "<li>Measures\n",
       "  <ul>\n",
       "  <li>productactualcost.SUM\n",
       "    <ul>\n",
       "    <li>formatter: DOUBLE[#,###.00]</li>\n",
       "    </ul>\n",
       "  </li>\n",
       "  <li>quantity.SUM\n",
       "    <ul>\n",
       "    <li>formatter: DOUBLE[#,###.00]</li>\n",
       "    </ul>\n",
       "  </li>\n",
       "  <li>salestotalcost.SUM\n",
       "    <ul>\n",
       "    <li>formatter: DOUBLE[#,###.00]</li>\n",
       "    </ul>\n",
       "  </li>\n",
       "  </ul>\n",
       "</li>\n",
       "</ul>\n"
      ],
      "text/plain": [
       "{'update.TIMESTAMP': <atoti.measure.Measure object at 0x7fffb0347b90>, 'quantity.SUM': <atoti.measure.Measure object at 0x7fffb0347a10>, 'salestotalcost.SUM': <atoti.measure.Measure object at 0x7fffb0346e50>, 'productactualcost.SUM': <atoti.measure.Measure object at 0x7fffb03442d0>}"
      ]
     },
     "execution_count": 34,
     "metadata": {
      "application/json": {
       "expanded": false,
       "root": "Measures"
      }
     },
     "output_type": "execute_result"
    }
   ],
   "source": [
    "measures"
   ]
  },
  {
   "cell_type": "code",
   "execution_count": 35,
   "id": "1e874102-e542-458d-a120-f06f2cc7f905",
   "metadata": {},
   "outputs": [
    {
     "data": {
      "text/html": [
       "<div>\n",
       "<style scoped>\n",
       "    .dataframe tbody tr th:only-of-type {\n",
       "        vertical-align: middle;\n",
       "    }\n",
       "\n",
       "    .dataframe tbody tr th {\n",
       "        vertical-align: top;\n",
       "    }\n",
       "\n",
       "    .dataframe thead th {\n",
       "        text-align: right;\n",
       "    }\n",
       "</style>\n",
       "<table border=\"1\" class=\"dataframe\">\n",
       "  <thead>\n",
       "    <tr style=\"text-align: right;\">\n",
       "      <th></th>\n",
       "      <th></th>\n",
       "      <th>quantity.SUM</th>\n",
       "    </tr>\n",
       "    <tr>\n",
       "      <th>storename</th>\n",
       "      <th>city</th>\n",
       "      <th></th>\n",
       "    </tr>\n",
       "  </thead>\n",
       "  <tbody>\n",
       "    <tr>\n",
       "      <th>X-Mart</th>\n",
       "      <th>Ahmedabad</th>\n",
       "      <td>43.00</td>\n",
       "    </tr>\n",
       "  </tbody>\n",
       "</table>\n",
       "</div>"
      ],
      "text/plain": [
       "                    quantity.SUM\n",
       "storename city                  \n",
       "X-Mart    Ahmedabad        43.00"
      ]
     },
     "execution_count": 35,
     "metadata": {},
     "output_type": "execute_result"
    }
   ],
   "source": [
    "cube.query(measures[\"quantity.SUM\"], levels=[levels[('Stores', 'Stores', 'city')]])"
   ]
  },
  {
   "cell_type": "markdown",
   "id": "a8f89853-d7c9-4815-b3a0-2902177c028d",
   "metadata": {},
   "source": [
    "The provided query targets a cube to retrieve the sum of the \"quantity\" measure aggregated at the city level within the \"Stores\" dimension. Let's break down the query:\n",
    "\n",
    "```python\n",
    "cube.query(measures[\"quantity.SUM\"], levels=[levels[('Stores', 'Stores', 'city')]])\n",
    "```\n",
    "\n",
    "- `cube.query()`: This method is used to perform a query on a cube within an Atoti session.\n",
    "\n",
    "- `measures[\"quantity.SUM\"]`: This specifies the measure being queried, which is the sum of the \"quantity\" measure. It's aggregated at the city level.\n",
    "\n",
    "- `levels[('Stores', 'Stores', 'city')]`: This indicates the level at which the aggregation is performed. It's specifying the city level within the \"Stores\" dimension.\n",
    "\n",
    "So, the query retrieves the sum of the \"quantity\" measure aggregated at the city level within the \"Stores\" dimension. It's a way to analyze the total quantity of products sold or any other quantity-related metric at the city level across different stores."
   ]
  },
  {
   "cell_type": "markdown",
   "id": "c021498e-4a6e-4539-80b7-f6521d8913c5",
   "metadata": {},
   "source": [
    "\n",
    "Typically, in a multidimensional model like the one represented by Atoti, the syntax for specifying a level within a dimension follows the pattern:\n",
    "\n",
    "`levels[(dimension_name, hierarchy_name, level_name)]`\n"
   ]
  },
  {
   "cell_type": "code",
   "execution_count": 36,
   "id": "d6faed66f9e436ce",
   "metadata": {
    "collapsed": false,
    "jupyter": {
     "outputs_hidden": false
    }
   },
   "outputs": [
    {
     "name": "stderr",
     "output_type": "stream",
     "text": [
      "/opt/conda/lib/python3.11/site-packages/pydantic/_internal/_dataclasses.py:135: FutureWarning: The variadic constructor is deprecated, pass a named `levels` parameter instead.\n",
      "  s.__pydantic_validator__.validate_python(ArgsKwargs(args, kwargs), self_instance=s)\n"
     ]
    }
   ],
   "source": [
    "cost = tt.agg.sum(\n",
    "    measures[\"quantity.SUM\"] * tt.agg.single_value(product_table[\"productactualcost\"]),\n",
    "    scope=tt.OriginScope(levels[\"productname\"]),\n",
    ")\n",
    "\n",
    "income = tt.agg.sum(\n",
    "    measures[\"quantity.SUM\"] * tt.agg.single_value(product_table[\"productsalescost\"]),\n",
    "    scope=tt.OriginScope(levels[\"productname\"]),\n",
    ")\n"
   ]
  },
  {
   "cell_type": "code",
   "execution_count": 37,
   "id": "a68f25eb1d166ceb",
   "metadata": {
    "collapsed": false,
    "jupyter": {
     "outputs_hidden": false
    }
   },
   "outputs": [],
   "source": [
    "measures[\"Margin\"] = income - cost"
   ]
  },
  {
   "cell_type": "code",
   "execution_count": 38,
   "id": "9db203315b8f378",
   "metadata": {
    "collapsed": false,
    "jupyter": {
     "outputs_hidden": false
    }
   },
   "outputs": [
    {
     "data": {
      "text/html": [
       "<div>\n",
       "<style scoped>\n",
       "    .dataframe tbody tr th:only-of-type {\n",
       "        vertical-align: middle;\n",
       "    }\n",
       "\n",
       "    .dataframe tbody tr th {\n",
       "        vertical-align: top;\n",
       "    }\n",
       "\n",
       "    .dataframe thead th {\n",
       "        text-align: right;\n",
       "    }\n",
       "</style>\n",
       "<table border=\"1\" class=\"dataframe\">\n",
       "  <thead>\n",
       "    <tr style=\"text-align: right;\">\n",
       "      <th></th>\n",
       "      <th>Margin</th>\n",
       "    </tr>\n",
       "    <tr>\n",
       "      <th>productname</th>\n",
       "      <th></th>\n",
       "    </tr>\n",
       "  </thead>\n",
       "  <tbody>\n",
       "    <tr>\n",
       "      <th>Arial Washing Powder 1kg</th>\n",
       "      <td>12.00</td>\n",
       "    </tr>\n",
       "    <tr>\n",
       "      <th>Nirma Soap</th>\n",
       "      <td>36.00</td>\n",
       "    </tr>\n",
       "    <tr>\n",
       "      <th>Rice Grains 1kg</th>\n",
       "      <td>12.00</td>\n",
       "    </tr>\n",
       "    <tr>\n",
       "      <th>SunFlower Oil 1 ltr</th>\n",
       "      <td>10.50</td>\n",
       "    </tr>\n",
       "    <tr>\n",
       "      <th>Wheat Floor 1kg</th>\n",
       "      <td>7.00</td>\n",
       "    </tr>\n",
       "  </tbody>\n",
       "</table>\n",
       "</div>"
      ],
      "text/plain": [
       "                         Margin\n",
       "productname                    \n",
       "Arial Washing Powder 1kg  12.00\n",
       "Nirma Soap                36.00\n",
       "Rice Grains 1kg           12.00\n",
       "SunFlower Oil 1 ltr       10.50\n",
       "Wheat Floor 1kg            7.00"
      ]
     },
     "execution_count": 38,
     "metadata": {},
     "output_type": "execute_result"
    }
   ],
   "source": [
    "cube.query(measures[\"Margin\"], levels=[levels[('Product', 'Product', 'productname')]])"
   ]
  },
  {
   "cell_type": "markdown",
   "id": "8281cb2d-013a-4d57-abc4-f20cbcaaca17",
   "metadata": {},
   "source": [
    "## Presentation"
   ]
  },
  {
   "cell_type": "code",
   "execution_count": 39,
   "id": "70508704-ba4e-439d-84d2-f6078b52ef0a",
   "metadata": {
    "atoti": {
     "widget": {
      "mapping": {
       "horizontalSubplots": [],
       "sliceBy": [
        "[Customer].[Customer].[customername]"
       ],
       "values": [
        "[Measures].[quantity.SUM]"
       ],
       "verticalSubplots": []
      },
      "query": {
       "mdx": "SELECT NON EMPTY {[Measures].[quantity.SUM]} ON COLUMNS, NON EMPTY Hierarchize(Descendants({[Customer].[Customer].[ALL].[AllMember]}, 1, SELF_AND_BEFORE)) DIMENSION PROPERTIES CHILDREN_CARDINALITY ON ROWS FROM [ProductSales] CELL PROPERTIES VALUE, FORMATTED_VALUE, BACK_COLOR, FORE_COLOR, FONT_FLAGS",
       "updateMode": "once"
      },
      "serverKey": "default",
      "widgetKey": "plotly-donut-chart"
     }
    }
   },
   "outputs": [
    {
     "data": {
      "application/vnd.atoti.widget.v0+json": {
       "sessionId": "1711600166_XLPG56",
       "sessionLocation": {
        "https": false,
        "port": 9092
       },
       "widgetCreationCode": "session.widget"
      },
      "text/html": [
       "<img height=\"352\" width=\"957\" src=\"data:image/png;base64,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\" />"
      ],
      "text/plain": [
       "Open the notebook in JupyterLab with the Atoti JupyterLab extension enabled to build this widget."
      ]
     },
     "metadata": {},
     "output_type": "display_data"
    }
   ],
   "source": [
    "session.widget"
   ]
  },
  {
   "cell_type": "code",
   "execution_count": 40,
   "id": "679b108a-e6ee-4bb9-ae66-f5503e318520",
   "metadata": {},
   "outputs": [
    {
     "data": {
      "application/vnd.atoti.link.v0+json": {
       "path": "",
       "sessionLocation": {
        "https": false,
        "port": 9092
       }
      },
      "text/markdown": [
       "http://localhost:9092\n",
       "\n",
       "_Note_: This is the session's local URL: it may not be reachable if Atoti is running on another machine."
      ],
      "text/plain": [
       "http://localhost:9092 (This is the session's local URL: it may not be reachable if Atoti is running on another machine.)"
      ]
     },
     "execution_count": 40,
     "metadata": {},
     "output_type": "execute_result"
    }
   ],
   "source": [
    "session.link"
   ]
  },
  {
   "cell_type": "markdown",
   "id": "d6d44dcc28e9d4b6",
   "metadata": {
    "collapsed": false,
    "jupyter": {
     "outputs_hidden": false
    }
   },
   "source": [
    "## What-if Analysis"
   ]
  },
  {
   "cell_type": "code",
   "execution_count": 41,
   "id": "85f5820e858f2b68",
   "metadata": {
    "collapsed": false,
    "jupyter": {
     "outputs_hidden": false
    }
   },
   "outputs": [],
   "source": [
    "import pandas as pd\n",
    "from sqlalchemy import create_engine"
   ]
  },
  {
   "cell_type": "code",
   "execution_count": 42,
   "id": "e886a3678a4f98bf",
   "metadata": {
    "collapsed": false,
    "jupyter": {
     "outputs_hidden": false
    }
   },
   "outputs": [],
   "source": [
    "connection_url = f\"postgresql://{db_user}:{db_password}@{db_host}:{db_port}/{db_name}\"\n",
    "\n",
    "# Create the engine\n",
    "engine = create_engine(connection_url)"
   ]
  },
  {
   "cell_type": "code",
   "execution_count": 43,
   "id": "8c91d436778af08a",
   "metadata": {
    "collapsed": false,
    "jupyter": {
     "outputs_hidden": false
    }
   },
   "outputs": [],
   "source": [
    "product_df = pd.read_sql_query(\"SELECT * FROM dimproduct\", engine)"
   ]
  },
  {
   "cell_type": "code",
   "execution_count": 44,
   "id": "4bdf253b849eee1d",
   "metadata": {
    "collapsed": false,
    "jupyter": {
     "outputs_hidden": false
    }
   },
   "outputs": [
    {
     "data": {
      "text/html": [
       "<div>\n",
       "<style scoped>\n",
       "    .dataframe tbody tr th:only-of-type {\n",
       "        vertical-align: middle;\n",
       "    }\n",
       "\n",
       "    .dataframe tbody tr th {\n",
       "        vertical-align: top;\n",
       "    }\n",
       "\n",
       "    .dataframe thead th {\n",
       "        text-align: right;\n",
       "    }\n",
       "</style>\n",
       "<table border=\"1\" class=\"dataframe\">\n",
       "  <thead>\n",
       "    <tr style=\"text-align: right;\">\n",
       "      <th></th>\n",
       "      <th>productkey</th>\n",
       "      <th>productaltkey</th>\n",
       "      <th>productname</th>\n",
       "      <th>productactualcost</th>\n",
       "      <th>productsalescost</th>\n",
       "    </tr>\n",
       "  </thead>\n",
       "  <tbody>\n",
       "    <tr>\n",
       "      <th>0</th>\n",
       "      <td>1</td>\n",
       "      <td>ITM-001</td>\n",
       "      <td>Wheat Floor 1kg</td>\n",
       "      <td>5.5</td>\n",
       "      <td>6.5</td>\n",
       "    </tr>\n",
       "    <tr>\n",
       "      <th>1</th>\n",
       "      <td>2</td>\n",
       "      <td>ITM-002</td>\n",
       "      <td>Rice Grains 1kg</td>\n",
       "      <td>22.5</td>\n",
       "      <td>24.0</td>\n",
       "    </tr>\n",
       "    <tr>\n",
       "      <th>2</th>\n",
       "      <td>3</td>\n",
       "      <td>ITM-003</td>\n",
       "      <td>SunFlower Oil 1 ltr</td>\n",
       "      <td>42.0</td>\n",
       "      <td>43.5</td>\n",
       "    </tr>\n",
       "    <tr>\n",
       "      <th>3</th>\n",
       "      <td>4</td>\n",
       "      <td>ITM-004</td>\n",
       "      <td>Nirma Soap</td>\n",
       "      <td>18.0</td>\n",
       "      <td>20.0</td>\n",
       "    </tr>\n",
       "    <tr>\n",
       "      <th>4</th>\n",
       "      <td>5</td>\n",
       "      <td>ITM-005</td>\n",
       "      <td>Arial Washing Powder 1kg</td>\n",
       "      <td>135.0</td>\n",
       "      <td>139.0</td>\n",
       "    </tr>\n",
       "  </tbody>\n",
       "</table>\n",
       "</div>"
      ],
      "text/plain": [
       "   productkey productaltkey               productname  productactualcost  \\\n",
       "0           1       ITM-001           Wheat Floor 1kg                5.5   \n",
       "1           2       ITM-002           Rice Grains 1kg               22.5   \n",
       "2           3       ITM-003       SunFlower Oil 1 ltr               42.0   \n",
       "3           4       ITM-004                Nirma Soap               18.0   \n",
       "4           5       ITM-005  Arial Washing Powder 1kg              135.0   \n",
       "\n",
       "   productsalescost  \n",
       "0               6.5  \n",
       "1              24.0  \n",
       "2              43.5  \n",
       "3              20.0  \n",
       "4             139.0  "
      ]
     },
     "execution_count": 44,
     "metadata": {},
     "output_type": "execute_result"
    }
   ],
   "source": [
    "product_df"
   ]
  },
  {
   "cell_type": "code",
   "execution_count": 45,
   "id": "f8311b70a085b68e",
   "metadata": {
    "collapsed": false,
    "jupyter": {
     "outputs_hidden": false
    }
   },
   "outputs": [],
   "source": [
    "better_actual_cost = {\n",
    "    \"ITM-001\": 4.5,\n",
    "    \"ITM-002\": 10,\n",
    "    \"ITM-003\": 30,\n",
    "    \"ITM-004\": 15,\n",
    "    \"ITM-005\": 135,\n",
    "}"
   ]
  },
  {
   "cell_type": "code",
   "execution_count": 46,
   "id": "fdee0fdf92085ef2",
   "metadata": {
    "collapsed": false,
    "jupyter": {
     "outputs_hidden": false
    }
   },
   "outputs": [
    {
     "data": {
      "text/html": [
       "<div>\n",
       "<style scoped>\n",
       "    .dataframe tbody tr th:only-of-type {\n",
       "        vertical-align: middle;\n",
       "    }\n",
       "\n",
       "    .dataframe tbody tr th {\n",
       "        vertical-align: top;\n",
       "    }\n",
       "\n",
       "    .dataframe thead th {\n",
       "        text-align: right;\n",
       "    }\n",
       "</style>\n",
       "<table border=\"1\" class=\"dataframe\">\n",
       "  <thead>\n",
       "    <tr style=\"text-align: right;\">\n",
       "      <th></th>\n",
       "      <th>productkey</th>\n",
       "      <th>productaltkey</th>\n",
       "      <th>productname</th>\n",
       "      <th>productactualcost</th>\n",
       "      <th>productsalescost</th>\n",
       "    </tr>\n",
       "  </thead>\n",
       "  <tbody>\n",
       "    <tr>\n",
       "      <th>0</th>\n",
       "      <td>1</td>\n",
       "      <td>ITM-001</td>\n",
       "      <td>Wheat Floor 1kg</td>\n",
       "      <td>4.5</td>\n",
       "      <td>6.5</td>\n",
       "    </tr>\n",
       "    <tr>\n",
       "      <th>1</th>\n",
       "      <td>2</td>\n",
       "      <td>ITM-002</td>\n",
       "      <td>Rice Grains 1kg</td>\n",
       "      <td>10.0</td>\n",
       "      <td>24.0</td>\n",
       "    </tr>\n",
       "    <tr>\n",
       "      <th>2</th>\n",
       "      <td>3</td>\n",
       "      <td>ITM-003</td>\n",
       "      <td>SunFlower Oil 1 ltr</td>\n",
       "      <td>30.0</td>\n",
       "      <td>43.5</td>\n",
       "    </tr>\n",
       "    <tr>\n",
       "      <th>3</th>\n",
       "      <td>4</td>\n",
       "      <td>ITM-004</td>\n",
       "      <td>Nirma Soap</td>\n",
       "      <td>15.0</td>\n",
       "      <td>20.0</td>\n",
       "    </tr>\n",
       "    <tr>\n",
       "      <th>4</th>\n",
       "      <td>5</td>\n",
       "      <td>ITM-005</td>\n",
       "      <td>Arial Washing Powder 1kg</td>\n",
       "      <td>135.0</td>\n",
       "      <td>139.0</td>\n",
       "    </tr>\n",
       "  </tbody>\n",
       "</table>\n",
       "</div>"
      ],
      "text/plain": [
       "   productkey productaltkey               productname  productactualcost  \\\n",
       "0           1       ITM-001           Wheat Floor 1kg                4.5   \n",
       "1           2       ITM-002           Rice Grains 1kg               10.0   \n",
       "2           3       ITM-003       SunFlower Oil 1 ltr               30.0   \n",
       "3           4       ITM-004                Nirma Soap               15.0   \n",
       "4           5       ITM-005  Arial Washing Powder 1kg              135.0   \n",
       "\n",
       "   productsalescost  \n",
       "0               6.5  \n",
       "1              24.0  \n",
       "2              43.5  \n",
       "3              20.0  \n",
       "4             139.0  "
      ]
     },
     "execution_count": 46,
     "metadata": {},
     "output_type": "execute_result"
    }
   ],
   "source": [
    "for product, actual_cost in better_actual_cost.items():\n",
    "    product_df.loc[\n",
    "        product_df[\"productaltkey\"] == product, \"productactualcost\"\n",
    "    ] = actual_cost\n",
    "product_df"
   ]
  },
  {
   "cell_type": "code",
   "execution_count": 47,
   "id": "948c8798bc249a8e",
   "metadata": {
    "collapsed": false,
    "jupyter": {
     "outputs_hidden": false
    }
   },
   "outputs": [],
   "source": [
    "product_table.scenarios[\"Lower actual cost\"].load_pandas(product_df)"
   ]
  },
  {
   "cell_type": "code",
   "execution_count": null,
   "id": "de63f17b-1528-4358-b78f-9c859f267dc2",
   "metadata": {},
   "outputs": [],
   "source": []
  },
  {
   "cell_type": "code",
   "execution_count": null,
   "id": "36e15443-d590-4ff0-976f-4608f5730588",
   "metadata": {},
   "outputs": [],
   "source": []
  }
 ],
 "metadata": {
  "kernelspec": {
   "display_name": "Python 3 (ipykernel)",
   "language": "python",
   "name": "python3"
  },
  "language_info": {
   "codemirror_mode": {
    "name": "ipython",
    "version": 3
   },
   "file_extension": ".py",
   "mimetype": "text/x-python",
   "name": "python",
   "nbconvert_exporter": "python",
   "pygments_lexer": "ipython3",
   "version": "3.11.6"
  }
 },
 "nbformat": 4,
 "nbformat_minor": 5
}
