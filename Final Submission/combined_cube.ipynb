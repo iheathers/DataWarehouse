{
 "cells": [
  {
   "cell_type": "markdown",
   "id": "270585c5-9ecf-4a2a-bdff-386f7406eab5",
   "metadata": {},
   "source": [
    "# Cube and Data Warehouse"
   ]
  },
  {
   "cell_type": "code",
   "execution_count": 1,
   "id": "755e11dc-66b9-419e-9727-fe3b6325f007",
   "metadata": {},
   "outputs": [
    {
     "name": "stdout",
     "output_type": "stream",
     "text": [
      "Welcome to Atoti 0.8.10!\n",
      "\n",
      "By using this community edition, you agree with the license available at https://docs.atoti.io/latest/eula.html.\n",
      "Browse the official documentation at https://docs.atoti.io.\n",
      "Join the community at https://www.atoti.io/register.\n",
      "\n",
      "Atoti collects telemetry data, which is used to help understand how to improve the product.\n",
      "If you don't wish to send usage data, you can request a trial license at https://www.atoti.io/evaluation-license-request.\n",
      "\n",
      "You can hide this message by setting the `ATOTI_HIDE_EULA_MESSAGE` environment variable to True.\n"
     ]
    }
   ],
   "source": [
    "import atoti as tt"
   ]
  },
  {
   "cell_type": "code",
   "execution_count": 2,
   "id": "db0c2927-6db8-408e-aa55-1d9e0fe5873b",
   "metadata": {},
   "outputs": [],
   "source": [
    "session = tt.Session(\n",
    "    user_content_storage=\".content\",\n",
    "    port=9092,\n",
    "    java_options=[\"-Xms1G\", \"-Xmx10G\"]\n",
    ")"
   ]
  },
  {
   "cell_type": "code",
   "execution_count": 3,
   "id": "97a65f25-0afe-4002-afcc-a5c099820bd1",
   "metadata": {},
   "outputs": [],
   "source": [
    "db_name = \"olympic_olap\"\n",
    "db_user = \"postgres\"\n",
    "db_password = \"postgres\"  \n",
    "db_host = \"pgdb\"  # Update if your DB is hosted elsewhere\n",
    "db_port = \"5432\"\n",
    "\n",
    "jdbc_url = f\"jdbc:postgresql://{db_host}:{db_port}/{db_name}?user={db_user}&password={db_password}\""
   ]
  },
  {
   "cell_type": "code",
   "execution_count": 4,
   "id": "84f4c800-f4eb-48ff-b692-08755ed0692c",
   "metadata": {},
   "outputs": [],
   "source": [
    "# # Load the combined fact table from the database into the Atoti session.\n",
    "# This table aggregates various metrics across multiple dimensions including sports, economic indicators, \n",
    "# and health data for comprehensive analysis.\n",
    "\n",
    "combined_fact_table = session.read_sql(\n",
    "    \"\"\"\n",
    "    SELECT\n",
    "        id,\n",
    "        game_slug,\n",
    "        participant_id,\n",
    "        athlete_id,\n",
    "        event_id,\n",
    "        country_code,\n",
    "        CAST(year AS CHAR(4)) AS year,  -- Casting year to string directly in SQL\n",
    "        total_bronze_medals,\n",
    "        total_silver_medals,\n",
    "        total_gold_medals,\n",
    "        total_medals,\n",
    "        poverty_count,\n",
    "        gdp_per_capita,\n",
    "        annual_gdp_growth,\n",
    "        servers_count,\n",
    "        daly_depression,\n",
    "        daly_schizophrenia,\n",
    "        daly_bipolar_disorder,\n",
    "        daly_eating_disorder,\n",
    "        daly_anxiety,\n",
    "        life_expectancy,\n",
    "        infant_mortality_rate,\n",
    "        current_health_expenditure,\n",
    "        government_health_expenditure,\n",
    "        private_health_expenditure,\n",
    "        external_health_expenditure\n",
    "    FROM combinedfacttable\n",
    "    \"\"\",\n",
    "    keys=[\"id\"],\n",
    "    table_name=\"CombinedFactTable\",\n",
    "    url=jdbc_url,\n",
    ")"
   ]
  },
  {
   "cell_type": "code",
   "execution_count": 5,
   "id": "3cc4ee22-2e5e-431b-af26-26a129df759f",
   "metadata": {},
   "outputs": [],
   "source": [
    "# # Load the dimension table for location data from the database into the Atoti session. \n",
    "# This table includes geographic details indexed by country code to enhance analytical capabilities by providing spatial context.\n",
    "\n",
    "dimlocation_table = session.read_sql(\n",
    "    \"SELECT * FROM DimLocation\",\n",
    "    keys=[\"country_code\"],\n",
    "    table_name=\"DimLocation\",\n",
    "    url=jdbc_url)"
   ]
  },
  {
   "cell_type": "code",
   "execution_count": 6,
   "id": "88cd5780-bf57-4774-b743-e79bfa2b6cc9",
   "metadata": {},
   "outputs": [],
   "source": [
    "# Load the dimension table for event data from the database into the Atoti session. \n",
    "\n",
    "dimevent_table = session.read_sql(\n",
    "    \"SELECT * FROM DimEvent\",\n",
    "    keys=[\"event_id\"],\n",
    "    table_name=\"DimEvent\",\n",
    "    url=jdbc_url,\n",
    ")"
   ]
  },
  {
   "cell_type": "code",
   "execution_count": 7,
   "id": "c6eac93c-63e2-492a-b248-993e5f1a15b2",
   "metadata": {},
   "outputs": [],
   "source": [
    "# Load the dimension table for participant data from the database into the Atoti session. \n",
    "\n",
    "dimparticipant_table = session.read_sql(\n",
    "    \"SELECT * FROM DimParticipant\",\n",
    "    keys=[\"participant_id\"],\n",
    "    table_name=\"DimParticipant\",\n",
    "    url=jdbc_url,\n",
    ")"
   ]
  },
  {
   "cell_type": "code",
   "execution_count": 8,
   "id": "f17b5d9c-faf4-4d0b-b737-ef888db222ba",
   "metadata": {},
   "outputs": [],
   "source": [
    "# Load the dimension table for athlete data from the database into the Atoti session. \n",
    "\n",
    "dimathlete_table = session.read_sql(\n",
    "    \"SELECT * FROM DimAthlete\",\n",
    "    keys=[\"athlete_id\"],\n",
    "    table_name=\"DimAthlete\",\n",
    "    url=jdbc_url,\n",
    ")"
   ]
  },
  {
   "cell_type": "code",
   "execution_count": 9,
   "id": "88bb73cf-d0b8-487e-a480-7c014a3585c6",
   "metadata": {},
   "outputs": [],
   "source": [
    "# Load the dimension table for year data from the database into the Atoti session. \n",
    "\n",
    "dimyear_table = session.read_sql(\n",
    "    \"SELECT CAST(year AS CHAR(4)) AS year FROM DimYear\",\n",
    "    keys=[\"year\"],\n",
    "    table_name=\"DimYear\",\n",
    "    url=jdbc_url,\n",
    ")"
   ]
  },
  {
   "cell_type": "code",
   "execution_count": 10,
   "id": "c63cedce-4eb1-4dfe-baf3-18dcbcad5c63",
   "metadata": {},
   "outputs": [],
   "source": [
    "# Load the dimension table for game data from the database into the Atoti session. \n",
    "\n",
    "dimgame_table = session.read_sql(\n",
    "    \"SELECT * FROM DimGame\",\n",
    "    keys=[\"game_slug\"],\n",
    "    table_name=\"DimGame\",\n",
    "    url=jdbc_url,\n",
    ")"
   ]
  },
  {
   "cell_type": "code",
   "execution_count": 11,
   "id": "240b5e58-1198-4496-bd8d-73192124a60d",
   "metadata": {},
   "outputs": [],
   "source": [
    "# Join the combined fact table with various dimension tables to enrich the dataset with additional contextual information.\n",
    "# This will facilitate more detailed and comprehensive analysis across multiple dimensions.\n",
    "\n",
    "combined_fact_table.join(dimlocation_table, combined_fact_table[\"country_code\"] == dimlocation_table[\"country_code\"])\n",
    "\n",
    "combined_fact_table.join(dimevent_table, combined_fact_table[\"event_id\"] == dimevent_table[\"event_id\"])\n",
    "\n",
    "combined_fact_table.join(dimparticipant_table, combined_fact_table[\"participant_id\"] == dimparticipant_table[\"participant_id\"])\n",
    "\n",
    "combined_fact_table.join(dimathlete_table, combined_fact_table[\"athlete_id\"] == dimathlete_table[\"athlete_id\"])\n",
    "\n",
    "combined_fact_table.join(dimyear_table, combined_fact_table[\"year\"] == dimyear_table[\"year\"])\n",
    "\n",
    "combined_fact_table.join(dimgame_table, combined_fact_table[\"game_slug\"] == dimgame_table[\"game_slug\"])"
   ]
  },
  {
   "cell_type": "code",
   "execution_count": 12,
   "id": "9c5014da-d5bb-440e-b615-3f2c9fe94dd2",
   "metadata": {},
   "outputs": [
    {
     "data": {
      "application/json": {
       "default_value": "N/A",
       "key": false,
       "type": "String"
      },
      "text/html": [
       "<ul>\n",
       "<li>year\n",
       "  <ul>\n",
       "  <li>key: False</li>\n",
       "  <li>type: String</li>\n",
       "  <li>default_value: N/A</li>\n",
       "  </ul>\n",
       "</li>\n",
       "</ul>\n"
      ],
      "text/plain": [
       "<atoti.column.Column at 0x7fffb0450210>"
      ]
     },
     "execution_count": 12,
     "metadata": {
      "application/json": {
       "expanded": true,
       "root": "year"
      }
     },
     "output_type": "execute_result"
    }
   ],
   "source": [
    "combined_fact_table['year']"
   ]
  },
  {
   "cell_type": "code",
   "execution_count": 13,
   "id": "3fe72bf0-45da-4fe6-8138-12d78b874fe5",
   "metadata": {},
   "outputs": [
    {
     "data": {
      "text/markdown": [
       "```mermaid\n",
       "erDiagram\n",
       "  \"DimAthlete\" {\n",
       "    _ int PK \"athlete_id\"\n",
       "    _ String \"athlete_name\"\n",
       "    _ String \"athlete_url\"\n",
       "  }\n",
       "  \"DimLocation\" {\n",
       "    _ String PK \"country_code\"\n",
       "    _ String \"country_name\"\n",
       "    _ String \"continent\"\n",
       "  }\n",
       "  \"DimEvent\" {\n",
       "    _ int PK \"event_id\"\n",
       "    _ String \"event_title\"\n",
       "    _ String \"event_discipline\"\n",
       "    _ String \"event_gender\"\n",
       "  }\n",
       "  \"CombinedFactTable\" {\n",
       "    _ int PK \"id\"\n",
       "    _ String \"game_slug\"\n",
       "    nullable int \"participant_id\"\n",
       "    nullable int \"athlete_id\"\n",
       "    nullable int \"event_id\"\n",
       "    _ String \"country_code\"\n",
       "    _ String \"year\"\n",
       "    nullable int \"total_bronze_medals\"\n",
       "    nullable int \"total_silver_medals\"\n",
       "    nullable int \"total_gold_medals\"\n",
       "    nullable int \"total_medals\"\n",
       "    nullable double \"poverty_count\"\n",
       "    nullable double \"gdp_per_capita\"\n",
       "    nullable double \"annual_gdp_growth\"\n",
       "    nullable int \"servers_count\"\n",
       "    nullable double \"daly_depression\"\n",
       "    nullable double \"daly_schizophrenia\"\n",
       "    nullable double \"daly_bipolar_disorder\"\n",
       "    nullable double \"daly_eating_disorder\"\n",
       "    nullable double \"daly_anxiety\"\n",
       "    nullable double \"life_expectancy\"\n",
       "    nullable double \"infant_mortality_rate\"\n",
       "    nullable double \"current_health_expenditure\"\n",
       "    nullable double \"government_health_expenditure\"\n",
       "    nullable double \"private_health_expenditure\"\n",
       "    nullable double \"external_health_expenditure\"\n",
       "  }\n",
       "  \"DimParticipant\" {\n",
       "    _ int PK \"participant_id\"\n",
       "    _ String \"participant_title\"\n",
       "    _ String \"participant_type\"\n",
       "  }\n",
       "  \"DimYear\" {\n",
       "    _ String PK \"year\"\n",
       "  }\n",
       "  \"DimGame\" {\n",
       "    _ String PK \"game_slug\"\n",
       "    _ String \"game_name\"\n",
       "    _ String \"game_season\"\n",
       "    nullable int \"game_year\"\n",
       "    _ String \"country_code\"\n",
       "  }\n",
       "  \"CombinedFactTable\" }o--o| \"DimLocation\" : \"`country_code` == `country_code`\"\n",
       "  \"CombinedFactTable\" }o--o| \"DimGame\" : \"`game_slug` == `game_slug`\"\n",
       "  \"CombinedFactTable\" }o--o| \"DimParticipant\" : \"`participant_id` == `participant_id`\"\n",
       "  \"CombinedFactTable\" }o--o| \"DimYear\" : \"`year` == `year`\"\n",
       "  \"CombinedFactTable\" }o--o| \"DimAthlete\" : \"`athlete_id` == `athlete_id`\"\n",
       "  \"CombinedFactTable\" }o--o| \"DimEvent\" : \"`event_id` == `event_id`\"\n",
       "```\n"
      ],
      "text/plain": [
       "erDiagram\n",
       "  \"DimAthlete\" {\n",
       "    _ int PK \"athlete_id\"\n",
       "    _ String \"athlete_name\"\n",
       "    _ String \"athlete_url\"\n",
       "  }\n",
       "  \"DimLocation\" {\n",
       "    _ String PK \"country_code\"\n",
       "    _ String \"country_name\"\n",
       "    _ String \"continent\"\n",
       "  }\n",
       "  \"DimEvent\" {\n",
       "    _ int PK \"event_id\"\n",
       "    _ String \"event_title\"\n",
       "    _ String \"event_discipline\"\n",
       "    _ String \"event_gender\"\n",
       "  }\n",
       "  \"CombinedFactTable\" {\n",
       "    _ int PK \"id\"\n",
       "    _ String \"game_slug\"\n",
       "    nullable int \"participant_id\"\n",
       "    nullable int \"athlete_id\"\n",
       "    nullable int \"event_id\"\n",
       "    _ String \"country_code\"\n",
       "    _ String \"year\"\n",
       "    nullable int \"total_bronze_medals\"\n",
       "    nullable int \"total_silver_medals\"\n",
       "    nullable int \"total_gold_medals\"\n",
       "    nullable int \"total_medals\"\n",
       "    nullable double \"poverty_count\"\n",
       "    nullable double \"gdp_per_capita\"\n",
       "    nullable double \"annual_gdp_growth\"\n",
       "    nullable int \"servers_count\"\n",
       "    nullable double \"daly_depression\"\n",
       "    nullable double \"daly_schizophrenia\"\n",
       "    nullable double \"daly_bipolar_disorder\"\n",
       "    nullable double \"daly_eating_disorder\"\n",
       "    nullable double \"daly_anxiety\"\n",
       "    nullable double \"life_expectancy\"\n",
       "    nullable double \"infant_mortality_rate\"\n",
       "    nullable double \"current_health_expenditure\"\n",
       "    nullable double \"government_health_expenditure\"\n",
       "    nullable double \"private_health_expenditure\"\n",
       "    nullable double \"external_health_expenditure\"\n",
       "  }\n",
       "  \"DimParticipant\" {\n",
       "    _ int PK \"participant_id\"\n",
       "    _ String \"participant_title\"\n",
       "    _ String \"participant_type\"\n",
       "  }\n",
       "  \"DimYear\" {\n",
       "    _ String PK \"year\"\n",
       "  }\n",
       "  \"DimGame\" {\n",
       "    _ String PK \"game_slug\"\n",
       "    _ String \"game_name\"\n",
       "    _ String \"game_season\"\n",
       "    nullable int \"game_year\"\n",
       "    _ String \"country_code\"\n",
       "  }\n",
       "  \"CombinedFactTable\" }o--o| \"DimLocation\" : \"`country_code` == `country_code`\"\n",
       "  \"CombinedFactTable\" }o--o| \"DimGame\" : \"`game_slug` == `game_slug`\"\n",
       "  \"CombinedFactTable\" }o--o| \"DimParticipant\" : \"`participant_id` == `participant_id`\"\n",
       "  \"CombinedFactTable\" }o--o| \"DimYear\" : \"`year` == `year`\"\n",
       "  \"CombinedFactTable\" }o--o| \"DimAthlete\" : \"`athlete_id` == `athlete_id`\"\n",
       "  \"CombinedFactTable\" }o--o| \"DimEvent\" : \"`event_id` == `event_id`\""
      ]
     },
     "execution_count": 13,
     "metadata": {},
     "output_type": "execute_result"
    }
   ],
   "source": [
    "session.tables.schema"
   ]
  },
  {
   "cell_type": "code",
   "execution_count": 14,
   "id": "2c81cfa6-29e8-41b8-8f8c-11331e381787",
   "metadata": {},
   "outputs": [],
   "source": [
    "# Create a cube from the combined fact table in the Atoti session.\n",
    "# This cube will allow for multi-dimensional analysis and visualization of the data aggregated in the fact table, \n",
    "# facilitating deeper insights and easier exploration.\n",
    "\n",
    "cube = session.create_cube(combined_fact_table)"
   ]
  },
  {
   "cell_type": "code",
   "execution_count": 15,
   "id": "dc050f18-a3b2-4710-b251-8508415fec3f",
   "metadata": {},
   "outputs": [
    {
     "data": {
      "application/json": {
       "Dimensions": {
        "CombinedFactTable": {
         "country_code": [
          "country_code"
         ],
         "game_slug": [
          "game_slug"
         ],
         "id": [
          "id"
         ],
         "year": [
          "year"
         ]
        },
        "DimAthlete": {
         "athlete_name": [
          "athlete_name"
         ],
         "athlete_url": [
          "athlete_url"
         ]
        },
        "DimEvent": {
         "event_discipline": [
          "event_discipline"
         ],
         "event_gender": [
          "event_gender"
         ],
         "event_title": [
          "event_title"
         ]
        },
        "DimGame": {
         "country_code": [
          "country_code"
         ],
         "game_name": [
          "game_name"
         ],
         "game_season": [
          "game_season"
         ]
        },
        "DimLocation": {
         "continent": [
          "continent"
         ],
         "country_name": [
          "country_name"
         ]
        },
        "DimParticipant": {
         "participant_title": [
          "participant_title"
         ],
         "participant_type": [
          "participant_type"
         ]
        }
       },
       "Measures": {
        "annual_gdp_growth.MEAN": {
         "formatter": "DOUBLE[#,###.00]"
        },
        "annual_gdp_growth.SUM": {
         "formatter": "DOUBLE[#,###.00]"
        },
        "athlete_id.MEAN": {
         "formatter": "DOUBLE[#,###.00]"
        },
        "athlete_id.SUM": {
         "formatter": "INT[#,###]"
        },
        "contributors.COUNT": {
         "formatter": "INT[#,###]"
        },
        "current_health_expenditure.MEAN": {
         "formatter": "DOUBLE[#,###.00]"
        },
        "current_health_expenditure.SUM": {
         "formatter": "DOUBLE[#,###.00]"
        },
        "daly_anxiety.MEAN": {
         "formatter": "DOUBLE[#,###.00]"
        },
        "daly_anxiety.SUM": {
         "formatter": "DOUBLE[#,###.00]"
        },
        "daly_bipolar_disorder.MEAN": {
         "formatter": "DOUBLE[#,###.00]"
        },
        "daly_bipolar_disorder.SUM": {
         "formatter": "DOUBLE[#,###.00]"
        },
        "daly_depression.MEAN": {
         "formatter": "DOUBLE[#,###.00]"
        },
        "daly_depression.SUM": {
         "formatter": "DOUBLE[#,###.00]"
        },
        "daly_eating_disorder.MEAN": {
         "formatter": "DOUBLE[#,###.00]"
        },
        "daly_eating_disorder.SUM": {
         "formatter": "DOUBLE[#,###.00]"
        },
        "daly_schizophrenia.MEAN": {
         "formatter": "DOUBLE[#,###.00]"
        },
        "daly_schizophrenia.SUM": {
         "formatter": "DOUBLE[#,###.00]"
        },
        "event_id.MEAN": {
         "formatter": "DOUBLE[#,###.00]"
        },
        "event_id.SUM": {
         "formatter": "INT[#,###]"
        },
        "external_health_expenditure.MEAN": {
         "formatter": "DOUBLE[#,###.00]"
        },
        "external_health_expenditure.SUM": {
         "formatter": "DOUBLE[#,###.00]"
        },
        "gdp_per_capita.MEAN": {
         "formatter": "DOUBLE[#,###.00]"
        },
        "gdp_per_capita.SUM": {
         "formatter": "DOUBLE[#,###.00]"
        },
        "government_health_expenditure.MEAN": {
         "formatter": "DOUBLE[#,###.00]"
        },
        "government_health_expenditure.SUM": {
         "formatter": "DOUBLE[#,###.00]"
        },
        "infant_mortality_rate.MEAN": {
         "formatter": "DOUBLE[#,###.00]"
        },
        "infant_mortality_rate.SUM": {
         "formatter": "DOUBLE[#,###.00]"
        },
        "life_expectancy.MEAN": {
         "formatter": "DOUBLE[#,###.00]"
        },
        "life_expectancy.SUM": {
         "formatter": "DOUBLE[#,###.00]"
        },
        "participant_id.MEAN": {
         "formatter": "DOUBLE[#,###.00]"
        },
        "participant_id.SUM": {
         "formatter": "INT[#,###]"
        },
        "poverty_count.MEAN": {
         "formatter": "DOUBLE[#,###.00]"
        },
        "poverty_count.SUM": {
         "formatter": "DOUBLE[#,###.00]"
        },
        "private_health_expenditure.MEAN": {
         "formatter": "DOUBLE[#,###.00]"
        },
        "private_health_expenditure.SUM": {
         "formatter": "DOUBLE[#,###.00]"
        },
        "servers_count.MEAN": {
         "formatter": "DOUBLE[#,###.00]"
        },
        "servers_count.SUM": {
         "formatter": "INT[#,###]"
        },
        "total_bronze_medals.MEAN": {
         "formatter": "DOUBLE[#,###.00]"
        },
        "total_bronze_medals.SUM": {
         "formatter": "INT[#,###]"
        },
        "total_gold_medals.MEAN": {
         "formatter": "DOUBLE[#,###.00]"
        },
        "total_gold_medals.SUM": {
         "formatter": "INT[#,###]"
        },
        "total_medals.MEAN": {
         "formatter": "DOUBLE[#,###.00]"
        },
        "total_medals.SUM": {
         "formatter": "INT[#,###]"
        },
        "total_silver_medals.MEAN": {
         "formatter": "DOUBLE[#,###.00]"
        },
        "total_silver_medals.SUM": {
         "formatter": "INT[#,###]"
        }
       }
      },
      "text/html": [
       "<ul>\n",
       "<li>CombinedFactTable\n",
       "  <ul>\n",
       "  <li>Dimensions\n",
       "    <ul>\n",
       "    <li>CombinedFactTable\n",
       "      <ul>\n",
       "      <li>country_code\n",
       "        <ol>\n",
       "        <li>country_code</li>\n",
       "        </ol>      </li>\n",
       "      <li>game_slug\n",
       "        <ol>\n",
       "        <li>game_slug</li>\n",
       "        </ol>      </li>\n",
       "      <li>id\n",
       "        <ol>\n",
       "        <li>id</li>\n",
       "        </ol>      </li>\n",
       "      <li>year\n",
       "        <ol>\n",
       "        <li>year</li>\n",
       "        </ol>      </li>\n",
       "      </ul>\n",
       "    </li>\n",
       "    <li>DimAthlete\n",
       "      <ul>\n",
       "      <li>athlete_name\n",
       "        <ol>\n",
       "        <li>athlete_name</li>\n",
       "        </ol>      </li>\n",
       "      <li>athlete_url\n",
       "        <ol>\n",
       "        <li>athlete_url</li>\n",
       "        </ol>      </li>\n",
       "      </ul>\n",
       "    </li>\n",
       "    <li>DimEvent\n",
       "      <ul>\n",
       "      <li>event_discipline\n",
       "        <ol>\n",
       "        <li>event_discipline</li>\n",
       "        </ol>      </li>\n",
       "      <li>event_gender\n",
       "        <ol>\n",
       "        <li>event_gender</li>\n",
       "        </ol>      </li>\n",
       "      <li>event_title\n",
       "        <ol>\n",
       "        <li>event_title</li>\n",
       "        </ol>      </li>\n",
       "      </ul>\n",
       "    </li>\n",
       "    <li>DimGame\n",
       "      <ul>\n",
       "      <li>country_code\n",
       "        <ol>\n",
       "        <li>country_code</li>\n",
       "        </ol>      </li>\n",
       "      <li>game_name\n",
       "        <ol>\n",
       "        <li>game_name</li>\n",
       "        </ol>      </li>\n",
       "      <li>game_season\n",
       "        <ol>\n",
       "        <li>game_season</li>\n",
       "        </ol>      </li>\n",
       "      </ul>\n",
       "    </li>\n",
       "    <li>DimLocation\n",
       "      <ul>\n",
       "      <li>continent\n",
       "        <ol>\n",
       "        <li>continent</li>\n",
       "        </ol>      </li>\n",
       "      <li>country_name\n",
       "        <ol>\n",
       "        <li>country_name</li>\n",
       "        </ol>      </li>\n",
       "      </ul>\n",
       "    </li>\n",
       "    <li>DimParticipant\n",
       "      <ul>\n",
       "      <li>participant_title\n",
       "        <ol>\n",
       "        <li>participant_title</li>\n",
       "        </ol>      </li>\n",
       "      <li>participant_type\n",
       "        <ol>\n",
       "        <li>participant_type</li>\n",
       "        </ol>      </li>\n",
       "      </ul>\n",
       "    </li>\n",
       "    </ul>\n",
       "  </li>\n",
       "  <li>Measures\n",
       "    <ul>\n",
       "    <li>annual_gdp_growth.MEAN\n",
       "      <ul>\n",
       "      <li>formatter: DOUBLE[#,###.00]</li>\n",
       "      </ul>\n",
       "    </li>\n",
       "    <li>annual_gdp_growth.SUM\n",
       "      <ul>\n",
       "      <li>formatter: DOUBLE[#,###.00]</li>\n",
       "      </ul>\n",
       "    </li>\n",
       "    <li>athlete_id.MEAN\n",
       "      <ul>\n",
       "      <li>formatter: DOUBLE[#,###.00]</li>\n",
       "      </ul>\n",
       "    </li>\n",
       "    <li>athlete_id.SUM\n",
       "      <ul>\n",
       "      <li>formatter: INT[#,###]</li>\n",
       "      </ul>\n",
       "    </li>\n",
       "    <li>contributors.COUNT\n",
       "      <ul>\n",
       "      <li>formatter: INT[#,###]</li>\n",
       "      </ul>\n",
       "    </li>\n",
       "    <li>current_health_expenditure.MEAN\n",
       "      <ul>\n",
       "      <li>formatter: DOUBLE[#,###.00]</li>\n",
       "      </ul>\n",
       "    </li>\n",
       "    <li>current_health_expenditure.SUM\n",
       "      <ul>\n",
       "      <li>formatter: DOUBLE[#,###.00]</li>\n",
       "      </ul>\n",
       "    </li>\n",
       "    <li>daly_anxiety.MEAN\n",
       "      <ul>\n",
       "      <li>formatter: DOUBLE[#,###.00]</li>\n",
       "      </ul>\n",
       "    </li>\n",
       "    <li>daly_anxiety.SUM\n",
       "      <ul>\n",
       "      <li>formatter: DOUBLE[#,###.00]</li>\n",
       "      </ul>\n",
       "    </li>\n",
       "    <li>daly_bipolar_disorder.MEAN\n",
       "      <ul>\n",
       "      <li>formatter: DOUBLE[#,###.00]</li>\n",
       "      </ul>\n",
       "    </li>\n",
       "    <li>daly_bipolar_disorder.SUM\n",
       "      <ul>\n",
       "      <li>formatter: DOUBLE[#,###.00]</li>\n",
       "      </ul>\n",
       "    </li>\n",
       "    <li>daly_depression.MEAN\n",
       "      <ul>\n",
       "      <li>formatter: DOUBLE[#,###.00]</li>\n",
       "      </ul>\n",
       "    </li>\n",
       "    <li>daly_depression.SUM\n",
       "      <ul>\n",
       "      <li>formatter: DOUBLE[#,###.00]</li>\n",
       "      </ul>\n",
       "    </li>\n",
       "    <li>daly_eating_disorder.MEAN\n",
       "      <ul>\n",
       "      <li>formatter: DOUBLE[#,###.00]</li>\n",
       "      </ul>\n",
       "    </li>\n",
       "    <li>daly_eating_disorder.SUM\n",
       "      <ul>\n",
       "      <li>formatter: DOUBLE[#,###.00]</li>\n",
       "      </ul>\n",
       "    </li>\n",
       "    <li>daly_schizophrenia.MEAN\n",
       "      <ul>\n",
       "      <li>formatter: DOUBLE[#,###.00]</li>\n",
       "      </ul>\n",
       "    </li>\n",
       "    <li>daly_schizophrenia.SUM\n",
       "      <ul>\n",
       "      <li>formatter: DOUBLE[#,###.00]</li>\n",
       "      </ul>\n",
       "    </li>\n",
       "    <li>event_id.MEAN\n",
       "      <ul>\n",
       "      <li>formatter: DOUBLE[#,###.00]</li>\n",
       "      </ul>\n",
       "    </li>\n",
       "    <li>event_id.SUM\n",
       "      <ul>\n",
       "      <li>formatter: INT[#,###]</li>\n",
       "      </ul>\n",
       "    </li>\n",
       "    <li>external_health_expenditure.MEAN\n",
       "      <ul>\n",
       "      <li>formatter: DOUBLE[#,###.00]</li>\n",
       "      </ul>\n",
       "    </li>\n",
       "    <li>external_health_expenditure.SUM\n",
       "      <ul>\n",
       "      <li>formatter: DOUBLE[#,###.00]</li>\n",
       "      </ul>\n",
       "    </li>\n",
       "    <li>gdp_per_capita.MEAN\n",
       "      <ul>\n",
       "      <li>formatter: DOUBLE[#,###.00]</li>\n",
       "      </ul>\n",
       "    </li>\n",
       "    <li>gdp_per_capita.SUM\n",
       "      <ul>\n",
       "      <li>formatter: DOUBLE[#,###.00]</li>\n",
       "      </ul>\n",
       "    </li>\n",
       "    <li>government_health_expenditure.MEAN\n",
       "      <ul>\n",
       "      <li>formatter: DOUBLE[#,###.00]</li>\n",
       "      </ul>\n",
       "    </li>\n",
       "    <li>government_health_expenditure.SUM\n",
       "      <ul>\n",
       "      <li>formatter: DOUBLE[#,###.00]</li>\n",
       "      </ul>\n",
       "    </li>\n",
       "    <li>infant_mortality_rate.MEAN\n",
       "      <ul>\n",
       "      <li>formatter: DOUBLE[#,###.00]</li>\n",
       "      </ul>\n",
       "    </li>\n",
       "    <li>infant_mortality_rate.SUM\n",
       "      <ul>\n",
       "      <li>formatter: DOUBLE[#,###.00]</li>\n",
       "      </ul>\n",
       "    </li>\n",
       "    <li>life_expectancy.MEAN\n",
       "      <ul>\n",
       "      <li>formatter: DOUBLE[#,###.00]</li>\n",
       "      </ul>\n",
       "    </li>\n",
       "    <li>life_expectancy.SUM\n",
       "      <ul>\n",
       "      <li>formatter: DOUBLE[#,###.00]</li>\n",
       "      </ul>\n",
       "    </li>\n",
       "    <li>participant_id.MEAN\n",
       "      <ul>\n",
       "      <li>formatter: DOUBLE[#,###.00]</li>\n",
       "      </ul>\n",
       "    </li>\n",
       "    <li>participant_id.SUM\n",
       "      <ul>\n",
       "      <li>formatter: INT[#,###]</li>\n",
       "      </ul>\n",
       "    </li>\n",
       "    <li>poverty_count.MEAN\n",
       "      <ul>\n",
       "      <li>formatter: DOUBLE[#,###.00]</li>\n",
       "      </ul>\n",
       "    </li>\n",
       "    <li>poverty_count.SUM\n",
       "      <ul>\n",
       "      <li>formatter: DOUBLE[#,###.00]</li>\n",
       "      </ul>\n",
       "    </li>\n",
       "    <li>private_health_expenditure.MEAN\n",
       "      <ul>\n",
       "      <li>formatter: DOUBLE[#,###.00]</li>\n",
       "      </ul>\n",
       "    </li>\n",
       "    <li>private_health_expenditure.SUM\n",
       "      <ul>\n",
       "      <li>formatter: DOUBLE[#,###.00]</li>\n",
       "      </ul>\n",
       "    </li>\n",
       "    <li>servers_count.MEAN\n",
       "      <ul>\n",
       "      <li>formatter: DOUBLE[#,###.00]</li>\n",
       "      </ul>\n",
       "    </li>\n",
       "    <li>servers_count.SUM\n",
       "      <ul>\n",
       "      <li>formatter: INT[#,###]</li>\n",
       "      </ul>\n",
       "    </li>\n",
       "    <li>total_bronze_medals.MEAN\n",
       "      <ul>\n",
       "      <li>formatter: DOUBLE[#,###.00]</li>\n",
       "      </ul>\n",
       "    </li>\n",
       "    <li>total_bronze_medals.SUM\n",
       "      <ul>\n",
       "      <li>formatter: INT[#,###]</li>\n",
       "      </ul>\n",
       "    </li>\n",
       "    <li>total_gold_medals.MEAN\n",
       "      <ul>\n",
       "      <li>formatter: DOUBLE[#,###.00]</li>\n",
       "      </ul>\n",
       "    </li>\n",
       "    <li>total_gold_medals.SUM\n",
       "      <ul>\n",
       "      <li>formatter: INT[#,###]</li>\n",
       "      </ul>\n",
       "    </li>\n",
       "    <li>total_medals.MEAN\n",
       "      <ul>\n",
       "      <li>formatter: DOUBLE[#,###.00]</li>\n",
       "      </ul>\n",
       "    </li>\n",
       "    <li>total_medals.SUM\n",
       "      <ul>\n",
       "      <li>formatter: INT[#,###]</li>\n",
       "      </ul>\n",
       "    </li>\n",
       "    <li>total_silver_medals.MEAN\n",
       "      <ul>\n",
       "      <li>formatter: DOUBLE[#,###.00]</li>\n",
       "      </ul>\n",
       "    </li>\n",
       "    <li>total_silver_medals.SUM\n",
       "      <ul>\n",
       "      <li>formatter: INT[#,###]</li>\n",
       "      </ul>\n",
       "    </li>\n",
       "    </ul>\n",
       "  </li>\n",
       "  </ul>\n",
       "</li>\n",
       "</ul>\n"
      ],
      "text/plain": [
       "<atoti.cube.Cube at 0x7fffb0485490>"
      ]
     },
     "execution_count": 15,
     "metadata": {
      "application/json": {
       "expanded": false,
       "root": "CombinedFactTable"
      }
     },
     "output_type": "execute_result"
    }
   ],
   "source": [
    "cube"
   ]
  },
  {
   "cell_type": "code",
   "execution_count": 16,
   "id": "6bcad757-bf35-4520-b09b-c7239a657e8a",
   "metadata": {},
   "outputs": [],
   "source": [
    "hierarchies, levels, measures = cube.hierarchies, cube.levels, cube.measures"
   ]
  },
  {
   "cell_type": "code",
   "execution_count": 17,
   "id": "0cd29d61-d5e4-4f20-aabd-191f1c17e94d",
   "metadata": {},
   "outputs": [
    {
     "data": {
      "application/json": {
       "CombinedFactTable": {
        "country_code": [
         "country_code"
        ],
        "game_slug": [
         "game_slug"
        ],
        "id": [
         "id"
        ],
        "year": [
         "year"
        ]
       },
       "DimAthlete": {
        "athlete_name": [
         "athlete_name"
        ],
        "athlete_url": [
         "athlete_url"
        ]
       },
       "DimEvent": {
        "event_discipline": [
         "event_discipline"
        ],
        "event_gender": [
         "event_gender"
        ],
        "event_title": [
         "event_title"
        ]
       },
       "DimGame": {
        "country_code": [
         "country_code"
        ],
        "game_name": [
         "game_name"
        ],
        "game_season": [
         "game_season"
        ]
       },
       "DimLocation": {
        "continent": [
         "continent"
        ],
        "country_name": [
         "country_name"
        ]
       },
       "DimParticipant": {
        "participant_title": [
         "participant_title"
        ],
        "participant_type": [
         "participant_type"
        ]
       }
      },
      "text/html": [
       "<ul>\n",
       "<li>Dimensions\n",
       "  <ul>\n",
       "  <li>CombinedFactTable\n",
       "    <ul>\n",
       "    <li>country_code\n",
       "      <ol>\n",
       "      <li>country_code</li>\n",
       "      </ol>    </li>\n",
       "    <li>game_slug\n",
       "      <ol>\n",
       "      <li>game_slug</li>\n",
       "      </ol>    </li>\n",
       "    <li>id\n",
       "      <ol>\n",
       "      <li>id</li>\n",
       "      </ol>    </li>\n",
       "    <li>year\n",
       "      <ol>\n",
       "      <li>year</li>\n",
       "      </ol>    </li>\n",
       "    </ul>\n",
       "  </li>\n",
       "  <li>DimAthlete\n",
       "    <ul>\n",
       "    <li>athlete_name\n",
       "      <ol>\n",
       "      <li>athlete_name</li>\n",
       "      </ol>    </li>\n",
       "    <li>athlete_url\n",
       "      <ol>\n",
       "      <li>athlete_url</li>\n",
       "      </ol>    </li>\n",
       "    </ul>\n",
       "  </li>\n",
       "  <li>DimEvent\n",
       "    <ul>\n",
       "    <li>event_discipline\n",
       "      <ol>\n",
       "      <li>event_discipline</li>\n",
       "      </ol>    </li>\n",
       "    <li>event_gender\n",
       "      <ol>\n",
       "      <li>event_gender</li>\n",
       "      </ol>    </li>\n",
       "    <li>event_title\n",
       "      <ol>\n",
       "      <li>event_title</li>\n",
       "      </ol>    </li>\n",
       "    </ul>\n",
       "  </li>\n",
       "  <li>DimGame\n",
       "    <ul>\n",
       "    <li>country_code\n",
       "      <ol>\n",
       "      <li>country_code</li>\n",
       "      </ol>    </li>\n",
       "    <li>game_name\n",
       "      <ol>\n",
       "      <li>game_name</li>\n",
       "      </ol>    </li>\n",
       "    <li>game_season\n",
       "      <ol>\n",
       "      <li>game_season</li>\n",
       "      </ol>    </li>\n",
       "    </ul>\n",
       "  </li>\n",
       "  <li>DimLocation\n",
       "    <ul>\n",
       "    <li>continent\n",
       "      <ol>\n",
       "      <li>continent</li>\n",
       "      </ol>    </li>\n",
       "    <li>country_name\n",
       "      <ol>\n",
       "      <li>country_name</li>\n",
       "      </ol>    </li>\n",
       "    </ul>\n",
       "  </li>\n",
       "  <li>DimParticipant\n",
       "    <ul>\n",
       "    <li>participant_title\n",
       "      <ol>\n",
       "      <li>participant_title</li>\n",
       "      </ol>    </li>\n",
       "    <li>participant_type\n",
       "      <ol>\n",
       "      <li>participant_type</li>\n",
       "      </ol>    </li>\n",
       "    </ul>\n",
       "  </li>\n",
       "  </ul>\n",
       "</li>\n",
       "</ul>\n"
      ],
      "text/plain": [
       "{('CombinedFactTable', 'country_code'): <atoti.hierarchy.Hierarchy object at 0x7fffb04c6550>, ('CombinedFactTable', 'id'): <atoti.hierarchy.Hierarchy object at 0x7fffb04c6990>, ('DimParticipant', 'participant_title'): <atoti.hierarchy.Hierarchy object at 0x7fffb04c6f50>, ('DimAthlete', 'athlete_name'): <atoti.hierarchy.Hierarchy object at 0x7fffb04c7110>, ('DimGame', 'game_season'): <atoti.hierarchy.Hierarchy object at 0x7fffb04c7250>, ('CombinedFactTable', 'game_slug'): <atoti.hierarchy.Hierarchy object at 0x7fffb04c7390>, ('DimParticipant', 'participant_type'): <atoti.hierarchy.Hierarchy object at 0x7fffb04c76d0>, ('DimEvent', 'event_discipline'): <atoti.hierarchy.Hierarchy object at 0x7fffb04c7c90>, ('CombinedFactTable', 'year'): <atoti.hierarchy.Hierarchy object at 0x7fffb04c7f10>, ('DimEvent', 'event_gender'): <atoti.hierarchy.Hierarchy object at 0x7fffb04c7d90>, ('DimLocation', 'country_name'): <atoti.hierarchy.Hierarchy object at 0x7fffb04c5fd0>, ('DimAthlete', 'athlete_url'): <atoti.hierarchy.Hierarchy object at 0x7fffb04c7610>, ('DimEvent', 'event_title'): <atoti.hierarchy.Hierarchy object at 0x7fffb04c7b50>, ('DimGame', 'game_name'): <atoti.hierarchy.Hierarchy object at 0x7fffb04c78d0>, ('DimLocation', 'continent'): <atoti.hierarchy.Hierarchy object at 0x7fffb04c7750>, ('DimGame', 'country_code'): <atoti.hierarchy.Hierarchy object at 0x7fffb04c6dd0>}"
      ]
     },
     "execution_count": 17,
     "metadata": {
      "application/json": {
       "expanded": true,
       "root": "Dimensions"
      }
     },
     "output_type": "execute_result"
    }
   ],
   "source": [
    "hierarchies"
   ]
  },
  {
   "cell_type": "code",
   "execution_count": 18,
   "id": "1bfe5143-089d-4e10-9489-64a13bc4b13e",
   "metadata": {},
   "outputs": [],
   "source": [
    "hierarchies[\"Year\"] = [dimyear_table[\"year\"]]"
   ]
  },
  {
   "cell_type": "code",
   "execution_count": 19,
   "id": "0d0f54b4-17f7-458d-971e-6458d40a46ef",
   "metadata": {},
   "outputs": [
    {
     "data": {
      "application/json": {
       "CombinedFactTable": {
        "country_code": [
         "country_code"
        ],
        "game_slug": [
         "game_slug"
        ],
        "id": [
         "id"
        ],
        "year": [
         "year"
        ]
       },
       "DimAthlete": {
        "athlete_name": [
         "athlete_name"
        ],
        "athlete_url": [
         "athlete_url"
        ]
       },
       "DimEvent": {
        "event_discipline": [
         "event_discipline"
        ],
        "event_gender": [
         "event_gender"
        ],
        "event_title": [
         "event_title"
        ]
       },
       "DimGame": {
        "country_code": [
         "country_code"
        ],
        "game_name": [
         "game_name"
        ],
        "game_season": [
         "game_season"
        ]
       },
       "DimLocation": {
        "continent": [
         "continent"
        ],
        "country_name": [
         "country_name"
        ]
       },
       "DimParticipant": {
        "participant_title": [
         "participant_title"
        ],
        "participant_type": [
         "participant_type"
        ]
       },
       "DimYear": {
        "Year": [
         "year"
        ]
       }
      },
      "text/html": [
       "<ul>\n",
       "<li>Dimensions\n",
       "  <ul>\n",
       "  <li>CombinedFactTable\n",
       "    <ul>\n",
       "    <li>country_code\n",
       "      <ol>\n",
       "      <li>country_code</li>\n",
       "      </ol>    </li>\n",
       "    <li>game_slug\n",
       "      <ol>\n",
       "      <li>game_slug</li>\n",
       "      </ol>    </li>\n",
       "    <li>id\n",
       "      <ol>\n",
       "      <li>id</li>\n",
       "      </ol>    </li>\n",
       "    <li>year\n",
       "      <ol>\n",
       "      <li>year</li>\n",
       "      </ol>    </li>\n",
       "    </ul>\n",
       "  </li>\n",
       "  <li>DimAthlete\n",
       "    <ul>\n",
       "    <li>athlete_name\n",
       "      <ol>\n",
       "      <li>athlete_name</li>\n",
       "      </ol>    </li>\n",
       "    <li>athlete_url\n",
       "      <ol>\n",
       "      <li>athlete_url</li>\n",
       "      </ol>    </li>\n",
       "    </ul>\n",
       "  </li>\n",
       "  <li>DimEvent\n",
       "    <ul>\n",
       "    <li>event_discipline\n",
       "      <ol>\n",
       "      <li>event_discipline</li>\n",
       "      </ol>    </li>\n",
       "    <li>event_gender\n",
       "      <ol>\n",
       "      <li>event_gender</li>\n",
       "      </ol>    </li>\n",
       "    <li>event_title\n",
       "      <ol>\n",
       "      <li>event_title</li>\n",
       "      </ol>    </li>\n",
       "    </ul>\n",
       "  </li>\n",
       "  <li>DimGame\n",
       "    <ul>\n",
       "    <li>country_code\n",
       "      <ol>\n",
       "      <li>country_code</li>\n",
       "      </ol>    </li>\n",
       "    <li>game_name\n",
       "      <ol>\n",
       "      <li>game_name</li>\n",
       "      </ol>    </li>\n",
       "    <li>game_season\n",
       "      <ol>\n",
       "      <li>game_season</li>\n",
       "      </ol>    </li>\n",
       "    </ul>\n",
       "  </li>\n",
       "  <li>DimLocation\n",
       "    <ul>\n",
       "    <li>continent\n",
       "      <ol>\n",
       "      <li>continent</li>\n",
       "      </ol>    </li>\n",
       "    <li>country_name\n",
       "      <ol>\n",
       "      <li>country_name</li>\n",
       "      </ol>    </li>\n",
       "    </ul>\n",
       "  </li>\n",
       "  <li>DimParticipant\n",
       "    <ul>\n",
       "    <li>participant_title\n",
       "      <ol>\n",
       "      <li>participant_title</li>\n",
       "      </ol>    </li>\n",
       "    <li>participant_type\n",
       "      <ol>\n",
       "      <li>participant_type</li>\n",
       "      </ol>    </li>\n",
       "    </ul>\n",
       "  </li>\n",
       "  <li>DimYear\n",
       "    <ul>\n",
       "    <li>Year\n",
       "      <ol>\n",
       "      <li>year</li>\n",
       "      </ol>    </li>\n",
       "    </ul>\n",
       "  </li>\n",
       "  </ul>\n",
       "</li>\n",
       "</ul>\n"
      ],
      "text/plain": [
       "{('CombinedFactTable', 'country_code'): <atoti.hierarchy.Hierarchy object at 0x7fffb04ddc50>, ('CombinedFactTable', 'id'): <atoti.hierarchy.Hierarchy object at 0x7fffb050f110>, ('DimParticipant', 'participant_title'): <atoti.hierarchy.Hierarchy object at 0x7fffb050e4d0>, ('DimAthlete', 'athlete_name'): <atoti.hierarchy.Hierarchy object at 0x7fffb050f6d0>, ('DimGame', 'game_season'): <atoti.hierarchy.Hierarchy object at 0x7fffb0511190>, ('CombinedFactTable', 'game_slug'): <atoti.hierarchy.Hierarchy object at 0x7fffb0510e50>, ('DimParticipant', 'participant_type'): <atoti.hierarchy.Hierarchy object at 0x7fffb0510c90>, ('DimEvent', 'event_discipline'): <atoti.hierarchy.Hierarchy object at 0x7fffb0510a10>, ('CombinedFactTable', 'year'): <atoti.hierarchy.Hierarchy object at 0x7fffb05108d0>, ('DimEvent', 'event_gender'): <atoti.hierarchy.Hierarchy object at 0x7fffb05124d0>, ('DimYear', 'Year'): <atoti.hierarchy.Hierarchy object at 0x7fffb0512350>, ('DimLocation', 'country_name'): <atoti.hierarchy.Hierarchy object at 0x7fffb05110d0>, ('DimAthlete', 'athlete_url'): <atoti.hierarchy.Hierarchy object at 0x7fffb0510210>, ('DimEvent', 'event_title'): <atoti.hierarchy.Hierarchy object at 0x7fffb0512250>, ('DimGame', 'game_name'): <atoti.hierarchy.Hierarchy object at 0x7fffb0511bd0>, ('DimLocation', 'continent'): <atoti.hierarchy.Hierarchy object at 0x7fffb0511b90>, ('DimGame', 'country_code'): <atoti.hierarchy.Hierarchy object at 0x7fffb0512050>}"
      ]
     },
     "execution_count": 19,
     "metadata": {
      "application/json": {
       "expanded": true,
       "root": "Dimensions"
      }
     },
     "output_type": "execute_result"
    }
   ],
   "source": [
    "hierarchies"
   ]
  },
  {
   "cell_type": "code",
   "execution_count": 20,
   "id": "f930600e-cf83-4c7e-a7dd-030016d16bb1",
   "metadata": {},
   "outputs": [
    {
     "name": "stdout",
     "output_type": "stream",
     "text": [
      "('CombinedFactTable', 'country_code')\n",
      "('CombinedFactTable', 'id')\n",
      "('DimParticipant', 'participant_title')\n",
      "('DimAthlete', 'athlete_name')\n",
      "('DimGame', 'game_season')\n",
      "('CombinedFactTable', 'game_slug')\n",
      "('DimParticipant', 'participant_type')\n",
      "('DimEvent', 'event_discipline')\n",
      "('CombinedFactTable', 'year')\n",
      "('DimEvent', 'event_gender')\n",
      "('DimYear', 'Year')\n",
      "('DimLocation', 'country_name')\n",
      "('DimAthlete', 'athlete_url')\n",
      "('DimEvent', 'event_title')\n",
      "('DimGame', 'game_name')\n",
      "('DimLocation', 'continent')\n",
      "('DimGame', 'country_code')\n"
     ]
    }
   ],
   "source": [
    "# List all hierarchies in the cube to find the correct name\n",
    "for hierarchy in hierarchies:\n",
    "    print(hierarchy)\n"
   ]
  },
  {
   "cell_type": "code",
   "execution_count": 21,
   "id": "6d8f53a2-8472-41af-b82f-2208ca67e098",
   "metadata": {},
   "outputs": [],
   "source": [
    "# Remove unwanted hierarchy\n",
    "del hierarchies[('CombinedFactTable', 'country_code')]\n",
    "del hierarchies[('CombinedFactTable', 'id')]\n",
    "del hierarchies[('CombinedFactTable', 'game_slug')]\n",
    "del hierarchies[('CombinedFactTable', 'year')]"
   ]
  },
  {
   "cell_type": "code",
   "execution_count": 22,
   "id": "0ac188db-ebab-484f-bd26-8a7c3561d9b5",
   "metadata": {},
   "outputs": [
    {
     "data": {
      "application/json": {
       "DimAthlete": {
        "athlete_name": [
         "athlete_name"
        ],
        "athlete_url": [
         "athlete_url"
        ]
       },
       "DimEvent": {
        "event_discipline": [
         "event_discipline"
        ],
        "event_gender": [
         "event_gender"
        ],
        "event_title": [
         "event_title"
        ]
       },
       "DimGame": {
        "country_code": [
         "country_code"
        ],
        "game_name": [
         "game_name"
        ],
        "game_season": [
         "game_season"
        ]
       },
       "DimLocation": {
        "continent": [
         "continent"
        ],
        "country_name": [
         "country_name"
        ]
       },
       "DimParticipant": {
        "participant_title": [
         "participant_title"
        ],
        "participant_type": [
         "participant_type"
        ]
       },
       "DimYear": {
        "Year": [
         "year"
        ]
       }
      },
      "text/html": [
       "<ul>\n",
       "<li>Dimensions\n",
       "  <ul>\n",
       "  <li>DimAthlete\n",
       "    <ul>\n",
       "    <li>athlete_name\n",
       "      <ol>\n",
       "      <li>athlete_name</li>\n",
       "      </ol>    </li>\n",
       "    <li>athlete_url\n",
       "      <ol>\n",
       "      <li>athlete_url</li>\n",
       "      </ol>    </li>\n",
       "    </ul>\n",
       "  </li>\n",
       "  <li>DimEvent\n",
       "    <ul>\n",
       "    <li>event_discipline\n",
       "      <ol>\n",
       "      <li>event_discipline</li>\n",
       "      </ol>    </li>\n",
       "    <li>event_gender\n",
       "      <ol>\n",
       "      <li>event_gender</li>\n",
       "      </ol>    </li>\n",
       "    <li>event_title\n",
       "      <ol>\n",
       "      <li>event_title</li>\n",
       "      </ol>    </li>\n",
       "    </ul>\n",
       "  </li>\n",
       "  <li>DimGame\n",
       "    <ul>\n",
       "    <li>country_code\n",
       "      <ol>\n",
       "      <li>country_code</li>\n",
       "      </ol>    </li>\n",
       "    <li>game_name\n",
       "      <ol>\n",
       "      <li>game_name</li>\n",
       "      </ol>    </li>\n",
       "    <li>game_season\n",
       "      <ol>\n",
       "      <li>game_season</li>\n",
       "      </ol>    </li>\n",
       "    </ul>\n",
       "  </li>\n",
       "  <li>DimLocation\n",
       "    <ul>\n",
       "    <li>continent\n",
       "      <ol>\n",
       "      <li>continent</li>\n",
       "      </ol>    </li>\n",
       "    <li>country_name\n",
       "      <ol>\n",
       "      <li>country_name</li>\n",
       "      </ol>    </li>\n",
       "    </ul>\n",
       "  </li>\n",
       "  <li>DimParticipant\n",
       "    <ul>\n",
       "    <li>participant_title\n",
       "      <ol>\n",
       "      <li>participant_title</li>\n",
       "      </ol>    </li>\n",
       "    <li>participant_type\n",
       "      <ol>\n",
       "      <li>participant_type</li>\n",
       "      </ol>    </li>\n",
       "    </ul>\n",
       "  </li>\n",
       "  <li>DimYear\n",
       "    <ul>\n",
       "    <li>Year\n",
       "      <ol>\n",
       "      <li>year</li>\n",
       "      </ol>    </li>\n",
       "    </ul>\n",
       "  </li>\n",
       "  </ul>\n",
       "</li>\n",
       "</ul>\n"
      ],
      "text/plain": [
       "{('DimParticipant', 'participant_title'): <atoti.hierarchy.Hierarchy object at 0x7fffb04ddb10>, ('DimAthlete', 'athlete_name'): <atoti.hierarchy.Hierarchy object at 0x7fffb0512510>, ('DimGame', 'game_season'): <atoti.hierarchy.Hierarchy object at 0x7fffb0511090>, ('DimParticipant', 'participant_type'): <atoti.hierarchy.Hierarchy object at 0x7fffb0512cd0>, ('DimEvent', 'event_discipline'): <atoti.hierarchy.Hierarchy object at 0x7fffb0512310>, ('DimEvent', 'event_gender'): <atoti.hierarchy.Hierarchy object at 0x7fffb0513950>, ('DimYear', 'Year'): <atoti.hierarchy.Hierarchy object at 0x7fffb0510190>, ('DimLocation', 'country_name'): <atoti.hierarchy.Hierarchy object at 0x7fffb0513d10>, ('DimAthlete', 'athlete_url'): <atoti.hierarchy.Hierarchy object at 0x7fffb05130d0>, ('DimEvent', 'event_title'): <atoti.hierarchy.Hierarchy object at 0x7fffb0535a10>, ('DimGame', 'game_name'): <atoti.hierarchy.Hierarchy object at 0x7fffb0537790>, ('DimLocation', 'continent'): <atoti.hierarchy.Hierarchy object at 0x7fffb0537f90>, ('DimGame', 'country_code'): <atoti.hierarchy.Hierarchy object at 0x7fffb0534210>}"
      ]
     },
     "execution_count": 22,
     "metadata": {
      "application/json": {
       "expanded": true,
       "root": "Dimensions"
      }
     },
     "output_type": "execute_result"
    }
   ],
   "source": [
    "hierarchies"
   ]
  },
  {
   "cell_type": "code",
   "execution_count": 23,
   "id": "b7604180-5c0d-49a6-a09d-8a36df63b49b",
   "metadata": {},
   "outputs": [
    {
     "data": {
      "application/json": {
       "athlete_name (DimAthlete/athlete_name/athlete_name)": {
        "dimension": "DimAthlete",
        "hierarchy": "athlete_name",
        "order": "NaturalOrder",
        "type": "String"
       },
       "athlete_url (DimAthlete/athlete_url/athlete_url)": {
        "dimension": "DimAthlete",
        "hierarchy": "athlete_url",
        "order": "NaturalOrder",
        "type": "String"
       },
       "continent (DimLocation/continent/continent)": {
        "dimension": "DimLocation",
        "hierarchy": "continent",
        "order": "NaturalOrder",
        "type": "String"
       },
       "country_code (DimGame/country_code/country_code)": {
        "dimension": "DimGame",
        "hierarchy": "country_code",
        "order": "NaturalOrder",
        "type": "String"
       },
       "country_name (DimLocation/country_name/country_name)": {
        "dimension": "DimLocation",
        "hierarchy": "country_name",
        "order": "NaturalOrder",
        "type": "String"
       },
       "event_discipline (DimEvent/event_discipline/event_discipline)": {
        "dimension": "DimEvent",
        "hierarchy": "event_discipline",
        "order": "NaturalOrder",
        "type": "String"
       },
       "event_gender (DimEvent/event_gender/event_gender)": {
        "dimension": "DimEvent",
        "hierarchy": "event_gender",
        "order": "NaturalOrder",
        "type": "String"
       },
       "event_title (DimEvent/event_title/event_title)": {
        "dimension": "DimEvent",
        "hierarchy": "event_title",
        "order": "NaturalOrder",
        "type": "String"
       },
       "game_name (DimGame/game_name/game_name)": {
        "dimension": "DimGame",
        "hierarchy": "game_name",
        "order": "NaturalOrder",
        "type": "String"
       },
       "game_season (DimGame/game_season/game_season)": {
        "dimension": "DimGame",
        "hierarchy": "game_season",
        "order": "NaturalOrder",
        "type": "String"
       },
       "participant_title (DimParticipant/participant_title/participant_title)": {
        "dimension": "DimParticipant",
        "hierarchy": "participant_title",
        "order": "NaturalOrder",
        "type": "String"
       },
       "participant_type (DimParticipant/participant_type/participant_type)": {
        "dimension": "DimParticipant",
        "hierarchy": "participant_type",
        "order": "NaturalOrder",
        "type": "String"
       },
       "year (DimYear/Year/year)": {
        "dimension": "DimYear",
        "hierarchy": "Year",
        "order": "NaturalOrder",
        "type": "String"
       }
      },
      "text/html": [
       "<ul>\n",
       "<li>Levels\n",
       "  <ul>\n",
       "  <li>athlete_name (DimAthlete/athlete_name/athlete_name)\n",
       "    <ul>\n",
       "    <li>dimension: DimAthlete</li>\n",
       "    <li>hierarchy: athlete_name</li>\n",
       "    <li>type: String</li>\n",
       "    <li>order: NaturalOrder</li>\n",
       "    </ul>\n",
       "  </li>\n",
       "  <li>athlete_url (DimAthlete/athlete_url/athlete_url)\n",
       "    <ul>\n",
       "    <li>dimension: DimAthlete</li>\n",
       "    <li>hierarchy: athlete_url</li>\n",
       "    <li>type: String</li>\n",
       "    <li>order: NaturalOrder</li>\n",
       "    </ul>\n",
       "  </li>\n",
       "  <li>continent (DimLocation/continent/continent)\n",
       "    <ul>\n",
       "    <li>dimension: DimLocation</li>\n",
       "    <li>hierarchy: continent</li>\n",
       "    <li>type: String</li>\n",
       "    <li>order: NaturalOrder</li>\n",
       "    </ul>\n",
       "  </li>\n",
       "  <li>country_code (DimGame/country_code/country_code)\n",
       "    <ul>\n",
       "    <li>dimension: DimGame</li>\n",
       "    <li>hierarchy: country_code</li>\n",
       "    <li>type: String</li>\n",
       "    <li>order: NaturalOrder</li>\n",
       "    </ul>\n",
       "  </li>\n",
       "  <li>country_name (DimLocation/country_name/country_name)\n",
       "    <ul>\n",
       "    <li>dimension: DimLocation</li>\n",
       "    <li>hierarchy: country_name</li>\n",
       "    <li>type: String</li>\n",
       "    <li>order: NaturalOrder</li>\n",
       "    </ul>\n",
       "  </li>\n",
       "  <li>event_discipline (DimEvent/event_discipline/event_discipline)\n",
       "    <ul>\n",
       "    <li>dimension: DimEvent</li>\n",
       "    <li>hierarchy: event_discipline</li>\n",
       "    <li>type: String</li>\n",
       "    <li>order: NaturalOrder</li>\n",
       "    </ul>\n",
       "  </li>\n",
       "  <li>event_gender (DimEvent/event_gender/event_gender)\n",
       "    <ul>\n",
       "    <li>dimension: DimEvent</li>\n",
       "    <li>hierarchy: event_gender</li>\n",
       "    <li>type: String</li>\n",
       "    <li>order: NaturalOrder</li>\n",
       "    </ul>\n",
       "  </li>\n",
       "  <li>event_title (DimEvent/event_title/event_title)\n",
       "    <ul>\n",
       "    <li>dimension: DimEvent</li>\n",
       "    <li>hierarchy: event_title</li>\n",
       "    <li>type: String</li>\n",
       "    <li>order: NaturalOrder</li>\n",
       "    </ul>\n",
       "  </li>\n",
       "  <li>game_name (DimGame/game_name/game_name)\n",
       "    <ul>\n",
       "    <li>dimension: DimGame</li>\n",
       "    <li>hierarchy: game_name</li>\n",
       "    <li>type: String</li>\n",
       "    <li>order: NaturalOrder</li>\n",
       "    </ul>\n",
       "  </li>\n",
       "  <li>game_season (DimGame/game_season/game_season)\n",
       "    <ul>\n",
       "    <li>dimension: DimGame</li>\n",
       "    <li>hierarchy: game_season</li>\n",
       "    <li>type: String</li>\n",
       "    <li>order: NaturalOrder</li>\n",
       "    </ul>\n",
       "  </li>\n",
       "  <li>participant_title (DimParticipant/participant_title/participant_title)\n",
       "    <ul>\n",
       "    <li>dimension: DimParticipant</li>\n",
       "    <li>hierarchy: participant_title</li>\n",
       "    <li>type: String</li>\n",
       "    <li>order: NaturalOrder</li>\n",
       "    </ul>\n",
       "  </li>\n",
       "  <li>participant_type (DimParticipant/participant_type/participant_type)\n",
       "    <ul>\n",
       "    <li>dimension: DimParticipant</li>\n",
       "    <li>hierarchy: participant_type</li>\n",
       "    <li>type: String</li>\n",
       "    <li>order: NaturalOrder</li>\n",
       "    </ul>\n",
       "  </li>\n",
       "  <li>year (DimYear/Year/year)\n",
       "    <ul>\n",
       "    <li>dimension: DimYear</li>\n",
       "    <li>hierarchy: Year</li>\n",
       "    <li>type: String</li>\n",
       "    <li>order: NaturalOrder</li>\n",
       "    </ul>\n",
       "  </li>\n",
       "  </ul>\n",
       "</li>\n",
       "</ul>\n"
      ],
      "text/plain": [
       "<atoti.levels.Levels at 0x7fffb04b1c90>"
      ]
     },
     "execution_count": 23,
     "metadata": {
      "application/json": {
       "expanded": true,
       "root": "Levels"
      }
     },
     "output_type": "execute_result"
    }
   ],
   "source": [
    "levels"
   ]
  },
  {
   "cell_type": "code",
   "execution_count": 24,
   "id": "1d42ca2d-a6b8-4fa0-9f07-d7b468287eb8",
   "metadata": {},
   "outputs": [],
   "source": [
    "# Define new hierarchies`\n",
    "\n",
    "hierarchies[\"DimAthlete\"] = [levels[\"athlete_name\"]]\n",
    "\n",
    "hierarchies[\"DimEvent\"] = [levels[\"event_title\"], levels[(\"DimEvent\", \"event_discipline\", \"event_discipline\")],\n",
    "                           levels[(\"DimEvent\", \"event_gender\", \"event_gender\")]]\n",
    "\n",
    "hierarchies[\"DimGame\"] = [levels[\"game_name\"], levels[(\"DimGame\", \"game_season\", \"game_season\")]]\n",
    "\n",
    "hierarchies[\"DimLocation\"]  = [levels[\"country_name\"], levels[(\"DimLocation\", \"continent\", \"continent\")]]\n",
    "\n",
    "hierarchies[\"DimParticipant\"] = [levels[\"participant_title\"], levels[(\"DimParticipant\", \"participant_type\", \"participant_type\")]]\n",
    "\n",
    "hierarchies[\"DimYear\"] = [levels[\"year\"]]\n"
   ]
  },
  {
   "cell_type": "code",
   "execution_count": 25,
   "id": "5be115d2-d3bf-4dcb-8e2b-37c63424a8a4",
   "metadata": {},
   "outputs": [],
   "source": [
    "# Delete unnecessary hierarchy\n",
    "\n",
    "del hierarchies[(\"DimAthlete\", \"athlete_name\")]\n",
    "\n",
    "del hierarchies[('DimAthlete', 'athlete_url')]\n",
    "\n",
    "del hierarchies[('DimEvent', 'event_gender')]\n",
    "del hierarchies[('DimEvent', 'event_title')]\n",
    "del hierarchies[('DimEvent', 'event_discipline')]\n",
    "\n",
    "del hierarchies[('DimGame', 'game_season')]\n",
    "del hierarchies[('DimGame', 'country_code')]\n",
    "del hierarchies[('DimGame', 'game_name')]\n",
    "\n",
    "del hierarchies[('DimLocation', 'country_name')]\n",
    "del hierarchies[('DimLocation', 'continent')]\n",
    "\n",
    "\n",
    "del hierarchies[('DimParticipant', 'participant_title')]\n",
    "del hierarchies[('DimParticipant', 'participant_type')]\n",
    "\n",
    "del hierarchies[('DimYear', 'Year')]"
   ]
  },
  {
   "cell_type": "code",
   "execution_count": 26,
   "id": "ef0a3743-e89c-44cc-9ee1-21e82fd1a0a8",
   "metadata": {},
   "outputs": [
    {
     "data": {
      "application/json": {
       "DimAthlete": {
        "DimAthlete": [
         "athlete_name"
        ]
       },
       "DimEvent": {
        "DimEvent": [
         "event_title",
         "event_discipline",
         "event_gender"
        ]
       },
       "DimGame": {
        "DimGame": [
         "game_name",
         "game_season"
        ]
       },
       "DimLocation": {
        "DimLocation": [
         "country_name",
         "continent"
        ]
       },
       "DimParticipant": {
        "DimParticipant": [
         "participant_title",
         "participant_type"
        ]
       },
       "DimYear": {
        "DimYear": [
         "year"
        ]
       }
      },
      "text/html": [
       "<ul>\n",
       "<li>Dimensions\n",
       "  <ul>\n",
       "  <li>DimAthlete\n",
       "    <ul>\n",
       "    <li>DimAthlete\n",
       "      <ol>\n",
       "      <li>athlete_name</li>\n",
       "      </ol>    </li>\n",
       "    </ul>\n",
       "  </li>\n",
       "  <li>DimEvent\n",
       "    <ul>\n",
       "    <li>DimEvent\n",
       "      <ol>\n",
       "      <li>event_title</li>\n",
       "      <li>event_discipline</li>\n",
       "      <li>event_gender</li>\n",
       "      </ol>    </li>\n",
       "    </ul>\n",
       "  </li>\n",
       "  <li>DimGame\n",
       "    <ul>\n",
       "    <li>DimGame\n",
       "      <ol>\n",
       "      <li>game_name</li>\n",
       "      <li>game_season</li>\n",
       "      </ol>    </li>\n",
       "    </ul>\n",
       "  </li>\n",
       "  <li>DimLocation\n",
       "    <ul>\n",
       "    <li>DimLocation\n",
       "      <ol>\n",
       "      <li>country_name</li>\n",
       "      <li>continent</li>\n",
       "      </ol>    </li>\n",
       "    </ul>\n",
       "  </li>\n",
       "  <li>DimParticipant\n",
       "    <ul>\n",
       "    <li>DimParticipant\n",
       "      <ol>\n",
       "      <li>participant_title</li>\n",
       "      <li>participant_type</li>\n",
       "      </ol>    </li>\n",
       "    </ul>\n",
       "  </li>\n",
       "  <li>DimYear\n",
       "    <ul>\n",
       "    <li>DimYear\n",
       "      <ol>\n",
       "      <li>year</li>\n",
       "      </ol>    </li>\n",
       "    </ul>\n",
       "  </li>\n",
       "  </ul>\n",
       "</li>\n",
       "</ul>\n"
      ],
      "text/plain": [
       "{('DimParticipant', 'DimParticipant'): <atoti.hierarchy.Hierarchy object at 0x7fffb0535d10>, ('DimLocation', 'DimLocation'): <atoti.hierarchy.Hierarchy object at 0x7fffb0484550>, ('DimYear', 'DimYear'): <atoti.hierarchy.Hierarchy object at 0x7fffb0485690>, ('DimGame', 'DimGame'): <atoti.hierarchy.Hierarchy object at 0x7ffffc179010>, ('DimEvent', 'DimEvent'): <atoti.hierarchy.Hierarchy object at 0x7fffb0534910>, ('DimAthlete', 'DimAthlete'): <atoti.hierarchy.Hierarchy object at 0x7fffb0536150>}"
      ]
     },
     "execution_count": 26,
     "metadata": {
      "application/json": {
       "expanded": true,
       "root": "Dimensions"
      }
     },
     "output_type": "execute_result"
    }
   ],
   "source": [
    "hierarchies"
   ]
  },
  {
   "cell_type": "code",
   "execution_count": 27,
   "id": "27c0db25-15ee-4ce2-b96a-bfd2e574f916",
   "metadata": {},
   "outputs": [
    {
     "data": {
      "application/json": {
       "annual_gdp_growth.MEAN": {
        "formatter": "DOUBLE[#,###.00]"
       },
       "annual_gdp_growth.SUM": {
        "formatter": "DOUBLE[#,###.00]"
       },
       "athlete_id.MEAN": {
        "formatter": "DOUBLE[#,###.00]"
       },
       "athlete_id.SUM": {
        "formatter": "INT[#,###]"
       },
       "contributors.COUNT": {
        "formatter": "INT[#,###]"
       },
       "current_health_expenditure.MEAN": {
        "formatter": "DOUBLE[#,###.00]"
       },
       "current_health_expenditure.SUM": {
        "formatter": "DOUBLE[#,###.00]"
       },
       "daly_anxiety.MEAN": {
        "formatter": "DOUBLE[#,###.00]"
       },
       "daly_anxiety.SUM": {
        "formatter": "DOUBLE[#,###.00]"
       },
       "daly_bipolar_disorder.MEAN": {
        "formatter": "DOUBLE[#,###.00]"
       },
       "daly_bipolar_disorder.SUM": {
        "formatter": "DOUBLE[#,###.00]"
       },
       "daly_depression.MEAN": {
        "formatter": "DOUBLE[#,###.00]"
       },
       "daly_depression.SUM": {
        "formatter": "DOUBLE[#,###.00]"
       },
       "daly_eating_disorder.MEAN": {
        "formatter": "DOUBLE[#,###.00]"
       },
       "daly_eating_disorder.SUM": {
        "formatter": "DOUBLE[#,###.00]"
       },
       "daly_schizophrenia.MEAN": {
        "formatter": "DOUBLE[#,###.00]"
       },
       "daly_schizophrenia.SUM": {
        "formatter": "DOUBLE[#,###.00]"
       },
       "event_id.MEAN": {
        "formatter": "DOUBLE[#,###.00]"
       },
       "event_id.SUM": {
        "formatter": "INT[#,###]"
       },
       "external_health_expenditure.MEAN": {
        "formatter": "DOUBLE[#,###.00]"
       },
       "external_health_expenditure.SUM": {
        "formatter": "DOUBLE[#,###.00]"
       },
       "gdp_per_capita.MEAN": {
        "formatter": "DOUBLE[#,###.00]"
       },
       "gdp_per_capita.SUM": {
        "formatter": "DOUBLE[#,###.00]"
       },
       "government_health_expenditure.MEAN": {
        "formatter": "DOUBLE[#,###.00]"
       },
       "government_health_expenditure.SUM": {
        "formatter": "DOUBLE[#,###.00]"
       },
       "infant_mortality_rate.MEAN": {
        "formatter": "DOUBLE[#,###.00]"
       },
       "infant_mortality_rate.SUM": {
        "formatter": "DOUBLE[#,###.00]"
       },
       "life_expectancy.MEAN": {
        "formatter": "DOUBLE[#,###.00]"
       },
       "life_expectancy.SUM": {
        "formatter": "DOUBLE[#,###.00]"
       },
       "participant_id.MEAN": {
        "formatter": "DOUBLE[#,###.00]"
       },
       "participant_id.SUM": {
        "formatter": "INT[#,###]"
       },
       "poverty_count.MEAN": {
        "formatter": "DOUBLE[#,###.00]"
       },
       "poverty_count.SUM": {
        "formatter": "DOUBLE[#,###.00]"
       },
       "private_health_expenditure.MEAN": {
        "formatter": "DOUBLE[#,###.00]"
       },
       "private_health_expenditure.SUM": {
        "formatter": "DOUBLE[#,###.00]"
       },
       "servers_count.MEAN": {
        "formatter": "DOUBLE[#,###.00]"
       },
       "servers_count.SUM": {
        "formatter": "INT[#,###]"
       },
       "total_bronze_medals.MEAN": {
        "formatter": "DOUBLE[#,###.00]"
       },
       "total_bronze_medals.SUM": {
        "formatter": "INT[#,###]"
       },
       "total_gold_medals.MEAN": {
        "formatter": "DOUBLE[#,###.00]"
       },
       "total_gold_medals.SUM": {
        "formatter": "INT[#,###]"
       },
       "total_medals.MEAN": {
        "formatter": "DOUBLE[#,###.00]"
       },
       "total_medals.SUM": {
        "formatter": "INT[#,###]"
       },
       "total_silver_medals.MEAN": {
        "formatter": "DOUBLE[#,###.00]"
       },
       "total_silver_medals.SUM": {
        "formatter": "INT[#,###]"
       }
      },
      "text/html": [
       "<ul>\n",
       "<li>Measures\n",
       "  <ul>\n",
       "  <li>annual_gdp_growth.MEAN\n",
       "    <ul>\n",
       "    <li>formatter: DOUBLE[#,###.00]</li>\n",
       "    </ul>\n",
       "  </li>\n",
       "  <li>annual_gdp_growth.SUM\n",
       "    <ul>\n",
       "    <li>formatter: DOUBLE[#,###.00]</li>\n",
       "    </ul>\n",
       "  </li>\n",
       "  <li>athlete_id.MEAN\n",
       "    <ul>\n",
       "    <li>formatter: DOUBLE[#,###.00]</li>\n",
       "    </ul>\n",
       "  </li>\n",
       "  <li>athlete_id.SUM\n",
       "    <ul>\n",
       "    <li>formatter: INT[#,###]</li>\n",
       "    </ul>\n",
       "  </li>\n",
       "  <li>contributors.COUNT\n",
       "    <ul>\n",
       "    <li>formatter: INT[#,###]</li>\n",
       "    </ul>\n",
       "  </li>\n",
       "  <li>current_health_expenditure.MEAN\n",
       "    <ul>\n",
       "    <li>formatter: DOUBLE[#,###.00]</li>\n",
       "    </ul>\n",
       "  </li>\n",
       "  <li>current_health_expenditure.SUM\n",
       "    <ul>\n",
       "    <li>formatter: DOUBLE[#,###.00]</li>\n",
       "    </ul>\n",
       "  </li>\n",
       "  <li>daly_anxiety.MEAN\n",
       "    <ul>\n",
       "    <li>formatter: DOUBLE[#,###.00]</li>\n",
       "    </ul>\n",
       "  </li>\n",
       "  <li>daly_anxiety.SUM\n",
       "    <ul>\n",
       "    <li>formatter: DOUBLE[#,###.00]</li>\n",
       "    </ul>\n",
       "  </li>\n",
       "  <li>daly_bipolar_disorder.MEAN\n",
       "    <ul>\n",
       "    <li>formatter: DOUBLE[#,###.00]</li>\n",
       "    </ul>\n",
       "  </li>\n",
       "  <li>daly_bipolar_disorder.SUM\n",
       "    <ul>\n",
       "    <li>formatter: DOUBLE[#,###.00]</li>\n",
       "    </ul>\n",
       "  </li>\n",
       "  <li>daly_depression.MEAN\n",
       "    <ul>\n",
       "    <li>formatter: DOUBLE[#,###.00]</li>\n",
       "    </ul>\n",
       "  </li>\n",
       "  <li>daly_depression.SUM\n",
       "    <ul>\n",
       "    <li>formatter: DOUBLE[#,###.00]</li>\n",
       "    </ul>\n",
       "  </li>\n",
       "  <li>daly_eating_disorder.MEAN\n",
       "    <ul>\n",
       "    <li>formatter: DOUBLE[#,###.00]</li>\n",
       "    </ul>\n",
       "  </li>\n",
       "  <li>daly_eating_disorder.SUM\n",
       "    <ul>\n",
       "    <li>formatter: DOUBLE[#,###.00]</li>\n",
       "    </ul>\n",
       "  </li>\n",
       "  <li>daly_schizophrenia.MEAN\n",
       "    <ul>\n",
       "    <li>formatter: DOUBLE[#,###.00]</li>\n",
       "    </ul>\n",
       "  </li>\n",
       "  <li>daly_schizophrenia.SUM\n",
       "    <ul>\n",
       "    <li>formatter: DOUBLE[#,###.00]</li>\n",
       "    </ul>\n",
       "  </li>\n",
       "  <li>event_id.MEAN\n",
       "    <ul>\n",
       "    <li>formatter: DOUBLE[#,###.00]</li>\n",
       "    </ul>\n",
       "  </li>\n",
       "  <li>event_id.SUM\n",
       "    <ul>\n",
       "    <li>formatter: INT[#,###]</li>\n",
       "    </ul>\n",
       "  </li>\n",
       "  <li>external_health_expenditure.MEAN\n",
       "    <ul>\n",
       "    <li>formatter: DOUBLE[#,###.00]</li>\n",
       "    </ul>\n",
       "  </li>\n",
       "  <li>external_health_expenditure.SUM\n",
       "    <ul>\n",
       "    <li>formatter: DOUBLE[#,###.00]</li>\n",
       "    </ul>\n",
       "  </li>\n",
       "  <li>gdp_per_capita.MEAN\n",
       "    <ul>\n",
       "    <li>formatter: DOUBLE[#,###.00]</li>\n",
       "    </ul>\n",
       "  </li>\n",
       "  <li>gdp_per_capita.SUM\n",
       "    <ul>\n",
       "    <li>formatter: DOUBLE[#,###.00]</li>\n",
       "    </ul>\n",
       "  </li>\n",
       "  <li>government_health_expenditure.MEAN\n",
       "    <ul>\n",
       "    <li>formatter: DOUBLE[#,###.00]</li>\n",
       "    </ul>\n",
       "  </li>\n",
       "  <li>government_health_expenditure.SUM\n",
       "    <ul>\n",
       "    <li>formatter: DOUBLE[#,###.00]</li>\n",
       "    </ul>\n",
       "  </li>\n",
       "  <li>infant_mortality_rate.MEAN\n",
       "    <ul>\n",
       "    <li>formatter: DOUBLE[#,###.00]</li>\n",
       "    </ul>\n",
       "  </li>\n",
       "  <li>infant_mortality_rate.SUM\n",
       "    <ul>\n",
       "    <li>formatter: DOUBLE[#,###.00]</li>\n",
       "    </ul>\n",
       "  </li>\n",
       "  <li>life_expectancy.MEAN\n",
       "    <ul>\n",
       "    <li>formatter: DOUBLE[#,###.00]</li>\n",
       "    </ul>\n",
       "  </li>\n",
       "  <li>life_expectancy.SUM\n",
       "    <ul>\n",
       "    <li>formatter: DOUBLE[#,###.00]</li>\n",
       "    </ul>\n",
       "  </li>\n",
       "  <li>participant_id.MEAN\n",
       "    <ul>\n",
       "    <li>formatter: DOUBLE[#,###.00]</li>\n",
       "    </ul>\n",
       "  </li>\n",
       "  <li>participant_id.SUM\n",
       "    <ul>\n",
       "    <li>formatter: INT[#,###]</li>\n",
       "    </ul>\n",
       "  </li>\n",
       "  <li>poverty_count.MEAN\n",
       "    <ul>\n",
       "    <li>formatter: DOUBLE[#,###.00]</li>\n",
       "    </ul>\n",
       "  </li>\n",
       "  <li>poverty_count.SUM\n",
       "    <ul>\n",
       "    <li>formatter: DOUBLE[#,###.00]</li>\n",
       "    </ul>\n",
       "  </li>\n",
       "  <li>private_health_expenditure.MEAN\n",
       "    <ul>\n",
       "    <li>formatter: DOUBLE[#,###.00]</li>\n",
       "    </ul>\n",
       "  </li>\n",
       "  <li>private_health_expenditure.SUM\n",
       "    <ul>\n",
       "    <li>formatter: DOUBLE[#,###.00]</li>\n",
       "    </ul>\n",
       "  </li>\n",
       "  <li>servers_count.MEAN\n",
       "    <ul>\n",
       "    <li>formatter: DOUBLE[#,###.00]</li>\n",
       "    </ul>\n",
       "  </li>\n",
       "  <li>servers_count.SUM\n",
       "    <ul>\n",
       "    <li>formatter: INT[#,###]</li>\n",
       "    </ul>\n",
       "  </li>\n",
       "  <li>total_bronze_medals.MEAN\n",
       "    <ul>\n",
       "    <li>formatter: DOUBLE[#,###.00]</li>\n",
       "    </ul>\n",
       "  </li>\n",
       "  <li>total_bronze_medals.SUM\n",
       "    <ul>\n",
       "    <li>formatter: INT[#,###]</li>\n",
       "    </ul>\n",
       "  </li>\n",
       "  <li>total_gold_medals.MEAN\n",
       "    <ul>\n",
       "    <li>formatter: DOUBLE[#,###.00]</li>\n",
       "    </ul>\n",
       "  </li>\n",
       "  <li>total_gold_medals.SUM\n",
       "    <ul>\n",
       "    <li>formatter: INT[#,###]</li>\n",
       "    </ul>\n",
       "  </li>\n",
       "  <li>total_medals.MEAN\n",
       "    <ul>\n",
       "    <li>formatter: DOUBLE[#,###.00]</li>\n",
       "    </ul>\n",
       "  </li>\n",
       "  <li>total_medals.SUM\n",
       "    <ul>\n",
       "    <li>formatter: INT[#,###]</li>\n",
       "    </ul>\n",
       "  </li>\n",
       "  <li>total_silver_medals.MEAN\n",
       "    <ul>\n",
       "    <li>formatter: DOUBLE[#,###.00]</li>\n",
       "    </ul>\n",
       "  </li>\n",
       "  <li>total_silver_medals.SUM\n",
       "    <ul>\n",
       "    <li>formatter: INT[#,###]</li>\n",
       "    </ul>\n",
       "  </li>\n",
       "  </ul>\n",
       "</li>\n",
       "</ul>\n"
      ],
      "text/plain": [
       "{'contributors.COUNT': <atoti.measure.Measure object at 0x7fffb04c6250>, 'update.TIMESTAMP': <atoti.measure.Measure object at 0x7fffb04c5bd0>, 'total_silver_medals.SUM': <atoti.measure.Measure object at 0x7fffb04c6d90>, 'total_silver_medals.MEAN': <atoti.measure.Measure object at 0x7fffb04c5f10>, 'participant_id.SUM': <atoti.measure.Measure object at 0x7fffb04c6310>, 'participant_id.MEAN': <atoti.measure.Measure object at 0x7fffb04c7f50>, 'annual_gdp_growth.SUM': <atoti.measure.Measure object at 0x7fffb04c7810>, 'annual_gdp_growth.MEAN': <atoti.measure.Measure object at 0x7fffb04c6d10>, 'total_gold_medals.SUM': <atoti.measure.Measure object at 0x7fffb04c7cd0>, 'total_gold_medals.MEAN': <atoti.measure.Measure object at 0x7fffb04c4090>, 'daly_schizophrenia.SUM': <atoti.measure.Measure object at 0x7fffb04c57d0>, 'daly_schizophrenia.MEAN': <atoti.measure.Measure object at 0x7fffb04c56d0>, 'total_bronze_medals.SUM': <atoti.measure.Measure object at 0x7fffb04c4b90>, 'total_bronze_medals.MEAN': <atoti.measure.Measure object at 0x7fffb04c55d0>, 'athlete_id.SUM': <atoti.measure.Measure object at 0x7fffb04c5950>, 'athlete_id.MEAN': <atoti.measure.Measure object at 0x7fffb04c4c50>, 'daly_bipolar_disorder.SUM': <atoti.measure.Measure object at 0x7fffb04c4590>, 'daly_bipolar_disorder.MEAN': <atoti.measure.Measure object at 0x7fffb04c4750>, 'external_health_expenditure.SUM': <atoti.measure.Measure object at 0x7fffb04c4710>, 'external_health_expenditure.MEAN': <atoti.measure.Measure object at 0x7fffb04c4790>, 'infant_mortality_rate.SUM': <atoti.measure.Measure object at 0x7fffb04c4690>, 'infant_mortality_rate.MEAN': <atoti.measure.Measure object at 0x7fffb04c7d90>, 'government_health_expenditure.SUM': <atoti.measure.Measure object at 0x7fffb04c41d0>, 'government_health_expenditure.MEAN': <atoti.measure.Measure object at 0x7fffb04c4a90>, 'servers_count.SUM': <atoti.measure.Measure object at 0x7fffb04c6810>, 'servers_count.MEAN': <atoti.measure.Measure object at 0x7fffb04c7e50>, 'event_id.SUM': <atoti.measure.Measure object at 0x7fffb04c5450>, 'event_id.MEAN': <atoti.measure.Measure object at 0x7fffb04c6a50>, 'current_health_expenditure.SUM': <atoti.measure.Measure object at 0x7fffb04c7e90>, 'current_health_expenditure.MEAN': <atoti.measure.Measure object at 0x7fffb04c5810>, 'poverty_count.SUM': <atoti.measure.Measure object at 0x7fffb04c5890>, 'poverty_count.MEAN': <atoti.measure.Measure object at 0x7fffb04c6450>, 'total_medals.SUM': <atoti.measure.Measure object at 0x7fffb04c5a10>, 'total_medals.MEAN': <atoti.measure.Measure object at 0x7fffb04c5750>, 'daly_anxiety.SUM': <atoti.measure.Measure object at 0x7fffb04c5c50>, 'daly_anxiety.MEAN': <atoti.measure.Measure object at 0x7fffb04c6c50>, 'gdp_per_capita.SUM': <atoti.measure.Measure object at 0x7fffb04c5d90>, 'gdp_per_capita.MEAN': <atoti.measure.Measure object at 0x7fffb04c5cd0>, 'life_expectancy.SUM': <atoti.measure.Measure object at 0x7fffb04c6dd0>, 'life_expectancy.MEAN': <atoti.measure.Measure object at 0x7fffb04c48d0>, 'daly_eating_disorder.SUM': <atoti.measure.Measure object at 0x7fffb04c6b90>, 'daly_eating_disorder.MEAN': <atoti.measure.Measure object at 0x7fffb04c5390>, 'private_health_expenditure.SUM': <atoti.measure.Measure object at 0x7fffb04c5290>, 'private_health_expenditure.MEAN': <atoti.measure.Measure object at 0x7fffb04c4650>, 'daly_depression.SUM': <atoti.measure.Measure object at 0x7fffb04c5550>, 'daly_depression.MEAN': <atoti.measure.Measure object at 0x7fffb04c5250>}"
      ]
     },
     "execution_count": 27,
     "metadata": {
      "application/json": {
       "expanded": false,
       "root": "Measures"
      }
     },
     "output_type": "execute_result"
    }
   ],
   "source": [
    "measures\n"
   ]
  },
  {
   "cell_type": "code",
   "execution_count": 28,
   "id": "ead723e3-c400-4838-8fe2-d15924b6ba2e",
   "metadata": {},
   "outputs": [],
   "source": [
    "del measures[\"athlete_id.MEAN\"]\n",
    "\n",
    "\n",
    "del measures[\"contributors.COUNT\"]\n",
    "\n",
    "del measures[\"athlete_id.SUM\"]\n",
    "\n",
    "del measures[\"event_id.MEAN\"]\n",
    "\n",
    "del measures[\"event_id.SUM\"]\n",
    "del measures[\"participant_id.MEAN\"]\n",
    "del measures[\"participant_id.SUM\"]"
   ]
  },
  {
   "cell_type": "code",
   "execution_count": 29,
   "id": "7773171e-412c-46bb-989e-381c70a70213",
   "metadata": {},
   "outputs": [
    {
     "data": {
      "application/json": {
       "annual_gdp_growth.MEAN": {
        "formatter": "DOUBLE[#,###.00]"
       },
       "annual_gdp_growth.SUM": {
        "formatter": "DOUBLE[#,###.00]"
       },
       "current_health_expenditure.MEAN": {
        "formatter": "DOUBLE[#,###.00]"
       },
       "current_health_expenditure.SUM": {
        "formatter": "DOUBLE[#,###.00]"
       },
       "daly_anxiety.MEAN": {
        "formatter": "DOUBLE[#,###.00]"
       },
       "daly_anxiety.SUM": {
        "formatter": "DOUBLE[#,###.00]"
       },
       "daly_bipolar_disorder.MEAN": {
        "formatter": "DOUBLE[#,###.00]"
       },
       "daly_bipolar_disorder.SUM": {
        "formatter": "DOUBLE[#,###.00]"
       },
       "daly_depression.MEAN": {
        "formatter": "DOUBLE[#,###.00]"
       },
       "daly_depression.SUM": {
        "formatter": "DOUBLE[#,###.00]"
       },
       "daly_eating_disorder.MEAN": {
        "formatter": "DOUBLE[#,###.00]"
       },
       "daly_eating_disorder.SUM": {
        "formatter": "DOUBLE[#,###.00]"
       },
       "daly_schizophrenia.MEAN": {
        "formatter": "DOUBLE[#,###.00]"
       },
       "daly_schizophrenia.SUM": {
        "formatter": "DOUBLE[#,###.00]"
       },
       "external_health_expenditure.MEAN": {
        "formatter": "DOUBLE[#,###.00]"
       },
       "external_health_expenditure.SUM": {
        "formatter": "DOUBLE[#,###.00]"
       },
       "gdp_per_capita.MEAN": {
        "formatter": "DOUBLE[#,###.00]"
       },
       "gdp_per_capita.SUM": {
        "formatter": "DOUBLE[#,###.00]"
       },
       "government_health_expenditure.MEAN": {
        "formatter": "DOUBLE[#,###.00]"
       },
       "government_health_expenditure.SUM": {
        "formatter": "DOUBLE[#,###.00]"
       },
       "infant_mortality_rate.MEAN": {
        "formatter": "DOUBLE[#,###.00]"
       },
       "infant_mortality_rate.SUM": {
        "formatter": "DOUBLE[#,###.00]"
       },
       "life_expectancy.MEAN": {
        "formatter": "DOUBLE[#,###.00]"
       },
       "life_expectancy.SUM": {
        "formatter": "DOUBLE[#,###.00]"
       },
       "poverty_count.MEAN": {
        "formatter": "DOUBLE[#,###.00]"
       },
       "poverty_count.SUM": {
        "formatter": "DOUBLE[#,###.00]"
       },
       "private_health_expenditure.MEAN": {
        "formatter": "DOUBLE[#,###.00]"
       },
       "private_health_expenditure.SUM": {
        "formatter": "DOUBLE[#,###.00]"
       },
       "servers_count.MEAN": {
        "formatter": "DOUBLE[#,###.00]"
       },
       "servers_count.SUM": {
        "formatter": "INT[#,###]"
       },
       "total_bronze_medals.MEAN": {
        "formatter": "DOUBLE[#,###.00]"
       },
       "total_bronze_medals.SUM": {
        "formatter": "INT[#,###]"
       },
       "total_gold_medals.MEAN": {
        "formatter": "DOUBLE[#,###.00]"
       },
       "total_gold_medals.SUM": {
        "formatter": "INT[#,###]"
       },
       "total_medals.MEAN": {
        "formatter": "DOUBLE[#,###.00]"
       },
       "total_medals.SUM": {
        "formatter": "INT[#,###]"
       },
       "total_silver_medals.MEAN": {
        "formatter": "DOUBLE[#,###.00]"
       },
       "total_silver_medals.SUM": {
        "formatter": "INT[#,###]"
       }
      },
      "text/html": [
       "<ul>\n",
       "<li>Measures\n",
       "  <ul>\n",
       "  <li>annual_gdp_growth.MEAN\n",
       "    <ul>\n",
       "    <li>formatter: DOUBLE[#,###.00]</li>\n",
       "    </ul>\n",
       "  </li>\n",
       "  <li>annual_gdp_growth.SUM\n",
       "    <ul>\n",
       "    <li>formatter: DOUBLE[#,###.00]</li>\n",
       "    </ul>\n",
       "  </li>\n",
       "  <li>current_health_expenditure.MEAN\n",
       "    <ul>\n",
       "    <li>formatter: DOUBLE[#,###.00]</li>\n",
       "    </ul>\n",
       "  </li>\n",
       "  <li>current_health_expenditure.SUM\n",
       "    <ul>\n",
       "    <li>formatter: DOUBLE[#,###.00]</li>\n",
       "    </ul>\n",
       "  </li>\n",
       "  <li>daly_anxiety.MEAN\n",
       "    <ul>\n",
       "    <li>formatter: DOUBLE[#,###.00]</li>\n",
       "    </ul>\n",
       "  </li>\n",
       "  <li>daly_anxiety.SUM\n",
       "    <ul>\n",
       "    <li>formatter: DOUBLE[#,###.00]</li>\n",
       "    </ul>\n",
       "  </li>\n",
       "  <li>daly_bipolar_disorder.MEAN\n",
       "    <ul>\n",
       "    <li>formatter: DOUBLE[#,###.00]</li>\n",
       "    </ul>\n",
       "  </li>\n",
       "  <li>daly_bipolar_disorder.SUM\n",
       "    <ul>\n",
       "    <li>formatter: DOUBLE[#,###.00]</li>\n",
       "    </ul>\n",
       "  </li>\n",
       "  <li>daly_depression.MEAN\n",
       "    <ul>\n",
       "    <li>formatter: DOUBLE[#,###.00]</li>\n",
       "    </ul>\n",
       "  </li>\n",
       "  <li>daly_depression.SUM\n",
       "    <ul>\n",
       "    <li>formatter: DOUBLE[#,###.00]</li>\n",
       "    </ul>\n",
       "  </li>\n",
       "  <li>daly_eating_disorder.MEAN\n",
       "    <ul>\n",
       "    <li>formatter: DOUBLE[#,###.00]</li>\n",
       "    </ul>\n",
       "  </li>\n",
       "  <li>daly_eating_disorder.SUM\n",
       "    <ul>\n",
       "    <li>formatter: DOUBLE[#,###.00]</li>\n",
       "    </ul>\n",
       "  </li>\n",
       "  <li>daly_schizophrenia.MEAN\n",
       "    <ul>\n",
       "    <li>formatter: DOUBLE[#,###.00]</li>\n",
       "    </ul>\n",
       "  </li>\n",
       "  <li>daly_schizophrenia.SUM\n",
       "    <ul>\n",
       "    <li>formatter: DOUBLE[#,###.00]</li>\n",
       "    </ul>\n",
       "  </li>\n",
       "  <li>external_health_expenditure.MEAN\n",
       "    <ul>\n",
       "    <li>formatter: DOUBLE[#,###.00]</li>\n",
       "    </ul>\n",
       "  </li>\n",
       "  <li>external_health_expenditure.SUM\n",
       "    <ul>\n",
       "    <li>formatter: DOUBLE[#,###.00]</li>\n",
       "    </ul>\n",
       "  </li>\n",
       "  <li>gdp_per_capita.MEAN\n",
       "    <ul>\n",
       "    <li>formatter: DOUBLE[#,###.00]</li>\n",
       "    </ul>\n",
       "  </li>\n",
       "  <li>gdp_per_capita.SUM\n",
       "    <ul>\n",
       "    <li>formatter: DOUBLE[#,###.00]</li>\n",
       "    </ul>\n",
       "  </li>\n",
       "  <li>government_health_expenditure.MEAN\n",
       "    <ul>\n",
       "    <li>formatter: DOUBLE[#,###.00]</li>\n",
       "    </ul>\n",
       "  </li>\n",
       "  <li>government_health_expenditure.SUM\n",
       "    <ul>\n",
       "    <li>formatter: DOUBLE[#,###.00]</li>\n",
       "    </ul>\n",
       "  </li>\n",
       "  <li>infant_mortality_rate.MEAN\n",
       "    <ul>\n",
       "    <li>formatter: DOUBLE[#,###.00]</li>\n",
       "    </ul>\n",
       "  </li>\n",
       "  <li>infant_mortality_rate.SUM\n",
       "    <ul>\n",
       "    <li>formatter: DOUBLE[#,###.00]</li>\n",
       "    </ul>\n",
       "  </li>\n",
       "  <li>life_expectancy.MEAN\n",
       "    <ul>\n",
       "    <li>formatter: DOUBLE[#,###.00]</li>\n",
       "    </ul>\n",
       "  </li>\n",
       "  <li>life_expectancy.SUM\n",
       "    <ul>\n",
       "    <li>formatter: DOUBLE[#,###.00]</li>\n",
       "    </ul>\n",
       "  </li>\n",
       "  <li>poverty_count.MEAN\n",
       "    <ul>\n",
       "    <li>formatter: DOUBLE[#,###.00]</li>\n",
       "    </ul>\n",
       "  </li>\n",
       "  <li>poverty_count.SUM\n",
       "    <ul>\n",
       "    <li>formatter: DOUBLE[#,###.00]</li>\n",
       "    </ul>\n",
       "  </li>\n",
       "  <li>private_health_expenditure.MEAN\n",
       "    <ul>\n",
       "    <li>formatter: DOUBLE[#,###.00]</li>\n",
       "    </ul>\n",
       "  </li>\n",
       "  <li>private_health_expenditure.SUM\n",
       "    <ul>\n",
       "    <li>formatter: DOUBLE[#,###.00]</li>\n",
       "    </ul>\n",
       "  </li>\n",
       "  <li>servers_count.MEAN\n",
       "    <ul>\n",
       "    <li>formatter: DOUBLE[#,###.00]</li>\n",
       "    </ul>\n",
       "  </li>\n",
       "  <li>servers_count.SUM\n",
       "    <ul>\n",
       "    <li>formatter: INT[#,###]</li>\n",
       "    </ul>\n",
       "  </li>\n",
       "  <li>total_bronze_medals.MEAN\n",
       "    <ul>\n",
       "    <li>formatter: DOUBLE[#,###.00]</li>\n",
       "    </ul>\n",
       "  </li>\n",
       "  <li>total_bronze_medals.SUM\n",
       "    <ul>\n",
       "    <li>formatter: INT[#,###]</li>\n",
       "    </ul>\n",
       "  </li>\n",
       "  <li>total_gold_medals.MEAN\n",
       "    <ul>\n",
       "    <li>formatter: DOUBLE[#,###.00]</li>\n",
       "    </ul>\n",
       "  </li>\n",
       "  <li>total_gold_medals.SUM\n",
       "    <ul>\n",
       "    <li>formatter: INT[#,###]</li>\n",
       "    </ul>\n",
       "  </li>\n",
       "  <li>total_medals.MEAN\n",
       "    <ul>\n",
       "    <li>formatter: DOUBLE[#,###.00]</li>\n",
       "    </ul>\n",
       "  </li>\n",
       "  <li>total_medals.SUM\n",
       "    <ul>\n",
       "    <li>formatter: INT[#,###]</li>\n",
       "    </ul>\n",
       "  </li>\n",
       "  <li>total_silver_medals.MEAN\n",
       "    <ul>\n",
       "    <li>formatter: DOUBLE[#,###.00]</li>\n",
       "    </ul>\n",
       "  </li>\n",
       "  <li>total_silver_medals.SUM\n",
       "    <ul>\n",
       "    <li>formatter: INT[#,###]</li>\n",
       "    </ul>\n",
       "  </li>\n",
       "  </ul>\n",
       "</li>\n",
       "</ul>\n"
      ],
      "text/plain": [
       "{'update.TIMESTAMP': <atoti.measure.Measure object at 0x7fffb0510b50>, 'total_silver_medals.SUM': <atoti.measure.Measure object at 0x7fffb0513410>, 'total_silver_medals.MEAN': <atoti.measure.Measure object at 0x7fffb0513510>, 'annual_gdp_growth.SUM': <atoti.measure.Measure object at 0x7fffb0511dd0>, 'annual_gdp_growth.MEAN': <atoti.measure.Measure object at 0x7fffb0512a10>, 'total_gold_medals.SUM': <atoti.measure.Measure object at 0x7fffb0510a10>, 'total_gold_medals.MEAN': <atoti.measure.Measure object at 0x7fffb0511850>, 'daly_schizophrenia.SUM': <atoti.measure.Measure object at 0x7fffb0511b90>, 'daly_schizophrenia.MEAN': <atoti.measure.Measure object at 0x7fffb05120d0>, 'total_bronze_medals.SUM': <atoti.measure.Measure object at 0x7fffb0510e90>, 'total_bronze_medals.MEAN': <atoti.measure.Measure object at 0x7fffb0511e10>, 'daly_bipolar_disorder.SUM': <atoti.measure.Measure object at 0x7fffb0510c10>, 'daly_bipolar_disorder.MEAN': <atoti.measure.Measure object at 0x7fffb0511d90>, 'external_health_expenditure.SUM': <atoti.measure.Measure object at 0x7fffb0510dd0>, 'external_health_expenditure.MEAN': <atoti.measure.Measure object at 0x7fffb0513b50>, 'infant_mortality_rate.SUM': <atoti.measure.Measure object at 0x7fffb05129d0>, 'infant_mortality_rate.MEAN': <atoti.measure.Measure object at 0x7fffb0511a50>, 'government_health_expenditure.SUM': <atoti.measure.Measure object at 0x7fffb0513690>, 'government_health_expenditure.MEAN': <atoti.measure.Measure object at 0x7fffb0510510>, 'servers_count.SUM': <atoti.measure.Measure object at 0x7fffb0513e90>, 'servers_count.MEAN': <atoti.measure.Measure object at 0x7fffb0511fd0>, 'current_health_expenditure.SUM': <atoti.measure.Measure object at 0x7fffb0513f90>, 'current_health_expenditure.MEAN': <atoti.measure.Measure object at 0x7fffb0513f10>, 'poverty_count.SUM': <atoti.measure.Measure object at 0x7fffb0512990>, 'poverty_count.MEAN': <atoti.measure.Measure object at 0x7fffb0513d90>, 'total_medals.SUM': <atoti.measure.Measure object at 0x7fffb0510ad0>, 'total_medals.MEAN': <atoti.measure.Measure object at 0x7fffb0511910>, 'daly_anxiety.SUM': <atoti.measure.Measure object at 0x7fffb0513bd0>, 'daly_anxiety.MEAN': <atoti.measure.Measure object at 0x7fffb0513450>, 'gdp_per_capita.SUM': <atoti.measure.Measure object at 0x7fffb0513550>, 'gdp_per_capita.MEAN': <atoti.measure.Measure object at 0x7fffb0513490>, 'life_expectancy.SUM': <atoti.measure.Measure object at 0x7fffb0513d50>, 'life_expectancy.MEAN': <atoti.measure.Measure object at 0x7fffb0511a90>, 'daly_eating_disorder.SUM': <atoti.measure.Measure object at 0x7fffb0513150>, 'daly_eating_disorder.MEAN': <atoti.measure.Measure object at 0x7fffb0510fd0>, 'private_health_expenditure.SUM': <atoti.measure.Measure object at 0x7fffb0512950>, 'private_health_expenditure.MEAN': <atoti.measure.Measure object at 0x7fffb0511010>, 'daly_depression.SUM': <atoti.measure.Measure object at 0x7fffb0511490>, 'daly_depression.MEAN': <atoti.measure.Measure object at 0x7fffb0510c90>}"
      ]
     },
     "execution_count": 29,
     "metadata": {
      "application/json": {
       "expanded": false,
       "root": "Measures"
      }
     },
     "output_type": "execute_result"
    }
   ],
   "source": [
    "measures"
   ]
  },
  {
   "cell_type": "code",
   "execution_count": 30,
   "id": "fb4e1cc9-3050-44b3-9cb5-bbeb96451643",
   "metadata": {},
   "outputs": [
    {
     "data": {
      "application/vnd.atoti.widget.v0+json": {
       "sessionId": "1713796889_WQ428V",
       "sessionLocation": {
        "https": false,
        "port": 9092
       },
       "widgetCreationCode": "session.widget"
      },
      "text/html": [
       "<img height=\"352\" width=\"2166\" src=\"data:image/png;base64,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\" />"
      ],
      "text/plain": [
       "Open the notebook in JupyterLab with the Atoti JupyterLab extension enabled to build this widget."
      ]
     },
     "metadata": {},
     "output_type": "display_data"
    }
   ],
   "source": [
    "session.widget"
   ]
  },
  {
   "cell_type": "code",
   "execution_count": 31,
   "id": "3e1594b4-222b-4eef-819b-6243209ec8c2",
   "metadata": {},
   "outputs": [
    {
     "data": {
      "application/vnd.atoti.link.v0+json": {
       "path": "",
       "sessionLocation": {
        "https": false,
        "port": 9092
       }
      },
      "text/markdown": [
       "http://localhost:9092\n",
       "\n",
       "_Note_: This is the session's local URL: it may not be reachable if Atoti is running on another machine."
      ],
      "text/plain": [
       "http://localhost:9092 (This is the session's local URL: it may not be reachable if Atoti is running on another machine.)"
      ]
     },
     "execution_count": 31,
     "metadata": {},
     "output_type": "execute_result"
    }
   ],
   "source": [
    "session.link"
   ]
  },
  {
   "cell_type": "code",
   "execution_count": 32,
   "id": "53073f0c-eea4-4bb6-a1af-7ef8726cbe1c",
   "metadata": {},
   "outputs": [],
   "source": [
    "# m[\"Price.VALUE\"] = tt.agg.single_value(table[\"Price\"])\n",
    "\n",
    "# Create new measures for data visualisation. Since, we require data point for each year, I created single value measure for the following\n",
    "\n",
    "measures[\"daly_anxiety.VALUE\"] = tt.agg.single_value(combined_fact_table[\"daly_anxiety\"])\n",
    "\n",
    "measures[\"daly_bipolar_disorder.VALUE\"] = tt.agg.single_value(combined_fact_table[\"daly_bipolar_disorder\"])\n",
    "\n",
    "measures[\"daly_depression.VALUE\"] = tt.agg.single_value(combined_fact_table[\"daly_depression\"])\n",
    "\n",
    "measures[\"daly_eating_disorder.VALUE\"] = tt.agg.single_value(combined_fact_table[\"daly_eating_disorder\"])\n",
    "\n",
    "measures[\"daly_schizophrenia.VALUE\"] = tt.agg.single_value(combined_fact_table[\"daly_schizophrenia\"])\n",
    "\n",
    "measures[\"life_expectancy.VALUE\"] = tt.agg.single_value(combined_fact_table[\"life_expectancy\"])\n",
    "\n",
    "measures[\"current_health_expenditure.VALUE\"] = tt.agg.single_value(combined_fact_table[\"current_health_expenditure\"])\n",
    "\n",
    "measures[\"external_health_expenditure.VALUE\"] = tt.agg.single_value(combined_fact_table[\"external_health_expenditure\"])\n",
    "\n",
    "measures[\"government_health_expenditure.VALUE\"] = tt.agg.single_value(combined_fact_table[\"government_health_expenditure\"])\n",
    "\n",
    "measures[\"infant_mortality_rate.VALUE\"] = tt.agg.single_value(combined_fact_table[\"infant_mortality_rate\"])\n",
    "\n",
    "measures[\"private_health_expenditure.VALUE\"] = tt.agg.single_value(combined_fact_table[\"private_health_expenditure\"])\n",
    "\n",
    "measures[\"annual_gdp_growth.VALUE\"] = tt.agg.single_value(combined_fact_table[\"annual_gdp_growth\"])\n",
    "\n",
    "measures[\"poverty_count.VALUE\"] = tt.agg.single_value(combined_fact_table[\"poverty_count\"])"
   ]
  },
  {
   "cell_type": "markdown",
   "id": "d7d2a386-a0cb-4316-8774-8a39ddfd51b9",
   "metadata": {},
   "source": [
    "The above measure have been used for the visualisation in the report."
   ]
  },
  {
   "cell_type": "code",
   "execution_count": 33,
   "id": "b7c100e6-8d3b-4b9b-8bda-5d93e16a2aed",
   "metadata": {},
   "outputs": [],
   "source": [
    "measures[\"servers_count.VALUE\"] = tt.agg.single_value(combined_fact_table[\"servers_count\"])"
   ]
  }
 ],
 "metadata": {
  "kernelspec": {
   "display_name": "Python 3 (ipykernel)",
   "language": "python",
   "name": "python3"
  },
  "language_info": {
   "codemirror_mode": {
    "name": "ipython",
    "version": 3
   },
   "file_extension": ".py",
   "mimetype": "text/x-python",
   "name": "python",
   "nbconvert_exporter": "python",
   "pygments_lexer": "ipython3",
   "version": "3.11.6"
  }
 },
 "nbformat": 4,
 "nbformat_minor": 5
}
